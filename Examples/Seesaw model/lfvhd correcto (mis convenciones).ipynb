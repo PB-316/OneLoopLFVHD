{
 "cells": [
  {
   "cell_type": "markdown",
   "metadata": {},
   "source": [
    "# LFV Higgs decays in SeeSaw model (Consistent conventions)"
   ]
  },
  {
   "cell_type": "markdown",
   "metadata": {},
   "source": [
    "In this model the couplings that allows LFVHD are given by \n",
    "\n",
    "| Vertex|coupling&nbsp;&nbsp;&nbsp;&nbsp;&nbsp;&nbsp;&nbsp;&nbsp;&nbsp;&nbsp;&nbsp;&nbsp;&nbsp;&nbsp;&nbsp;&nbsp;&nbsp;&nbsp;&nbsp;&nbsp;&nbsp;&nbsp;&nbsp;&nbsp;&nbsp;&nbsp;&nbsp;&nbsp;&nbsp;&nbsp;&nbsp;&nbsp;&nbsp;&nbsp;&nbsp;&nbsp;&nbsp;&nbsp;&nbsp;&nbsp;&nbsp;&nbsp;&nbsp;|Vertex|coupling&nbsp;&nbsp;&nbsp;&nbsp;&nbsp;&nbsp;&nbsp;&nbsp;&nbsp;&nbsp;&nbsp;&nbsp;&nbsp;&nbsp;&nbsp;&nbsp;&nbsp;&nbsp;&nbsp;&nbsp;&nbsp;&nbsp;&nbsp;&nbsp;&nbsp;&nbsp;&nbsp;&nbsp;&nbsp;&nbsp;&nbsp;&nbsp;&nbsp;&nbsp;&nbsp;&nbsp;&nbsp;&nbsp;&nbsp;&nbsp;&nbsp;&nbsp;&nbsp;|\n",
    "|-------------------------------------------------|------------------------------------------------------------------------------------------------------------------------------|------------------------------------------------------|---------------------------------------------------------------------------------------------------------------------------------|\n",
    "|$h W^{+\\mu} W^{-\\nu}$|$i g m_{W} g_{\\mu \\nu}$|$h G_{W}^{+} G_{W}^{-}$|$\\frac{-igm_h^2}{2 m_W}$|\n",
    "|$h G_{W}^{+} {W}^{-\\mu}$|$\\frac{ig}{2}(p_{+}- p_0)_{\\mu}$|$h G_{W}^{-} W^{+\\mu}$|$\\frac{i g}{2}\\left(p_{0}-p_{-}\\right)_{\\mu}$|\n",
    "|$\\bar{n}_{i} e_{a} W_{\\mu}^{+}$|$\\frac{i g}{\\sqrt{2}} U_{a i}^{\\nu} \\gamma^{\\mu} P_{L}$|$\\overline{e_{a}} n_{j} W_{\\mu}^{-}$|$\\frac{i g}{\\sqrt{2}} U_{a j}^{\\nu *} \\gamma^{\\mu} P_{L}$|\n",
    "|$\\bar{n}_{i} e_{a} G_{W}^{+}$|$-\\frac{i g}{\\sqrt{2} m_{W}} U_{a i}^{\\nu}\\left(m_{e_{a}} P_{R}-m_{n, i} P_{L}\\right)$|$\\overline{e_{a}} n_{j} G_{W}^{-}$|$-\\frac{i g}{\\sqrt{2} m_{W}} U_{a j}^{\\nu *}\\left(m_{e_{a}} P_{L}-m_{n, j} P_{R}\\right)$|\n",
    "|$h\\overline{n_i}n_j$|$\\frac{-i g}{2 m_W}\\left[C_{i j}\\left(P_{L} m_{n_{i}}+P_{R} m_{n_{j}}\\right) \\quad+C_{i j}^{*}\\left(P_{L} m_{n_{j}}+P_{R} m_{n_{i}}\\right)\\right]$|$h\\overline{e_a}e_a$|$\\frac{-ig m_{e_a}}{2 m_W}$|\n",
    "\n",
    "\n"
   ]
  },
  {
   "cell_type": "code",
   "execution_count": 1,
   "metadata": {},
   "outputs": [],
   "source": [
    "from sympy import symbols, init_printing, conjugate,I,pi,IndexedBase,sqrt,Add,simplify,factor,conjugate\n",
    "init_printing()"
   ]
  },
  {
   "cell_type": "markdown",
   "metadata": {},
   "source": [
    "**Assigning masses of initial and final particles**"
   ]
  },
  {
   "cell_type": "code",
   "execution_count": 2,
   "metadata": {},
   "outputs": [],
   "source": [
    "import OneLoopLFVHD as lfvhd"
   ]
  },
  {
   "cell_type": "markdown",
   "metadata": {},
   "source": [
    "**Defining symbolic variables**"
   ]
  },
  {
   "cell_type": "code",
   "execution_count": 3,
   "metadata": {},
   "outputs": [],
   "source": [
    "g = symbols('g',positive=True)\n",
    "mW,mG = symbols('m_W,m_G',positive=True)\n",
    "\n",
    "\n",
    "Uν = IndexedBase(r'{{U^\\nu}}')\n",
    "Uνc = IndexedBase(r'{{U^{\\nu *}}}')\n",
    "mn = IndexedBase(r'{{m_n}}')\n",
    "#me = IndexedBase(r'{{m_e}}')\n",
    "C = IndexedBase(r'C')\n",
    "Cc = IndexedBase(r'{{C^*}}')\n",
    "a,b,i,j = symbols('a,b,i,j',integer=True)"
   ]
  },
  {
   "cell_type": "code",
   "execution_count": 4,
   "metadata": {},
   "outputs": [],
   "source": [
    "mh = lfvhd.ma\n",
    "me = {a:lfvhd.mi,b:lfvhd.mj}\n",
    "me\n",
    "m = IndexedBase('m')\n",
    "h,ea,eb = symbols('h,e_a,e_b');"
   ]
  },
  {
   "cell_type": "markdown",
   "metadata": {},
   "source": [
    "**Defining vertexes**"
   ]
  },
  {
   "cell_type": "code",
   "execution_count": 5,
   "metadata": {},
   "outputs": [],
   "source": [
    "vertexhWW = lfvhd.VertexHVV(I*g*mW)\n",
    "vertexhGG = lfvhd.VertexHSS((-I*g*mh**2)/(2*mW))\n",
    "\n",
    "vertexhWG = lfvhd.VertexHVpSm(I*g/2)\n",
    "vertexhGW = lfvhd.VertexHSpVm(I*g/2)\n",
    "\n",
    "vertexneWu =lambda i,a: lfvhd.VertexVFF(0,I*g/sqrt(2)*Uν[a,i])\n",
    "vertexenWd =lambda j,b: lfvhd.VertexVFF(0,I*g/sqrt(2)*Uνc[b,j])\n",
    "\n",
    "vertexneGu = lambda i,a: lfvhd.VertexSFF((-I*g)/(sqrt(2)*mW)*m[a]*Uν[a,i],\n",
    "                                         (I*g)/(sqrt(2)*mW)*mn[i]*Uν[a,i])\n",
    "\n",
    "vertexenGd = lambda j,b: lfvhd.VertexSFF((I*g)/(sqrt(2)*mW)*mn[j]*Uνc[b,j],\n",
    "                                         (-I*g)/(sqrt(2)*mW)*m[b]*Uνc[b,j])\n",
    "\n",
    "vertexhnn = lambda i,j: lfvhd.VertexHF0F0((-I*g)/(2*mW)*(mn[j]*C[i,j] + mn[i]*Cc[i,j]),\n",
    "                                          (-I*g)/(2*mW)*(mn[i]*C[i,j] + mn[j]*Cc[i,j]))\n",
    "\n",
    "vertexhee = lambda a:lfvhd.VertexHFF((-I*g*me[a])/(2*mW))"
   ]
  },
  {
   "cell_type": "markdown",
   "metadata": {},
   "source": [
    "## Form factors of SeeSaw model"
   ]
  },
  {
   "cell_type": "markdown",
   "metadata": {},
   "source": [
    "We are taking the diagrams of [Lepton flavor violating Higgs boson decays from massive seesaw neutrinos](https://arxiv.org/pdf/hep-ph/0407302.pdf), and we reproduce the form factor of [Lepton flavor violating Higgs boson decays in seesaw models: New discussions](https://inspirehep.net/files/b569c392f2240d487f9731316b2d5ffc)"
   ]
  },
  {
   "cell_type": "markdown",
   "metadata": {},
   "source": [
    "### Triangle Gninj\n",
    "The **left** form factor\n",
    "\n",
    "$$\\begin{aligned} F_{L}^{(1)} &=-\\frac{g^{3} m_{a}}{64 \\pi^{2} m_{W}^{3}} \\sum_{i, j=1}^{K+3} B_{a i} B_{b j}^{*}\\left\\{C_{i j}\\left[m_{n j}^{2}\\left(B_{0}^{(12)}+m_{W}^{2} C_{0}\\right)\\right.\\right.\\\\ &\\left.-\\left(m_{a}^{2} m_{n j}^{2}+m_{b}^{2} m_{n_{i}}^{2}-2 m_{n_{i}}^{2} m_{n_{j}}^{2}\\right) C_{1}\\right] \\\\ &\\left.+m_{n_{i}} m_{n_{j}} C_{i j}^{*}\\left[B_{0}^{(12)}+m_{W}^{2} C_{0}+\\left(m_{n_{i}}^{2}+m_{n_{j}}^{2}-m_{a}^{2}-m_{b}^{2}\\right) C_{1}\\right]\\right\\} \\end{aligned}$$"
   ]
  },
  {
   "cell_type": "code",
   "execution_count": 6,
   "metadata": {},
   "outputs": [],
   "source": [
    "A = g**3/(64*pi**2*mW**3)\n",
    "\n",
    "cambios = {lfvhd.ma:m[h],lfvhd.mi:m[a],lfvhd.mj:m[b]}"
   ]
  },
  {
   "cell_type": "code",
   "execution_count": 7,
   "metadata": {},
   "outputs": [
    {
     "data": {
      "image/png": "[encoded data removed]",
      "text/latex": [
       "$\\displaystyle - \\left(\\left(m_{W}^{2} \\operatorname{C_{0}}{\\left(m_{W},{{{m_n}}}_{i},{{{m_n}}}_{j} \\right)} {m}_{b} + \\left({m}_{a}^{2} + {m}_{b}^{2} - {{{m_n}}}_{i}^{2} - {{{m_n}}}_{j}^{2}\\right) \\operatorname{C_{2}}{\\left(m_{W},{{{m_n}}}_{i},{{{m_n}}}_{j} \\right)} {m}_{b} + \\operatorname{{{B^{(12)}_{0}}}}{\\left({{{m_n}}}_{i},{{{m_n}}}_{j} \\right)} {m}_{b}\\right) {C}_{i,j} {{{m_n}}}_{i} {{{m_n}}}_{j} + \\left(m_{W}^{2} \\operatorname{C_{0}}{\\left(m_{W},{{{m_n}}}_{i},{{{m_n}}}_{j} \\right)} {m}_{b} {{{m_n}}}_{i}^{2} + \\left({m}_{a}^{2} {{{m_n}}}_{j}^{2} + {m}_{b}^{2} {{{m_n}}}_{i}^{2} - 2 {{{m_n}}}_{i}^{2} {{{m_n}}}_{j}^{2}\\right) \\operatorname{C_{2}}{\\left(m_{W},{{{m_n}}}_{i},{{{m_n}}}_{j} \\right)} {m}_{b} + \\operatorname{{{B^{(12)}_{0}}}}{\\left({{{m_n}}}_{i},{{{m_n}}}_{j} \\right)} {m}_{b} {{{m_n}}}_{i}^{2}\\right) {{{C^*}}}_{i,j}\\right) {{{U^\\nu}}}_{a,i} {{{U^{\\nu *}}}}_{b,j}$"
      ],
      "text/plain": [
       " ⎛⎛   2                                        ⎛    2       2             2   \n",
       "-⎝⎝m_W ⋅C₀(m_W, {{m_n}}[i], {{m_n}}[j])⋅m[b] + ⎝m[a]  + m[b]  - {{m_n}}[i]  - \n",
       "\n",
       "          2⎞                                                                  \n",
       "{{m_n}}[j] ⎠⋅C₂(m_W, {{m_n}}[i], {{m_n}}[j])⋅m[b] + {{B_{0}}}__{(12)}({{m_n}}[\n",
       "\n",
       "                    ⎞                                 ⎛   2                   \n",
       "i], {{m_n}}[j])⋅m[b]⎠⋅C[i, j]⋅{{m_n}}[i]⋅{{m_n}}[j] + ⎝m_W ⋅C₀(m_W, {{m_n}}[i]\n",
       "\n",
       "                             2   ⎛    2           2       2           2       \n",
       ", {{m_n}}[j])⋅m[b]⋅{{m_n}}[i]  + ⎝m[a] ⋅{{m_n}}[j]  + m[b] ⋅{{m_n}}[i]  - 2⋅{{\n",
       "\n",
       "        2           2⎞                                                        \n",
       "m_n}}[i] ⋅{{m_n}}[j] ⎠⋅C₂(m_W, {{m_n}}[i], {{m_n}}[j])⋅m[b] + {{B_{0}}}__{(12)\n",
       "\n",
       "                                         2⎞              ⎞                    \n",
       "}({{m_n}}[i], {{m_n}}[j])⋅m[b]⋅{{m_n}}[i] ⎠⋅{{C^*}}[i, j]⎠⋅{{U^\\nu}}[a, i]⋅{{U\n",
       "\n",
       "                \n",
       "^{\\nu *}}}[b, j]"
      ]
     },
     "execution_count": 7,
     "metadata": {},
     "output_type": "execute_result"
    }
   ],
   "source": [
    "triangleGninj = lfvhd.TriangleSFF(vertexhnn(i,j),vertexenGd(j,b),vertexneGu(i,a),[mW,mn[i],mn[j]])\n",
    "\n",
    "AL1 = (-triangleGninj.AL()/A).expand().collect([C[i,j],Cc[i,j]],simplify).collect([\n",
    "    lfvhd.C2(mW,mn[i],mn[j])]).simplify().subs(cambios)\n",
    "AL1"
   ]
  },
  {
   "cell_type": "markdown",
   "metadata": {},
   "source": [
    "**Divergent term of $A_L^1$**"
   ]
  },
  {
   "cell_type": "code",
   "execution_count": 8,
   "metadata": {},
   "outputs": [
    {
     "data": {
      "image/png": "[encoded data removed]",
      "text/latex": [
       "$\\displaystyle - \\Delta_\\epsilon \\left({C}_{i,j} {{{m_n}}}_{j} + {{{C^*}}}_{i,j} {{{m_n}}}_{i}\\right) {m}_{b} {{{U^\\nu}}}_{a,i} {{{U^{\\nu *}}}}_{b,j} {{{m_n}}}_{i}$"
      ],
      "text/plain": [
       "-\\Delta_\\epsilon⋅(C[i, j]⋅{{m_n}}[j] + {{C^*}}[i, j]⋅{{m_n}}[i])⋅m[b]⋅{{U^\\nu}\n",
       "}[a, i]⋅{{U^{\\nu *}}}[b, j]⋅{{m_n}}[i]"
      ]
     },
     "execution_count": 8,
     "metadata": {},
     "output_type": "execute_result"
    }
   ],
   "source": [
    "DivL1 = AL1.subs(lfvhd.cambiosDivFin(mW,mn[i],mn[j])).expand(\n",
    ").collect([lfvhd.Δe],evaluate=False)[lfvhd.Δe].simplify()*lfvhd.Δe\n",
    "DivL1"
   ]
  },
  {
   "cell_type": "markdown",
   "metadata": {},
   "source": [
    "This is the diagram 1 of our reference (1) and the **right** form factor is given by\n",
    "\n",
    "$\\begin{aligned} F_{R}^{(1)} &=-\\frac{g^{3} m_{b}}{64 \\pi^{2} m_{W}^{3}} \\sum_{i, j=1}^{K+3} B_{a i} B_{b j}^{*}\\left\\{C_{i j}\\left[m_{n_{i}}^{2}\\left(B_{0}^{(12)}+m_{W}^{2} C_{0}\\right)\\right.\\right.\\\\ &\\left.+\\left(m_{a}^{2} m_{n_{j}}^{2}+m_{b}^{2} m_{n_{i}}^{2}-2 m_{n_{i}}^{2} m_{n_{j}}^{2}\\right) C_{2}\\right] \\\\ &\\left.+m_{n_{i}} m_{n_{j}} C_{i j}^{*}\\left[B_{0}^{(12)}+m_{W}^{2} C_{0}-\\left(m_{n_{i}}^{2}+m_{n_{j}}^{2}-m_{a}^{2}-m_{b}^{2}\\right) C_{2}\\right]\\right\\} \\end{aligned}$"
   ]
  },
  {
   "cell_type": "code",
   "execution_count": 9,
   "metadata": {},
   "outputs": [
    {
     "data": {
      "image/png": "[encoded data removed]",
      "text/latex": [
       "$\\displaystyle - \\left(\\left(m_{W}^{2} \\operatorname{C_{0}}{\\left(m_{W},{{{m_n}}}_{i},{{{m_n}}}_{j} \\right)} {m}_{a} - \\left({m}_{a}^{2} + {m}_{b}^{2} - {{{m_n}}}_{i}^{2} - {{{m_n}}}_{j}^{2}\\right) \\operatorname{C_{1}}{\\left(m_{W},{{{m_n}}}_{i},{{{m_n}}}_{j} \\right)} {m}_{a} + \\operatorname{{{B^{(12)}_{0}}}}{\\left({{{m_n}}}_{i},{{{m_n}}}_{j} \\right)} {m}_{a}\\right) {C}_{i,j} {{{m_n}}}_{i} {{{m_n}}}_{j} + \\left(m_{W}^{2} \\operatorname{C_{0}}{\\left(m_{W},{{{m_n}}}_{i},{{{m_n}}}_{j} \\right)} {m}_{a} {{{m_n}}}_{j}^{2} - \\left({m}_{a}^{2} {{{m_n}}}_{j}^{2} + {m}_{b}^{2} {{{m_n}}}_{i}^{2} - 2 {{{m_n}}}_{i}^{2} {{{m_n}}}_{j}^{2}\\right) \\operatorname{C_{1}}{\\left(m_{W},{{{m_n}}}_{i},{{{m_n}}}_{j} \\right)} {m}_{a} + \\operatorname{{{B^{(12)}_{0}}}}{\\left({{{m_n}}}_{i},{{{m_n}}}_{j} \\right)} {m}_{a} {{{m_n}}}_{j}^{2}\\right) {{{C^*}}}_{i,j}\\right) {{{U^\\nu}}}_{a,i} {{{U^{\\nu *}}}}_{b,j}$"
      ],
      "text/plain": [
       " ⎛⎛   2                                        ⎛    2       2             2   \n",
       "-⎝⎝m_W ⋅C₀(m_W, {{m_n}}[i], {{m_n}}[j])⋅m[a] - ⎝m[a]  + m[b]  - {{m_n}}[i]  - \n",
       "\n",
       "          2⎞                                                                  \n",
       "{{m_n}}[j] ⎠⋅C₁(m_W, {{m_n}}[i], {{m_n}}[j])⋅m[a] + {{B_{0}}}__{(12)}({{m_n}}[\n",
       "\n",
       "                    ⎞                                 ⎛   2                   \n",
       "i], {{m_n}}[j])⋅m[a]⎠⋅C[i, j]⋅{{m_n}}[i]⋅{{m_n}}[j] + ⎝m_W ⋅C₀(m_W, {{m_n}}[i]\n",
       "\n",
       "                             2   ⎛    2           2       2           2       \n",
       ", {{m_n}}[j])⋅m[a]⋅{{m_n}}[j]  - ⎝m[a] ⋅{{m_n}}[j]  + m[b] ⋅{{m_n}}[i]  - 2⋅{{\n",
       "\n",
       "        2           2⎞                                                        \n",
       "m_n}}[i] ⋅{{m_n}}[j] ⎠⋅C₁(m_W, {{m_n}}[i], {{m_n}}[j])⋅m[a] + {{B_{0}}}__{(12)\n",
       "\n",
       "                                         2⎞              ⎞                    \n",
       "}({{m_n}}[i], {{m_n}}[j])⋅m[a]⋅{{m_n}}[j] ⎠⋅{{C^*}}[i, j]⎠⋅{{U^\\nu}}[a, i]⋅{{U\n",
       "\n",
       "                \n",
       "^{\\nu *}}}[b, j]"
      ]
     },
     "execution_count": 9,
     "metadata": {},
     "output_type": "execute_result"
    }
   ],
   "source": [
    "AR1 = (-triangleGninj.AR()/A).expand().collect([C[i,j],Cc[i,j]],simplify).collect([lfvhd.C1(mW,mn[i],mn[j])]).simplify(\n",
    ").simplify().subs(cambios)\n",
    "AR1"
   ]
  },
  {
   "cell_type": "code",
   "execution_count": 10,
   "metadata": {},
   "outputs": [
    {
     "data": {
      "image/png": "[encoded data removed]",
      "text/latex": [
       "$\\displaystyle - \\Delta_\\epsilon \\left({C}_{i,j} {{{m_n}}}_{i} + {{{C^*}}}_{i,j} {{{m_n}}}_{j}\\right) {m}_{a} {{{U^\\nu}}}_{a,i} {{{U^{\\nu *}}}}_{b,j} {{{m_n}}}_{j}$"
      ],
      "text/plain": [
       "-\\Delta_\\epsilon⋅(C[i, j]⋅{{m_n}}[i] + {{C^*}}[i, j]⋅{{m_n}}[j])⋅m[a]⋅{{U^\\nu}\n",
       "}[a, i]⋅{{U^{\\nu *}}}[b, j]⋅{{m_n}}[j]"
      ]
     },
     "execution_count": 10,
     "metadata": {},
     "output_type": "execute_result"
    }
   ],
   "source": [
    "DivR1 = AR1.subs(lfvhd.cambiosDivFin(mW,mn[i],mn[j])).expand(\n",
    ").collect([lfvhd.Δe],evaluate=False)[lfvhd.Δe].simplify()*lfvhd.Δe\n",
    "DivR1"
   ]
  },
  {
   "cell_type": "markdown",
   "metadata": {},
   "source": [
    "### Triangle Wninj\n",
    "\n",
    "This is the diagram 2 of our reference"
   ]
  },
  {
   "cell_type": "code",
   "execution_count": 11,
   "metadata": {},
   "outputs": [],
   "source": [
    "#vertexhnn = lambda i,j: lfvhd.VertexHF0F0((-I*g)/(2*mW)*(mn[j]*C[i,j] + mn[i]*Cc[i,j]),(-I*g)/(2*mW)*(\n",
    "#    mn[i]*C[i,j] + mn[j]*Cc[i,j]))\n",
    "triangleWninj = lfvhd.TriangleVFF(vertexhnn(i,j),vertexenWd(j,b),vertexneWu(i,a),[mW,mn[i],mn[j]])"
   ]
  },
  {
   "cell_type": "markdown",
   "metadata": {},
   "source": [
    "$\\begin{aligned} F_{L}^{(2)} &=\\frac{g^{3} m_{a}}{64 \\pi^{2} m_{W}^{3}} \\sum_{i, j=1}^{K+3} B_{a i} B_{b j}^{*} \\times 2 m_{W}^{2} \\\\ & \\times\\left\\{C_{i j}\\left[m_{n_{j}}^{2} C_{0}-\\left(m_{n_{i}}^{2}+m_{n_{j}}^{2}\\right) C_{1}\\right]+m_{n_{i}} m_{n_{j}} C_{i j}^{*}\\left(C_{0}-2 C_{1}\\right)\\right\\} \\end{aligned}$"
   ]
  },
  {
   "cell_type": "code",
   "execution_count": 12,
   "metadata": {},
   "outputs": [
    {
     "data": {
      "image/png": "[encoded data removed]",
      "text/latex": [
       "$\\displaystyle 2 m_{W}^{2} \\left(\\left(\\operatorname{C_{0}}{\\left(m_{W},{{{m_n}}}_{i},{{{m_n}}}_{j} \\right)} - 2 \\operatorname{C_{1}}{\\left(m_{W},{{{m_n}}}_{i},{{{m_n}}}_{j} \\right)}\\right) {{{C^*}}}_{i,j} {{{m_n}}}_{i} {{{m_n}}}_{j} - \\left(- \\operatorname{C_{0}}{\\left(m_{W},{{{m_n}}}_{i},{{{m_n}}}_{j} \\right)} {{{m_n}}}_{j}^{2} + \\operatorname{C_{1}}{\\left(m_{W},{{{m_n}}}_{i},{{{m_n}}}_{j} \\right)} {{{m_n}}}_{i}^{2} + \\operatorname{C_{1}}{\\left(m_{W},{{{m_n}}}_{i},{{{m_n}}}_{j} \\right)} {{{m_n}}}_{j}^{2}\\right) {C}_{i,j}\\right) {m}_{a} {{{U^\\nu}}}_{a,i} {{{U^{\\nu *}}}}_{b,j}$"
      ],
      "text/plain": [
       "     2 ⎛                                                                      \n",
       "2⋅m_W ⋅⎝(C₀(m_W, {{m_n}}[i], {{m_n}}[j]) - 2⋅C₁(m_W, {{m_n}}[i], {{m_n}}[j]))⋅\n",
       "\n",
       "                                      ⎛                                       \n",
       "{{C^*}}[i, j]⋅{{m_n}}[i]⋅{{m_n}}[j] - ⎝- C₀(m_W, {{m_n}}[i], {{m_n}}[j])⋅{{m_n\n",
       "\n",
       "     2                                             2                          \n",
       "}}[j]  + C₁(m_W, {{m_n}}[i], {{m_n}}[j])⋅{{m_n}}[i]  + C₁(m_W, {{m_n}}[i], {{m\n",
       "\n",
       "                   2⎞        ⎞                                         \n",
       "_n}}[j])⋅{{m_n}}[j] ⎠⋅C[i, j]⎠⋅m[a]⋅{{U^\\nu}}[a, i]⋅{{U^{\\nu *}}}[b, j]"
      ]
     },
     "execution_count": 12,
     "metadata": {},
     "output_type": "execute_result"
    }
   ],
   "source": [
    "AL2 = (-triangleWninj.AL().subs(lfvhd.D,4)/A).expand().collect([C[i,j],Cc[i,j]],simplify).subs(\n",
    "    cambios).simplify()\n",
    "AL2"
   ]
  },
  {
   "cell_type": "markdown",
   "metadata": {},
   "source": [
    "**$A_L^2$ is not divergent**"
   ]
  },
  {
   "cell_type": "markdown",
   "metadata": {},
   "source": [
    "###### $\\begin{aligned} F_{R}^{(2)} &=\\frac{g^{3} m_{b}}{64 \\pi^{2} m_{W}^{3}} \\sum_{i, j=1}^{K+3} B_{a i} B_{b j}^{*} \\times 2 m_{W}^{2} \\\\ & \\times\\left\\{C_{i j}\\left[m_{n_{i}}^{2} C_{0}+\\left(m_{n_{i}}^{2}+m_{n_{j}}^{2}\\right) C_{2}\\right]+m_{n_{i}} m_{n_{j}} C_{i j}^{*}\\left(C_{0}+2 C_{2}\\right)\\right\\} \\end{aligned}$"
   ]
  },
  {
   "cell_type": "code",
   "execution_count": 13,
   "metadata": {},
   "outputs": [
    {
     "data": {
      "image/png": "[encoded data removed]",
      "text/latex": [
       "$\\displaystyle 2 m_{W}^{2} \\left(\\left(\\operatorname{C_{0}}{\\left(m_{W},{{{m_n}}}_{i},{{{m_n}}}_{j} \\right)} + 2 \\operatorname{C_{2}}{\\left(m_{W},{{{m_n}}}_{i},{{{m_n}}}_{j} \\right)}\\right) {{{C^*}}}_{i,j} {{{m_n}}}_{i} {{{m_n}}}_{j} + \\left(\\operatorname{C_{0}}{\\left(m_{W},{{{m_n}}}_{i},{{{m_n}}}_{j} \\right)} {{{m_n}}}_{i}^{2} + \\operatorname{C_{2}}{\\left(m_{W},{{{m_n}}}_{i},{{{m_n}}}_{j} \\right)} {{{m_n}}}_{i}^{2} + \\operatorname{C_{2}}{\\left(m_{W},{{{m_n}}}_{i},{{{m_n}}}_{j} \\right)} {{{m_n}}}_{j}^{2}\\right) {C}_{i,j}\\right) {m}_{b} {{{U^\\nu}}}_{a,i} {{{U^{\\nu *}}}}_{b,j}$"
      ],
      "text/plain": [
       "     2 ⎛                                                                      \n",
       "2⋅m_W ⋅⎝(C₀(m_W, {{m_n}}[i], {{m_n}}[j]) + 2⋅C₂(m_W, {{m_n}}[i], {{m_n}}[j]))⋅\n",
       "\n",
       "                                      ⎛                                       \n",
       "{{C^*}}[i, j]⋅{{m_n}}[i]⋅{{m_n}}[j] + ⎝C₀(m_W, {{m_n}}[i], {{m_n}}[j])⋅{{m_n}}\n",
       "\n",
       "   2                                             2                            \n",
       "[i]  + C₂(m_W, {{m_n}}[i], {{m_n}}[j])⋅{{m_n}}[i]  + C₂(m_W, {{m_n}}[i], {{m_n\n",
       "\n",
       "                 2⎞        ⎞                                         \n",
       "}}[j])⋅{{m_n}}[j] ⎠⋅C[i, j]⎠⋅m[b]⋅{{U^\\nu}}[a, i]⋅{{U^{\\nu *}}}[b, j]"
      ]
     },
     "execution_count": 13,
     "metadata": {},
     "output_type": "execute_result"
    }
   ],
   "source": [
    "AR2 = (-triangleWninj.AR().subs(lfvhd.D,4)/A).expand().collect([C[i,j],Cc[i,j]],simplify).subs(\n",
    "    cambios).simplify()\n",
    "AR2"
   ]
  },
  {
   "cell_type": "markdown",
   "metadata": {},
   "source": [
    "### Triangle niWW\n",
    "\n",
    "This is the diagram 3 of our reference"
   ]
  },
  {
   "cell_type": "code",
   "execution_count": 14,
   "metadata": {},
   "outputs": [],
   "source": [
    "triangleniWW = lfvhd.TriangleFVV(vertexhWW,vertexenWd(i,b),vertexneWu(i,a),[mn[i],mW,mW])"
   ]
  },
  {
   "cell_type": "code",
   "execution_count": 15,
   "metadata": {},
   "outputs": [
    {
     "data": {
      "image/png": "[encoded data removed]",
      "text/latex": [
       "$\\displaystyle 4 m_{W}^{4} \\operatorname{C_{1}}{\\left({{{m_n}}}_{i},m_{W},m_{W} \\right)} {m}_{a} {{{U^\\nu}}}_{a,i} {{{U^{\\nu *}}}}_{b,i}$"
      ],
      "text/plain": [
       "     4                                                                  \n",
       "4⋅m_W ⋅C₁({{m_n}}[i], m_W, m_W)⋅m[a]⋅{{U^\\nu}}[a, i]⋅{{U^{\\nu *}}}[b, i]"
      ]
     },
     "execution_count": 15,
     "metadata": {},
     "output_type": "execute_result"
    }
   ],
   "source": [
    "AL3 = (-triangleniWW.AL().subs(lfvhd.D,4)/A).subs(cambios)\n",
    "AL3"
   ]
  },
  {
   "cell_type": "markdown",
   "metadata": {},
   "source": [
    "**$A_L^3$ is not divergent**"
   ]
  },
  {
   "cell_type": "code",
   "execution_count": 16,
   "metadata": {},
   "outputs": [
    {
     "data": {
      "image/png": "[encoded data removed]",
      "text/latex": [
       "$\\displaystyle - 4 m_{W}^{4} \\operatorname{C_{2}}{\\left({{{m_n}}}_{i},m_{W},m_{W} \\right)} {m}_{b} {{{U^\\nu}}}_{a,i} {{{U^{\\nu *}}}}_{b,i}$"
      ],
      "text/plain": [
       "      4                                                                  \n",
       "-4⋅m_W ⋅C₂({{m_n}}[i], m_W, m_W)⋅m[b]⋅{{U^\\nu}}[a, i]⋅{{U^{\\nu *}}}[b, i]"
      ]
     },
     "execution_count": 16,
     "metadata": {},
     "output_type": "execute_result"
    }
   ],
   "source": [
    "AR3 = (-triangleniWW.AR().subs(lfvhd.D,4)/A).subs(cambios)\n",
    "AR3"
   ]
  },
  {
   "cell_type": "markdown",
   "metadata": {},
   "source": [
    "### Triangle niWG\n",
    "\n",
    "This is the diagram 4 of our reference"
   ]
  },
  {
   "cell_type": "code",
   "execution_count": 17,
   "metadata": {},
   "outputs": [],
   "source": [
    "cambiosba = {lfvhd.ma:m[h],lfvhd.mi:m[b],lfvhd.mj:m[a]}"
   ]
  },
  {
   "cell_type": "code",
   "execution_count": 18,
   "metadata": {},
   "outputs": [],
   "source": [
    "triangleniWG = lfvhd.TriangleFVS(vertexhWG,vertexenGd(i,b),vertexneWu(i,a),[mn[i],mW,mW])\n",
    "triangleniWGcross = lfvhd.TriangleFSV(vertexhGW,vertexenWd(i,b),vertexneGu(i,a),[mn[i],mW,mW])"
   ]
  },
  {
   "cell_type": "code",
   "execution_count": 19,
   "metadata": {},
   "outputs": [
    {
     "data": {
      "image/png": "[encoded data removed]",
      "text/latex": [
       "$\\displaystyle - m_{W}^{2} \\left(\\operatorname{C_{0}}{\\left({{{m_n}}}_{i},m_{W},m_{W} \\right)} - \\operatorname{C_{1}}{\\left({{{m_n}}}_{i},m_{W},m_{W} \\right)} + \\operatorname{C_{2}}{\\left({{{m_n}}}_{i},m_{W},m_{W} \\right)}\\right) {m}_{a} {m}_{b} {{{U^\\nu}}}_{a,i} {{{U^{\\nu *}}}}_{b,i} {{{m_n}}}_{i}$"
      ],
      "text/plain": [
       "    2                                                                         \n",
       "-m_W ⋅(C₀({{m_n}}[i], m_W, m_W) - C₁({{m_n}}[i], m_W, m_W) + C₂({{m_n}}[i], m_\n",
       "\n",
       "                                                                 \n",
       "W, m_W))⋅m[a]⋅m[b]⋅{{U^\\nu}}[a, i]⋅{{U^{\\nu *}}}[b, i]⋅{{m_n}}[i]"
      ]
     },
     "execution_count": 19,
     "metadata": {},
     "output_type": "execute_result"
    }
   ],
   "source": [
    "AL4 = (-triangleniWG.AL()/A).subs(lfvhd.D,4).expand().collect(\n",
    "    [lfvhd.C0(mn[i],mW,mW),lfvhd.C1(mn[i],mW,mW),lfvhd.C2(mn[i],mW,mW)],simplify).subs(cambios\n",
    "    ).factor().factor()\n",
    "AL4"
   ]
  },
  {
   "cell_type": "code",
   "execution_count": 20,
   "metadata": {},
   "outputs": [
    {
     "data": {
      "image/png": "[encoded data removed]",
      "text/latex": [
       "$\\displaystyle m_{W}^{2} \\left(- \\left(2 {m}_{a} {m}_{b} + {{{m_n}}}_{i}^{2}\\right) \\operatorname{C_{0}}{\\left({{{m_n}}}_{i},m_{W},m_{W} \\right)} + \\left({m}_{a} + 2 {m}_{b}\\right) \\operatorname{C_{1}}{\\left({{{m_n}}}_{i},m_{W},m_{W} \\right)} {m}_{b} - \\left({m}_{a}^{2} + 2 {m}_{b}^{2} - 2 {m}_{h}^{2}\\right) \\operatorname{C_{2}}{\\left({{{m_n}}}_{i},m_{W},m_{W} \\right)} - \\operatorname{{{B^{(12)}_{0}}}}{\\left(m_{W},m_{W} \\right)}\\right) {{{U^\\nu}}}_{a,i} {{{U^{\\nu *}}}}_{b,i} {{{m_n}}}_{i}$"
      ],
      "text/plain": [
       "   2 ⎛  ⎛                        2⎞                                           \n",
       "m_W ⋅⎝- ⎝2⋅m[a]⋅m[b] + {{m_n}}[i] ⎠⋅C₀({{m_n}}[i], m_W, m_W) + (m[a] + 2⋅m[b])\n",
       "\n",
       "                                 ⎛    2         2         2⎞                  \n",
       "⋅C₁({{m_n}}[i], m_W, m_W)⋅m[b] - ⎝m[a]  + 2⋅m[b]  - 2⋅m[h] ⎠⋅C₂({{m_n}}[i], m_\n",
       "\n",
       "                                     ⎞                                        \n",
       "W, m_W) - {{B_{0}}}__{(12)}(m_W, m_W)⎠⋅{{U^\\nu}}[a, i]⋅{{U^{\\nu *}}}[b, i]⋅{{m\n",
       "\n",
       "       \n",
       "_n}}[i]"
      ]
     },
     "execution_count": 20,
     "metadata": {},
     "output_type": "execute_result"
    }
   ],
   "source": [
    "AL4cross = (triangleniWGcross.AL()/A).subs(lfvhd.D,4).expand().collect(\n",
    "    [lfvhd.C0(mn[i],mW,mW),lfvhd.C1(mn[i],mW,mW),lfvhd.C2(mn[i],mW,mW)],simplify).simplify(\n",
    ").subs(cambiosba)\n",
    "AL4cross"
   ]
  },
  {
   "cell_type": "code",
   "execution_count": 21,
   "metadata": {},
   "outputs": [
    {
     "data": {
      "image/png": "[encoded data removed]",
      "text/latex": [
       "$\\displaystyle - \\Delta_\\epsilon m_{W}^{2} {{{U^\\nu}}}_{a,i} {{{U^{\\nu *}}}}_{b,i} {{{m_n}}}_{i}$"
      ],
      "text/plain": [
       "                    2                                               \n",
       "-\\Delta_\\epsilon⋅m_W ⋅{{U^\\nu}}[a, i]⋅{{U^{\\nu *}}}[b, i]⋅{{m_n}}[i]"
      ]
     },
     "execution_count": 21,
     "metadata": {},
     "output_type": "execute_result"
    }
   ],
   "source": [
    "DivL4cross = AL4cross.subs(lfvhd.cambiosDivFin(mn[i],mW,mW)).expand(\n",
    ").collect([lfvhd.Δe],evaluate=False)[lfvhd.Δe].simplify()*lfvhd.Δe\n",
    "DivL4cross"
   ]
  },
  {
   "cell_type": "code",
   "execution_count": 22,
   "metadata": {},
   "outputs": [
    {
     "data": {
      "image/png": "[encoded data removed]",
      "text/latex": [
       "$\\displaystyle m_{W}^{2} \\left(\\left(2 {m}_{b}^{2} + {{{m_n}}}_{i}^{2}\\right) \\operatorname{C_{0}}{\\left({{{m_n}}}_{i},m_{W},m_{W} \\right)} - \\left({m}_{a}^{2} + 2 {m}_{b}^{2} - 2 {m}_{h}^{2}\\right) \\operatorname{C_{1}}{\\left({{{m_n}}}_{i},m_{W},m_{W} \\right)} + 3 \\operatorname{C_{2}}{\\left({{{m_n}}}_{i},m_{W},m_{W} \\right)} {m}_{b}^{2} + \\operatorname{{{B^{(12)}_{0}}}}{\\left(m_{W},m_{W} \\right)}\\right) {{{U^\\nu}}}_{a,i} {{{U^{\\nu *}}}}_{b,i} {{{m_n}}}_{i}$"
      ],
      "text/plain": [
       "   2 ⎛⎛      2             2⎞                            ⎛    2         2     \n",
       "m_W ⋅⎝⎝2⋅m[b]  + {{m_n}}[i] ⎠⋅C₀({{m_n}}[i], m_W, m_W) - ⎝m[a]  + 2⋅m[b]  - 2⋅\n",
       "\n",
       "    2⎞                                                           2            \n",
       "m[h] ⎠⋅C₁({{m_n}}[i], m_W, m_W) + 3⋅C₂({{m_n}}[i], m_W, m_W)⋅m[b]  + {{B_{0}}}\n",
       "\n",
       "                  ⎞                                               \n",
       "__{(12)}(m_W, m_W)⎠⋅{{U^\\nu}}[a, i]⋅{{U^{\\nu *}}}[b, i]⋅{{m_n}}[i]"
      ]
     },
     "execution_count": 22,
     "metadata": {},
     "output_type": "execute_result"
    }
   ],
   "source": [
    "AR4 = (-triangleniWG.AR()/A).subs(lfvhd.D,4).expand().collect(\n",
    "    [lfvhd.C0(mn[i],mW,mW),lfvhd.C1(mn[i],mW,mW),lfvhd.C2(mn[i],mW,mW)],simplify).simplify(\n",
    ").subs(cambios)\n",
    "AR4"
   ]
  },
  {
   "cell_type": "code",
   "execution_count": 23,
   "metadata": {},
   "outputs": [
    {
     "data": {
      "image/png": "[encoded data removed]",
      "text/latex": [
       "$\\displaystyle \\Delta_\\epsilon m_{W}^{2} {{{U^\\nu}}}_{a,i} {{{U^{\\nu *}}}}_{b,i} {{{m_n}}}_{i}$"
      ],
      "text/plain": [
       "                   2                                               \n",
       "\\Delta_\\epsilon⋅m_W ⋅{{U^\\nu}}[a, i]⋅{{U^{\\nu *}}}[b, i]⋅{{m_n}}[i]"
      ]
     },
     "execution_count": 23,
     "metadata": {},
     "output_type": "execute_result"
    }
   ],
   "source": [
    "DivR4 = AR4.subs(lfvhd.cambiosDivFin(mn[i],mW,mW)).expand(\n",
    ").collect([lfvhd.Δe],evaluate=False)[lfvhd.Δe].simplify()*lfvhd.Δe\n",
    "DivR4"
   ]
  },
  {
   "cell_type": "code",
   "execution_count": 24,
   "metadata": {},
   "outputs": [
    {
     "data": {
      "image/png": "[encoded data removed]",
      "text/latex": [
       "$\\displaystyle m_{W}^{2} \\left(\\left(- {m}_{a} + 2 {m}_{b}\\right) \\operatorname{C_{2}}{\\left({{{m_n}}}_{i},m_{W},m_{W} \\right)} + \\operatorname{C_{0}}{\\left({{{m_n}}}_{i},m_{W},m_{W} \\right)} {m}_{a} - \\operatorname{C_{1}}{\\left({{{m_n}}}_{i},m_{W},m_{W} \\right)} {m}_{b}\\right) {m}_{a} {{{U^\\nu}}}_{a,i} {{{U^{\\nu *}}}}_{b,i} {{{m_n}}}_{i}$"
      ],
      "text/plain": [
       "   2                                                                          \n",
       "m_W ⋅((-m[a] + 2⋅m[b])⋅C₂({{m_n}}[i], m_W, m_W) + C₀({{m_n}}[i], m_W, m_W)⋅m[a\n",
       "\n",
       "                                                                              \n",
       "] - C₁({{m_n}}[i], m_W, m_W)⋅m[b])⋅m[a]⋅{{U^\\nu}}[a, i]⋅{{U^{\\nu *}}}[b, i]⋅{{\n",
       "\n",
       "        \n",
       "m_n}}[i]"
      ]
     },
     "execution_count": 24,
     "metadata": {},
     "output_type": "execute_result"
    }
   ],
   "source": [
    "AR4cross = (triangleniWGcross.AR()/A).subs(lfvhd.D,4).expand().collect(\n",
    "    [lfvhd.C0(mn[i],mW,mW),lfvhd.C1(mn[i],mW,mW),lfvhd.C2(mn[i],mW,mW)],simplify).simplify(\n",
    ").subs(cambiosba)\n",
    "AR4cross"
   ]
  },
  {
   "cell_type": "code",
   "execution_count": 25,
   "metadata": {},
   "outputs": [],
   "source": [
    "#DivR4cross = AR4cross.subs(lfvhd.cambiosDivFin(mn[i],mW,mW)).expand(\n",
    "#).collect([lfvhd.Δe],evaluate=False)#[lfvhd.Δe].simplify()*lfvhd.Δe\n",
    "#DivR4cross"
   ]
  },
  {
   "cell_type": "code",
   "execution_count": 26,
   "metadata": {},
   "outputs": [
    {
     "data": {
      "image/png": "[encoded data removed]",
      "text/latex": [
       "$\\displaystyle \\Delta_\\epsilon m_{W}^{2} {{{U^\\nu}}}_{a,i} {{{U^{\\nu *}}}}_{b,i} {{{m_n}}}_{i}$"
      ],
      "text/plain": [
       "                   2                                               \n",
       "\\Delta_\\epsilon⋅m_W ⋅{{U^\\nu}}[a, i]⋅{{U^{\\nu *}}}[b, i]⋅{{m_n}}[i]"
      ]
     },
     "execution_count": 26,
     "metadata": {},
     "output_type": "execute_result"
    }
   ],
   "source": [
    "(AR4 + AR4cross).subs(lfvhd.cambiosDivFin(mn[i],mW,mW)).expand(\n",
    ").collect([lfvhd.Δe],evaluate=False)[lfvhd.Δe].simplify()*lfvhd.Δe"
   ]
  },
  {
   "cell_type": "markdown",
   "metadata": {},
   "source": [
    "### Triangle niGW\n",
    "\n",
    "This is the diagram 5 of our reference"
   ]
  },
  {
   "cell_type": "code",
   "execution_count": 27,
   "metadata": {},
   "outputs": [],
   "source": [
    "triangleniGW = lfvhd.TriangleFSV(vertexhGW,vertexenWd(i,b),vertexneGu(i,a),[mn[i],mW,mW])\n",
    "triangleniGWcross = lfvhd.TriangleFVS(vertexhWG,vertexenGd(i,b),vertexneWu(i,a),[mn[i],mW,mW])"
   ]
  },
  {
   "cell_type": "code",
   "execution_count": 28,
   "metadata": {},
   "outputs": [
    {
     "data": {
      "image/png": "[encoded data removed]",
      "text/latex": [
       "$\\displaystyle m_{W}^{2} \\left(\\left(2 {m}_{a}^{2} + {{{m_n}}}_{i}^{2}\\right) \\operatorname{C_{0}}{\\left({{{m_n}}}_{i},m_{W},m_{W} \\right)} + \\left(2 {m}_{a}^{2} + {m}_{b}^{2} - 2 {m}_{h}^{2}\\right) \\operatorname{C_{2}}{\\left({{{m_n}}}_{i},m_{W},m_{W} \\right)} - 3 \\operatorname{C_{1}}{\\left({{{m_n}}}_{i},m_{W},m_{W} \\right)} {m}_{a}^{2} + \\operatorname{{{B^{(12)}_{0}}}}{\\left(m_{W},m_{W} \\right)}\\right) {{{U^\\nu}}}_{a,i} {{{U^{\\nu *}}}}_{b,i} {{{m_n}}}_{i}$"
      ],
      "text/plain": [
       "   2 ⎛⎛      2             2⎞                            ⎛      2       2     \n",
       "m_W ⋅⎝⎝2⋅m[a]  + {{m_n}}[i] ⎠⋅C₀({{m_n}}[i], m_W, m_W) + ⎝2⋅m[a]  + m[b]  - 2⋅\n",
       "\n",
       "    2⎞                                                           2            \n",
       "m[h] ⎠⋅C₂({{m_n}}[i], m_W, m_W) - 3⋅C₁({{m_n}}[i], m_W, m_W)⋅m[a]  + {{B_{0}}}\n",
       "\n",
       "                  ⎞                                               \n",
       "__{(12)}(m_W, m_W)⎠⋅{{U^\\nu}}[a, i]⋅{{U^{\\nu *}}}[b, i]⋅{{m_n}}[i]"
      ]
     },
     "execution_count": 28,
     "metadata": {},
     "output_type": "execute_result"
    }
   ],
   "source": [
    "AL5 = (-triangleniGW.AL()/A).subs(lfvhd.D,4).expand().collect(\n",
    "    [lfvhd.C0(mn[i],mW,mW),lfvhd.C1(mn[i],mW,mW),lfvhd.C2(mn[i],mW,mW)],simplify).simplify(\n",
    ").subs(cambios)\n",
    "AL5"
   ]
  },
  {
   "cell_type": "code",
   "execution_count": 29,
   "metadata": {},
   "outputs": [
    {
     "data": {
      "image/png": "[encoded data removed]",
      "text/latex": [
       "$\\displaystyle \\Delta_\\epsilon m_{W}^{2} {{{U^\\nu}}}_{a,i} {{{U^{\\nu *}}}}_{b,i} {{{m_n}}}_{i}$"
      ],
      "text/plain": [
       "                   2                                               \n",
       "\\Delta_\\epsilon⋅m_W ⋅{{U^\\nu}}[a, i]⋅{{U^{\\nu *}}}[b, i]⋅{{m_n}}[i]"
      ]
     },
     "execution_count": 29,
     "metadata": {},
     "output_type": "execute_result"
    }
   ],
   "source": [
    "DivL5 = AL5.subs(lfvhd.cambiosDivFin(mn[i],mW,mW)).expand(\n",
    ").collect([lfvhd.Δe],evaluate=False)[lfvhd.Δe].simplify()*lfvhd.Δe\n",
    "DivL5"
   ]
  },
  {
   "cell_type": "code",
   "execution_count": 30,
   "metadata": {},
   "outputs": [
    {
     "data": {
      "image/png": "[encoded data removed]",
      "text/latex": [
       "$\\displaystyle m_{W}^{2} \\left(- \\left(2 {m}_{a} - {m}_{b}\\right) \\operatorname{C_{1}}{\\left({{{m_n}}}_{i},m_{W},m_{W} \\right)} + \\operatorname{C_{0}}{\\left({{{m_n}}}_{i},m_{W},m_{W} \\right)} {m}_{b} + \\operatorname{C_{2}}{\\left({{{m_n}}}_{i},m_{W},m_{W} \\right)} {m}_{a}\\right) {m}_{b} {{{U^\\nu}}}_{a,i} {{{U^{\\nu *}}}}_{b,i} {{{m_n}}}_{i}$"
      ],
      "text/plain": [
       "   2                                                                          \n",
       "m_W ⋅(-(2⋅m[a] - m[b])⋅C₁({{m_n}}[i], m_W, m_W) + C₀({{m_n}}[i], m_W, m_W)⋅m[b\n",
       "\n",
       "                                                                              \n",
       "] + C₂({{m_n}}[i], m_W, m_W)⋅m[a])⋅m[b]⋅{{U^\\nu}}[a, i]⋅{{U^{\\nu *}}}[b, i]⋅{{\n",
       "\n",
       "        \n",
       "m_n}}[i]"
      ]
     },
     "execution_count": 30,
     "metadata": {},
     "output_type": "execute_result"
    }
   ],
   "source": [
    "AL5cross = (triangleniGWcross.AL()/A).subs(lfvhd.D,4).expand().collect(\n",
    "    [lfvhd.C0(mn[i],mW,mW),lfvhd.C1(mn[i],mW,mW),lfvhd.C2(mn[i],mW,mW)],simplify).simplify(\n",
    ").subs(cambiosba)\n",
    "AL5cross"
   ]
  },
  {
   "cell_type": "code",
   "execution_count": 31,
   "metadata": {},
   "outputs": [],
   "source": [
    "#DivL5cross = AL5cross.subs(lfvhd.cambiosDivFin(mn[i],mW,mW)).expand(\n",
    "#).collect([lfvhd.Δe],evaluate=False)[lfvhd.Δe].simplify()*lfvhd.Δe\n",
    "#DivL5cross"
   ]
  },
  {
   "cell_type": "code",
   "execution_count": 32,
   "metadata": {},
   "outputs": [
    {
     "data": {
      "image/png": "[encoded data removed]",
      "text/latex": [
       "$\\displaystyle \\Delta_\\epsilon m_{W}^{2} {{{U^\\nu}}}_{a,i} {{{U^{\\nu *}}}}_{b,i} {{{m_n}}}_{i}$"
      ],
      "text/plain": [
       "                   2                                               \n",
       "\\Delta_\\epsilon⋅m_W ⋅{{U^\\nu}}[a, i]⋅{{U^{\\nu *}}}[b, i]⋅{{m_n}}[i]"
      ]
     },
     "execution_count": 32,
     "metadata": {},
     "output_type": "execute_result"
    }
   ],
   "source": [
    "(AL5 + AL5cross).subs(lfvhd.cambiosDivFin(mn[i],mW,mW)).expand(\n",
    ").collect([lfvhd.Δe],evaluate=False)[lfvhd.Δe].simplify()*lfvhd.Δe"
   ]
  },
  {
   "cell_type": "code",
   "execution_count": 33,
   "metadata": {},
   "outputs": [
    {
     "data": {
      "image/png": "[encoded data removed]",
      "text/latex": [
       "$\\displaystyle m_{W}^{2} \\left(- \\operatorname{C_{0}}{\\left({{{m_n}}}_{i},m_{W},m_{W} \\right)} {m}_{a} + \\operatorname{C_{1}}{\\left({{{m_n}}}_{i},m_{W},m_{W} \\right)} {m}_{a} - \\operatorname{C_{2}}{\\left({{{m_n}}}_{i},m_{W},m_{W} \\right)} {m}_{a}\\right) {m}_{b} {{{U^\\nu}}}_{a,i} {{{U^{\\nu *}}}}_{b,i} {{{m_n}}}_{i}$"
      ],
      "text/plain": [
       "   2                                                                          \n",
       "m_W ⋅(-C₀({{m_n}}[i], m_W, m_W)⋅m[a] + C₁({{m_n}}[i], m_W, m_W)⋅m[a] - C₂({{m_\n",
       "\n",
       "                                                                           \n",
       "n}}[i], m_W, m_W)⋅m[a])⋅m[b]⋅{{U^\\nu}}[a, i]⋅{{U^{\\nu *}}}[b, i]⋅{{m_n}}[i]"
      ]
     },
     "execution_count": 33,
     "metadata": {},
     "output_type": "execute_result"
    }
   ],
   "source": [
    "AR5 = (-triangleniGW.AR()/A).subs(lfvhd.D,4).expand().collect(\n",
    "    [lfvhd.C0(mn[i],mW,mW),lfvhd.C1(mn[i],mW,mW),lfvhd.C2(mn[i],mW,mW)],simplify).simplify(\n",
    ").subs(cambios)\n",
    "AR5"
   ]
  },
  {
   "cell_type": "code",
   "execution_count": 34,
   "metadata": {},
   "outputs": [
    {
     "data": {
      "image/png": "[encoded data removed]",
      "text/latex": [
       "$\\displaystyle m_{W}^{2} \\left(- \\left(2 {m}_{a} {m}_{b} + {{{m_n}}}_{i}^{2}\\right) \\operatorname{C_{0}}{\\left({{{m_n}}}_{i},m_{W},m_{W} \\right)} - \\left(2 {m}_{a} + {m}_{b}\\right) \\operatorname{C_{2}}{\\left({{{m_n}}}_{i},m_{W},m_{W} \\right)} {m}_{a} + \\left(2 {m}_{a}^{2} + {m}_{b}^{2} - 2 {m}_{h}^{2}\\right) \\operatorname{C_{1}}{\\left({{{m_n}}}_{i},m_{W},m_{W} \\right)} - \\operatorname{{{B^{(12)}_{0}}}}{\\left(m_{W},m_{W} \\right)}\\right) {{{U^\\nu}}}_{a,i} {{{U^{\\nu *}}}}_{b,i} {{{m_n}}}_{i}$"
      ],
      "text/plain": [
       "   2 ⎛  ⎛                        2⎞                                           \n",
       "m_W ⋅⎝- ⎝2⋅m[a]⋅m[b] + {{m_n}}[i] ⎠⋅C₀({{m_n}}[i], m_W, m_W) - (2⋅m[a] + m[b])\n",
       "\n",
       "                                 ⎛      2       2         2⎞                  \n",
       "⋅C₂({{m_n}}[i], m_W, m_W)⋅m[a] + ⎝2⋅m[a]  + m[b]  - 2⋅m[h] ⎠⋅C₁({{m_n}}[i], m_\n",
       "\n",
       "                                     ⎞                                        \n",
       "W, m_W) - {{B_{0}}}__{(12)}(m_W, m_W)⎠⋅{{U^\\nu}}[a, i]⋅{{U^{\\nu *}}}[b, i]⋅{{m\n",
       "\n",
       "       \n",
       "_n}}[i]"
      ]
     },
     "execution_count": 34,
     "metadata": {},
     "output_type": "execute_result"
    }
   ],
   "source": [
    "AR5cross = (triangleniGWcross.AR()/A).subs(lfvhd.D,4).expand().collect(\n",
    "    [lfvhd.C0(mn[i],mW,mW),lfvhd.C1(mn[i],mW,mW),lfvhd.C2(mn[i],mW,mW)],simplify).simplify(\n",
    ").subs(cambiosba)\n",
    "AR5cross"
   ]
  },
  {
   "cell_type": "code",
   "execution_count": 35,
   "metadata": {},
   "outputs": [
    {
     "data": {
      "image/png": "[encoded data removed]",
      "text/latex": [
       "$\\displaystyle - \\Delta_\\epsilon m_{W}^{2} {{{U^\\nu}}}_{a,i} {{{U^{\\nu *}}}}_{b,i} {{{m_n}}}_{i}$"
      ],
      "text/plain": [
       "                    2                                               \n",
       "-\\Delta_\\epsilon⋅m_W ⋅{{U^\\nu}}[a, i]⋅{{U^{\\nu *}}}[b, i]⋅{{m_n}}[i]"
      ]
     },
     "execution_count": 35,
     "metadata": {},
     "output_type": "execute_result"
    }
   ],
   "source": [
    "DivR5cross = AR5cross.subs(lfvhd.cambiosDivFin(mn[i],mW,mW)).expand(\n",
    ").collect([lfvhd.Δe],evaluate=False)[lfvhd.Δe].simplify()*lfvhd.Δe\n",
    "DivR5cross"
   ]
  },
  {
   "cell_type": "code",
   "execution_count": 36,
   "metadata": {},
   "outputs": [
    {
     "data": {
      "image/png": "[encoded data removed]",
      "text/latex": [
       "$\\displaystyle m_{W}^{2} \\left(\\left(2 {m}_{a}^{2} + {{{m_n}}}_{i}^{2}\\right) \\operatorname{C_{0}}{\\left({{{m_n}}}_{i},m_{W},m_{W} \\right)} + \\left(2 {m}_{a}^{2} + {m}_{b}^{2} - 2 {m}_{h}^{2}\\right) \\operatorname{C_{2}}{\\left({{{m_n}}}_{i},m_{W},m_{W} \\right)} - \\operatorname{C_{0}}{\\left({{{m_n}}}_{i},m_{W},m_{W} \\right)} {m}_{a} {m}_{b} - 3 \\operatorname{C_{1}}{\\left({{{m_n}}}_{i},m_{W},m_{W} \\right)} {m}_{a}^{2} + \\operatorname{C_{1}}{\\left({{{m_n}}}_{i},m_{W},m_{W} \\right)} {m}_{a} {m}_{b} - \\operatorname{C_{2}}{\\left({{{m_n}}}_{i},m_{W},m_{W} \\right)} {m}_{a} {m}_{b} + \\operatorname{{{B^{(12)}_{0}}}}{\\left(m_{W},m_{W} \\right)}\\right) {{{U^\\nu}}}_{a,i} {{{U^{\\nu *}}}}_{b,i} {{{m_n}}}_{i}$"
      ],
      "text/plain": [
       "   2 ⎛⎛      2             2⎞                            ⎛      2       2     \n",
       "m_W ⋅⎝⎝2⋅m[a]  + {{m_n}}[i] ⎠⋅C₀({{m_n}}[i], m_W, m_W) + ⎝2⋅m[a]  + m[b]  - 2⋅\n",
       "\n",
       "    2⎞                                                                        \n",
       "m[h] ⎠⋅C₂({{m_n}}[i], m_W, m_W) - C₀({{m_n}}[i], m_W, m_W)⋅m[a]⋅m[b] - 3⋅C₁({{\n",
       "\n",
       "                        2                                                     \n",
       "m_n}}[i], m_W, m_W)⋅m[a]  + C₁({{m_n}}[i], m_W, m_W)⋅m[a]⋅m[b] - C₂({{m_n}}[i]\n",
       "\n",
       "                                                   ⎞                          \n",
       ", m_W, m_W)⋅m[a]⋅m[b] + {{B_{0}}}__{(12)}(m_W, m_W)⎠⋅{{U^\\nu}}[a, i]⋅{{U^{\\nu \n",
       "\n",
       "                     \n",
       "*}}}[b, i]⋅{{m_n}}[i]"
      ]
     },
     "execution_count": 36,
     "metadata": {},
     "output_type": "execute_result"
    }
   ],
   "source": [
    "(AL4 + \n",
    " #AL4cross + \n",
    " #AL5cross + \n",
    " AL5 \n",
    ").simplify().collect(triangleniGW.Cs,factor)"
   ]
  },
  {
   "cell_type": "code",
   "execution_count": 37,
   "metadata": {},
   "outputs": [
    {
     "data": {
      "image/png": "[encoded data removed]",
      "text/latex": [
       "$\\displaystyle m_{W}^{2} \\left(\\left({m}_{a} - 2 {m}_{b}\\right) \\left({m}_{a} - {m}_{b}\\right) \\operatorname{C_{0}}{\\left({{{m_n}}}_{i},m_{W},m_{W} \\right)} + \\left({m}_{a} - {m}_{b}\\right) \\left({m}_{a} + {m}_{b}\\right) \\operatorname{C_{1}}{\\left({{{m_n}}}_{i},m_{W},m_{W} \\right)} - 3 \\left({m}_{a} - {m}_{b}\\right) \\left({m}_{a} + {m}_{b}\\right) \\operatorname{C_{2}}{\\left({{{m_n}}}_{i},m_{W},m_{W} \\right)}\\right) {{{U^\\nu}}}_{a,i} {{{U^{\\nu *}}}}_{b,i} {{{m_n}}}_{i}$"
      ],
      "text/plain": [
       "   2                                                                          \n",
       "m_W ⋅((m[a] - 2⋅m[b])⋅(m[a] - m[b])⋅C₀({{m_n}}[i], m_W, m_W) + (m[a] - m[b])⋅(\n",
       "\n",
       "                                                                              \n",
       "m[a] + m[b])⋅C₁({{m_n}}[i], m_W, m_W) - 3⋅(m[a] - m[b])⋅(m[a] + m[b])⋅C₂({{m_n\n",
       "\n",
       "                                                                \n",
       "}}[i], m_W, m_W))⋅{{U^\\nu}}[a, i]⋅{{U^{\\nu *}}}[b, i]⋅{{m_n}}[i]"
      ]
     },
     "execution_count": 37,
     "metadata": {},
     "output_type": "execute_result"
    }
   ],
   "source": [
    "(AR4 + AR4cross + AR5 + AR5cross).simplify().collect(triangleniGW.Cs,factor)"
   ]
  },
  {
   "cell_type": "markdown",
   "metadata": {},
   "source": [
    "### Triangle niGG\n",
    "\n",
    "This is the diagram 6 of our reference"
   ]
  },
  {
   "cell_type": "code",
   "execution_count": 38,
   "metadata": {},
   "outputs": [],
   "source": [
    "triangleniGG = lfvhd.TriangleFSS(vertexhGG,vertexenGd(i,b),vertexneGu(i,a),[mn[i],mW,mW])"
   ]
  },
  {
   "cell_type": "code",
   "execution_count": 39,
   "metadata": {},
   "outputs": [
    {
     "data": {
      "image/png": "[encoded data removed]",
      "text/latex": [
       "$\\displaystyle \\left(- \\left(\\operatorname{C_{0}}{\\left({{{m_n}}}_{i},m_{W},m_{W} \\right)} {m}_{b} + \\operatorname{C_{2}}{\\left({{{m_n}}}_{i},m_{W},m_{W} \\right)} {m}_{b}\\right) {{{m_n}}}_{i}^{2} + \\operatorname{C_{1}}{\\left({{{m_n}}}_{i},m_{W},m_{W} \\right)} {m}_{a}^{2} {m}_{b}\\right) {m}_{h}^{2} {{{U^\\nu}}}_{a,i} {{{U^{\\nu *}}}}_{b,i}$"
      ],
      "text/plain": [
       "⎛                                                                            2\n",
       "⎝- (C₀({{m_n}}[i], m_W, m_W)⋅m[b] + C₂({{m_n}}[i], m_W, m_W)⋅m[b])⋅{{m_n}}[i] \n",
       "\n",
       "                                2     ⎞     2                                 \n",
       " + C₁({{m_n}}[i], m_W, m_W)⋅m[a] ⋅m[b]⎠⋅m[h] ⋅{{U^\\nu}}[a, i]⋅{{U^{\\nu *}}}[b,\n",
       "\n",
       "   \n",
       " i]"
      ]
     },
     "execution_count": 39,
     "metadata": {},
     "output_type": "execute_result"
    }
   ],
   "source": [
    "AL6 = (-triangleniGG.AL()/A).expand().collect([mn[i]],simplify\n",
    "                                      ).simplify().subs(cambios)\n",
    "AL6"
   ]
  },
  {
   "cell_type": "code",
   "execution_count": 40,
   "metadata": {},
   "outputs": [
    {
     "data": {
      "image/png": "[encoded data removed]",
      "text/latex": [
       "$\\displaystyle \\left(\\left(- \\operatorname{C_{0}}{\\left({{{m_n}}}_{i},m_{W},m_{W} \\right)} {m}_{a} + \\operatorname{C_{1}}{\\left({{{m_n}}}_{i},m_{W},m_{W} \\right)} {m}_{a}\\right) {{{m_n}}}_{i}^{2} - \\operatorname{C_{2}}{\\left({{{m_n}}}_{i},m_{W},m_{W} \\right)} {m}_{a} {m}_{b}^{2}\\right) {m}_{h}^{2} {{{U^\\nu}}}_{a,i} {{{U^{\\nu *}}}}_{b,i}$"
      ],
      "text/plain": [
       "⎛                                                                           2 \n",
       "⎝(-C₀({{m_n}}[i], m_W, m_W)⋅m[a] + C₁({{m_n}}[i], m_W, m_W)⋅m[a])⋅{{m_n}}[i]  \n",
       "\n",
       "                                    2⎞     2                                  \n",
       "- C₂({{m_n}}[i], m_W, m_W)⋅m[a]⋅m[b] ⎠⋅m[h] ⋅{{U^\\nu}}[a, i]⋅{{U^{\\nu *}}}[b, \n",
       "\n",
       "  \n",
       "i]"
      ]
     },
     "execution_count": 40,
     "metadata": {},
     "output_type": "execute_result"
    }
   ],
   "source": [
    "AR6 = (-triangleniGG.AR()/A).expand().collect([mn[i]],simplify\n",
    "                                  ).simplify().subs(cambios)\n",
    "AR6"
   ]
  },
  {
   "cell_type": "markdown",
   "metadata": {},
   "source": [
    "### Bubble niW\n",
    "\n",
    "This is the diagram 7 of our reference"
   ]
  },
  {
   "cell_type": "code",
   "execution_count": 41,
   "metadata": {},
   "outputs": [
    {
     "data": {
      "image/png": "[encoded data removed]",
      "text/latex": [
       "$\\displaystyle \\frac{2 m_{W}^{2} \\operatorname{{{B^{(1)}_{1}}}}{\\left({{{m_n}}}_{i},m_{W} \\right)} {m}_{a} {m}_{b}^{2} {{{U^\\nu}}}_{a,i} {{{U^{\\nu *}}}}_{b,i}}{{m}_{a}^{2} - {m}_{b}^{2}}$"
      ],
      "text/plain": [
       "     2                                            2                           \n",
       "2⋅m_W ⋅{{B_{1}}}__{(1)}({{m_n}}[i], m_W)⋅m[a]⋅m[b] ⋅{{U^\\nu}}[a, i]⋅{{U^{\\nu *\n",
       "──────────────────────────────────────────────────────────────────────────────\n",
       "                                         2       2                            \n",
       "                                     m[a]  - m[b]                             \n",
       "\n",
       "         \n",
       "}}}[b, i]\n",
       "─────────\n",
       "         \n",
       "         "
      ]
     },
     "execution_count": 41,
     "metadata": {},
     "output_type": "execute_result"
    }
   ],
   "source": [
    "bubbleniW = lfvhd.BubbleFV(vertexhee(b),vertexenWd(i,b),vertexneWu(i,a),[mn[i],mW])\n",
    "AL7 = (-bubbleniW.AL()/A).subs(lfvhd.D,4).subs(cambios)\n",
    "AL7"
   ]
  },
  {
   "cell_type": "code",
   "execution_count": 42,
   "metadata": {},
   "outputs": [
    {
     "data": {
      "image/png": "[encoded data removed]",
      "text/latex": [
       "$\\displaystyle \\frac{\\Delta_\\epsilon m_{W}^{2} {m}_{a} {m}_{b}^{2} {{{U^\\nu}}}_{a,i} {{{U^{\\nu *}}}}_{b,i}}{{m}_{a}^{2} - {m}_{b}^{2}}$"
      ],
      "text/plain": [
       "                   2          2                                    \n",
       "\\Delta_\\epsilon⋅m_W ⋅m[a]⋅m[b] ⋅{{U^\\nu}}[a, i]⋅{{U^{\\nu *}}}[b, i]\n",
       "───────────────────────────────────────────────────────────────────\n",
       "                               2       2                           \n",
       "                           m[a]  - m[b]                            "
      ]
     },
     "execution_count": 42,
     "metadata": {},
     "output_type": "execute_result"
    }
   ],
   "source": [
    "DivL7 = AL7.subs(lfvhd.cambiosDivFin(mn[i],mW,mW)).expand(\n",
    ").collect([lfvhd.Δe],evaluate=False)[lfvhd.Δe].simplify()*lfvhd.Δe\n",
    "DivL7"
   ]
  },
  {
   "cell_type": "code",
   "execution_count": 43,
   "metadata": {},
   "outputs": [
    {
     "data": {
      "image/png": "[encoded data removed]",
      "text/latex": [
       "$\\displaystyle \\frac{2 m_{W}^{2} \\operatorname{{{B^{(1)}_{1}}}}{\\left({{{m_n}}}_{i},m_{W} \\right)} {m}_{a}^{2} {m}_{b} {{{U^\\nu}}}_{a,i} {{{U^{\\nu *}}}}_{b,i}}{{m}_{a}^{2} - {m}_{b}^{2}}$"
      ],
      "text/plain": [
       "     2                                       2                                \n",
       "2⋅m_W ⋅{{B_{1}}}__{(1)}({{m_n}}[i], m_W)⋅m[a] ⋅m[b]⋅{{U^\\nu}}[a, i]⋅{{U^{\\nu *\n",
       "──────────────────────────────────────────────────────────────────────────────\n",
       "                                         2       2                            \n",
       "                                     m[a]  - m[b]                             \n",
       "\n",
       "         \n",
       "}}}[b, i]\n",
       "─────────\n",
       "         \n",
       "         "
      ]
     },
     "execution_count": 43,
     "metadata": {},
     "output_type": "execute_result"
    }
   ],
   "source": [
    "AR7 = (-bubbleniW.AR()/A).subs(lfvhd.D,4).subs(cambios)\n",
    "AR7"
   ]
  },
  {
   "cell_type": "code",
   "execution_count": 44,
   "metadata": {},
   "outputs": [
    {
     "data": {
      "image/png": "[encoded data removed]",
      "text/latex": [
       "$\\displaystyle \\frac{\\Delta_\\epsilon m_{W}^{2} {m}_{a}^{2} {m}_{b} {{{U^\\nu}}}_{a,i} {{{U^{\\nu *}}}}_{b,i}}{{m}_{a}^{2} - {m}_{b}^{2}}$"
      ],
      "text/plain": [
       "                   2     2                                         \n",
       "\\Delta_\\epsilon⋅m_W ⋅m[a] ⋅m[b]⋅{{U^\\nu}}[a, i]⋅{{U^{\\nu *}}}[b, i]\n",
       "───────────────────────────────────────────────────────────────────\n",
       "                               2       2                           \n",
       "                           m[a]  - m[b]                            "
      ]
     },
     "execution_count": 44,
     "metadata": {},
     "output_type": "execute_result"
    }
   ],
   "source": [
    "DivR7 = AR7.subs(lfvhd.cambiosDivFin(mn[i],mW,mW)).expand(\n",
    ").collect([lfvhd.Δe],evaluate=False)[lfvhd.Δe].simplify()*lfvhd.Δe\n",
    "DivR7"
   ]
  },
  {
   "cell_type": "markdown",
   "metadata": {},
   "source": [
    "### Bubble Wni\n",
    "\n",
    "This is the diagram 9 of our reference"
   ]
  },
  {
   "cell_type": "code",
   "execution_count": 45,
   "metadata": {},
   "outputs": [
    {
     "data": {
      "image/png": "[encoded data removed]",
      "text/latex": [
       "$\\displaystyle \\frac{2 m_{W}^{2} \\operatorname{{{B^{(2)}_{1}}}}{\\left({{{m_n}}}_{i},m_{W} \\right)} {m}_{a} {m}_{b}^{2} {{{U^\\nu}}}_{a,i} {{{U^{\\nu *}}}}_{b,i}}{{m}_{a}^{2} - {m}_{b}^{2}}$"
      ],
      "text/plain": [
       "     2                                            2                           \n",
       "2⋅m_W ⋅{{B_{1}}}__{(2)}({{m_n}}[i], m_W)⋅m[a]⋅m[b] ⋅{{U^\\nu}}[a, i]⋅{{U^{\\nu *\n",
       "──────────────────────────────────────────────────────────────────────────────\n",
       "                                         2       2                            \n",
       "                                     m[a]  - m[b]                             \n",
       "\n",
       "         \n",
       "}}}[b, i]\n",
       "─────────\n",
       "         \n",
       "         "
      ]
     },
     "execution_count": 45,
     "metadata": {},
     "output_type": "execute_result"
    }
   ],
   "source": [
    "bubbleWni = lfvhd.BubbleVF(vertexhee(a),vertexenWd(i,b),vertexneWu(i,a),[mn[i],mW])\n",
    "AL9 = (-bubbleWni.AL()/A).subs(lfvhd.D,4).subs(cambios).simplify()\n",
    "AL9"
   ]
  },
  {
   "cell_type": "code",
   "execution_count": 46,
   "metadata": {},
   "outputs": [
    {
     "data": {
      "image/png": "[encoded data removed]",
      "text/latex": [
       "$\\displaystyle - \\frac{\\Delta_\\epsilon m_{W}^{2} {m}_{a} {m}_{b}^{2} {{{U^\\nu}}}_{a,i} {{{U^{\\nu *}}}}_{b,i}}{{m}_{a}^{2} - {m}_{b}^{2}}$"
      ],
      "text/plain": [
       "                    2          2                                     \n",
       "-\\Delta_\\epsilon⋅m_W ⋅m[a]⋅m[b] ⋅{{U^\\nu}}[a, i]⋅{{U^{\\nu *}}}[b, i] \n",
       "─────────────────────────────────────────────────────────────────────\n",
       "                                2       2                            \n",
       "                            m[a]  - m[b]                             "
      ]
     },
     "execution_count": 46,
     "metadata": {},
     "output_type": "execute_result"
    }
   ],
   "source": [
    "DivL9 = AL9.subs(lfvhd.cambiosDivFin(mn[i],mW,mW)).expand(\n",
    ").collect([lfvhd.Δe],evaluate=False)[lfvhd.Δe].simplify()*lfvhd.Δe\n",
    "DivL9"
   ]
  },
  {
   "cell_type": "code",
   "execution_count": 47,
   "metadata": {},
   "outputs": [
    {
     "data": {
      "image/png": "[encoded data removed]",
      "text/latex": [
       "$\\displaystyle \\frac{2 m_{W}^{2} \\operatorname{{{B^{(2)}_{1}}}}{\\left({{{m_n}}}_{i},m_{W} \\right)} {m}_{a}^{2} {m}_{b} {{{U^\\nu}}}_{a,i} {{{U^{\\nu *}}}}_{b,i}}{{m}_{a}^{2} - {m}_{b}^{2}}$"
      ],
      "text/plain": [
       "     2                                       2                                \n",
       "2⋅m_W ⋅{{B_{1}}}__{(2)}({{m_n}}[i], m_W)⋅m[a] ⋅m[b]⋅{{U^\\nu}}[a, i]⋅{{U^{\\nu *\n",
       "──────────────────────────────────────────────────────────────────────────────\n",
       "                                         2       2                            \n",
       "                                     m[a]  - m[b]                             \n",
       "\n",
       "         \n",
       "}}}[b, i]\n",
       "─────────\n",
       "         \n",
       "         "
      ]
     },
     "execution_count": 47,
     "metadata": {},
     "output_type": "execute_result"
    }
   ],
   "source": [
    "AR9 = (-bubbleWni.AR()/A).subs(lfvhd.D,4).subs(cambios).simplify()\n",
    "AR9"
   ]
  },
  {
   "cell_type": "code",
   "execution_count": 48,
   "metadata": {},
   "outputs": [
    {
     "data": {
      "image/png": "[encoded data removed]",
      "text/latex": [
       "$\\displaystyle - \\frac{\\Delta_\\epsilon m_{W}^{2} {m}_{a}^{2} {m}_{b} {{{U^\\nu}}}_{a,i} {{{U^{\\nu *}}}}_{b,i}}{{m}_{a}^{2} - {m}_{b}^{2}}$"
      ],
      "text/plain": [
       "                    2     2                                          \n",
       "-\\Delta_\\epsilon⋅m_W ⋅m[a] ⋅m[b]⋅{{U^\\nu}}[a, i]⋅{{U^{\\nu *}}}[b, i] \n",
       "─────────────────────────────────────────────────────────────────────\n",
       "                                2       2                            \n",
       "                            m[a]  - m[b]                             "
      ]
     },
     "execution_count": 48,
     "metadata": {},
     "output_type": "execute_result"
    }
   ],
   "source": [
    "DivR9 = AR9.subs(lfvhd.cambiosDivFin(mn[i],mW,mW)).expand(\n",
    ").collect([lfvhd.Δe],evaluate=False)[lfvhd.Δe].simplify()*lfvhd.Δe\n",
    "DivR9"
   ]
  },
  {
   "cell_type": "markdown",
   "metadata": {},
   "source": [
    "### Bubble niG\n",
    "\n",
    "This is the diagram 8 of our reference"
   ]
  },
  {
   "cell_type": "code",
   "execution_count": 49,
   "metadata": {},
   "outputs": [
    {
     "data": {
      "image/png": "[encoded data removed]",
      "text/latex": [
       "$\\displaystyle \\frac{\\left(\\left({m}_{a} {m}_{b}^{2} + {m}_{a} {{{m_n}}}_{i}^{2}\\right) \\operatorname{{{B^{(1)}_{1}}}}{\\left({{{m_n}}}_{i},m_{W} \\right)} {m}_{a} - \\left({m}_{a}^{2} + {m}_{b}^{2}\\right) \\operatorname{{{B^{(1)}_{0}}}}{\\left({{{m_n}}}_{i},m_{W} \\right)} {{{m_n}}}_{i}^{2}\\right) {m}_{b} {{{U^\\nu}}}_{a,i} {{{U^{\\nu *}}}}_{b,i}}{{m}_{a}^{2} - {m}_{b}^{2}}$"
      ],
      "text/plain": [
       "⎛⎛         2                  2⎞                                          ⎛   \n",
       "⎝⎝m[a]⋅m[b]  + m[a]⋅{{m_n}}[i] ⎠⋅{{B_{1}}}__{(1)}({{m_n}}[i], m_W)⋅m[a] - ⎝m[a\n",
       "──────────────────────────────────────────────────────────────────────────────\n",
       "                                                                              \n",
       "                                                                              \n",
       "\n",
       " 2       2⎞                                             2⎞                    \n",
       "]  + m[b] ⎠⋅{{B_{0}}}__{(1)}({{m_n}}[i], m_W)⋅{{m_n}}[i] ⎠⋅m[b]⋅{{U^\\nu}}[a, i\n",
       "──────────────────────────────────────────────────────────────────────────────\n",
       "        2       2                                                             \n",
       "    m[a]  - m[b]                                                              \n",
       "\n",
       "                     \n",
       "]⋅{{U^{\\nu *}}}[b, i]\n",
       "─────────────────────\n",
       "                     \n",
       "                     "
      ]
     },
     "execution_count": 49,
     "metadata": {},
     "output_type": "execute_result"
    }
   ],
   "source": [
    "bubbleniG = lfvhd.BubbleFS(vertexhee(b),vertexenGd(i,b),vertexneGu(i,a),[mn[i],mW])\n",
    "AL8 = (-bubbleniG.AL()/A).collect([\n",
    "    lfvhd.B1_0(mn[i],mW),lfvhd.B1_1(mn[i],mW)]).simplify().subs(cambios)\n",
    "AL8"
   ]
  },
  {
   "cell_type": "code",
   "execution_count": 50,
   "metadata": {},
   "outputs": [
    {
     "data": {
      "image/png": "[encoded data removed]",
      "text/latex": [
       "$\\displaystyle \\frac{\\Delta_\\epsilon \\left(\\left({m}_{b}^{2} - {{{m_n}}}_{i}^{2}\\right) {m}_{a}^{2} - 2 {m}_{b}^{2} {{{m_n}}}_{i}^{2}\\right) {m}_{b} {{{U^\\nu}}}_{a,i} {{{U^{\\nu *}}}}_{b,i}}{2 \\left({m}_{a}^{2} - {m}_{b}^{2}\\right)}$"
      ],
      "text/plain": [
       "                ⎛⎛    2             2⎞     2         2           2⎞           \n",
       "\\Delta_\\epsilon⋅⎝⎝m[b]  - {{m_n}}[i] ⎠⋅m[a]  - 2⋅m[b] ⋅{{m_n}}[i] ⎠⋅m[b]⋅{{U^\\\n",
       "──────────────────────────────────────────────────────────────────────────────\n",
       "                                               ⎛    2       2⎞                \n",
       "                                             2⋅⎝m[a]  - m[b] ⎠                \n",
       "\n",
       "                              \n",
       "nu}}[a, i]⋅{{U^{\\nu *}}}[b, i]\n",
       "──────────────────────────────\n",
       "                              \n",
       "                              "
      ]
     },
     "execution_count": 50,
     "metadata": {},
     "output_type": "execute_result"
    }
   ],
   "source": [
    "DivL8 =  AL8.subs(lfvhd.cambiosDivFin(mn[i],mW,mW)).expand(\n",
    ").collect([lfvhd.Δe],evaluate=False)[lfvhd.Δe].simplify()*lfvhd.Δe\n",
    "DivL8"
   ]
  },
  {
   "cell_type": "code",
   "execution_count": 51,
   "metadata": {},
   "outputs": [
    {
     "data": {
      "image/png": "[encoded data removed]",
      "text/latex": [
       "$\\displaystyle \\frac{\\left(\\left({m}_{a}^{2} {m}_{b} + {m}_{b} {{{m_n}}}_{i}^{2}\\right) \\operatorname{{{B^{(1)}_{1}}}}{\\left({{{m_n}}}_{i},m_{W} \\right)} {m}_{a} - 2 \\operatorname{{{B^{(1)}_{0}}}}{\\left({{{m_n}}}_{i},m_{W} \\right)} {m}_{a} {m}_{b} {{{m_n}}}_{i}^{2}\\right) {m}_{b} {{{U^\\nu}}}_{a,i} {{{U^{\\nu *}}}}_{b,i}}{{m}_{a}^{2} - {m}_{b}^{2}}$"
      ],
      "text/plain": [
       "⎛⎛    2                       2⎞                                              \n",
       "⎝⎝m[a] ⋅m[b] + m[b]⋅{{m_n}}[i] ⎠⋅{{B_{1}}}__{(1)}({{m_n}}[i], m_W)⋅m[a] - 2⋅{{\n",
       "──────────────────────────────────────────────────────────────────────────────\n",
       "                                                                              \n",
       "                                                                              \n",
       "\n",
       "                                                    2⎞                        \n",
       "B_{0}}}__{(1)}({{m_n}}[i], m_W)⋅m[a]⋅m[b]⋅{{m_n}}[i] ⎠⋅m[b]⋅{{U^\\nu}}[a, i]⋅{{\n",
       "──────────────────────────────────────────────────────────────────────────────\n",
       "      2       2                                                               \n",
       "  m[a]  - m[b]                                                                \n",
       "\n",
       "                 \n",
       "U^{\\nu *}}}[b, i]\n",
       "─────────────────\n",
       "                 \n",
       "                 "
      ]
     },
     "execution_count": 51,
     "metadata": {},
     "output_type": "execute_result"
    }
   ],
   "source": [
    "AR8 = (-bubbleniG.AR()/A).collect([\n",
    "    lfvhd.B1_0(mn[i],mW),lfvhd.B1_1(mn[i],mW)]).simplify().subs(cambios)\n",
    "AR8"
   ]
  },
  {
   "cell_type": "code",
   "execution_count": 52,
   "metadata": {},
   "outputs": [
    {
     "data": {
      "image/png": "[encoded data removed]",
      "text/latex": [
       "$\\displaystyle \\frac{\\Delta_\\epsilon \\left({m}_{a}^{2} - 3 {{{m_n}}}_{i}^{2}\\right) {m}_{a} {m}_{b}^{2} {{{U^\\nu}}}_{a,i} {{{U^{\\nu *}}}}_{b,i}}{2 \\left({m}_{a}^{2} - {m}_{b}^{2}\\right)}$"
      ],
      "text/plain": [
       "                ⎛    2               2⎞          2                            \n",
       "\\Delta_\\epsilon⋅⎝m[a]  - 3⋅{{m_n}}[i] ⎠⋅m[a]⋅m[b] ⋅{{U^\\nu}}[a, i]⋅{{U^{\\nu *}\n",
       "──────────────────────────────────────────────────────────────────────────────\n",
       "                                    ⎛    2       2⎞                           \n",
       "                                  2⋅⎝m[a]  - m[b] ⎠                           \n",
       "\n",
       "        \n",
       "}}[b, i]\n",
       "────────\n",
       "        \n",
       "        "
      ]
     },
     "execution_count": 52,
     "metadata": {},
     "output_type": "execute_result"
    }
   ],
   "source": [
    "DivR8 = AR8.subs(lfvhd.cambiosDivFin(mn[i],mW,mW)).expand(\n",
    ").collect([lfvhd.Δe],evaluate=False)[lfvhd.Δe].simplify()*lfvhd.Δe\n",
    "DivR8"
   ]
  },
  {
   "cell_type": "markdown",
   "metadata": {},
   "source": [
    "### Bubble Gni\n",
    "\n",
    "This is the diagram 10 of our reference"
   ]
  },
  {
   "cell_type": "code",
   "execution_count": 53,
   "metadata": {},
   "outputs": [
    {
     "data": {
      "image/png": "[encoded data removed]",
      "text/latex": [
       "$\\displaystyle \\frac{\\left(\\left({m}_{a} {m}_{b}^{2} + {m}_{a} {{{m_n}}}_{i}^{2}\\right) \\operatorname{{{B^{(2)}_{1}}}}{\\left({{{m_n}}}_{i},m_{W} \\right)} {m}_{b} + 2 \\operatorname{{{B^{(2)}_{0}}}}{\\left({{{m_n}}}_{i},m_{W} \\right)} {m}_{a} {m}_{b} {{{m_n}}}_{i}^{2}\\right) {m}_{a} {{{U^\\nu}}}_{a,i} {{{U^{\\nu *}}}}_{b,i}}{{m}_{a}^{2} - {m}_{b}^{2}}$"
      ],
      "text/plain": [
       "⎛⎛         2                  2⎞                                              \n",
       "⎝⎝m[a]⋅m[b]  + m[a]⋅{{m_n}}[i] ⎠⋅{{B_{1}}}__{(2)}({{m_n}}[i], m_W)⋅m[b] + 2⋅{{\n",
       "──────────────────────────────────────────────────────────────────────────────\n",
       "                                                                              \n",
       "                                                                              \n",
       "\n",
       "                                                    2⎞                        \n",
       "B_{0}}}__{(2)}({{m_n}}[i], m_W)⋅m[a]⋅m[b]⋅{{m_n}}[i] ⎠⋅m[a]⋅{{U^\\nu}}[a, i]⋅{{\n",
       "──────────────────────────────────────────────────────────────────────────────\n",
       "      2       2                                                               \n",
       "  m[a]  - m[b]                                                                \n",
       "\n",
       "                 \n",
       "U^{\\nu *}}}[b, i]\n",
       "─────────────────\n",
       "                 \n",
       "                 "
      ]
     },
     "execution_count": 53,
     "metadata": {},
     "output_type": "execute_result"
    }
   ],
   "source": [
    "bubbleGni = lfvhd.BubbleSF(vertexhee(a),vertexenGd(i,b),vertexneGu(i,a),[mn[i],mW])\n",
    "AL10 = (-bubbleGni.AL()/A).collect([\n",
    "      lfvhd.B2_0(mn[i],mW),lfvhd.B2_1(mn[i],mW)]).simplify().subs(cambios)\n",
    "AL10"
   ]
  },
  {
   "cell_type": "code",
   "execution_count": 54,
   "metadata": {},
   "outputs": [
    {
     "data": {
      "image/png": "[encoded data removed]",
      "text/latex": [
       "$\\displaystyle \\frac{\\Delta_\\epsilon \\left(- {m}_{b}^{2} + 3 {{{m_n}}}_{i}^{2}\\right) {m}_{a}^{2} {m}_{b} {{{U^\\nu}}}_{a,i} {{{U^{\\nu *}}}}_{b,i}}{2 \\left({m}_{a}^{2} - {m}_{b}^{2}\\right)}$"
      ],
      "text/plain": [
       "                ⎛      2               2⎞     2                               \n",
       "\\Delta_\\epsilon⋅⎝- m[b]  + 3⋅{{m_n}}[i] ⎠⋅m[a] ⋅m[b]⋅{{U^\\nu}}[a, i]⋅{{U^{\\nu \n",
       "──────────────────────────────────────────────────────────────────────────────\n",
       "                                     ⎛    2       2⎞                          \n",
       "                                   2⋅⎝m[a]  - m[b] ⎠                          \n",
       "\n",
       "          \n",
       "*}}}[b, i]\n",
       "──────────\n",
       "          \n",
       "          "
      ]
     },
     "execution_count": 54,
     "metadata": {},
     "output_type": "execute_result"
    }
   ],
   "source": [
    "DivL10 = AL10.subs(lfvhd.cambiosDivFin(mn[i],mW,mW)).expand(\n",
    ").collect([lfvhd.Δe],evaluate=False)[lfvhd.Δe].simplify()*lfvhd.Δe\n",
    "DivL10"
   ]
  },
  {
   "cell_type": "code",
   "execution_count": 55,
   "metadata": {},
   "outputs": [
    {
     "data": {
      "image/png": "[encoded data removed]",
      "text/latex": [
       "$\\displaystyle \\frac{\\left(\\left({m}_{a}^{2} {m}_{b} + {m}_{b} {{{m_n}}}_{i}^{2}\\right) \\operatorname{{{B^{(2)}_{1}}}}{\\left({{{m_n}}}_{i},m_{W} \\right)} {m}_{b} + \\left({m}_{a}^{2} + {m}_{b}^{2}\\right) \\operatorname{{{B^{(2)}_{0}}}}{\\left({{{m_n}}}_{i},m_{W} \\right)} {{{m_n}}}_{i}^{2}\\right) {m}_{a} {{{U^\\nu}}}_{a,i} {{{U^{\\nu *}}}}_{b,i}}{{m}_{a}^{2} - {m}_{b}^{2}}$"
      ],
      "text/plain": [
       "⎛⎛    2                       2⎞                                          ⎛   \n",
       "⎝⎝m[a] ⋅m[b] + m[b]⋅{{m_n}}[i] ⎠⋅{{B_{1}}}__{(2)}({{m_n}}[i], m_W)⋅m[b] + ⎝m[a\n",
       "──────────────────────────────────────────────────────────────────────────────\n",
       "                                                                              \n",
       "                                                                              \n",
       "\n",
       " 2       2⎞                                             2⎞                    \n",
       "]  + m[b] ⎠⋅{{B_{0}}}__{(2)}({{m_n}}[i], m_W)⋅{{m_n}}[i] ⎠⋅m[a]⋅{{U^\\nu}}[a, i\n",
       "──────────────────────────────────────────────────────────────────────────────\n",
       "        2       2                                                             \n",
       "    m[a]  - m[b]                                                              \n",
       "\n",
       "                     \n",
       "]⋅{{U^{\\nu *}}}[b, i]\n",
       "─────────────────────\n",
       "                     \n",
       "                     "
      ]
     },
     "execution_count": 55,
     "metadata": {},
     "output_type": "execute_result"
    }
   ],
   "source": [
    "AR10 = (-bubbleGni.AR()/A).collect([\n",
    "    lfvhd.B2_0(mn[i],mW),lfvhd.B2_1(mn[i],mW)]).simplify().subs(cambios)\n",
    "AR10"
   ]
  },
  {
   "cell_type": "code",
   "execution_count": 56,
   "metadata": {},
   "outputs": [
    {
     "data": {
      "image/png": "[encoded data removed]",
      "text/latex": [
       "$\\displaystyle \\frac{\\Delta_\\epsilon \\left(\\left(- {m}_{a}^{2} + {{{m_n}}}_{i}^{2}\\right) {m}_{b}^{2} + 2 {m}_{a}^{2} {{{m_n}}}_{i}^{2}\\right) {m}_{a} {{{U^\\nu}}}_{a,i} {{{U^{\\nu *}}}}_{b,i}}{2 \\left({m}_{a}^{2} - {m}_{b}^{2}\\right)}$"
      ],
      "text/plain": [
       "                ⎛⎛      2             2⎞     2         2           2⎞         \n",
       "\\Delta_\\epsilon⋅⎝⎝- m[a]  + {{m_n}}[i] ⎠⋅m[b]  + 2⋅m[a] ⋅{{m_n}}[i] ⎠⋅m[a]⋅{{U\n",
       "──────────────────────────────────────────────────────────────────────────────\n",
       "                                                ⎛    2       2⎞               \n",
       "                                              2⋅⎝m[a]  - m[b] ⎠               \n",
       "\n",
       "                                \n",
       "^\\nu}}[a, i]⋅{{U^{\\nu *}}}[b, i]\n",
       "────────────────────────────────\n",
       "                                \n",
       "                                "
      ]
     },
     "execution_count": 56,
     "metadata": {},
     "output_type": "execute_result"
    }
   ],
   "source": [
    "DivR10 = AR10.subs(lfvhd.cambiosDivFin(mn[i],mW,mW)).expand(\n",
    ").collect([lfvhd.Δe],evaluate=False)[lfvhd.Δe].simplify()*lfvhd.Δe\n",
    "DivR10"
   ]
  },
  {
   "cell_type": "markdown",
   "metadata": {},
   "source": [
    "## Study of divergencies"
   ]
  },
  {
   "cell_type": "code",
   "execution_count": 57,
   "metadata": {},
   "outputs": [
    {
     "data": {
      "image/png": "[encoded data removed]",
      "text/latex": [
       "$\\displaystyle - \\Delta_\\epsilon \\left({C}_{i,j} {{{m_n}}}_{j} + {{{C^*}}}_{i,j} {{{m_n}}}_{i}\\right) {m}_{b} {{{U^\\nu}}}_{a,i} {{{U^{\\nu *}}}}_{b,j} {{{m_n}}}_{i}$"
      ],
      "text/plain": [
       "-\\Delta_\\epsilon⋅(C[i, j]⋅{{m_n}}[j] + {{C^*}}[i, j]⋅{{m_n}}[i])⋅m[b]⋅{{U^\\nu}\n",
       "}[a, i]⋅{{U^{\\nu *}}}[b, j]⋅{{m_n}}[i]"
      ]
     },
     "execution_count": 57,
     "metadata": {},
     "output_type": "execute_result"
    }
   ],
   "source": [
    "DivL1"
   ]
  },
  {
   "cell_type": "code",
   "execution_count": 58,
   "metadata": {},
   "outputs": [
    {
     "data": {
      "image/png": "[encoded data removed]",
      "text/latex": [
       "$\\displaystyle - \\Delta_\\epsilon \\left({C}_{i,j} {{{m_n}}}_{i} + {{{C^*}}}_{i,j} {{{m_n}}}_{j}\\right) {m}_{a} {{{U^\\nu}}}_{a,i} {{{U^{\\nu *}}}}_{b,j} {{{m_n}}}_{j}$"
      ],
      "text/plain": [
       "-\\Delta_\\epsilon⋅(C[i, j]⋅{{m_n}}[i] + {{C^*}}[i, j]⋅{{m_n}}[j])⋅m[a]⋅{{U^\\nu}\n",
       "}[a, i]⋅{{U^{\\nu *}}}[b, j]⋅{{m_n}}[j]"
      ]
     },
     "execution_count": 58,
     "metadata": {},
     "output_type": "execute_result"
    }
   ],
   "source": [
    "DivR1"
   ]
  },
  {
   "cell_type": "code",
   "execution_count": 59,
   "metadata": {},
   "outputs": [
    {
     "data": {
      "image/png": "[encoded data removed]",
      "text/latex": [
       "$\\displaystyle - \\Delta_\\epsilon {m}_{b} {{{U^\\nu}}}_{a,i} {{{U^{\\nu *}}}}_{b,i} {{{m_n}}}_{i}^{2}$"
      ],
      "text/plain": [
       "                                                                    2\n",
       "-\\Delta_\\epsilon⋅m[b]⋅{{U^\\nu}}[a, i]⋅{{U^{\\nu *}}}[b, i]⋅{{m_n}}[i] "
      ]
     },
     "execution_count": 59,
     "metadata": {},
     "output_type": "execute_result"
    }
   ],
   "source": [
    "DivL1n = DivL1.expand().subs(C[i,j],0).subs({Cc[i,j]:1,Uνc[b,j]:Uνc[b,i]})\n",
    "DivL1n"
   ]
  },
  {
   "cell_type": "code",
   "execution_count": 60,
   "metadata": {},
   "outputs": [
    {
     "data": {
      "image/png": "[encoded data removed]",
      "text/latex": [
       "$\\displaystyle - \\Delta_\\epsilon {m}_{a} {{{U^\\nu}}}_{a,i} {{{U^{\\nu *}}}}_{b,i} {{{m_n}}}_{i}^{2}$"
      ],
      "text/plain": [
       "                                                                    2\n",
       "-\\Delta_\\epsilon⋅m[a]⋅{{U^\\nu}}[a, i]⋅{{U^{\\nu *}}}[b, i]⋅{{m_n}}[i] "
      ]
     },
     "execution_count": 60,
     "metadata": {},
     "output_type": "execute_result"
    }
   ],
   "source": [
    "DivR1n = DivR1.expand().subs(C[i,j],0).subs({mn[j]:mn[i],Cc[i,j]:1,Uνc[b,j]:Uνc[b,i]})\n",
    "DivR1n"
   ]
  },
  {
   "cell_type": "code",
   "execution_count": 61,
   "metadata": {},
   "outputs": [
    {
     "data": {
      "image/png": "[encoded data removed]",
      "text/latex": [
       "$\\displaystyle 0$"
      ],
      "text/plain": [
       "0"
      ]
     },
     "execution_count": 61,
     "metadata": {},
     "output_type": "execute_result"
    }
   ],
   "source": [
    "(DivL1n + \n",
    " DivL4cross + DivL5\n",
    " + DivL7 + DivL9\n",
    " + DivL8 + DivL10).simplify()"
   ]
  },
  {
   "cell_type": "code",
   "execution_count": 62,
   "metadata": {},
   "outputs": [
    {
     "data": {
      "image/png": "[encoded data removed]",
      "text/latex": [
       "$\\displaystyle 0$"
      ],
      "text/plain": [
       "0"
      ]
     },
     "execution_count": 62,
     "metadata": {},
     "output_type": "execute_result"
    }
   ],
   "source": [
    "(DivR1n \n",
    " + DivR4 + DivR5cross\n",
    " + DivR7 + DivR9\n",
    " + DivR8 + DivR10).simplify()"
   ]
  },
  {
   "cell_type": "code",
   "execution_count": 63,
   "metadata": {},
   "outputs": [
    {
     "data": {
      "image/png": "[encoded data removed]",
      "text/latex": [
       "$\\displaystyle 0$"
      ],
      "text/plain": [
       "0"
      ]
     },
     "execution_count": 63,
     "metadata": {},
     "output_type": "execute_result"
    }
   ],
   "source": [
    "(DivR7 + DivR9).simplify()"
   ]
  },
  {
   "cell_type": "code",
   "execution_count": 64,
   "metadata": {},
   "outputs": [
    {
     "data": {
      "image/png": "[encoded data removed]",
      "text/latex": [
       "$\\displaystyle 0$"
      ],
      "text/plain": [
       "0"
      ]
     },
     "execution_count": 64,
     "metadata": {},
     "output_type": "execute_result"
    }
   ],
   "source": [
    "(DivR1n + DivR8 + DivR10).simplify()"
   ]
  },
  {
   "cell_type": "code",
   "execution_count": 65,
   "metadata": {},
   "outputs": [
    {
     "data": {
      "image/png": "[encoded data removed]",
      "text/latex": [
       "$\\displaystyle - \\Delta_\\epsilon {m}_{a} {{{U^\\nu}}}_{a,i} {{{U^{\\nu *}}}}_{b,i} {{{m_n}}}_{i}^{2}$"
      ],
      "text/plain": [
       "                                                                    2\n",
       "-\\Delta_\\epsilon⋅m[a]⋅{{U^\\nu}}[a, i]⋅{{U^{\\nu *}}}[b, i]⋅{{m_n}}[i] "
      ]
     },
     "execution_count": 65,
     "metadata": {},
     "output_type": "execute_result"
    }
   ],
   "source": [
    "DivR1n "
   ]
  },
  {
   "cell_type": "markdown",
   "metadata": {},
   "source": [
    "## Adding all contributions"
   ]
  },
  {
   "cell_type": "code",
   "execution_count": 66,
   "metadata": {},
   "outputs": [],
   "source": [
    "from sympy import Symbol,lambdify"
   ]
  },
  {
   "cell_type": "code",
   "execution_count": 67,
   "metadata": {},
   "outputs": [],
   "source": [
    "TrianglesTwoFermion = [triangleGninj,triangleWninj]\n",
    "TrianglesOneFermion = [triangleniWW,\n",
    "         triangleniWG,triangleniWGcross,triangleniGW, triangleniGWcross,\n",
    "         triangleniGG]\n",
    "Bubbles = [bubbleniW,bubbleniG,bubbleWni,bubbleGni]"
   ]
  },
  {
   "cell_type": "code",
   "execution_count": 68,
   "metadata": {},
   "outputs": [
    {
     "data": {
      "image/png": "[encoded data removed]",
      "text/latex": [
       "$\\displaystyle \\left\\{a, b, g, i, m_{W}, m_{a}, m_{i}, {{U^\\nu}}, {{U^{\\nu *}}}, {{m_n}}\\right\\}$"
      ],
      "text/plain": [
       "{a, b, g, i, m_W, mₐ, mᵢ, {{U__\\nu}}, {{U__{\\nu *}}}, {{m_n}}}"
      ]
     },
     "metadata": {},
     "output_type": "display_data"
    },
    {
     "data": {
      "image/png": "[encoded data removed]",
      "text/latex": [
       "$\\displaystyle \\left\\{a, b, g, i, m, m_{W}, m_{a}, m_{i}, m_{j}, {{U^\\nu}}, {{U^{\\nu *}}}, {{m_n}}\\right\\}$"
      ],
      "text/plain": [
       "{a, b, g, i, m, m_W, mₐ, mᵢ, m_j, {{U__\\nu}}, {{U__{\\nu *}}}, {{m_n}}}"
      ]
     },
     "metadata": {},
     "output_type": "display_data"
    },
    {
     "data": {
      "image/png": "[encoded data removed]",
      "text/latex": [
       "$\\displaystyle \\left\\{a, b, g, i, m, m_{W}, m_{a}, m_{i}, m_{j}, {{U^\\nu}}, {{U^{\\nu *}}}, {{m_n}}\\right\\}$"
      ],
      "text/plain": [
       "{a, b, g, i, m, m_W, mₐ, mᵢ, m_j, {{U__\\nu}}, {{U__{\\nu *}}}, {{m_n}}}"
      ]
     },
     "metadata": {},
     "output_type": "display_data"
    },
    {
     "data": {
      "image/png": "[encoded data removed]",
      "text/latex": [
       "$\\displaystyle \\left\\{a, b, g, i, m, m_{W}, m_{a}, m_{i}, m_{j}, {{U^\\nu}}, {{U^{\\nu *}}}, {{m_n}}\\right\\}$"
      ],
      "text/plain": [
       "{a, b, g, i, m, m_W, mₐ, mᵢ, m_j, {{U__\\nu}}, {{U__{\\nu *}}}, {{m_n}}}"
      ]
     },
     "metadata": {},
     "output_type": "display_data"
    },
    {
     "data": {
      "image/png": "[encoded data removed]",
      "text/latex": [
       "$\\displaystyle \\left\\{a, b, g, i, m, m_{W}, m_{a}, m_{i}, m_{j}, {{U^\\nu}}, {{U^{\\nu *}}}, {{m_n}}\\right\\}$"
      ],
      "text/plain": [
       "{a, b, g, i, m, m_W, mₐ, mᵢ, m_j, {{U__\\nu}}, {{U__{\\nu *}}}, {{m_n}}}"
      ]
     },
     "metadata": {},
     "output_type": "display_data"
    },
    {
     "data": {
      "image/png": "[encoded data removed]",
      "text/latex": [
       "$\\displaystyle \\left\\{a, b, g, i, m, m_{W}, m_{a}, m_{i}, m_{j}, {{U^\\nu}}, {{U^{\\nu *}}}, {{m_n}}\\right\\}$"
      ],
      "text/plain": [
       "{a, b, g, i, m, m_W, mₐ, mᵢ, m_j, {{U__\\nu}}, {{U__{\\nu *}}}, {{m_n}}}"
      ]
     },
     "metadata": {},
     "output_type": "display_data"
    },
    {
     "data": {
      "image/png": "[encoded data removed]",
      "text/latex": [
       "$\\displaystyle \\left\\{a, b, g, i, m_{W}, m_{i}, m_{j}, {{U^\\nu}}, {{U^{\\nu *}}}, {{m_n}}\\right\\}$"
      ],
      "text/plain": [
       "{a, b, g, i, m_W, mᵢ, m_j, {{U__\\nu}}, {{U__{\\nu *}}}, {{m_n}}}"
      ]
     },
     "metadata": {},
     "output_type": "display_data"
    },
    {
     "data": {
      "image/png": "[encoded data removed]",
      "text/latex": [
       "$\\displaystyle \\left\\{a, b, g, i, m, m_{W}, m_{i}, m_{j}, {{U^\\nu}}, {{U^{\\nu *}}}, {{m_n}}\\right\\}$"
      ],
      "text/plain": [
       "{a, b, g, i, m, m_W, mᵢ, m_j, {{U__\\nu}}, {{U__{\\nu *}}}, {{m_n}}}"
      ]
     },
     "metadata": {},
     "output_type": "display_data"
    },
    {
     "data": {
      "image/png": "[encoded data removed]",
      "text/latex": [
       "$\\displaystyle \\left\\{a, b, g, i, m_{W}, m_{i}, m_{j}, {{U^\\nu}}, {{U^{\\nu *}}}, {{m_n}}\\right\\}$"
      ],
      "text/plain": [
       "{a, b, g, i, m_W, mᵢ, m_j, {{U__\\nu}}, {{U__{\\nu *}}}, {{m_n}}}"
      ]
     },
     "metadata": {},
     "output_type": "display_data"
    },
    {
     "data": {
      "image/png": "[encoded data removed]",
      "text/latex": [
       "$\\displaystyle \\left\\{a, b, g, i, m, m_{W}, m_{i}, m_{j}, {{U^\\nu}}, {{U^{\\nu *}}}, {{m_n}}\\right\\}$"
      ],
      "text/plain": [
       "{a, b, g, i, m, m_W, mᵢ, m_j, {{U__\\nu}}, {{U__{\\nu *}}}, {{m_n}}}"
      ]
     },
     "metadata": {},
     "output_type": "display_data"
    }
   ],
   "source": [
    "ALOneFermion = 0;AROneFermion = 0;\n",
    "for topology in [TrianglesOneFermion,Bubbles]:\n",
    "    for diag in topology:\n",
    "        masas = diag.masas\n",
    "        #display(masas)\n",
    "        if len(masas)==3:\n",
    "            splitting = lfvhd.cambiosDivFin(*masas)\n",
    "            aprroximation = lfvhd.cambios_aprox(*masas)\n",
    "        else:\n",
    "            splitting = lfvhd.cambiosDivFin(*masas,mW)\n",
    "            aprroximation = lfvhd.cambios_aprox(*masas,mW)\n",
    "        AL = diag.AL().subs(splitting).subs(lfvhd.D,4).subs(lfvhd.Δe,0)\n",
    "        display(AL.atoms(Symbol))\n",
    "        AR = diag.AR().subs(splitting).subs(lfvhd.D,4).subs(lfvhd.Δe,0)\n",
    "        ALOneFermion += AL.subs(aprroximation)\n",
    "        AROneFermion += AR.subs(aprroximation)"
   ]
  },
  {
   "cell_type": "markdown",
   "metadata": {},
   "source": [
    "## Numeric implementation of form factors"
   ]
  },
  {
   "cell_type": "code",
   "execution_count": 69,
   "metadata": {},
   "outputs": [],
   "source": [
    "valores ={mW:80.379,mh:125,m[a]:1.777,m[b]:0.1507,g:(2*80.379)/(246)}\n",
    "Uai, Ucbi,mni = symbols('U_{ai}, {{U_{bi}^*}},m_{n_i}')"
   ]
  },
  {
   "cell_type": "code",
   "execution_count": 70,
   "metadata": {},
   "outputs": [],
   "source": [
    "from Unu_seesaw import Unu\n",
    "import numpy as np\n",
    "from scipy.special import spence\n",
    "def sci_polylog(s,z):\n",
    "    return spence(1-z)"
   ]
  },
  {
   "cell_type": "code",
   "execution_count": 71,
   "metadata": {},
   "outputs": [
    {
     "data": {
      "text/plain": [
       "array([-0.-5.81356180e-04j, -0.-3.67681931e-08j, -0.-2.59990387e-08j,\n",
       "       -0.-2.12281262e-08j, -0.-1.83840966e-08j])"
      ]
     },
     "execution_count": 71,
     "metadata": {},
     "output_type": "execute_result"
    }
   ],
   "source": [
    "m6np = np.linspace(1e-5,10000,5)\n",
    "Unu(m6np,4,1)"
   ]
  },
  {
   "cell_type": "markdown",
   "metadata": {},
   "source": [
    "### Form factor with one fermion in the loop."
   ]
  },
  {
   "cell_type": "markdown",
   "metadata": {},
   "source": [
    "Neutrino benchmark is given by "
   ]
  },
  {
   "cell_type": "code",
   "execution_count": 72,
   "metadata": {},
   "outputs": [],
   "source": [
    "import matplotlib.pyplot as plt\n",
    "%matplotlib inline"
   ]
  },
  {
   "cell_type": "code",
   "execution_count": 104,
   "metadata": {},
   "outputs": [],
   "source": [
    "from OneLoopLFVHD.neutrinos import NuOscObservables\n",
    "Nudata = NuOscObservables"
   ]
  },
  {
   "cell_type": "code",
   "execution_count": 74,
   "metadata": {},
   "outputs": [
    {
     "data": {
      "text/plain": [
       "array([[1.00000000e-11+0.j, 1.00000000e-11+0.j, 1.00000000e-11+0.j],\n",
       "       [1.31871149e-11+0.j, 1.31871149e-11+0.j, 1.31871149e-11+0.j],\n",
       "       [5.12152321e-11+0.j, 5.12152321e-11+0.j, 5.12152321e-11+0.j],\n",
       "       [3.33333333e-01+0.j, 5.00000000e-01+0.j, 6.66666667e-01+0.j],\n",
       "       [5.00000000e-01+0.j, 7.50000000e-01+0.j, 1.00000000e+00+0.j],\n",
       "       [1.00000000e+00+0.j, 1.50000000e+00+0.j, 2.00000000e+00+0.j]])"
      ]
     },
     "execution_count": 74,
     "metadata": {},
     "output_type": "execute_result"
    }
   ],
   "source": [
    "m1 = 1e-11 #GeV\n",
    "\n",
    "d21 = Nudata.squareDm21.central*1e-18# este último factor convierte eV^2 a GeV^2\n",
    "d31 = Nudata.squareDm31.central*1e-18\n",
    "m2 = np.sqrt(m1**2 + d21)\n",
    "m3 = np.sqrt(m1**2 + d31)\n",
    "\n",
    "m4 = lambda m6: m6/3\n",
    "m5 = lambda m6: m6/2\n",
    "\n",
    "def mis(m6):\n",
    "    if isinstance(m6,(np.ndarray)):\n",
    "        return np.array([m1*np.ones_like(m6),m2*np.ones_like(m6),m3*np.ones_like(m6),\n",
    "                         m4(m6),m5(m6),m6])+np.zeros_like(m6)*1j\n",
    "    else:\n",
    "        return np.array([m1,m2,m3,m4(m6),m5(m6),m6])+np.zeros(6)*1j\n",
    "mis(np.linspace(1,2,3))#[1]**2 - mis(np.linspace(1,2,3))[0]**2"
   ]
  },
  {
   "cell_type": "markdown",
   "metadata": {},
   "source": [
    "#### AL one fermion "
   ]
  },
  {
   "cell_type": "code",
   "execution_count": 75,
   "metadata": {},
   "outputs": [],
   "source": [
    "ALOneFermionS = ALOneFermion.subs({lfvhd.mi:m[a],lfvhd.mj:m[b]}).subs(\n",
    "    {Uν[a,i]:Uai,Uνc[b,i]:Ucbi,mn[i]:mni}).subs(valores)#.atoms(Symbol)\n",
    "ALOneFermionNum = lambdify([mni,Uai,Ucbi],ALOneFermionS,modules=[\n",
    "    'numpy',{'polylog':sci_polylog}])"
   ]
  },
  {
   "cell_type": "code",
   "execution_count": 76,
   "metadata": {},
   "outputs": [],
   "source": [
    "def ALOneFermionnp(m6,a,b):\n",
    "    masas = mis(m6)\n",
    "    #print(masas)\n",
    "    al = 0\n",
    "    for i in range(1,7):\n",
    "        al += ALOneFermionNum(masas[i-1],Unu(m6,a,i),np.conjugate(Unu(m6,b,i)))\n",
    "        #print(al)\n",
    "        #print('*'*30)\n",
    "    return al"
   ]
  },
  {
   "cell_type": "code",
   "execution_count": 77,
   "metadata": {},
   "outputs": [
    {
     "data": {
      "text/plain": [
       "array([1.0000025e-05,           nan,           nan,           nan,\n",
       "                 nan])"
      ]
     },
     "execution_count": 77,
     "metadata": {},
     "output_type": "execute_result"
    }
   ],
   "source": [
    "sci_polylog(1,m6np)"
   ]
  },
  {
   "cell_type": "code",
   "execution_count": 78,
   "metadata": {},
   "outputs": [
    {
     "name": "stderr",
     "output_type": "stream",
     "text": [
      "/home/moiseszm/.local/lib/python3.7/site-packages/numpy/core/_asarray.py:83: ComplexWarning: Casting complex values to real discards the imaginary part\n",
      "  return array(a, dtype, copy=False, order=order)\n"
     ]
    },
    {
     "data": {
      "text/plain": [
       "[<matplotlib.lines.Line2D at 0x7f2b2f7d86d0>]"
      ]
     },
     "execution_count": 78,
     "metadata": {},
     "output_type": "execute_result"
    },
    {
     "data": {
      "image/png": "[encoded data removed]",
      "text/plain": [
       "<Figure size 432x288 with 1 Axes>"
      ]
     },
     "metadata": {
      "needs_background": "light"
     },
     "output_type": "display_data"
    }
   ],
   "source": [
    "n = 1000\n",
    "m6np = np.linspace(1,1e15,n,dtype=np.float64) + np.zeros(n)*1j\n",
    "#np.abs(ALOneFermionnp(m6np,2,3))\n",
    "#m6np\n",
    "plt.loglog(m6np,np.abs(ALOneFermionnp(m6np,2,3)))"
   ]
  },
  {
   "cell_type": "markdown",
   "metadata": {},
   "source": [
    "#### AR one fermion "
   ]
  },
  {
   "cell_type": "code",
   "execution_count": 79,
   "metadata": {},
   "outputs": [],
   "source": [
    "AROneFermionS = AROneFermion.subs({lfvhd.mi:m[a],lfvhd.mj:m[b]}).subs(\n",
    "    {Uν[a,i]:Uai,Uνc[b,i]:Ucbi,mn[i]:mni}).subs(valores)#.atoms(Symbol)\n",
    "\n",
    "\n",
    "AROneFermionNum = lambdify([mni,Uai,Ucbi],AROneFermionS,modules=[\n",
    "    'numpy',{'polylog':sci_polylog}])"
   ]
  },
  {
   "cell_type": "code",
   "execution_count": 80,
   "metadata": {},
   "outputs": [],
   "source": [
    "def AROneFermionnp(m6,a,b):\n",
    "    masas = mis(m6)\n",
    "    ar = 0\n",
    "    for i in range(1,7):\n",
    "        ar+= AROneFermionNum(masas[i-1],Unu(m6,a,i),\n",
    "                             np.conjugate(Unu(m6,b,i)))\n",
    "    return ar"
   ]
  },
  {
   "cell_type": "code",
   "execution_count": 81,
   "metadata": {},
   "outputs": [
    {
     "name": "stderr",
     "output_type": "stream",
     "text": [
      "/home/moiseszm/.local/lib/python3.7/site-packages/numpy/core/_asarray.py:83: ComplexWarning: Casting complex values to real discards the imaginary part\n",
      "  return array(a, dtype, copy=False, order=order)\n"
     ]
    },
    {
     "data": {
      "text/plain": [
       "[<matplotlib.lines.Line2D at 0x7f2b24e917d0>]"
      ]
     },
     "execution_count": 81,
     "metadata": {},
     "output_type": "execute_result"
    },
    {
     "data": {
      "image/png": "[encoded data removed]",
      "text/plain": [
       "<Figure size 432x288 with 1 Axes>"
      ]
     },
     "metadata": {
      "needs_background": "light"
     },
     "output_type": "display_data"
    }
   ],
   "source": [
    "#np.abs(AROneFermionnp(1000,2,3))\n",
    "plt.loglog(m6np,np.abs(AROneFermionnp(m6np,2,3)))\n",
    "#np.isnan(AROneFermionnp(m6np,2,3))"
   ]
  },
  {
   "cell_type": "markdown",
   "metadata": {},
   "source": [
    "### Form factor with two fermion in the loop."
   ]
  },
  {
   "cell_type": "code",
   "execution_count": 82,
   "metadata": {},
   "outputs": [],
   "source": [
    "from Unu_seesaw import Cij"
   ]
  },
  {
   "cell_type": "code",
   "execution_count": 83,
   "metadata": {},
   "outputs": [
    {
     "data": {
      "image/png": "[encoded data removed]",
      "text/latex": [
       "$\\displaystyle \\left[ m_{W}, \\  {{{m_n}}}_{i}, \\  {{{m_n}}}_{j}\\right]$"
      ],
      "text/plain": [
       "[m_W, {{m_n}}[i], {{m_n}}[j]]"
      ]
     },
     "metadata": {},
     "output_type": "display_data"
    },
    {
     "data": {
      "image/png": "[encoded data removed]",
      "text/latex": [
       "$\\displaystyle \\left[ m_{W}, \\  {{{m_n}}}_{i}, \\  {{{m_n}}}_{j}\\right]$"
      ],
      "text/plain": [
       "[m_W, {{m_n}}[i], {{m_n}}[j]]"
      ]
     },
     "metadata": {},
     "output_type": "display_data"
    }
   ],
   "source": [
    "ALTwoFermion = 0;ARTwoFermion = 0;\n",
    "for diag in TrianglesTwoFermion:\n",
    "    masas = diag.masas\n",
    "    display(masas)\n",
    "    splitting = lfvhd.cambiosDivFin(*masas)\n",
    "    aprroximation = lfvhd.cambios_aprox(*masas)\n",
    "    ALTwoFermion += diag.AL().subs(splitting).subs(lfvhd.D,4).subs(\n",
    "        lfvhd.Δe,0).subs(aprroximation)\n",
    "    ARTwoFermion += diag.AR().subs(splitting).subs(lfvhd.D,4).subs(\n",
    "        lfvhd.Δe,0).subs(aprroximation)\n"
   ]
  },
  {
   "cell_type": "markdown",
   "metadata": {},
   "source": [
    "#### AL TwoFermion"
   ]
  },
  {
   "cell_type": "code",
   "execution_count": 84,
   "metadata": {},
   "outputs": [],
   "source": [
    "Ucbj,mnj, Cijs,Cijcs = symbols('{{U_{bj}^*}},m_{n_j}, C_{ij},{{C_{ij}^*}}')"
   ]
  },
  {
   "cell_type": "code",
   "execution_count": 85,
   "metadata": {},
   "outputs": [],
   "source": [
    "ALTwoFermionS = ALTwoFermion.subs({lfvhd.mi:m[a],lfvhd.mj:m[b]}).subs(\n",
    "    {Uν[a,i]:Uai,Uνc[b,j]:Ucbj,mn[i]:mni,mn[j]:mnj,\n",
    "     C[i,j]:Cijs,Cc[i,j]:Cijcs}).subs(valores)"
   ]
  },
  {
   "cell_type": "code",
   "execution_count": 86,
   "metadata": {},
   "outputs": [],
   "source": [
    "ALTwoFermionNum = lambdify([mni,mnj,Uai,Ucbj,Cijs,Cijcs],ALTwoFermionS,\n",
    "                           modules=['numpy',{'polylog':sci_polylog}])"
   ]
  },
  {
   "cell_type": "code",
   "execution_count": 87,
   "metadata": {},
   "outputs": [],
   "source": [
    "#terms = ALTwoFermionS.expand().collect([mni,mnj],evaluate=False)"
   ]
  },
  {
   "cell_type": "code",
   "execution_count": 88,
   "metadata": {},
   "outputs": [],
   "source": [
    "#from sympy import plot, nan, log,oo"
   ]
  },
  {
   "cell_type": "code",
   "execution_count": 89,
   "metadata": {},
   "outputs": [],
   "source": [
    "#sm = mnj**2 - mni**2 -sqrt(mni**4 - 2*mni**2*mnj**2 - 31250*mni**2 + mnj**4 - 31250*mnj**2 +244140625)+ 15625\n",
    "#sp = mnj**2 - mni**2 +sqrt(mni**4 - 2*mni**2*mnj**2 - 31250*mni**2 + mnj**4 - 31250*mnj**2 +244140625)+ 15625\n",
    "#log(1-31250/s.subs({mni:m6[0],mnj:m6[0]})).n()\n",
    "#display(sp.subs({mni:mnj}).evalf(30,subs={mnj:1e-11}))\n",
    "#plot(sm.subs({mni:mnj}),(mnj,1e-12,1))#.subs(mnj,1e-6+0*1j)#.subs({mni:m6[0],mnj:m6[0]})\n",
    "#plot(sp.subs({mni:mnj}),(mnj,1e-12,1))"
   ]
  },
  {
   "cell_type": "code",
   "execution_count": 90,
   "metadata": {},
   "outputs": [],
   "source": [
    "#m6 = mis(100)\n",
    "#display(sp.subs({mni:mnj}))\n",
    "#for i in range(1,7):\n",
    "#    for j in range(1,7):\n",
    "#        r = log(1-31250/sp.evalf(50,subs={mni:m6[i-1],mnj:m6[j-1]})).n()\n",
    "#        display(r)"
   ]
  },
  {
   "cell_type": "code",
   "execution_count": 91,
   "metadata": {},
   "outputs": [],
   "source": [
    "#args = ALTwoFermionS.expand().args#.collect([mni,mnj]).args\n",
    "#print(len(args))\n",
    "#a = 3\n",
    "#b = 2\n",
    "#k=0\n",
    "#m6 = mis(100)\n",
    "#for i in range(1,7):\n",
    "#    for j in range(1,7):\n",
    "#        k+=1\n",
    "#        r = ALTwoFermionS.subs({Uai:Unu(m6[-1],a,i),Ucbj:np.conjugate(Unu(m6[-1],b,j)),Cijcs:np.conjugate(Cij(m6[-1],i,j))}).subs({Cijs:Cij(m6[-1],i,j)}).evalf(30,subs={mni:m6[i-1],mnj:m6[j-1]}).simplify()\n",
    "#        display(r)"
   ]
  },
  {
   "cell_type": "code",
   "execution_count": 92,
   "metadata": {},
   "outputs": [],
   "source": [
    "#n = 1000\n",
    "#m6np = np.linspace(1e-12,1e15,n,dtype=np.float64) + np.zeros(n)*1j\n",
    "#m6 = mis(m6np)\n",
    "#al = 0\n",
    "#for i in range(1,7):\n",
    "#    for j in range(1,7):\n",
    "        #if i!=j:#np.any(m6[i-1]!=m6[j-1]):\n",
    "#        r = ALTwoFermionNum(m6[i-1],m6[j-1],\n",
    "#                          Unu(m6[-1],1,i), np.conjugate(Unu(m6[-1],2,j)),\n",
    "#                          Cij(m6[-1],i,j),np.conjugate(Cij(m6[-1],i,j)))\n",
    "#        r = np.nan_to_num(r)\n",
    "#        al += r\n",
    "#plt.plot(np.abs(m6np),np.abs(al))\n",
    "#np.abs(np.nan_to_num(al))"
   ]
  },
  {
   "cell_type": "code",
   "execution_count": 93,
   "metadata": {},
   "outputs": [],
   "source": [
    "def ALTwoFermionnp(m6,a,b):\n",
    "    masas = mis(m6)\n",
    "    #print(masas)\n",
    "    al = 0\n",
    "    for i in range(4,7):\n",
    "        for j in range(4,7):\n",
    "            r = ALTwoFermionNum(masas[i-1],masas[j-1],\n",
    "                                      Unu(m6,a,i), np.conjugate(Unu(m6,b,j)),\n",
    "                                      Cij(m6,i,j),np.conjugate(Cij(m6,i,j)))\n",
    "            r = np.nan_to_num(r)\n",
    "            al += r\n",
    "            #print(al)\n",
    "    return al"
   ]
  },
  {
   "cell_type": "code",
   "execution_count": 94,
   "metadata": {},
   "outputs": [
    {
     "data": {
      "text/plain": [
       "[<matplotlib.lines.Line2D at 0x7f2b24db5850>]"
      ]
     },
     "execution_count": 94,
     "metadata": {},
     "output_type": "execute_result"
    },
    {
     "data": {
      "image/png": "[encoded data removed]",
      "text/plain": [
       "<Figure size 432x288 with 1 Axes>"
      ]
     },
     "metadata": {
      "needs_background": "light"
     },
     "output_type": "display_data"
    }
   ],
   "source": [
    "#plt.loglog(m6np,np.abs(ALTwoFermionnp(m6np,2,3)))\n",
    "#np.warnings.filterwarnings('error', category=np.VisibleDeprecationWarning)\n",
    "#np.seterr(divide='ignore', invalid='ignore')\n",
    "plt.semilogy(np.abs(m6np),np.abs(ALTwoFermionnp(m6np,3,2)))\n",
    "#np.abs(ALTwoFermionnp(m6np,3,2))"
   ]
  },
  {
   "cell_type": "markdown",
   "metadata": {},
   "source": [
    "#### AR Two Fermion"
   ]
  },
  {
   "cell_type": "code",
   "execution_count": 95,
   "metadata": {},
   "outputs": [],
   "source": [
    "ARTwoFermionS = ARTwoFermion.subs({lfvhd.mi:m[a],lfvhd.mj:m[b]}).subs(\n",
    "    {Uν[a,i]:Uai,Uνc[b,j]:Ucbj,mn[i]:mni,mn[j]:mnj,\n",
    "     C[i,j]:Cijs,Cc[i,j]:Cijcs}).subs(valores)"
   ]
  },
  {
   "cell_type": "code",
   "execution_count": 96,
   "metadata": {},
   "outputs": [],
   "source": [
    "ARTwoFermionNum = lambdify([mni,mnj,Uai,Ucbj,Cijs,Cijcs],ARTwoFermionS,\n",
    "                           modules=['numpy',{'polylog':sci_polylog}])"
   ]
  },
  {
   "cell_type": "code",
   "execution_count": 97,
   "metadata": {},
   "outputs": [],
   "source": [
    "def ARTwoFermionnp(m6,a,b):\n",
    "    masas = mis(m6)\n",
    "    #print(masas)\n",
    "    ar = 0\n",
    "    for i in range(1,7):\n",
    "        for j in range(1,7):\n",
    "            r = ARTwoFermionNum(masas[i-1],masas[j-1],\n",
    "                                      Unu(m6,a,i), np.conjugate(Unu(m6,b,j)),\n",
    "                                      Cij(m6,i,j),np.conjugate(Cij(m6,i,j)))\n",
    "            r = np.nan_to_num(r)\n",
    "            ar += r\n",
    "            #print(al)\n",
    "    return ar"
   ]
  },
  {
   "cell_type": "code",
   "execution_count": 103,
   "metadata": {},
   "outputs": [
    {
     "name": "stderr",
     "output_type": "stream",
     "text": [
      "<string>:2: RuntimeWarning: divide by zero encountered in true_divide\n",
      "<string>:2: RuntimeWarning: invalid value encountered in true_divide\n",
      "<string>:2: RuntimeWarning: invalid value encountered in multiply\n",
      "<string>:2: RuntimeWarning: divide by zero encountered in log\n"
     ]
    },
    {
     "data": {
      "text/plain": [
       "[<matplotlib.lines.Line2D at 0x7f2b2490b5d0>]"
      ]
     },
     "execution_count": 103,
     "metadata": {},
     "output_type": "execute_result"
    },
    {
     "data": {
      "image/png": "[encoded data removed]",
      "text/plain": [
       "<Figure size 432x288 with 1 Axes>"
      ]
     },
     "metadata": {
      "needs_background": "light"
     },
     "output_type": "display_data"
    }
   ],
   "source": [
    "plt.plot(np.abs(m6np),np.abs(ARTwoFermionnp(m6np,2,3)),'.')"
   ]
  },
  {
   "cell_type": "code",
   "execution_count": 103,
   "metadata": {},
   "outputs": [],
   "source": [
    "import dill\n",
    "dill.settings['recurse'] = True"
   ]
  },
  {
   "cell_type": "code",
   "execution_count": 104,
   "metadata": {},
   "outputs": [],
   "source": [
    "#h-> li,lj\n",
    "dill.dump(ALOneFermionnp , open(\"ALOneFermionnp.txt\", \"wb\"))\n",
    "dill.dump(AROneFermionnp , open(\"AROneFermionnp.txt\", \"wb\"))\n",
    "\n",
    "dill.dump(ALTwoFermionnp , open(\"ALTwoFermionnp.txt\", \"wb\"))\n",
    "dill.dump(ARTwoFermionnp , open(\"ARTwoFermionnp.txt\", \"wb\"))"
   ]
  },
  {
   "cell_type": "code",
   "execution_count": 99,
   "metadata": {},
   "outputs": [],
   "source": [
    "ALtot =lambda m6,a,b: ALOneFermionnp(m6,a,b) + ALTwoFermionnp(m6,a,b)\n",
    "ARtot =lambda m6,a,b: AROneFermionnp(m6,a,b) + ARTwoFermionnp(m6,a,b)"
   ]
  },
  {
   "cell_type": "code",
   "execution_count": 100,
   "metadata": {},
   "outputs": [],
   "source": [
    "from OneLoopLFVHD import BRhlilj,Γhlilj"
   ]
  },
  {
   "cell_type": "code",
   "execution_count": 97,
   "metadata": {},
   "outputs": [
    {
     "name": "stderr",
     "output_type": "stream",
     "text": [
      "<string>:2: RuntimeWarning: divide by zero encountered in true_divide\n",
      "<string>:2: RuntimeWarning: invalid value encountered in true_divide\n",
      "<string>:2: RuntimeWarning: invalid value encountered in multiply\n",
      "<string>:2: RuntimeWarning: divide by zero encountered in log\n",
      "<string>:2: RuntimeWarning: divide by zero encountered in true_divide\n",
      "<string>:2: RuntimeWarning: invalid value encountered in true_divide\n",
      "<string>:2: RuntimeWarning: invalid value encountered in multiply\n",
      "<string>:2: RuntimeWarning: divide by zero encountered in log\n"
     ]
    },
    {
     "data": {
      "text/plain": [
       "[<matplotlib.lines.Line2D at 0x7f70a4fabf90>]"
      ]
     },
     "execution_count": 97,
     "metadata": {},
     "output_type": "execute_result"
    },
    {
     "data": {
      "image/png": "[encoded data removed]",
      "text/plain": [
       "<Figure size 432x288 with 1 Axes>"
      ]
     },
     "metadata": {
      "needs_background": "light"
     },
     "output_type": "display_data"
    }
   ],
   "source": [
    "m6np = np.linspace(1e-11,10000,500)\n",
    "a = 3\n",
    "b = 2\n",
    "mtau = 1.77686\n",
    "mmu = 0.10566\n",
    "mh = 125.18\n",
    "X = BRhlilj(ALOneFermionnp(m6np,3,2),AROneFermionnp(m6np,3,2),ma=mh,mi=mtau,mj=mmu)\n",
    "Y = BRhlilj(ALTwoFermionnp(m6np,3,2),ARTwoFermionnp(m6np,3,2),ma=mh,mi=mtau,mj=mmu)\n",
    "#cond = X<1e60\n",
    "plt.semilogy(m6np,X,'.')\n",
    "plt.semilogy(m6np,Y,'.')"
   ]
  },
  {
   "cell_type": "code",
   "execution_count": 102,
   "metadata": {},
   "outputs": [
    {
     "name": "stderr",
     "output_type": "stream",
     "text": [
      "<string>:2: RuntimeWarning: divide by zero encountered in true_divide\n",
      "<string>:2: RuntimeWarning: invalid value encountered in true_divide\n",
      "<string>:2: RuntimeWarning: invalid value encountered in multiply\n",
      "<string>:2: RuntimeWarning: divide by zero encountered in log\n",
      "/home/moiseszm/.local/lib/python3.7/site-packages/numpy/core/_asarray.py:83: ComplexWarning: Casting complex values to real discards the imaginary part\n",
      "  return array(a, dtype, copy=False, order=order)\n"
     ]
    },
    {
     "data": {
      "text/plain": [
       "[<matplotlib.lines.Line2D at 0x7f2b2488b950>]"
      ]
     },
     "execution_count": 102,
     "metadata": {},
     "output_type": "execute_result"
    },
    {
     "data": {
      "image/png": "[encoded data removed]",
      "text/plain": [
       "<Figure size 432x288 with 1 Axes>"
      ]
     },
     "metadata": {
      "needs_background": "light"
     },
     "output_type": "display_data"
    }
   ],
   "source": [
    "a = 3\n",
    "b = 2\n",
    "mtau = 1.77686\n",
    "mmu = 0.10566\n",
    "mh = 125.18\n",
    "X = BRhlilj(ALtot(m6np,3,2),ARtot(m6np,3,2),ma=mh,mi=mtau,mj=mmu)\n",
    "#cond = X<1e60\n",
    "plt.loglog(m6np,X)"
   ]
  },
  {
   "cell_type": "code",
   "execution_count": null,
   "metadata": {},
   "outputs": [],
   "source": []
  }
 ],
 "metadata": {
  "kernelspec": {
   "display_name": "Python 3",
   "language": "python",
   "name": "python3"
  },
  "language_info": {
   "codemirror_mode": {
    "name": "ipython",
    "version": 3
   },
   "file_extension": ".py",
   "mimetype": "text/x-python",
   "name": "python",
   "nbconvert_exporter": "python",
   "pygments_lexer": "ipython3",
   "version": "3.7.6"
  }
 },
 "nbformat": 4,
 "nbformat_minor": 4
}
