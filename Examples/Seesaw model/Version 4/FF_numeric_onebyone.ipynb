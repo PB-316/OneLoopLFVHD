{
 "cells": [
  {
   "cell_type": "markdown",
   "metadata": {},
   "source": [
    "# LFV Higgs decays in SeeSaw model (Numeric approach)"
   ]
  },
  {
   "cell_type": "markdown",
   "metadata": {},
   "source": [
    "As we have showed in the symbolic form factors notebook [FF_symbolic.ipynb](FF_symbolic.ipynb), 10 diagrams contributes to LFVHD in the seesaw model. The form factors associated to these diagrams have been calculated and we have shown that the divergencies cancel correctly. All of the diagrams are summarized by convenience in the symbolic form factors script [seesaw_FF.py](seesaw_FF.py). However, all of this calculations are based in the simbolic library sympy, now we need to transform the expressions of the form factors to numeric funtions to be evaluated. In order to do that, we import all diagrams from [seesaw_FF.py](seesaw_FF.py) and the usefull functions for libraries like sympy, mpmath, matplotlib, multiprocessing and finally all library OneLoopLFVHD."
   ]
  },
  {
   "cell_type": "code",
   "execution_count": 1,
   "metadata": {},
   "outputs": [],
   "source": [
    "from sympy import init_printing, Symbol,lambdify, symbols, Matrix\n",
    "init_printing()\n",
    "import OneLoopLFVHD as lfvhd"
   ]
  },
  {
   "cell_type": "code",
   "execution_count": 2,
   "metadata": {},
   "outputs": [],
   "source": [
    "from seesaw_FF import TrianglesOneFermion, TrianglesTwoFermion, Bubbles,DiagramsOneFermionW, DiagramsOneFermionG\n",
    "from seesaw_FF import g, mW, Uν, Uνc, mn, m, C, Cc, a,b,i,h\n",
    "from seesaw_FF import j as jj"
   ]
  },
  {
   "cell_type": "code",
   "execution_count": 3,
   "metadata": {},
   "outputs": [],
   "source": [
    "import matplotlib.pyplot as plt\n",
    "%matplotlib inline"
   ]
  },
  {
   "cell_type": "code",
   "execution_count": 4,
   "metadata": {},
   "outputs": [],
   "source": [
    "from mpmath import *"
   ]
  },
  {
   "cell_type": "code",
   "execution_count": 5,
   "metadata": {},
   "outputs": [],
   "source": [
    "mp.dps = 120; mp.pretty = True"
   ]
  },
  {
   "cell_type": "code",
   "execution_count": 6,
   "metadata": {},
   "outputs": [],
   "source": [
    "import numpy as np"
   ]
  },
  {
   "cell_type": "code",
   "execution_count": 7,
   "metadata": {},
   "outputs": [],
   "source": [
    "#import subprocess as s"
   ]
  },
  {
   "cell_type": "code",
   "execution_count": 8,
   "metadata": {},
   "outputs": [],
   "source": [
    "from multiprocessing import Pool\n",
    "#from time import time"
   ]
  },
  {
   "cell_type": "code",
   "execution_count": 9,
   "metadata": {},
   "outputs": [],
   "source": [
    "def speedup_array(f,array,procs=4): \n",
    "    pool = Pool(procs,maxtasksperchild=100).map(f, array)\n",
    "    result = np.array(list(pool))\n",
    "    return result"
   ]
  },
  {
   "cell_type": "markdown",
   "metadata": {},
   "source": [
    "## Neutrino oscillation and lepton data"
   ]
  },
  {
   "cell_type": "markdown",
   "metadata": {},
   "source": [
    "Neutrino benchmark is given by "
   ]
  },
  {
   "cell_type": "code",
   "execution_count": 10,
   "metadata": {},
   "outputs": [],
   "source": [
    "from OneLoopLFVHD.neutrinos import NuOscObservables\n",
    "Nudata = NuOscObservables"
   ]
  },
  {
   "cell_type": "code",
   "execution_count": 11,
   "metadata": {},
   "outputs": [],
   "source": [
    "m1 = mpf('1e-12')  #GeV \n",
    "\n",
    "#current values to Square mass differences\n",
    "d21 = mpf(str(Nudata.squareDm21.central))*mpf('1e-18')# factor to convert eV^2 to GeV^2\n",
    "d31 = mpf(str(Nudata.squareDm31.central))*mpf('1e-18')\n",
    "\n",
    "#d21 = 7.5e-5*1e-18\n",
    "#d31 = 2.457e-3*1e-18\n",
    "m2 = sqrt(m1**2 + d21)\n",
    "m3 = sqrt(m1**2 + d31)\n",
    "\n",
    "m4 = lambda m6: m6/3\n",
    "m5 = lambda m6: m6/2"
   ]
  },
  {
   "cell_type": "markdown",
   "metadata": {},
   "source": [
    "We calls from [Unu_seesaw.py](Unu_seesaw.py) the `diagonalizationMnu` function previously created to perform numerically the diagonalization of $6 \\times 6$ mass matrix. Here we choose which scenary for heavy neutrino we consider."
   ]
  },
  {
   "cell_type": "code",
   "execution_count": 12,
   "metadata": {},
   "outputs": [],
   "source": [
    "from Unu_seesaw import diagonalizationMnu,Mnu\n",
    "diagonalizationMnu1 = lambda m1,m6: diagonalizationMnu(\n",
    "    m1,m2,m3,m6/mpf('3.0'),m6/mpf('2.0'),m6)\n",
    "#Mnu1 = lambda m1,m6: Mnu(m1,m2,m3,m6/mpf('3.0'),m6/mpf('2.0'),m6)\n",
    "\n",
    "#diagonalizationMnu1 = lambda m1,m6: diagonalizationMnu(\n",
    "#    m1,m2,m3,m6,m6,m6)"
   ]
  },
  {
   "cell_type": "code",
   "execution_count": 13,
   "metadata": {},
   "outputs": [
    {
     "name": "stdout",
     "output_type": "stream",
     "text": [
      "[(1.0e-12 + 0.0j), (8.65448e-12 + 0.0j), (5.02394e-11 + 0.0j), (3.33333e+14 + 0.0j), (5.0e+14 + 0.0j), (1.0e+15 + 0.0j)]\n"
     ]
    }
   ],
   "source": [
    "mnk, UL,UR = diagonalizationMnu1(m1,mp.mpf('1e15'))#0.003908\n",
    "mp.nprint(mnk)"
   ]
  },
  {
   "cell_type": "code",
   "execution_count": 14,
   "metadata": {},
   "outputs": [],
   "source": [
    "# mp.nprint(mp.chop(UL*UR))"
   ]
  },
  {
   "cell_type": "code",
   "execution_count": 15,
   "metadata": {},
   "outputs": [],
   "source": [
    "# A = Mnu1(m1,mp.mpf('1e15'))\n",
    "# mp.nprint(mp.chop(A * UR[:,0] - mnk[0] * UR[:,0]))"
   ]
  },
  {
   "cell_type": "code",
   "execution_count": 16,
   "metadata": {},
   "outputs": [],
   "source": [
    "#mp.nprint(mp.chop(A)),\n",
    "# mp.nprint(mp.chop(UL*A*UR,tol=1e-60))"
   ]
  },
  {
   "cell_type": "code",
   "execution_count": 17,
   "metadata": {},
   "outputs": [],
   "source": [
    "# mp.nprint(mp.chop(UR**(-1)*A*UR,tol=1e-60))"
   ]
  },
  {
   "cell_type": "code",
   "execution_count": 18,
   "metadata": {},
   "outputs": [],
   "source": [
    "# mp.nprint(mp.chop(UR**(-1)-UL))"
   ]
  },
  {
   "cell_type": "code",
   "execution_count": 19,
   "metadata": {},
   "outputs": [],
   "source": [
    "# mp.nprint(mp.chop(UR.conjugate().T*A*UR,tol=1e-12))"
   ]
  },
  {
   "cell_type": "code",
   "execution_count": 20,
   "metadata": {},
   "outputs": [],
   "source": [
    "# mp.nprint(mp.chop(UR*UR.conjugate().T,tol=1e-5))"
   ]
  },
  {
   "cell_type": "markdown",
   "metadata": {},
   "source": [
    "We introduce the values to $g$, $m_W$, $m_h$ and leptons masses, which will be susbtitute in the simbolic expressions."
   ]
  },
  {
   "cell_type": "code",
   "execution_count": 21,
   "metadata": {},
   "outputs": [],
   "source": [
    "from OneLoopLFVHD.data import ml"
   ]
  },
  {
   "cell_type": "code",
   "execution_count": 22,
   "metadata": {},
   "outputs": [],
   "source": [
    "mh,ma,mb = symbols('m_h,m_a,m_b',real=True)\n",
    "valores ={mW:mpf('80.379'),mh:mpf('125.10'),g:(2*mpf('80.379'))/mpf('246')}\n",
    "\n",
    "cambios_hab = lambda a,b:{lfvhd.ma:valores[mh],lfvhd.mi:ml[a],lfvhd.mj:ml[b]}"
   ]
  },
  {
   "cell_type": "markdown",
   "metadata": {},
   "source": [
    "## Diagrams with one fermion in the loop."
   ]
  },
  {
   "cell_type": "markdown",
   "metadata": {},
   "source": [
    "In the case of diagram with only one neutrino in the loop which are labeled by the index $i$. the diagrams are 8 which are stored in `TrianglesOneFermion` and `Bubbles` lists.To other side, we need to consider a summatory of 6 neutrino generation and the GIM mechanism. First we do a auxiliar simbolic substitutions related to the following code."
   ]
  },
  {
   "cell_type": "code",
   "execution_count": 23,
   "metadata": {},
   "outputs": [],
   "source": [
    "Ubi, Ucai,mni = symbols('U_{bi}, {{U_{ai}^*}},m_{n_i}')\n",
    "UnuOne = {mn[i]:mni,Uν[b,i]:Ubi,Uνc[a,i]:Ucai}"
   ]
  },
  {
   "cell_type": "markdown",
   "metadata": {},
   "source": [
    "A simple implementation to the GIM mechanism to any simbolic form factor"
   ]
  },
  {
   "cell_type": "code",
   "execution_count": 24,
   "metadata": {},
   "outputs": [],
   "source": [
    "def GIM_One(exp, fermion_mass):\n",
    "    '''\n",
    "    Function to apply the GIM mechanism in the form factors from diagrams with one neutrino in the loop \n",
    "    (This function is adapted only to this model seesaw and this notebook). \n",
    "    \n",
    "    input\n",
    "    ---------\n",
    "        exp: must be a form factor taken from a diagram of OneLoopLFVHD.\n",
    "    \n",
    "    Return\n",
    "    ---------\n",
    "        OneLoopLFVHD expresion (sympy expression): The output is the resultant form factor simplified by\n",
    "        the GIM mechanism, Only return the term which contains mni. \n",
    "    '''\n",
    "    from sympy import Add\n",
    "    args = exp.expand().args\n",
    "    func = exp.expand().func\n",
    "    if isinstance(func,Add):\n",
    "        exp_GIM = Add(*[t for t in args if t.has(fermion_mass)]).simplify()\n",
    "    else:\n",
    "        exp_GIM = exp\n",
    "    return exp_GIM"
   ]
  },
  {
   "cell_type": "markdown",
   "metadata": {},
   "source": [
    "When we create our numeric functions from symblic form factors we will sum over the neutrino generations by the function `sumOne`"
   ]
  },
  {
   "cell_type": "code",
   "execution_count": 25,
   "metadata": {},
   "outputs": [],
   "source": [
    "def sumOne(m6,Aab,a,b): \n",
    "    '''\n",
    "    Function which sums over neutrino generation conidering the structure of Upmns matrix before calculated.\n",
    "    \n",
    "    Input\n",
    "    --------\n",
    "        m6 (float): the haviet mass\n",
    "        Aab: funtion asociated to form factor\n",
    "        a,b (int): indexes of leptons a,b=1,2 or 3\n",
    "        \n",
    "    Output\n",
    "    --------\n",
    "        out (float): numeric summation of the form factor over the 6 neutrino generations.\n",
    "    '''\n",
    "    mnk,UnuL,UnuR = diagonalizationMnu1(m1,m6)\n",
    "    Unu = UnuR\n",
    "    Unu_dagger = UnuL\n",
    "    FF = []\n",
    "    for k in range(1,7):\n",
    "        #A = Aab(mnk[k-1],Unu[b-1,k-1],conj(Unu[a-1,k-1]))\n",
    "        A = Aab(mnk[k-1],Unu[b-1,k-1],Unu_dagger[k-1,a-1])\n",
    "        #print('Ai = ',A)\n",
    "        FF.append(A)\n",
    "    out = mp.fsum(FF)\n",
    "    return out\n"
   ]
  },
  {
   "cell_type": "markdown",
   "metadata": {},
   "source": [
    "Now, we build a main function to convert the symbolic form factor to numeric functions. This function is given below"
   ]
  },
  {
   "cell_type": "code",
   "execution_count": 26,
   "metadata": {},
   "outputs": [],
   "source": [
    "from OneLoopLFVHD.data import replaceBs, pave_functions # Auxiliary functions"
   ]
  },
  {
   "cell_type": "code",
   "execution_count": 27,
   "metadata": {},
   "outputs": [],
   "source": [
    "# bubbleniG = Bubbles[1]\n",
    "# bubbleGni = Bubbles[3]\n",
    "# bubbleniW = Bubbles[0]\n",
    "# bubbleWni = Bubbles[2]\n",
    "def numeric_sum_diagramsOne(a,b,quirality='L'):\n",
    "    '''\n",
    "    This function create a function which only depends on m6 and represent the sum of all form factors\n",
    "    associated to diagrams with one fermion in the loop and also considering the 6 neutrino generations.\n",
    "    \n",
    "    Input\n",
    "    ---------\n",
    "        a,b (int): indexes of leptons, a,b = 1,2 or 3\n",
    "        quirality (string): represents the chirality of the diagrams, it can be L or R:\n",
    "        \n",
    "    Output:\n",
    "        sum_over_index_i (function): returns the function which represent the sum of all diagrams and \n",
    "        over the neutrino index i. This function only depends on m6.\n",
    "    '''\n",
    "    #[TrianglesOneFermion[0],TrianglesOneFermion[1],TrianglesOneFermion[2]],\n",
    "    #[bubbleniG,bubbleGni]\n",
    "    FFOneFer_list = []\n",
    "    for Set in [TrianglesOneFermion,Bubbles]:#TrianglesOneFermion,Bubbles\n",
    "        for dia in Set:\n",
    "            if quirality=='L':\n",
    "                x = dia.AL().subs(lfvhd.D,4).subs(lfvhd.B12_0(mW,mW),0).subs(cambios_hab(a,b)).subs(valores).subs(UnuOne)\n",
    "            elif quirality=='R':\n",
    "                x = dia.AR().subs(lfvhd.D,4).subs(lfvhd.B12_0(mW,mW),0).subs(cambios_hab(a,b)).subs(valores).subs(UnuOne)\n",
    "            else:\n",
    "                raise ValueError('quirality must be L or R')\n",
    "            f = lambdify([mni,Ubi,Ucai],# depends on three parameters\n",
    "                         replaceBs(x), # replace B function by auxiliary functions which do not has problembs in lambdify\n",
    "                         modules=[pave_functions(valores[mh],a,b,lib='mpmath'),'mpmath']\n",
    "                        ) #numeric Form factor\n",
    "            #print(f(1,2,3))\n",
    "            #fsum = lambda m6:sumOne(m6,f,a,b)\n",
    "            FFOneFer_list.append(f)\n",
    "    def sum_over_index_i(m6):\n",
    "        out = []\n",
    "        xs = []\n",
    "        for FFab in FFOneFer_list:\n",
    "            FF_sum_over_i = sumOne(m6,FFab,a,b) # sum over neutrino generations\n",
    "            out.append(FF_sum_over_i)\n",
    "            xs.append(FF_sum_over_i)\n",
    "        return np.array(xs), mp.fsum(out)\n",
    "    return sum_over_index_i"
   ]
  },
  {
   "cell_type": "code",
   "execution_count": 28,
   "metadata": {},
   "outputs": [
    {
     "data": {
      "text/plain": [
       "(-0.00000000000000000000164264134948653190373983149336011275199493044710196452133911531626763195278205733279194534595605460155554385939691581936 + 6.42655735540577432039870529157212197020039202456525410966415052650847902684529611306839176782835980808962945260614614862e-146j)"
      ]
     },
     "execution_count": 28,
     "metadata": {},
     "output_type": "execute_result"
    }
   ],
   "source": [
    "numeric_sum_diagramsOne(3,1,quirality='R')(100)[1]"
   ]
  },
  {
   "cell_type": "code",
   "execution_count": 29,
   "metadata": {},
   "outputs": [],
   "source": [
    "def ALOneTot23(m6):\n",
    "    return numeric_sum_diagramsOne(2,3,quirality='L')(m6)[0]\n",
    "def AROneTot23(m6):\n",
    "    return numeric_sum_diagramsOne(2,3,quirality='R')(m6)[0]\n",
    "\n",
    "def ALOneTot13(m6):\n",
    "    return numeric_sum_diagramsOne(1,3,quirality='L')(m6)[0]\n",
    "def AROneTot13(m6):\n",
    "    return numeric_sum_diagramsOne(1,3,quirality='R')(m6)[0]\n",
    "\n",
    "\n",
    "def ALOneTot12(m6):\n",
    "    return numeric_sum_diagramsOne(1,2,quirality='L')(m6)[0]\n",
    "def AROneTot12(m6):\n",
    "    return numeric_sum_diagramsOne(1,2,quirality='R')(m6)[0]\n"
   ]
  },
  {
   "cell_type": "markdown",
   "metadata": {},
   "source": [
    "Now to plot we choose the interval $m_{n_6} \\in [10^{-1},10^{15}]$"
   ]
  },
  {
   "cell_type": "code",
   "execution_count": 30,
   "metadata": {},
   "outputs": [],
   "source": [
    "n = 100\n",
    "expmp = linspace(-1,15,n)\n",
    "m6np = np.array([mpf('10.0')**k for k in expmp])#np.logspace(-1,15,n)"
   ]
  },
  {
   "cell_type": "markdown",
   "metadata": {},
   "source": [
    "Now, we evaluate our form factor numeric function in the chose interval. To do a faster evaluation we use `speedup_array` function"
   ]
  },
  {
   "cell_type": "code",
   "execution_count": 31,
   "metadata": {},
   "outputs": [
    {
     "name": "stdout",
     "output_type": "stream",
     "text": [
      "CPU times: user 2.99 s, sys: 1.21 s, total: 4.2 s\n",
      "Wall time: 31min 26s\n"
     ]
    }
   ],
   "source": [
    "%%time\n",
    "YLOne23 = speedup_array(ALOneTot23,m6np)\n",
    "YROne23 = speedup_array(AROneTot23,m6np)\n",
    "\n",
    "YLOne13 = speedup_array(ALOneTot13,m6np)\n",
    "YROne13 = speedup_array(AROneTot13,m6np)\n",
    "\n",
    "YLOne12 = speedup_array(ALOneTot12,m6np)\n",
    "YROne12 = speedup_array(AROneTot12,m6np)\n"
   ]
  },
  {
   "cell_type": "code",
   "execution_count": 32,
   "metadata": {},
   "outputs": [],
   "source": [
    "diagramas_one = {\n",
    "    0:'niWW',1:'niWG',2:'niGW',3:'niGG',\n",
    "    4:'niW',5:'niG',6:'Wni',7:'Gni'}"
   ]
  },
  {
   "cell_type": "code",
   "execution_count": 39,
   "metadata": {},
   "outputs": [
    {
     "data": {
      "image/png": "[encoded data removed]",
      "text/latex": [
       "$\\displaystyle \\left( 100, \\  8\\right)$"
      ],
      "text/plain": [
       "(100, 8)"
      ]
     },
     "execution_count": 39,
     "metadata": {},
     "output_type": "execute_result"
    }
   ],
   "source": [
    "YLOne23.shape"
   ]
  },
  {
   "cell_type": "markdown",
   "metadata": {},
   "source": [
    "Finalli we can plot the behavior of the sum of form factor for diagrams with one fermion."
   ]
  },
  {
   "cell_type": "code",
   "execution_count": 33,
   "metadata": {},
   "outputs": [
    {
     "data": {
      "text/plain": [
       "<matplotlib.legend.Legend at 0x7f0daf90e190>"
      ]
     },
     "execution_count": 33,
     "metadata": {},
     "output_type": "execute_result"
    },
    {
     "data": {
      "image/png": "[encoded data removed]",
      "text/plain": [
       "<Figure size 1080x576 with 1 Axes>"
      ]
     },
     "metadata": {
      "needs_background": "light"
     },
     "output_type": "display_data"
    }
   ],
   "source": [
    "plt.figure(figsize=(15,8))\n",
    "for dia in diagramas_one:\n",
    "    plt.loglog(np.real(m6np),abs(YLOne23[:,dia])**2,'-',label=f'$A_L({diagramas_one[dia]})(2,3)$')\n",
    "\n",
    "plt.xticks(fontsize=15)\n",
    "plt.yticks(fontsize=15)\n",
    "\n",
    "plt.legend(fontsize=15)"
   ]
  },
  {
   "cell_type": "markdown",
   "metadata": {},
   "source": [
    "## Form factor with two fermion in the loop."
   ]
  },
  {
   "cell_type": "markdown",
   "metadata": {},
   "source": [
    "In this case we only have 2 diagrams stored in `TrianglesTwoFermion` list. In this case we have two neutrino indexes $i$ and $j$.Then, we have a doble summatory in this case.  First we do an auxiliar simbolic substitutions related to the following code"
   ]
  },
  {
   "cell_type": "code",
   "execution_count": 34,
   "metadata": {},
   "outputs": [
    {
     "data": {
      "image/png": "[encoded data removed]",
      "text/latex": [
       "$\\displaystyle \\left\\{ {C}_{i,j} : C_{ij}, \\  {{{C^*}}}_{i,j} : {{C_{ij}^*}}, \\  {{{U^\\nu}}}_{b,j} : U_{bj}, \\  {{{U^{\\nu *}}}}_{a,i} : {{U_{ai}^*}}, \\  {{{m_n}}}_{i} : m_{n_i}, \\  {{{m_n}}}_{j} : m_{n_j}\\right\\}$"
      ],
      "text/plain": [
       "{C[i, j]: C_{ij}, {{C^*}}[i, j]: {{C_{ij}__*}}, {{U^\\nu}}[b, j]: U_{bj}, {{U^{\n",
       "\\nu *}}}[a, i]: {{U_{ai}__*}}, {{m_n}}[i]: m_{n_i}, {{m_n}}[j]: m_{n_j}}"
      ]
     },
     "execution_count": 34,
     "metadata": {},
     "output_type": "execute_result"
    }
   ],
   "source": [
    "mnj = symbols('m_{n_j}',positive=True)\n",
    "Cijs, Cijcs, Ubj = symbols('C_{ij}, {{C_{ij}^*}},U_{bj}')\n",
    "UnuTwo = {mn[i]:mni,mn[jj]:mnj,C[i,jj]:Cijs, Cc[i,jj]:Cijcs, Uν[b,jj]:Ubj, Uνc[a,i]:Ucai}\n",
    "UnuTwo"
   ]
  },
  {
   "cell_type": "code",
   "execution_count": 35,
   "metadata": {},
   "outputs": [],
   "source": [
    "fsL = lambda k,a,b:TrianglesTwoFermion[k].AL().subs(lfvhd.D,4).subs(cambios_hab(a,b)).subs(valores).subs(UnuTwo)\n",
    "fsR = lambda k,a,b:TrianglesTwoFermion[k].AR().subs(lfvhd.D,4).subs(cambios_hab(a,b)).subs(valores).subs(UnuTwo)"
   ]
  },
  {
   "cell_type": "code",
   "execution_count": 36,
   "metadata": {},
   "outputs": [],
   "source": [
    "fL = lambda k,a,b:lambdify([mni,mnj,Ubj,Ucai,Cijs,Cijcs],replaceBs(fsL(k,a,b)),\n",
    "                     modules=[pave_functions(valores[mh],a,b,lib='mpmath'),'mpmath'] )\n",
    "fR = lambda k,a,b:lambdify([mni,mnj,Ubj,Ucai,Cijs,Cijcs],replaceBs(fsR(k,a,b)),\n",
    "                     modules=[pave_functions(valores[mh],a,b,lib='mpmath'),'mpmath'] )"
   ]
  },
  {
   "cell_type": "code",
   "execution_count": 37,
   "metadata": {},
   "outputs": [
    {
     "data": {
      "text/plain": [
       "(-0.000000272483154417543235155088888947450198782461373378322358022688557439614488846834816347934327037972405472017839538775793551 + 0.000000163520181809268863014248652223430066752602803997749464716139185484389457078431683816926971206804906550626391496690624603j)"
      ]
     },
     "execution_count": 37,
     "metadata": {},
     "output_type": "execute_result"
    }
   ],
   "source": [
    "fL(0,2,3)(1,2,3,4,5,6)"
   ]
  },
  {
   "cell_type": "markdown",
   "metadata": {},
   "source": [
    "Now, we do a function to do the doble summatory on the neutrino generetions"
   ]
  },
  {
   "cell_type": "code",
   "execution_count": 38,
   "metadata": {},
   "outputs": [],
   "source": [
    "def sumatwo(mm6,k,a,b,quirality='L'):\n",
    "    xs = []\n",
    "    if quirality=='L':\n",
    "        g = fL(k,a,b)\n",
    "    elif quirality=='R':\n",
    "        g = fR(k,a,b)\n",
    "    else:\n",
    "        raise ValueError('quirality must be L or R')\n",
    "        \n",
    "    mnk,UnuL,UnuR = diagonalizationMnu1(m1,mm6)\n",
    "    Unu = UnuR\n",
    "    Unu_dagger = UnuL\n",
    "    #Cij = lambda i,j: mp.fsum([Unu[c,i]*conj(Unu[c,j]) for c in range(3)])\n",
    "    Cij = lambda i,j: mp.fsum([Unu[c,i]*Unu_dagger[j,c] for c in range(3)])\n",
    "    for p in range(1,7):\n",
    "        for q in range(1,7):\n",
    "            if (p in [1,2,3] and q in [4,5,6]) or (p in [4,5,6] and q in [1,2,3]):\n",
    "                x = g(mnk[p-1],mnk[q-1],Unu[b-1,q-1],Unu_dagger[p-1,a-1],\n",
    "                Cij(p-1,q-1),conj(Cij(p-1,q-1)))\n",
    "                xs.append(x)\n",
    "    return mp.fsum(xs)"
   ]
  },
  {
   "cell_type": "markdown",
   "metadata": {},
   "source": [
    "Then the total contribution of the diagrams with two fermions in the loop is given by"
   ]
  },
  {
   "cell_type": "code",
   "execution_count": 39,
   "metadata": {},
   "outputs": [],
   "source": [
    "def totaltwo(m6,a,b,quirality='L'):\n",
    "    return np.array([sumatwo(m6,0,a,b,quirality),sumatwo(m6,1,a,b,quirality)])"
   ]
  },
  {
   "cell_type": "code",
   "execution_count": 40,
   "metadata": {},
   "outputs": [],
   "source": [
    "def ALTwoTot23(m6):\n",
    "    return totaltwo(m6,2,3,'L')\n",
    "def ARTwoTot23(m6):\n",
    "    return totaltwo(m6,2,3,'R')\n",
    "\n",
    "\n",
    "def ALTwoTot13(m6):\n",
    "    return totaltwo(m6,1,3,'L')\n",
    "def ARTwoTot13(m6):\n",
    "    return totaltwo(m6,1,3,'R')\n",
    "\n",
    "\n",
    "def ALTwoTot12(m6):\n",
    "    return totaltwo(m6,1,2,'L')\n",
    "def ARTwoTot12(m6):\n",
    "    return totaltwo(m6,1,2,'R')\n"
   ]
  },
  {
   "cell_type": "code",
   "execution_count": 38,
   "metadata": {},
   "outputs": [
    {
     "data": {
      "text/plain": [
       "array([0.00014036580648498993704678846960085148807975977803700152264272680609587855643386746142020804306586615803371315642240129976,\n",
       "       0.00000000000146885804532782335483742136228851061954395868153522021101619644497442759230865397044590637801954126876578356927138035689],\n",
       "      dtype=object)"
      ]
     },
     "execution_count": 38,
     "metadata": {},
     "output_type": "execute_result"
    }
   ],
   "source": [
    "abs(ALTwoTot23(m6np[-1]))"
   ]
  },
  {
   "cell_type": "code",
   "execution_count": 41,
   "metadata": {},
   "outputs": [
    {
     "name": "stdout",
     "output_type": "stream",
     "text": [
      "CPU times: user 6.1 s, sys: 2.47 s, total: 8.56 s\n",
      "Wall time: 27min 31s\n"
     ]
    }
   ],
   "source": [
    "%%time\n",
    "YLTwo23 = speedup_array(ALTwoTot23,m6np)\n",
    "YRTwo23 = speedup_array(ARTwoTot23,m6np)\n",
    "\n",
    "YLTwo13 = speedup_array(ALTwoTot13,m6np)\n",
    "YRTwo13 = speedup_array(ARTwoTot13,m6np)\n",
    "\n",
    "YLTwo12 = speedup_array(ALTwoTot12,m6np)\n",
    "YRTwo12 = speedup_array(ARTwoTot12,m6np)"
   ]
  },
  {
   "cell_type": "code",
   "execution_count": 42,
   "metadata": {},
   "outputs": [],
   "source": [
    "diagramas_two = {0:'Gninj',1:'Wninj'}"
   ]
  },
  {
   "cell_type": "markdown",
   "metadata": {},
   "source": [
    "## Total Form Factors"
   ]
  },
  {
   "cell_type": "code",
   "execution_count": 43,
   "metadata": {},
   "outputs": [],
   "source": [
    "import pandas as pd"
   ]
  },
  {
   "cell_type": "code",
   "execution_count": 54,
   "metadata": {},
   "outputs": [],
   "source": [
    "# def FF_frame(Yone,Ytwo):\n",
    "#     A_dict = {}\n",
    "#     A_dict['m6'] = m6np\n",
    "#     for dia_one in diagramas_one:\n",
    "#         A_dict[diagramas_one[dia_one]] = Yone[:,dia_one]\n",
    "#     for dia_two in diagramas_two:\n",
    "#         A_dict[diagramas_two[dia_two]] = Ytwo[:,dia_two]\n",
    "#     return pd.DataFrame(A_dict)\n",
    "\n",
    "# FF_frame23L = FF_frame(YLOne23,YLTwo23)\n",
    "# FF_frame23R = FF_frame(YROne23,YRTwo23)\n",
    "\n",
    "# FF_frame13L = FF_frame(YLOne13,YLTwo13)\n",
    "# FF_frame13R = FF_frame(YROne13,YRTwo13)\n",
    "\n",
    "# FF_frame12L = FF_frame(YLOne12,YLTwo12)\n",
    "# FF_frame12R = FF_frame(YROne12,YRTwo12)"
   ]
  },
  {
   "cell_type": "code",
   "execution_count": 44,
   "metadata": {},
   "outputs": [],
   "source": [
    "def FF_frame(Ytwo):\n",
    "    A_dict = {}\n",
    "    A_dict['m6'] = m6np\n",
    "    for dia_two in diagramas_two:\n",
    "        A_dict[diagramas_two[dia_two]] = Ytwo[:,dia_two]\n",
    "    return pd.DataFrame(A_dict)\n",
    "\n",
    "FF_frame23L = FF_frame(YLTwo23)\n",
    "FF_frame23R = FF_frame(YRTwo23)\n",
    "\n",
    "FF_frame13L = FF_frame(YLTwo13)\n",
    "FF_frame13R = FF_frame(YRTwo13)\n",
    "\n",
    "FF_frame12L = FF_frame(YLTwo12)\n",
    "FF_frame12R = FF_frame(YRTwo12)"
   ]
  },
  {
   "cell_type": "code",
   "execution_count": 47,
   "metadata": {},
   "outputs": [],
   "source": [
    "#FF_frame23L"
   ]
  },
  {
   "cell_type": "code",
   "execution_count": 45,
   "metadata": {},
   "outputs": [],
   "source": [
    "FF_frame23L.to_csv('data_frames/FF_frame_23L_mix.txt',sep='\\t',index=None)\n",
    "FF_frame23R.to_csv('data_frames/FF_frame_23R_mix.txt',sep='\\t',index=None)\n",
    "\n",
    "FF_frame13L.to_csv('data_frames/FF_frame_13L_mix.txt',sep='\\t',index=None)\n",
    "FF_frame13R.to_csv('data_frames/FF_frame_13R_mix.txt',sep='\\t',index=None)\n",
    "\n",
    "FF_frame12L.to_csv('data_frames/FF_frame_12L_mix.txt',sep='\\t',index=None)\n",
    "FF_frame12R.to_csv('data_frames/FF_frame_12R_mix.txt',sep='\\t',index=None)"
   ]
  },
  {
   "cell_type": "code",
   "execution_count": null,
   "metadata": {},
   "outputs": [],
   "source": []
  }
 ],
 "metadata": {
  "kernelspec": {
   "display_name": "Python 3.7.6 ('base')",
   "language": "python",
   "name": "python3"
  },
  "language_info": {
   "codemirror_mode": {
    "name": "ipython",
    "version": 3
   },
   "file_extension": ".py",
   "mimetype": "text/x-python",
   "name": "python",
   "nbconvert_exporter": "python",
   "pygments_lexer": "ipython3",
   "version": "3.7.6"
  },
  "toc-autonumbering": true,
  "vscode": {
   "interpreter": {
    "hash": "b921add2b647b46a0162d3f3de9ecdc25418a02eed44d89fb52e720252ea5280"
   }
  }
 },
 "nbformat": 4,
 "nbformat_minor": 4
}
