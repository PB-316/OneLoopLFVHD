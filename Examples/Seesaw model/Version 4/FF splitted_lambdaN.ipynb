{
 "cells": [
  {
   "cell_type": "code",
   "execution_count": 2,
   "id": "7b1e9942-d04b-466e-aeeb-fa181e004b72",
   "metadata": {},
   "outputs": [],
   "source": [
    "from sympy import init_printing, Symbol,lambdify, symbols, Matrix,Add,simplify\n",
    "init_printing()\n",
    "import OneLoopLFVHD as lfvhd"
   ]
  },
  {
   "cell_type": "code",
   "execution_count": 3,
   "id": "a1939fe0-9860-41f6-8b4b-3c103a643c5b",
   "metadata": {},
   "outputs": [],
   "source": [
    "from seesaw_FF import TrianglesOneFermion, TrianglesTwoFermion, Bubbles,DiagramsOneFermionW, DiagramsOneFermionG\n",
    "from seesaw_FF import g, mW, Uν, Uνc, mn, m, C, Cc, a,b,i,h\n",
    "from seesaw_FF import j as jj"
   ]
  },
  {
   "cell_type": "code",
   "execution_count": 4,
   "id": "85ce1bbc-3524-4824-a684-e5f5be35ddfb",
   "metadata": {},
   "outputs": [],
   "source": [
    "import matplotlib.pyplot as plt\n",
    "%matplotlib inline"
   ]
  },
  {
   "cell_type": "code",
   "execution_count": 5,
   "id": "2353dd73-72af-4c44-bde6-01cf22ee4618",
   "metadata": {},
   "outputs": [],
   "source": [
    "from mpmath import *"
   ]
  },
  {
   "cell_type": "code",
   "execution_count": 6,
   "id": "926da48e-c55d-4ced-9299-44a14cf61391",
   "metadata": {},
   "outputs": [],
   "source": [
    "mp.dps = 100; mp.pretty = True"
   ]
  },
  {
   "cell_type": "code",
   "execution_count": 7,
   "id": "d93fec5a-4c68-4df4-94ef-d215ba92a3e0",
   "metadata": {},
   "outputs": [],
   "source": [
    "import numpy as np"
   ]
  },
  {
   "cell_type": "code",
   "execution_count": 8,
   "id": "e365b797-57f7-495d-abd7-4e73a3ea239d",
   "metadata": {},
   "outputs": [],
   "source": [
    "from multiprocessing import Pool\n",
    "#from time import time"
   ]
  },
  {
   "cell_type": "code",
   "execution_count": 9,
   "id": "83bc4414-023e-4b5c-b3c9-9418c09c269a",
   "metadata": {},
   "outputs": [],
   "source": [
    "def speedup_array(f,array,procs=4): \n",
    "    pool = Pool(procs,maxtasksperchild=100).map(f, array)\n",
    "    result = np.array(list(pool))\n",
    "    return result"
   ]
  },
  {
   "cell_type": "markdown",
   "id": "3dda3ff2-edbf-4798-943d-ec75df700d24",
   "metadata": {},
   "source": [
    "## Neutrino oscillation and lepton data"
   ]
  },
  {
   "cell_type": "code",
   "execution_count": 10,
   "id": "4315959c-04c0-4abf-8b16-560769f1f88f",
   "metadata": {},
   "outputs": [],
   "source": [
    "from OneLoopLFVHD.neutrinos import NuOscObservables\n",
    "Nudata = NuOscObservables"
   ]
  },
  {
   "cell_type": "code",
   "execution_count": 11,
   "id": "27cd2265-99ef-41d5-8a12-4d204dafa985",
   "metadata": {},
   "outputs": [],
   "source": [
    "m1 = mpf('1e-12')  #GeV \n",
    "\n",
    "#current values to Square mass differences\n",
    "d21 = mpf(str(Nudata.squareDm21.central))*mpf('1e-18')# factor to convert eV^2 to GeV^2\n",
    "d31 = mpf(str(Nudata.squareDm31.central))*mpf('1e-18')\n",
    "\n",
    "#d21 = 7.5e-5*1e-18\n",
    "#d31 = 2.457e-3*1e-18\n",
    "m2 = sqrt(m1**2 + d21)\n",
    "m3 = sqrt(m1**2 + d31)\n",
    "\n",
    "m4 = lambda m6: m6/3\n",
    "m5 = lambda m6: m6/2"
   ]
  },
  {
   "cell_type": "code",
   "execution_count": 12,
   "id": "7b896b08-95bb-457d-ae0f-4a11575e84bc",
   "metadata": {},
   "outputs": [],
   "source": [
    "from Unu_seesaw import diagonalizationMnu,Mnu\n",
    "diagonalizationMnu1 = lambda m1,m6: diagonalizationMnu(\n",
    "    m1,m2,m3,m6/mp.mpf('3.0'),m6/mp.mpf('2.0'),m6)\n",
    "Mnu1 = lambda m1,m6: Mnu(m1,m2,m3,m6/mpf('3.0'),m6/mpf('2.0'),m6)\n",
    "# diagonalizationMnu1 = lambda m1,m6: diagonalizationMnu(\n",
    "#     m1,m2,m3,m6,m6,m6)"
   ]
  },
  {
   "cell_type": "markdown",
   "id": "ce4f1244-c5fe-40df-951a-528b77b3f32e",
   "metadata": {},
   "source": [
    "## Left Form Factors for Diagrams with One Fermion"
   ]
  },
  {
   "cell_type": "code",
   "execution_count": 13,
   "id": "72890d0b-9f63-4102-8e9f-6a4bd9ebc75b",
   "metadata": {},
   "outputs": [],
   "source": [
    "ALTriOnes = [\n",
    "    FF.AL().expand().collect([mn[i]],evaluate=False) for FF in TrianglesOneFermion\n",
    "]\n",
    "\n",
    "ALBubOnes = [\n",
    "    FF.AL().expand().collect([mn[i]],evaluate=False) for FF in Bubbles\n",
    "]\n",
    "\n",
    "ARTriOnes = [\n",
    "    FF.AR().expand().collect([mn[i]],evaluate=False) for FF in TrianglesOneFermion\n",
    "]\n",
    "\n",
    "ARBubOnes = [\n",
    "    FF.AR().expand().collect([mn[i]],evaluate=False) for FF in Bubbles\n",
    "]"
   ]
  },
  {
   "cell_type": "markdown",
   "id": "1ed47359-d2ae-4fd3-963e-d5d0ca51486a",
   "metadata": {},
   "source": [
    "### Separation Terms proportional to 1 and mn[i]**2"
   ]
  },
  {
   "cell_type": "code",
   "execution_count": 14,
   "id": "3ace78d4-9d50-404b-a258-edd9178b84ee",
   "metadata": {},
   "outputs": [],
   "source": [
    "#########################################\n",
    "# Terms proportional to 1\n",
    "#########################################\n",
    "ALTriOne1 = [\n",
    "    AL[1] for AL in ALTriOnes if 1 in AL.keys()\n",
    "]\n",
    "\n",
    "ALBubOne1 = [\n",
    "    AL[1] for AL in ALBubOnes if 1 in AL.keys()\n",
    "]\n",
    "\n",
    "ARTriOne1 = [\n",
    "    AR[1] for AR in ARTriOnes if 1 in AR.keys()\n",
    "]\n",
    "\n",
    "ARBubOne1 = [\n",
    "    AR[1] for AR in ARBubOnes if 1 in AR.keys()\n",
    "]\n",
    "################################################\n",
    "# Terms proportional to mn[i]**2\n",
    "################################################\n",
    "ALTriOnemni2 = [\n",
    "    AL[mn[i]**2] for AL in ALTriOnes if mn[i]**2 in AL.keys()\n",
    "]\n",
    "\n",
    "ALBubOnemni2 = [\n",
    "    AL[mn[i]**2] for AL in ALBubOnes if mn[i]**2 in AL.keys()\n",
    "]\n",
    "\n",
    "ARTriOnemni2 = [\n",
    "    AR[mn[i]**2] for AR in ARTriOnes if mn[i]**2 in AR.keys()\n",
    "]\n",
    "\n",
    "ARBubOnemni2 = [\n",
    "    AR[mn[i]**2] for AR in ARBubOnes if mn[i]**2 in AR.keys()\n",
    "]\n"
   ]
  },
  {
   "cell_type": "code",
   "execution_count": 15,
   "id": "1f1dcf59-4527-431c-83e6-c10e759a5211",
   "metadata": {},
   "outputs": [],
   "source": [
    "ALOnetot1 = (Add(*ALTriOne1) + Add(*ALBubOne1)).subs(lfvhd.D,4).simplify()\n",
    "AROnetot1 = (Add(*ARTriOne1) + Add(*ARBubOne1)).subs(lfvhd.D,4).simplify()"
   ]
  },
  {
   "cell_type": "code",
   "execution_count": 16,
   "id": "259f4c5a",
   "metadata": {},
   "outputs": [
    {
     "data": {
      "image/png": "[encoded data removed]",
      "text/latex": [
       "$\\displaystyle \\frac{g^{3} m_{i} \\left(- 4 m_{W}^{4} \\left(m_{i}^{2} - m_{j}^{2}\\right) \\operatorname{C_{1}}{\\left({{{m_n}}}_{i},m_{W},m_{W} \\right)} - 2 m_{W}^{2} m_{j}^{2} \\left(\\operatorname{{{B^{(1)}_{1}}}}{\\left({{{m_n}}}_{i},m_{W} \\right)} + \\operatorname{{{B^{(2)}_{1}}}}{\\left({{{m_n}}}_{i},m_{W} \\right)}\\right) + m_{W}^{2} \\left(m_{i}^{2} - m_{j}^{2}\\right) \\left(- 2 m_{a}^{2} \\operatorname{C_{2}}{\\left({{{m_n}}}_{i},m_{W},m_{W} \\right)} - 2 m_{i}^{2} \\operatorname{C_{1}}{\\left({{{m_n}}}_{i},m_{W},m_{W} \\right)} + 2 m_{i}^{2} \\operatorname{C_{2}}{\\left({{{m_n}}}_{i},m_{W},m_{W} \\right)} + 2 m_{j}^{2} \\operatorname{C_{1}}{\\left({{{m_n}}}_{i},m_{W},m_{W} \\right)} + \\operatorname{{{B^{(12)}_{0}}}}{\\left(m_{W},m_{W} \\right)}\\right) + m_{a}^{2} m_{j}^{2} \\left(m_{i}^{2} - m_{j}^{2}\\right) \\operatorname{C_{2}}{\\left({{{m_n}}}_{i},m_{W},m_{W} \\right)} - m_{i}^{2} m_{j}^{2} \\left(\\operatorname{{{B^{(1)}_{1}}}}{\\left({{{m_n}}}_{i},m_{W} \\right)} + \\operatorname{{{B^{(2)}_{1}}}}{\\left({{{m_n}}}_{i},m_{W} \\right)}\\right)\\right) {{{U^\\nu}}}_{b,i} {{{U^{\\nu *}}}}_{a,i}}{64 \\pi^{2} m_{W}^{3} \\left(m_{i}^{2} - m_{j}^{2}\\right)}$"
      ],
      "text/plain": [
       " 3    ⎛       4 ⎛  2      2⎞                                 2    2           \n",
       "g ⋅mᵢ⋅⎝- 4⋅m_W ⋅⎝mᵢ  - m_j ⎠⋅C₁({{m_n}}[i], m_W, m_W) - 2⋅m_W ⋅m_j ⋅({{B_{1}}}\n",
       "──────────────────────────────────────────────────────────────────────────────\n",
       "                                                                              \n",
       "                                                                              \n",
       "\n",
       "                                                                   2 ⎛  2     \n",
       "__{(1)}({{m_n}}[i], m_W) + {{B_{1}}}__{(2)}({{m_n}}[i], m_W)) + m_W ⋅⎝mᵢ  - m_\n",
       "──────────────────────────────────────────────────────────────────────────────\n",
       "                                                                              \n",
       "                                                                              \n",
       "\n",
       " 2⎞ ⎛      2                                2                                2\n",
       "j ⎠⋅⎝- 2⋅mₐ ⋅C₂({{m_n}}[i], m_W, m_W) - 2⋅mᵢ ⋅C₁({{m_n}}[i], m_W, m_W) + 2⋅mᵢ \n",
       "──────────────────────────────────────────────────────────────────────────────\n",
       "                                                                              \n",
       "                                                                              \n",
       "\n",
       "                                 2                                            \n",
       "⋅C₂({{m_n}}[i], m_W, m_W) + 2⋅m_j ⋅C₁({{m_n}}[i], m_W, m_W) + {{B_{0}}}__{(12)\n",
       "──────────────────────────────────────────────────────────────────────────────\n",
       "     2    3 ⎛  2      2⎞                                                      \n",
       " 64⋅π ⋅m_W ⋅⎝mᵢ  - m_j ⎠                                                      \n",
       "\n",
       "           ⎞     2    2 ⎛  2      2⎞                              2    2      \n",
       "}(m_W, m_W)⎠ + mₐ ⋅m_j ⋅⎝mᵢ  - m_j ⎠⋅C₂({{m_n}}[i], m_W, m_W) - mᵢ ⋅m_j ⋅({{B_\n",
       "──────────────────────────────────────────────────────────────────────────────\n",
       "                                                                              \n",
       "                                                                              \n",
       "\n",
       "                                                                  ⎞           \n",
       "{1}}}__{(1)}({{m_n}}[i], m_W) + {{B_{1}}}__{(2)}({{m_n}}[i], m_W))⎠⋅{{U^\\nu}}[\n",
       "──────────────────────────────────────────────────────────────────────────────\n",
       "                                                                              \n",
       "                                                                              \n",
       "\n",
       "                         \n",
       "b, i]⋅{{U^{\\nu *}}}[a, i]\n",
       "─────────────────────────\n",
       "                         \n",
       "                         "
      ]
     },
     "execution_count": 16,
     "metadata": {},
     "output_type": "execute_result"
    }
   ],
   "source": [
    "ALOnetot1"
   ]
  },
  {
   "cell_type": "code",
   "execution_count": 17,
   "id": "107a590e",
   "metadata": {},
   "outputs": [
    {
     "data": {
      "image/png": "[encoded data removed]",
      "text/latex": [
       "$\\displaystyle \\left\\{ m_{W}^{2} : \\frac{{{{m_n}}}_{i}^{2}}{\\lambda_{N}}\\right\\}$"
      ],
      "text/plain": [
       "⎧                2⎫\n",
       "⎪   2  {{m_n}}[i] ⎪\n",
       "⎨m_W : ───────────⎬\n",
       "⎪          λ_N    ⎪\n",
       "⎩                 ⎭"
      ]
     },
     "execution_count": 17,
     "metadata": {},
     "output_type": "execute_result"
    }
   ],
   "source": [
    "lambda_N = symbols('lambda_N',positive=True)\n",
    "cambio_lambdaN = {mW**2:mn[i]**2/lambda_N}\n",
    "cambio_lambdaN"
   ]
  },
  {
   "cell_type": "code",
   "execution_count": 18,
   "id": "455dad88",
   "metadata": {},
   "outputs": [
    {
     "data": {
      "image/png": "[encoded data removed]",
      "text/latex": [
       "$\\displaystyle \\frac{g^{3} \\lambda_{N}^{\\frac{3}{2}} m_{i} \\left(m_{a}^{2} m_{j}^{2} \\left(m_{i}^{2} - m_{j}^{2}\\right) \\operatorname{C_{2}}{\\left({{{m_n}}}_{i},\\frac{\\sqrt{{{{m_n}}}_{i}^{2}}}{\\sqrt{\\lambda_{N}}},\\frac{\\sqrt{{{{m_n}}}_{i}^{2}}}{\\sqrt{\\lambda_{N}}} \\right)} - m_{i}^{2} m_{j}^{2} \\left(\\operatorname{{{B^{(1)}_{1}}}}{\\left({{{m_n}}}_{i},\\frac{\\sqrt{{{{m_n}}}_{i}^{2}}}{\\sqrt{\\lambda_{N}}} \\right)} + \\operatorname{{{B^{(2)}_{1}}}}{\\left({{{m_n}}}_{i},\\frac{\\sqrt{{{{m_n}}}_{i}^{2}}}{\\sqrt{\\lambda_{N}}} \\right)}\\right) - \\frac{2 m_{j}^{2} \\left(\\operatorname{{{B^{(1)}_{1}}}}{\\left({{{m_n}}}_{i},\\frac{\\sqrt{{{{m_n}}}_{i}^{2}}}{\\sqrt{\\lambda_{N}}} \\right)} + \\operatorname{{{B^{(2)}_{1}}}}{\\left({{{m_n}}}_{i},\\frac{\\sqrt{{{{m_n}}}_{i}^{2}}}{\\sqrt{\\lambda_{N}}} \\right)}\\right) {{{m_n}}}_{i}^{2}}{\\lambda_{N}} + \\frac{\\left(m_{i}^{2} - m_{j}^{2}\\right) \\left(- 2 m_{a}^{2} \\operatorname{C_{2}}{\\left({{{m_n}}}_{i},\\frac{\\sqrt{{{{m_n}}}_{i}^{2}}}{\\sqrt{\\lambda_{N}}},\\frac{\\sqrt{{{{m_n}}}_{i}^{2}}}{\\sqrt{\\lambda_{N}}} \\right)} - 2 m_{i}^{2} \\operatorname{C_{1}}{\\left({{{m_n}}}_{i},\\frac{\\sqrt{{{{m_n}}}_{i}^{2}}}{\\sqrt{\\lambda_{N}}},\\frac{\\sqrt{{{{m_n}}}_{i}^{2}}}{\\sqrt{\\lambda_{N}}} \\right)} + 2 m_{i}^{2} \\operatorname{C_{2}}{\\left({{{m_n}}}_{i},\\frac{\\sqrt{{{{m_n}}}_{i}^{2}}}{\\sqrt{\\lambda_{N}}},\\frac{\\sqrt{{{{m_n}}}_{i}^{2}}}{\\sqrt{\\lambda_{N}}} \\right)} + 2 m_{j}^{2} \\operatorname{C_{1}}{\\left({{{m_n}}}_{i},\\frac{\\sqrt{{{{m_n}}}_{i}^{2}}}{\\sqrt{\\lambda_{N}}},\\frac{\\sqrt{{{{m_n}}}_{i}^{2}}}{\\sqrt{\\lambda_{N}}} \\right)} + \\operatorname{{{B^{(12)}_{0}}}}{\\left(\\frac{\\sqrt{{{{m_n}}}_{i}^{2}}}{\\sqrt{\\lambda_{N}}},\\frac{\\sqrt{{{{m_n}}}_{i}^{2}}}{\\sqrt{\\lambda_{N}}} \\right)}\\right) {{{m_n}}}_{i}^{2}}{\\lambda_{N}} - \\frac{4 \\left(m_{i}^{2} - m_{j}^{2}\\right) \\operatorname{C_{1}}{\\left({{{m_n}}}_{i},\\frac{\\sqrt{{{{m_n}}}_{i}^{2}}}{\\sqrt{\\lambda_{N}}},\\frac{\\sqrt{{{{m_n}}}_{i}^{2}}}{\\sqrt{\\lambda_{N}}} \\right)} {{{m_n}}}_{i}^{4}}{\\lambda_{N}^{2}}\\right) {{{U^\\nu}}}_{b,i} {{{U^{\\nu *}}}}_{a,i}}{64 \\pi^{2} \\left(m_{i}^{2} - m_{j}^{2}\\right) \\left({{{m_n}}}_{i}^{2}\\right)^{\\frac{3}{2}}}$"
      ],
      "text/plain": [
       "             ⎛                                                                \n",
       "             ⎜                                                                \n",
       "             ⎜                                                                \n",
       "             ⎜                        ⎛               _____________     ______\n",
       "             ⎜                        ⎜              ╱           2     ╱      \n",
       " 3    3/2    ⎜  2    2 ⎛  2      2⎞   ⎜            ╲╱  {{m_n}}[i]    ╲╱  {{m_n\n",
       "g ⋅λ_N   ⋅mᵢ⋅⎜mₐ ⋅m_j ⋅⎝mᵢ  - m_j ⎠⋅C₂⎜{{m_n}}[i], ────────────────, ─────────\n",
       "             ⎜                        ⎜                  _____             ___\n",
       "             ⎝                        ⎝                ╲╱ λ_N            ╲╱ λ_\n",
       "──────────────────────────────────────────────────────────────────────────────\n",
       "                                                                              \n",
       "                                                                              \n",
       "                                                                              \n",
       "\n",
       "                                                                              \n",
       "                                                                              \n",
       "                                                                              \n",
       "_______⎞            ⎛                ⎛               _____________⎞           \n",
       "     2 ⎟            ⎜                ⎜              ╱           2 ⎟           \n",
       "}}[i]  ⎟     2    2 ⎜                ⎜            ╲╱  {{m_n}}[i]  ⎟           \n",
       "───────⎟ - mᵢ ⋅m_j ⋅⎜{{B_{1}}}__{(1)}⎜{{m_n}}[i], ────────────────⎟ + {{B_{1}}\n",
       "__     ⎟            ⎜                ⎜                  _____     ⎟           \n",
       "N      ⎠            ⎝                ⎝                ╲╱ λ_N      ⎠           \n",
       "──────────────────────────────────────────────────────────────────────────────\n",
       "                                                                              \n",
       "                                                                              \n",
       "                                                                              \n",
       "\n",
       "                                                 ⎛                ⎛           \n",
       "                                                 ⎜                ⎜           \n",
       "                                               2 ⎜                ⎜           \n",
       "        ⎛               _____________⎞⎞   2⋅m_j ⋅⎜{{B_{1}}}__{(1)}⎜{{m_n}}[i],\n",
       "        ⎜              ╱           2 ⎟⎟          ⎜                ⎜           \n",
       "        ⎜            ╲╱  {{m_n}}[i]  ⎟⎟          ⎝                ⎝           \n",
       "}__{(2)}⎜{{m_n}}[i], ────────────────⎟⎟ - ────────────────────────────────────\n",
       "        ⎜                  _____     ⎟⎟                                       \n",
       "        ⎝                ╲╱ λ_N      ⎠⎠                                       \n",
       "──────────────────────────────────────────────────────────────────────────────\n",
       "                                                                              \n",
       "                                                                              \n",
       "                                                                              \n",
       "\n",
       "    _____________⎞                   ⎛               _____________⎞⎞          \n",
       "   ╱           2 ⎟                   ⎜              ╱           2 ⎟⎟          \n",
       " ╲╱  {{m_n}}[i]  ⎟                   ⎜            ╲╱  {{m_n}}[i]  ⎟⎟          \n",
       " ────────────────⎟ + {{B_{1}}}__{(2)}⎜{{m_n}}[i], ────────────────⎟⎟⋅{{m_n}}[i\n",
       "       _____     ⎟                   ⎜                  _____     ⎟⎟          \n",
       "     ╲╱ λ_N      ⎠                   ⎝                ╲╱ λ_N      ⎠⎠          \n",
       "──────────────────────────────────────────────────────────────────────────────\n",
       "                    λ_N                                                       \n",
       "                                                                              \n",
       "──────────────────────────────────────────────────────────────────────────────\n",
       "                                                                              \n",
       "                                                                              \n",
       "                                                                              \n",
       "\n",
       "                  ⎛          ⎛               _____________     _____________⎞ \n",
       "                  ⎜          ⎜              ╱           2     ╱           2 ⎟ \n",
       " 2   ⎛  2      2⎞ ⎜      2   ⎜            ╲╱  {{m_n}}[i]    ╲╱  {{m_n}}[i]  ⎟ \n",
       "]    ⎝mᵢ  - m_j ⎠⋅⎜- 2⋅mₐ ⋅C₂⎜{{m_n}}[i], ────────────────, ────────────────⎟ \n",
       "                  ⎜          ⎜                  _____             _____     ⎟ \n",
       "                  ⎝          ⎝                ╲╱ λ_N            ╲╱ λ_N      ⎠ \n",
       "── + ─────────────────────────────────────────────────────────────────────────\n",
       "                                                                              \n",
       "                                                                              \n",
       "──────────────────────────────────────────────────────────────────────────────\n",
       "                                                                              \n",
       "                                                   2 ⎛  2      2⎞ ⎛          2\n",
       "                                               64⋅π ⋅⎝mᵢ  - m_j ⎠⋅⎝{{m_n}}[i] \n",
       "\n",
       "          ⎛               _____________     _____________⎞           ⎛        \n",
       "          ⎜              ╱           2     ╱           2 ⎟           ⎜        \n",
       "      2   ⎜            ╲╱  {{m_n}}[i]    ╲╱  {{m_n}}[i]  ⎟       2   ⎜        \n",
       "- 2⋅mᵢ ⋅C₁⎜{{m_n}}[i], ────────────────, ────────────────⎟ + 2⋅mᵢ ⋅C₂⎜{{m_n}}[\n",
       "          ⎜                  _____             _____     ⎟           ⎜        \n",
       "          ⎝                ╲╱ λ_N            ╲╱ λ_N      ⎠           ⎝        \n",
       "──────────────────────────────────────────────────────────────────────────────\n",
       "                                                                              \n",
       "                                                                              \n",
       "──────────────────────────────────────────────────────────────────────────────\n",
       " 3/2                                                                          \n",
       "⎞                                                                             \n",
       "⎠                                                                             \n",
       "\n",
       "       _____________     _____________⎞            ⎛               ___________\n",
       "      ╱           2     ╱           2 ⎟            ⎜              ╱           \n",
       "    ╲╱  {{m_n}}[i]    ╲╱  {{m_n}}[i]  ⎟        2   ⎜            ╲╱  {{m_n}}[i]\n",
       "i], ────────────────, ────────────────⎟ + 2⋅m_j ⋅C₁⎜{{m_n}}[i], ──────────────\n",
       "          _____             _____     ⎟            ⎜                  _____   \n",
       "        ╲╱ λ_N            ╲╱ λ_N      ⎠            ⎝                ╲╱ λ_N    \n",
       "──────────────────────────────────────────────────────────────────────────────\n",
       "       λ_N                                                                    \n",
       "                                                                              \n",
       "──────────────────────────────────────────────────────────────────────────────\n",
       "                                                                              \n",
       "                                                                              \n",
       "                                                                              \n",
       "\n",
       "__     _____________⎞                    ⎛   _____________     _____________⎞⎞\n",
       "2     ╱           2 ⎟                    ⎜  ╱           2     ╱           2 ⎟⎟\n",
       "    ╲╱  {{m_n}}[i]  ⎟                    ⎜╲╱  {{m_n}}[i]    ╲╱  {{m_n}}[i]  ⎟⎟\n",
       "──, ────────────────⎟ + {{B_{0}}}__{(12)}⎜────────────────, ────────────────⎟⎟\n",
       "          _____     ⎟                    ⎜      _____             _____     ⎟⎟\n",
       "        ╲╱ λ_N      ⎠                    ⎝    ╲╱ λ_N            ╲╱ λ_N      ⎠⎠\n",
       "──────────────────────────────────────────────────────────────────────────────\n",
       "                                                                              \n",
       "                                                                              \n",
       "──────────────────────────────────────────────────────────────────────────────\n",
       "                                                                              \n",
       "                                                                              \n",
       "                                                                              \n",
       "\n",
       "                                ⎛               _____________     ____________\n",
       "                                ⎜              ╱           2     ╱           2\n",
       "           2     ⎛  2      2⎞   ⎜            ╲╱  {{m_n}}[i]    ╲╱  {{m_n}}[i] \n",
       "⋅{{m_n}}[i]    4⋅⎝mᵢ  - m_j ⎠⋅C₁⎜{{m_n}}[i], ────────────────, ───────────────\n",
       "                                ⎜                  _____             _____    \n",
       "                                ⎝                ╲╱ λ_N            ╲╱ λ_N     \n",
       "──────────── - ───────────────────────────────────────────────────────────────\n",
       "                                                       2                      \n",
       "                                                    λ_N                       \n",
       "──────────────────────────────────────────────────────────────────────────────\n",
       "                                                                              \n",
       "                                                                              \n",
       "                                                                              \n",
       "\n",
       "_⎞            ⎞                                    \n",
       " ⎟            ⎟                                    \n",
       " ⎟           4⎟                                    \n",
       "─⎟⋅{{m_n}}[i] ⎟                                    \n",
       " ⎟            ⎟                                    \n",
       " ⎠            ⎟                                    \n",
       "──────────────⎟⋅{{U^\\nu}}[b, i]⋅{{U^{\\nu *}}}[a, i]\n",
       "              ⎟                                    \n",
       "              ⎠                                    \n",
       "───────────────────────────────────────────────────\n",
       "                                                   \n",
       "                                                   \n",
       "                                                   "
      ]
     },
     "execution_count": 18,
     "metadata": {},
     "output_type": "execute_result"
    }
   ],
   "source": [
    "ALOnetot1.subs(cambio_lambdaN)"
   ]
  },
  {
   "cell_type": "code",
   "execution_count": 19,
   "id": "3931b518-8508-450f-954f-6f03823dae66",
   "metadata": {},
   "outputs": [
    {
     "data": {
      "text/plain": [
       "dict_keys([m_W**4, m_W**2, 1])"
      ]
     },
     "execution_count": 19,
     "metadata": {},
     "output_type": "execute_result"
    }
   ],
   "source": [
    "ALonetot1_dict = ALOnetot1.subs(lfvhd.B12_0(mW,mW),0).expand().collect([mW],evaluate=False)\n",
    "ALOnemW2 = ALonetot1_dict[mW**2]*mW**2\n",
    "ALOnemW4 = ALonetot1_dict[mW**4]*mW**4\n",
    "ALOne_nomW = ALonetot1_dict[1]\n",
    "ALonetot1_dict.keys()"
   ]
  },
  {
   "cell_type": "code",
   "execution_count": 20,
   "id": "025c7f76",
   "metadata": {},
   "outputs": [
    {
     "data": {
      "image/png": "[encoded data removed]",
      "text/latex": [
       "$\\displaystyle \\frac{g^{3} m_{i} \\left(- m_{a}^{2} m_{i}^{2} \\operatorname{C_{2}}{\\left({{{m_n}}}_{i},m_{W},m_{W} \\right)} + m_{a}^{2} m_{j}^{2} \\operatorname{C_{2}}{\\left({{{m_n}}}_{i},m_{W},m_{W} \\right)} - m_{i}^{4} \\operatorname{C_{1}}{\\left({{{m_n}}}_{i},m_{W},m_{W} \\right)} + m_{i}^{4} \\operatorname{C_{2}}{\\left({{{m_n}}}_{i},m_{W},m_{W} \\right)} + 2 m_{i}^{2} m_{j}^{2} \\operatorname{C_{1}}{\\left({{{m_n}}}_{i},m_{W},m_{W} \\right)} - m_{i}^{2} m_{j}^{2} \\operatorname{C_{2}}{\\left({{{m_n}}}_{i},m_{W},m_{W} \\right)} - m_{j}^{4} \\operatorname{C_{1}}{\\left({{{m_n}}}_{i},m_{W},m_{W} \\right)} - m_{j}^{2} \\operatorname{{{B^{(1)}_{1}}}}{\\left({{{m_n}}}_{i},m_{W} \\right)} - m_{j}^{2} \\operatorname{{{B^{(2)}_{1}}}}{\\left({{{m_n}}}_{i},m_{W} \\right)}\\right) {{{U^\\nu}}}_{b,i} {{{U^{\\nu *}}}}_{a,i}}{32 \\pi^{2} m_{W} \\left(m_{i}^{2} - m_{j}^{2}\\right)}$"
      ],
      "text/plain": [
       " 3    ⎛    2   2                              2    2                          \n",
       "g ⋅mᵢ⋅⎝- mₐ ⋅mᵢ ⋅C₂({{m_n}}[i], m_W, m_W) + mₐ ⋅m_j ⋅C₂({{m_n}}[i], m_W, m_W) \n",
       "──────────────────────────────────────────────────────────────────────────────\n",
       "                                                                              \n",
       "                                                                              \n",
       "\n",
       "    4                              4                                2    2    \n",
       "- mᵢ ⋅C₁({{m_n}}[i], m_W, m_W) + mᵢ ⋅C₂({{m_n}}[i], m_W, m_W) + 2⋅mᵢ ⋅m_j ⋅C₁(\n",
       "──────────────────────────────────────────────────────────────────────────────\n",
       "                                                                              \n",
       "                                                                              \n",
       "\n",
       "                          2    2                               4              \n",
       "{{m_n}}[i], m_W, m_W) - mᵢ ⋅m_j ⋅C₂({{m_n}}[i], m_W, m_W) - m_j ⋅C₁({{m_n}}[i]\n",
       "──────────────────────────────────────────────────────────────────────────────\n",
       "                   2     ⎛  2      2⎞                                         \n",
       "               32⋅π ⋅m_W⋅⎝mᵢ  - m_j ⎠                                         \n",
       "\n",
       "                 2                                        2                   \n",
       ", m_W, m_W) - m_j ⋅{{B_{1}}}__{(1)}({{m_n}}[i], m_W) - m_j ⋅{{B_{1}}}__{(2)}({\n",
       "──────────────────────────────────────────────────────────────────────────────\n",
       "                                                                              \n",
       "                                                                              \n",
       "\n",
       "               ⎞                                    \n",
       "{m_n}}[i], m_W)⎠⋅{{U^\\nu}}[b, i]⋅{{U^{\\nu *}}}[a, i]\n",
       "────────────────────────────────────────────────────\n",
       "                                                    \n",
       "                                                    "
      ]
     },
     "execution_count": 20,
     "metadata": {},
     "output_type": "execute_result"
    }
   ],
   "source": [
    "ALOnemW2.simplify()"
   ]
  },
  {
   "cell_type": "code",
   "execution_count": 21,
   "id": "3978d794-6a51-4d2c-bf4d-7a7dbb504ed7",
   "metadata": {},
   "outputs": [
    {
     "data": {
      "text/plain": [
       "dict_keys([m_W**4, m_W**2, 1])"
      ]
     },
     "execution_count": 21,
     "metadata": {},
     "output_type": "execute_result"
    }
   ],
   "source": [
    "ARonetot1_dict = AROnetot1.subs(lfvhd.B12_0(mW,mW),0).expand().collect([mW],evaluate=False)\n",
    "AROnemW2 = ARonetot1_dict[mW**2]*mW**2\n",
    "AROnemW4 = ARonetot1_dict[mW**4]*mW**4\n",
    "AROne_nomW = ARonetot1_dict[1]\n",
    "ARonetot1_dict.keys()"
   ]
  },
  {
   "cell_type": "code",
   "execution_count": 22,
   "id": "c7443b6e",
   "metadata": {},
   "outputs": [
    {
     "data": {
      "image/png": "[encoded data removed]",
      "text/latex": [
       "$\\displaystyle \\frac{g^{3} m_{i}^{2} m_{j} \\left(- m_{a}^{2} m_{i}^{2} \\operatorname{C_{1}}{\\left({{{m_n}}}_{i},m_{W},m_{W} \\right)} + m_{a}^{2} m_{j}^{2} \\operatorname{C_{1}}{\\left({{{m_n}}}_{i},m_{W},m_{W} \\right)} - m_{j}^{2} \\operatorname{{{B^{(1)}_{1}}}}{\\left({{{m_n}}}_{i},m_{W} \\right)} - m_{j}^{2} \\operatorname{{{B^{(2)}_{1}}}}{\\left({{{m_n}}}_{i},m_{W} \\right)}\\right) {{{U^\\nu}}}_{b,i} {{{U^{\\nu *}}}}_{a,i}}{64 \\pi^{2} m_{W}^{3} \\left(m_{i}^{2} - m_{j}^{2}\\right)}$"
      ],
      "text/plain": [
       " 3   2     ⎛    2   2                              2    2                     \n",
       "g ⋅mᵢ ⋅m_j⋅⎝- mₐ ⋅mᵢ ⋅C₁({{m_n}}[i], m_W, m_W) + mₐ ⋅m_j ⋅C₁({{m_n}}[i], m_W, \n",
       "──────────────────────────────────────────────────────────────────────────────\n",
       "                                                                              \n",
       "                                                                              \n",
       "\n",
       "          2                                        2                          \n",
       "m_W) - m_j ⋅{{B_{1}}}__{(1)}({{m_n}}[i], m_W) - m_j ⋅{{B_{1}}}__{(2)}({{m_n}}[\n",
       "──────────────────────────────────────────────────────────────────────────────\n",
       "               2    3 ⎛  2      2⎞                                            \n",
       "           64⋅π ⋅m_W ⋅⎝mᵢ  - m_j ⎠                                            \n",
       "\n",
       "        ⎞                                    \n",
       "i], m_W)⎠⋅{{U^\\nu}}[b, i]⋅{{U^{\\nu *}}}[a, i]\n",
       "─────────────────────────────────────────────\n",
       "                                             \n",
       "                                             "
      ]
     },
     "execution_count": 22,
     "metadata": {},
     "output_type": "execute_result"
    }
   ],
   "source": [
    "AROne_nomW.simplify()"
   ]
  },
  {
   "cell_type": "code",
   "execution_count": 23,
   "id": "07e915ba-c9c8-457f-bb6b-efd94dd7f24f",
   "metadata": {},
   "outputs": [],
   "source": [
    "ALOnetotmni2 = (Add(*ALTriOnemni2) + Add(*ALBubOnemni2)).subs(lfvhd.D,4).simplify()*mn[i]**2\n",
    "AROnetotmni2 = (Add(*ARTriOnemni2) + Add(*ARBubOnemni2)).subs(lfvhd.D,4).simplify()*mn[i]**2\n"
   ]
  },
  {
   "cell_type": "code",
   "execution_count": 24,
   "id": "2735722f",
   "metadata": {},
   "outputs": [
    {
     "data": {
      "image/png": "[encoded data removed]",
      "text/latex": [
       "$\\displaystyle \\frac{g^{3} m_{i} \\left(- m_{i}^{2} \\operatorname{{{B^{(2)}_{0}}}}{\\left({{{m_n}}}_{i},m_{W} \\right)} + 2 m_{j}^{2} \\operatorname{{{B^{(1)}_{0}}}}{\\left({{{m_n}}}_{i},m_{W} \\right)} - m_{j}^{2} \\operatorname{{{B^{(1)}_{1}}}}{\\left({{{m_n}}}_{i},m_{W} \\right)} - m_{j}^{2} \\operatorname{{{B^{(2)}_{0}}}}{\\left({{{m_n}}}_{i},m_{W} \\right)} - m_{j}^{2} \\operatorname{{{B^{(2)}_{1}}}}{\\left({{{m_n}}}_{i},m_{W} \\right)} + \\left(2 m_{W}^{2} + m_{a}^{2}\\right) \\left(m_{i}^{2} - m_{j}^{2}\\right) \\left(\\operatorname{C_{0}}{\\left({{{m_n}}}_{i},m_{W},m_{W} \\right)} - \\operatorname{C_{1}}{\\left({{{m_n}}}_{i},m_{W},m_{W} \\right)}\\right)\\right) {{{U^\\nu}}}_{b,i} {{{U^{\\nu *}}}}_{a,i} {{{m_n}}}_{i}^{2}}{64 \\pi^{2} m_{W}^{3} \\left(m_{i}^{2} - m_{j}^{2}\\right)}$"
      ],
      "text/plain": [
       " 3    ⎛    2                                          2                       \n",
       "g ⋅mᵢ⋅⎝- mᵢ ⋅{{B_{0}}}__{(2)}({{m_n}}[i], m_W) + 2⋅m_j ⋅{{B_{0}}}__{(1)}({{m_n\n",
       "──────────────────────────────────────────────────────────────────────────────\n",
       "                                                                              \n",
       "                                                                              \n",
       "\n",
       "                 2                                        2                   \n",
       "}}[i], m_W) - m_j ⋅{{B_{1}}}__{(1)}({{m_n}}[i], m_W) - m_j ⋅{{B_{0}}}__{(2)}({\n",
       "──────────────────────────────────────────────────────────────────────────────\n",
       "                                                                              \n",
       "                                                                              \n",
       "\n",
       "                     2                                     ⎛     2     2⎞ ⎛  2\n",
       "{m_n}}[i], m_W) - m_j ⋅{{B_{1}}}__{(2)}({{m_n}}[i], m_W) + ⎝2⋅m_W  + mₐ ⎠⋅⎝mᵢ \n",
       "──────────────────────────────────────────────────────────────────────────────\n",
       "         2    3 ⎛  2      2⎞                                                  \n",
       "     64⋅π ⋅m_W ⋅⎝mᵢ  - m_j ⎠                                                  \n",
       "\n",
       "      2⎞                                                      ⎞               \n",
       " - m_j ⎠⋅(C₀({{m_n}}[i], m_W, m_W) - C₁({{m_n}}[i], m_W, m_W))⎠⋅{{U^\\nu}}[b, i\n",
       "──────────────────────────────────────────────────────────────────────────────\n",
       "                                                                              \n",
       "                                                                              \n",
       "\n",
       "                                2\n",
       "]⋅{{U^{\\nu *}}}[a, i]⋅{{m_n}}[i] \n",
       "─────────────────────────────────\n",
       "                                 \n",
       "                                 "
      ]
     },
     "execution_count": 24,
     "metadata": {},
     "output_type": "execute_result"
    }
   ],
   "source": [
    "\n",
    "ALOnetotmni2.expand().collect(TrianglesOneFermion[0].Cs,simplify).simplify()"
   ]
  },
  {
   "cell_type": "markdown",
   "id": "13bf1378-4730-43c0-9cd5-c31b4daeb99d",
   "metadata": {},
   "source": [
    "## Form Factors for Diagrams with Two Fermion"
   ]
  },
  {
   "cell_type": "code",
   "execution_count": 25,
   "id": "c9b97147-b5ea-4400-95ad-f40bd1766bfa",
   "metadata": {},
   "outputs": [],
   "source": [
    "ALTriTwos = Add(*[\n",
    "    FF.AL().subs(lfvhd.D,4) for FF in TrianglesTwoFermion\n",
    "])\n",
    "\n",
    "ARTriTwos = Add(*[\n",
    "    FF.AR().subs(lfvhd.D,4) for FF in TrianglesTwoFermion\n",
    "])"
   ]
  },
  {
   "cell_type": "code",
   "execution_count": 26,
   "id": "e406d086",
   "metadata": {},
   "outputs": [],
   "source": [
    "# ARTriTwos.expand().collect([mn[i],mn[jj]],simplify)"
   ]
  },
  {
   "cell_type": "markdown",
   "id": "de846452-75a3-444b-b612-d2c14b93fd8e",
   "metadata": {},
   "source": [
    "## Lambdify and neutrino generation sum"
   ]
  },
  {
   "cell_type": "code",
   "execution_count": 27,
   "id": "749ae4f8-7d51-4c82-b141-5422dec499f4",
   "metadata": {},
   "outputs": [],
   "source": [
    "from OneLoopLFVHD.data import ml"
   ]
  },
  {
   "cell_type": "code",
   "execution_count": 28,
   "id": "cee79590-22ad-47db-8844-05c07c000a8c",
   "metadata": {},
   "outputs": [],
   "source": [
    "mh,ma,mb = symbols('m_h,m_a,m_b',real=True)\n",
    "valores ={mW:mpf('80.379'),mh:mpf('125.10'),g:(2*mpf('80.379'))/mpf('246')}\n",
    "cambios_hab = lambda a,b:{lfvhd.ma:valores[mh],lfvhd.mi:ml[a],lfvhd.mj:ml[b]}"
   ]
  },
  {
   "cell_type": "code",
   "execution_count": 29,
   "id": "cd5351e2-1c81-445b-9fa9-ff1cfe428c9c",
   "metadata": {},
   "outputs": [],
   "source": [
    "Ubi, Ucai,mni = symbols('U_{bi}, {{U_{ai}^*}},m_{n_i}')\n",
    "UnuOne = {mn[i]:mni,Uν[b,i]:Ubi,Uνc[a,i]:Ucai}"
   ]
  },
  {
   "cell_type": "code",
   "execution_count": 30,
   "id": "50f0f8ac-a84a-48bc-ac06-ef5efc1cba4a",
   "metadata": {},
   "outputs": [],
   "source": [
    "#[AL.keys() for AL in ALTriTwos]\n",
    "# display([AR.keys() for AR in ARTriTwos])\n",
    "# AROnetot1.subs(lfvhd.B12_0(mW,mW),0).subs(cambios_hab(2,3)).subs(valores).subs(UnuOne)#.atoms(Symbol)"
   ]
  },
  {
   "cell_type": "code",
   "execution_count": 31,
   "id": "b9f8913e-ddf9-49bd-87a5-5c0f3a952c2a",
   "metadata": {},
   "outputs": [],
   "source": [
    "def sumOne(m6,Aab,a,b): \n",
    "    '''\n",
    "    Function which sums over neutrino generation conidering the structure of Upmns matrix before calculated.\n",
    "    \n",
    "    Input\n",
    "    --------\n",
    "        m6 (float): the haviet mass\n",
    "        Aab: funtion asociated to form factor\n",
    "        a,b (int): indexes of leptons a,b=1,2 or 3\n",
    "        \n",
    "    Output\n",
    "    --------\n",
    "        out (float): numeric summation of the form factor over the 6 neutrino generations.\n",
    "    '''\n",
    "    mnk,UnuL,UnuR = diagonalizationMnu1(m1,m6)\n",
    "    Unu = UnuR\n",
    "    Unu_dagger = UnuL\n",
    "    FF = []\n",
    "    for k in range(1,7):\n",
    "        #A = Aab(mnk[k-1],Unu[b-1,k-1],conj(Unu[a-1,k-1]))\n",
    "        A = Aab(mnk[k-1],Unu[b-1,k-1],Unu_dagger[k-1,a-1])\n",
    "        #print('Ai = ',A)\n",
    "        FF.append(A)\n",
    "    out = mp.fsum(FF)\n",
    "    return out\n"
   ]
  },
  {
   "cell_type": "code",
   "execution_count": 32,
   "id": "d7173c43-4e14-4a9b-9ca8-025146ea1089",
   "metadata": {},
   "outputs": [],
   "source": [
    "from OneLoopLFVHD.data import replaceBs, pave_functions # Auxiliary functions"
   ]
  },
  {
   "cell_type": "code",
   "execution_count": 33,
   "id": "0bdc814d-9a6f-49f9-85b4-a9dc8241ede5",
   "metadata": {},
   "outputs": [],
   "source": [
    "def numeric_sum_diagramsOne(a,b,quirality='L',FFs={'L':ALOnetot1,'R':AROnetot1}):\n",
    "    '''\n",
    "    This function create a function which only depends on m6 and represent the sum of all form factors\n",
    "    associated to diagrams with one fermion in the loop and also considering the 6 neutrino generations.\n",
    "    \n",
    "    Input\n",
    "    ---------\n",
    "        a,b (int): indexes of leptons, a,b = 1,2 or 3\n",
    "        quirality (string): represents the chirality of the diagrams, it can be L or R:\n",
    "        \n",
    "    Output:\n",
    "        sum_over_index_i (function): returns the function which represent the sum of all diagrams and \n",
    "        over the neutrino index i. This function only depends on m6.\n",
    "    '''\n",
    "    \n",
    "    if quirality=='L':\n",
    "        x = FFs['L']\n",
    "    elif quirality=='R':\n",
    "        x = FFs['R']\n",
    "    else:\n",
    "        raise ValueError('quirality must be L or R')\n",
    "    x = x.subs(lfvhd.B12_0(mW,mW),0).subs(cambios_hab(a,b)).subs(valores).subs(UnuOne)\n",
    "    FF_lamb = lambdify([mni,Ubi,Ucai],# depends on three parameters\n",
    "                 replaceBs(x), #\n",
    "                 modules=[pave_functions(valores[mh],a,b,lib='mpmath'),'mpmath']\n",
    "                        )\n",
    "    def sum_over_index_i(m6):\n",
    "        FF_sum_over_i = sumOne(m6,FF_lamb,a,b) # sum over neutrino generations\n",
    "        return FF_sum_over_i\n",
    "    return sum_over_index_i\n",
    "\n",
    "    # return lambda mni: FF_lamb(mni,1,1)"
   ]
  },
  {
   "cell_type": "code",
   "execution_count": 34,
   "id": "06689d64-ef97-4008-a25e-4e7c070e370b",
   "metadata": {},
   "outputs": [],
   "source": [
    "def ALOneTot23_1(m6):\n",
    "    return numeric_sum_diagramsOne(2,3,quirality='L')(m6)\n",
    "def AROneTot23_1(m6):\n",
    "    return numeric_sum_diagramsOne(2,3,quirality='R')(m6)\n",
    "\n",
    "def ALOneTot23_mni2(m6):\n",
    "    return numeric_sum_diagramsOne(2,3,quirality='L',\n",
    "                         FFs={'L':ALOnetotmni2,'R':AROnetotmni2})(m6)\n",
    "def AROneTot23_mni2(m6):\n",
    "    return numeric_sum_diagramsOne(2,3,quirality='R',\n",
    "                         FFs={'L':ALOnetotmni2,'R':AROnetotmni2})(m6)\n",
    "\n",
    "def ALOneTot23(m6):\n",
    "    AL_1 = ALOneTot23_1(m6)\n",
    "    AL_mni2 = ALOneTot23_mni2(m6)\n",
    "    return AL_1 + AL_mni2\n",
    "def AROneTot23(m6):\n",
    "    AR_1 = AROneTot23_1(m6)\n",
    "    AR_mni2 = AROneTot23_mni2(m6)\n",
    "    return AR_1 + AR_mni2\n",
    "\n",
    "def ALOneTot23_mW0(m6):\n",
    "    return numeric_sum_diagramsOne(2,3,quirality='L',\n",
    "                         FFs={'L':ALOne_nomW,'R':AROne_nomW})(m6)\n",
    "def AROneTot23_mW0(m6):\n",
    "    return numeric_sum_diagramsOne(2,3,quirality='R',\n",
    "                         FFs={'L':ALOne_nomW,'R':AROne_nomW})(m6)\n",
    "\n",
    "def ALOneTot23_mW2(m6):\n",
    "    return numeric_sum_diagramsOne(2,3,quirality='L',\n",
    "                         FFs={'L':ALOnemW2,'R':AROnemW2})(m6)\n",
    "def AROneTot23_mW2(m6):\n",
    "    return numeric_sum_diagramsOne(2,3,quirality='R',\n",
    "                         FFs={'L':ALOnemW2,'R':AROnemW2})(m6)\n",
    "\n",
    "def ALOneTot23_mW4(m6):\n",
    "    return numeric_sum_diagramsOne(2,3,quirality='L',\n",
    "                         FFs={'L':ALOnemW4,'R':AROnemW4})(m6)\n",
    "def AROneTot23_mW4(m6):\n",
    "    return numeric_sum_diagramsOne(2,3,quirality='R',\n",
    "                         FFs={'L':ALOnemW4,'R':AROnemW4})(m6)\n",
    "######################################################################\n",
    "######################################################################\n",
    "def ALOneTot13_1(m6):\n",
    "    return numeric_sum_diagramsOne(1,3,quirality='L')(m6)\n",
    "def AROneTot13_1(m6):\n",
    "    return numeric_sum_diagramsOne(1,3,quirality='R')(m6)\n",
    "\n",
    "def ALOneTot13_mni2(m6):\n",
    "    return numeric_sum_diagramsOne(1,3,quirality='L',\n",
    "                         FFs={'L':ALOnetotmni2,'R':AROnetotmni2})(m6)\n",
    "def AROneTot13_mni2(m6):\n",
    "    return numeric_sum_diagramsOne(1,3,quirality='R',\n",
    "                         FFs={'L':ALOnetotmni2,'R':AROnetotmni2})(m6)\n",
    "\n",
    "def ALOneTot13(m6):\n",
    "    AL_1 = ALOneTot13_1(m6)\n",
    "    AL_mni2 = ALOneTot13_mni2(m6)\n",
    "    return AL_1 + AL_mni2\n",
    "def AROneTot13(m6):\n",
    "    AR_1 = AROneTot13_1(m6)\n",
    "    AR_mni2 = AROneTot13_mni2(m6)\n",
    "    return AR_1 + AR_mni2\n",
    "\n",
    "def ALOneTot13_mW0(m6):\n",
    "    return numeric_sum_diagramsOne(1,3,quirality='L',\n",
    "                         FFs={'L':ALOne_nomW,'R':AROne_nomW})(m6)\n",
    "def AROneTot13_mW0(m6):\n",
    "    return numeric_sum_diagramsOne(1,3,quirality='R',\n",
    "                         FFs={'L':ALOne_nomW,'R':AROne_nomW})(m6)\n",
    "\n",
    "def ALOneTot13_mW2(m6):\n",
    "    return numeric_sum_diagramsOne(1,3,quirality='L',\n",
    "                         FFs={'L':ALOnemW2,'R':AROnemW2})(m6)\n",
    "def AROneTot13_mW2(m6):\n",
    "    return numeric_sum_diagramsOne(1,3,quirality='R',\n",
    "                         FFs={'L':ALOnemW2,'R':AROnemW2})(m6)\n",
    "                        \n",
    "def ALOneTot13_mW4(m6):\n",
    "    return numeric_sum_diagramsOne(1,3,quirality='L',\n",
    "                         FFs={'L':ALOnemW4,'R':AROnemW4})(m6)\n",
    "def AROneTot13_mW4(m6):\n",
    "    return numeric_sum_diagramsOne(1,3,quirality='R',\n",
    "                         FFs={'L':ALOnemW4,'R':AROnemW4})(m6)\n",
    "######################################################################\n",
    "######################################################################\n",
    "def ALOneTot12_1(m6):\n",
    "    return numeric_sum_diagramsOne(1,2,quirality='L')(m6)\n",
    "def AROneTot12_1(m6):\n",
    "    return numeric_sum_diagramsOne(1,2,quirality='R')(m6)\n",
    "\n",
    "def ALOneTot12_mni2(m6):\n",
    "    return numeric_sum_diagramsOne(1,2,quirality='L',\n",
    "                         FFs={'L':ALOnetotmni2,'R':AROnetotmni2})(m6)\n",
    "def AROneTot12_mni2(m6):\n",
    "    return numeric_sum_diagramsOne(1,2,quirality='R',\n",
    "                         FFs={'L':ALOnetotmni2,'R':AROnetotmni2})(m6)\n",
    "\n",
    "def ALOneTot12(m6):\n",
    "    AL_1 = ALOneTot12_1(m6)\n",
    "    AL_mni2 = ALOneTot12_mni2(m6)\n",
    "    return AL_1 + AL_mni2\n",
    "def AROneTot12(m6):\n",
    "    AR_1 = AROneTot12_1(m6)\n",
    "    AR_mni2 = AROneTot12_mni2(m6)\n",
    "    return AR_1 + AR_mni2\n",
    "\n",
    "def ALOneTot12_mW0(m6):\n",
    "    return numeric_sum_diagramsOne(1,2,quirality='L',\n",
    "                         FFs={'L':ALOne_nomW,'R':AROne_nomW})(m6)\n",
    "def AROneTot12_mW0(m6):\n",
    "    return numeric_sum_diagramsOne(1,2,quirality='R',\n",
    "                         FFs={'L':ALOne_nomW,'R':AROne_nomW})(m6)\n",
    "\n",
    "def ALOneTot12_mW2(m6):\n",
    "    return numeric_sum_diagramsOne(1,2,quirality='L',\n",
    "                         FFs={'L':ALOnemW2,'R':AROnemW2})(m6)\n",
    "def AROneTot12_mW2(m6):\n",
    "    return numeric_sum_diagramsOne(1,2,quirality='R',\n",
    "                         FFs={'L':ALOnemW2,'R':AROnemW2})(m6)\n",
    "\n",
    "def ALOneTot12_mW4(m6):\n",
    "    return numeric_sum_diagramsOne(1,2,quirality='L',\n",
    "                         FFs={'L':ALOnemW4,'R':AROnemW4})(m6)\n",
    "def AROneTot12_mW4(m6):\n",
    "    return numeric_sum_diagramsOne(1,2,quirality='R',\n",
    "                         FFs={'L':ALOnemW4,'R':AROnemW4})(m6)"
   ]
  },
  {
   "cell_type": "code",
   "execution_count": 35,
   "id": "361efd5e-ac50-48ad-a4d3-9711badc3ff6",
   "metadata": {},
   "outputs": [
    {
     "data": {
      "text/plain": [
       "((4.312184979068834277617842999601846095644964922495240272532112837486230114390931853838214489867794781e-42 + 1.348281601073938649864325545284976259250047513903707027728219545658471995753690345526591446685885402e-116j),\n",
       " (4.312184979068834277617842999601846095644964922495240272532112837486230114390931853838214489867794781e-42 + 1.348281601073938649864325545284976259250047513903707027728219545658471995753690345526591446685885402e-116j))"
      ]
     },
     "execution_count": 35,
     "metadata": {},
     "output_type": "execute_result"
    }
   ],
   "source": [
    "# ALOneTot23_1(mpf('1e-12')),ALOneTot23_mni2(mpf('1e-12'))\n",
    "#ALOneTot13_1(mpf('1e-12')),ALOneTot13_mni2(mpf('1e-12'))\n",
    "#ALOneTot12_1(mpf('1e-12')),ALOneTot12_mni2(mpf('1e-12'))\n",
    "ALOneTot12_mW0(mpf('1e-12')),ALOneTot12_mW0(mpf('1e-12'))\n"
   ]
  },
  {
   "cell_type": "code",
   "execution_count": 36,
   "id": "38a27b90-fe8f-4b1f-ba2c-8ee5d5948a8f",
   "metadata": {},
   "outputs": [],
   "source": [
    "n = 100\n",
    "expmp = linspace(-1,15,n)\n",
    "m6np = np.array([mpf('10.0')**k for k in expmp])#np.logspace(-1,15,n)\n"
   ]
  },
  {
   "cell_type": "code",
   "execution_count": 38,
   "id": "1a6f1317",
   "metadata": {},
   "outputs": [],
   "source": [
    "lambdaN_np = m6np**2/80.379**2\n",
    "#lambdaN_np"
   ]
  },
  {
   "cell_type": "code",
   "execution_count": 41,
   "id": "ff91c2ce",
   "metadata": {},
   "outputs": [],
   "source": [
    "def lambdaNf(m6):\n",
    "    return m6**2/(80.379)**2\n",
    "\n",
    "def m6f(lambdaN):\n",
    "    return np.sqrt(lambdaN*(80.379)**2)\n",
    "##############################################\n",
    "##############################################\n",
    "def ALOneTot23_1_lN(lambdaN):\n",
    "    return ALOneTot23_1(m6f(lambdaN))\n",
    "\n",
    "def ALOneTot23_mni2_lN(lambdaN):\n",
    "    return ALOneTot23_mni2(m6f(lambdaN))\n",
    "\n",
    "def AROneTot23_1_lN(lambdaN):\n",
    "    return AROneTot23_1(m6f(lambdaN))\n",
    "\n",
    "def AROneTot23_mni2_lN(lambdaN):\n",
    "    return AROneTot23_mni2(m6f(lambdaN))\n",
    "##############################################\n",
    "def ALOneTot13_1_lN(lambdaN):\n",
    "    return ALOneTot13_1(m6f(lambdaN))\n",
    "\n",
    "def ALOneTot13_mni2_lN(lambdaN):\n",
    "    return ALOneTot13_mni2(m6f(lambdaN))\n",
    "\n",
    "def AROneTot13_1_lN(lambdaN):\n",
    "    return AROneTot13_1(m6f(lambdaN))\n",
    "\n",
    "def AROneTot13_mni2_lN(lambdaN):\n",
    "    return AROneTot13_mni2(m6f(lambdaN))\n",
    "##############################################\n",
    "def ALOneTot12_1_lN(lambdaN):\n",
    "    return ALOneTot12_1(m6f(lambdaN))\n",
    "\n",
    "def ALOneTot12_mni2_lN(lambdaN):\n",
    "    return ALOneTot12_mni2(m6f(lambdaN))\n",
    "\n",
    "def AROneTot12_1_lN(lambdaN):\n",
    "    return AROneTot12_1(m6f(lambdaN))\n",
    "\n",
    "def AROneTot12_mni2_lN(lambdaN):\n",
    "    return AROneTot12_mni2(m6f(lambdaN))"
   ]
  },
  {
   "cell_type": "code",
   "execution_count": 42,
   "id": "6355d00b-7b8d-49b3-b127-be310933397b",
   "metadata": {},
   "outputs": [
    {
     "name": "stdout",
     "output_type": "stream",
     "text": [
      "CPU times: user 2.39 s, sys: 1.16 s, total: 3.55 s\n",
      "Wall time: 13min 40s\n"
     ]
    }
   ],
   "source": [
    "%%time\n",
    "##############################################################\n",
    "##############################################################\n",
    "YLOne23_1 = speedup_array(ALOneTot23_1_lN,lambdaN_np)\n",
    "YLOne23_mni2 = speedup_array(ALOneTot23_mni2_lN,lambdaN_np)\n",
    "# YLOne23_mW0 = speedup_array(ALOneTot23_mW0,m6np)\n",
    "# YLOne23_mW2 = speedup_array(ALOneTot23_mW2,m6np)\n",
    "# YLOne23_mW4 = speedup_array(ALOneTot23_mW4,m6np)\n",
    "\n",
    "\n",
    "YROne23_1 = speedup_array(AROneTot23_1_lN,lambdaN_np)\n",
    "YROne23_mni2 = speedup_array(AROneTot23_mni2_lN,lambdaN_np)\n",
    "# YROne23_mW0 = speedup_array(AROneTot23_mW0,m6np)\n",
    "# YROne23_mW2 = speedup_array(AROneTot23_mW2,m6np)\n",
    "# YROne23_mW4 = speedup_array(AROneTot23_mW4,m6np)\n",
    "##############################################################\n",
    "##############################################################\n",
    "YLOne13_1 = speedup_array(ALOneTot13_1_lN,lambdaN_np)\n",
    "YLOne13_mni2 = speedup_array(ALOneTot13_mni2_lN,lambdaN_np)\n",
    "# YLOne13_mW0 = speedup_array(ALOneTot13_mW0,m6np)\n",
    "# YLOne13_mW2 = speedup_array(ALOneTot13_mW2,m6np)\n",
    "# YLOne13_mW4 = speedup_array(ALOneTot13_mW4,m6np)\n",
    "\n",
    "YROne13_1 = speedup_array(AROneTot13_1_lN,lambdaN_np)\n",
    "YROne13_mni2 = speedup_array(AROneTot13_mni2_lN,lambdaN_np)\n",
    "# YROne13_mW0 = speedup_array(AROneTot13_mW0,m6np)\n",
    "# YROne13_mW2 = speedup_array(AROneTot13_mW2,m6np)\n",
    "# YROne13_mW4 = speedup_array(AROneTot13_mW4,m6np)\n",
    "##############################################################\n",
    "##############################################################\n",
    "YLOne12_1 = speedup_array(ALOneTot12_1_lN,lambdaN_np)\n",
    "YLOne12_mni2 = speedup_array(ALOneTot12_mni2_lN,lambdaN_np)\n",
    "# YLOne12_mW0 = speedup_array(ALOneTot12_mW0,m6np)\n",
    "# YLOne12_mW2 = speedup_array(ALOneTot12_mW2,m6np)\n",
    "# YLOne12_mW4 = speedup_array(ALOneTot12_mW4,m6np)\n",
    "\n",
    "YROne12_1 = speedup_array(AROneTot12_1_lN,lambdaN_np)\n",
    "YROne12_mni2 = speedup_array(AROneTot12_mni2_lN,lambdaN_np)\n",
    "# YROne12_mW0 = speedup_array(AROneTot12_mW0,m6np)\n",
    "# YROne12_mW2 = speedup_array(AROneTot12_mW2,m6np)\n",
    "# YROne12_mW4 = speedup_array(AROneTot12_mW4,m6np)"
   ]
  },
  {
   "cell_type": "code",
   "execution_count": 43,
   "id": "21df4675-7200-40eb-9258-f0c8bcfea39f",
   "metadata": {},
   "outputs": [],
   "source": [
    "YLOne23 = YLOne23_1 + YLOne23_mni2\n",
    "YROne23 = YROne23_1 + YROne23_mni2\n",
    "\n",
    "YLOne13 = YLOne13_1 + YLOne13_mni2\n",
    "YROne13 = YROne13_1 + YROne13_mni2\n",
    "\n",
    "YLOne12 = YLOne12_1 + YLOne12_mni2\n",
    "YROne12 = YROne12_1 + YROne12_mni2"
   ]
  },
  {
   "cell_type": "code",
   "execution_count": 44,
   "id": "da6b1049-5ce5-4430-ace0-9b4c5a1174b1",
   "metadata": {},
   "outputs": [
    {
     "data": {
      "image/png": "[encoded data removed]",
      "text/plain": [
       "<Figure size 1080x576 with 1 Axes>"
      ]
     },
     "metadata": {
      "needs_background": "light"
     },
     "output_type": "display_data"
    }
   ],
   "source": [
    "plt.figure(figsize=(15,8))\n",
    "\n",
    "\n",
    "plt.loglog(np.real(lambdaN_np),abs(YLOne23_1)**2,'-.',label='$|A_L^{(1)}(2,3)|^2$ with no $m_{n_i}$')\n",
    "plt.loglog(np.real(lambdaN_np),abs(YLOne23_mni2)**2,'-',\n",
    "           label='$|A_L^{(1)}(2,3)|^2$ with only $m_{n_i}$')\n",
    "plt.loglog(np.real(lambdaN_np),abs(YLOne23)**2,'--',label='$|A_L^{(1)}(2,3)|^2$')\n",
    "# plt.loglog(np.real(m6np),abs(YLOne23_mni2 - YLOne23_1),'-.',label='diff')\n",
    "\n",
    "\n",
    "plt.xticks(fontsize=15)\n",
    "plt.yticks(fontsize=15)\n",
    "\n",
    "plt.legend(fontsize=15)\n",
    "plt.xlabel(r'$\\lambda_N$',fontsize=18);"
   ]
  },
  {
   "cell_type": "code",
   "execution_count": 45,
   "id": "f16552c4",
   "metadata": {},
   "outputs": [],
   "source": [
    "# import gc\n",
    "# gc.collect()"
   ]
  },
  {
   "cell_type": "code",
   "execution_count": 42,
   "id": "607aa2d0-0396-4646-96cf-7cd27217509c",
   "metadata": {},
   "outputs": [],
   "source": [
    "# plt.figure(figsize=(15,8))\n",
    "\n",
    "# plt.loglog(np.real(m6np),abs(YLOne23_mW0)**2,'-.',label='$|A_L^{(1)}(2,3)|^2$ with no $m_{W}$');\n",
    "# plt.loglog(np.real(m6np),abs(YLOne23_mW2)**2,'-.',label='$|A_L^{(1)}(2,3)|^2$ with $m_{W}^2$');\n",
    "# plt.loglog(np.real(m6np),abs(YLOne23_mW4)**2,'-.',label='$|A_L^{(1)}(2,3)|^2$ with $m_{W}^4$');\n",
    "# plt.loglog(np.real(m6np),abs(YLOne23_1)**2,'-.',label='$|A_L^{(1)}(2,3)|^2$ with no $m_{n_i}$');\n",
    "# #plt.loglog(np.real(m6np),mpf('1e-12')/m6np**2,'-.',label=r'$\\frac{m_\\nu}{m_{n_6}^2}$');\n",
    "\n",
    "# plt.xticks(fontsize=15)\n",
    "# plt.yticks(fontsize=15)\n",
    "# plt.legend(fontsize=15)\n",
    "# plt.xlabel('$m_{n_6}$',fontsize=18);"
   ]
  },
  {
   "cell_type": "markdown",
   "id": "88c866db-8d8a-49d3-ab4f-469c08797b49",
   "metadata": {},
   "source": [
    "## Form factor with two fermion in the loop."
   ]
  },
  {
   "cell_type": "markdown",
   "id": "90106aa8-ec29-4d13-818f-50e955b39b03",
   "metadata": {},
   "source": [
    "In this case we only have 2 diagrams stored in `TrianglesTwoFermion` list. In this case we have two neutrino indexes $i$ and $j$.Then, we have a doble summatory in this case.  First we do an auxiliar simbolic substitutions related to the following code"
   ]
  },
  {
   "cell_type": "code",
   "execution_count": 53,
   "id": "437e9fb2-9e07-4454-9c6a-545514beb812",
   "metadata": {},
   "outputs": [
    {
     "data": {
      "image/png": "[encoded data removed]",
      "text/latex": [
       "$\\displaystyle \\left\\{ {C}_{i,j} : C_{ij}, \\  {{{C^*}}}_{i,j} : {{C_{ij}^*}}, \\  {{{U^\\nu}}}_{b,j} : U_{bj}, \\  {{{U^{\\nu *}}}}_{a,i} : {{U_{ai}^*}}, \\  {{{m_n}}}_{i} : m_{n_i}, \\  {{{m_n}}}_{j} : m_{n_j}\\right\\}$"
      ],
      "text/plain": [
       "{C[i, j]: C_{ij}, {{C^*}}[i, j]: {{C_{ij}__*}}, {{U^\\nu}}[b, j]: U_{bj}, {{U^{\n",
       "\\nu *}}}[a, i]: {{U_{ai}__*}}, {{m_n}}[i]: m_{n_i}, {{m_n}}[j]: m_{n_j}}"
      ]
     },
     "execution_count": 53,
     "metadata": {},
     "output_type": "execute_result"
    }
   ],
   "source": [
    "mnj = symbols('m_{n_j}',positive=True)\n",
    "Cijs, Cijcs, Ubj = symbols('C_{ij}, {{C_{ij}^*}},U_{bj}')\n",
    "UnuTwo = {mn[i]:mni,mn[jj]:mnj,C[i,jj]:Cijs, Cc[i,jj]:Cijcs, Uν[b,jj]:Ubj, Uνc[a,i]:Ucai}\n",
    "UnuTwo"
   ]
  },
  {
   "cell_type": "code",
   "execution_count": 54,
   "id": "6fbbfebc-1aac-4c6d-9c45-9e2e629efef4",
   "metadata": {},
   "outputs": [],
   "source": [
    "fsL = lambda k,a,b:TrianglesTwoFermion[k].AL().subs(lfvhd.D,4).subs(\n",
    "    cambios_hab(a,b)).subs(valores).subs(UnuTwo)\n",
    "fsR = lambda k,a,b:TrianglesTwoFermion[k].AR().subs(lfvhd.D,4).subs(\n",
    "    cambios_hab(a,b)).subs(valores).subs(UnuTwo)"
   ]
  },
  {
   "cell_type": "code",
   "execution_count": 55,
   "id": "18cabf93-99fd-423d-b836-1cefd39f5a3d",
   "metadata": {},
   "outputs": [],
   "source": [
    "fL = lambda k,a,b:lambdify([mni,mnj,Ubj,Ucai,Cijs,Cijcs],replaceBs(fsL(k,a,b)),\n",
    "                     modules=[pave_functions(valores[mh],a,b,lib='mpmath'),'mpmath'] )\n",
    "fR = lambda k,a,b:lambdify([mni,mnj,Ubj,Ucai,Cijs,Cijcs],replaceBs(fsR(k,a,b)),\n",
    "                     modules=[pave_functions(valores[mh],a,b,lib='mpmath'),'mpmath'] )"
   ]
  },
  {
   "cell_type": "code",
   "execution_count": 56,
   "id": "a934197f-7d41-418f-9b98-1316a8e748d1",
   "metadata": {},
   "outputs": [
    {
     "data": {
      "text/plain": [
       "(-0.0000002724799859085421384409938458342123803277328644003285789490008999191924780317987581486732976993008638 + 0.0000001635201818092688630142486522234300667526028039977494647161391854843894570784316838169269712068049066j)"
      ]
     },
     "execution_count": 56,
     "metadata": {},
     "output_type": "execute_result"
    }
   ],
   "source": [
    "fL(0,2,3)(1,2,3,4,5,6)"
   ]
  },
  {
   "cell_type": "code",
   "execution_count": 57,
   "id": "c170e2a0-9a33-4d41-adfb-06f5cb6ce66b",
   "metadata": {},
   "outputs": [],
   "source": [
    "def sumatwo(mm6,k,a,b,quirality='L'):\n",
    "    xs = []\n",
    "    if quirality=='L':\n",
    "        g = fL(k,a,b)\n",
    "    elif quirality=='R':\n",
    "        g = fR(k,a,b)\n",
    "    else:\n",
    "        raise ValueError('quirality must be L or R')\n",
    "        \n",
    "    mnk,UnuL,UnuR = diagonalizationMnu1(m1,mm6)\n",
    "    Unu = UnuR\n",
    "    Unu_dagger = UnuL\n",
    "    #Cij = lambda i,j: mp.fsum([Unu[c,i]*conj(Unu[c,j]) for c in range(3)])\n",
    "    Cij = lambda i,j: mp.fsum([Unu[c,i]*Unu_dagger[j,c] for c in range(3)])\n",
    "    for p in range(1,7):\n",
    "        for q in range(1,7):\n",
    "            #x = g(mnk[p-1],mnk[q-1],Unu[b-1,q-1],conj(Unu[a-1,p-1]),Cij(p-1,q-1),conj(Cij(p-1,q-1)))\n",
    "            x = g(mnk[p-1],mnk[q-1],Unu[b-1,q-1],Unu_dagger[p-1,a-1],Cij(p-1,q-1),conj(Cij(p-1,q-1)))\n",
    "            xs.append(x)\n",
    "            #print(f'i = {p} and j = {q}')\n",
    "            #print(f'|f| = {x}')\n",
    "    return mp.fsum(xs)"
   ]
  },
  {
   "cell_type": "markdown",
   "id": "a6c4b01e-3031-44a5-b201-2cb8997b4ad5",
   "metadata": {},
   "source": [
    "Then the total contribution of the diagrams with two fermions in the loop is given by"
   ]
  },
  {
   "cell_type": "code",
   "execution_count": 58,
   "id": "bf1d0791-24fa-4fb7-968f-6f918d73edc8",
   "metadata": {},
   "outputs": [],
   "source": [
    "def totaltwo(m6,a,b,quirality='L'):\n",
    "    return sumatwo(m6,0,a,b,quirality)  + sumatwo(m6,1,a,b,quirality)"
   ]
  },
  {
   "cell_type": "code",
   "execution_count": 59,
   "id": "1851ed7b-d14f-4cfc-901b-adc9e89a09ee",
   "metadata": {},
   "outputs": [],
   "source": [
    "def ALTwoTot23(m6):\n",
    "    return totaltwo(m6,2,3,'L')\n",
    "def ARTwoTot23(m6):\n",
    "    return totaltwo(m6,2,3,'R')\n",
    "\n",
    "def ALTwoTot13(m6):\n",
    "    return totaltwo(m6,1,3,'L')\n",
    "def ARTwoTot13(m6):\n",
    "    return totaltwo(m6,1,3,'R')\n",
    "\n",
    "def ALTwoTot12(m6):\n",
    "    return totaltwo(m6,1,2,'L')\n",
    "def ARTwoTot12(m6):\n",
    "    return totaltwo(m6,1,2,'R')"
   ]
  },
  {
   "cell_type": "code",
   "execution_count": 60,
   "id": "a9d80a05-2f5d-425b-8140-fc065662e7a3",
   "metadata": {},
   "outputs": [
    {
     "data": {
      "text/plain": [
       "(0.0001403050703113529460302508454164344186997020965694825877824773181350117304567302820417393479229529809,\n",
       " 0.0001403050703113529460302508454164344186997020965694825877824773181350117304567302820417393479229529809)"
      ]
     },
     "execution_count": 60,
     "metadata": {},
     "output_type": "execute_result"
    }
   ],
   "source": [
    "abs(ALTwoTot23(m6np[-1])),abs(sumatwo(m6np[-1],0,2,3,'L')+ sumatwo(m6np[-1],1,2,3,'L'))"
   ]
  },
  {
   "cell_type": "code",
   "execution_count": 61,
   "id": "144dd37a",
   "metadata": {},
   "outputs": [],
   "source": [
    "###################################\n",
    "###################################\n",
    "def ALTwoTot23_lN(lambdaN):\n",
    "    return ALTwoTot23(m6f(lambdaN))\n",
    "\n",
    "def ARTwoTot23_lN(lambdaN):\n",
    "    return ARTwoTot23(m6f(lambdaN))\n",
    "###################################\n",
    "###################################\n",
    "def ALTwoTot13_lN(lambdaN):\n",
    "    return ALTwoTot13(m6f(lambdaN))\n",
    "\n",
    "def ARTwoTot13_lN(lambdaN):\n",
    "    return ARTwoTot13(m6f(lambdaN))\n",
    "\n",
    "###################################\n",
    "###################################\n",
    "def ALTwoTot12_lN(lambdaN):\n",
    "    return ALTwoTot12(m6f(lambdaN))\n",
    "\n",
    "def ARTwoTot12_lN(lambdaN):\n",
    "    return ARTwoTot12(m6f(lambdaN))"
   ]
  },
  {
   "cell_type": "code",
   "execution_count": 62,
   "id": "a69b70da-7866-4114-af59-1498e3500e67",
   "metadata": {},
   "outputs": [
    {
     "name": "stdout",
     "output_type": "stream",
     "text": [
      "CPU times: user 28.3 s, sys: 10.2 s, total: 38.5 s\n",
      "Wall time: 1h 28min 40s\n"
     ]
    }
   ],
   "source": [
    "%%time\n",
    "YLTwo23 = speedup_array(ALTwoTot23_lN,lambdaN_np)\n",
    "YRTwo23 = speedup_array(ARTwoTot23_lN,lambdaN_np)\n",
    "\n",
    "YLTwo13 = speedup_array(ALTwoTot13_lN,lambdaN_np)\n",
    "YRTwo13 = speedup_array(ARTwoTot13_lN,lambdaN_np)\n",
    "\n",
    "YLTwo12 = speedup_array(ALTwoTot12_lN,lambdaN_np)\n",
    "YRTwo12 = speedup_array(ARTwoTot12_lN,lambdaN_np)"
   ]
  },
  {
   "cell_type": "markdown",
   "id": "31dbf36f-9bf6-4bf2-aa62-78fd8baea922",
   "metadata": {},
   "source": [
    "## Total Form Factors"
   ]
  },
  {
   "cell_type": "markdown",
   "id": "3162a518-e12e-468e-8f29-fb4088fef9cf",
   "metadata": {},
   "source": [
    "Finally, if we sum the contribution of one and two fermions, we obtain the total fomr factors given as follows"
   ]
  },
  {
   "cell_type": "code",
   "execution_count": 63,
   "id": "6e0172a2-c677-48fd-aef2-af34f6f05e64",
   "metadata": {},
   "outputs": [],
   "source": [
    "# #a = 2, b = 3\n",
    "ALtot23_1 = YLOne23_1\n",
    "ARtot23_1 = YROne23_1\n",
    "\n",
    "ALtot23_mni = YLOne23_mni2 + YLTwo23\n",
    "ARtot23_mni = YROne23_mni2 + YRTwo23\n",
    "\n",
    "ALtot23 = YLOne23_1 +  YLOne23_mni2 + YLTwo23\n",
    "ARtot23 = YROne23_1 +  YROne23_mni2 + YRTwo23\n",
    "\n",
    "# #a = 1, b = 3\n",
    "ALtot13_1 = YLOne13_1\n",
    "ARtot13_1 = YROne13_1\n",
    "\n",
    "ALtot13_mni = YLOne13_mni2 + YLTwo13\n",
    "ARtot13_mni = YROne13_mni2 + YRTwo13\n",
    "\n",
    "ALtot13 = YLOne13_1 +  YLOne13_mni2 + YLTwo13\n",
    "ARtot13 = YROne13_1 +  YROne13_mni2 + YRTwo13\n",
    "\n",
    "# #a = 1, b = 3\n",
    "ALtot12_1 = YLOne12_1\n",
    "ARtot12_1 = YROne12_1\n",
    "\n",
    "ALtot12_mni = YLOne12_mni2 + YLTwo12\n",
    "ARtot12_mni = YROne12_mni2 + YRTwo12\n",
    "\n",
    "ALtot12 = YLOne12_1 +  YLOne12_mni2 + YLTwo12\n",
    "ARtot12 = YROne12_1 +  YROne12_mni2 + YRTwo12"
   ]
  },
  {
   "cell_type": "code",
   "execution_count": 64,
   "id": "4e159e32-2834-42f8-863b-7e4792118590",
   "metadata": {},
   "outputs": [],
   "source": [
    "Γhlilj = lfvhd.Γhlilj"
   ]
  },
  {
   "cell_type": "code",
   "execution_count": 65,
   "id": "4d45fa14-5fa9-4772-b67b-b8ff660f82bc",
   "metadata": {},
   "outputs": [],
   "source": [
    "Γhl2l3_1 = Γhlilj(ALtot23_1,ARtot23_1,valores[mh],ml[2],ml[3])\n",
    "Γhl2l3_mni = Γhlilj(ALtot23_mni,ARtot23_mni,valores[mh],ml[2],ml[3])\n",
    "Γhl2l3_mni_two = Γhlilj(YLTwo23,YRTwo23,valores[mh],ml[2],ml[3])\n",
    "\n",
    "Γhl2l3 = Γhlilj(ALtot23,ARtot23,valores[mh],ml[2],ml[3])\n",
    "########################################################3\n",
    "#######################################################\n",
    "Γhl1l3_1 = Γhlilj(ALtot13_1,ARtot13_1,valores[mh],ml[1],ml[3])\n",
    "Γhl1l3_mni = Γhlilj(ALtot13_mni,ARtot13_mni,valores[mh],ml[1],ml[3])\n",
    "Γhl1l3_mni_two = Γhlilj(YLTwo13,YRTwo13,valores[mh],ml[1],ml[3])\n",
    "\n",
    "Γhl1l3 = Γhlilj(ALtot13,ARtot13,valores[mh],ml[1],ml[3])\n",
    "########################################################3\n",
    "#######################################################\n",
    "Γhl1l2_1 = Γhlilj(ALtot12_1,ARtot12_1,valores[mh],ml[1],ml[2])\n",
    "Γhl1l2_mni = Γhlilj(ALtot12_mni,ARtot12_mni,valores[mh],ml[1],ml[2])\n",
    "Γhl1l2_mni_two = Γhlilj(YLTwo12,YRTwo12,valores[mh],ml[1],ml[2])\n",
    "\n",
    "Γhl1l2 = Γhlilj(ALtot12,ARtot12,valores[mh],ml[1],ml[2])"
   ]
  },
  {
   "cell_type": "code",
   "execution_count": 66,
   "id": "484476bc-eb9c-42ab-9037-aff0c80bed25",
   "metadata": {},
   "outputs": [],
   "source": [
    "WidthSM = 0.0032 #GeV\n",
    "Wtot_1 = Γhl2l3_1 + Γhl1l3_1 + Γhl1l2_1 + WidthSM# + YW32 + YW31 + YW21\n",
    "Wtot_mni = Γhl2l3_mni + Γhl1l3_mni + Γhl1l2_mni + WidthSM# + YW32 + YW31 + YW21\n",
    "Wtot_mni_two = Γhl2l3_mni_two + Γhl1l3_mni_two + Γhl1l2_mni_two + WidthSM# + YW32 + YW31 + YW21\n",
    "\n",
    "Wtot = Γhl2l3 + Γhl1l3 + Γhl1l2 + WidthSM# + YW32 + YW31 + YW21"
   ]
  },
  {
   "cell_type": "code",
   "execution_count": 54,
   "id": "0054a842-49be-44f7-8cb2-e2042b7caec5",
   "metadata": {},
   "outputs": [],
   "source": [
    "# abs(Γhl2l3_1/Wtot_1)"
   ]
  },
  {
   "cell_type": "code",
   "execution_count": 71,
   "id": "034302d2-ba66-4564-85a3-6923ee13b1c7",
   "metadata": {},
   "outputs": [
    {
     "data": {
      "text/plain": [
       "<matplotlib.legend.Legend at 0x7f222c6f8250>"
      ]
     },
     "execution_count": 71,
     "metadata": {},
     "output_type": "execute_result"
    },
    {
     "data": {
      "image/png": "[encoded data removed]",
      "text/plain": [
       "<Figure size 1080x576 with 1 Axes>"
      ]
     },
     "metadata": {
      "needs_background": "light"
     },
     "output_type": "display_data"
    }
   ],
   "source": [
    "plt.figure(figsize=(15,8))\n",
    "plt.loglog(np.real(lambdaN_np),abs(Γhl2l3_1 #+ YW32\n",
    "                         /Wtot_1),label=r'Br($h \\to \\mu \\tau$) with no $m_{n_i}$ from one')\n",
    "\n",
    "plt.loglog(np.real(lambdaN_np),abs(Γhl2l3_mni #+ YW32\n",
    "                         /Wtot_mni),label=r'Br($h \\to \\mu \\tau$) with only $m_{n_i}$ from one',\n",
    "           alpha=0.5)\n",
    "\n",
    "plt.loglog(np.real(lambdaN_np),abs(Γhl2l3_mni_two #+ YW32\n",
    "                         /Wtot_mni),label=r'Br($h \\to \\mu \\tau$) with only $m_{n_i}$ from two',\n",
    "           alpha=0.5)\n",
    "\n",
    "plt.loglog(np.real(lambdaN_np),abs(Γhl2l3 #+ YW32\n",
    "                         /Wtot),label=r'Br($h \\to \\mu \\tau$)')\n",
    "\n",
    "#xx = ((YW23 + YW32)/Wtot)[-1]\n",
    "plt.hlines(1e-10,0.1,1e15,linestyles='-.',label=r'$1.7\\times 10^{-2}$')\n",
    "plt.hlines(5e-43,0.1,1e15,linestyles='--',color='b',label=r'$1\\times 10^{-32}$')\n",
    "plt.vlines((125.1)**2/(80.379**2),5e-43,1e-10,linestyles='--',color='r',label=r'$m_h$')\n",
    "plt.vlines(1,5e-43,1e-10,linestyles='--',color='g',label=r'$m_W$')\n",
    "#plt.xlim(1e-1,1e15)\n",
    "#plt.yticks([1e-39,1e-29,1e-19,1e-9,1])\n",
    "#plt.xticks([1,1e4,1e8,1e12,1e16])\n",
    "plt.legend(fontsize=15)"
   ]
  },
  {
   "cell_type": "code",
   "execution_count": null,
   "id": "8d4bb4b5",
   "metadata": {},
   "outputs": [],
   "source": []
  }
 ],
 "metadata": {
  "kernelspec": {
   "display_name": "Python 3 (ipykernel)",
   "language": "python",
   "name": "python3"
  },
  "language_info": {
   "codemirror_mode": {
    "name": "ipython",
    "version": 3
   },
   "file_extension": ".py",
   "mimetype": "text/x-python",
   "name": "python",
   "nbconvert_exporter": "python",
   "pygments_lexer": "ipython3",
   "version": "3.7.6"
  }
 },
 "nbformat": 4,
 "nbformat_minor": 5
}
