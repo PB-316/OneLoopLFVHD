{
 "cells": [
  {
   "cell_type": "code",
   "execution_count": 33,
   "metadata": {},
   "outputs": [],
   "source": [
    "from sympy import init_printing, Symbol,lambdify, symbols, Matrix\n",
    "init_printing()\n",
    "import OneLoopLFVHD as lfvhd\n",
    "from OneLoopLFVHD.LFVHDFeynG_mpmathDelta import Delta, delta\n",
    "Delta = mpf('0.0')\n",
    "delta = mpf('1e-12')"
   ]
  },
  {
   "cell_type": "code",
   "execution_count": 34,
   "metadata": {},
   "outputs": [],
   "source": [
    "from seesaw_FF import TrianglesOneFermion, TrianglesTwoFermion, Bubbles,DiagramsOneFermionW, DiagramsOneFermionG\n",
    "from seesaw_FF import g, mW, Uv, Uvc, mn, m, C, Cc, a,b,i,h\n",
    "from seesaw_FF import j as jj"
   ]
  },
  {
   "cell_type": "code",
   "execution_count": 35,
   "metadata": {},
   "outputs": [],
   "source": [
    "import matplotlib.pyplot as plt\n",
    "%matplotlib inline"
   ]
  },
  {
   "cell_type": "code",
   "execution_count": 36,
   "metadata": {},
   "outputs": [],
   "source": [
    "from mpmath import *"
   ]
  },
  {
   "cell_type": "code",
   "execution_count": 37,
   "metadata": {},
   "outputs": [],
   "source": [
    "mp.dps = 120; mp.pretty = True"
   ]
  },
  {
   "cell_type": "code",
   "execution_count": 38,
   "metadata": {},
   "outputs": [],
   "source": [
    "import numpy as np"
   ]
  },
  {
   "cell_type": "code",
   "execution_count": 39,
   "metadata": {},
   "outputs": [],
   "source": [
    "#import subprocess as s"
   ]
  },
  {
   "cell_type": "code",
   "execution_count": 40,
   "metadata": {},
   "outputs": [],
   "source": [
    "from multiprocessing import Pool\n",
    "#from time import time"
   ]
  },
  {
   "cell_type": "code",
   "execution_count": 41,
   "metadata": {},
   "outputs": [],
   "source": [
    "def speedup_array(f,array,procs=4): \n",
    "    pool = Pool(procs,maxtasksperchild=100).map(f, array)\n",
    "    result = np.array(list(pool))\n",
    "    return result"
   ]
  },
  {
   "cell_type": "markdown",
   "metadata": {},
   "source": [
    "## Neutrino oscillation and lepton data"
   ]
  },
  {
   "cell_type": "markdown",
   "metadata": {},
   "source": [
    "Neutrino benchmark is given by "
   ]
  },
  {
   "cell_type": "code",
   "execution_count": 42,
   "metadata": {},
   "outputs": [],
   "source": [
    "from OneLoopLFVHD.neutrinos import NuOscObservables\n",
    "Nudata = NuOscObservables"
   ]
  },
  {
   "cell_type": "code",
   "execution_count": 43,
   "metadata": {},
   "outputs": [],
   "source": [
    "m1 = mpf('1e-12')  #GeV \n",
    "\n",
    "#current values to Square mass differences\n",
    "d21 = mpf(str(Nudata.squareDm21.central))*mpf('1e-18')# factor to convert eV^2 to GeV^2\n",
    "d31 = mpf(str(Nudata.squareDm31.central))*mpf('1e-18')\n",
    "\n",
    "#d21 = 7.5e-5*1e-18\n",
    "#d31 = 2.457e-3*1e-18\n",
    "m2 = sqrt(m1**2 + d21)\n",
    "m3 = sqrt(m1**2 + d31)\n",
    "\n",
    "m4 = lambda m6: m6/3\n",
    "m5 = lambda m6: m6/2"
   ]
  },
  {
   "cell_type": "markdown",
   "metadata": {},
   "source": [
    "We calls from [Unu_seesaw.py](Unu_seesaw.py) the `diagonalizationMnu` function previously created to perform numerically the diagonalization of $6 \\times 6$ mass matrix. Here we choose which scenary for heavy neutrino we consider."
   ]
  },
  {
   "cell_type": "code",
   "execution_count": 44,
   "metadata": {},
   "outputs": [],
   "source": [
    "from Unu_seesaw import diagonalizationMnu_svd as diagonalizationMnu\n",
    "diagonalizationMnu1 = lambda m1,m6: diagonalizationMnu(\n",
    "    m1,m2,m3,m6/mpf('3.0'),m6/mpf('2.0'),m6)\n",
    "#Mnu1 = lambda m1,m6: Mnu(m1,m2,m3,m6/mpf('3.0'),m6/mpf('2.0'),m6)\n",
    "\n",
    "#diagonalizationMnu1 = lambda m1,m6: diagonalizationMnu(\n",
    "#    m1,m2,m3,m6,m6,m6)"
   ]
  },
  {
   "cell_type": "code",
   "execution_count": 45,
   "metadata": {},
   "outputs": [
    {
     "name": "stdout",
     "output_type": "stream",
     "text": [
      "[    1.0e+15]\n",
      "[    5.0e+14]\n",
      "[3.33333e+14]\n",
      "[5.02394e-11]\n",
      "[8.65448e-12]\n",
      "[    1.0e-12]\n"
     ]
    }
   ],
   "source": [
    "mnk, UL,UR = diagonalizationMnu1(m1,mp.mpf('1e15'))#0.003908\n",
    "mp.nprint(mnk)"
   ]
  },
  {
   "cell_type": "markdown",
   "metadata": {},
   "source": [
    "We introduce the values to $g$, $m_W$, $m_h$ and leptons masses, which will be susbtitute in the simbolic expressions."
   ]
  },
  {
   "cell_type": "code",
   "execution_count": 46,
   "metadata": {},
   "outputs": [],
   "source": [
    "from OneLoopLFVHD.data import ml"
   ]
  },
  {
   "cell_type": "code",
   "execution_count": 47,
   "metadata": {},
   "outputs": [],
   "source": [
    "mh,ma,mb = symbols('m_h,m_a,m_b',real=True)\n",
    "\n",
    "v = mpf('174')\n",
    "valores ={mW:mpf('80.379'),mh:mpf('125.10'),g:(2*mpf('80.379'))/v}\n",
    "\n",
    "cambios_hab = lambda a,b:{lfvhd.ma:valores[mh],lfvhd.mi:ml[a],lfvhd.mj:ml[b]}"
   ]
  },
  {
   "cell_type": "markdown",
   "metadata": {},
   "source": [
    "## Diagrams with one fermion in the loop."
   ]
  },
  {
   "cell_type": "markdown",
   "metadata": {},
   "source": [
    "In the case of diagram with only one neutrino in the loop which are labeled by the index $i$. the diagrams are 8 which are stored in `TrianglesOneFermion` and `Bubbles` lists.To other side, we need to consider a summatory of 6 neutrino generation and the GIM mechanism. First we do a auxiliar simbolic substitutions related to the following code."
   ]
  },
  {
   "cell_type": "code",
   "execution_count": 48,
   "metadata": {},
   "outputs": [],
   "source": [
    "Ubi, Ucai,mni = symbols('U_{bi}, {{U_{ai}^*}},m_{n_i}')\n",
    "UnuOne = {mn[i]:mni,Uv[b,i]:Ubi,Uvc[a,i]:Ucai}"
   ]
  },
  {
   "cell_type": "markdown",
   "metadata": {},
   "source": [
    "A simple implementation to the GIM mechanism to any simbolic form factor"
   ]
  },
  {
   "cell_type": "code",
   "execution_count": 49,
   "metadata": {},
   "outputs": [],
   "source": [
    "def GIM_One(exp, fermion_mass):\n",
    "    '''\n",
    "    Function to apply the GIM mechanism in the form factors from diagrams with one neutrino in the loop \n",
    "    (This function is adapted only to this model seesaw and this notebook). \n",
    "    \n",
    "    input\n",
    "    ---------\n",
    "        exp: must be a form factor taken from a diagram of OneLoopLFVHD.\n",
    "    \n",
    "    Return\n",
    "    ---------\n",
    "        OneLoopLFVHD expresion (sympy expression): The output is the resultant form factor simplified by\n",
    "        the GIM mechanism, Only return the term which contains mni. \n",
    "    '''\n",
    "    from sympy import Add\n",
    "    args = exp.expand().args\n",
    "    func = exp.expand().func\n",
    "    if isinstance(func,Add):\n",
    "        exp_GIM = Add(*[t for t in args if t.has(fermion_mass)]).simplify()\n",
    "    else:\n",
    "        exp_GIM = exp\n",
    "    return exp_GIM"
   ]
  },
  {
   "cell_type": "markdown",
   "metadata": {},
   "source": [
    "When we create our numeric functions from symblic form factors we will sum over the neutrino generations by the function `sumOne`"
   ]
  },
  {
   "cell_type": "code",
   "execution_count": 50,
   "metadata": {},
   "outputs": [],
   "source": [
    "def sumOne(m6,Aab,a,b): \n",
    "    '''\n",
    "    Function which sums over neutrino generation conidering the structure of Upmns matrix before calculated.\n",
    "    \n",
    "    Input\n",
    "    --------\n",
    "        m6 (float): the haviet mass\n",
    "        Aab: funtion asociated to form factor\n",
    "        a,b (int): indexes of leptons a,b=1,2 or 3\n",
    "        \n",
    "    Output\n",
    "    --------\n",
    "        out (float): numeric summation of the form factor over the 6 neutrino generations.\n",
    "    '''\n",
    "    mnk,UnuL,UnuR = diagonalizationMnu1(m1,m6)\n",
    "    Unu = UnuR\n",
    "    Unu_dagger = UnuL\n",
    "    FF = []\n",
    "    for k in range(1,7):\n",
    "        #A = Aab(mnk[k-1],Unu[b-1,k-1],conj(Unu[a-1,k-1]))\n",
    "        A = Aab(mnk[k-1],Unu[b-1,k-1],Unu_dagger[k-1,a-1])\n",
    "        #print('Ai = ',A)\n",
    "        FF.append(A)\n",
    "    out = mp.fsum(FF)\n",
    "    return out\n"
   ]
  },
  {
   "cell_type": "markdown",
   "metadata": {},
   "source": [
    "Now, we build a main function to convert the symbolic form factor to numeric functions. This function is given below"
   ]
  },
  {
   "cell_type": "code",
   "execution_count": 51,
   "metadata": {},
   "outputs": [],
   "source": [
    "from OneLoopLFVHD.data import replaceBs, pave_functions # Auxiliary functions"
   ]
  },
  {
   "cell_type": "code",
   "execution_count": 52,
   "metadata": {},
   "outputs": [],
   "source": [
    "# bubbleniG = Bubbles[1]\n",
    "# bubbleGni = Bubbles[3]\n",
    "# bubbleniW = Bubbles[0]\n",
    "# bubbleWni = Bubbles[2]\n",
    "def numeric_sum_diagramsOne(a,b,quirality='L'):\n",
    "    '''\n",
    "    This function create a function which only depends on m6 and represent the sum of all form factors\n",
    "    associated to diagrams with one fermion in the loop and also considering the 6 neutrino generations.\n",
    "    \n",
    "    Input\n",
    "    ---------\n",
    "        a,b (int): indexes of leptons, a,b = 1,2 or 3\n",
    "        quirality (string): represents the chirality of the diagrams, it can be L or R:\n",
    "        \n",
    "    Output:\n",
    "        sum_over_index_i (function): returns the function which represent the sum of all diagrams and \n",
    "        over the neutrino index i. This function only depends on m6.\n",
    "    '''\n",
    "    #[TrianglesOneFermion[0],TrianglesOneFermion[1],TrianglesOneFermion[2]],\n",
    "    #[bubbleniG,bubbleGni]\n",
    "    FFOneFer_list = []\n",
    "    for Set in [TrianglesOneFermion,Bubbles]:#TrianglesOneFermion,Bubbles\n",
    "        for dia in Set:\n",
    "            if quirality=='L':\n",
    "                x = dia.AL().subs(lfvhd.D,4).subs(lfvhd.B12_0(mW,mW),0).subs(cambios_hab(a,b)).subs(valores).subs(UnuOne)\n",
    "            elif quirality=='R':\n",
    "                x = dia.AR().subs(lfvhd.D,4).subs(lfvhd.B12_0(mW,mW),0).subs(cambios_hab(a,b)).subs(valores).subs(UnuOne)\n",
    "            else:\n",
    "                raise ValueError('quirality must be L or R')\n",
    "            f = lambdify([mni,Ubi,Ucai],# depends on three parameters\n",
    "                         replaceBs(x), # replace B function by auxiliary functions which do not has problembs in lambdify\n",
    "                         modules=[pave_functions(valores[mh],a,b,lib='mpmathDelta'),'mpmath']\n",
    "                        ) #numeric Form factor\n",
    "            #print(f(1,2,3))\n",
    "            #fsum = lambda m6:sumOne(m6,f,a,b)\n",
    "            FFOneFer_list.append(f)\n",
    "    def sum_over_index_i(m6):\n",
    "        out = []\n",
    "        xs = []\n",
    "        for FFab in FFOneFer_list:\n",
    "            FF_sum_over_i = sumOne(m6,FFab,a,b) # sum over neutrino generations\n",
    "            out.append(FF_sum_over_i)\n",
    "            xs.append(FF_sum_over_i)\n",
    "        return np.array(xs), mp.fsum(out)\n",
    "    return sum_over_index_i"
   ]
  },
  {
   "cell_type": "code",
   "execution_count": 53,
   "metadata": {},
   "outputs": [
    {
     "name": "stdout",
     "output_type": "stream",
     "text": [
      "-8.20236e-22\n"
     ]
    }
   ],
   "source": [
    "nprint(chop(numeric_sum_diagramsOne(3,1,quirality='R')(100)[1]))"
   ]
  },
  {
   "cell_type": "code",
   "execution_count": 54,
   "metadata": {},
   "outputs": [],
   "source": [
    "def ALOneTot23(m6):\n",
    "    return numeric_sum_diagramsOne(2,3,quirality='L')(m6)[0]\n",
    "def AROneTot23(m6):\n",
    "    return numeric_sum_diagramsOne(2,3,quirality='R')(m6)[0]\n",
    "\n",
    "def ALOneTot13(m6):\n",
    "    return numeric_sum_diagramsOne(1,3,quirality='L')(m6)[0]\n",
    "def AROneTot13(m6):\n",
    "    return numeric_sum_diagramsOne(1,3,quirality='R')(m6)[0]\n",
    "\n",
    "\n",
    "def ALOneTot12(m6):\n",
    "    return numeric_sum_diagramsOne(1,2,quirality='L')(m6)[0]\n",
    "def AROneTot12(m6):\n",
    "    return numeric_sum_diagramsOne(1,2,quirality='R')(m6)[0]\n"
   ]
  },
  {
   "cell_type": "markdown",
   "metadata": {},
   "source": [
    "Now to plot we choose the interval $m_{n_6} \\in [10^{-1},10^{15}]$"
   ]
  },
  {
   "cell_type": "code",
   "execution_count": 55,
   "metadata": {},
   "outputs": [],
   "source": [
    "n = 25\n",
    "expmp = linspace(-1,15,n)\n",
    "m6np = np.array([mpf('10.0')**k for k in expmp])#np.logspace(-1,15,n)"
   ]
  },
  {
   "cell_type": "markdown",
   "metadata": {},
   "source": [
    "Now, we evaluate our form factor numeric function in the chose interval. To do a faster evaluation we use `speedup_array` function"
   ]
  },
  {
   "cell_type": "code",
   "execution_count": 56,
   "metadata": {},
   "outputs": [
    {
     "name": "stdout",
     "output_type": "stream",
     "text": [
      "CPU times: user 787 ms, sys: 335 ms, total: 1.12 s\n",
      "Wall time: 7min\n"
     ]
    }
   ],
   "source": [
    "%%time\n",
    "YLOne23 = speedup_array(ALOneTot23,m6np)\n",
    "YROne23 = speedup_array(AROneTot23,m6np)\n",
    "\n",
    "YLOne13 = speedup_array(ALOneTot13,m6np)\n",
    "YROne13 = speedup_array(AROneTot13,m6np)\n",
    "\n",
    "YLOne12 = speedup_array(ALOneTot12,m6np)\n",
    "YROne12 = speedup_array(AROneTot12,m6np)\n"
   ]
  },
  {
   "cell_type": "code",
   "execution_count": 57,
   "metadata": {},
   "outputs": [],
   "source": [
    "diagramas_one = {\n",
    "    0:'niWW',1:'niWG',2:'niGW',3:'niGG',\n",
    "    4:'niW',5:'niG',6:'Wni',7:'Gni'}"
   ]
  },
  {
   "cell_type": "code",
   "execution_count": 58,
   "metadata": {},
   "outputs": [
    {
     "data": {
      "image/png": "[encoded data removed]",
      "text/latex": [
       "$\\displaystyle \\left( 25, \\  8\\right)$"
      ],
      "text/plain": [
       "(25, 8)"
      ]
     },
     "execution_count": 58,
     "metadata": {},
     "output_type": "execute_result"
    }
   ],
   "source": [
    "YLOne23.shape"
   ]
  },
  {
   "cell_type": "markdown",
   "metadata": {},
   "source": [
    "Finalli we can plot the behavior of the sum of form factor for diagrams with one fermion."
   ]
  },
  {
   "cell_type": "code",
   "execution_count": 59,
   "metadata": {},
   "outputs": [
    {
     "data": {
      "text/plain": [
       "<matplotlib.legend.Legend at 0x7efc7451e090>"
      ]
     },
     "execution_count": 59,
     "metadata": {},
     "output_type": "execute_result"
    },
    {
     "data": {
      "image/png": "[encoded data removed]",
      "text/plain": [
       "<Figure size 1080x576 with 1 Axes>"
      ]
     },
     "metadata": {
      "needs_background": "light"
     },
     "output_type": "display_data"
    }
   ],
   "source": [
    "plt.figure(figsize=(15,8))\n",
    "for dia in diagramas_one:\n",
    "    plt.loglog(np.real(m6np),abs(YLOne23[:,dia])**2,'-',\n",
    "    label=f'$A_L({diagramas_one[dia]})(2,3)$')\n",
    "\n",
    "plt.xticks(fontsize=15)\n",
    "plt.yticks(fontsize=15)\n",
    "\n",
    "plt.legend(fontsize=15)"
   ]
  },
  {
   "cell_type": "markdown",
   "metadata": {},
   "source": [
    "## Form factor with two fermion in the loop."
   ]
  },
  {
   "cell_type": "markdown",
   "metadata": {},
   "source": [
    "In this case we only have 2 diagrams stored in `TrianglesTwoFermion` list. In this case we have two neutrino indexes $i$ and $j$.Then, we have a doble summatory in this case.  First we do an auxiliar simbolic substitutions related to the following code"
   ]
  },
  {
   "cell_type": "code",
   "execution_count": 60,
   "metadata": {},
   "outputs": [
    {
     "data": {
      "image/png": "[encoded data removed]",
      "text/latex": [
       "$\\displaystyle \\left\\{ {C}_{i,j} : C_{ij}, \\  {{{C^*}}}_{i,j} : {{C_{ij}^*}}, \\  {{{U^\\nu}}}_{b,j} : U_{bj}, \\  {{{U^{\\nu *}}}}_{a,i} : {{U_{ai}^*}}, \\  {{{m_n}}}_{i} : m_{n_i}, \\  {{{m_n}}}_{j} : m_{n_j}\\right\\}$"
      ],
      "text/plain": [
       "{C[i, j]: C_{ij}, {{C^*}}[i, j]: {{C_{ij}__*}}, {{U^\\nu}}[b, j]: U_{bj}, {{U^{\n",
       "\\nu *}}}[a, i]: {{U_{ai}__*}}, {{m_n}}[i]: m_{n_i}, {{m_n}}[j]: m_{n_j}}"
      ]
     },
     "execution_count": 60,
     "metadata": {},
     "output_type": "execute_result"
    }
   ],
   "source": [
    "mnj = symbols('m_{n_j}',positive=True)\n",
    "Cijs, Cijcs, Ubj = symbols('C_{ij}, {{C_{ij}^*}},U_{bj}')\n",
    "UnuTwo = {mn[i]:mni,mn[jj]:mnj,C[i,jj]:Cijs, Cc[i,jj]:Cijcs, Uv[b,jj]:Ubj, Uvc[a,i]:Ucai}\n",
    "UnuTwo"
   ]
  },
  {
   "cell_type": "code",
   "execution_count": 61,
   "metadata": {},
   "outputs": [],
   "source": [
    "fsL = lambda k,a,b:TrianglesTwoFermion[k].AL().subs(lfvhd.D,4).subs(cambios_hab(a,b)).subs(valores).subs(UnuTwo)\n",
    "fsR = lambda k,a,b:TrianglesTwoFermion[k].AR().subs(lfvhd.D,4).subs(cambios_hab(a,b)).subs(valores).subs(UnuTwo)"
   ]
  },
  {
   "cell_type": "code",
   "execution_count": 62,
   "metadata": {},
   "outputs": [
    {
     "data": {
      "image/png": "[encoded data removed]",
      "text/latex": [
       "$\\displaystyle \\frac{g^{3} m_{i} \\left(m_{W}^{2} \\left({C}_{i,j} {{{m_n}}}_{j} + {{{C^*}}}_{i,j} {{{m_n}}}_{i}\\right) \\operatorname{C_{0}}{\\left(m_{W},{{{m_n}}}_{i},{{{m_n}}}_{j} \\right)} {{{m_n}}}_{j} - m_{i}^{2} \\operatorname{C_{1}}{\\left(m_{W},{{{m_n}}}_{i},{{{m_n}}}_{j} \\right)} {C}_{i,j} {{{m_n}}}_{j}^{2} - m_{i}^{2} \\operatorname{C_{1}}{\\left(m_{W},{{{m_n}}}_{i},{{{m_n}}}_{j} \\right)} {{{C^*}}}_{i,j} {{{m_n}}}_{i} {{{m_n}}}_{j} - m_{j}^{2} \\operatorname{C_{1}}{\\left(m_{W},{{{m_n}}}_{i},{{{m_n}}}_{j} \\right)} {C}_{i,j} {{{m_n}}}_{i}^{2} - m_{j}^{2} \\operatorname{C_{1}}{\\left(m_{W},{{{m_n}}}_{i},{{{m_n}}}_{j} \\right)} {{{C^*}}}_{i,j} {{{m_n}}}_{i} {{{m_n}}}_{j} + 2 \\operatorname{C_{1}}{\\left(m_{W},{{{m_n}}}_{i},{{{m_n}}}_{j} \\right)} {C}_{i,j} {{{m_n}}}_{i}^{2} {{{m_n}}}_{j}^{2} + \\operatorname{C_{1}}{\\left(m_{W},{{{m_n}}}_{i},{{{m_n}}}_{j} \\right)} {{{C^*}}}_{i,j} {{{m_n}}}_{i}^{3} {{{m_n}}}_{j} + \\operatorname{C_{1}}{\\left(m_{W},{{{m_n}}}_{i},{{{m_n}}}_{j} \\right)} {{{C^*}}}_{i,j} {{{m_n}}}_{i} {{{m_n}}}_{j}^{3} + \\operatorname{{{B^{(12)}_{0}}}}{\\left({{{m_n}}}_{i},{{{m_n}}}_{j} \\right)} {C}_{i,j} {{{m_n}}}_{j}^{2} + \\operatorname{{{B^{(12)}_{0}}}}{\\left({{{m_n}}}_{i},{{{m_n}}}_{j} \\right)} {{{C^*}}}_{i,j} {{{m_n}}}_{i} {{{m_n}}}_{j}\\right) {{{U^\\nu}}}_{b,j} {{{U^{\\nu *}}}}_{a,i}}{64 \\pi^{2} m_{W}^{3}}$"
      ],
      "text/plain": [
       " 3    ⎛   2                                                                   \n",
       "g ⋅mᵢ⋅⎝m_W ⋅(C[i, j]⋅{{m_n}}[j] + {{C^*}}[i, j]⋅{{m_n}}[i])⋅C₀(m_W, {{m_n}}[i]\n",
       "──────────────────────────────────────────────────────────────────────────────\n",
       "                                                                              \n",
       "                                                                              \n",
       "\n",
       "                             2                                                \n",
       ", {{m_n}}[j])⋅{{m_n}}[j] - mᵢ ⋅C₁(m_W, {{m_n}}[i], {{m_n}}[j])⋅C[i, j]⋅{{m_n}}\n",
       "──────────────────────────────────────────────────────────────────────────────\n",
       "                                                                              \n",
       "                                                                              \n",
       "\n",
       "   2     2                                                                    \n",
       "[j]  - mᵢ ⋅C₁(m_W, {{m_n}}[i], {{m_n}}[j])⋅{{C^*}}[i, j]⋅{{m_n}}[i]⋅{{m_n}}[j]\n",
       "──────────────────────────────────────────────────────────────────────────────\n",
       "                                                                              \n",
       "                                                                              \n",
       "\n",
       "      2                                                   2      2            \n",
       " - m_j ⋅C₁(m_W, {{m_n}}[i], {{m_n}}[j])⋅C[i, j]⋅{{m_n}}[i]  - m_j ⋅C₁(m_W, {{m\n",
       "──────────────────────────────────────────────────────────────────────────────\n",
       "                                                                              \n",
       "                                                                              \n",
       "\n",
       "                                                                              \n",
       "_n}}[i], {{m_n}}[j])⋅{{C^*}}[i, j]⋅{{m_n}}[i]⋅{{m_n}}[j] + 2⋅C₁(m_W, {{m_n}}[i\n",
       "──────────────────────────────────────────────────────────────────────────────\n",
       "                                                                   2    3     \n",
       "                                                               64⋅π ⋅m_W      \n",
       "\n",
       "                                 2           2                                \n",
       "], {{m_n}}[j])⋅C[i, j]⋅{{m_n}}[i] ⋅{{m_n}}[j]  + C₁(m_W, {{m_n}}[i], {{m_n}}[j\n",
       "──────────────────────────────────────────────────────────────────────────────\n",
       "                                                                              \n",
       "                                                                              \n",
       "\n",
       "                           3                                                  \n",
       "])⋅{{C^*}}[i, j]⋅{{m_n}}[i] ⋅{{m_n}}[j] + C₁(m_W, {{m_n}}[i], {{m_n}}[j])⋅{{C^\n",
       "──────────────────────────────────────────────────────────────────────────────\n",
       "                                                                              \n",
       "                                                                              \n",
       "\n",
       "                               3                                              \n",
       "*}}[i, j]⋅{{m_n}}[i]⋅{{m_n}}[j]  + {{B_{0}}}__{(12)}({{m_n}}[i], {{m_n}}[j])⋅C\n",
       "──────────────────────────────────────────────────────────────────────────────\n",
       "                                                                              \n",
       "                                                                              \n",
       "\n",
       "                 2                                                            \n",
       "[i, j]⋅{{m_n}}[j]  + {{B_{0}}}__{(12)}({{m_n}}[i], {{m_n}}[j])⋅{{C^*}}[i, j]⋅{\n",
       "──────────────────────────────────────────────────────────────────────────────\n",
       "                                                                              \n",
       "                                                                              \n",
       "\n",
       "                    ⎞                                    \n",
       "{m_n}}[i]⋅{{m_n}}[j]⎠⋅{{U^\\nu}}[b, j]⋅{{U^{\\nu *}}}[a, i]\n",
       "─────────────────────────────────────────────────────────\n",
       "                                                         \n",
       "                                                         "
      ]
     },
     "execution_count": 62,
     "metadata": {},
     "output_type": "execute_result"
    }
   ],
   "source": [
    "TrianglesTwoFermion[0].AL().expand().simplify()"
   ]
  },
  {
   "cell_type": "code",
   "execution_count": 63,
   "metadata": {},
   "outputs": [
    {
     "data": {
      "image/png": "[encoded data removed]",
      "text/latex": [
       "$\\displaystyle \\frac{g^{3} m_{i} \\left(- D \\operatorname{C_{0}}{\\left(m_{W},{{{m_n}}}_{i},{{{m_n}}}_{j} \\right)} {C}_{i,j} {{{m_n}}}_{j}^{2} - D \\operatorname{C_{0}}{\\left(m_{W},{{{m_n}}}_{i},{{{m_n}}}_{j} \\right)} {{{C^*}}}_{i,j} {{{m_n}}}_{i} {{{m_n}}}_{j} + D \\operatorname{C_{1}}{\\left(m_{W},{{{m_n}}}_{i},{{{m_n}}}_{j} \\right)} {C}_{i,j} {{{m_n}}}_{i}^{2} + D \\operatorname{C_{1}}{\\left(m_{W},{{{m_n}}}_{i},{{{m_n}}}_{j} \\right)} {C}_{i,j} {{{m_n}}}_{j}^{2} + 2 D \\operatorname{C_{1}}{\\left(m_{W},{{{m_n}}}_{i},{{{m_n}}}_{j} \\right)} {{{C^*}}}_{i,j} {{{m_n}}}_{i} {{{m_n}}}_{j} + 2 \\operatorname{C_{0}}{\\left(m_{W},{{{m_n}}}_{i},{{{m_n}}}_{j} \\right)} {C}_{i,j} {{{m_n}}}_{j}^{2} + 2 \\operatorname{C_{0}}{\\left(m_{W},{{{m_n}}}_{i},{{{m_n}}}_{j} \\right)} {{{C^*}}}_{i,j} {{{m_n}}}_{i} {{{m_n}}}_{j} - 2 \\operatorname{C_{1}}{\\left(m_{W},{{{m_n}}}_{i},{{{m_n}}}_{j} \\right)} {C}_{i,j} {{{m_n}}}_{i}^{2} - 2 \\operatorname{C_{1}}{\\left(m_{W},{{{m_n}}}_{i},{{{m_n}}}_{j} \\right)} {C}_{i,j} {{{m_n}}}_{j}^{2} - 4 \\operatorname{C_{1}}{\\left(m_{W},{{{m_n}}}_{i},{{{m_n}}}_{j} \\right)} {{{C^*}}}_{i,j} {{{m_n}}}_{i} {{{m_n}}}_{j}\\right) {{{U^\\nu}}}_{b,j} {{{U^{\\nu *}}}}_{a,i}}{64 \\pi^{2} m_{W}}$"
      ],
      "text/plain": [
       " 3    ⎛                                                      2                \n",
       "g ⋅mᵢ⋅⎝- D⋅C₀(m_W, {{m_n}}[i], {{m_n}}[j])⋅C[i, j]⋅{{m_n}}[j]  - D⋅C₀(m_W, {{m\n",
       "──────────────────────────────────────────────────────────────────────────────\n",
       "                                                                              \n",
       "                                                                              \n",
       "\n",
       "                                                                              \n",
       "_n}}[i], {{m_n}}[j])⋅{{C^*}}[i, j]⋅{{m_n}}[i]⋅{{m_n}}[j] + D⋅C₁(m_W, {{m_n}}[i\n",
       "──────────────────────────────────────────────────────────────────────────────\n",
       "                                                                              \n",
       "                                                                              \n",
       "\n",
       "                                 2                                            \n",
       "], {{m_n}}[j])⋅C[i, j]⋅{{m_n}}[i]  + D⋅C₁(m_W, {{m_n}}[i], {{m_n}}[j])⋅C[i, j]\n",
       "──────────────────────────────────────────────────────────────────────────────\n",
       "                                                                              \n",
       "                                                                              \n",
       "\n",
       "           2                                                                  \n",
       "⋅{{m_n}}[j]  + 2⋅D⋅C₁(m_W, {{m_n}}[i], {{m_n}}[j])⋅{{C^*}}[i, j]⋅{{m_n}}[i]⋅{{\n",
       "──────────────────────────────────────────────────────────────────────────────\n",
       "                                                                              \n",
       "                                                                              \n",
       "\n",
       "                                                               2              \n",
       "m_n}}[j] + 2⋅C₀(m_W, {{m_n}}[i], {{m_n}}[j])⋅C[i, j]⋅{{m_n}}[j]  + 2⋅C₀(m_W, {\n",
       "──────────────────────────────────────────────────────────────────────────────\n",
       "                      2                                                       \n",
       "                  64⋅π ⋅m_W                                                   \n",
       "\n",
       "                                                                              \n",
       "{m_n}}[i], {{m_n}}[j])⋅{{C^*}}[i, j]⋅{{m_n}}[i]⋅{{m_n}}[j] - 2⋅C₁(m_W, {{m_n}}\n",
       "──────────────────────────────────────────────────────────────────────────────\n",
       "                                                                              \n",
       "                                                                              \n",
       "\n",
       "                                   2                                          \n",
       "[i], {{m_n}}[j])⋅C[i, j]⋅{{m_n}}[i]  - 2⋅C₁(m_W, {{m_n}}[i], {{m_n}}[j])⋅C[i, \n",
       "──────────────────────────────────────────────────────────────────────────────\n",
       "                                                                              \n",
       "                                                                              \n",
       "\n",
       "             2                                                                \n",
       "j]⋅{{m_n}}[j]  - 4⋅C₁(m_W, {{m_n}}[i], {{m_n}}[j])⋅{{C^*}}[i, j]⋅{{m_n}}[i]⋅{{\n",
       "──────────────────────────────────────────────────────────────────────────────\n",
       "                                                                              \n",
       "                                                                              \n",
       "\n",
       "        ⎞                                    \n",
       "m_n}}[j]⎠⋅{{U^\\nu}}[b, j]⋅{{U^{\\nu *}}}[a, i]\n",
       "─────────────────────────────────────────────\n",
       "                                             \n",
       "                                             "
      ]
     },
     "execution_count": 63,
     "metadata": {},
     "output_type": "execute_result"
    }
   ],
   "source": [
    "TrianglesTwoFermion[1].AL().expand().simplify()"
   ]
  },
  {
   "cell_type": "code",
   "execution_count": 64,
   "metadata": {},
   "outputs": [],
   "source": [
    "fL = lambda k,a,b:lambdify([mni,mnj,Ubj,Ucai,Cijs,Cijcs],replaceBs(fsL(k,a,b)),\n",
    "                     modules=[pave_functions(valores[mh],a,b,lib='mpmathDelta'),'mpmath'] )\n",
    "fR = lambda k,a,b:lambdify([mni,mnj,Ubj,Ucai,Cijs,Cijcs],replaceBs(fsR(k,a,b)),\n",
    "                     modules=[pave_functions(valores[mh],a,b,lib='mpmathDelta'),'mpmath'] )"
   ]
  },
  {
   "cell_type": "code",
   "execution_count": 65,
   "metadata": {},
   "outputs": [
    {
     "data": {
      "text/plain": [
       "(-0.00000077000258759287517829725437077123914324358016922936758332625737108248246252120227194082218831167799134800462740629078393 + 0.000000462092519188019980639018875718193596730334899107338999454714371346492507741300999645185279533568451530432634726451045072j)"
      ]
     },
     "execution_count": 65,
     "metadata": {},
     "output_type": "execute_result"
    }
   ],
   "source": [
    "fL(0,2,3)(1,2,3,4,5,6)"
   ]
  },
  {
   "cell_type": "code",
   "execution_count": 66,
   "metadata": {},
   "outputs": [
    {
     "data": {
      "text/plain": [
       "(0.0000000612161778033573405870797961189152753352949576163605958389615275937832293749646333904565815973394057466498399557595276367 - 0.000000895410710908271482476653077144275515199602413352368993446775372004008469345103042039276144794778023402004833519479413941j)"
      ]
     },
     "execution_count": 66,
     "metadata": {},
     "output_type": "execute_result"
    }
   ],
   "source": [
    "fL(1,2,3)(1,2,3,4,5,6)"
   ]
  },
  {
   "cell_type": "markdown",
   "metadata": {},
   "source": [
    "Now, we do a function to do the doble summatory on the neutrino generetions"
   ]
  },
  {
   "cell_type": "code",
   "execution_count": 67,
   "metadata": {},
   "outputs": [],
   "source": [
    "def sumatwo(mm6,k,a,b,quirality='L'):\n",
    "    xs = []\n",
    "    if quirality=='L':\n",
    "        g = fL(k,a,b)\n",
    "    elif quirality=='R':\n",
    "        g = fR(k,a,b)\n",
    "    else:\n",
    "        raise ValueError('quirality must be L or R')\n",
    "        \n",
    "    mnk,UnuL,UnuR = diagonalizationMnu1(m1,mm6)\n",
    "    Unu = UnuR\n",
    "    Unu_dagger = UnuL\n",
    "    #Cij = lambda i,j: mp.fsum([Unu[c,i]*conj(Unu[c,j]) for c in range(3)])\n",
    "    Cij = lambda i,j: mp.fsum([Unu[c,i]*Unu_dagger[j,c] for c in range(3)])\n",
    "    for p in range(1,7):\n",
    "        for q in range(1,7):\n",
    "            #if (p in [1,2,3] and q in [4,5,6]) or (p in [4,5,6] and q in [1,2,3]):\n",
    "            x = g(mnk[p-1],mnk[q-1],Unu[b-1,q-1],Unu_dagger[p-1,a-1],\n",
    "            Cij(p-1,q-1),conj(Cij(p-1,q-1)))\n",
    "            xs.append(x)\n",
    "    return mp.fsum(xs)"
   ]
  },
  {
   "cell_type": "markdown",
   "metadata": {},
   "source": [
    "Then the total contribution of the diagrams with two fermions in the loop is given by"
   ]
  },
  {
   "cell_type": "code",
   "execution_count": 68,
   "metadata": {},
   "outputs": [],
   "source": [
    "def totaltwo(m6,a,b,quirality='L'):\n",
    "    return np.array([sumatwo(m6,0,a,b,quirality),sumatwo(m6,1,a,b,quirality)])"
   ]
  },
  {
   "cell_type": "code",
   "execution_count": 69,
   "metadata": {},
   "outputs": [],
   "source": [
    "def ALTwoTot23(m6):\n",
    "    return totaltwo(m6,2,3,'L')\n",
    "def ARTwoTot23(m6):\n",
    "    return totaltwo(m6,2,3,'R')\n",
    "\n",
    "\n",
    "def ALTwoTot13(m6):\n",
    "    return totaltwo(m6,1,3,'L')\n",
    "def ARTwoTot13(m6):\n",
    "    return totaltwo(m6,1,3,'R')\n",
    "\n",
    "\n",
    "def ALTwoTot12(m6):\n",
    "    return totaltwo(m6,1,2,'L')\n",
    "def ARTwoTot12(m6):\n",
    "    return totaltwo(m6,1,2,'R')\n"
   ]
  },
  {
   "cell_type": "code",
   "execution_count": 70,
   "metadata": {},
   "outputs": [
    {
     "data": {
      "text/plain": [
       "array([0.0000465446685221848238439538614620191784746116335606382614291233658354842415304599982237628039807094734467879850231751071349,\n",
       "       0.000000000000483641260802103339599291170409645873521306601893265519369782942394694955470584218700016145912833736429601152750894102801],\n",
       "      dtype=object)"
      ]
     },
     "execution_count": 70,
     "metadata": {},
     "output_type": "execute_result"
    }
   ],
   "source": [
    "abs(ALTwoTot23(m6np[-1]))"
   ]
  },
  {
   "cell_type": "code",
   "execution_count": 71,
   "metadata": {},
   "outputs": [],
   "source": [
    "%%time\n",
    "YLTwo23 = speedup_array(ALTwoTot23,m6np)\n",
    "YRTwo23 = speedup_array(ARTwoTot23,m6np)\n",
    "\n",
    "YLTwo13 = speedup_array(ALTwoTot13,m6np)\n",
    "YRTwo13 = speedup_array(ARTwoTot13,m6np)\n",
    "\n",
    "YLTwo12 = speedup_array(ALTwoTot12,m6np)\n",
    "YRTwo12 = speedup_array(ARTwoTot12,m6np)"
   ]
  },
  {
   "cell_type": "code",
   "execution_count": null,
   "metadata": {},
   "outputs": [],
   "source": [
    "diagramas_two = {0:'Gninj',1:'Wninj'}"
   ]
  },
  {
   "cell_type": "markdown",
   "metadata": {},
   "source": [
    "## Total Form Factors"
   ]
  },
  {
   "cell_type": "code",
   "execution_count": null,
   "metadata": {},
   "outputs": [],
   "source": [
    "import pandas as pd"
   ]
  },
  {
   "cell_type": "code",
   "execution_count": null,
   "metadata": {},
   "outputs": [],
   "source": [
    "def FF_frame(Yone,Ytwo):\n",
    "    A_dict = {}\n",
    "    A_dict['m6'] = m6np\n",
    "    for dia_one in diagramas_one:\n",
    "        A_dict[diagramas_one[dia_one]] = Yone[:,dia_one]\n",
    "    for dia_two in diagramas_two:\n",
    "        A_dict[diagramas_two[dia_two]] = Ytwo[:,dia_two]\n",
    "    return pd.DataFrame(A_dict)\n",
    "\n",
    "FF_frame23L = FF_frame(YLOne23,YLTwo23)\n",
    "FF_frame23R = FF_frame(YROne23,YRTwo23)\n",
    "\n",
    "FF_frame13L = FF_frame(YLOne13,YLTwo13)\n",
    "FF_frame13R = FF_frame(YROne13,YRTwo13)\n",
    "\n",
    "FF_frame12L = FF_frame(YLOne12,YLTwo12)\n",
    "FF_frame12R = FF_frame(YROne12,YRTwo12)"
   ]
  },
  {
   "cell_type": "code",
   "execution_count": null,
   "metadata": {},
   "outputs": [],
   "source": [
    "# def FF_frame(Ytwo):\n",
    "#     A_dict = {}\n",
    "#     A_dict['m6'] = m6np\n",
    "#     for dia_two in diagramas_two:\n",
    "#         A_dict[diagramas_two[dia_two]] = Ytwo[:,dia_two]\n",
    "#     return pd.DataFrame(A_dict)\n",
    "\n",
    "# FF_frame23L = FF_frame(YLTwo23)\n",
    "# FF_frame23R = FF_frame(YRTwo23)\n",
    "\n",
    "# FF_frame13L = FF_frame(YLTwo13)\n",
    "# FF_frame13R = FF_frame(YRTwo13)\n",
    "\n",
    "# FF_frame12L = FF_frame(YLTwo12)\n",
    "# FF_frame12R = FF_frame(YRTwo12)"
   ]
  },
  {
   "cell_type": "code",
   "execution_count": null,
   "metadata": {},
   "outputs": [],
   "source": [
    "#FF_frame23L"
   ]
  },
  {
   "cell_type": "code",
   "execution_count": null,
   "metadata": {},
   "outputs": [],
   "source": [
    "FF_frame23L.to_csv('data_frames/FF_frame_23L_Delta.txt',sep='\\t',index=None)\n",
    "FF_frame23R.to_csv('data_frames/FF_frame_23R_Delta.txt',sep='\\t',index=None)\n",
    "\n",
    "FF_frame13L.to_csv('data_frames/FF_frame_13L_Delta.txt',sep='\\t',index=None)\n",
    "FF_frame13R.to_csv('data_frames/FF_frame_13R_Delta.txt',sep='\\t',index=None)\n",
    "\n",
    "FF_frame12L.to_csv('data_frames/FF_frame_12L_Delta.txt',sep='\\t',index=None)\n",
    "FF_frame12R.to_csv('data_frames/FF_frame_12R_Delta.txt',sep='\\t',index=None)"
   ]
  },
  {
   "cell_type": "code",
   "execution_count": null,
   "metadata": {},
   "outputs": [],
   "source": []
  }
 ],
 "metadata": {
  "interpreter": {
   "hash": "b921add2b647b46a0162d3f3de9ecdc25418a02eed44d89fb52e720252ea5280"
  },
  "kernelspec": {
   "display_name": "Python 3.7.6 ('base')",
   "language": "python",
   "name": "python3"
  },
  "language_info": {
   "codemirror_mode": {
    "name": "ipython",
    "version": 3
   },
   "file_extension": ".py",
   "mimetype": "text/x-python",
   "name": "python",
   "nbconvert_exporter": "python",
   "pygments_lexer": "ipython3",
   "version": "3.7.6"
  },
  "toc-autonumbering": true
 },
 "nbformat": 4,
 "nbformat_minor": 4
}
