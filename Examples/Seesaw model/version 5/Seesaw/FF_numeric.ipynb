{
 "cells": [
  {
   "cell_type": "markdown",
   "metadata": {},
   "source": [
    "# LFV Higgs decays in SeeSaw model (Numeric approach)"
   ]
  },
  {
   "cell_type": "markdown",
   "metadata": {},
   "source": [
    "As we have showed in the symbolic form factors notebook [FF_symbolic.ipynb](FF_symbolic.ipynb), 10 diagrams contributes to LFVHD in the seesaw model. The form factors associated to these diagrams have been calculated and we have shown that the divergencies cancel correctly. All of the diagrams are summarized by convenience in the symbolic form factors script [seesaw_FF.py](seesaw_FF.py). However, all of this calculations are based in the simbolic library sympy, now we need to transform the expressions of the form factors to numeric funtions to be evaluated. In order to do that, we import all diagrams from [seesaw_FF.py](seesaw_FF.py) and the usefull functions for libraries like sympy, mpmath, matplotlib, multiprocessing and finally all library OneLoopLFVHD."
   ]
  },
  {
   "cell_type": "code",
   "execution_count": 5,
   "metadata": {},
   "outputs": [],
   "source": [
    "from sympy import init_printing, Symbol,lambdify, symbols, Matrix\n",
    "init_printing()\n",
    "import OneLoopLFVHD as lfvhd"
   ]
  },
  {
   "cell_type": "code",
   "execution_count": 6,
   "metadata": {},
   "outputs": [],
   "source": [
    "from seesaw_FF import TrianglesOneFermion, TrianglesTwoFermion, Bubbles,DiagramsOneFermionW, DiagramsOneFermionG\n",
    "from seesaw_FF import g, mW, Uv, Uvc, mn, m, C, Cc, a,b,i,h\n",
    "from seesaw_FF import j as jj"
   ]
  },
  {
   "cell_type": "code",
   "execution_count": 7,
   "metadata": {},
   "outputs": [],
   "source": [
    "import matplotlib.pyplot as plt\n",
    "%matplotlib inline"
   ]
  },
  {
   "cell_type": "code",
   "execution_count": 8,
   "metadata": {},
   "outputs": [],
   "source": [
    "from mpmath import *"
   ]
  },
  {
   "cell_type": "code",
   "execution_count": 9,
   "metadata": {},
   "outputs": [],
   "source": [
    "mp.dps = 80; mp.pretty = True"
   ]
  },
  {
   "cell_type": "code",
   "execution_count": 10,
   "metadata": {},
   "outputs": [],
   "source": [
    "import numpy as np"
   ]
  },
  {
   "cell_type": "code",
   "execution_count": 11,
   "metadata": {},
   "outputs": [],
   "source": [
    "#import subprocess as s"
   ]
  },
  {
   "cell_type": "code",
   "execution_count": 12,
   "metadata": {},
   "outputs": [],
   "source": [
    "from multiprocessing import Pool\n",
    "#from time import time"
   ]
  },
  {
   "cell_type": "code",
   "execution_count": 13,
   "metadata": {},
   "outputs": [],
   "source": [
    "def speedup_array(f,array,procs=4): \n",
    "    pool = Pool(procs,maxtasksperchild=100).map(f, array)\n",
    "    result = np.array(list(pool))\n",
    "    return result"
   ]
  },
  {
   "cell_type": "markdown",
   "metadata": {},
   "source": [
    "## Neutrino oscillation and lepton data"
   ]
  },
  {
   "cell_type": "markdown",
   "metadata": {},
   "source": [
    "Neutrino benchmark is given by "
   ]
  },
  {
   "cell_type": "code",
   "execution_count": 14,
   "metadata": {},
   "outputs": [],
   "source": [
    "from OneLoopLFVHD.neutrinos import NuOscObservables\n",
    "Nudata = NuOscObservables"
   ]
  },
  {
   "cell_type": "code",
   "execution_count": 15,
   "metadata": {},
   "outputs": [],
   "source": [
    "m1 = mpf('1e-12')  #GeV \n",
    "\n",
    "#current values to Square mass differences\n",
    "d21 = mpf(str(Nudata.squareDm21.central))*mpf('1e-18')# factor to convert eV^2 to GeV^2\n",
    "d31 = mpf(str(Nudata.squareDm31.central))*mpf('1e-18')\n",
    "\n",
    "#d21 = 7.5e-5*1e-18\n",
    "#d31 = 2.457e-3*1e-18\n",
    "m2 = sqrt(m1**2 + d21)\n",
    "m3 = sqrt(m1**2 + d31)\n",
    "\n",
    "m4 = lambda m6: m6/3\n",
    "m5 = lambda m6: m6/2"
   ]
  },
  {
   "cell_type": "markdown",
   "metadata": {},
   "source": [
    "We calls from [Unu_seesaw.py](Unu_seesaw.py) the `diagonalizationMnu` function previously created to perform numerically the diagonalization of $6 \\times 6$ mass matrix. Here we choose which scenary for heavy neutrino we consider."
   ]
  },
  {
   "cell_type": "code",
   "execution_count": 49,
   "metadata": {},
   "outputs": [],
   "source": [
    "from Unu_seesaw import diagonalizationMnu #as diagonalizationMnu\n",
    "from Unu_seesaw import Mnu\n",
    "\n",
    "# diagonalizationMnu1 = lambda m1,m6: diagonalizationMnu(\n",
    "#     m1,m2,m3,m6/mpf('3.0'),m6/mpf('2.0'),m6)\n",
    "\n",
    "diagonalizationMnu1 = lambda m1,m6: diagonalizationMnu(\n",
    "   m1,m2,m3,m6,m6,m6)"
   ]
  },
  {
   "cell_type": "code",
   "execution_count": 50,
   "metadata": {},
   "outputs": [
    {
     "name": "stdout",
     "output_type": "stream",
     "text": [
      "[(1.0e-12 + 0.0j), (8.65448e-12 + 0.0j), (5.02394e-11 + 0.0j), (1.0e+15 + 0.0j), (1.0e+15 + 0.0j), (1.0e+15 + 0.0j)]\n"
     ]
    }
   ],
   "source": [
    "mnk, UL,UR = diagonalizationMnu1(m1,mp.mpf('1e15'))#0.003908\n",
    "mp.nprint(mnk)"
   ]
  },
  {
   "cell_type": "markdown",
   "metadata": {},
   "source": [
    "We introduce the values to $g$, $m_W$, $m_h$ and leptons masses, which will be susbtitute in the simbolic expressions."
   ]
  },
  {
   "cell_type": "code",
   "execution_count": 51,
   "metadata": {},
   "outputs": [],
   "source": [
    "from OneLoopLFVHD.data import ml"
   ]
  },
  {
   "cell_type": "code",
   "execution_count": 52,
   "metadata": {},
   "outputs": [],
   "source": [
    "mh,ma,mb = symbols('m_h,m_a,m_b',real=True)\n",
    "valores ={mW:mpf('80.379'),mh:mpf('125.10'),g:(2*mpf('80.379'))/mpf('246')}\n",
    "\n",
    "cambios_hab = lambda a,b:{lfvhd.ma:valores[mh],lfvhd.mi:ml[a],lfvhd.mj:ml[b]}"
   ]
  },
  {
   "cell_type": "markdown",
   "metadata": {},
   "source": [
    "## Diagrams with one fermion in the loop."
   ]
  },
  {
   "cell_type": "markdown",
   "metadata": {},
   "source": [
    "In the case of diagram with only one neutrino in the loop which are labeled by the index $i$. the diagrams are 8 which are stored in `TrianglesOneFermion` and `Bubbles` lists.To other side, we need to consider a summatory of 6 neutrino generation and the GIM mechanism. First we do a auxiliar simbolic substitutions related to the following code."
   ]
  },
  {
   "cell_type": "code",
   "execution_count": 53,
   "metadata": {},
   "outputs": [],
   "source": [
    "Ubi, Ucai,mni = symbols('U_{bi}, {{U_{ai}^*}},m_{n_i}')\n",
    "UnuOne = {mn[i]:mni,Uv[b,i]:Ubi,Uvc[a,i]:Ucai}"
   ]
  },
  {
   "cell_type": "markdown",
   "metadata": {},
   "source": [
    "A simple implementation to the GIM mechanism to any simbolic form factor"
   ]
  },
  {
   "cell_type": "code",
   "execution_count": 54,
   "metadata": {},
   "outputs": [],
   "source": [
    "def GIM_One(exp, fermion_mass):\n",
    "    '''\n",
    "    Function to apply the GIM mechanism in the form factors from diagrams with one neutrino in the loop \n",
    "    (This function is adapted only to this model seesaw and this notebook). \n",
    "    \n",
    "    input\n",
    "    ---------\n",
    "        exp: must be a form factor taken from a diagram of OneLoopLFVHD.\n",
    "    \n",
    "    Return\n",
    "    ---------\n",
    "        OneLoopLFVHD expresion (sympy expression): The output is the resultant form factor simplified by\n",
    "        the GIM mechanism, Only return the term which contains mni. \n",
    "    '''\n",
    "    from sympy import Add\n",
    "    args = exp.expand().args\n",
    "    func = exp.expand().func\n",
    "    if isinstance(func,Add):\n",
    "        exp_GIM = Add(*[t for t in args if t.has(fermion_mass)]).simplify()\n",
    "    else:\n",
    "        exp_GIM = exp\n",
    "    return exp_GIM"
   ]
  },
  {
   "cell_type": "markdown",
   "metadata": {},
   "source": [
    "When we create our numeric functions from symblic form factors we will sum over the neutrino generations by the function `sumOne`"
   ]
  },
  {
   "cell_type": "code",
   "execution_count": 55,
   "metadata": {},
   "outputs": [],
   "source": [
    "def sumOne(m6,Aab,a,b): \n",
    "    '''\n",
    "    Function which sums over neutrino generation conidering the structure of Upmns matrix before calculated.\n",
    "    \n",
    "    Input\n",
    "    --------\n",
    "        m6 (float): the haviet mass\n",
    "        Aab: funtion asociated to form factor\n",
    "        a,b (int): indexes of leptons a,b=1,2 or 3\n",
    "        \n",
    "    Output\n",
    "    --------\n",
    "        out (float): numeric summation of the form factor over the 6 neutrino generations.\n",
    "    '''\n",
    "    mnk,UnuL,UnuR = diagonalizationMnu1(m1,m6)\n",
    "    Unu = UnuR\n",
    "    Unu_dagger = UnuL\n",
    "    FF = []\n",
    "    for k in range(1,7):\n",
    "        #A = Aab(mnk[k-1],Unu[b-1,k-1],conj(Unu[a-1,k-1]))\n",
    "        A = Aab(mnk[k-1],Unu[b-1,k-1],Unu_dagger[k-1,a-1])\n",
    "        #print('Ai = ',A)\n",
    "        FF.append(A)\n",
    "    out = mp.fsum(FF)\n",
    "    return out\n"
   ]
  },
  {
   "cell_type": "markdown",
   "metadata": {},
   "source": [
    "Now, we build a main function to convert the symbolic form factor to numeric functions. This function is given below"
   ]
  },
  {
   "cell_type": "code",
   "execution_count": 56,
   "metadata": {},
   "outputs": [],
   "source": [
    "from OneLoopLFVHD.data import replaceBs, pave_functions # Auxiliary functions"
   ]
  },
  {
   "cell_type": "code",
   "execution_count": 57,
   "metadata": {},
   "outputs": [],
   "source": [
    "# bubbleniG = Bubbles[1]\n",
    "# bubbleGni = Bubbles[3]\n",
    "# bubbleniW = Bubbles[0]\n",
    "# bubbleWni = Bubbles[2]\n",
    "def numeric_sum_diagramsOne(a,b,quirality='L'):\n",
    "    '''\n",
    "    This function create a function which only depends on m6 and represent the sum of all form factors\n",
    "    associated to diagrams with one fermion in the loop and also considering the 6 neutrino generations.\n",
    "    \n",
    "    Input\n",
    "    ---------\n",
    "        a,b (int): indexes of leptons, a,b = 1,2 or 3\n",
    "        quirality (string): represents the chirality of the diagrams, it can be L or R:\n",
    "        \n",
    "    Output:\n",
    "        sum_over_index_i (function): returns the function which represent the sum of all diagrams and \n",
    "        over the neutrino index i. This function only depends on m6.\n",
    "    '''\n",
    "    #[TrianglesOneFermion[0],TrianglesOneFermion[1],TrianglesOneFermion[2]],\n",
    "    #[bubbleniG,bubbleGni]\n",
    "    FFOneFer_list = []\n",
    "    for Set in [TrianglesOneFermion,Bubbles]:#TrianglesOneFermion,Bubbles\n",
    "        for dia in Set:\n",
    "            if quirality=='L':\n",
    "                x = dia.AL().subs(lfvhd.D,4).subs(lfvhd.B12_0(mW,mW),0).subs(cambios_hab(a,b)).subs(valores).subs(UnuOne)\n",
    "            elif quirality=='R':\n",
    "                x = dia.AR().subs(lfvhd.D,4).subs(lfvhd.B12_0(mW,mW),0).subs(cambios_hab(a,b)).subs(valores).subs(UnuOne)\n",
    "            else:\n",
    "                raise ValueError('quirality must be L or R')\n",
    "            f = lambdify([mni,Ubi,Ucai],# depends on three parameters\n",
    "                         replaceBs(x), # replace B function by auxiliary functions which do not has problembs in lambdify\n",
    "                         modules=[pave_functions(valores[mh],a,b,lib='mpmath'),'mpmath']\n",
    "                        ) #numeric Form factor\n",
    "            #print(f(1,2,3))\n",
    "            #fsum = lambda m6:sumOne(m6,f,a,b)\n",
    "            FFOneFer_list.append(f)\n",
    "    def sum_over_index_i(m6):\n",
    "        out = []\n",
    "        xs = []\n",
    "        for FFab in FFOneFer_list:\n",
    "            FF_sum_over_i = sumOne(m6,FFab,a,b) # sum over neutrino generations\n",
    "            out.append(FF_sum_over_i)\n",
    "            xs.append(FF_sum_over_i)\n",
    "        return np.array(xs), mp.fsum(out)\n",
    "    return sum_over_index_i"
   ]
  },
  {
   "cell_type": "code",
   "execution_count": 37,
   "metadata": {},
   "outputs": [
    {
     "data": {
      "text/plain": [
       "(-0.00000000000000000000029025615492257185882209035019869090481636922623199850839500927544130849593235774 - 2.3019054207229335608192446823887740999913092469390455313913588094765175074175488e-92j)"
      ]
     },
     "execution_count": 37,
     "metadata": {},
     "output_type": "execute_result"
    }
   ],
   "source": [
    "numeric_sum_diagramsOne(3,1,quirality='R')(100)[1]"
   ]
  },
  {
   "cell_type": "code",
   "execution_count": 58,
   "metadata": {},
   "outputs": [],
   "source": [
    "def ALOneTot23(m6):\n",
    "    return numeric_sum_diagramsOne(2,3,quirality='L')(m6)[1]\n",
    "def AROneTot23(m6):\n",
    "    return numeric_sum_diagramsOne(2,3,quirality='R')(m6)[1]\n",
    "\n",
    "def ALOneTot32(m6):\n",
    "    return numeric_sum_diagramsOne(3,2,quirality='L')(m6)[1]\n",
    "def AROneTot32(m6):\n",
    "    return numeric_sum_diagramsOne(3,2,quirality='R')(m6)[1]\n",
    "\n",
    "def ALOneTot13(m6):\n",
    "    return numeric_sum_diagramsOne(1,3,quirality='L')(m6)[1]\n",
    "def AROneTot13(m6):\n",
    "    return numeric_sum_diagramsOne(1,3,quirality='R')(m6)[1]\n",
    "\n",
    "def ALOneTot31(m6):\n",
    "    return numeric_sum_diagramsOne(3,1,quirality='R')(m6)[1]\n",
    "def AROneTot31(m6):\n",
    "    return numeric_sum_diagramsOne(3,1,quirality='L')(m6)[1]\n",
    "\n",
    "def ALOneTot12(m6):\n",
    "    return numeric_sum_diagramsOne(1,2,quirality='L')(m6)[1]\n",
    "def AROneTot12(m6):\n",
    "    return numeric_sum_diagramsOne(1,2,quirality='R')(m6)[1]\n",
    "\n",
    "def ALOneTot21(m6):\n",
    "    return numeric_sum_diagramsOne(2,1,quirality='L')(m6)[1]\n",
    "def AROneTot21(m6):\n",
    "    return numeric_sum_diagramsOne(2,1,quirality='R')(m6)[1]"
   ]
  },
  {
   "cell_type": "code",
   "execution_count": 23,
   "metadata": {},
   "outputs": [
    {
     "data": {
      "text/plain": [
       "(0.00000000000000000000092775694620755726858540603451808376715926968046316797476538303324273786314885148 + 1.120170025843023752962229794528740512135790394199866615575435240957350686457799e-88j)"
      ]
     },
     "execution_count": 23,
     "metadata": {},
     "output_type": "execute_result"
    }
   ],
   "source": [
    "ALOneTot23(1)"
   ]
  },
  {
   "cell_type": "markdown",
   "metadata": {},
   "source": [
    "Now to plot we choose the interval $m_{n_6} \\in [10^{-1},10^{15}]$"
   ]
  },
  {
   "cell_type": "code",
   "execution_count": 24,
   "metadata": {},
   "outputs": [],
   "source": [
    "n = 20\n",
    "expmp = linspace(-1,15,n)\n",
    "m6np = np.array([mpf('10.0')**k for k in expmp])#np.logspace(-1,15,n)"
   ]
  },
  {
   "cell_type": "markdown",
   "metadata": {},
   "source": [
    "Now, we evaluate our form factor numeric function in the chose interval. To do a faster evaluation we use `speedup_array` function"
   ]
  },
  {
   "cell_type": "code",
   "execution_count": 29,
   "metadata": {},
   "outputs": [
    {
     "name": "stdout",
     "output_type": "stream",
     "text": [
      "CPU times: user 242 ms, sys: 141 ms, total: 383 ms\n",
      "Wall time: 2min 3s\n"
     ]
    }
   ],
   "source": [
    "%%time\n",
    "YLOne23 = speedup_array(ALOneTot23,m6np)\n",
    "#YLOne32 = speedup_array(ALOneTot32,m6np)\n",
    "\n",
    "YLOne13 = speedup_array(ALOneTot13,m6np)\n",
    "#YLOne31 = speedup_array(ALOneTot31,m6np)\n",
    "\n",
    "YLOne12 = speedup_array(ALOneTot12,m6np)\n",
    "#YLOne21 = speedup_array(ALOneTot21,m6np)"
   ]
  },
  {
   "cell_type": "markdown",
   "metadata": {},
   "source": [
    "Finalli we can plot the behavior of the sum of form factor for diagrams with one fermion."
   ]
  },
  {
   "cell_type": "code",
   "execution_count": 30,
   "metadata": {},
   "outputs": [
    {
     "data": {
      "text/plain": [
       "<matplotlib.legend.Legend at 0x7f4fa6175050>"
      ]
     },
     "execution_count": 30,
     "metadata": {},
     "output_type": "execute_result"
    },
    {
     "data": {
      "image/png": "[encoded data removed]",
      "text/plain": [
       "<Figure size 1080x576 with 1 Axes>"
      ]
     },
     "metadata": {
      "needs_background": "light"
     },
     "output_type": "display_data"
    }
   ],
   "source": [
    "plt.figure(figsize=(15,8))\n",
    "plt.loglog(np.real(m6np),abs(YLOne23)**2,'-.',label='$A_L^{(1)}(2,3)$')\n",
    "#plt.loglog(np.real(m6np),abs(YLOne32)**2,'--',label='$A_L^{(1)}(3,2)$')\n",
    "\n",
    "plt.loglog(np.real(m6np),abs(YLOne13)**2,'-',label='$A_L^{(1)}(1,3)$')\n",
    "#plt.loglog(np.real(m6np),abs(YLOne31)**2,'--',label='$A_L^{(1)}(3,1)$')\n",
    "\n",
    "plt.loglog(np.real(m6np),abs(YLOne12)**2,'-.',label='$A_L^{(1)}(1,2)$')\n",
    "#plt.loglog(np.real(m6np),abs(YLOne21)**2,'--',label='$A_L^{(1)}(2,1)$')\n",
    "plt.xticks(fontsize=15)\n",
    "plt.yticks(fontsize=15)\n",
    "\n",
    "plt.legend(fontsize=15)"
   ]
  },
  {
   "cell_type": "markdown",
   "metadata": {},
   "source": [
    "## Form factor with two fermion in the loop."
   ]
  },
  {
   "cell_type": "markdown",
   "metadata": {},
   "source": [
    "In this case we only have 2 diagrams stored in `TrianglesTwoFermion` list. In this case we have two neutrino indexes $i$ and $j$.Then, we have a doble summatory in this case.  First we do an auxiliar simbolic substitutions related to the following code"
   ]
  },
  {
   "cell_type": "code",
   "execution_count": 59,
   "metadata": {},
   "outputs": [
    {
     "data": {
      "image/png": "[encoded data removed]",
      "text/latex": [
       "$\\displaystyle \\left\\{ {C}_{i,j} : C_{ij}, \\  {{{C^*}}}_{i,j} : {{C_{ij}^*}}, \\  {{{U^\\nu}}}_{b,j} : U_{bj}, \\  {{{U^{\\nu *}}}}_{a,i} : {{U_{ai}^*}}, \\  {{{m_n}}}_{i} : m_{n_i}, \\  {{{m_n}}}_{j} : m_{n_j}\\right\\}$"
      ],
      "text/plain": [
       "{C[i, j]: C_{ij}, {{C^*}}[i, j]: {{C_{ij}__*}}, {{U^\\nu}}[b, j]: U_{bj}, {{U^{\n",
       "\\nu *}}}[a, i]: {{U_{ai}__*}}, {{m_n}}[i]: m_{n_i}, {{m_n}}[j]: m_{n_j}}"
      ]
     },
     "execution_count": 59,
     "metadata": {},
     "output_type": "execute_result"
    }
   ],
   "source": [
    "mnj = symbols('m_{n_j}',positive=True)\n",
    "Cijs, Cijcs, Ubj = symbols('C_{ij}, {{C_{ij}^*}},U_{bj}')\n",
    "UnuTwo = {mn[i]:mni,mn[jj]:mnj,C[i,jj]:Cijs, Cc[i,jj]:Cijcs, Uv[b,jj]:Ubj, Uvc[a,i]:Ucai}\n",
    "UnuTwo"
   ]
  },
  {
   "cell_type": "code",
   "execution_count": 60,
   "metadata": {},
   "outputs": [],
   "source": [
    "fsL = lambda k,a,b:TrianglesTwoFermion[k].AL().subs(lfvhd.D,4).subs(cambios_hab(a,b)).subs(valores).subs(UnuTwo)\n",
    "fsR = lambda k,a,b:TrianglesTwoFermion[k].AR().subs(lfvhd.D,4).subs(cambios_hab(a,b)).subs(valores).subs(UnuTwo)"
   ]
  },
  {
   "cell_type": "code",
   "execution_count": 61,
   "metadata": {},
   "outputs": [],
   "source": [
    "fL = lambda k,a,b:lambdify([mni,mnj,Ubj,Ucai,Cijs,Cijcs],replaceBs(fsL(k,a,b)),\n",
    "                     modules=[pave_functions(valores[mh],a,b,lib='mpmath'),'mpmath'] )\n",
    "fR = lambda k,a,b:lambdify([mni,mnj,Ubj,Ucai,Cijs,Cijcs],replaceBs(fsR(k,a,b)),\n",
    "                     modules=[pave_functions(valores[mh],a,b,lib='mpmath'),'mpmath'] )"
   ]
  },
  {
   "cell_type": "code",
   "execution_count": 42,
   "metadata": {},
   "outputs": [
    {
     "data": {
      "text/plain": [
       "(-0.00000027247998590854213844099384583421238032773286440032857894900089991919247803179895 + 0.00000016352018180926886301424865222343006675260280399774946471613918548438945707843168j)"
      ]
     },
     "execution_count": 42,
     "metadata": {},
     "output_type": "execute_result"
    }
   ],
   "source": [
    "fL(0,2,3)(1,2,3,4,5,6)"
   ]
  },
  {
   "cell_type": "markdown",
   "metadata": {},
   "source": [
    "Now, we do a function to do the doble summatory on the neutrino generetions"
   ]
  },
  {
   "cell_type": "code",
   "execution_count": 62,
   "metadata": {},
   "outputs": [],
   "source": [
    "def sumatwo(mm6,k,a,b,quirality='L'):\n",
    "    xs = []\n",
    "    if quirality=='L':\n",
    "        g = fL(k,a,b)\n",
    "    elif quirality=='R':\n",
    "        g = fR(k,a,b)\n",
    "    else:\n",
    "        raise ValueError('quirality must be L or R')\n",
    "        \n",
    "    mnk,UnuL,UnuR = diagonalizationMnu1(m1,mm6)\n",
    "    Unu = UnuR\n",
    "    Unu_dagger = UnuL\n",
    "    #Cij = lambda i,j: mp.fsum([Unu[c,i]*conj(Unu[c,j]) for c in range(3)])\n",
    "    Cij = lambda i,j: mp.fsum([Unu[c,i]*Unu_dagger[j,c] for c in range(3)])\n",
    "    for p in range(1,7):\n",
    "        for q in range(1,7):\n",
    "            #x = g(mnk[p-1],mnk[q-1],Unu[b-1,q-1],conj(Unu[a-1,p-1]),Cij(p-1,q-1),conj(Cij(p-1,q-1)))\n",
    "            x = g(mnk[p-1],mnk[q-1],Unu[b-1,q-1],Unu_dagger[p-1,a-1],Cij(p-1,q-1),conj(Cij(p-1,q-1)))\n",
    "            xs.append(x)\n",
    "            #print(f'i = {p} and j = {q}')\n",
    "            #print(f'|f| = {x}')\n",
    "    return mp.fsum(xs)"
   ]
  },
  {
   "cell_type": "markdown",
   "metadata": {},
   "source": [
    "Then the total contribution of the diagrams with two fermions in the loop is given by"
   ]
  },
  {
   "cell_type": "code",
   "execution_count": 63,
   "metadata": {},
   "outputs": [],
   "source": [
    "def totaltwo(m6,a,b,quirality='L'):\n",
    "    return sumatwo(m6,0,a,b,quirality)  + sumatwo(m6,1,a,b,quirality)"
   ]
  },
  {
   "cell_type": "code",
   "execution_count": 69,
   "metadata": {},
   "outputs": [
    {
     "name": "stdout",
     "output_type": "stream",
     "text": [
      "(4.23118e-15 - 1.35441e-30j)\n"
     ]
    }
   ],
   "source": [
    "nprint(totaltwo(mp.mpf('1e5'),2,3))"
   ]
  },
  {
   "cell_type": "code",
   "execution_count": 70,
   "metadata": {},
   "outputs": [
    {
     "name": "stdout",
     "output_type": "stream",
     "text": [
      "(7.11541e-14 - 2.27768e-29j)\n"
     ]
    }
   ],
   "source": [
    "nprint(totaltwo(mp.mpf('1e5'),2,3,'R'))"
   ]
  },
  {
   "cell_type": "code",
   "execution_count": 65,
   "metadata": {},
   "outputs": [],
   "source": [
    "ALTwoTot23 = lambda m6: totaltwo(m6,2,3,'L')\n",
    "ARTwoTot23 = lambda m6: totaltwo(m6,2,3,'R')\n",
    "\n",
    "# ALTwoTot32 = lambda m6: totaltwo(m6,3,2,'L')\n",
    "# ARTwoTot32 = lambda m6: totaltwo(m6,3,2,'R')\n",
    "\n",
    "ALTwoTot13 = lambda m6: totaltwo(m6,1,3,'L')\n",
    "ARTwoTot13 = lambda m6: totaltwo(m6,1,3,'R')\n",
    "\n",
    "# ALTwoTot31 = lambda m6: totaltwo(m6,3,1,'L')\n",
    "# ARTwoTot31 = lambda m6: totaltwo(m6,3,1,'R')\n",
    "\n",
    "ALTwoTot12 = lambda m6: totaltwo(m6,1,2,'L')\n",
    "ARTwoTot12 = lambda m6: totaltwo(m6,1,2,'R')\n",
    "\n",
    "# ALTwoTot21 = lambda m6: totaltwo(m6,2,1,'L')\n",
    "# ARTwoTot21 = lambda m6: totaltwo(m6,2,1,'R')"
   ]
  },
  {
   "cell_type": "code",
   "execution_count": 62,
   "metadata": {},
   "outputs": [
    {
     "data": {
      "text/plain": [
       "(0.000016470711522304642731618208267696118615073967669909841141394674534456140032917642,\n",
       " 0.000016470711522304642731618208267696118615073967669909841141394674534456140032917642)"
      ]
     },
     "execution_count": 62,
     "metadata": {},
     "output_type": "execute_result"
    }
   ],
   "source": [
    "abs(ALTwoTot23(m6np[-1])),abs(sumatwo(m6np[-1],0,2,3,'L')+ sumatwo(m6np[-1],1,2,3,'L'))"
   ]
  },
  {
   "cell_type": "markdown",
   "metadata": {},
   "source": [
    "## Total Form Factors"
   ]
  },
  {
   "cell_type": "markdown",
   "metadata": {},
   "source": [
    "Finally, if we sum the contribution of one and two fermions, we obtain the total fomr factors given as follows"
   ]
  },
  {
   "cell_type": "code",
   "execution_count": 31,
   "metadata": {},
   "outputs": [],
   "source": [
    "#a = 2, b = 3\n",
    "def ALtot23(m6):\n",
    "    return  ALOneTot23(m6) + ALTwoTot23(m6)\n",
    "def ARtot23(m6):\n",
    "    return  AROneTot23(m6) + ARTwoTot23(m6)\n",
    "\n",
    "#a = 3, b = 2\n",
    "# def ALtot32(m6):\n",
    "#     return  ALOneTot32(m6) + ALTwoTot32(m6)\n",
    "# def ARtot32(m6):\n",
    "#     return  AROneTot32(m6) + ARTwoTot32(m6)\n",
    "\n",
    "#a = 1, b = 3\n",
    "def ALtot13(m6):\n",
    "    return  ALOneTot13(m6) + ALTwoTot13(m6)\n",
    "def ARtot13(m6):\n",
    "    return  AROneTot13(m6) + ARTwoTot13(m6)\n",
    "\n",
    "#a = 3, b = 1\n",
    "# def ALtot31(m6):\n",
    "#     return  ALOneTot31(m6) + ALTwoTot31(m6)\n",
    "# def ARtot31(m6):\n",
    "#     return  AROneTot31(m6) + ARTwoTot31(m6)\n",
    "\n",
    "#a = 1, b = 2\n",
    "def ALtot12(m6):\n",
    "    return  ALOneTot12(m6) + ALTwoTot12(m6)\n",
    "def ARtot12(m6):\n",
    "    return  AROneTot12(m6) + ARTwoTot12(m6)\n",
    "\n",
    "#a = 2, b = 1\n",
    "# def ALtot21(m6):\n",
    "#     return  ALOneTot21(m6) + ALTwoTot21(m6)\n",
    "# def ARtot21(m6):\n",
    "#     return  AROneTot21(m6) + ARTwoTot21(m6)"
   ]
  },
  {
   "cell_type": "markdown",
   "metadata": {},
   "source": [
    "## Width decay of $h \\to e_a e_b$"
   ]
  },
  {
   "cell_type": "markdown",
   "metadata": {},
   "source": [
    "As we know the width decay of the decay $h \\to e_a e_b$ depends on the total left and right form factors ,and the masses of the higgs and the leptons. However we have this definition our library, then,"
   ]
  },
  {
   "cell_type": "code",
   "execution_count": 32,
   "metadata": {},
   "outputs": [],
   "source": [
    "Γhlilj = lfvhd.Γhlilj"
   ]
  },
  {
   "cell_type": "code",
   "execution_count": 33,
   "metadata": {},
   "outputs": [],
   "source": [
    "def Γhl2l3(m6):\n",
    "    return Γhlilj(ALtot23(m6),ARtot23(m6),valores[mh],ml[2],ml[3])\n",
    "# def Γhl3l2(m6):\n",
    "#     return Γhlilj(ALtot32(m6),ARtot32(m6),valores[mh],ml[3],ml[2])\n",
    "\n",
    "def Γhl1l3(m6):\n",
    "    return Γhlilj(ALtot13(m6),ARtot13(m6),valores[mh],ml[1],ml[3])\n",
    "# def Γhl3l1(m6):\n",
    "#     return Γhlilj(ALtot31(m6),ARtot31(m6),valores[mh],ml[3],ml[1])\n",
    "\n",
    "def Γhl1l2(m6):\n",
    "    return Γhlilj(ALtot12(m6),ARtot12(m6),valores[mh],ml[1],ml[2])\n",
    "# def Γhl2l1(m6):\n",
    "#     return Γhlilj(ALtot21(m6),ARtot21(m6),valores[mh],ml[2],ml[1])"
   ]
  },
  {
   "cell_type": "markdown",
   "metadata": {},
   "source": [
    "As we show before the width decay of $h \\to e_a e_b$ to a specific chanel depends only on $m_{n_6}$. remeber that we are consider the interval for the heavies neutrino mass $m_{n_6} \\in [10^{-1}, 10^{15}]$."
   ]
  },
  {
   "cell_type": "code",
   "execution_count": 34,
   "metadata": {},
   "outputs": [],
   "source": [
    "n = 50\n",
    "expmp = linspace(-1,15,n)\n",
    "m6np = np.array([mpf('10.0')**k for k in expmp])#np.logspace(-1,15,n)"
   ]
  },
  {
   "cell_type": "markdown",
   "metadata": {},
   "source": [
    "Then, we evaluate the widths in this range"
   ]
  },
  {
   "cell_type": "code",
   "execution_count": 35,
   "metadata": {},
   "outputs": [],
   "source": [
    "%%time\n",
    "YW23 = speedup_array(Γhl2l3,m6np)\n",
    "#YW32 = speedup_array(Γhl3l2,m6np)\n",
    "\n",
    "YW13 = speedup_array(Γhl1l3,m6np)\n",
    "#YW31 = speedup_array(Γhl3l1,m6np)\n",
    "\n",
    "YW12 = speedup_array(Γhl1l2,m6np)\n",
    "\n",
    "#YW21 = speedup_array(Γhl2l1,m6np)"
   ]
  },
  {
   "cell_type": "markdown",
   "metadata": {},
   "source": [
    "We calculate the total width as follows"
   ]
  },
  {
   "cell_type": "code",
   "execution_count": 37,
   "metadata": {},
   "outputs": [],
   "source": [
    "WidthSM = 0.0032 #GeV\n",
    "Wtot = YW23 + YW13 + YW12 + WidthSM# + YW32 + YW31 + YW21"
   ]
  },
  {
   "cell_type": "markdown",
   "metadata": {},
   "source": [
    "## Plot"
   ]
  },
  {
   "cell_type": "markdown",
   "metadata": {},
   "source": [
    "Finally, we plot the branchig ratios of each channel as follows "
   ]
  },
  {
   "cell_type": "code",
   "execution_count": 38,
   "metadata": {},
   "outputs": [
    {
     "data": {
      "text/plain": [
       "<matplotlib.legend.Legend at 0x7f0a16900a90>"
      ]
     },
     "execution_count": 38,
     "metadata": {},
     "output_type": "execute_result"
    },
    {
     "data": {
      "image/png": "[encoded data removed]",
      "text/plain": [
       "<Figure size 1080x576 with 1 Axes>"
      ]
     },
     "metadata": {
      "needs_background": "light"
     },
     "output_type": "display_data"
    }
   ],
   "source": [
    "plt.figure(figsize=(15,8))\n",
    "plt.loglog(np.real(m6np),(YW23 #+ YW32\n",
    "                         )/Wtot,label=r'Br($h \\to \\mu \\tau$)')\n",
    "plt.loglog(np.real(m6np),(YW13 #+ YW31\n",
    "                         )/Wtot,label=r'Br($h \\to e \\tau$)')\n",
    "plt.loglog(np.real(m6np),(YW12 #+ YW21\n",
    "                         )/Wtot,label=r'Br($h \\to e \\mu$)')\n",
    "\n",
    "#xx = ((YW23 + YW32)/Wtot)[-1]\n",
    "plt.hlines(1e-10,0.1,1e15,linestyles='-.',label=r'$1.7\\times 10^{-2}$')\n",
    "plt.hlines(5e-43,0.1,1e15,linestyles='--',color='b',label=r'$1\\times 10^{-32}$')\n",
    "plt.vlines(125.1,5e-43,1e-10,linestyles='--',color='r',label=r'$m_h$')\n",
    "plt.vlines(80.379,5e-43,1e-10,linestyles='--',color='g',label=r'$m_W$')\n",
    "plt.xlim(1e-1,1e15)\n",
    "plt.yticks([1e-39,1e-29,1e-19,1e-9,1])\n",
    "plt.xticks([1,1e4,1e8,1e12,1e16])\n",
    "plt.legend(fontsize=15)"
   ]
  },
  {
   "cell_type": "markdown",
   "metadata": {},
   "source": [
    "## Import data"
   ]
  },
  {
   "cell_type": "code",
   "execution_count": 44,
   "metadata": {},
   "outputs": [],
   "source": [
    "import pandas as pd"
   ]
  },
  {
   "cell_type": "code",
   "execution_count": 45,
   "metadata": {},
   "outputs": [],
   "source": [
    "df = pd.DataFrame({'m6':m6np,\n",
    "                   'Whl2l3':YW23,\n",
    "                   #'Whl3l2':YW32,\n",
    "                   'Whl1l3':YW13,\n",
    "                   #'Whl3l1':YW31,\n",
    "                   'Whl1l2':YW12})\n",
    "                   #'Whl2l1':YW21})"
   ]
  },
  {
   "cell_type": "code",
   "execution_count": 46,
   "metadata": {},
   "outputs": [],
   "source": [
    "df.to_csv('LFVHD-3.txt',sep='\\t')"
   ]
  },
  {
   "cell_type": "code",
   "execution_count": 47,
   "metadata": {},
   "outputs": [
    {
     "data": {
      "text/plain": [
       "[<matplotlib.lines.Line2D at 0x7fb858709750>]"
      ]
     },
     "execution_count": 47,
     "metadata": {},
     "output_type": "execute_result"
    },
    {
     "data": {
      "image/png": "[encoded data removed]",
      "text/plain": [
       "<Figure size 432x288 with 1 Axes>"
      ]
     },
     "metadata": {
      "needs_background": "light"
     },
     "output_type": "display_data"
    }
   ],
   "source": [
    "plt.semilogy(np.array(list(map(mpf,df['Whl2l3']))))"
   ]
  },
  {
   "cell_type": "code",
   "execution_count": null,
   "metadata": {},
   "outputs": [],
   "source": []
  }
 ],
 "metadata": {
  "interpreter": {
   "hash": "b921add2b647b46a0162d3f3de9ecdc25418a02eed44d89fb52e720252ea5280"
  },
  "kernelspec": {
   "display_name": "Python 3.7.6 ('base')",
   "language": "python",
   "name": "python3"
  },
  "language_info": {
   "codemirror_mode": {
    "name": "ipython",
    "version": 3
   },
   "file_extension": ".py",
   "mimetype": "text/x-python",
   "name": "python",
   "nbconvert_exporter": "python",
   "pygments_lexer": "ipython3",
   "version": "3.7.6"
  },
  "toc-autonumbering": true
 },
 "nbformat": 4,
 "nbformat_minor": 4
}
