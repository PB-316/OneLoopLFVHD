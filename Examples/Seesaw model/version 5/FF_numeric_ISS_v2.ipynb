{
 "cells": [
  {
   "cell_type": "markdown",
   "metadata": {},
   "source": [
    "# LFV Higgs decays in SeeSaw model (Numeric approach)"
   ]
  },
  {
   "cell_type": "markdown",
   "metadata": {},
   "source": [
    "As we have showed in the symbolic form factors notebook [FF_symbolic.ipynb](FF_symbolic.ipynb), 10 diagrams contributes to LFVHD in the seesaw model. The form factors associated to these diagrams have been calculated and we have shown that the divergencies cancel correctly. All of the diagrams are summarized by convenience in the symbolic form factors script [seesaw_FF.py](seesaw_FF.py). However, all of this calculations are based in the simbolic library sympy, now we need to transform the expressions of the form factors to numeric funtions to be evaluated. In order to do that, we import all diagrams from [seesaw_FF.py](seesaw_FF.py) and the usefull functions for libraries like sympy, mpmath, matplotlib, multiprocessing and finally all library OneLoopLFVHD."
   ]
  },
  {
   "cell_type": "code",
   "execution_count": 1,
   "metadata": {},
   "outputs": [],
   "source": [
    "from sympy import init_printing, Symbol,lambdify, symbols, Matrix\n",
    "init_printing()\n",
    "import OneLoopLFVHD as lfvhd"
   ]
  },
  {
   "cell_type": "code",
   "execution_count": 2,
   "metadata": {},
   "outputs": [],
   "source": [
    "from seesaw_FF import TrianglesOneFermion, TrianglesTwoFermion, Bubbles,DiagramsOneFermionW, DiagramsOneFermionG\n",
    "from seesaw_FF import g, mW, Uν, Uνc, mn, m, C, Cc, a,b,i,h\n",
    "from seesaw_FF import j as jj"
   ]
  },
  {
   "cell_type": "code",
   "execution_count": 3,
   "metadata": {},
   "outputs": [],
   "source": [
    "import OneLoopLFVHD as lfvhd\n",
    "from sympy import symbols, re,im,I, simplify\n",
    "\n",
    "C0sp, C1sp,C2sp,B120sp = symbols('C_0,C_1,C_2,B_{120}')\n",
    "C11sp,C12sp = symbols('C_{11},C_{12}')\n",
    "\n",
    "cambiosPV = {\n",
    "    lfvhd.C0(mW,mn[i],mn[jj]):C0sp,\n",
    "    lfvhd.C1(mW,mn[i],mn[jj]):C1sp,\n",
    "    lfvhd.C2(mW,mn[i],mn[jj]):C2sp,\n",
    "    lfvhd.B12_0(mn[i],mn[jj]):B120sp,\n",
    "    }\n",
    "cambiosCij = {\n",
    "    C[i,jj]:re(C[i,jj]) + I*im(C[i,jj]),\n",
    "    Cc[i,jj]:re(C[i,jj]) - I*im(C[i,jj])\n",
    "    }\n",
    "\n",
    "cambiosArganda = {\n",
    "    C1sp:C12sp-C11sp,\n",
    "    C2sp:C12sp\n",
    "}\n",
    "\n",
    "mh,mla,mlb = symbols('m_h,m_{l_a},m_{l_b}')\n",
    "cambios_habsp = {lfvhd.ma:mh,lfvhd.mi:mla,lfvhd.mj:mlb}"
   ]
  },
  {
   "cell_type": "code",
   "execution_count": 4,
   "metadata": {},
   "outputs": [],
   "source": [
    "Gninj = TrianglesTwoFermion[0].AL().subs(cambiosPV).subs(cambiosCij\n",
    ").subs(cambios_habsp).expand().collect([re(C[i,jj]),im(C[i,jj])],evaluate=False)#.factor()"
   ]
  },
  {
   "cell_type": "code",
   "execution_count": 5,
   "metadata": {},
   "outputs": [
    {
     "data": {
      "image/png": "[encoded data removed]",
      "text/latex": [
       "$\\displaystyle \\frac{g^{3} m_{l_a} \\left({{{m_n}}}_{i} + {{{m_n}}}_{j}\\right) \\left(B_{120} {{{m_n}}}_{j} + C_{0} m_{W}^{2} {{{m_n}}}_{j} - C_{1} m_{l_a}^{2} {{{m_n}}}_{j} - C_{1} m_{l_b}^{2} {{{m_n}}}_{i} + C_{1} {{{m_n}}}_{i}^{2} {{{m_n}}}_{j} + C_{1} {{{m_n}}}_{i} {{{m_n}}}_{j}^{2}\\right) \\operatorname{re}{\\left({C}_{i,j}\\right)} {{{U^\\nu}}}_{b,j} {{{U^{\\nu *}}}}_{a,i}}{64 \\pi^{2} m_{W}^{3}}$"
      ],
      "text/plain": [
       " 3                                   ⎛                           2            \n",
       "g ⋅m_{l_a}⋅({{m_n}}[i] + {{m_n}}[j])⋅⎝B_{120}⋅{{m_n}}[j] + C₀⋅m_W ⋅{{m_n}}[j] \n",
       "──────────────────────────────────────────────────────────────────────────────\n",
       "                                                                              \n",
       "                                                                              \n",
       "\n",
       "            2                        2                           2            \n",
       "- C₁⋅m_{l_a} ⋅{{m_n}}[j] - C₁⋅m_{l_b} ⋅{{m_n}}[i] + C₁⋅{{m_n}}[i] ⋅{{m_n}}[j] \n",
       "──────────────────────────────────────────────────────────────────────────────\n",
       "                                     2    3                                   \n",
       "                                 64⋅π ⋅m_W                                    \n",
       "\n",
       "                          2⎞                                                \n",
       "+ C₁⋅{{m_n}}[i]⋅{{m_n}}[j] ⎠⋅re(C[i, j])⋅{{U^\\nu}}[b, j]⋅{{U^{\\nu *}}}[a, i]\n",
       "────────────────────────────────────────────────────────────────────────────\n",
       "                                                                            \n",
       "                                                                            "
      ]
     },
     "execution_count": 5,
     "metadata": {},
     "output_type": "execute_result"
    }
   ],
   "source": [
    "A = Gninj[re(C[i,jj])].collect([C1sp]).factor()*re(C[i,jj])#.simplify()*re(C[i,jj])\n",
    "A"
   ]
  },
  {
   "cell_type": "code",
   "execution_count": 6,
   "metadata": {},
   "outputs": [
    {
     "data": {
      "image/png": "[encoded data removed]",
      "text/latex": [
       "$\\displaystyle B_{120} {{{m_n}}}_{j} + C_{0} m_{W}^{2} {{{m_n}}}_{j} + C_{1} \\left(- m_{l_a}^{2} {{{m_n}}}_{j} - m_{l_b}^{2} {{{m_n}}}_{i} + {{{m_n}}}_{i}^{2} {{{m_n}}}_{j} + {{{m_n}}}_{i} {{{m_n}}}_{j}^{2}\\right)$"
      ],
      "text/plain": [
       "                           2                 ⎛         2                     2\n",
       "B_{120}⋅{{m_n}}[j] + C₀⋅m_W ⋅{{m_n}}[j] + C₁⋅⎝- m_{l_a} ⋅{{m_n}}[j] - m_{l_b} \n",
       "\n",
       "                        2                                   2⎞\n",
       "⋅{{m_n}}[i] + {{m_n}}[i] ⋅{{m_n}}[j] + {{m_n}}[i]⋅{{m_n}}[j] ⎠"
      ]
     },
     "execution_count": 6,
     "metadata": {},
     "output_type": "execute_result"
    }
   ],
   "source": [
    "A.args[6].collect([C1sp])"
   ]
  },
  {
   "cell_type": "code",
   "execution_count": 7,
   "metadata": {},
   "outputs": [
    {
     "data": {
      "image/png": "[encoded data removed]",
      "text/latex": [
       "$\\displaystyle - \\frac{i g^{3} m_{l_a} \\left({{{m_n}}}_{i} - {{{m_n}}}_{j}\\right) \\left(B_{120} {{{m_n}}}_{j} + C_{0} m_{W}^{2} {{{m_n}}}_{j} - C_{1} m_{l_a}^{2} {{{m_n}}}_{j} + C_{1} m_{l_b}^{2} {{{m_n}}}_{i} + C_{1} {{{m_n}}}_{i}^{2} {{{m_n}}}_{j} - C_{1} {{{m_n}}}_{i} {{{m_n}}}_{j}^{2}\\right) \\operatorname{im}{\\left({C}_{i,j}\\right)} {{{U^\\nu}}}_{b,j} {{{U^{\\nu *}}}}_{a,i}}{64 \\pi^{2} m_{W}^{3}}$"
      ],
      "text/plain": [
       "    3                                   ⎛                           2         \n",
       "-ⅈ⋅g ⋅m_{l_a}⋅({{m_n}}[i] - {{m_n}}[j])⋅⎝B_{120}⋅{{m_n}}[j] + C₀⋅m_W ⋅{{m_n}}[\n",
       "──────────────────────────────────────────────────────────────────────────────\n",
       "                                                                              \n",
       "                                                                              \n",
       "\n",
       "               2                        2                           2         \n",
       "j] - C₁⋅m_{l_a} ⋅{{m_n}}[j] + C₁⋅m_{l_b} ⋅{{m_n}}[i] + C₁⋅{{m_n}}[i] ⋅{{m_n}}[\n",
       "──────────────────────────────────────────────────────────────────────────────\n",
       "                                       2    3                                 \n",
       "                                   64⋅π ⋅m_W                                  \n",
       "\n",
       "                             2⎞                                               \n",
       "j] - C₁⋅{{m_n}}[i]⋅{{m_n}}[j] ⎠⋅im(C[i, j])⋅{{U^\\nu}}[b, j]⋅{{U^{\\nu *}}}[a, i\n",
       "──────────────────────────────────────────────────────────────────────────────\n",
       "                                                                              \n",
       "                                                                              \n",
       "\n",
       "  \n",
       "] \n",
       "──\n",
       "  \n",
       "  "
      ]
     },
     "execution_count": 7,
     "metadata": {},
     "output_type": "execute_result"
    }
   ],
   "source": [
    "B = Gninj[im(C[i,jj])].collect([C1sp]).factor()*im(C[i,jj])#.simplify()*im(C[i,jj])\n",
    "B\n"
   ]
  },
  {
   "cell_type": "code",
   "execution_count": 8,
   "metadata": {},
   "outputs": [
    {
     "data": {
      "image/png": "[encoded data removed]",
      "text/latex": [
       "$\\displaystyle B_{120} {{{m_n}}}_{j} + C_{0} m_{W}^{2} {{{m_n}}}_{j} + C_{1} \\left(- m_{l_a}^{2} {{{m_n}}}_{j} + m_{l_b}^{2} {{{m_n}}}_{i} + {{{m_n}}}_{i}^{2} {{{m_n}}}_{j} - {{{m_n}}}_{i} {{{m_n}}}_{j}^{2}\\right)$"
      ],
      "text/plain": [
       "                           2                 ⎛         2                     2\n",
       "B_{120}⋅{{m_n}}[j] + C₀⋅m_W ⋅{{m_n}}[j] + C₁⋅⎝- m_{l_a} ⋅{{m_n}}[j] + m_{l_b} \n",
       "\n",
       "                        2                                   2⎞\n",
       "⋅{{m_n}}[i] + {{m_n}}[i] ⋅{{m_n}}[j] - {{m_n}}[i]⋅{{m_n}}[j] ⎠"
      ]
     },
     "execution_count": 8,
     "metadata": {},
     "output_type": "execute_result"
    }
   ],
   "source": [
    "B.args[7].collect([C1sp])"
   ]
  },
  {
   "cell_type": "code",
   "execution_count": 9,
   "metadata": {},
   "outputs": [
    {
     "data": {
      "image/png": "[encoded data removed]",
      "text/latex": [
       "$\\displaystyle - \\frac{i g^{3} m_{l_a} \\left({{{m_n}}}_{i} - {{{m_n}}}_{j}\\right) \\left(B_{120} {{{m_n}}}_{j} + C_{0} m_{W}^{2} {{{m_n}}}_{j} - C_{1} m_{l_a}^{2} {{{m_n}}}_{j} + C_{1} m_{l_b}^{2} {{{m_n}}}_{i} + C_{1} {{{m_n}}}_{i}^{2} {{{m_n}}}_{j} - C_{1} {{{m_n}}}_{i} {{{m_n}}}_{j}^{2}\\right) \\operatorname{im}{\\left({C}_{i,j}\\right)} {{{U^\\nu}}}_{b,j} {{{U^{\\nu *}}}}_{a,i}}{64 \\pi^{2} m_{W}^{3}} + \\frac{g^{3} m_{l_a} \\left({{{m_n}}}_{i} + {{{m_n}}}_{j}\\right) \\left(B_{120} {{{m_n}}}_{j} + C_{0} m_{W}^{2} {{{m_n}}}_{j} - C_{1} m_{l_a}^{2} {{{m_n}}}_{j} - C_{1} m_{l_b}^{2} {{{m_n}}}_{i} + C_{1} {{{m_n}}}_{i}^{2} {{{m_n}}}_{j} + C_{1} {{{m_n}}}_{i} {{{m_n}}}_{j}^{2}\\right) \\operatorname{re}{\\left({C}_{i,j}\\right)} {{{U^\\nu}}}_{b,j} {{{U^{\\nu *}}}}_{a,i}}{64 \\pi^{2} m_{W}^{3}}$"
      ],
      "text/plain": [
       "     3                                   ⎛                           2        \n",
       "  ⅈ⋅g ⋅m_{l_a}⋅({{m_n}}[i] - {{m_n}}[j])⋅⎝B_{120}⋅{{m_n}}[j] + C₀⋅m_W ⋅{{m_n}}\n",
       "- ────────────────────────────────────────────────────────────────────────────\n",
       "                                                                              \n",
       "                                                                              \n",
       "\n",
       "                2                        2                           2        \n",
       "[j] - C₁⋅m_{l_a} ⋅{{m_n}}[j] + C₁⋅m_{l_b} ⋅{{m_n}}[i] + C₁⋅{{m_n}}[i] ⋅{{m_n}}\n",
       "──────────────────────────────────────────────────────────────────────────────\n",
       "                                        2    3                                \n",
       "                                    64⋅π ⋅m_W                                 \n",
       "\n",
       "                              2⎞                                              \n",
       "[j] - C₁⋅{{m_n}}[i]⋅{{m_n}}[j] ⎠⋅im(C[i, j])⋅{{U^\\nu}}[b, j]⋅{{U^{\\nu *}}}[a, \n",
       "──────────────────────────────────────────────────────────────────────────────\n",
       "                                                                              \n",
       "                                                                              \n",
       "\n",
       "      3                                   ⎛                           2       \n",
       "i]   g ⋅m_{l_a}⋅({{m_n}}[i] + {{m_n}}[j])⋅⎝B_{120}⋅{{m_n}}[j] + C₀⋅m_W ⋅{{m_n}\n",
       "── + ─────────────────────────────────────────────────────────────────────────\n",
       "                                                                              \n",
       "                                                                              \n",
       "\n",
       "                 2                        2                           2       \n",
       "}[j] - C₁⋅m_{l_a} ⋅{{m_n}}[j] - C₁⋅m_{l_b} ⋅{{m_n}}[i] + C₁⋅{{m_n}}[i] ⋅{{m_n}\n",
       "──────────────────────────────────────────────────────────────────────────────\n",
       "                                          2    3                              \n",
       "                                      64⋅π ⋅m_W                               \n",
       "\n",
       "                               2⎞                                             \n",
       "}[j] + C₁⋅{{m_n}}[i]⋅{{m_n}}[j] ⎠⋅re(C[i, j])⋅{{U^\\nu}}[b, j]⋅{{U^{\\nu *}}}[a,\n",
       "──────────────────────────────────────────────────────────────────────────────\n",
       "                                                                              \n",
       "                                                                              \n",
       "\n",
       "   \n",
       " i]\n",
       "───\n",
       "   \n",
       "   "
      ]
     },
     "execution_count": 9,
     "metadata": {},
     "output_type": "execute_result"
    }
   ],
   "source": [
    "A + B"
   ]
  },
  {
   "cell_type": "code",
   "execution_count": 10,
   "metadata": {},
   "outputs": [],
   "source": [
    "import matplotlib.pyplot as plt\n",
    "%matplotlib inline"
   ]
  },
  {
   "cell_type": "code",
   "execution_count": 11,
   "metadata": {},
   "outputs": [],
   "source": [
    "from mpmath import *"
   ]
  },
  {
   "cell_type": "code",
   "execution_count": 12,
   "metadata": {},
   "outputs": [],
   "source": [
    "mp.dps = 200; mp.pretty = True"
   ]
  },
  {
   "cell_type": "code",
   "execution_count": 13,
   "metadata": {},
   "outputs": [],
   "source": [
    "import numpy as np"
   ]
  },
  {
   "cell_type": "code",
   "execution_count": 14,
   "metadata": {},
   "outputs": [],
   "source": [
    "#import subprocess as s"
   ]
  },
  {
   "cell_type": "code",
   "execution_count": 15,
   "metadata": {},
   "outputs": [],
   "source": [
    "from multiprocessing import Pool\n",
    "#from time import time"
   ]
  },
  {
   "cell_type": "code",
   "execution_count": 16,
   "metadata": {},
   "outputs": [],
   "source": [
    "def speedup_array(f,array,procs=4): \n",
    "    pool = Pool(procs,maxtasksperchild=100).map(f, array)\n",
    "    result = np.array(list(pool))\n",
    "    return result"
   ]
  },
  {
   "cell_type": "markdown",
   "metadata": {},
   "source": [
    "## Neutrino oscillation and lepton data"
   ]
  },
  {
   "cell_type": "markdown",
   "metadata": {},
   "source": [
    "Neutrino benchmark is given by "
   ]
  },
  {
   "cell_type": "code",
   "execution_count": 17,
   "metadata": {},
   "outputs": [],
   "source": [
    "from OneLoopLFVHD.neutrinos import NuOscObservables\n",
    "Nudata = NuOscObservables"
   ]
  },
  {
   "cell_type": "code",
   "execution_count": 18,
   "metadata": {},
   "outputs": [],
   "source": [
    "m1 = mpf('1e-10')  #GeV \n",
    "\n",
    "#current values to Square mass differences\n",
    "d21 = mpf(str(Nudata.squareDm21.central))*mpf('1e-18')# factor to convert eV^2 to GeV^2\n",
    "d31 = mpf(str(Nudata.squareDm31.central))*mpf('1e-18')\n",
    "\n",
    "#d21 = 7.5e-5*1e-18\n",
    "#d31 = 2.457e-3*1e-18\n",
    "m2 = sqrt(m1**2 + d21)\n",
    "m3 = sqrt(m1**2 + d31)\n",
    "\n",
    "m4 = lambda m6: m6/3\n",
    "m5 = lambda m6: m6/2"
   ]
  },
  {
   "cell_type": "markdown",
   "metadata": {},
   "source": [
    "We calls from [Unu_seesaw.py](Unu_seesaw.py) the `diagonalizationMnu` function previously created to perform numerically the diagonalization of $6 \\times 6$ mass matrix. Here we choose which scenary for heavy neutrino we consider."
   ]
  },
  {
   "cell_type": "code",
   "execution_count": 19,
   "metadata": {},
   "outputs": [],
   "source": [
    "# from Unu_seesaw_ISS import diagonalizationMnu_ISS_svd as diagonalizationMnu\n",
    "from Unu_seesaw_ISS import diagonalizationMnu_ISS as diagonalizationMnu\n",
    "from Unu_seesaw_ISS import Mnu\n",
    "\n",
    "diagonalizationMnu1 = lambda MR,mux: diagonalizationMnu(\n",
    "    m1,m2,m3,MR,MR,MR,mux,mux,mux)\n"
   ]
  },
  {
   "cell_type": "code",
   "execution_count": 20,
   "metadata": {},
   "outputs": [
    {
     "name": "stdout",
     "output_type": "stream",
     "text": [
      "[(-9.94987e+6 + 0.0j), (-9.94969e+6 + 0.0j), (-9.94389e+6 + 0.0j), (-1.13173e-10 + 0.0j), (-1.01386e-10 + 0.0j), (-1.0101e-10 + 0.0j), (9.94389e+6 + 0.0j), (9.94969e+6 + 0.0j), (9.94987e+6 + 0.0j)]\n"
     ]
    }
   ],
   "source": [
    "mnk, UL,UR = diagonalizationMnu1(mp.mpf('1e7'),mp.mpf('1e-8'))#0.003908\n",
    "mp.nprint(mnk)"
   ]
  },
  {
   "cell_type": "markdown",
   "metadata": {},
   "source": [
    "We introduce the values to $g$, $m_W$, $m_h$ and leptons masses, which will be susbtitute in the simbolic expressions."
   ]
  },
  {
   "cell_type": "code",
   "execution_count": 21,
   "metadata": {},
   "outputs": [],
   "source": [
    "from OneLoopLFVHD.data import ml"
   ]
  },
  {
   "cell_type": "code",
   "execution_count": 24,
   "metadata": {},
   "outputs": [],
   "source": [
    "mh,ma,mb = symbols('m_h,m_a,m_b',real=True)\n",
    "v = mpf('174')\n",
    "valores ={mW:mpf('80.379'),mh:mpf('125.10'),g:(2*mpf('80.379'))/v}\n",
    "\n",
    "cambios_hab = lambda a,b:{lfvhd.ma:valores[mh],lfvhd.mi:ml[a],lfvhd.mj:ml[b]}"
   ]
  },
  {
   "cell_type": "markdown",
   "metadata": {},
   "source": [
    "## Diagrams with one fermion in the loop."
   ]
  },
  {
   "cell_type": "markdown",
   "metadata": {},
   "source": [
    "In the case of diagram with only one neutrino in the loop which are labeled by the index $i$. the diagrams are 8 which are stored in `TrianglesOneFermion` and `Bubbles` lists.To other side, we need to consider a summatory of 6 neutrino generation and the GIM mechanism. First we do a auxiliar simbolic substitutions related to the following code."
   ]
  },
  {
   "cell_type": "code",
   "execution_count": 25,
   "metadata": {},
   "outputs": [],
   "source": [
    "Ubi, Ucai,mni = symbols('U_{bi}, {{U_{ai}^*}},m_{n_i}')\n",
    "UnuOne = {mn[i]:mni,Uν[b,i]:Ubi,Uνc[a,i]:Ucai}"
   ]
  },
  {
   "cell_type": "markdown",
   "metadata": {},
   "source": [
    "A simple implementation to the GIM mechanism to any simbolic form factor"
   ]
  },
  {
   "cell_type": "code",
   "execution_count": 26,
   "metadata": {},
   "outputs": [],
   "source": [
    "def GIM_One(exp, fermion_mass):\n",
    "    '''\n",
    "    Function to apply the GIM mechanism in the form factors from diagrams with one neutrino in the loop \n",
    "    (This function is adapted only to this model seesaw and this notebook). \n",
    "    \n",
    "    input\n",
    "    ---------\n",
    "        exp: must be a form factor taken from a diagram of OneLoopLFVHD.\n",
    "    \n",
    "    Return\n",
    "    ---------\n",
    "        OneLoopLFVHD expresion (sympy expression): The output is the resultant form factor simplified by\n",
    "        the GIM mechanism, Only return the term which contains mni. \n",
    "    '''\n",
    "    from sympy import Add\n",
    "    args = exp.expand().args\n",
    "    func = exp.expand().func\n",
    "    if isinstance(func,Add):\n",
    "        exp_GIM = Add(*[t for t in args if t.has(fermion_mass)]).simplify()\n",
    "    else:\n",
    "        exp_GIM = exp\n",
    "    return exp_GIM"
   ]
  },
  {
   "cell_type": "markdown",
   "metadata": {},
   "source": [
    "When we create our numeric functions from symblic form factors we will sum over the neutrino generations by the function `sumOne`"
   ]
  },
  {
   "cell_type": "code",
   "execution_count": 27,
   "metadata": {},
   "outputs": [],
   "source": [
    "def sumOne(MR,mux,Aab,a,b): \n",
    "    '''\n",
    "    Function which sums over neutrino generation conidering the structure of Upmns matrix before calculated.\n",
    "    \n",
    "    Input\n",
    "    --------\n",
    "        m6 (float): the haviet mass\n",
    "        Aab: funtion asociated to form factor\n",
    "        a,b (int): indexes of leptons a,b=1,2 or 3\n",
    "        \n",
    "    Output\n",
    "    --------\n",
    "        out (float): numeric summation of the form factor over the 6 neutrino generations.\n",
    "    '''\n",
    "    mnk,UnuL,UnuR = diagonalizationMnu1(MR,mux)\n",
    "    Unu = UnuR\n",
    "    Unu_dagger = UnuL\n",
    "    FF = []\n",
    "    for k in range(1,10):\n",
    "        #A = Aab(mnk[k-1],Unu[b-1,k-1],conj(Unu[a-1,k-1]))\n",
    "        A = Aab(mnk[k-1],Unu[b-1,k-1],conj(Unu_dagger[k-1,a-1]))\n",
    "        #print('Ai = ',A)\n",
    "        FF.append(A)\n",
    "\n",
    "    # FF = [Aab(mnk[k-1],Unu[b-1,k-1],Unu_dagger[k-1,a-1]) for k in range(1,10)]\n",
    "\n",
    "    out = mp.fsum(FF)\n",
    "    return out\n"
   ]
  },
  {
   "cell_type": "markdown",
   "metadata": {},
   "source": [
    "Now, we build a main function to convert the symbolic form factor to numeric functions. This function is given below"
   ]
  },
  {
   "cell_type": "code",
   "execution_count": 28,
   "metadata": {},
   "outputs": [],
   "source": [
    "from OneLoopLFVHD.data import replaceBs, pave_functions # Auxiliary functions"
   ]
  },
  {
   "cell_type": "code",
   "execution_count": 29,
   "metadata": {},
   "outputs": [],
   "source": [
    "def FFOneFer_list(a,b):\n",
    "    \n",
    "    FFOneFer_list_L = []\n",
    "    FFOneFer_list_R = []\n",
    "\n",
    "    for Set in [TrianglesOneFermion,Bubbles]:\n",
    "        for dia in Set:\n",
    "            xL = dia.AL().subs(lfvhd.D,4).subs(lfvhd.B12_0(mW,mW),0\n",
    "                ).subs(cambios_hab(a,b)).subs(valores).subs(UnuOne)\n",
    "            xR = dia.AR().subs(lfvhd.D,4).subs(lfvhd.B12_0(mW,mW),0\n",
    "                ).subs(cambios_hab(a,b)).subs(valores).subs(UnuOne)\n",
    "\n",
    "            fL = lambdify([mni,Ubi,Ucai],# depends on three parameters\n",
    "                            replaceBs(xL), # replace B function by auxiliary functions which do not has problembs in lambdify\n",
    "                            modules=[pave_functions(valores[mh],a,b,lib='mpmath'),'mpmath']\n",
    "                        ) #numeric Form factor\n",
    "\n",
    "            fR = lambdify([mni,Ubi,Ucai],# depends on three parameters\n",
    "                            replaceBs(xR), # replace B function by auxiliary functions which do not has problembs in lambdify\n",
    "                            modules=[pave_functions(valores[mh],a,b,lib='mpmath'),'mpmath']\n",
    "                        ) #numeric Form factor\n",
    "            #print(f(1,2,3))\n",
    "            #fsum = lambda m6:sumOne(m6,f,a,b)\n",
    "            FFOneFer_list_L.append(fL)\n",
    "            FFOneFer_list_R.append(fR)\n",
    "\n",
    "    return FFOneFer_list_L, FFOneFer_list_R\n",
    "\n",
    "FFOneFer_list_L_23, FFOneFer_list_R_23 = FFOneFer_list(2,3) \n",
    "FFOneFer_list_L_13, FFOneFer_list_R_13 = FFOneFer_list(1,3) \n",
    "FFOneFer_list_L_12, FFOneFer_list_R_12 = FFOneFer_list(1,2) \n",
    "\n"
   ]
  },
  {
   "cell_type": "code",
   "execution_count": 30,
   "metadata": {},
   "outputs": [],
   "source": [
    "def numeric_sum_diagramsOne(FF_L_list,FF_R_list,a,b):\n",
    "    '''\n",
    "    This function create a function which only depends on m6 and represent the sum of all form factors\n",
    "    associated to diagrams with one fermion in the loop and also considering the 6 neutrino generations.\n",
    "    \n",
    "    Input\n",
    "    ---------\n",
    "        a,b (int): indexes of leptons, a,b = 1,2 or 3\n",
    "        quirality (string): represents the chirality of the diagrams, it can be L or R:\n",
    "        \n",
    "    Output:\n",
    "        sum_over_index_i (function): returns the function which represent the sum of all diagrams and \n",
    "        over the neutrino index i. This function only depends on m6.\n",
    "    '''\n",
    "    #[TrianglesOneFermion[0],TrianglesOneFermion[1],TrianglesOneFermion[2]],\n",
    "    #[bubbleniG,bubbleGni]\n",
    "    \n",
    "    def sum_over_index_i(MR,mux):\n",
    "        #     outL = []\n",
    "        #     outR = []\n",
    "        #xs = []\n",
    "        # for FFabL in FF_L_list:\n",
    "        #     FF_sum_over_iL = sumOne(MR,mux,FFabL,a,b) # sum over neutrino generations\n",
    "        #     outL.append(FF_sum_over_iL)\n",
    "\n",
    "        outL = [sumOne(MR,mux,FFabL,a,b) for FFabL in FF_L_list]\n",
    "        #outL = map(lambda FFabL: sumOne(MR,mux,FFabL,a,b) ,FF_L_list)\n",
    "\n",
    "\n",
    "        # for FFabR in FF_R_list:\n",
    "        #     FF_sum_over_iR = sumOne(MR,mux,FFabR,a,b) # sum over neutrino generations\n",
    "        #     outR.append(FF_sum_over_iR)\n",
    "\n",
    "        outR = [sumOne(MR,mux,FFabR,a,b) for FFabR in FF_R_list]\n",
    "        #outR = map(lambda FFabR: sumOne(MR,mux,FFabR,a,b) ,FF_R_list)\n",
    "\n",
    "        return mp.fsum(outL), mp.fsum(outR)\n",
    "    return sum_over_index_i\n"
   ]
  },
  {
   "cell_type": "code",
   "execution_count": 31,
   "metadata": {},
   "outputs": [
    {
     "name": "stdout",
     "output_type": "stream",
     "text": [
      "((-448.659 + 0.0j), (-7545.0 + 0.0j))\n"
     ]
    }
   ],
   "source": [
    "nprint(\n",
    "numeric_sum_diagramsOne(FFOneFer_list_L_23, FFOneFer_list_R_23,2,3)(1e7,1e-8)\n",
    ")"
   ]
  },
  {
   "cell_type": "code",
   "execution_count": 32,
   "metadata": {},
   "outputs": [],
   "source": [
    "def AOneTot23(MR,mux):\n",
    "    AL, AR = numeric_sum_diagramsOne(FFOneFer_list_L_23, FFOneFer_list_R_23,2,3)(MR,mux)\n",
    "    return AL, AR\n",
    "\n",
    "def AOneTot13(MR,mux):\n",
    "    AL, AR = numeric_sum_diagramsOne(FFOneFer_list_L_13, FFOneFer_list_R_13,1,3)(MR,mux)\n",
    "    return AL, AR\n",
    "\n",
    "\n",
    "def AOneTot12(MR,mux):\n",
    "    AL, AR = numeric_sum_diagramsOne(FFOneFer_list_L_12, FFOneFer_list_R_12,1,2)(MR,mux)\n",
    "    return AL, AR"
   ]
  },
  {
   "cell_type": "code",
   "execution_count": 31,
   "metadata": {},
   "outputs": [
    {
     "name": "stdout",
     "output_type": "stream",
     "text": [
      "3.33328e-10\n"
     ]
    }
   ],
   "source": [
    "aL,aR = AOneTot23(10,1e-8)\n",
    "nprint(chop(aL - aR))"
   ]
  },
  {
   "cell_type": "markdown",
   "metadata": {},
   "source": [
    "Now to plot we choose the interval $m_{n_6} \\in [10^{-1},10^{15}]$"
   ]
  },
  {
   "cell_type": "code",
   "execution_count": 32,
   "metadata": {},
   "outputs": [],
   "source": [
    "n = 20\n",
    "expmp = linspace(-1,15,n)\n",
    "MRnp = np.array([mpf('10.0')**k for k in expmp])#np.logspace(-1,15,n)"
   ]
  },
  {
   "cell_type": "markdown",
   "metadata": {},
   "source": [
    "Now, we evaluate our form factor numeric function in the chose interval. To do a faster evaluation we use `speedup_array` function"
   ]
  },
  {
   "cell_type": "code",
   "execution_count": 28,
   "metadata": {},
   "outputs": [
    {
     "name": "stdout",
     "output_type": "stream",
     "text": [
      "CPU times: user 732 ms, sys: 333 ms, total: 1.07 s\n",
      "Wall time: 5min 48s\n"
     ]
    }
   ],
   "source": [
    "%%time\n",
    "mux=mpf('1e-8')\n",
    "def AOneTot23_mux1(MR): return AOneTot23(MR,mux)\n",
    "YOne23 = speedup_array(AOneTot23_mux1,MRnp)\n",
    "\n",
    "def AOneTot13_mux1(MR): return AOneTot13(MR,mux)\n",
    "YOne13 = speedup_array(AOneTot13_mux1,MRnp)\n",
    "\n",
    "def AOneTot12_mux1(MR): return AOneTot12(MR,mux)\n",
    "YOne12 = speedup_array(AOneTot12_mux1,MRnp)"
   ]
  },
  {
   "cell_type": "markdown",
   "metadata": {},
   "source": [
    "Finalli we can plot the behavior of the sum of form factor for diagrams with one fermion."
   ]
  },
  {
   "cell_type": "code",
   "execution_count": 55,
   "metadata": {},
   "outputs": [
    {
     "data": {
      "text/plain": [
       "<matplotlib.legend.Legend at 0x7fa65c189850>"
      ]
     },
     "execution_count": 55,
     "metadata": {},
     "output_type": "execute_result"
    },
    {
     "data": {
      "image/png": "[encoded data removed]",
      "text/plain": [
       "<Figure size 1080x576 with 1 Axes>"
      ]
     },
     "metadata": {
      "needs_background": "light"
     },
     "output_type": "display_data"
    }
   ],
   "source": [
    "plt.figure(figsize=(15,8))\n",
    "plt.loglog(np.real(MRnp),abs(YOne23[:,0])**2,'-.',label='$A_L^{(1)}(2,3)$')\n",
    "#plt.loglog(np.real(m6np),abs(YLOne32)**2,'--',label='$A_L^{(1)}(3,2)$')\n",
    "\n",
    "plt.loglog(np.real(MRnp),abs(YOne13[:,0])**2,'-',label='$A_L^{(1)}(1,3)$')\n",
    "#plt.loglog(np.real(m6np),abs(YLOne31)**2,'--',label='$A_L^{(1)}(3,1)$')\n",
    "\n",
    "plt.loglog(np.real(MRnp),abs(YOne12[:,0])**2,'-.',label='$A_L^{(1)}(1,2)$')\n",
    "#plt.loglog(np.real(m6np),abs(YLOne21)**2,'--',label='$A_L^{(1)}(2,1)$')\n",
    "plt.xticks(fontsize=15)\n",
    "plt.yticks(fontsize=15)\n",
    "\n",
    "plt.legend(fontsize=15)"
   ]
  },
  {
   "cell_type": "markdown",
   "metadata": {},
   "source": [
    "## Form factor with two fermion in the loop."
   ]
  },
  {
   "cell_type": "markdown",
   "metadata": {},
   "source": [
    "In this case we only have 2 diagrams stored in `TrianglesTwoFermion` list. In this case we have two neutrino indexes $i$ and $j$.Then, we have a doble summatory in this case.  First we do an auxiliar simbolic substitutions related to the following code"
   ]
  },
  {
   "cell_type": "code",
   "execution_count": 33,
   "metadata": {},
   "outputs": [
    {
     "data": {
      "image/png": "[encoded data removed]",
      "text/latex": [
       "$\\displaystyle \\left\\{ {C}_{i,j} : C_{ij}, \\  {{{C^*}}}_{i,j} : {{C_{ij}^*}}, \\  {{{U^\\nu}}}_{b,j} : U_{bj}, \\  {{{U^{\\nu *}}}}_{a,i} : {{U_{ai}^*}}, \\  {{{m_n}}}_{i} : m_{n_i}, \\  {{{m_n}}}_{j} : m_{n_j}\\right\\}$"
      ],
      "text/plain": [
       "{C[i, j]: C_{ij}, {{C^*}}[i, j]: {{C_{ij}__*}}, {{U^\\nu}}[b, j]: U_{bj}, {{U^{\n",
       "\\nu *}}}[a, i]: {{U_{ai}__*}}, {{m_n}}[i]: m_{n_i}, {{m_n}}[j]: m_{n_j}}"
      ]
     },
     "execution_count": 33,
     "metadata": {},
     "output_type": "execute_result"
    }
   ],
   "source": [
    "mnj = symbols('m_{n_j}',positive=True)\n",
    "Cijs, Cijcs, Ubj = symbols('C_{ij}, {{C_{ij}^*}},U_{bj}')\n",
    "UnuTwo = {mn[i]:mni,mn[jj]:mnj,C[i,jj]:Cijs, Cc[i,jj]:Cijcs, Uν[b,jj]:Ubj, Uνc[a,i]:Ucai}\n",
    "UnuTwo"
   ]
  },
  {
   "cell_type": "code",
   "execution_count": 34,
   "metadata": {},
   "outputs": [],
   "source": [
    "fsL = lambda k,a,b:TrianglesTwoFermion[k].AL().subs(lfvhd.D,4).subs(cambios_hab(a,b)).subs(valores).subs(UnuTwo)\n",
    "fsR = lambda k,a,b:TrianglesTwoFermion[k].AR().subs(lfvhd.D,4).subs(cambios_hab(a,b)).subs(valores).subs(UnuTwo)"
   ]
  },
  {
   "cell_type": "code",
   "execution_count": 35,
   "metadata": {},
   "outputs": [],
   "source": [
    "fL = lambda k,a,b:lambdify([mni,mnj,Ubj,Ucai,Cijs,Cijcs],replaceBs(fsL(k,a,b)),\n",
    "                     modules=[pave_functions(valores[mh],a,b,lib='mpmath'),'mpmath'] )\n",
    "fR = lambda k,a,b:lambdify([mni,mnj,Ubj,Ucai,Cijs,Cijcs],replaceBs(fsR(k,a,b)),\n",
    "                     modules=[pave_functions(valores[mh],a,b,lib='mpmath'),'mpmath'] )"
   ]
  },
  {
   "cell_type": "code",
   "execution_count": 67,
   "metadata": {},
   "outputs": [
    {
     "name": "stdout",
     "output_type": "stream",
     "text": [
      "(-2.7248e-7 + 1.6352e-7j)\n"
     ]
    }
   ],
   "source": [
    "nprint(chop(fL(0,2,3)(1,2,3,4,5,6)))"
   ]
  },
  {
   "cell_type": "markdown",
   "metadata": {},
   "source": [
    "Now, we do a function to do the doble summatory on the neutrino generetions"
   ]
  },
  {
   "cell_type": "code",
   "execution_count": 36,
   "metadata": {},
   "outputs": [],
   "source": [
    "def sumatwo(MR,mux,k,a,b,quirality='L'):\n",
    "    xs = []\n",
    "    if quirality=='L':\n",
    "        g = fL(k,a,b)\n",
    "    elif quirality=='R':\n",
    "        g = fR(k,a,b)\n",
    "    else:\n",
    "        raise ValueError('quirality must be L or R')\n",
    "        \n",
    "    mnk,UnuL,UnuR = diagonalizationMnu1(MR,mux)\n",
    "    Unu = UnuR\n",
    "    Unu_dagger = UnuL\n",
    "    #Cij = lambda i,j: mp.fsum([Unu[c,i]*conj(Unu[c,j]) for c in range(3)])\n",
    "    Cij = lambda i,j: mp.fsum([Unu[c,i]*Unu_dagger[j,c] for c in range(3)])\n",
    "    \n",
    "    # for p in range(1,10):\n",
    "    #     for q in range(1,10):\n",
    "    #         #x = g(\n",
    "    #         # mnk[p-1],mnk[q-1],Unu[b-1,q-1],conj(Unu[a-1,p-1]),\n",
    "    #         # Cij(p-1,q-1),conj(Cij(p-1,q-1))\n",
    "    #         # )\n",
    "    #         x = g(\n",
    "    #             mnk[p-1],mnk[q-1],Unu[b-1,q-1],Unu_dagger[p-1,a-1],\n",
    "    #             Cij(p-1,q-1),conj(Cij(p-1,q-1))\n",
    "    #             )\n",
    "    #         xs.append(x)\n",
    "    \n",
    "    x = [\n",
    "        g(\n",
    "            mnk[p-1],mnk[q-1],Unu[b-1,q-1],conj(Unu_dagger[p-1,a-1]),\n",
    "                Cij(p-1,q-1),conj(Cij(p-1,q-1))\n",
    "                ) for q in range(1,10) for p in range(1,10)\n",
    "        ]\n",
    "    return mp.fsum(xs)"
   ]
  },
  {
   "cell_type": "markdown",
   "metadata": {},
   "source": [
    "Then the total contribution of the diagrams with two fermions in the loop is given by"
   ]
  },
  {
   "cell_type": "code",
   "execution_count": 37,
   "metadata": {},
   "outputs": [],
   "source": [
    "def totaltwo(MR,mux,a,b,quirality='L'):\n",
    "    return sumatwo(MR,mux,0,a,b,quirality)  + sumatwo(MR,mux,1,a,b,quirality)"
   ]
  },
  {
   "cell_type": "code",
   "execution_count": 38,
   "metadata": {},
   "outputs": [],
   "source": [
    "ALTwoTot23 = lambda MR,mux: totaltwo(MR,mux,2,3,'L')\n",
    "ARTwoTot23 = lambda MR,mux: totaltwo(MR,mux,2,3,'R')\n",
    "\n",
    "# ALTwoTot32 = lambda m6: totaltwo(m6,3,2,'L')\n",
    "# ARTwoTot32 = lambda m6: totaltwo(m6,3,2,'R')\n",
    "\n",
    "ALTwoTot13 = lambda MR,mux: totaltwo(MR,mux,1,3,'L')\n",
    "ARTwoTot13 = lambda MR,mux: totaltwo(MR,mux,1,3,'R')\n",
    "\n",
    "# ALTwoTot31 = lambda m6: totaltwo(m6,3,1,'L')\n",
    "# ARTwoTot31 = lambda m6: totaltwo(m6,3,1,'R')\n",
    "\n",
    "ALTwoTot12 = lambda MR,mux: totaltwo(MR,mux,1,2,'L')\n",
    "ARTwoTot12 = lambda MR,mux: totaltwo(MR,mux,1,2,'R')\n",
    "\n",
    "# ALTwoTot21 = lambda m6: totaltwo(m6,2,1,'L')\n",
    "# ARTwoTot21 = lambda m6: totaltwo(m6,2,1,'R')"
   ]
  },
  {
   "cell_type": "code",
   "execution_count": 38,
   "metadata": {},
   "outputs": [],
   "source": [
    "#abs(ALTwoTot23(m6np[-1])),abs(sumatwo(m6np[-1],0,2,3,'L')+ sumatwo(m6np[-1],1,2,3,'L'))"
   ]
  },
  {
   "cell_type": "markdown",
   "metadata": {},
   "source": [
    "## Total Form Factors"
   ]
  },
  {
   "cell_type": "markdown",
   "metadata": {},
   "source": [
    "Finally, if we sum the contribution of one and two fermions, we obtain the total fomr factors given as follows"
   ]
  },
  {
   "cell_type": "code",
   "execution_count": 39,
   "metadata": {},
   "outputs": [],
   "source": [
    "mux0 = mpf('1e-7')\n",
    "\n",
    "#a = 2, b = 3\n",
    "def Atot23(MR,mux=mux0):\n",
    "    ALOne,AROne = AOneTot23(MR,mux)\n",
    "    AL = ALOne + ALTwoTot23(MR,mux)\n",
    "    AR = AROne + ARTwoTot23(MR,mux)\n",
    "    return AL, AR\n",
    "\n",
    "\n",
    "#a = 1, b = 3\n",
    "def Atot13(MR,mux=mux0):\n",
    "    ALOne,AROne = AOneTot13(MR,mux)\n",
    "    AL = ALOne + ALTwoTot13(MR,mux)\n",
    "    AR = AROne + ARTwoTot13(MR,mux)\n",
    "    return AL, AR\n",
    "\n",
    "\n",
    "#a = 1, b = 2\n",
    "def Atot12(MR,mux=mux0):\n",
    "    ALOne,AROne = AOneTot12(MR,mux)\n",
    "    AL = ALOne + ALTwoTot12(MR,mux)\n",
    "    AR = AROne + ARTwoTot12(MR,mux)\n",
    "    return AL, AR\n"
   ]
  },
  {
   "cell_type": "markdown",
   "metadata": {},
   "source": [
    "## Width decay of $h \\to e_a e_b$"
   ]
  },
  {
   "cell_type": "markdown",
   "metadata": {},
   "source": [
    "As we know the width decay of the decay $h \\to e_a e_b$ depends on the total left and right form factors ,and the masses of the higgs and the leptons. However we have this definition our library, then,"
   ]
  },
  {
   "cell_type": "code",
   "execution_count": 40,
   "metadata": {},
   "outputs": [],
   "source": [
    "Γhlilj = lfvhd.Γhlilj"
   ]
  },
  {
   "cell_type": "code",
   "execution_count": 41,
   "metadata": {},
   "outputs": [],
   "source": [
    "def Γhl2l3(MR):\n",
    "    AL, AR = Atot23(MR) \n",
    "    return Γhlilj(AL,AR,valores[mh],ml[2],ml[3])\n",
    "\n",
    "def Γhl1l3(MR):\n",
    "    AL, AR = Atot13(MR) \n",
    "    return Γhlilj(AL,AR,valores[mh],ml[1],ml[3])\n",
    "\n",
    "def Γhl1l2(MR):\n",
    "    AL, AR = Atot12(MR) \n",
    "    return Γhlilj(AL,AR,valores[mh],ml[1],ml[2])"
   ]
  },
  {
   "cell_type": "markdown",
   "metadata": {},
   "source": [
    "As we show before the width decay of $h \\to e_a e_b$ to a specific chanel depends only on $m_{n_6}$. remeber that we are consider the interval for the heavies neutrino mass $m_{n_6} \\in [10^{-1}, 10^{15}]$."
   ]
  },
  {
   "cell_type": "code",
   "execution_count": 42,
   "metadata": {},
   "outputs": [],
   "source": [
    "n = 100\n",
    "expmp = linspace(-1,7,n)\n",
    "MRnp = np.array([mpf('10.0')**k for k in expmp])#np.logspace(-1,15,n)\n",
    "# MRnp = linspace(1e2,1e7,n)"
   ]
  },
  {
   "cell_type": "markdown",
   "metadata": {},
   "source": [
    "Then, we evaluate the widths in this range"
   ]
  },
  {
   "cell_type": "code",
   "execution_count": 43,
   "metadata": {},
   "outputs": [
    {
     "name": "stdout",
     "output_type": "stream",
     "text": [
      "CPU times: user 15.7 s, sys: 4.85 s, total: 20.5 s\n",
      "Wall time: 4h 44min 54s\n"
     ]
    }
   ],
   "source": [
    "%%time\n",
    "YW23 = speedup_array(Γhl2l3,MRnp)\n",
    "#YW32 = speedup_array(Γhl3l2,m6np)\n",
    "\n",
    "YW13 = speedup_array(Γhl1l3,MRnp)\n",
    "#YW31 = speedup_array(Γhl3l1,m6np)\n",
    "\n",
    "YW12 = speedup_array(Γhl1l2,MRnp)\n",
    "\n",
    "#YW21 = speedup_array(Γhl2l1,m6np)"
   ]
  },
  {
   "cell_type": "markdown",
   "metadata": {},
   "source": [
    "We calculate the total width as follows"
   ]
  },
  {
   "cell_type": "code",
   "execution_count": 44,
   "metadata": {},
   "outputs": [],
   "source": [
    "WidthSM = 0.0032 #GeV\n",
    "Wtot = YW23 + YW13 + YW12 + WidthSM# + YW32 + YW31 + YW21"
   ]
  },
  {
   "cell_type": "markdown",
   "metadata": {},
   "source": [
    "## Plot"
   ]
  },
  {
   "cell_type": "markdown",
   "metadata": {},
   "source": [
    "Finally, we plot the branchig ratios of each channel as follows "
   ]
  },
  {
   "cell_type": "code",
   "execution_count": 45,
   "metadata": {},
   "outputs": [
    {
     "data": {
      "text/plain": [
       "<matplotlib.legend.Legend at 0x7f2e0d1165d0>"
      ]
     },
     "execution_count": 45,
     "metadata": {},
     "output_type": "execute_result"
    },
    {
     "data": {
      "image/png": "[encoded data removed]",
      "text/plain": [
       "<Figure size 1080x576 with 1 Axes>"
      ]
     },
     "metadata": {
      "needs_background": "light"
     },
     "output_type": "display_data"
    }
   ],
   "source": [
    "plt.figure(figsize=(15,8))\n",
    "plt.loglog(np.real(MRnp),(YW23 #+ YW32\n",
    "                         )/Wtot,label=r'Br($h \\to \\mu \\tau$)')\n",
    "plt.loglog(np.real(MRnp),(YW13 #+ YW31\n",
    "                         )/Wtot,label=r'Br($h \\to e \\tau$)')\n",
    "plt.loglog(np.real(MRnp),(YW12 #+ YW21\n",
    "                         )/Wtot,label=r'Br($h \\to e \\mu$)')\n",
    "\n",
    "plt.xticks(fontsize=18)\n",
    "plt.yticks(fontsize=18)\n",
    "\n",
    "plt.xlabel('$M_R$[GeV]',fontsize=20)\n",
    "plt.legend(fontsize=18)"
   ]
  },
  {
   "cell_type": "markdown",
   "metadata": {},
   "source": [
    "## Import data"
   ]
  },
  {
   "cell_type": "code",
   "execution_count": 46,
   "metadata": {},
   "outputs": [],
   "source": [
    "import pandas as pd"
   ]
  },
  {
   "cell_type": "code",
   "execution_count": 79,
   "metadata": {},
   "outputs": [],
   "source": [
    "df = pd.DataFrame({'MR':MRnp,\n",
    "                   'Whl2l3':YW23,\n",
    "                   #'Whl3l2':YW32,\n",
    "                   'Whl1l3':YW13,\n",
    "                   #'Whl3l1':YW31,\n",
    "                   'Whl1l2':YW12})\n",
    "                   #'Whl2l1':YW21})"
   ]
  },
  {
   "cell_type": "code",
   "execution_count": 80,
   "metadata": {},
   "outputs": [],
   "source": [
    "df.to_csv('LFVHD-3_ISS.txt',sep='\\t')"
   ]
  },
  {
   "cell_type": "code",
   "execution_count": 81,
   "metadata": {},
   "outputs": [
    {
     "data": {
      "text/plain": [
       "[<matplotlib.lines.Line2D at 0x7fe3347a5fd0>]"
      ]
     },
     "execution_count": 81,
     "metadata": {},
     "output_type": "execute_result"
    },
    {
     "data": {
      "image/png": "[encoded data removed]",
      "text/plain": [
       "<Figure size 432x288 with 1 Axes>"
      ]
     },
     "metadata": {
      "needs_background": "light"
     },
     "output_type": "display_data"
    }
   ],
   "source": [
    "plt.semilogy(np.array(list(map(mpf,df['Whl2l3']))))"
   ]
  },
  {
   "cell_type": "code",
   "execution_count": null,
   "metadata": {},
   "outputs": [],
   "source": []
  }
 ],
 "metadata": {
  "interpreter": {
   "hash": "b921add2b647b46a0162d3f3de9ecdc25418a02eed44d89fb52e720252ea5280"
  },
  "kernelspec": {
   "display_name": "Python 3.7.6 ('base')",
   "language": "python",
   "name": "python3"
  },
  "language_info": {
   "codemirror_mode": {
    "name": "ipython",
    "version": 3
   },
   "file_extension": ".py",
   "mimetype": "text/x-python",
   "name": "python",
   "nbconvert_exporter": "python",
   "pygments_lexer": "ipython3",
   "version": "3.7.6"
  },
  "toc-autonumbering": true
 },
 "nbformat": 4,
 "nbformat_minor": 4
}
