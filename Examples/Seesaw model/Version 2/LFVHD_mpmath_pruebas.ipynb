{
 "cells": [
  {
   "cell_type": "markdown",
   "metadata": {},
   "source": [
    "# LFV Higgs decays in SeeSaw model ( Thao et al results) First numeric results no compatibles con seesaw new discussions."
   ]
  },
  {
   "cell_type": "markdown",
   "metadata": {},
   "source": [
    "## In this notebook we use the mpmath implementations of PaVe functions"
   ]
  },
  {
   "cell_type": "code",
   "execution_count": 1,
   "metadata": {},
   "outputs": [],
   "source": [
    "from sympy import init_printing, Symbol,lambdify, symbols, Matrix\n",
    "init_printing()\n",
    "import OneLoopLFVHD as lfvhd"
   ]
  },
  {
   "cell_type": "code",
   "execution_count": 2,
   "metadata": {},
   "outputs": [],
   "source": [
    "from seesaw_FF import TrianglesOneFermion, TrianglesTwoFermion, Bubbles,DiagramsOneFermionW, DiagramsOneFermionG\n",
    "from seesaw_FF import g, mW, Uν, Uνc, mn, m, C, Cc, a,b,i,j,h\n",
    "from seesaw_FF import j as jj"
   ]
  },
  {
   "cell_type": "code",
   "execution_count": 3,
   "metadata": {},
   "outputs": [],
   "source": [
    "import matplotlib.pyplot as plt\n",
    "%matplotlib inline"
   ]
  },
  {
   "cell_type": "code",
   "execution_count": 4,
   "metadata": {},
   "outputs": [],
   "source": [
    "from mpmath import *"
   ]
  },
  {
   "cell_type": "code",
   "execution_count": 84,
   "metadata": {},
   "outputs": [],
   "source": [
    "mp.dps = 30; mp.pretty = True"
   ]
  },
  {
   "cell_type": "code",
   "execution_count": 6,
   "metadata": {},
   "outputs": [],
   "source": [
    "import numpy as np"
   ]
  },
  {
   "cell_type": "code",
   "execution_count": 7,
   "metadata": {},
   "outputs": [],
   "source": [
    "import subprocess as s"
   ]
  },
  {
   "cell_type": "code",
   "execution_count": 8,
   "metadata": {},
   "outputs": [],
   "source": [
    "from multiprocessing import Pool\n",
    "from time import time"
   ]
  },
  {
   "cell_type": "code",
   "execution_count": 9,
   "metadata": {},
   "outputs": [],
   "source": [
    "def speedup_array(f,array,procs=4): \n",
    "    pool = Pool(procs,maxtasksperchild=100).map(f, array)\n",
    "    result = np.array(list(pool))\n",
    "    return result"
   ]
  },
  {
   "cell_type": "markdown",
   "metadata": {},
   "source": [
    "## Numeric implementation of form factors"
   ]
  },
  {
   "cell_type": "markdown",
   "metadata": {},
   "source": [
    "**Neutrino benchmark** is given by "
   ]
  },
  {
   "cell_type": "code",
   "execution_count": 10,
   "metadata": {},
   "outputs": [],
   "source": [
    "from OneLoopLFVHD.neutrinos import NuOscObservables\n",
    "Nudata = NuOscObservables"
   ]
  },
  {
   "cell_type": "code",
   "execution_count": 11,
   "metadata": {},
   "outputs": [],
   "source": [
    "m1 = mpf('1e-12')  #GeV \n",
    "\n",
    "#current values to Square mass differences\n",
    "d21 = mpf(str(Nudata.squareDm21.central))*mpf('1e-18')# factor to convert eV^2 to GeV^2\n",
    "d31 = mpf(str(Nudata.squareDm31.central))*mpf('1e-18')\n",
    "\n",
    "#d21 = 7.5e-5*1e-18\n",
    "#d31 = 2.457e-3*1e-18\n",
    "m2 = sqrt(m1**2 + d21)\n",
    "m3 = sqrt(m1**2 + d31)\n",
    "\n",
    "m4 = lambda m6: m6/3\n",
    "m5 = lambda m6: m6/2"
   ]
  },
  {
   "cell_type": "markdown",
   "metadata": {},
   "source": [
    "### Form factor with one fermion in the loop."
   ]
  },
  {
   "cell_type": "markdown",
   "metadata": {},
   "source": [
    "#### AL one fermion "
   ]
  },
  {
   "cell_type": "code",
   "execution_count": 12,
   "metadata": {},
   "outputs": [],
   "source": [
    "from OneLoopLFVHD.data import ml"
   ]
  },
  {
   "cell_type": "code",
   "execution_count": 13,
   "metadata": {},
   "outputs": [],
   "source": [
    "mh,ma,mb = symbols('m_h,m_a,m_b',real=True)\n",
    "valores ={mW:mpf('80.379'),mh:mpf('125.10'),g:(2*mpf('80.379'))/mpf('246')}\n",
    "\n",
    "cambios_hab = lambda a,b:{lfvhd.ma:valores[mh],lfvhd.mi:ml[a],lfvhd.mj:ml[b]}\n",
    "\n",
    "\n",
    "Ubi, Ucai,mni = symbols('U_{bi}, {{U_{ai}^*}},m_{n_i}')\n",
    "UnuOne = {mn[i]:mni,Uν[b,i]:Ubi,Uνc[a,i]:Ucai}\n",
    "\n",
    "from Unu_seesaw import Upmns_mp\n",
    "from Unu_seesaw import Unump as Unu # no mixing\n",
    "from Unu_seesaw import Cijmp as Cij # no mixing"
   ]
  },
  {
   "cell_type": "code",
   "execution_count": 14,
   "metadata": {},
   "outputs": [],
   "source": [
    "from OneLoopLFVHD.data import replaceBs, pave_functions"
   ]
  },
  {
   "cell_type": "code",
   "execution_count": 15,
   "metadata": {},
   "outputs": [],
   "source": [
    "Diagramas = TrianglesTwoFermion + TrianglesOneFermion + Bubbles"
   ]
  },
  {
   "cell_type": "code",
   "execution_count": 16,
   "metadata": {},
   "outputs": [],
   "source": [
    "from sympy import Add\n",
    "def GIM_One(exp):\n",
    "    args = exp.expand().args\n",
    "    func = exp.expand().func\n",
    "    if isinstance(func,Add):\n",
    "        print('func = Add')\n",
    "        X = Add(*[t for t in args if t.has(mn[i])]).simplify()\n",
    "    else:\n",
    "        print('func no es Add')\n",
    "        X = exp\n",
    "    return X#mni**2*X1[mni**2]"
   ]
  },
  {
   "cell_type": "code",
   "execution_count": 17,
   "metadata": {},
   "outputs": [],
   "source": [
    "def sumOne(m6,Aab,aa,bb): \n",
    "    mnk = [m1,m2,m3,m6/3,m6/2,m6]\n",
    "    AL = []\n",
    "    for k in range(1,7):\n",
    "        A = Aab(mnk[k-1],Unu(m1,m6,bb,k),conj(Unu(m1,m6,aa,k)))\n",
    "        #print('Ai = ',A)\n",
    "        AL.append(A)\n",
    "    return mp.fsum(AL)\n"
   ]
  },
  {
   "cell_type": "code",
   "execution_count": 40,
   "metadata": {},
   "outputs": [
    {
     "name": "stdout",
     "output_type": "stream",
     "text": [
      "****************************************************************************************************\n"
     ]
    },
    {
     "data": {
      "image/png": "[encoded data removed]",
      "text/latex": [
       "$\\displaystyle - \\frac{0.000716400661819214 U_{bi} {{U_{ai}^*}} \\operatorname{C_{1}}{\\left(m_{n_i},80.379,80.379 \\right)}}{\\pi^{2}}$"
      ],
      "text/plain": [
       "-0.000716400661819214⋅U_{bi}⋅{{U_{ai}__*}}⋅C₁(m_{n_i}, 80.379, 80.379) \n",
       "───────────────────────────────────────────────────────────────────────\n",
       "                                    2                                  \n",
       "                                   π                                   "
      ]
     },
     "metadata": {},
     "output_type": "display_data"
    },
    {
     "name": "stdout",
     "output_type": "stream",
     "text": [
      "****************************************************************************************************\n"
     ]
    },
    {
     "data": {
      "image/png": "[encoded data removed]",
      "text/latex": [
       "$\\displaystyle \\frac{U_{bi} {{U_{ai}^*}} \\left(- 2.77211210600271 \\cdot 10^{-8} m_{n_i}^{2} \\left(\\operatorname{C_{0}}{\\left(m_{n_i},80.379,80.379 \\right)} + \\operatorname{C_{1}}{\\left(m_{n_i},80.379,80.379 \\right)}\\right) + 1.75043991012195 \\cdot 10^{-7} \\operatorname{C_{1}}{\\left(m_{n_i},80.379,80.379 \\right)} - 8.75219955060975 \\cdot 10^{-8} \\operatorname{C_{2}}{\\left(m_{n_i},80.379,80.379 \\right)}\\right)}{\\pi^{2}}$"
      ],
      "text/plain": [
       "                     ⎛                             2                          \n",
       "U_{bi}⋅{{U_{ai}__*}}⋅⎝- 2.77211210600271e-8⋅m_{n_i} ⋅(C₀(m_{n_i}, 80.379, 80.3\n",
       "──────────────────────────────────────────────────────────────────────────────\n",
       "                                                                              \n",
       "                                                                              \n",
       "\n",
       "                                                                              \n",
       "79) + C₁(m_{n_i}, 80.379, 80.379)) + 1.75043991012195e-7⋅C₁(m_{n_i}, 80.379, 8\n",
       "──────────────────────────────────────────────────────────────────────────────\n",
       "                             2                                                \n",
       "                            π                                                 \n",
       "\n",
       "                                                        ⎞\n",
       "0.379) - 8.75219955060975e-8⋅C₂(m_{n_i}, 80.379, 80.379)⎠\n",
       "─────────────────────────────────────────────────────────\n",
       "                                                         \n",
       "                                                         "
      ]
     },
     "metadata": {},
     "output_type": "display_data"
    },
    {
     "name": "stdout",
     "output_type": "stream",
     "text": [
      "****************************************************************************************************\n"
     ]
    },
    {
     "data": {
      "image/png": "[encoded data removed]",
      "text/latex": [
       "$\\displaystyle \\frac{1.0 U_{bi} {{U_{ai}^*}} \\left(8.31633631800812 \\cdot 10^{-8} m_{n_i}^{2} \\operatorname{C_{0}}{\\left(m_{n_i},80.379,80.379 \\right)} - 2.77211210600271 \\cdot 10^{-8} m_{n_i}^{2} \\operatorname{C_{1}}{\\left(m_{n_i},80.379,80.379 \\right)} - 1.44771337046306 \\cdot 10^{-14} \\operatorname{C_{1}}{\\left(m_{n_i},80.379,80.379 \\right)} - 0.000867584121591285 \\operatorname{C_{2}}{\\left(m_{n_i},80.379,80.379 \\right)}\\right)}{\\pi^{2}}$"
      ],
      "text/plain": [
       "                         ⎛                           2                        \n",
       "1.0⋅U_{bi}⋅{{U_{ai}__*}}⋅⎝8.31633631800812e-8⋅m_{n_i} ⋅C₀(m_{n_i}, 80.379, 80.\n",
       "──────────────────────────────────────────────────────────────────────────────\n",
       "                                                                              \n",
       "                                                                              \n",
       "\n",
       "                                  2                                           \n",
       "379) - 2.77211210600271e-8⋅m_{n_i} ⋅C₁(m_{n_i}, 80.379, 80.379) - 1.4477133704\n",
       "──────────────────────────────────────────────────────────────────────────────\n",
       "                                            2                                 \n",
       "                                           π                                  \n",
       "\n",
       "                                                                              \n",
       "6306e-14⋅C₁(m_{n_i}, 80.379, 80.379) - 0.000867584121591285⋅C₂(m_{n_i}, 80.379\n",
       "──────────────────────────────────────────────────────────────────────────────\n",
       "                                                                              \n",
       "                                                                              \n",
       "\n",
       "         ⎞\n",
       ", 80.379)⎠\n",
       "──────────\n",
       "          \n",
       "          "
      ]
     },
     "metadata": {},
     "output_type": "display_data"
    },
    {
     "name": "stdout",
     "output_type": "stream",
     "text": [
      "****************************************************************************************************\n"
     ]
    },
    {
     "data": {
      "image/png": "[encoded data removed]",
      "text/latex": [
       "$\\displaystyle \\frac{U_{bi} {{U_{ai}^*}} \\left(6.71491023236749 \\cdot 10^{-8} m_{n_i}^{2} \\operatorname{C_{0}}{\\left(m_{n_i},80.379,80.379 \\right)} - 6.71491023236749 \\cdot 10^{-8} m_{n_i}^{2} \\operatorname{C_{1}}{\\left(m_{n_i},80.379,80.379 \\right)} + 2.12005258340206 \\cdot 10^{-7} \\operatorname{C_{2}}{\\left(m_{n_i},80.379,80.379 \\right)}\\right)}{\\pi^{2}}$"
      ],
      "text/plain": [
       "                     ⎛                           2                            \n",
       "U_{bi}⋅{{U_{ai}__*}}⋅⎝6.71491023236749e-8⋅m_{n_i} ⋅C₀(m_{n_i}, 80.379, 80.379)\n",
       "──────────────────────────────────────────────────────────────────────────────\n",
       "                                                                              \n",
       "                                                                              \n",
       "\n",
       "                              2                                               \n",
       " - 6.71491023236749e-8⋅m_{n_i} ⋅C₁(m_{n_i}, 80.379, 80.379) + 2.12005258340206\n",
       "──────────────────────────────────────────────────────────────────────────────\n",
       "                2                                                             \n",
       "               π                                                              \n",
       "\n",
       "                               ⎞\n",
       "e-7⋅C₂(m_{n_i}, 80.379, 80.379)⎠\n",
       "────────────────────────────────\n",
       "                                \n",
       "                                "
      ]
     },
     "metadata": {},
     "output_type": "display_data"
    },
    {
     "name": "stdout",
     "output_type": "stream",
     "text": [
      "****************************************************************************************************\n"
     ]
    },
    {
     "data": {
      "image/png": "[encoded data removed]",
      "text/latex": [
       "$\\displaystyle \\frac{5.54422467054433 \\cdot 10^{-8} U_{bi} {{U_{ai}^*}} \\operatorname{{{B^{(1)}_{1}}}}{\\left(m_{n_i},80.379 \\right)}}{\\pi^{2}}$"
      ],
      "text/plain": [
       "5.54422467054433e-8⋅U_{bi}⋅{{U_{ai}__*}}⋅{{B_{1}}}__{(1)}(m_{n_i}, 80.379)\n",
       "──────────────────────────────────────────────────────────────────────────\n",
       "                                     2                                    \n",
       "                                    π                                     "
      ]
     },
     "metadata": {},
     "output_type": "display_data"
    },
    {
     "name": "stdout",
     "output_type": "stream",
     "text": [
      "****************************************************************************************************\n"
     ]
    },
    {
     "data": {
      "image/png": "[encoded data removed]",
      "text/latex": [
       "$\\displaystyle \\frac{U_{bi} {{U_{ai}^*}} \\left(- 8.58135015597921 \\cdot 10^{-12} m_{n_i}^{2} \\operatorname{{{B^{(1)}_{0}}}}{\\left(m_{n_i},80.379 \\right)} + 4.2906750779896 \\cdot 10^{-12} m_{n_i}^{2} \\operatorname{{{B^{(1)}_{1}}}}{\\left(m_{n_i},80.379 \\right)} + 1.12038536703972 \\cdot 10^{-18} \\operatorname{{{B^{(1)}_{1}}}}{\\left(m_{n_i},80.379 \\right)}\\right)}{\\pi^{2}}$"
      ],
      "text/plain": [
       "                     ⎛                              2                         \n",
       "U_{bi}⋅{{U_{ai}__*}}⋅⎝- 8.58135015597921e-12⋅m_{n_i} ⋅{{B_{0}}}__{(1)}(m_{n_i}\n",
       "──────────────────────────────────────────────────────────────────────────────\n",
       "                                                                              \n",
       "                                                                              \n",
       "\n",
       "                                       2                                      \n",
       ", 80.379) + 4.2906750779896e-12⋅m_{n_i} ⋅{{B_{1}}}__{(1)}(m_{n_i}, 80.379) + 1\n",
       "──────────────────────────────────────────────────────────────────────────────\n",
       "                           2                                                  \n",
       "                          π                                                   \n",
       "\n",
       "                                                     ⎞\n",
       ".12038536703972e-18⋅{{B_{1}}}__{(1)}(m_{n_i}, 80.379)⎠\n",
       "──────────────────────────────────────────────────────\n",
       "                                                      \n",
       "                                                      "
      ]
     },
     "metadata": {},
     "output_type": "display_data"
    },
    {
     "name": "stdout",
     "output_type": "stream",
     "text": [
      "****************************************************************************************************\n"
     ]
    },
    {
     "data": {
      "image/png": "[encoded data removed]",
      "text/latex": [
       "$\\displaystyle \\frac{5.54422467054433 \\cdot 10^{-8} U_{bi} {{U_{ai}^*}} \\operatorname{{{B^{(2)}_{1}}}}{\\left(m_{n_i},80.379 \\right)}}{\\pi^{2}}$"
      ],
      "text/plain": [
       "5.54422467054433e-8⋅U_{bi}⋅{{U_{ai}__*}}⋅{{B_{1}}}__{(2)}(m_{n_i}, 80.379)\n",
       "──────────────────────────────────────────────────────────────────────────\n",
       "                                     2                                    \n",
       "                                    π                                     "
      ]
     },
     "metadata": {},
     "output_type": "display_data"
    },
    {
     "name": "stdout",
     "output_type": "stream",
     "text": [
      "****************************************************************************************************\n"
     ]
    },
    {
     "data": {
      "image/png": "[encoded data removed]",
      "text/latex": [
       "$\\displaystyle \\frac{U_{bi} {{U_{ai}^*}} \\left(4.29067543285284 \\cdot 10^{-12} m_{n_i}^{2} \\operatorname{{{B^{(2)}_{0}}}}{\\left(m_{n_i},80.379 \\right)} + 4.2906750779896 \\cdot 10^{-12} m_{n_i}^{2} \\operatorname{{{B^{(2)}_{1}}}}{\\left(m_{n_i},80.379 \\right)} + 1.12038536703972 \\cdot 10^{-18} \\operatorname{{{B^{(2)}_{1}}}}{\\left(m_{n_i},80.379 \\right)}\\right)}{\\pi^{2}}$"
      ],
      "text/plain": [
       "                     ⎛                            2                           \n",
       "U_{bi}⋅{{U_{ai}__*}}⋅⎝4.29067543285284e-12⋅m_{n_i} ⋅{{B_{0}}}__{(2)}(m_{n_i}, \n",
       "──────────────────────────────────────────────────────────────────────────────\n",
       "                                                                              \n",
       "                                                                              \n",
       "\n",
       "                                     2                                        \n",
       "80.379) + 4.2906750779896e-12⋅m_{n_i} ⋅{{B_{1}}}__{(2)}(m_{n_i}, 80.379) + 1.1\n",
       "──────────────────────────────────────────────────────────────────────────────\n",
       "                          2                                                   \n",
       "                         π                                                    \n",
       "\n",
       "                                                   ⎞\n",
       "2038536703972e-18⋅{{B_{1}}}__{(2)}(m_{n_i}, 80.379)⎠\n",
       "────────────────────────────────────────────────────\n",
       "                                                    \n",
       "                                                    "
      ]
     },
     "metadata": {},
     "output_type": "display_data"
    }
   ],
   "source": [
    "y23 = 0.0\n",
    "y13 = 0.0\n",
    "for T in TrianglesOneFermion + Bubbles:\n",
    "    x23 = T.AL().subs(lfvhd.D,4).subs(lfvhd.B12_0(mW,mW),0).subs(\n",
    "        cambios_hab(2,3)).subs(valores).subs(UnuOne).simplify()\n",
    "    x13 = T.AL().subs(lfvhd.D,4).subs(lfvhd.B12_0(mW,mW),0).subs(\n",
    "        cambios_hab(1,3)).subs(valores).subs(UnuOne).simplify()\n",
    "    print('*'*100)\n",
    "    #display((x13/x23).simplify())\n",
    "    display(x13)\n",
    "    \n",
    "    y23 += x23\n",
    "    y13 += x13"
   ]
  },
  {
   "cell_type": "code",
   "execution_count": 42,
   "metadata": {},
   "outputs": [
    {
     "data": {
      "image/png": "[encoded data removed]",
      "text/latex": [
       "$\\displaystyle \\frac{1.0 U_{bi} {{U_{ai}^*}} \\left(2.53483394401652 \\cdot 10^{-5} m_{n_i}^{2} \\operatorname{C_{0}}{\\left(m_{n_i},80.379,80.379 \\right)} - 2.53483394401652 \\cdot 10^{-5} m_{n_i}^{2} \\operatorname{C_{1}}{\\left(m_{n_i},80.379,80.379 \\right)} - 1.78067101488088 \\cdot 10^{-9} m_{n_i}^{2} \\operatorname{{{B^{(1)}_{0}}}}{\\left(m_{n_i},80.379 \\right)} + 8.90335507440442 \\cdot 10^{-10} m_{n_i}^{2} \\operatorname{{{B^{(1)}_{1}}}}{\\left(m_{n_i},80.379 \\right)} + 8.93483752169471 \\cdot 10^{-10} m_{n_i}^{2} \\operatorname{{{B^{(2)}_{0}}}}{\\left(m_{n_i},80.379 \\right)} + 8.90335507440442 \\cdot 10^{-10} m_{n_i}^{2} \\operatorname{{{B^{(2)}_{1}}}}{\\left(m_{n_i},80.379 \\right)} - 0.148094841837482 \\operatorname{C_{1}}{\\left(m_{n_i},80.379,80.379 \\right)} - 0.179365401150858 \\operatorname{C_{2}}{\\left(m_{n_i},80.379,80.379 \\right)} + 1.15045401026826 \\cdot 10^{-5} \\operatorname{{{B^{(1)}_{1}}}}{\\left(m_{n_i},80.379 \\right)} + 1.15045401026826 \\cdot 10^{-5} \\operatorname{{{B^{(2)}_{1}}}}{\\left(m_{n_i},80.379 \\right)}\\right)}{\\pi^{2}}$"
      ],
      "text/plain": [
       "                         ⎛                           2                        \n",
       "1.0⋅U_{bi}⋅{{U_{ai}__*}}⋅⎝2.53483394401652e-5⋅m_{n_i} ⋅C₀(m_{n_i}, 80.379, 80.\n",
       "──────────────────────────────────────────────────────────────────────────────\n",
       "                                                                              \n",
       "                                                                              \n",
       "\n",
       "                                  2                                           \n",
       "379) - 2.53483394401652e-5⋅m_{n_i} ⋅C₁(m_{n_i}, 80.379, 80.379) - 1.7806710148\n",
       "──────────────────────────────────────────────────────────────────────────────\n",
       "                                                                              \n",
       "                                                                              \n",
       "\n",
       "               2                                                              \n",
       "8088e-9⋅m_{n_i} ⋅{{B_{0}}}__{(1)}(m_{n_i}, 80.379) + 8.90335507440442e-10⋅m_{n\n",
       "──────────────────────────────────────────────────────────────────────────────\n",
       "                                                                              \n",
       "                                                                              \n",
       "\n",
       "   2                                                                 2        \n",
       "_i} ⋅{{B_{1}}}__{(1)}(m_{n_i}, 80.379) + 8.93483752169471e-10⋅m_{n_i} ⋅{{B_{0}\n",
       "──────────────────────────────────────────────────────────────────────────────\n",
       "                                                                         2    \n",
       "                                                                        π     \n",
       "\n",
       "                                                         2                    \n",
       "}}__{(2)}(m_{n_i}, 80.379) + 8.90335507440442e-10⋅m_{n_i} ⋅{{B_{1}}}__{(2)}(m_\n",
       "──────────────────────────────────────────────────────────────────────────────\n",
       "                                                                              \n",
       "                                                                              \n",
       "\n",
       "                                                                              \n",
       "{n_i}, 80.379) - 0.148094841837482⋅C₁(m_{n_i}, 80.379, 80.379) - 0.17936540115\n",
       "──────────────────────────────────────────────────────────────────────────────\n",
       "                                                                              \n",
       "                                                                              \n",
       "\n",
       "                                                                              \n",
       "0858⋅C₂(m_{n_i}, 80.379, 80.379) + 1.15045401026826e-5⋅{{B_{1}}}__{(1)}(m_{n_i\n",
       "──────────────────────────────────────────────────────────────────────────────\n",
       "                                                                              \n",
       "                                                                              \n",
       "\n",
       "                                                                  ⎞\n",
       "}, 80.379) + 1.15045401026826e-5⋅{{B_{1}}}__{(2)}(m_{n_i}, 80.379)⎠\n",
       "───────────────────────────────────────────────────────────────────\n",
       "                                                                   \n",
       "                                                                   "
      ]
     },
     "execution_count": 42,
     "metadata": {},
     "output_type": "execute_result"
    }
   ],
   "source": [
    "y23.simplify()"
   ]
  },
  {
   "cell_type": "code",
   "execution_count": 19,
   "metadata": {},
   "outputs": [],
   "source": [
    "from sympy import Add"
   ]
  },
  {
   "cell_type": "code",
   "execution_count": 20,
   "metadata": {},
   "outputs": [
    {
     "data": {
      "image/png": "[encoded data removed]",
      "text/latex": [
       "$\\displaystyle \\left[ \\right]$"
      ],
      "text/plain": [
       "[]"
      ]
     },
     "execution_count": 20,
     "metadata": {},
     "output_type": "execute_result"
    }
   ],
   "source": [
    "args = TrianglesOneFermion[2].AL().subs(lfvhd.D,4).subs(cambios_hab(2,3)).subs(valores).subs(UnuOne).expand().args\n",
    "#args\n",
    "[t for t in args if t.has(mn[i])]#).simplify()"
   ]
  },
  {
   "cell_type": "code",
   "execution_count": 80,
   "metadata": {},
   "outputs": [
    {
     "data": {
      "image/png": "[encoded data removed]",
      "text/latex": [
       "$\\displaystyle \\frac{g^{3} m_{i} m_{j}^{2} \\left(D - 2\\right) \\operatorname{{{B^{(2)}_{1}}}}{\\left({{{m_n}}}_{i},m_{W} \\right)} {{{U^\\nu}}}_{b,i} {{{U^{\\nu *}}}}_{a,i}}{64 \\pi^{2} m_{W} \\left(- m_{i}^{2} + m_{j}^{2}\\right)}$"
      ],
      "text/plain": [
       " 3       2                                                                    \n",
       "g ⋅mᵢ⋅m_j ⋅(D - 2)⋅{{B_{1}}}__{(2)}({{m_n}}[i], m_W)⋅{{U^\\nu}}[b, i]⋅{{U^{\\nu \n",
       "──────────────────────────────────────────────────────────────────────────────\n",
       "                                    2     ⎛    2      2⎞                      \n",
       "                                64⋅π ⋅m_W⋅⎝- mᵢ  + m_j ⎠                      \n",
       "\n",
       "          \n",
       "*}}}[a, i]\n",
       "──────────\n",
       "          \n",
       "          "
      ]
     },
     "metadata": {},
     "output_type": "display_data"
    },
    {
     "data": {
      "image/png": "[encoded data removed]",
      "text/latex": [
       "$\\displaystyle \\frac{1.15045301629453 \\cdot 10^{-5} U_{bi} {{U_{ai}^*}} \\operatorname{{{B^{(2)}_{1}}}}{\\left(m_{n_i},80.379 \\right)}}{\\pi^{2}}$"
      ],
      "text/plain": [
       "1.15045301629453e-5⋅U_{bi}⋅{{U_{ai}__*}}⋅{{B_{1}}}__{(2)}(m_{n_i}, 80.379)\n",
       "──────────────────────────────────────────────────────────────────────────\n",
       "                                     2                                    \n",
       "                                    π                                     "
      ]
     },
     "execution_count": 80,
     "metadata": {},
     "output_type": "execute_result"
    }
   ],
   "source": [
    "display(Bubbles[2].AL())\n",
    "fs23 = Bubbles[2].AL().subs(lfvhd.D,4).subs(cambios_hab(2,3)).subs(valores).subs(UnuOne)\n",
    "fs23"
   ]
  },
  {
   "cell_type": "code",
   "execution_count": 56,
   "metadata": {},
   "outputs": [],
   "source": [
    "fmp23 = lambdify([mni,Ubi,Ucai],replaceBs(fs23),\n",
    "                         modules=[pave_functions(valores[mh],2,3,lib='mpmath'),'mpmath'])"
   ]
  },
  {
   "cell_type": "code",
   "execution_count": 57,
   "metadata": {},
   "outputs": [
    {
     "data": {
      "text/plain": [
       "(-3.0836515569243e-5 + 0.0j)"
      ]
     },
     "execution_count": 57,
     "metadata": {},
     "output_type": "execute_result"
    }
   ],
   "source": [
    "fmp23(1,2,3)"
   ]
  },
  {
   "cell_type": "code",
   "execution_count": 60,
   "metadata": {},
   "outputs": [],
   "source": [
    "def sumOne(m6,Aab,a,b): \n",
    "    mnk = [m1,m2,m3,m6/3.0,m6/2.0,m6]\n",
    "    AL = []\n",
    "    for k in range(1,7):\n",
    "        UU = Unu(m1,m6,b,k)*conj(Unu(m1,m6,a,k))\n",
    "        A = Aab(mnk[k-1],Unu(m1,m6,b,k),conj(Unu(m1,m6,a,k)))\n",
    "        print('*'*100)\n",
    "        print(f'Afi = {A/UU}, Ubi Ucai = {UU}')\n",
    "        print(f'Ai = {A}')\n",
    "        AL.append(A)\n",
    "    return mp.fsum(AL)"
   ]
  },
  {
   "cell_type": "code",
   "execution_count": 85,
   "metadata": {},
   "outputs": [
    {
     "name": "stdout",
     "output_type": "stream",
     "text": [
      "****************************************************************************************************\n",
      "Afi = (-0.00000513939308880177974057538130389 + 0.0j), Ubi Ucai = (-0.185073786658893895157832693012 + 0.0j)\n",
      "Ai = (0.000000951166940073094311154233424155 + 0.0j)\n",
      "****************************************************************************************************\n",
      "Afi = (-0.00000513939308880177974057538130582 + 0.0j), Ubi Ucai = (-0.331189606291921319674041124399 + 0.0j)\n",
      "Ai = (0.0000017021135736596828571866047157 + 0.0j)\n",
      "****************************************************************************************************\n",
      "Afi = (-0.00000513939308880177974057538136992 + 0.0j), Ubi Ucai = (0.485495249283607205776881879571 + 0.0j)\n",
      "Ai = (-0.00000249515092881426808009789109539 + 0.0j)\n",
      "****************************************************************************************************\n",
      "Afi = (-0.0000240110679852998625610416169023 + 0.0j), Ubi Ucai = (-5.55221359976681685473682451312e-23 + 0.0j)\n",
      "Ai = (1.33314578212907520635605935304e-27 + 0.0j)\n",
      "****************************************************************************************************\n",
      "Afi = (-0.0000107363793510200551062947366305 + 0.0j), Ubi Ucai = (-5.73254672659656915427843782817e-22 + 0.0j)\n",
      "Ai = (6.15467963041890144093799919227e-27 + 0.0j)\n",
      "****************************************************************************************************\n",
      "Afi = (-0.00000398414913286577028935160663121 + 0.0j), Ubi Ucai = (2.43910030130420549565853117857e-21 + 0.0j)\n",
      "Ai = (-9.71773935041378936709529967252e-27 + 0.0j)\n"
     ]
    },
    {
     "data": {
      "text/plain": [
       "(0.000000158129584918509088240717130519 + 0.0j)"
      ]
     },
     "execution_count": 85,
     "metadata": {},
     "output_type": "execute_result"
    }
   ],
   "source": [
    "sumOne(mpf('1e10'),fmp23,2,3)"
   ]
  },
  {
   "cell_type": "code",
   "execution_count": 64,
   "metadata": {},
   "outputs": [],
   "source": [
    "from OneLoopLFVHD.LFVHDFeynG_mpmath2 import B2_1\n",
    "from OneLoopLFVHD.LFVHDFeynG_mpmath import B2_1 as B2_1_2"
   ]
  },
  {
   "cell_type": "code",
   "execution_count": 79,
   "metadata": {},
   "outputs": [
    {
     "data": {
      "text/plain": [
       "-3235510714323.2"
      ]
     },
     "execution_count": 79,
     "metadata": {},
     "output_type": "execute_result"
    }
   ],
   "source": [
    "B2_1_2(valores[mh],ml[2],mpf('1e9'),valores[mW])"
   ]
  },
  {
   "cell_type": "code",
   "execution_count": 28,
   "metadata": {},
   "outputs": [
    {
     "data": {
      "image/png": "[encoded data removed]",
      "text/latex": [
       "$\\displaystyle \\frac{0.000011504530162945285630401534014792431261181915420522242265700133591512709388604525 U_{bi} {{U_{ai}^*}} \\operatorname{{{B^{(2)}_{1}}}}{\\left(m_{n_i},80.379 \\right)}}{\\pi^{2}}$"
      ],
      "text/plain": [
       "0.0000115045301629452856304015340147924312611819154205222422657001335915127093\n",
       "──────────────────────────────────────────────────────────────────────────────\n",
       "                                                                       2      \n",
       "                                                                      π       \n",
       "\n",
       "88604525⋅U_{bi}⋅{{U_{ai}__*}}⋅{{B_{1}}}__{(2)}(m_{n_i}, 80.379)\n",
       "───────────────────────────────────────────────────────────────\n",
       "                                                               \n",
       "                                                               "
      ]
     },
     "execution_count": 28,
     "metadata": {},
     "output_type": "execute_result"
    }
   ],
   "source": [
    "fs23"
   ]
  },
  {
   "cell_type": "code",
   "execution_count": 37,
   "metadata": {},
   "outputs": [
    {
     "name": "stdout",
     "output_type": "stream",
     "text": [
      "9.51166940041509e-7\n",
      "1.70211357336319e-6\n",
      "-2.49515092756009e-6\n",
      "2.85350083636604e-17\n",
      "2.94618114030056e-16\n",
      "-1.25354958698149e-15\n",
      "out = 1.58129584914206E-7\n"
     ]
    }
   ],
   "source": [
    "m6 = mpf('1e-1') \n",
    "out = 0.0\n",
    "mnk = [m1,m2,m3,m6/3.0,m6/2.0,m6]\n",
    "for k in range(1,7):\n",
    "    xx = fs23.subs({Ubi:Unu(m1,m6,3,k),Ucai:conj(Unu(m1,m6,2,k))}\n",
    "         ).subs(lfvhd.B2_1(mni,valores[mW]),B2_1_2(valores[mh],ml[3],mnk[k-1],valores[mW])).n()\n",
    "    out += xx\n",
    "    print(xx)\n",
    "print(f'out = {out}')"
   ]
  },
  {
   "cell_type": "code",
   "execution_count": 47,
   "metadata": {},
   "outputs": [],
   "source": [
    "fy23 =  lambdify([mni,Ubi,Ucai],replaceBs(y23),\n",
    "                         modules=[pave_functions(valores[mh],2,3,lib='mpmath'),'mpmath'])\n",
    "fy13 =  lambdify([mni,Ubi,Ucai],replaceBs(y13),\n",
    "                         modules=[pave_functions(valores[mh],2,3,lib='mpmath'),'mpmath'])"
   ]
  },
  {
   "cell_type": "code",
   "execution_count": 49,
   "metadata": {},
   "outputs": [
    {
     "name": "stdout",
     "output_type": "stream",
     "text": [
      "(7.82363123750787e-8 + 0.0j)\n",
      "(1.40003908500487e-7 + 0.0j)\n",
      "(-2.05233591775791e-7 + 0.0j)\n",
      "(-2.32741855158893e-21 + 0.0j)\n",
      "(-8.50844524167669e-20 + 0.0j)\n",
      "(1.84147112261635e-18 + 0.0j)\n",
      "out = (1.30066291015292e-8 + 0.0j)\n"
     ]
    }
   ],
   "source": [
    "m6 = mpf('1e2') \n",
    "out = 0.0\n",
    "mnk = [m1,m2,m3,m6/3.0,m6/2.0,m6]\n",
    "for k in range(1,7):\n",
    "    xx = fy23(mnk[k-1],Unu(m1,m6,3,k),conj(Unu(m1,m6,2,k)))\n",
    "    out += xx\n",
    "    print(xx)\n",
    "print(f'out = {out}')"
   ]
  },
  {
   "cell_type": "code",
   "execution_count": 50,
   "metadata": {},
   "outputs": [
    {
     "name": "stdout",
     "output_type": "stream",
     "text": [
      "(3.78375076748495e-10 + 0.0j)\n",
      "(6.77102332865518e-10 + 0.0j)\n",
      "(-9.92573316431901e-10 + 0.0j)\n",
      "(-1.12559323009709e-23 + 0.0j)\n",
      "(-4.11490341771515e-22 + 0.0j)\n",
      "(8.90584356697468e-21 + 0.0j)\n",
      "out = (6.29040931905949e-11 + 0.0j)\n"
     ]
    }
   ],
   "source": [
    "out = 0.0\n",
    "mnk = [m1,m2,m3,m6/3.0,m6/2.0,m6]\n",
    "for k in range(1,7):\n",
    "    xx = fy13(mnk[k-1],Unu(m1,m6,3,k),conj(Unu(m1,m6,2,k)))\n",
    "    out += xx\n",
    "    print(xx)\n",
    "print(f'out = {out}')"
   ]
  },
  {
   "cell_type": "code",
   "execution_count": 30,
   "metadata": {},
   "outputs": [
    {
     "data": {
      "text/plain": [
       "(-9.9597493449867181333240354275095282342344708966009012559948831393257685403122665 + 0.0j)"
      ]
     },
     "execution_count": 30,
     "metadata": {},
     "output_type": "execute_result"
    }
   ],
   "source": [
    "B2_1(ml[3],1e4,valores[mW])"
   ]
  },
  {
   "cell_type": "code",
   "execution_count": 31,
   "metadata": {},
   "outputs": [
    {
     "name": "stdout",
     "output_type": "stream",
     "text": [
      "0.31785714202163265525742273475191738293781716484916630953933427206803562770687778\n",
      "0.31673321880315614067148471418923272083521250150776357930116375516530752375892926\n",
      "89.575439013129853104407198048702180344358065207382984075416667148171974461828431\n"
     ]
    }
   ],
   "source": [
    "print(1.0/(ml[3]**2 - ml[2]**2))\n",
    "print(1.0/(ml[3]**2 - ml[1]**2))\n",
    "print(1.0/(ml[2]**2 - ml[1]**2))"
   ]
  },
  {
   "cell_type": "code",
   "execution_count": 32,
   "metadata": {},
   "outputs": [
    {
     "name": "stdout",
     "output_type": "stream",
     "text": [
      "0.000000261121\n",
      "0.0111640356\n",
      "0.011163774479\n",
      "89.575439013129853104407198048702180344358065207382984075416667148171974461828431\n"
     ]
    }
   ],
   "source": [
    "print(ml[1]**2)\n",
    "print(ml[2]**2)\n",
    "print(ml[2]**2 - ml[1]**2)\n",
    "print(1.0/(ml[2]**2 - ml[1]**2))"
   ]
  },
  {
   "cell_type": "code",
   "execution_count": 44,
   "metadata": {},
   "outputs": [
    {
     "data": {
      "image/png": "[encoded data removed]",
      "text/plain": [
       "<Figure size 432x288 with 1 Axes>"
      ]
     },
     "metadata": {
      "needs_background": "light"
     },
     "output_type": "display_data"
    }
   ],
   "source": [
    "plot([lambda m: B2_1(ml[3],m,valores[mW]),\n",
    "     lambda m: B2_1_2(mpf('125.1'),ml[3],m,valores[mW])],[0.1,1])"
   ]
  },
  {
   "cell_type": "code",
   "execution_count": 95,
   "metadata": {},
   "outputs": [],
   "source": [
    "from Unu_seesaw import MD_mp"
   ]
  },
  {
   "cell_type": "code",
   "execution_count": 96,
   "metadata": {},
   "outputs": [],
   "source": [
    "MD = lambda m6: MD_mp(m1,m2,m3,m6/3,m6/2,m6)"
   ]
  },
  {
   "cell_type": "code",
   "execution_count": 136,
   "metadata": {},
   "outputs": [
    {
     "data": {
      "text/plain": [
       "(0.0 - 44.4627406514877449079702485217j)"
      ]
     },
     "execution_count": 136,
     "metadata": {},
     "output_type": "execute_result"
    }
   ],
   "source": [
    "m6 = mpf('1e15')\n",
    "MD(m6)[2,1]"
   ]
  },
  {
   "cell_type": "code",
   "execution_count": 137,
   "metadata": {},
   "outputs": [
    {
     "data": {
      "text/plain": [
       "[                                     0.0                                       0.0                                       0.0  (0.0 + 14.9948557845682574352327370923j)  (0.0 + 36.2130145152043105316775578446j)  (0.0 + 33.5539200903545190513329818023j)]\n",
       "[                                     0.0                                       0.0                                       0.0  (0.0 - 10.1398393932011755498405406086j)  (0.0 + 32.2323064356850175135972505894j)  (0.0 + 165.545664838284854283782543635j)]\n",
       "[                                     0.0                                       0.0                                       0.0  (0.0 + 6.08404727406192131098081461834j)  (0.0 - 44.4627406514877449079702485217j)  (0.0 + 147.337008413169144244958134367j)]\n",
       "[(0.0 + 14.9948557845682574352327370923j)  (0.0 - 10.1398393932011755498405406086j)  (0.0 + 6.08404727406192131098081461834j)           333333333333333.333333333333333                                       0.0                                       0.0]\n",
       "[(0.0 + 36.2130145152043105316775578446j)  (0.0 + 32.2323064356850175135972505894j)  (0.0 - 44.4627406514877449079702485217j)                                       0.0                         500000000000000.0                                       0.0]\n",
       "[(0.0 + 33.5539200903545190513329818023j)  (0.0 + 165.545664838284854283782543635j)  (0.0 + 147.337008413169144244958134367j)                                       0.0                                       0.0                        1000000000000000.0]"
      ]
     },
     "execution_count": 137,
     "metadata": {},
     "output_type": "execute_result"
    }
   ],
   "source": [
    "def Mnu(m6): \n",
    "    M = MD(m6)\n",
    "    return matrix([\n",
    "    [0,0,0,M[0,0],M[0,1],M[0,2]],\n",
    "    [0,0,0,M[1,0],M[1,1],M[1,2]],\n",
    "    [0,0,0,M[2,0],M[2,1],M[2,2]],\n",
    "    [M[0,0],M[1,0],M[2,0],m6/3.0,0.0,0.0],\n",
    "    [M[0,1],M[1,1],M[2,1],0.0,m6/2.0,0.0],\n",
    "    [M[0,2],M[1,2],M[2,2],0.0,0.0,m6]\n",
    "])\n",
    "M = Mnu(m6)\n",
    "M"
   ]
  },
  {
   "cell_type": "code",
   "execution_count": 138,
   "metadata": {},
   "outputs": [],
   "source": [
    "E, ER = eighe(Mnu(m6))"
   ]
  },
  {
   "cell_type": "code",
   "execution_count": 139,
   "metadata": {},
   "outputs": [
    {
     "data": {
      "text/plain": [
       "(4.42316749398669316176344458469e-12 + 1.24077525354631309102428220978e-11j)"
      ]
     },
     "execution_count": 139,
     "metadata": {},
     "output_type": "execute_result"
    }
   ],
   "source": [
    "Mdia = ER*M*ER.transpose_conj()\n",
    "Mdia[0,0]"
   ]
  },
  {
   "cell_type": "code",
   "execution_count": 140,
   "metadata": {},
   "outputs": [
    {
     "data": {
      "text/plain": [
       "[-5.02442010790930107591430074532e-11]\n",
       "[-8.65679589952604204245292340074e-12]\n",
       "[-1.08680247142623434124304943571e-12]\n",
       "[     333333333333333.333333333334427]\n",
       "[     500000000000000.000000000008654]\n",
       "[     1000000000000000.00000000005024]"
      ]
     },
     "execution_count": 140,
     "metadata": {},
     "output_type": "execute_result"
    }
   ],
   "source": [
    "E"
   ]
  },
  {
   "cell_type": "code",
   "execution_count": 141,
   "metadata": {},
   "outputs": [
    {
     "name": "stdout",
     "output_type": "stream",
     "text": [
      "****************************************************************************************************\n",
      "Afi = (-0.00000513939308880177974057538130389 + 0.0j), Ubi Ucai = (0.485564679218179088489374379079 + 0.0j)\n",
      "Ai = (-0.00000249550775654016277386455091638 + 0.0j)\n",
      "****************************************************************************************************\n",
      "Afi = (-0.00000513939308880177974057538130582 + 0.0j), Ubi Ucai = (-0.334132884435122136595172157285 + 0.0j)\n",
      "Ai = (0.00000171724023700727047065311572823 + 0.0j)\n",
      "****************************************************************************************************\n",
      "Afi = (-0.00000513939308880177974057538136992 + 0.0j), Ubi Ucai = (-0.151431794783056951894202239898 + 0.0j)\n",
      "Ai = (0.000000778267519532892303211435291831 + 0.0j)\n",
      "****************************************************************************************************\n",
      "Afi = (-20915871157220.7904107692218733 + 0.0j), Ubi Ucai = (-5.55221359976681685473682445705e-28 + 0.0j)\n",
      "Ai = (1.16129384290091782099062381031e-14 + 0.0j)\n",
      "****************************************************************************************************\n",
      "Afi = (-778145554977954.089374302739732 + 0.0j), Ubi Ucai = (-5.73254672659656920301405794231e-27 + 0.0j)\n",
      "Ai = (4.46075575400454139078310043817e-12 + 0.0j)\n",
      "****************************************************************************************************\n",
      "Afi = (-14121859883899879.3935843029121 + 0.0j), Ubi Ucai = (2.43910030130420549565853081097e-26 + 0.0j)\n",
      "Ai = (-3.44446326977959682683572558849e-10 + 0.0j)\n",
      "(-3.39973958285526132114475864732e-10 + 0.0j)\n"
     ]
    }
   ],
   "source": [
    "mnk = [m1,m2,m3,m6/3.0,m6/2.0,m6]\n",
    "AL = []\n",
    "for k in range(1,7):\n",
    "    UU = ER[3-1,k-1]*conj(ER[2-1,k-1])\n",
    "    A = fmp23(mnk[k-1],ER[3-1,k-1],conj(ER[2-1,k-1]))\n",
    "    print('*'*100)\n",
    "    print(f'Afi = {A/UU}, Ubi Ucai = {UU}')\n",
    "    print(f'Ai = {A}')\n",
    "    AL.append(A)\n",
    "print(mp.fsum(AL))"
   ]
  },
  {
   "cell_type": "code",
   "execution_count": null,
   "metadata": {},
   "outputs": [],
   "source": []
  },
  {
   "cell_type": "code",
   "execution_count": null,
   "metadata": {},
   "outputs": [],
   "source": []
  }
 ],
 "metadata": {
  "kernelspec": {
   "display_name": "Python 3",
   "language": "python",
   "name": "python3"
  },
  "language_info": {
   "codemirror_mode": {
    "name": "ipython",
    "version": 3
   },
   "file_extension": ".py",
   "mimetype": "text/x-python",
   "name": "python",
   "nbconvert_exporter": "python",
   "pygments_lexer": "ipython3",
   "version": "3.7.6"
  }
 },
 "nbformat": 4,
 "nbformat_minor": 4
}
