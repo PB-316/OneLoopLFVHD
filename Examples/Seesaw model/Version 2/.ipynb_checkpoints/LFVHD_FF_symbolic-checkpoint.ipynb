{
 "cells": [
  {
   "cell_type": "markdown",
   "metadata": {},
   "source": [
    "# LFV Higgs decays in SeeSaw model ( Thao et al results) First numeric results no compatibles con seesaw new discussions."
   ]
  },
  {
   "cell_type": "markdown",
   "metadata": {},
   "source": [
    "## In this notebook we sum all diagram and after we sum over the neutrino generations, also this notebook reproduce all the symbolic expression of form factors"
   ]
  },
  {
   "cell_type": "markdown",
   "metadata": {},
   "source": [
    "In this model the couplings that allows LFVHD are given by \n",
    "\n",
    "| Vertex|coupling&nbsp;&nbsp;&nbsp;&nbsp;&nbsp;&nbsp;&nbsp;&nbsp;&nbsp;&nbsp;&nbsp;&nbsp;&nbsp;&nbsp;&nbsp;&nbsp;&nbsp;&nbsp;&nbsp;&nbsp;&nbsp;&nbsp;&nbsp;&nbsp;&nbsp;&nbsp;&nbsp;&nbsp;&nbsp;&nbsp;&nbsp;&nbsp;&nbsp;&nbsp;&nbsp;&nbsp;&nbsp;&nbsp;&nbsp;&nbsp;&nbsp;&nbsp;&nbsp;|Vertex|coupling&nbsp;&nbsp;&nbsp;&nbsp;&nbsp;&nbsp;&nbsp;&nbsp;&nbsp;&nbsp;&nbsp;&nbsp;&nbsp;&nbsp;&nbsp;&nbsp;&nbsp;&nbsp;&nbsp;&nbsp;&nbsp;&nbsp;&nbsp;&nbsp;&nbsp;&nbsp;&nbsp;&nbsp;&nbsp;&nbsp;&nbsp;&nbsp;&nbsp;&nbsp;&nbsp;&nbsp;&nbsp;&nbsp;&nbsp;&nbsp;&nbsp;&nbsp;&nbsp;|\n",
    "|-------------------------------------------------|------------------------------------------------------------------------------------------------------------------------------|------------------------------------------------------|---------------------------------------------------------------------------------------------------------------------------------|\n",
    "|$h W^{+\\mu} W^{-\\nu}$|$i g m_{W} g_{\\mu \\nu}$|$h G_{W}^{+} G_{W}^{-}$|$\\frac{-igm_h^2}{2 m_W}$|\n",
    "|$h G_{W}^{+} {W}^{-\\mu}$|$\\frac{ig}{2}(p_{+}- p_0)_{\\mu}$|$h G_{W}^{-} W^{+\\mu}$|$\\frac{i g}{2}\\left(p_{0}-p_{-}\\right)_{\\mu}$|\n",
    "|$\\bar{n}_{i} e_{a} W_{\\mu}^{+}$|$\\frac{i g}{\\sqrt{2}} U_{a i}^{\\nu} \\gamma^{\\mu} P_{L}$|$\\overline{e_{a}} n_{j} W_{\\mu}^{-}$|$\\frac{i g}{\\sqrt{2}} U_{a j}^{\\nu *} \\gamma^{\\mu} P_{L}$|\n",
    "|$\\bar{n}_{i} e_{a} G_{W}^{+}$|$-\\frac{i g}{\\sqrt{2} m_{W}} U_{a i}^{\\nu}\\left(m_{e_{a}} P_{R}-m_{n, i} P_{L}\\right)$|$\\overline{e_{a}} n_{j} G_{W}^{-}$|$-\\frac{i g}{\\sqrt{2} m_{W}} U_{a j}^{\\nu *}\\left(m_{e_{a}} P_{L}-m_{n, j} P_{R}\\right)$|\n",
    "|$h\\overline{n_i}n_j$|$\\frac{-i g}{2 m_W}\\left[C_{i j}\\left(P_{L} m_{n_{i}}+P_{R} m_{n_{j}}\\right) \\quad+C_{i j}^{*}\\left(P_{L} m_{n_{j}}+P_{R} m_{n_{i}}\\right)\\right]$|$h\\overline{e_a}e_a$|$\\frac{-ig m_{e_a}}{2 m_W}$|\n",
    "\n",
    "\n"
   ]
  },
  {
   "cell_type": "code",
   "execution_count": 1,
   "metadata": {},
   "outputs": [],
   "source": [
    "from sympy import symbols, init_printing, conjugate,I,pi,IndexedBase,sqrt,Add,simplify,factor,conjugate\n",
    "init_printing()"
   ]
  },
  {
   "cell_type": "markdown",
   "metadata": {},
   "source": [
    "**Assigning masses of initial and final particles**"
   ]
  },
  {
   "cell_type": "code",
   "execution_count": 2,
   "metadata": {},
   "outputs": [
    {
     "name": "stdout",
     "output_type": "stream",
     "text": [
      "{m1, m2, m_a}\n"
     ]
    }
   ],
   "source": [
    "import OneLoopLFVHD as lfvhd"
   ]
  },
  {
   "cell_type": "markdown",
   "metadata": {},
   "source": [
    "**Defining symbolic variables**"
   ]
  },
  {
   "cell_type": "code",
   "execution_count": 3,
   "metadata": {},
   "outputs": [],
   "source": [
    "g = symbols('g',positive=True)\n",
    "mW,mG = symbols('m_W,m_G',positive=True)\n",
    "\n",
    "\n",
    "Uν = IndexedBase(r'{{U^\\nu}}')\n",
    "Uνc = IndexedBase(r'{{U^{\\nu *}}}')\n",
    "mn = IndexedBase(r'{{m_n}}')\n",
    "#me = IndexedBase(r'{{m_e}}')\n",
    "C = IndexedBase(r'C')\n",
    "Cc = IndexedBase(r'{{C^*}}')\n",
    "a,b,i,j = symbols('a,b,i,j',integer=True)"
   ]
  },
  {
   "cell_type": "code",
   "execution_count": 4,
   "metadata": {},
   "outputs": [
    {
     "data": {
      "image/png": "[encoded data removed]",
      "text/latex": [
       "$\\displaystyle \\left\\{ a : m_{i}, \\  b : m_{j}\\right\\}$"
      ],
      "text/plain": [
       "{a: mᵢ, b: m_j}"
      ]
     },
     "execution_count": 4,
     "metadata": {},
     "output_type": "execute_result"
    }
   ],
   "source": [
    "mh = lfvhd.ma\n",
    "me = {a:lfvhd.mi,b:lfvhd.mj}\n",
    "me"
   ]
  },
  {
   "cell_type": "markdown",
   "metadata": {},
   "source": [
    "**Defining vertexes**"
   ]
  },
  {
   "cell_type": "code",
   "execution_count": 5,
   "metadata": {},
   "outputs": [],
   "source": [
    "vertexhWW = lfvhd.VertexHVV(I*g*mW)\n",
    "vertexhGG = lfvhd.VertexHSS((-I*g*mh**2)/(2*mW))\n",
    "\n",
    "vertexhWG = lfvhd.VertexHVpSm(I*g/2)\n",
    "vertexhGW = lfvhd.VertexHSpVm(I*g/2)\n",
    "\n",
    "vertexneWu =lambda i,a: lfvhd.VertexVFF(0,I*g/sqrt(2)*Uν[a,i])\n",
    "vertexenWd =lambda j,b: lfvhd.VertexVFF(0,I*g/sqrt(2)*Uνc[b,j])\n",
    "\n",
    "vertexneGu = lambda i,a: lfvhd.VertexSFF((-I*g)/(sqrt(2)*mW)*me[a]*Uν[a,i],\n",
    "                                         (I*g)/(sqrt(2)*mW)*mn[i]*Uν[a,i])\n",
    "\n",
    "vertexenGd = lambda j,b: lfvhd.VertexSFF((I*g)/(sqrt(2)*mW)*mn[j]*Uνc[b,j],\n",
    "                                         (-I*g)/(sqrt(2)*mW)*me[b]*Uνc[b,j])\n",
    "\n",
    "vertexhnn = lambda i,j: lfvhd.VertexHF0F0((-I*g)/(2*mW)*(mn[j]*C[i,j] + mn[i]*Cc[i,j]),\n",
    "                                          (-I*g)/(2*mW)*(mn[i]*C[i,j] + mn[j]*Cc[i,j]))\n",
    "\n",
    "vertexhee = lambda a:lfvhd.VertexHFF((-I*g*me[a])/(2*mW))"
   ]
  },
  {
   "cell_type": "markdown",
   "metadata": {},
   "source": [
    "## Form factors of SeeSaw model"
   ]
  },
  {
   "cell_type": "markdown",
   "metadata": {},
   "source": [
    "We are taking the diagrams of [Lepton flavor violating Higgs boson decays from massive seesaw neutrinos](https://arxiv.org/pdf/hep-ph/0407302.pdf), and we reproduce the form factor of [Lepton flavor violating Higgs boson decays in seesaw models: New discussions](https://inspirehep.net/files/b569c392f2240d487f9731316b2d5ffc)"
   ]
  },
  {
   "cell_type": "markdown",
   "metadata": {},
   "source": [
    "### Triangle Gninj\n",
    "The **left** form factor\n",
    "\n",
    "$$\\begin{aligned} F_{L}^{(1)} &=-\\frac{g^{3} m_{a}}{64 \\pi^{2} m_{W}^{3}} \\sum_{i, j=1}^{K+3} B_{a i} B_{b j}^{*}\\left\\{C_{i j}\\left[m_{n j}^{2}\\left(B_{0}^{(12)}+m_{W}^{2} C_{0}\\right)\\right.\\right.\\\\ &\\left.-\\left(m_{a}^{2} m_{n j}^{2}+m_{b}^{2} m_{n_{i}}^{2}-2 m_{n_{i}}^{2} m_{n_{j}}^{2}\\right) C_{1}\\right] \\\\ &\\left.+m_{n_{i}} m_{n_{j}} C_{i j}^{*}\\left[B_{0}^{(12)}+m_{W}^{2} C_{0}+\\left(m_{n_{i}}^{2}+m_{n_{j}}^{2}-m_{a}^{2}-m_{b}^{2}\\right) C_{1}\\right]\\right\\} \\end{aligned}$$"
   ]
  },
  {
   "cell_type": "code",
   "execution_count": 6,
   "metadata": {},
   "outputs": [],
   "source": [
    "A = g**3/(64*pi**2*mW**3)\n",
    "m = IndexedBase('m')\n",
    "h,ea,eb = symbols('h,e_a,e_b');\n",
    "cambios = {lfvhd.ma:m[h],lfvhd.mi:m[a],lfvhd.mj:m[b]}\n",
    "cambios_cross = {lfvhd.ma:m[h],lfvhd.mi:m[b],lfvhd.mj:m[a]}"
   ]
  },
  {
   "cell_type": "code",
   "execution_count": 7,
   "metadata": {},
   "outputs": [
    {
     "data": {
      "image/png": "[encoded data removed]",
      "text/latex": [
       "$\\displaystyle - \\left(\\left(m_{W}^{2} \\operatorname{C_{0}}{\\left(m_{W},{{{m_n}}}_{i},{{{m_n}}}_{j} \\right)} - \\left({m}_{a}^{2} + {m}_{b}^{2} - {{{m_n}}}_{i}^{2} - {{{m_n}}}_{j}^{2}\\right) \\operatorname{C_{1}}{\\left(m_{W},{{{m_n}}}_{i},{{{m_n}}}_{j} \\right)} + \\operatorname{{{B^{(12)}_{0}}}}{\\left({{{m_n}}}_{i},{{{m_n}}}_{j} \\right)}\\right) {{{C^*}}}_{i,j} {{{m_n}}}_{i} {{{m_n}}}_{j} + \\left(m_{W}^{2} \\operatorname{C_{0}}{\\left(m_{W},{{{m_n}}}_{i},{{{m_n}}}_{j} \\right)} {{{m_n}}}_{j}^{2} - \\left({m}_{a}^{2} {{{m_n}}}_{j}^{2} + {m}_{b}^{2} {{{m_n}}}_{i}^{2} - 2 {{{m_n}}}_{i}^{2} {{{m_n}}}_{j}^{2}\\right) \\operatorname{C_{1}}{\\left(m_{W},{{{m_n}}}_{i},{{{m_n}}}_{j} \\right)} + \\operatorname{{{B^{(12)}_{0}}}}{\\left({{{m_n}}}_{i},{{{m_n}}}_{j} \\right)} {{{m_n}}}_{j}^{2}\\right) {C}_{i,j}\\right) {m}_{a} {{{U^\\nu}}}_{b,j} {{{U^{\\nu *}}}}_{a,i}$"
      ],
      "text/plain": [
       " ⎛⎛   2                                   ⎛    2       2             2        \n",
       "-⎝⎝m_W ⋅C₀(m_W, {{m_n}}[i], {{m_n}}[j]) - ⎝m[a]  + m[b]  - {{m_n}}[i]  - {{m_n\n",
       "\n",
       "     2⎞                                                                       \n",
       "}}[j] ⎠⋅C₁(m_W, {{m_n}}[i], {{m_n}}[j]) + {{B_{0}}}__{(12)}({{m_n}}[i], {{m_n}\n",
       "\n",
       "     ⎞                                       ⎛   2                            \n",
       "}[j])⎠⋅{{C^*}}[i, j]⋅{{m_n}}[i]⋅{{m_n}}[j] + ⎝m_W ⋅C₀(m_W, {{m_n}}[i], {{m_n}}\n",
       "\n",
       "               2   ⎛    2           2       2           2               2     \n",
       "[j])⋅{{m_n}}[j]  - ⎝m[a] ⋅{{m_n}}[j]  + m[b] ⋅{{m_n}}[i]  - 2⋅{{m_n}}[i] ⋅{{m_\n",
       "\n",
       "      2⎞                                                                      \n",
       "n}}[j] ⎠⋅C₁(m_W, {{m_n}}[i], {{m_n}}[j]) + {{B_{0}}}__{(12)}({{m_n}}[i], {{m_n\n",
       "\n",
       "                 2⎞        ⎞                                         \n",
       "}}[j])⋅{{m_n}}[j] ⎠⋅C[i, j]⎠⋅m[a]⋅{{U^\\nu}}[b, j]⋅{{U^{\\nu *}}}[a, i]"
      ]
     },
     "execution_count": 7,
     "metadata": {},
     "output_type": "execute_result"
    }
   ],
   "source": [
    "triangleGninj = lfvhd.TriangleSFF(vertexhnn(i,j),vertexneGu(j,b),vertexenGd(i,a),[mW,mn[i],mn[j]])\n",
    "AL1 = (-triangleGninj.AL()/A).expand().collect([C[i,j],Cc[i,j]],simplify).collect(triangleGninj.Cs\n",
    "                                                            ).simplify().subs(cambios)\n",
    "AL1"
   ]
  },
  {
   "cell_type": "code",
   "execution_count": 8,
   "metadata": {},
   "outputs": [
    {
     "data": {
      "image/png": "[encoded data removed]",
      "text/latex": [
       "$\\displaystyle - \\Delta_\\epsilon \\left({C}_{i,j} {{{m_n}}}_{j} + {{{C^*}}}_{i,j} {{{m_n}}}_{i}\\right) {m}_{a} {{{U^\\nu}}}_{b,j} {{{U^{\\nu *}}}}_{a,i} {{{m_n}}}_{j} - \\frac{\\left(m_{W}^{2} m_{a}^{2} \\operatorname{C_{0}}{\\left(m_{W},{{{m_n}}}_{i},{{{m_n}}}_{j} \\right)} {C}_{i,j} {{{m_n}}}_{j}^{2} + m_{W}^{2} m_{a}^{2} \\operatorname{C_{0}}{\\left(m_{W},{{{m_n}}}_{i},{{{m_n}}}_{j} \\right)} {{{C^*}}}_{i,j} {{{m_n}}}_{i} {{{m_n}}}_{j} + m_{W}^{2} \\operatorname{C_{0}}{\\left(m_{W},{{{m_n}}}_{i},{{{m_n}}}_{j} \\right)} {C}_{i,j} {m}_{a}^{2} {{{m_n}}}_{j}^{2} + m_{W}^{2} \\operatorname{C_{0}}{\\left(m_{W},{{{m_n}}}_{i},{{{m_n}}}_{j} \\right)} {C}_{i,j} {m}_{b}^{2} {{{m_n}}}_{i}^{2} - 2 m_{W}^{2} \\operatorname{C_{0}}{\\left(m_{W},{{{m_n}}}_{i},{{{m_n}}}_{j} \\right)} {C}_{i,j} {{{m_n}}}_{i}^{2} {{{m_n}}}_{j}^{2} + m_{W}^{2} \\operatorname{C_{0}}{\\left(m_{W},{{{m_n}}}_{i},{{{m_n}}}_{j} \\right)} {m}_{a}^{2} {{{C^*}}}_{i,j} {{{m_n}}}_{i} {{{m_n}}}_{j} + m_{W}^{2} \\operatorname{C_{0}}{\\left(m_{W},{{{m_n}}}_{i},{{{m_n}}}_{j} \\right)} {m}_{b}^{2} {{{C^*}}}_{i,j} {{{m_n}}}_{i} {{{m_n}}}_{j} - m_{W}^{2} \\operatorname{C_{0}}{\\left(m_{W},{{{m_n}}}_{i},{{{m_n}}}_{j} \\right)} {{{C^*}}}_{i,j} {{{m_n}}}_{i}^{3} {{{m_n}}}_{j} - m_{W}^{2} \\operatorname{C_{0}}{\\left(m_{W},{{{m_n}}}_{i},{{{m_n}}}_{j} \\right)} {{{C^*}}}_{i,j} {{{m_n}}}_{i} {{{m_n}}}_{j}^{3} + m_{a}^{2} \\operatorname{{{b^{(12)}_0}}}{\\left({{{m_n}}}_{i},{{{m_n}}}_{j} \\right)} {C}_{i,j} {{{m_n}}}_{j}^{2} + m_{a}^{2} \\operatorname{{{b^{(12)}_0}}}{\\left({{{m_n}}}_{i},{{{m_n}}}_{j} \\right)} {{{C^*}}}_{i,j} {{{m_n}}}_{i} {{{m_n}}}_{j} - \\operatorname{C_{0}}{\\left(m_{W},{{{m_n}}}_{i},{{{m_n}}}_{j} \\right)} {C}_{i,j} {m}_{a}^{2} {{{m_n}}}_{j}^{4} - \\operatorname{C_{0}}{\\left(m_{W},{{{m_n}}}_{i},{{{m_n}}}_{j} \\right)} {C}_{i,j} {m}_{b}^{2} {{{m_n}}}_{i}^{2} {{{m_n}}}_{j}^{2} + 2 \\operatorname{C_{0}}{\\left(m_{W},{{{m_n}}}_{i},{{{m_n}}}_{j} \\right)} {C}_{i,j} {{{m_n}}}_{i}^{2} {{{m_n}}}_{j}^{4} - \\operatorname{C_{0}}{\\left(m_{W},{{{m_n}}}_{i},{{{m_n}}}_{j} \\right)} {m}_{a}^{2} {{{C^*}}}_{i,j} {{{m_n}}}_{i} {{{m_n}}}_{j}^{3} - \\operatorname{C_{0}}{\\left(m_{W},{{{m_n}}}_{i},{{{m_n}}}_{j} \\right)} {m}_{b}^{2} {{{C^*}}}_{i,j} {{{m_n}}}_{i} {{{m_n}}}_{j}^{3} + \\operatorname{C_{0}}{\\left(m_{W},{{{m_n}}}_{i},{{{m_n}}}_{j} \\right)} {{{C^*}}}_{i,j} {{{m_n}}}_{i}^{3} {{{m_n}}}_{j}^{3} + \\operatorname{C_{0}}{\\left(m_{W},{{{m_n}}}_{i},{{{m_n}}}_{j} \\right)} {{{C^*}}}_{i,j} {{{m_n}}}_{i} {{{m_n}}}_{j}^{5} - \\operatorname{{{b^{(1)}_0}}}{\\left(m_{W},{{{m_n}}}_{i} \\right)} {C}_{i,j} {m}_{a}^{2} {{{m_n}}}_{j}^{2} - \\operatorname{{{b^{(1)}_0}}}{\\left(m_{W},{{{m_n}}}_{i} \\right)} {C}_{i,j} {m}_{b}^{2} {{{m_n}}}_{i}^{2} + 2 \\operatorname{{{b^{(1)}_0}}}{\\left(m_{W},{{{m_n}}}_{i} \\right)} {C}_{i,j} {{{m_n}}}_{i}^{2} {{{m_n}}}_{j}^{2} - \\operatorname{{{b^{(1)}_0}}}{\\left(m_{W},{{{m_n}}}_{i} \\right)} {m}_{a}^{2} {{{C^*}}}_{i,j} {{{m_n}}}_{i} {{{m_n}}}_{j} - \\operatorname{{{b^{(1)}_0}}}{\\left(m_{W},{{{m_n}}}_{i} \\right)} {m}_{b}^{2} {{{C^*}}}_{i,j} {{{m_n}}}_{i} {{{m_n}}}_{j} + \\operatorname{{{b^{(1)}_0}}}{\\left(m_{W},{{{m_n}}}_{i} \\right)} {{{C^*}}}_{i,j} {{{m_n}}}_{i}^{3} {{{m_n}}}_{j} + \\operatorname{{{b^{(1)}_0}}}{\\left(m_{W},{{{m_n}}}_{i} \\right)} {{{C^*}}}_{i,j} {{{m_n}}}_{i} {{{m_n}}}_{j}^{3} + \\operatorname{{{b^{(12)}_0}}}{\\left({{{m_n}}}_{i},{{{m_n}}}_{j} \\right)} {C}_{i,j} {m}_{a}^{2} {{{m_n}}}_{j}^{2} + \\operatorname{{{b^{(12)}_0}}}{\\left({{{m_n}}}_{i},{{{m_n}}}_{j} \\right)} {C}_{i,j} {m}_{b}^{2} {{{m_n}}}_{i}^{2} - 2 \\operatorname{{{b^{(12)}_0}}}{\\left({{{m_n}}}_{i},{{{m_n}}}_{j} \\right)} {C}_{i,j} {{{m_n}}}_{i}^{2} {{{m_n}}}_{j}^{2} + \\operatorname{{{b^{(12)}_0}}}{\\left({{{m_n}}}_{i},{{{m_n}}}_{j} \\right)} {m}_{a}^{2} {{{C^*}}}_{i,j} {{{m_n}}}_{i} {{{m_n}}}_{j} + \\operatorname{{{b^{(12)}_0}}}{\\left({{{m_n}}}_{i},{{{m_n}}}_{j} \\right)} {m}_{b}^{2} {{{C^*}}}_{i,j} {{{m_n}}}_{i} {{{m_n}}}_{j} - \\operatorname{{{b^{(12)}_0}}}{\\left({{{m_n}}}_{i},{{{m_n}}}_{j} \\right)} {{{C^*}}}_{i,j} {{{m_n}}}_{i}^{3} {{{m_n}}}_{j} - \\operatorname{{{b^{(12)}_0}}}{\\left({{{m_n}}}_{i},{{{m_n}}}_{j} \\right)} {{{C^*}}}_{i,j} {{{m_n}}}_{i} {{{m_n}}}_{j}^{3}\\right) {m}_{a} {{{U^\\nu}}}_{b,j} {{{U^{\\nu *}}}}_{a,i}}{m_{a}^{2}}$"
      ],
      "text/plain": [
       "                                                                              \n",
       "                                                                              \n",
       "-\\Delta_\\epsilon⋅(C[i, j]⋅{{m_n}}[j] + {{C^*}}[i, j]⋅{{m_n}}[i])⋅m[a]⋅{{U^\\nu}\n",
       "                                                                              \n",
       "                                                                              \n",
       "\n",
       "                                         ⎛   2   2                            \n",
       "                                         ⎝m_W ⋅mₐ ⋅C₀(m_W, {{m_n}}[i], {{m_n}}\n",
       "}[b, j]⋅{{U^{\\nu *}}}[a, i]⋅{{m_n}}[j] - ─────────────────────────────────────\n",
       "                                                                              \n",
       "                                                                              \n",
       "\n",
       "                       2      2   2                                           \n",
       "[j])⋅C[i, j]⋅{{m_n}}[j]  + m_W ⋅mₐ ⋅C₀(m_W, {{m_n}}[i], {{m_n}}[j])⋅{{C^*}}[i,\n",
       "──────────────────────────────────────────────────────────────────────────────\n",
       "                                                                              \n",
       "                                                                              \n",
       "\n",
       "                               2                                             2\n",
       " j]⋅{{m_n}}[i]⋅{{m_n}}[j] + m_W ⋅C₀(m_W, {{m_n}}[i], {{m_n}}[j])⋅C[i, j]⋅m[a] \n",
       "──────────────────────────────────────────────────────────────────────────────\n",
       "                                                                              \n",
       "                                                                              \n",
       "\n",
       "           2      2                                             2           2 \n",
       "⋅{{m_n}}[j]  + m_W ⋅C₀(m_W, {{m_n}}[i], {{m_n}}[j])⋅C[i, j]⋅m[b] ⋅{{m_n}}[i]  \n",
       "──────────────────────────────────────────────────────────────────────────────\n",
       "                                                                              \n",
       "                                                                              \n",
       "\n",
       "       2                                                   2           2      \n",
       "- 2⋅m_W ⋅C₀(m_W, {{m_n}}[i], {{m_n}}[j])⋅C[i, j]⋅{{m_n}}[i] ⋅{{m_n}}[j]  + m_W\n",
       "──────────────────────────────────────────────────────────────────────────────\n",
       "                                                                              \n",
       "                                                                              \n",
       "\n",
       "2                                     2                                       \n",
       " ⋅C₀(m_W, {{m_n}}[i], {{m_n}}[j])⋅m[a] ⋅{{C^*}}[i, j]⋅{{m_n}}[i]⋅{{m_n}}[j] + \n",
       "──────────────────────────────────────────────────────────────────────────────\n",
       "                                                                              \n",
       "                                                                              \n",
       "\n",
       "   2                                     2                                    \n",
       "m_W ⋅C₀(m_W, {{m_n}}[i], {{m_n}}[j])⋅m[b] ⋅{{C^*}}[i, j]⋅{{m_n}}[i]⋅{{m_n}}[j]\n",
       "──────────────────────────────────────────────────────────────────────────────\n",
       "                                                                              \n",
       "                                                                              \n",
       "\n",
       "      2                                                         3             \n",
       " - m_W ⋅C₀(m_W, {{m_n}}[i], {{m_n}}[j])⋅{{C^*}}[i, j]⋅{{m_n}}[i] ⋅{{m_n}}[j] -\n",
       "──────────────────────────────────────────────────────────────────────────────\n",
       "                                                                              \n",
       "                                                                              \n",
       "\n",
       "    2                                                                    3    \n",
       " m_W ⋅C₀(m_W, {{m_n}}[i], {{m_n}}[j])⋅{{C^*}}[i, j]⋅{{m_n}}[i]⋅{{m_n}}[j]  + m\n",
       "──────────────────────────────────────────────────────────────────────────────\n",
       "                                                                              \n",
       "                                                                              \n",
       "\n",
       " 2                                                           2     2          \n",
       "ₐ ⋅{{b_0}}__{(12)}({{m_n}}[i], {{m_n}}[j])⋅C[i, j]⋅{{m_n}}[j]  + mₐ ⋅{{b_0}}__\n",
       "──────────────────────────────────────────────────────────────────────────────\n",
       "                                                                              \n",
       "                                                                              \n",
       "\n",
       "                                                                              \n",
       "{(12)}({{m_n}}[i], {{m_n}}[j])⋅{{C^*}}[i, j]⋅{{m_n}}[i]⋅{{m_n}}[j] - C₀(m_W, {\n",
       "──────────────────────────────────────────────────────────────────────────────\n",
       "                                                                              \n",
       "                                                                              \n",
       "\n",
       "                                   2           4                              \n",
       "{m_n}}[i], {{m_n}}[j])⋅C[i, j]⋅m[a] ⋅{{m_n}}[j]  - C₀(m_W, {{m_n}}[i], {{m_n}}\n",
       "──────────────────────────────────────────────────────────────────────────────\n",
       "                                                                              \n",
       "                                                                              \n",
       "\n",
       "                 2           2           2                                    \n",
       "[j])⋅C[i, j]⋅m[b] ⋅{{m_n}}[i] ⋅{{m_n}}[j]  + 2⋅C₀(m_W, {{m_n}}[i], {{m_n}}[j])\n",
       "──────────────────────────────────────────────────────────────────────────────\n",
       "                                                                              \n",
       "                                                                              \n",
       "\n",
       "                   2           4                                       2      \n",
       "⋅C[i, j]⋅{{m_n}}[i] ⋅{{m_n}}[j]  - C₀(m_W, {{m_n}}[i], {{m_n}}[j])⋅m[a] ⋅{{C^*\n",
       "──────────────────────────────────────────────────────────────────────────────\n",
       "                                                                              \n",
       "                                                                              \n",
       "\n",
       "                              3                                       2       \n",
       "}}[i, j]⋅{{m_n}}[i]⋅{{m_n}}[j]  - C₀(m_W, {{m_n}}[i], {{m_n}}[j])⋅m[b] ⋅{{C^*}\n",
       "──────────────────────────────────────────────────────────────────────────────\n",
       "                                                                              \n",
       "                                                                              \n",
       "\n",
       "                             3                                                \n",
       "}[i, j]⋅{{m_n}}[i]⋅{{m_n}}[j]  + C₀(m_W, {{m_n}}[i], {{m_n}}[j])⋅{{C^*}}[i, j]\n",
       "──────────────────────────────────────────────────────────────────────────────\n",
       "                                                     2                        \n",
       "                                                   mₐ                         \n",
       "\n",
       "           3           3                                                      \n",
       "⋅{{m_n}}[i] ⋅{{m_n}}[j]  + C₀(m_W, {{m_n}}[i], {{m_n}}[j])⋅{{C^*}}[i, j]⋅{{m_n\n",
       "──────────────────────────────────────────────────────────────────────────────\n",
       "                                                                              \n",
       "                                                                              \n",
       "\n",
       "                5                                               2           2 \n",
       "}}[i]⋅{{m_n}}[j]  - {{b_0}}__{(1)}(m_W, {{m_n}}[i])⋅C[i, j]⋅m[a] ⋅{{m_n}}[j]  \n",
       "──────────────────────────────────────────────────────────────────────────────\n",
       "                                                                              \n",
       "                                                                              \n",
       "\n",
       "                                              2           2                   \n",
       "- {{b_0}}__{(1)}(m_W, {{m_n}}[i])⋅C[i, j]⋅m[b] ⋅{{m_n}}[i]  + 2⋅{{b_0}}__{(1)}\n",
       "──────────────────────────────────────────────────────────────────────────────\n",
       "                                                                              \n",
       "                                                                              \n",
       "\n",
       "                                    2           2                             \n",
       "(m_W, {{m_n}}[i])⋅C[i, j]⋅{{m_n}}[i] ⋅{{m_n}}[j]  - {{b_0}}__{(1)}(m_W, {{m_n}\n",
       "──────────────────────────────────────────────────────────────────────────────\n",
       "                                                                              \n",
       "                                                                              \n",
       "\n",
       "          2                                                                   \n",
       "}[i])⋅m[a] ⋅{{C^*}}[i, j]⋅{{m_n}}[i]⋅{{m_n}}[j] - {{b_0}}__{(1)}(m_W, {{m_n}}[\n",
       "──────────────────────────────────────────────────────────────────────────────\n",
       "                                                                              \n",
       "                                                                              \n",
       "\n",
       "        2                                                                     \n",
       "i])⋅m[b] ⋅{{C^*}}[i, j]⋅{{m_n}}[i]⋅{{m_n}}[j] + {{b_0}}__{(1)}(m_W, {{m_n}}[i]\n",
       "──────────────────────────────────────────────────────────────────────────────\n",
       "                                                                              \n",
       "                                                                              \n",
       "\n",
       "                          3                                                   \n",
       ")⋅{{C^*}}[i, j]⋅{{m_n}}[i] ⋅{{m_n}}[j] + {{b_0}}__{(1)}(m_W, {{m_n}}[i])⋅{{C^*\n",
       "──────────────────────────────────────────────────────────────────────────────\n",
       "                                                                              \n",
       "                                                                              \n",
       "\n",
       "                              3                                               \n",
       "}}[i, j]⋅{{m_n}}[i]⋅{{m_n}}[j]  + {{b_0}}__{(12)}({{m_n}}[i], {{m_n}}[j])⋅C[i,\n",
       "──────────────────────────────────────────────────────────────────────────────\n",
       "                                                                              \n",
       "                                                                              \n",
       "\n",
       "        2           2                                                       2 \n",
       " j]⋅m[a] ⋅{{m_n}}[j]  + {{b_0}}__{(12)}({{m_n}}[i], {{m_n}}[j])⋅C[i, j]⋅m[b] ⋅\n",
       "──────────────────────────────────────────────────────────────────────────────\n",
       "                                                                              \n",
       "                                                                              \n",
       "\n",
       "          2                                                               2   \n",
       "{{m_n}}[i]  - 2⋅{{b_0}}__{(12)}({{m_n}}[i], {{m_n}}[j])⋅C[i, j]⋅{{m_n}}[i] ⋅{{\n",
       "──────────────────────────────────────────────────────────────────────────────\n",
       "                                                                              \n",
       "                                                                              \n",
       "\n",
       "        2                                               2                     \n",
       "m_n}}[j]  + {{b_0}}__{(12)}({{m_n}}[i], {{m_n}}[j])⋅m[a] ⋅{{C^*}}[i, j]⋅{{m_n}\n",
       "──────────────────────────────────────────────────────────────────────────────\n",
       "                                                                              \n",
       "                                                                              \n",
       "\n",
       "                                                              2               \n",
       "}[i]⋅{{m_n}}[j] + {{b_0}}__{(12)}({{m_n}}[i], {{m_n}}[j])⋅m[b] ⋅{{C^*}}[i, j]⋅\n",
       "──────────────────────────────────────────────────────────────────────────────\n",
       "                                                                              \n",
       "                                                                              \n",
       "\n",
       "                                                                              \n",
       "{{m_n}}[i]⋅{{m_n}}[j] - {{b_0}}__{(12)}({{m_n}}[i], {{m_n}}[j])⋅{{C^*}}[i, j]⋅\n",
       "──────────────────────────────────────────────────────────────────────────────\n",
       "                                                                              \n",
       "                                                                              \n",
       "\n",
       "          3                                                                   \n",
       "{{m_n}}[i] ⋅{{m_n}}[j] - {{b_0}}__{(12)}({{m_n}}[i], {{m_n}}[j])⋅{{C^*}}[i, j]\n",
       "──────────────────────────────────────────────────────────────────────────────\n",
       "                                                                              \n",
       "                                                                              \n",
       "\n",
       "                      3⎞                                         \n",
       "⋅{{m_n}}[i]⋅{{m_n}}[j] ⎠⋅m[a]⋅{{U^\\nu}}[b, j]⋅{{U^{\\nu *}}}[a, i]\n",
       "─────────────────────────────────────────────────────────────────\n",
       "                                                                 \n",
       "                                                                 "
      ]
     },
     "execution_count": 8,
     "metadata": {},
     "output_type": "execute_result"
    }
   ],
   "source": [
    "AL1.subs(lfvhd.cambiosDivFin(mW,mn[i],mn[j])).expand().collect([lfvhd.Δe],factor)"
   ]
  },
  {
   "cell_type": "markdown",
   "metadata": {},
   "source": [
    "This is the diagram 1 of our reference (1) and the **right** form factor is given by\n",
    "\n",
    "$\\begin{aligned} F_{R}^{(1)} &=-\\frac{g^{3} m_{b}}{64 \\pi^{2} m_{W}^{3}} \\sum_{i, j=1}^{K+3} B_{a i} B_{b j}^{*}\\left\\{C_{i j}\\left[m_{n_{i}}^{2}\\left(B_{0}^{(12)}+m_{W}^{2} C_{0}\\right)\\right.\\right.\\\\ &\\left.+\\left(m_{a}^{2} m_{n_{j}}^{2}+m_{b}^{2} m_{n_{i}}^{2}-2 m_{n_{i}}^{2} m_{n_{j}}^{2}\\right) C_{2}\\right] \\\\ &\\left.+m_{n_{i}} m_{n_{j}} C_{i j}^{*}\\left[B_{0}^{(12)}+m_{W}^{2} C_{0}-\\left(m_{n_{i}}^{2}+m_{n_{j}}^{2}-m_{a}^{2}-m_{b}^{2}\\right) C_{2}\\right]\\right\\} \\end{aligned}$"
   ]
  },
  {
   "cell_type": "code",
   "execution_count": 9,
   "metadata": {},
   "outputs": [
    {
     "data": {
      "image/png": "[encoded data removed]",
      "text/latex": [
       "$\\displaystyle - \\left(\\left(m_{W}^{2} \\operatorname{C_{0}}{\\left(m_{W},{{{m_n}}}_{i},{{{m_n}}}_{j} \\right)} + \\left({m}_{a}^{2} + {m}_{b}^{2} - {{{m_n}}}_{i}^{2} - {{{m_n}}}_{j}^{2}\\right) \\operatorname{C_{2}}{\\left(m_{W},{{{m_n}}}_{i},{{{m_n}}}_{j} \\right)} + \\operatorname{{{B^{(12)}_{0}}}}{\\left({{{m_n}}}_{i},{{{m_n}}}_{j} \\right)}\\right) {{{C^*}}}_{i,j} {{{m_n}}}_{i} {{{m_n}}}_{j} + \\left(m_{W}^{2} \\operatorname{C_{0}}{\\left(m_{W},{{{m_n}}}_{i},{{{m_n}}}_{j} \\right)} {{{m_n}}}_{i}^{2} + \\left({m}_{a}^{2} {{{m_n}}}_{j}^{2} + {m}_{b}^{2} {{{m_n}}}_{i}^{2} - 2 {{{m_n}}}_{i}^{2} {{{m_n}}}_{j}^{2}\\right) \\operatorname{C_{2}}{\\left(m_{W},{{{m_n}}}_{i},{{{m_n}}}_{j} \\right)} + \\operatorname{{{B^{(12)}_{0}}}}{\\left({{{m_n}}}_{i},{{{m_n}}}_{j} \\right)} {{{m_n}}}_{i}^{2}\\right) {C}_{i,j}\\right) {m}_{b} {{{U^\\nu}}}_{b,j} {{{U^{\\nu *}}}}_{a,i}$"
      ],
      "text/plain": [
       " ⎛⎛   2                                   ⎛    2       2             2        \n",
       "-⎝⎝m_W ⋅C₀(m_W, {{m_n}}[i], {{m_n}}[j]) + ⎝m[a]  + m[b]  - {{m_n}}[i]  - {{m_n\n",
       "\n",
       "     2⎞                                                                       \n",
       "}}[j] ⎠⋅C₂(m_W, {{m_n}}[i], {{m_n}}[j]) + {{B_{0}}}__{(12)}({{m_n}}[i], {{m_n}\n",
       "\n",
       "     ⎞                                       ⎛   2                            \n",
       "}[j])⎠⋅{{C^*}}[i, j]⋅{{m_n}}[i]⋅{{m_n}}[j] + ⎝m_W ⋅C₀(m_W, {{m_n}}[i], {{m_n}}\n",
       "\n",
       "               2   ⎛    2           2       2           2               2     \n",
       "[j])⋅{{m_n}}[i]  + ⎝m[a] ⋅{{m_n}}[j]  + m[b] ⋅{{m_n}}[i]  - 2⋅{{m_n}}[i] ⋅{{m_\n",
       "\n",
       "      2⎞                                                                      \n",
       "n}}[j] ⎠⋅C₂(m_W, {{m_n}}[i], {{m_n}}[j]) + {{B_{0}}}__{(12)}({{m_n}}[i], {{m_n\n",
       "\n",
       "                 2⎞        ⎞                                         \n",
       "}}[j])⋅{{m_n}}[i] ⎠⋅C[i, j]⎠⋅m[b]⋅{{U^\\nu}}[b, j]⋅{{U^{\\nu *}}}[a, i]"
      ]
     },
     "execution_count": 9,
     "metadata": {},
     "output_type": "execute_result"
    }
   ],
   "source": [
    "(-triangleGninj.AR()/A).expand().collect([C[i,j],Cc[i,j]],simplify).collect([lfvhd.C2(mW,mn[i],mn[j])]).simplify(\n",
    ").simplify().subs(cambios)"
   ]
  },
  {
   "cell_type": "markdown",
   "metadata": {},
   "source": [
    "### Triangle Wninj\n",
    "\n",
    "This is the diagram 2 of our reference (**we changed the coupling $enW^-(j,b)$ and $enW^+(i,a)$ by $enW^+(j,b)$ and $enW^-(i,a)$**)"
   ]
  },
  {
   "cell_type": "code",
   "execution_count": 10,
   "metadata": {},
   "outputs": [],
   "source": [
    "#vertexhnn = lambda i,j: lfvhd.VertexHF0F0((-I*g)/(2*mW)*(mn[j]*C[i,j] + mn[i]*Cc[i,j]),(-I*g)/(2*mW)*(\n",
    "#    mn[i]*C[i,j] + mn[j]*Cc[i,j]))\n",
    "triangleWninj = lfvhd.TriangleVFF(vertexhnn(i,j),vertexneWu(j,b),vertexenWd(i,a),[mW,mn[i],mn[j]])"
   ]
  },
  {
   "cell_type": "markdown",
   "metadata": {},
   "source": [
    "$\\begin{aligned} F_{L}^{(2)} &=\\frac{g^{3} m_{a}}{64 \\pi^{2} m_{W}^{3}} \\sum_{i, j=1}^{K+3} B_{a i} B_{b j}^{*} \\times 2 m_{W}^{2} \\\\ & \\times\\left\\{C_{i j}\\left[m_{n_{j}}^{2} C_{0}-\\left(m_{n_{i}}^{2}+m_{n_{j}}^{2}\\right) C_{1}\\right]+m_{n_{i}} m_{n_{j}} C_{i j}^{*}\\left(C_{0}-2 C_{1}\\right)\\right\\} \\end{aligned}$"
   ]
  },
  {
   "cell_type": "code",
   "execution_count": 11,
   "metadata": {},
   "outputs": [
    {
     "data": {
      "image/png": "[encoded data removed]",
      "text/latex": [
       "$\\displaystyle 2 m_{W}^{2} \\left(\\left(\\operatorname{C_{0}}{\\left(m_{W},{{{m_n}}}_{i},{{{m_n}}}_{j} \\right)} - 2 \\operatorname{C_{1}}{\\left(m_{W},{{{m_n}}}_{i},{{{m_n}}}_{j} \\right)}\\right) {{{C^*}}}_{i,j} {{{m_n}}}_{i} {{{m_n}}}_{j} - \\left(- \\operatorname{C_{0}}{\\left(m_{W},{{{m_n}}}_{i},{{{m_n}}}_{j} \\right)} {{{m_n}}}_{j}^{2} + \\operatorname{C_{1}}{\\left(m_{W},{{{m_n}}}_{i},{{{m_n}}}_{j} \\right)} {{{m_n}}}_{i}^{2} + \\operatorname{C_{1}}{\\left(m_{W},{{{m_n}}}_{i},{{{m_n}}}_{j} \\right)} {{{m_n}}}_{j}^{2}\\right) {C}_{i,j}\\right) {m}_{a} {{{U^\\nu}}}_{b,j} {{{U^{\\nu *}}}}_{a,i}$"
      ],
      "text/plain": [
       "     2 ⎛                                                                      \n",
       "2⋅m_W ⋅⎝(C₀(m_W, {{m_n}}[i], {{m_n}}[j]) - 2⋅C₁(m_W, {{m_n}}[i], {{m_n}}[j]))⋅\n",
       "\n",
       "                                      ⎛                                       \n",
       "{{C^*}}[i, j]⋅{{m_n}}[i]⋅{{m_n}}[j] - ⎝- C₀(m_W, {{m_n}}[i], {{m_n}}[j])⋅{{m_n\n",
       "\n",
       "     2                                             2                          \n",
       "}}[j]  + C₁(m_W, {{m_n}}[i], {{m_n}}[j])⋅{{m_n}}[i]  + C₁(m_W, {{m_n}}[i], {{m\n",
       "\n",
       "                   2⎞        ⎞                                         \n",
       "_n}}[j])⋅{{m_n}}[j] ⎠⋅C[i, j]⎠⋅m[a]⋅{{U^\\nu}}[b, j]⋅{{U^{\\nu *}}}[a, i]"
      ]
     },
     "execution_count": 11,
     "metadata": {},
     "output_type": "execute_result"
    }
   ],
   "source": [
    "AL2 = (-triangleWninj.AL().subs(lfvhd.D,4)/A).expand().collect([C[i,j],Cc[i,j]],simplify).subs(\n",
    "    cambios).simplify()\n",
    "AL2"
   ]
  },
  {
   "cell_type": "markdown",
   "metadata": {},
   "source": [
    " $\\begin{aligned} F_{R}^{(2)} &=\\frac{g^{3} m_{b}}{64 \\pi^{2} m_{W}^{3}} \\sum_{i, j=1}^{K+3} B_{a i} B_{b j}^{*} \\times 2 m_{W}^{2} \\\\ & \\times\\left\\{C_{i j}\\left[m_{n_{i}}^{2} C_{0}+\\left(m_{n_{i}}^{2}+m_{n_{j}}^{2}\\right) C_{2}\\right]+m_{n_{i}} m_{n_{j}} C_{i j}^{*}\\left(C_{0}+2 C_{2}\\right)\\right\\} \\end{aligned}$"
   ]
  },
  {
   "cell_type": "code",
   "execution_count": 12,
   "metadata": {},
   "outputs": [
    {
     "data": {
      "image/png": "[encoded data removed]",
      "text/latex": [
       "$\\displaystyle 2 m_{W}^{2} \\left(\\left(\\operatorname{C_{0}}{\\left(m_{W},{{{m_n}}}_{i},{{{m_n}}}_{j} \\right)} + 2 \\operatorname{C_{2}}{\\left(m_{W},{{{m_n}}}_{i},{{{m_n}}}_{j} \\right)}\\right) {{{C^*}}}_{i,j} {{{m_n}}}_{i} {{{m_n}}}_{j} + \\left(\\operatorname{C_{0}}{\\left(m_{W},{{{m_n}}}_{i},{{{m_n}}}_{j} \\right)} {{{m_n}}}_{i}^{2} + \\operatorname{C_{2}}{\\left(m_{W},{{{m_n}}}_{i},{{{m_n}}}_{j} \\right)} {{{m_n}}}_{i}^{2} + \\operatorname{C_{2}}{\\left(m_{W},{{{m_n}}}_{i},{{{m_n}}}_{j} \\right)} {{{m_n}}}_{j}^{2}\\right) {C}_{i,j}\\right) {m}_{b} {{{U^\\nu}}}_{b,j} {{{U^{\\nu *}}}}_{a,i}$"
      ],
      "text/plain": [
       "     2 ⎛                                                                      \n",
       "2⋅m_W ⋅⎝(C₀(m_W, {{m_n}}[i], {{m_n}}[j]) + 2⋅C₂(m_W, {{m_n}}[i], {{m_n}}[j]))⋅\n",
       "\n",
       "                                      ⎛                                       \n",
       "{{C^*}}[i, j]⋅{{m_n}}[i]⋅{{m_n}}[j] + ⎝C₀(m_W, {{m_n}}[i], {{m_n}}[j])⋅{{m_n}}\n",
       "\n",
       "   2                                             2                            \n",
       "[i]  + C₂(m_W, {{m_n}}[i], {{m_n}}[j])⋅{{m_n}}[i]  + C₂(m_W, {{m_n}}[i], {{m_n\n",
       "\n",
       "                 2⎞        ⎞                                         \n",
       "}}[j])⋅{{m_n}}[j] ⎠⋅C[i, j]⎠⋅m[b]⋅{{U^\\nu}}[b, j]⋅{{U^{\\nu *}}}[a, i]"
      ]
     },
     "execution_count": 12,
     "metadata": {},
     "output_type": "execute_result"
    }
   ],
   "source": [
    "(-triangleWninj.AR().subs(lfvhd.D,4)/A).expand().collect([C[i,j],Cc[i,j]],simplify).subs(\n",
    "    cambios).simplify()"
   ]
  },
  {
   "cell_type": "markdown",
   "metadata": {},
   "source": [
    "### Triangle niWW\n",
    "\n",
    "This is the diagram 3 of our reference (**we changed the coupling $enW^-(j,b)$ and $enW^+(i,a)$ by $enW^+(j,b)$ and $enW^-(i,a)$**)"
   ]
  },
  {
   "cell_type": "code",
   "execution_count": 13,
   "metadata": {},
   "outputs": [],
   "source": [
    "triangleniWW = lfvhd.TriangleFVV(vertexhWW,vertexneWu(i,b),vertexenWd(i,a),[mn[i],mW,mW])"
   ]
  },
  {
   "cell_type": "code",
   "execution_count": 14,
   "metadata": {},
   "outputs": [
    {
     "data": {
      "image/png": "[encoded data removed]",
      "text/latex": [
       "$\\displaystyle \\frac{g^{3} m_{W} \\operatorname{C_{1}}{\\left({{{m_n}}}_{i},m_{W},m_{W} \\right)} {m}_{a} {{{U^\\nu}}}_{b,i} {{{U^{\\nu *}}}}_{a,i}}{16 \\pi^{2}}$"
      ],
      "text/plain": [
       " 3                                                                      \n",
       "g ⋅m_W⋅C₁({{m_n}}[i], m_W, m_W)⋅m[a]⋅{{U^\\nu}}[b, i]⋅{{U^{\\nu *}}}[a, i]\n",
       "────────────────────────────────────────────────────────────────────────\n",
       "                                     2                                  \n",
       "                                 16⋅π                                   "
      ]
     },
     "execution_count": 14,
     "metadata": {},
     "output_type": "execute_result"
    }
   ],
   "source": [
    "AL3 = (-triangleniWW.AL().subs(lfvhd.D,4)/A).subs(cambios)\n",
    "AL3*A"
   ]
  },
  {
   "cell_type": "code",
   "execution_count": 15,
   "metadata": {},
   "outputs": [
    {
     "data": {
      "image/png": "[encoded data removed]",
      "text/latex": [
       "$\\displaystyle - 4 m_{W}^{4} \\operatorname{C_{2}}{\\left({{{m_n}}}_{i},m_{W},m_{W} \\right)} {m}_{b} {{{U^\\nu}}}_{b,i} {{{U^{\\nu *}}}}_{a,i}$"
      ],
      "text/plain": [
       "      4                                                                  \n",
       "-4⋅m_W ⋅C₂({{m_n}}[i], m_W, m_W)⋅m[b]⋅{{U^\\nu}}[b, i]⋅{{U^{\\nu *}}}[a, i]"
      ]
     },
     "execution_count": 15,
     "metadata": {},
     "output_type": "execute_result"
    }
   ],
   "source": [
    "(-triangleniWW.AR().subs(lfvhd.D,4)/A).subs(cambios)"
   ]
  },
  {
   "cell_type": "markdown",
   "metadata": {},
   "source": [
    "### Triangle niWG\n",
    "\n",
    "This is the diagram 4 of our reference"
   ]
  },
  {
   "cell_type": "code",
   "execution_count": 16,
   "metadata": {},
   "outputs": [],
   "source": [
    "es = {b:eb,a:ea}\n",
    "#cambiosba = {lfvhd.ma:m[h],lfvhd.mi:m[b],lfvhd.mj:m[a]}\n",
    "#vertexenGdRL = lambda j,b: lfvhd.VertexSFF((-I*g)/(sqrt(2)*mW)*me[b]*Uνc[b,j],\n",
    "#                               (I*g)/(sqrt(2)*mW)*mn[j]*Uνc[b,j])\n",
    "#vertexenGdRL(i,a).show().simplify().subs(cambios)"
   ]
  },
  {
   "cell_type": "code",
   "execution_count": 17,
   "metadata": {},
   "outputs": [],
   "source": [
    "triangleniWG = lfvhd.TriangleFVS(vertexhWG,vertexneGu(i,b),vertexenWd(i,a),[mn[i],mW,mW])"
   ]
  },
  {
   "cell_type": "code",
   "execution_count": 18,
   "metadata": {},
   "outputs": [
    {
     "data": {
      "image/png": "[encoded data removed]",
      "text/latex": [
       "$\\displaystyle m_{W}^{2} \\left(- \\left(2 {m}_{b}^{2} - {{{m_n}}}_{i}^{2}\\right) \\operatorname{C_{1}}{\\left({{{m_n}}}_{i},m_{W},m_{W} \\right)} + \\operatorname{C_{0}}{\\left({{{m_n}}}_{i},m_{W},m_{W} \\right)} {{{m_n}}}_{i}^{2} + \\operatorname{C_{2}}{\\left({{{m_n}}}_{i},m_{W},m_{W} \\right)} {m}_{b}^{2}\\right) {m}_{a} {{{U^\\nu}}}_{b,i} {{{U^{\\nu *}}}}_{a,i}$"
      ],
      "text/plain": [
       "   2 ⎛  ⎛      2             2⎞                                               \n",
       "m_W ⋅⎝- ⎝2⋅m[b]  - {{m_n}}[i] ⎠⋅C₁({{m_n}}[i], m_W, m_W) + C₀({{m_n}}[i], m_W,\n",
       "\n",
       "                2                                2⎞                           \n",
       " m_W)⋅{{m_n}}[i]  + C₂({{m_n}}[i], m_W, m_W)⋅m[b] ⎠⋅m[a]⋅{{U^\\nu}}[b, i]⋅{{U^{\n",
       "\n",
       "              \n",
       "\\nu *}}}[a, i]"
      ]
     },
     "execution_count": 18,
     "metadata": {},
     "output_type": "execute_result"
    }
   ],
   "source": [
    "AL4 = (-triangleniWG.AL()/A).subs(lfvhd.D,4).expand().collect(\n",
    "    [lfvhd.C0(mn[i],mW,mW),lfvhd.C1(mn[i],mW,mW),lfvhd.C2(mn[i],mW,mW)],simplify).simplify(\n",
    ").subs(cambios)\n",
    "AL4"
   ]
  },
  {
   "cell_type": "code",
   "execution_count": 19,
   "metadata": {},
   "outputs": [
    {
     "data": {
      "image/png": "[encoded data removed]",
      "text/latex": [
       "$\\displaystyle m_{W}^{2} \\left(- \\left(2 {m}_{b}^{2} + {{{m_n}}}_{i}^{2}\\right) \\operatorname{C_{2}}{\\left({{{m_n}}}_{i},m_{W},m_{W} \\right)} + \\left({m}_{a}^{2} + 2 {m}_{b}^{2} - 2 {m}_{h}^{2}\\right) \\operatorname{C_{1}}{\\left({{{m_n}}}_{i},m_{W},m_{W} \\right)} - 3 \\operatorname{C_{0}}{\\left({{{m_n}}}_{i},m_{W},m_{W} \\right)} {{{m_n}}}_{i}^{2} - \\operatorname{{{B^{(12)}_{0}}}}{\\left(m_{W},m_{W} \\right)}\\right) {m}_{b} {{{U^\\nu}}}_{b,i} {{{U^{\\nu *}}}}_{a,i}$"
      ],
      "text/plain": [
       "   2 ⎛  ⎛      2             2⎞                            ⎛    2         2   \n",
       "m_W ⋅⎝- ⎝2⋅m[b]  + {{m_n}}[i] ⎠⋅C₂({{m_n}}[i], m_W, m_W) + ⎝m[a]  + 2⋅m[b]  - \n",
       "\n",
       "      2⎞                                                                 2    \n",
       "2⋅m[h] ⎠⋅C₁({{m_n}}[i], m_W, m_W) - 3⋅C₀({{m_n}}[i], m_W, m_W)⋅{{m_n}}[i]  - {\n",
       "\n",
       "                          ⎞                                         \n",
       "{B_{0}}}__{(12)}(m_W, m_W)⎠⋅m[b]⋅{{U^\\nu}}[b, i]⋅{{U^{\\nu *}}}[a, i]"
      ]
     },
     "execution_count": 19,
     "metadata": {},
     "output_type": "execute_result"
    }
   ],
   "source": [
    "(-triangleniWG.AR()/A).subs(lfvhd.D,4).expand().collect(\n",
    "    [lfvhd.C0(mn[i],mW,mW),lfvhd.C1(mn[i],mW,mW),lfvhd.C2(mn[i],mW,mW)],simplify).simplify(\n",
    ").subs(cambios)"
   ]
  },
  {
   "cell_type": "markdown",
   "metadata": {},
   "source": [
    "### Triangle niGW\n",
    "\n",
    "This is the diagram 5 of our reference"
   ]
  },
  {
   "cell_type": "code",
   "execution_count": 20,
   "metadata": {},
   "outputs": [],
   "source": [
    "#vertexneGuRL = lambda i,a: lfvhd.VertexSFF((I*g)/(sqrt(2)*mW)*mn[i]*Uν[a,i],\n",
    "#                                         (-I*g)/(sqrt(2)*mW)*me[a]*Uν[a,i])"
   ]
  },
  {
   "cell_type": "code",
   "execution_count": 21,
   "metadata": {},
   "outputs": [],
   "source": [
    "triangleniGW = lfvhd.TriangleFSV(vertexhGW,vertexneWu(i,b),vertexenGd(i,a),[mn[i],mW,mW])"
   ]
  },
  {
   "cell_type": "code",
   "execution_count": 22,
   "metadata": {},
   "outputs": [
    {
     "data": {
      "image/png": "[encoded data removed]",
      "text/latex": [
       "$\\displaystyle m_{W}^{2} \\left(\\left(2 {m}_{a}^{2} + {{{m_n}}}_{i}^{2}\\right) \\operatorname{C_{1}}{\\left({{{m_n}}}_{i},m_{W},m_{W} \\right)} - \\left(2 {m}_{a}^{2} + {m}_{b}^{2} - 2 {m}_{h}^{2}\\right) \\operatorname{C_{2}}{\\left({{{m_n}}}_{i},m_{W},m_{W} \\right)} - 3 \\operatorname{C_{0}}{\\left({{{m_n}}}_{i},m_{W},m_{W} \\right)} {{{m_n}}}_{i}^{2} - \\operatorname{{{B^{(12)}_{0}}}}{\\left(m_{W},m_{W} \\right)}\\right) {m}_{a} {{{U^\\nu}}}_{b,i} {{{U^{\\nu *}}}}_{a,i}$"
      ],
      "text/plain": [
       "   2 ⎛⎛      2             2⎞                            ⎛      2       2     \n",
       "m_W ⋅⎝⎝2⋅m[a]  + {{m_n}}[i] ⎠⋅C₁({{m_n}}[i], m_W, m_W) - ⎝2⋅m[a]  + m[b]  - 2⋅\n",
       "\n",
       "    2⎞                                                                 2      \n",
       "m[h] ⎠⋅C₂({{m_n}}[i], m_W, m_W) - 3⋅C₀({{m_n}}[i], m_W, m_W)⋅{{m_n}}[i]  - {{B\n",
       "\n",
       "                        ⎞                                         \n",
       "_{0}}}__{(12)}(m_W, m_W)⎠⋅m[a]⋅{{U^\\nu}}[b, i]⋅{{U^{\\nu *}}}[a, i]"
      ]
     },
     "execution_count": 22,
     "metadata": {},
     "output_type": "execute_result"
    }
   ],
   "source": [
    "AL5 = (-triangleniGW.AL()/A).subs(lfvhd.D,4).expand().collect(\n",
    "    [lfvhd.C0(mn[i],mW,mW),lfvhd.C1(mn[i],mW,mW),lfvhd.C2(mn[i],mW,mW)],simplify).simplify(\n",
    ").subs(cambios)\n",
    "AL5"
   ]
  },
  {
   "cell_type": "code",
   "execution_count": 23,
   "metadata": {},
   "outputs": [
    {
     "data": {
      "image/png": "[encoded data removed]",
      "text/latex": [
       "$\\displaystyle m_{W}^{2} \\left(\\left(2 {m}_{a}^{2} - {{{m_n}}}_{i}^{2}\\right) \\operatorname{C_{2}}{\\left({{{m_n}}}_{i},m_{W},m_{W} \\right)} + \\operatorname{C_{0}}{\\left({{{m_n}}}_{i},m_{W},m_{W} \\right)} {{{m_n}}}_{i}^{2} - \\operatorname{C_{1}}{\\left({{{m_n}}}_{i},m_{W},m_{W} \\right)} {m}_{a}^{2}\\right) {m}_{b} {{{U^\\nu}}}_{b,i} {{{U^{\\nu *}}}}_{a,i}$"
      ],
      "text/plain": [
       "   2 ⎛⎛      2             2⎞                                                 \n",
       "m_W ⋅⎝⎝2⋅m[a]  - {{m_n}}[i] ⎠⋅C₂({{m_n}}[i], m_W, m_W) + C₀({{m_n}}[i], m_W, m\n",
       "\n",
       "              2                                2⎞                             \n",
       "_W)⋅{{m_n}}[i]  - C₁({{m_n}}[i], m_W, m_W)⋅m[a] ⎠⋅m[b]⋅{{U^\\nu}}[b, i]⋅{{U^{\\n\n",
       "\n",
       "            \n",
       "u *}}}[a, i]"
      ]
     },
     "execution_count": 23,
     "metadata": {},
     "output_type": "execute_result"
    }
   ],
   "source": [
    "(-triangleniGW.AR()/A).subs(lfvhd.D,4).expand().collect(\n",
    "    [lfvhd.C0(mn[i],mW,mW),lfvhd.C1(mn[i],mW,mW),lfvhd.C2(mn[i],mW,mW)],simplify).simplify(\n",
    ").subs(cambios)"
   ]
  },
  {
   "cell_type": "markdown",
   "metadata": {},
   "source": [
    "### Triangle niGG\n",
    "\n",
    "This is the diagram 6 of our reference"
   ]
  },
  {
   "cell_type": "code",
   "execution_count": 24,
   "metadata": {},
   "outputs": [],
   "source": [
    "triangleniGG = lfvhd.TriangleFSS(vertexhGG,vertexneGu(i,b),vertexenGd(i,a),[mn[i],mW,mW])"
   ]
  },
  {
   "cell_type": "code",
   "execution_count": 25,
   "metadata": {},
   "outputs": [
    {
     "data": {
      "image/png": "[encoded data removed]",
      "text/latex": [
       "$\\displaystyle \\left(\\left(- \\operatorname{C_{0}}{\\left({{{m_n}}}_{i},m_{W},m_{W} \\right)} + \\operatorname{C_{1}}{\\left({{{m_n}}}_{i},m_{W},m_{W} \\right)}\\right) {{{m_n}}}_{i}^{2} - \\operatorname{C_{2}}{\\left({{{m_n}}}_{i},m_{W},m_{W} \\right)} {m}_{b}^{2}\\right) {m}_{a} {m}_{h}^{2} {{{U^\\nu}}}_{b,i} {{{U^{\\nu *}}}}_{a,i}$"
      ],
      "text/plain": [
       "⎛                                                                 2           \n",
       "⎝(-C₀({{m_n}}[i], m_W, m_W) + C₁({{m_n}}[i], m_W, m_W))⋅{{m_n}}[i]  - C₂({{m_n\n",
       "\n",
       "                     2⎞          2                                    \n",
       "}}[i], m_W, m_W)⋅m[b] ⎠⋅m[a]⋅m[h] ⋅{{U^\\nu}}[b, i]⋅{{U^{\\nu *}}}[a, i]"
      ]
     },
     "execution_count": 25,
     "metadata": {},
     "output_type": "execute_result"
    }
   ],
   "source": [
    "AL6 = (-triangleniGG.AL()/A).expand().collect([mn[i]],simplify\n",
    "                                      ).simplify().subs(cambios)\n",
    "AL6"
   ]
  },
  {
   "cell_type": "code",
   "execution_count": 26,
   "metadata": {},
   "outputs": [
    {
     "data": {
      "image/png": "[encoded data removed]",
      "text/latex": [
       "$\\displaystyle \\left(- \\left(\\operatorname{C_{0}}{\\left({{{m_n}}}_{i},m_{W},m_{W} \\right)} + \\operatorname{C_{2}}{\\left({{{m_n}}}_{i},m_{W},m_{W} \\right)}\\right) {{{m_n}}}_{i}^{2} + \\operatorname{C_{1}}{\\left({{{m_n}}}_{i},m_{W},m_{W} \\right)} {m}_{a}^{2}\\right) {m}_{b} {m}_{h}^{2} {{{U^\\nu}}}_{b,i} {{{U^{\\nu *}}}}_{a,i}$"
      ],
      "text/plain": [
       "⎛                                                                  2          \n",
       "⎝- (C₀({{m_n}}[i], m_W, m_W) + C₂({{m_n}}[i], m_W, m_W))⋅{{m_n}}[i]  + C₁({{m_\n",
       "\n",
       "                      2⎞          2                                    \n",
       "n}}[i], m_W, m_W)⋅m[a] ⎠⋅m[b]⋅m[h] ⋅{{U^\\nu}}[b, i]⋅{{U^{\\nu *}}}[a, i]"
      ]
     },
     "execution_count": 26,
     "metadata": {},
     "output_type": "execute_result"
    }
   ],
   "source": [
    "(-triangleniGG.AR()/A).expand().collect([mn[i]],simplify\n",
    "                                  ).simplify().subs(cambios)"
   ]
  },
  {
   "cell_type": "markdown",
   "metadata": {},
   "source": [
    "### Bubble niW\n",
    "\n",
    "This is the diagram 7 of our reference (**we changed the coupling $enW^-(j,b)$ and $enW^+(i,a)$ by $enW^+(j,b)$ and $enW^-(i,a)$**)"
   ]
  },
  {
   "cell_type": "code",
   "execution_count": 27,
   "metadata": {},
   "outputs": [
    {
     "data": {
      "image/png": "[encoded data removed]",
      "text/latex": [
       "$\\displaystyle \\frac{2 m_{W}^{2} \\operatorname{{{B^{(1)}_{1}}}}{\\left({{{m_n}}}_{i},m_{W} \\right)} {m}_{a} {m}_{b}^{2} {{{U^\\nu}}}_{b,i} {{{U^{\\nu *}}}}_{a,i}}{{m}_{a}^{2} - {m}_{b}^{2}}$"
      ],
      "text/plain": [
       "     2                                            2                           \n",
       "2⋅m_W ⋅{{B_{1}}}__{(1)}({{m_n}}[i], m_W)⋅m[a]⋅m[b] ⋅{{U^\\nu}}[b, i]⋅{{U^{\\nu *\n",
       "──────────────────────────────────────────────────────────────────────────────\n",
       "                                         2       2                            \n",
       "                                     m[a]  - m[b]                             \n",
       "\n",
       "         \n",
       "}}}[a, i]\n",
       "─────────\n",
       "         \n",
       "         "
      ]
     },
     "execution_count": 27,
     "metadata": {},
     "output_type": "execute_result"
    }
   ],
   "source": [
    "bubbleniW = lfvhd.BubbleFV(vertexhee(b),vertexneWu(i,b),vertexenWd(i,a),[mn[i],mW])\n",
    "AL7 = (-bubbleniW.AL()/A).subs(lfvhd.D,4).subs(cambios)\n",
    "AL7"
   ]
  },
  {
   "cell_type": "code",
   "execution_count": 28,
   "metadata": {},
   "outputs": [
    {
     "data": {
      "image/png": "[encoded data removed]",
      "text/latex": [
       "$\\displaystyle \\frac{2 m_{W}^{2} \\operatorname{{{B^{(1)}_{1}}}}{\\left({{{m_n}}}_{i},m_{W} \\right)} {m}_{a}^{2} {m}_{b} {{{U^\\nu}}}_{b,i} {{{U^{\\nu *}}}}_{a,i}}{{m}_{a}^{2} - {m}_{b}^{2}}$"
      ],
      "text/plain": [
       "     2                                       2                                \n",
       "2⋅m_W ⋅{{B_{1}}}__{(1)}({{m_n}}[i], m_W)⋅m[a] ⋅m[b]⋅{{U^\\nu}}[b, i]⋅{{U^{\\nu *\n",
       "──────────────────────────────────────────────────────────────────────────────\n",
       "                                         2       2                            \n",
       "                                     m[a]  - m[b]                             \n",
       "\n",
       "         \n",
       "}}}[a, i]\n",
       "─────────\n",
       "         \n",
       "         "
      ]
     },
     "execution_count": 28,
     "metadata": {},
     "output_type": "execute_result"
    }
   ],
   "source": [
    "(-bubbleniW.AR()/A).subs(lfvhd.D,4).subs(cambios)"
   ]
  },
  {
   "cell_type": "markdown",
   "metadata": {},
   "source": [
    "### Bubble Wni\n",
    "\n",
    "This is the diagram 9 of our reference (**we changed the coupling $enW^-(j,b)$ and $enW^+(i,a)$ by $enW^+(j,b)$ and $enW^-(i,a)$**)"
   ]
  },
  {
   "cell_type": "code",
   "execution_count": 29,
   "metadata": {},
   "outputs": [
    {
     "data": {
      "image/png": "[encoded data removed]",
      "text/latex": [
       "$\\displaystyle \\frac{2 m_{W}^{2} \\operatorname{{{B^{(2)}_{1}}}}{\\left({{{m_n}}}_{i},m_{W} \\right)} {m}_{a} {m}_{b}^{2} {{{U^\\nu}}}_{b,i} {{{U^{\\nu *}}}}_{a,i}}{{m}_{a}^{2} - {m}_{b}^{2}}$"
      ],
      "text/plain": [
       "     2                                            2                           \n",
       "2⋅m_W ⋅{{B_{1}}}__{(2)}({{m_n}}[i], m_W)⋅m[a]⋅m[b] ⋅{{U^\\nu}}[b, i]⋅{{U^{\\nu *\n",
       "──────────────────────────────────────────────────────────────────────────────\n",
       "                                         2       2                            \n",
       "                                     m[a]  - m[b]                             \n",
       "\n",
       "         \n",
       "}}}[a, i]\n",
       "─────────\n",
       "         \n",
       "         "
      ]
     },
     "execution_count": 29,
     "metadata": {},
     "output_type": "execute_result"
    }
   ],
   "source": [
    "bubbleWni = lfvhd.BubbleVF(vertexhee(a),vertexneWu(i,b),vertexenWd(i,a),[mn[i],mW])\n",
    "AL9 = (-bubbleWni.AL()/A).subs(lfvhd.D,4).subs(cambios).simplify()\n",
    "AL9"
   ]
  },
  {
   "cell_type": "code",
   "execution_count": 30,
   "metadata": {},
   "outputs": [
    {
     "data": {
      "image/png": "[encoded data removed]",
      "text/latex": [
       "$\\displaystyle \\frac{2 m_{W}^{2} \\operatorname{{{B^{(2)}_{1}}}}{\\left({{{m_n}}}_{i},m_{W} \\right)} {m}_{a}^{2} {m}_{b} {{{U^\\nu}}}_{b,i} {{{U^{\\nu *}}}}_{a,i}}{{m}_{a}^{2} - {m}_{b}^{2}}$"
      ],
      "text/plain": [
       "     2                                       2                                \n",
       "2⋅m_W ⋅{{B_{1}}}__{(2)}({{m_n}}[i], m_W)⋅m[a] ⋅m[b]⋅{{U^\\nu}}[b, i]⋅{{U^{\\nu *\n",
       "──────────────────────────────────────────────────────────────────────────────\n",
       "                                         2       2                            \n",
       "                                     m[a]  - m[b]                             \n",
       "\n",
       "         \n",
       "}}}[a, i]\n",
       "─────────\n",
       "         \n",
       "         "
      ]
     },
     "execution_count": 30,
     "metadata": {},
     "output_type": "execute_result"
    }
   ],
   "source": [
    "(-bubbleWni.AR()/A).subs(lfvhd.D,4).subs(cambios).simplify()"
   ]
  },
  {
   "cell_type": "markdown",
   "metadata": {},
   "source": [
    "**Adding bubble niW y Wni**"
   ]
  },
  {
   "cell_type": "code",
   "execution_count": 31,
   "metadata": {},
   "outputs": [
    {
     "data": {
      "image/png": "[encoded data removed]",
      "text/latex": [
       "$\\displaystyle - \\frac{g^{3} m_{i} m_{j}^{2} \\left(\\operatorname{{{B^{(1)}_{1}}}}{\\left({{{m_n}}}_{i},m_{W} \\right)} + \\operatorname{{{B^{(2)}_{1}}}}{\\left({{{m_n}}}_{i},m_{W} \\right)}\\right) {{{U^\\nu}}}_{b,i} {{{U^{\\nu *}}}}_{a,i}}{32 \\pi^{2} m_{W} \\left(m_{i}^{2} - m_{j}^{2}\\right)}$"
      ],
      "text/plain": [
       "  3       2                                                                   \n",
       "-g ⋅mᵢ⋅m_j ⋅({{B_{1}}}__{(1)}({{m_n}}[i], m_W) + {{B_{1}}}__{(2)}({{m_n}}[i], \n",
       "──────────────────────────────────────────────────────────────────────────────\n",
       "                                                     2     ⎛  2      2⎞       \n",
       "                                                 32⋅π ⋅m_W⋅⎝mᵢ  - m_j ⎠       \n",
       "\n",
       "                                          \n",
       "m_W))⋅{{U^\\nu}}[b, i]⋅{{U^{\\nu *}}}[a, i] \n",
       "──────────────────────────────────────────\n",
       "                                          \n",
       "                                          "
      ]
     },
     "execution_count": 31,
     "metadata": {},
     "output_type": "execute_result"
    }
   ],
   "source": [
    "BniW_L =  (bubbleniW.AL() + bubbleWni.AL()).subs(lfvhd.D,4).simplify()\n",
    "BniW_L"
   ]
  },
  {
   "cell_type": "code",
   "execution_count": 32,
   "metadata": {},
   "outputs": [
    {
     "data": {
      "image/png": "[encoded data removed]",
      "text/latex": [
       "$\\displaystyle - \\frac{g^{3} m_{i}^{2} m_{j} \\left(\\operatorname{{{b^{(1)}_1}}}{\\left({{{m_n}}}_{i},m_{W} \\right)} + \\operatorname{{{b^{(2)}_1}}}{\\left({{{m_n}}}_{i},m_{W} \\right)}\\right) {{{U^\\nu}}}_{b,i} {{{U^{\\nu *}}}}_{a,i}}{32 \\pi^{2} m_{W} \\left(m_{i}^{2} - m_{j}^{2}\\right)}$"
      ],
      "text/plain": [
       "  3   2                                                                       \n",
       "-g ⋅mᵢ ⋅m_j⋅({{b_1}}__{(1)}({{m_n}}[i], m_W) + {{b_1}}__{(2)}({{m_n}}[i], m_W)\n",
       "──────────────────────────────────────────────────────────────────────────────\n",
       "                                                   2     ⎛  2      2⎞         \n",
       "                                               32⋅π ⋅m_W⋅⎝mᵢ  - m_j ⎠         \n",
       "\n",
       "                                      \n",
       ")⋅{{U^\\nu}}[b, i]⋅{{U^{\\nu *}}}[a, i] \n",
       "──────────────────────────────────────\n",
       "                                      \n",
       "                                      "
      ]
     },
     "execution_count": 32,
     "metadata": {},
     "output_type": "execute_result"
    }
   ],
   "source": [
    "BniW_R =  (bubbleniW.AR() + bubbleWni.AR()).subs(lfvhd.D,4).simplify()\n",
    "BniW_R.subs(lfvhd.cambiosDivFin(mn[i],mW,mW))"
   ]
  },
  {
   "cell_type": "code",
   "execution_count": 33,
   "metadata": {},
   "outputs": [
    {
     "data": {
      "image/png": "[encoded data removed]",
      "text/latex": [
       "$\\displaystyle - \\frac{g^{3} m_{i} m_{j}^{2} \\left(\\operatorname{{{b^{(1)}_1}}}{\\left({{{m_n}}}_{i},m_{W} \\right)} + \\operatorname{{{b^{(2)}_1}}}{\\left({{{m_n}}}_{i},m_{W} \\right)}\\right) {{{U^\\nu}}}_{b,i} {{{U^{\\nu *}}}}_{a,i}}{32 \\pi^{2} m_{W} \\left(m_{i}^{2} - m_{j}^{2}\\right)}$"
      ],
      "text/plain": [
       "  3       2                                                                   \n",
       "-g ⋅mᵢ⋅m_j ⋅({{b_1}}__{(1)}({{m_n}}[i], m_W) + {{b_1}}__{(2)}({{m_n}}[i], m_W)\n",
       "──────────────────────────────────────────────────────────────────────────────\n",
       "                                                   2     ⎛  2      2⎞         \n",
       "                                               32⋅π ⋅m_W⋅⎝mᵢ  - m_j ⎠         \n",
       "\n",
       "                                      \n",
       ")⋅{{U^\\nu}}[b, i]⋅{{U^{\\nu *}}}[a, i] \n",
       "──────────────────────────────────────\n",
       "                                      \n",
       "                                      "
      ]
     },
     "execution_count": 33,
     "metadata": {},
     "output_type": "execute_result"
    }
   ],
   "source": [
    "BniW_L.subs(lfvhd.cambiosDivFin(mn[i],mW,mW))"
   ]
  },
  {
   "cell_type": "markdown",
   "metadata": {},
   "source": [
    "### Bubble niG\n",
    "\n",
    "This is the diagram 8 of our reference"
   ]
  },
  {
   "cell_type": "code",
   "execution_count": 34,
   "metadata": {},
   "outputs": [
    {
     "data": {
      "image/png": "[encoded data removed]",
      "text/latex": [
       "$\\displaystyle \\frac{\\left(\\left({m}_{a}^{2} + {{{m_n}}}_{i}^{2}\\right) \\operatorname{{{B^{(1)}_{1}}}}{\\left({{{m_n}}}_{i},m_{W} \\right)} - 2 \\operatorname{{{B^{(1)}_{0}}}}{\\left({{{m_n}}}_{i},m_{W} \\right)} {{{m_n}}}_{i}^{2}\\right) {m}_{a} {m}_{b}^{2} {{{U^\\nu}}}_{b,i} {{{U^{\\nu *}}}}_{a,i}}{{m}_{a}^{2} - {m}_{b}^{2}}$"
      ],
      "text/plain": [
       "⎛⎛    2             2⎞                                                        \n",
       "⎝⎝m[a]  + {{m_n}}[i] ⎠⋅{{B_{1}}}__{(1)}({{m_n}}[i], m_W) - 2⋅{{B_{0}}}__{(1)}(\n",
       "──────────────────────────────────────────────────────────────────────────────\n",
       "                                                                          2   \n",
       "                                                                      m[a]  - \n",
       "\n",
       "                           2⎞          2                                    \n",
       "{{m_n}}[i], m_W)⋅{{m_n}}[i] ⎠⋅m[a]⋅m[b] ⋅{{U^\\nu}}[b, i]⋅{{U^{\\nu *}}}[a, i]\n",
       "────────────────────────────────────────────────────────────────────────────\n",
       "    2                                                                       \n",
       "m[b]                                                                        "
      ]
     },
     "execution_count": 34,
     "metadata": {},
     "output_type": "execute_result"
    }
   ],
   "source": [
    "bubbleniG = lfvhd.BubbleFS(vertexhee(b),vertexneGu(i,b),vertexenGd(i,a),[mn[i],mW])\n",
    "AL8 = (-bubbleniG.AL()/A).collect([\n",
    "    lfvhd.B1_0(mn[i],mW),lfvhd.B1_1(mn[i],mW)]).simplify().subs(cambios)\n",
    "AL8"
   ]
  },
  {
   "cell_type": "code",
   "execution_count": 35,
   "metadata": {},
   "outputs": [
    {
     "data": {
      "image/png": "[encoded data removed]",
      "text/latex": [
       "$\\displaystyle \\frac{\\left(- \\left({m}_{a}^{2} + {m}_{b}^{2}\\right) \\operatorname{{{B^{(1)}_{0}}}}{\\left({{{m_n}}}_{i},m_{W} \\right)} {{{m_n}}}_{i}^{2} + \\left({m}_{b}^{2} + {{{m_n}}}_{i}^{2}\\right) \\operatorname{{{B^{(1)}_{1}}}}{\\left({{{m_n}}}_{i},m_{W} \\right)} {m}_{a}^{2}\\right) {m}_{b} {{{U^\\nu}}}_{b,i} {{{U^{\\nu *}}}}_{a,i}}{{m}_{a}^{2} - {m}_{b}^{2}}$"
      ],
      "text/plain": [
       "⎛  ⎛    2       2⎞                                             2   ⎛    2     \n",
       "⎝- ⎝m[a]  + m[b] ⎠⋅{{B_{0}}}__{(1)}({{m_n}}[i], m_W)⋅{{m_n}}[i]  + ⎝m[b]  + {{\n",
       "──────────────────────────────────────────────────────────────────────────────\n",
       "                                                                              \n",
       "                                                                              \n",
       "\n",
       "        2⎞                                       2⎞                           \n",
       "m_n}}[i] ⎠⋅{{B_{1}}}__{(1)}({{m_n}}[i], m_W)⋅m[a] ⎠⋅m[b]⋅{{U^\\nu}}[b, i]⋅{{U^{\n",
       "──────────────────────────────────────────────────────────────────────────────\n",
       "    2       2                                                                 \n",
       "m[a]  - m[b]                                                                  \n",
       "\n",
       "              \n",
       "\\nu *}}}[a, i]\n",
       "──────────────\n",
       "              \n",
       "              "
      ]
     },
     "execution_count": 35,
     "metadata": {},
     "output_type": "execute_result"
    }
   ],
   "source": [
    "AR8 = (-bubbleniG.AR()/A).collect([\n",
    "    lfvhd.B1_0(mn[i],mW),lfvhd.B1_1(mn[i],mW)]).simplify().subs(cambios)\n",
    "AR8"
   ]
  },
  {
   "cell_type": "markdown",
   "metadata": {},
   "source": [
    "### Bubble Gni\n",
    "\n",
    "This is the diagram 10 of our reference"
   ]
  },
  {
   "cell_type": "code",
   "execution_count": 36,
   "metadata": {},
   "outputs": [
    {
     "data": {
      "image/png": "[encoded data removed]",
      "text/latex": [
       "$\\displaystyle \\frac{\\left(\\left({m}_{a}^{2} + {m}_{b}^{2}\\right) \\operatorname{{{B^{(2)}_{0}}}}{\\left({{{m_n}}}_{i},m_{W} \\right)} {{{m_n}}}_{i}^{2} + \\left({m}_{a}^{2} + {{{m_n}}}_{i}^{2}\\right) \\operatorname{{{B^{(2)}_{1}}}}{\\left({{{m_n}}}_{i},m_{W} \\right)} {m}_{b}^{2}\\right) {m}_{a} {{{U^\\nu}}}_{b,i} {{{U^{\\nu *}}}}_{a,i}}{{m}_{a}^{2} - {m}_{b}^{2}}$"
      ],
      "text/plain": [
       "⎛⎛    2       2⎞                                             2   ⎛    2       \n",
       "⎝⎝m[a]  + m[b] ⎠⋅{{B_{0}}}__{(2)}({{m_n}}[i], m_W)⋅{{m_n}}[i]  + ⎝m[a]  + {{m_\n",
       "──────────────────────────────────────────────────────────────────────────────\n",
       "                                                                              \n",
       "                                                                             m\n",
       "\n",
       "      2⎞                                       2⎞                             \n",
       "n}}[i] ⎠⋅{{B_{1}}}__{(2)}({{m_n}}[i], m_W)⋅m[b] ⎠⋅m[a]⋅{{U^\\nu}}[b, i]⋅{{U^{\\n\n",
       "──────────────────────────────────────────────────────────────────────────────\n",
       "   2       2                                                                  \n",
       "[a]  - m[b]                                                                   \n",
       "\n",
       "            \n",
       "u *}}}[a, i]\n",
       "────────────\n",
       "            \n",
       "            "
      ]
     },
     "execution_count": 36,
     "metadata": {},
     "output_type": "execute_result"
    }
   ],
   "source": [
    "#bubbleWni = lfvhd.BubbleVF(vertexhee(a),vertexneWu(i,b),vertexenWd(i,a),[mn[i],mW])\n",
    "bubbleGni = lfvhd.BubbleSF(vertexhee(a),vertexneGu(i,b),vertexenGd(i,a),[mn[i],mW])\n",
    "AL10 = (-bubbleGni.AL()/A).collect([\n",
    "      lfvhd.B2_0(mn[i],mW),lfvhd.B2_1(mn[i],mW)]).simplify().subs(cambios)\n",
    "AL10"
   ]
  },
  {
   "cell_type": "code",
   "execution_count": 37,
   "metadata": {},
   "outputs": [
    {
     "data": {
      "image/png": "[encoded data removed]",
      "text/latex": [
       "$\\displaystyle \\frac{\\left(\\left({m}_{b}^{2} + {{{m_n}}}_{i}^{2}\\right) \\operatorname{{{B^{(2)}_{1}}}}{\\left({{{m_n}}}_{i},m_{W} \\right)} + 2 \\operatorname{{{B^{(2)}_{0}}}}{\\left({{{m_n}}}_{i},m_{W} \\right)} {{{m_n}}}_{i}^{2}\\right) {m}_{a}^{2} {m}_{b} {{{U^\\nu}}}_{b,i} {{{U^{\\nu *}}}}_{a,i}}{{m}_{a}^{2} - {m}_{b}^{2}}$"
      ],
      "text/plain": [
       "⎛⎛    2             2⎞                                                        \n",
       "⎝⎝m[b]  + {{m_n}}[i] ⎠⋅{{B_{1}}}__{(2)}({{m_n}}[i], m_W) + 2⋅{{B_{0}}}__{(2)}(\n",
       "──────────────────────────────────────────────────────────────────────────────\n",
       "                                                                          2   \n",
       "                                                                      m[a]  - \n",
       "\n",
       "                           2⎞     2                                         \n",
       "{{m_n}}[i], m_W)⋅{{m_n}}[i] ⎠⋅m[a] ⋅m[b]⋅{{U^\\nu}}[b, i]⋅{{U^{\\nu *}}}[a, i]\n",
       "────────────────────────────────────────────────────────────────────────────\n",
       "    2                                                                       \n",
       "m[b]                                                                        "
      ]
     },
     "execution_count": 37,
     "metadata": {},
     "output_type": "execute_result"
    }
   ],
   "source": [
    "AR10 = (-bubbleGni.AR()/A).collect([\n",
    "    lfvhd.B2_0(mn[i],mW),lfvhd.B2_1(mn[i],mW)]).simplify().subs(cambios)\n",
    "AR10"
   ]
  },
  {
   "cell_type": "markdown",
   "metadata": {},
   "source": [
    "**Adding bubble niG y Gni**"
   ]
  },
  {
   "cell_type": "code",
   "execution_count": 38,
   "metadata": {},
   "outputs": [
    {
     "data": {
      "image/png": "[encoded data removed]",
      "text/latex": [
       "$\\displaystyle \\frac{g^{3} m_{j} \\left(\\Delta_\\epsilon \\left(- m_{i}^{2} + m_{j}^{2}\\right) {{{m_n}}}_{i}^{2} - m_{i}^{2} m_{j}^{2} \\operatorname{{{b^{(1)}_1}}}{\\left({{{m_n}}}_{i},m_{W} \\right)} - m_{i}^{2} m_{j}^{2} \\operatorname{{{b^{(2)}_1}}}{\\left({{{m_n}}}_{i},m_{W} \\right)} + m_{i}^{2} \\operatorname{{{b^{(1)}_0}}}{\\left({{{m_n}}}_{i},m_{W} \\right)} {{{m_n}}}_{i}^{2} - m_{i}^{2} \\operatorname{{{b^{(1)}_1}}}{\\left({{{m_n}}}_{i},m_{W} \\right)} {{{m_n}}}_{i}^{2} - 2 m_{i}^{2} \\operatorname{{{b^{(2)}_0}}}{\\left({{{m_n}}}_{i},m_{W} \\right)} {{{m_n}}}_{i}^{2} - m_{i}^{2} \\operatorname{{{b^{(2)}_1}}}{\\left({{{m_n}}}_{i},m_{W} \\right)} {{{m_n}}}_{i}^{2} + m_{j}^{2} \\operatorname{{{b^{(1)}_0}}}{\\left({{{m_n}}}_{i},m_{W} \\right)} {{{m_n}}}_{i}^{2}\\right) {{{U^\\nu}}}_{b,i} {{{U^{\\nu *}}}}_{a,i}}{64 \\pi^{2} m_{W}^{3} \\left(m_{i}^{2} - m_{j}^{2}\\right)}$"
      ],
      "text/plain": [
       " 3     ⎛                ⎛    2      2⎞           2     2    2                 \n",
       "g ⋅m_j⋅⎝\\Delta_\\epsilon⋅⎝- mᵢ  + m_j ⎠⋅{{m_n}}[i]  - mᵢ ⋅m_j ⋅{{b_1}}__{(1)}({\n",
       "──────────────────────────────────────────────────────────────────────────────\n",
       "                                                                              \n",
       "                                                                              \n",
       "\n",
       "                    2    2                                     2              \n",
       "{m_n}}[i], m_W) - mᵢ ⋅m_j ⋅{{b_1}}__{(2)}({{m_n}}[i], m_W) + mᵢ ⋅{{b_0}}__{(1)\n",
       "──────────────────────────────────────────────────────────────────────────────\n",
       "                                                                              \n",
       "                                                                              \n",
       "\n",
       "                             2     2                                          \n",
       "}({{m_n}}[i], m_W)⋅{{m_n}}[i]  - mᵢ ⋅{{b_1}}__{(1)}({{m_n}}[i], m_W)⋅{{m_n}}[i\n",
       "──────────────────────────────────────────────────────────────────────────────\n",
       "                                                 2    3 ⎛  2      2⎞          \n",
       "                                             64⋅π ⋅m_W ⋅⎝mᵢ  - m_j ⎠          \n",
       "\n",
       " 2       2                                           2     2                  \n",
       "]  - 2⋅mᵢ ⋅{{b_0}}__{(2)}({{m_n}}[i], m_W)⋅{{m_n}}[i]  - mᵢ ⋅{{b_1}}__{(2)}({{\n",
       "──────────────────────────────────────────────────────────────────────────────\n",
       "                                                                              \n",
       "                                                                              \n",
       "\n",
       "                         2      2                                           2⎞\n",
       "m_n}}[i], m_W)⋅{{m_n}}[i]  + m_j ⋅{{b_0}}__{(1)}({{m_n}}[i], m_W)⋅{{m_n}}[i] ⎠\n",
       "──────────────────────────────────────────────────────────────────────────────\n",
       "                                                                              \n",
       "                                                                              \n",
       "\n",
       "                                    \n",
       "⋅{{U^\\nu}}[b, i]⋅{{U^{\\nu *}}}[a, i]\n",
       "────────────────────────────────────\n",
       "                                    \n",
       "                                    "
      ]
     },
     "execution_count": 38,
     "metadata": {},
     "output_type": "execute_result"
    }
   ],
   "source": [
    "BniG_L =  (bubbleniG.AL() + bubbleGni.AL()).subs(lfvhd.D,4).simplify()\n",
    "#BB1 = BniG_L.subs(mn[j],mn[i]).subs(lfvhd.cambiosDivFin(mn[i],mW,mW)\n",
    " #                                  ).expand().collect(lfvhd.Δe,simplify)\n",
    "#BB1.subs({lfvhd.mi:m[a],lfvhd.mj:m[b]})#.atoms(Symbol)\n",
    "(bubbleniG.AR() + bubbleGni.AR()).subs(lfvhd.cambiosDivFin(mn[i],mW,mW)\n",
    "                    ).expand().collect(lfvhd.Δe).simplify()"
   ]
  },
  {
   "cell_type": "code",
   "execution_count": 39,
   "metadata": {},
   "outputs": [],
   "source": [
    "from sympy import Add"
   ]
  },
  {
   "cell_type": "code",
   "execution_count": 40,
   "metadata": {},
   "outputs": [
    {
     "data": {
      "image/png": "[encoded data removed]",
      "text/latex": [
       "$\\displaystyle - \\frac{g^{3} m_{j} \\left(\\Delta_\\epsilon m_{i}^{2} {{{m_n}}}_{i}^{2} - \\Delta_\\epsilon m_{j}^{2} {{{m_n}}}_{i}^{2} + m_{i}^{2} m_{j}^{2} \\operatorname{{{b^{(1)}_1}}}{\\left({{{m_n}}}_{i},m_{W} \\right)} + m_{i}^{2} m_{j}^{2} \\operatorname{{{b^{(2)}_1}}}{\\left({{{m_n}}}_{i},m_{W} \\right)} - m_{i}^{2} \\operatorname{{{b^{(1)}_0}}}{\\left({{{m_n}}}_{i},m_{W} \\right)} {{{m_n}}}_{i}^{2} + m_{i}^{2} \\operatorname{{{b^{(1)}_1}}}{\\left({{{m_n}}}_{i},m_{W} \\right)} {{{m_n}}}_{i}^{2} + 2 m_{i}^{2} \\operatorname{{{b^{(2)}_0}}}{\\left({{{m_n}}}_{i},m_{W} \\right)} {{{m_n}}}_{i}^{2} + m_{i}^{2} \\operatorname{{{b^{(2)}_1}}}{\\left({{{m_n}}}_{i},m_{W} \\right)} {{{m_n}}}_{i}^{2} - m_{j}^{2} \\operatorname{{{b^{(1)}_0}}}{\\left({{{m_n}}}_{i},m_{W} \\right)} {{{m_n}}}_{i}^{2}\\right) {{{U^\\nu}}}_{b,i} {{{U^{\\nu *}}}}_{a,i}}{64 \\pi^{2} m_{W}^{3} \\left(m_{i}^{2} - m_{j}^{2}\\right)}$"
      ],
      "text/plain": [
       "  3     ⎛                  2           2                      2           2   \n",
       "-g ⋅m_j⋅⎝\\Delta_\\epsilon⋅mᵢ ⋅{{m_n}}[i]  - \\Delta_\\epsilon⋅m_j ⋅{{m_n}}[i]  + \n",
       "──────────────────────────────────────────────────────────────────────────────\n",
       "                                                                              \n",
       "                                                                              \n",
       "\n",
       "  2    2                                     2    2                           \n",
       "mᵢ ⋅m_j ⋅{{b_1}}__{(1)}({{m_n}}[i], m_W) + mᵢ ⋅m_j ⋅{{b_1}}__{(2)}({{m_n}}[i],\n",
       "──────────────────────────────────────────────────────────────────────────────\n",
       "                                                                              \n",
       "                                                                              \n",
       "\n",
       "          2                                           2     2                 \n",
       " m_W) - mᵢ ⋅{{b_0}}__{(1)}({{m_n}}[i], m_W)⋅{{m_n}}[i]  + mᵢ ⋅{{b_1}}__{(1)}({\n",
       "──────────────────────────────────────────────────────────────────────────────\n",
       "                                                              2    3 ⎛  2     \n",
       "                                                          64⋅π ⋅m_W ⋅⎝mᵢ  - m_\n",
       "\n",
       "                          2       2                                           \n",
       "{m_n}}[i], m_W)⋅{{m_n}}[i]  + 2⋅mᵢ ⋅{{b_0}}__{(2)}({{m_n}}[i], m_W)⋅{{m_n}}[i]\n",
       "──────────────────────────────────────────────────────────────────────────────\n",
       " 2⎞                                                                           \n",
       "j ⎠                                                                           \n",
       "\n",
       "2     2                                           2      2                    \n",
       "  + mᵢ ⋅{{b_1}}__{(2)}({{m_n}}[i], m_W)⋅{{m_n}}[i]  - m_j ⋅{{b_0}}__{(1)}({{m_\n",
       "──────────────────────────────────────────────────────────────────────────────\n",
       "                                                                              \n",
       "                                                                              \n",
       "\n",
       "                       2⎞                                     \n",
       "n}}[i], m_W)⋅{{m_n}}[i] ⎠⋅{{U^\\nu}}[b, i]⋅{{U^{\\nu *}}}[a, i] \n",
       "──────────────────────────────────────────────────────────────\n",
       "                                                              \n",
       "                                                              "
      ]
     },
     "execution_count": 40,
     "metadata": {},
     "output_type": "execute_result"
    }
   ],
   "source": [
    "BniG_R =  (bubbleniG.AR() + bubbleGni.AR()).subs(lfvhd.D,4).simplify()\n",
    "BB2 = BniG_R.subs(mn[j],mn[i]).subs(lfvhd.cambiosDivFin(mn[i],mW,mW)).simplify()\n",
    "BB2"
   ]
  },
  {
   "cell_type": "code",
   "execution_count": 41,
   "metadata": {},
   "outputs": [
    {
     "data": {
      "image/png": "[encoded data removed]",
      "text/latex": [
       "$\\displaystyle - \\frac{\\Delta_\\epsilon g^{3} m_{j} {{{U^\\nu}}}_{b,i} {{{U^{\\nu *}}}}_{a,i} {{{m_n}}}_{i}^{2}}{64 \\pi^{2} m_{W}^{3}}$"
      ],
      "text/plain": [
       "                  3                                                   2 \n",
       "-\\Delta_\\epsilon⋅g ⋅m_j⋅{{U^\\nu}}[b, i]⋅{{U^{\\nu *}}}[a, i]⋅{{m_n}}[i]  \n",
       "────────────────────────────────────────────────────────────────────────\n",
       "                                   2    3                               \n",
       "                               64⋅π ⋅m_W                                "
      ]
     },
     "execution_count": 41,
     "metadata": {},
     "output_type": "execute_result"
    }
   ],
   "source": [
    "Add(*[x for x in BB2.expand().args if x.has(lfvhd.Δe)]).simplify()"
   ]
  },
  {
   "cell_type": "code",
   "execution_count": 42,
   "metadata": {},
   "outputs": [
    {
     "data": {
      "image/png": "[encoded data removed]",
      "text/latex": [
       "$\\displaystyle \\frac{\\Delta_\\epsilon g^{3} {m}_{a} {{{U^\\nu}}}_{b,i} {{{U^{\\nu *}}}}_{a,i} {{{m_n}}}_{i}^{2}}{64 \\pi^{2} m_{W}^{3}}$"
      ],
      "text/plain": [
       "                 3                                                    2\n",
       "\\Delta_\\epsilon⋅g ⋅m[a]⋅{{U^\\nu}}[b, i]⋅{{U^{\\nu *}}}[a, i]⋅{{m_n}}[i] \n",
       "───────────────────────────────────────────────────────────────────────\n",
       "                                   2    3                              \n",
       "                               64⋅π ⋅m_W                               "
      ]
     },
     "execution_count": 42,
     "metadata": {},
     "output_type": "execute_result"
    }
   ],
   "source": [
    "div8 = (\n",
    "    (AL8 + AL10).subs(lfvhd.cambiosDivFin(mn[i],mW,mW))\n",
    ").expand().collect([lfvhd.Δe],evaluate=False)\n",
    "div7 = (\n",
    "    (AL7 + AL9).subs(lfvhd.cambiosDivFin(mn[i],mW,mW))\n",
    ").expand().collect([lfvhd.Δe],evaluate=False)\n",
    "#lfvhd.Δe*div8[lfvhd.Δe].factor()#\n",
    "((AL8 + AL10).subs(lfvhd.cambiosDivFin(mn[i],mW,mW)).expand(\n",
    ").collect(lfvhd.Δe,evaluate=False)[lfvhd.Δe]*lfvhd.Δe).simplify()*A"
   ]
  },
  {
   "cell_type": "code",
   "execution_count": 43,
   "metadata": {},
   "outputs": [
    {
     "data": {
      "image/png": "[encoded data removed]",
      "text/latex": [
       "$\\displaystyle - \\frac{\\Delta_\\epsilon g^{3} {m}_{a} {{{U^\\nu}}}_{b,i} {{{U^{\\nu *}}}}_{a,i} {{{m_n}}}_{i}^{2}}{64 \\pi^{2} m_{W}^{3}}$"
      ],
      "text/plain": [
       "                  3                                                    2 \n",
       "-\\Delta_\\epsilon⋅g ⋅m[a]⋅{{U^\\nu}}[b, i]⋅{{U^{\\nu *}}}[a, i]⋅{{m_n}}[i]  \n",
       "─────────────────────────────────────────────────────────────────────────\n",
       "                                    2    3                               \n",
       "                                64⋅π ⋅m_W                                "
      ]
     },
     "execution_count": 43,
     "metadata": {},
     "output_type": "execute_result"
    }
   ],
   "source": [
    "DivL1 = -triangleGninj.AL().subs(\n",
    "    lfvhd.cambiosDivFin(mW,mn[i],mn[j])).expand().collect(lfvhd.Δe,evaluate=False)[lfvhd.Δe]*lfvhd.Δe\n",
    "DivL1.expand().subs(C[i,j],0).subs(cambios).subs({Cc[i,j]:1,Uν[b,j]:Uν[b,i],mn[j]:mn[i]})"
   ]
  },
  {
   "cell_type": "markdown",
   "metadata": {},
   "source": [
    "## Adding all contributions"
   ]
  },
  {
   "cell_type": "code",
   "execution_count": 44,
   "metadata": {},
   "outputs": [],
   "source": [
    "from sympy import Symbol,lambdify"
   ]
  },
  {
   "cell_type": "code",
   "execution_count": 45,
   "metadata": {},
   "outputs": [],
   "source": [
    "TrianglesTwoFermion = [triangleGninj,triangleWninj]\n",
    "TrianglesOneFermion = [triangleniWW,\n",
    "         triangleniWG,triangleniGW,\n",
    "         triangleniGG]\n",
    "Bubbles = [bubbleniW,bubbleniG,bubbleWni,bubbleGni]"
   ]
  },
  {
   "cell_type": "code",
   "execution_count": 46,
   "metadata": {},
   "outputs": [
    {
     "data": {
      "image/png": "[encoded data removed]",
      "text/latex": [
       "$\\displaystyle \\left\\{a, b, g, i, m_{W}, m_{a}, m_{i}, {{U^\\nu}}, {{U^{\\nu *}}}, {{m_n}}\\right\\}$"
      ],
      "text/plain": [
       "{a, b, g, i, m_W, mₐ, mᵢ, {{U__\\nu}}, {{U__{\\nu *}}}, {{m_n}}}"
      ]
     },
     "metadata": {},
     "output_type": "display_data"
    },
    {
     "data": {
      "image/png": "[encoded data removed]",
      "text/latex": [
       "$\\displaystyle \\left\\{a, b, g, i, m_{W}, m_{a}, m_{i}, m_{j}, {{U^\\nu}}, {{U^{\\nu *}}}, {{m_n}}\\right\\}$"
      ],
      "text/plain": [
       "{a, b, g, i, m_W, mₐ, mᵢ, m_j, {{U__\\nu}}, {{U__{\\nu *}}}, {{m_n}}}"
      ]
     },
     "metadata": {},
     "output_type": "display_data"
    },
    {
     "data": {
      "image/png": "[encoded data removed]",
      "text/latex": [
       "$\\displaystyle \\left\\{a, b, g, i, m_{W}, m_{a}, m_{i}, m_{j}, {{U^\\nu}}, {{U^{\\nu *}}}, {{m_n}}\\right\\}$"
      ],
      "text/plain": [
       "{a, b, g, i, m_W, mₐ, mᵢ, m_j, {{U__\\nu}}, {{U__{\\nu *}}}, {{m_n}}}"
      ]
     },
     "metadata": {},
     "output_type": "display_data"
    },
    {
     "data": {
      "image/png": "[encoded data removed]",
      "text/latex": [
       "$\\displaystyle \\left\\{a, b, g, i, m_{W}, m_{a}, m_{i}, m_{j}, {{U^\\nu}}, {{U^{\\nu *}}}, {{m_n}}\\right\\}$"
      ],
      "text/plain": [
       "{a, b, g, i, m_W, mₐ, mᵢ, m_j, {{U__\\nu}}, {{U__{\\nu *}}}, {{m_n}}}"
      ]
     },
     "metadata": {},
     "output_type": "display_data"
    },
    {
     "data": {
      "image/png": "[encoded data removed]",
      "text/latex": [
       "$\\displaystyle \\left\\{a, b, g, i, m_{W}, m_{a}, m_{i}, m_{j}, {{U^\\nu}}, {{U^{\\nu *}}}, {{m_n}}\\right\\}$"
      ],
      "text/plain": [
       "{a, b, g, i, m_W, mₐ, mᵢ, m_j, {{U__\\nu}}, {{U__{\\nu *}}}, {{m_n}}}"
      ]
     },
     "metadata": {},
     "output_type": "display_data"
    },
    {
     "data": {
      "image/png": "[encoded data removed]",
      "text/latex": [
       "$\\displaystyle \\left\\{a, b, g, i, m_{W}, m_{a}, m_{i}, m_{j}, {{U^\\nu}}, {{U^{\\nu *}}}, {{m_n}}\\right\\}$"
      ],
      "text/plain": [
       "{a, b, g, i, m_W, mₐ, mᵢ, m_j, {{U__\\nu}}, {{U__{\\nu *}}}, {{m_n}}}"
      ]
     },
     "metadata": {},
     "output_type": "display_data"
    },
    {
     "data": {
      "image/png": "[encoded data removed]",
      "text/latex": [
       "$\\displaystyle \\left\\{a, b, g, i, m_{W}, m_{a}, m_{i}, m_{j}, {{U^\\nu}}, {{U^{\\nu *}}}, {{m_n}}\\right\\}$"
      ],
      "text/plain": [
       "{a, b, g, i, m_W, mₐ, mᵢ, m_j, {{U__\\nu}}, {{U__{\\nu *}}}, {{m_n}}}"
      ]
     },
     "metadata": {},
     "output_type": "display_data"
    },
    {
     "data": {
      "image/png": "[encoded data removed]",
      "text/latex": [
       "$\\displaystyle \\left\\{a, b, g, i, m_{W}, m_{a}, m_{i}, m_{j}, {{U^\\nu}}, {{U^{\\nu *}}}, {{m_n}}\\right\\}$"
      ],
      "text/plain": [
       "{a, b, g, i, m_W, mₐ, mᵢ, m_j, {{U__\\nu}}, {{U__{\\nu *}}}, {{m_n}}}"
      ]
     },
     "metadata": {},
     "output_type": "display_data"
    }
   ],
   "source": [
    "ALOneFermion = 0;AROneFermion = 0;\n",
    "for topology in [TrianglesOneFermion,Bubbles]:\n",
    "    for diag in topology:\n",
    "        masas = diag.masas\n",
    "        #display(masas)\n",
    "        if len(masas)==3:\n",
    "            splitting = lfvhd.cambiosDivFin(*masas)\n",
    "            aprroximation = lfvhd.cambios_aprox(*masas)\n",
    "        else:\n",
    "            splitting = lfvhd.cambiosDivFin(*masas,mW)\n",
    "            aprroximation = lfvhd.cambios_aprox(*masas,mW)\n",
    "        AL = diag.AL().subs(splitting).subs(lfvhd.D,4).subs(lfvhd.Δe,0)\n",
    "        AR = diag.AR().subs(splitting).subs(lfvhd.D,4).subs(lfvhd.Δe,0)\n",
    "        ALOneFermion += AL.subs(aprroximation)#.subs(cambios)\n",
    "        AROneFermion += AR.subs(aprroximation)#.subs(cambios)\n",
    "        display(ALOneFermion.atoms(Symbol))"
   ]
  },
  {
   "cell_type": "code",
   "execution_count": 49,
   "metadata": {},
   "outputs": [
    {
     "data": {
      "image/png": "[encoded data removed]",
      "text/latex": [
       "$\\displaystyle \\left[ {{{m_n}}}_{i}^{2}, \\  {{{m_n}}}_{i}^{4}, \\  {{{m_n}}}_{i}^{6}, \\  1\\right]$"
      ],
      "text/plain": [
       "⎡          2            4            6   ⎤\n",
       "⎣{{m_n}}[i] , {{m_n}}[i] , {{m_n}}[i] , 1⎦"
      ]
     },
     "execution_count": 49,
     "metadata": {},
     "output_type": "execute_result"
    }
   ],
   "source": [
    "list(ALOneFermion.expand().collect([mn[i]],evaluate=False).keys())"
   ]
  },
  {
   "cell_type": "markdown",
   "metadata": {},
   "source": [
    "## Numeric implementation of form factors"
   ]
  },
  {
   "cell_type": "code",
   "execution_count": 48,
   "metadata": {},
   "outputs": [],
   "source": [
    "#m[a]:1.777,m[b]:0.1507\n",
    "Ubi, Ucai,mni = symbols('U_{bi}, {{U_{ai}^*}},m_{n_i}')"
   ]
  },
  {
   "cell_type": "code",
   "execution_count": 49,
   "metadata": {},
   "outputs": [],
   "source": [
    "from Unu_seesaw import Unu\n",
    "import numpy as np\n",
    "from scipy.special import spence\n",
    "def sci_polylog(s,z):\n",
    "    return spence(1-z)"
   ]
  },
  {
   "cell_type": "code",
   "execution_count": 50,
   "metadata": {},
   "outputs": [
    {
     "name": "stderr",
     "output_type": "stream",
     "text": [
      "<string>:2: VisibleDeprecationWarning: Creating an ndarray from ragged nested sequences (which is a list-or-tuple of lists-or-tuples-or ndarrays with different lengths or shapes) is deprecated. If you meant to do this, you must specify 'dtype=object' when creating the ndarray\n"
     ]
    },
    {
     "data": {
      "text/plain": [
       "array([0.-5.77067213e-04j, 0.-3.64969351e-08j, 0.-2.58072303e-08j,\n",
       "       0.-2.10715153e-08j, 0.-1.82484676e-08j])"
      ]
     },
     "execution_count": 50,
     "metadata": {},
     "output_type": "execute_result"
    }
   ],
   "source": [
    "m1=1e-12#GeV\n",
    "m6np = np.linspace(1e-5,10000,5)\n",
    "Unu(m1,m6np,4,1)"
   ]
  },
  {
   "cell_type": "markdown",
   "metadata": {},
   "source": [
    "### Form factor with one fermion in the loop."
   ]
  },
  {
   "cell_type": "markdown",
   "metadata": {},
   "source": [
    "Neutrino benchmark is given by "
   ]
  },
  {
   "cell_type": "code",
   "execution_count": 51,
   "metadata": {},
   "outputs": [],
   "source": [
    "from OneLoopLFVHD.neutrinos import NuOscObservables\n",
    "Nudata = NuOscObservables"
   ]
  },
  {
   "cell_type": "code",
   "execution_count": 52,
   "metadata": {},
   "outputs": [
    {
     "data": {
      "text/plain": [
       "array([[1.00000000e-12, 1.00000000e-12, 1.00000000e-12],\n",
       "       [8.71779789e-12, 8.71779789e-12, 8.71779789e-12],\n",
       "       [4.95782210e-11, 4.95782210e-11, 4.95782210e-11],\n",
       "       [3.33333333e-01, 5.00000000e-01, 6.66666667e-01],\n",
       "       [5.00000000e-01, 7.50000000e-01, 1.00000000e+00],\n",
       "       [1.00000000e+00, 1.50000000e+00, 2.00000000e+00]])"
      ]
     },
     "execution_count": 52,
     "metadata": {},
     "output_type": "execute_result"
    }
   ],
   "source": [
    "m1 = 1e-12 #GeV\n",
    "\n",
    "#d21 = Nudata.squareDm21.central*1e-18# este último factor convierte eV^2 a GeV^2\n",
    "#d31 = Nudata.squareDm31.central*1e-18\n",
    "\n",
    "d21 = 7.5e-5*1e-18\n",
    "d31 = 2.457e-3*1e-18\n",
    "m2 = np.sqrt(m1**2 + d21)\n",
    "m3 = np.sqrt(m1**2 + d31)\n",
    "\n",
    "m4 = lambda m6: m6/3\n",
    "m5 = lambda m6: m6/2\n",
    "\n",
    "def mis(m6):\n",
    "    if isinstance(m6,(np.ndarray)):\n",
    "        return np.array([m1*np.ones_like(m6),m2*np.ones_like(m6),m3*np.ones_like(m6),\n",
    "                         m4(m6),m5(m6),m6])#+np.zeros_like(m6)*1j\n",
    "    else:\n",
    "        return np.array([m1,m2,m3,m4(m6),m5(m6),m6])#+np.zeros(6)*1j\n",
    "mis(np.linspace(1,2,3))#[1]**2 - mis(np.linspace(1,2,3))[0]**2"
   ]
  },
  {
   "cell_type": "code",
   "execution_count": 53,
   "metadata": {},
   "outputs": [],
   "source": [
    "#list(ALOneFermion.subs(\n",
    "#   {Uν[b,i]:Ubi,Uνc[a,i]:Ucai,mn[i]:mni}).subs(valores).atoms(Symbol))\n",
    "#ALOneFermion.atoms(Symbol)"
   ]
  },
  {
   "cell_type": "markdown",
   "metadata": {},
   "source": [
    "#### AL one fermion "
   ]
  },
  {
   "cell_type": "code",
   "execution_count": 54,
   "metadata": {},
   "outputs": [
    {
     "data": {
      "image/png": "[encoded data removed]",
      "text/latex": [
       "$\\displaystyle \\left\\{U_{bi}, m_{a}, m_{b}, m_{n_i}, {{U_{ai}^*}}\\right\\}$"
      ],
      "text/plain": [
       "{U_{bi}, mₐ, m_b, m_{n_i}, {{U_{ai}__*}}}"
      ]
     },
     "execution_count": 54,
     "metadata": {},
     "output_type": "execute_result"
    }
   ],
   "source": [
    "mh,ma,mb = symbols('m_h,m_a,m_b',real=True)\n",
    "cambios2 = {m[a]:ma,m[b]:mb,m[h]:mh}\n",
    "valores ={mW:80.379,mh:125.18,g:(2*80.379)/(246)}\n",
    "ALOneFermionS = ALOneFermion.subs(cambios).subs(cambios2).subs(\n",
    "    {Uν[b,i]:Ubi,Uνc[a,i]:Ucai,mn[i]:mni}).subs(valores)#.atoms(Symbol)\n",
    "ALOneFermionS.atoms(Symbol)"
   ]
  },
  {
   "cell_type": "code",
   "execution_count": 55,
   "metadata": {},
   "outputs": [],
   "source": [
    "#dictALOne = ALOneFermionS.expand().collect(mni,evaluate=False)\n",
    "#list(dictALOne.keys())"
   ]
  },
  {
   "cell_type": "code",
   "execution_count": 56,
   "metadata": {},
   "outputs": [],
   "source": [
    "ALOneFermionNum = lambdify([ma,mb,mni,Ubi,Ucai],ALOneFermionS,modules=[\n",
    "    'numpy',{'polylog':sci_polylog}])"
   ]
  },
  {
   "cell_type": "code",
   "execution_count": 57,
   "metadata": {},
   "outputs": [],
   "source": [
    "def ALOneFermionnp(m6,a,b):\n",
    "    masas = mis(m6)\n",
    "    mtau = 1.77686\n",
    "    mmu = 0.10566\n",
    "    me = 0.000511\n",
    "    ml = {1:me,2:mmu,3:mtau}\n",
    "    al = 0\n",
    "    mm1 = masas[0]\n",
    "    mm6 = masas[-1]\n",
    "    for i in range(1,7):\n",
    "        l = ALOneFermionNum(ml[a],ml[b],masas[i-1],\n",
    "                                            Unu(mm1,mm6,b,i),np.conjugate(Unu(mm1,mm6,a,i)))\n",
    "        #print(l)\n",
    "        al += np.nan_to_num(l)\n",
    "        #print(al)\n",
    "        #print('*'*30)\n",
    "    return al"
   ]
  },
  {
   "cell_type": "code",
   "execution_count": 58,
   "metadata": {},
   "outputs": [],
   "source": [
    "import matplotlib.pyplot as plt\n",
    "%matplotlib inline"
   ]
  },
  {
   "cell_type": "code",
   "execution_count": 59,
   "metadata": {},
   "outputs": [
    {
     "data": {
      "text/plain": [
       "[<matplotlib.lines.Line2D at 0x7f3e45a3ff10>]"
      ]
     },
     "execution_count": 59,
     "metadata": {},
     "output_type": "execute_result"
    },
    {
     "data": {
      "image/png": "[encoded data removed]",
      "text/plain": [
       "<Figure size 432x288 with 1 Axes>"
      ]
     },
     "metadata": {
      "needs_background": "light"
     },
     "output_type": "display_data"
    }
   ],
   "source": [
    "n = 1000\n",
    "#m6np = np.linspace(1,1e10,n,dtype=np.complex64)# + np.zeros(n)*1j\n",
    "#m6np = np.arange(1,1e10,10000)\n",
    "#np.abs(ALOneFermionnp(m6np,2,3))\n",
    "#m6np\n",
    "#ALOneF23 = np.array([ALOneFermionnp(m6,2,3) for m6 in m6np])\n",
    "#ALOneF13 = np.array([ALOneFermionnp(m6,1,3) for m6 in m6np])\n",
    "#ALOneF12 = np.array([ALOneFermionnp(m6,1,2) for m6 in m6np])\n",
    "m6np = np.array([10**k for k in np.linspace(0,15,n)])  + np.zeros(n)*1j\n",
    "ALOneF23 = np.array(ALOneFermionnp(m6np,2,3))\n",
    "ALOneF13 = np.array(ALOneFermionnp(m6np,1,3))\n",
    "ALOneF12 = np.array(ALOneFermionnp(m6np,1,2))\n",
    "\n",
    "plt.loglog(np.real(m6np),np.abs(ALOneF23), linestyle='-', marker='.')\n",
    "plt.loglog(np.real(m6np),np.abs(ALOneF13), linestyle='-', marker='.')\n",
    "plt.loglog(np.real(m6np),np.abs(ALOneF12), linestyle='-', marker='.')"
   ]
  },
  {
   "cell_type": "code",
   "execution_count": 60,
   "metadata": {},
   "outputs": [],
   "source": [
    "m6np = np.array([10**n for n in np.linspace(0,15,100)])\n",
    "#ALOneF23 "
   ]
  },
  {
   "cell_type": "markdown",
   "metadata": {},
   "source": [
    "#### AR one fermion "
   ]
  },
  {
   "cell_type": "code",
   "execution_count": 61,
   "metadata": {},
   "outputs": [
    {
     "data": {
      "image/png": "[encoded data removed]",
      "text/latex": [
       "$\\displaystyle \\left\\{U_{bi}, m_{a}, m_{b}, m_{n_i}, {{U_{ai}^*}}\\right\\}$"
      ],
      "text/plain": [
       "{U_{bi}, mₐ, m_b, m_{n_i}, {{U_{ai}__*}}}"
      ]
     },
     "execution_count": 61,
     "metadata": {},
     "output_type": "execute_result"
    }
   ],
   "source": [
    "AROneFermionS = AROneFermion.subs(cambios).subs(cambios2).subs(\n",
    "    {Uν[b,i]:Ubi,Uνc[a,i]:Ucai,mn[i]:mni}).subs(valores)#.atoms(Symbol)\n",
    "AROneFermionS.atoms(Symbol)"
   ]
  },
  {
   "cell_type": "code",
   "execution_count": 62,
   "metadata": {},
   "outputs": [],
   "source": [
    "AROneFermionNum = lambdify([ma,mb,mni,Ubi,Ucai],AROneFermionS,modules=[\n",
    "    'numpy',{'polylog':sci_polylog}])"
   ]
  },
  {
   "cell_type": "code",
   "execution_count": 63,
   "metadata": {},
   "outputs": [],
   "source": [
    "def AROneFermionnp(m6,a,b):\n",
    "    masas = mis(m6)\n",
    "    mtau = 1.77686\n",
    "    mmu = 0.10566\n",
    "    me = 0.000511\n",
    "    ml = {1:me,2:mmu,3:mtau}\n",
    "    ar = 0\n",
    "    mm1 = masas[0]\n",
    "    mm6 = masas[-1]\n",
    "    for i in range(1,7):\n",
    "        ar += np.nan_to_num(AROneFermionNum(ml[a],ml[b],masas[i-1],\n",
    "                                            Unu(mm1,mm6,b,i),np.conjugate(Unu(mm1,mm6,a,i))))\n",
    "        #print(al)\n",
    "        #print('*'*30)\n",
    "    return ar"
   ]
  },
  {
   "cell_type": "code",
   "execution_count": 64,
   "metadata": {},
   "outputs": [
    {
     "name": "stderr",
     "output_type": "stream",
     "text": [
      "<string>:2: RuntimeWarning: invalid value encountered in sqrt\n",
      "<string>:2: RuntimeWarning: invalid value encountered in log\n",
      "<string>:2: RuntimeWarning: invalid value encountered in sqrt\n",
      "<string>:2: RuntimeWarning: invalid value encountered in log\n",
      "<string>:2: RuntimeWarning: invalid value encountered in sqrt\n",
      "<string>:2: RuntimeWarning: invalid value encountered in log\n"
     ]
    },
    {
     "data": {
      "text/plain": [
       "[<matplotlib.lines.Line2D at 0x7f3e50df1e10>]"
      ]
     },
     "execution_count": 64,
     "metadata": {},
     "output_type": "execute_result"
    },
    {
     "data": {
      "image/png": "[encoded data removed]",
      "text/plain": [
       "<Figure size 432x288 with 1 Axes>"
      ]
     },
     "metadata": {
      "needs_background": "light"
     },
     "output_type": "display_data"
    }
   ],
   "source": [
    "#np.abs(AROneFermionnp(1000,2,3))\n",
    "plt.loglog(np.real(m6np),np.abs(AROneFermionnp(m6np,2,3)),linestyle='-', marker='.')\n",
    "plt.loglog(np.real(m6np),np.abs(AROneFermionnp(m6np,1,3)),linestyle='-', marker='.')\n",
    "plt.loglog(np.real(m6np),np.abs(AROneFermionnp(m6np,1,2)),linestyle='-', marker='.')"
   ]
  },
  {
   "cell_type": "markdown",
   "metadata": {},
   "source": [
    "### Form factor with two fermion in the loop."
   ]
  },
  {
   "cell_type": "code",
   "execution_count": 65,
   "metadata": {},
   "outputs": [
    {
     "data": {
      "image/png": "[encoded data removed]",
      "text/latex": [
       "$\\displaystyle \\left[ m_{W}, \\  {{{m_n}}}_{i}, \\  {{{m_n}}}_{j}\\right]$"
      ],
      "text/plain": [
       "[m_W, {{m_n}}[i], {{m_n}}[j]]"
      ]
     },
     "metadata": {},
     "output_type": "display_data"
    },
    {
     "data": {
      "image/png": "[encoded data removed]",
      "text/latex": [
       "$\\displaystyle \\left[ m_{W}, \\  {{{m_n}}}_{i}, \\  {{{m_n}}}_{j}\\right]$"
      ],
      "text/plain": [
       "[m_W, {{m_n}}[i], {{m_n}}[j]]"
      ]
     },
     "metadata": {},
     "output_type": "display_data"
    }
   ],
   "source": [
    "ALTwoFermion = 0;ARTwoFermion = 0;\n",
    "for diag in TrianglesTwoFermion:\n",
    "    masas = diag.masas\n",
    "    display(masas)\n",
    "    splitting = lfvhd.cambiosDivFin(*masas)\n",
    "    aprroximation = lfvhd.cambios_aprox(*masas)\n",
    "    AL = diag.AL().subs(splitting)\n",
    "    AR = diag.AR().subs(splitting)\n",
    "    ALTwoFermion += AL.subs(lfvhd.D,4).subs(\n",
    "    lfvhd.Δe,0).subs(aprroximation)\n",
    "    ARTwoFermion += AR.subs(lfvhd.D,4).subs(\n",
    "    lfvhd.Δe,0).subs(aprroximation)\n",
    "    "
   ]
  },
  {
   "cell_type": "markdown",
   "metadata": {},
   "source": [
    "#### AL TwoFermion"
   ]
  },
  {
   "cell_type": "code",
   "execution_count": 66,
   "metadata": {},
   "outputs": [
    {
     "data": {
      "image/png": "[encoded data removed]",
      "text/latex": [
       "$\\displaystyle - \\frac{g^{3} m_{i}^{3} {C}_{i,j} {{{U^\\nu}}}_{b,j} {{{U^{\\nu *}}}}_{a,i} {{{m_n}}}_{j}^{2}}{32 \\pi^{2} m_{W}^{3} m_{a}^{2}}$"
      ],
      "text/plain": [
       "  3   3                                                       2 \n",
       "-g ⋅mᵢ ⋅C[i, j]⋅{{U^\\nu}}[b, j]⋅{{U^{\\nu *}}}[a, i]⋅{{m_n}}[j]  \n",
       "────────────────────────────────────────────────────────────────\n",
       "                             2    3   2                         \n",
       "                         32⋅π ⋅m_W ⋅mₐ                          "
      ]
     },
     "execution_count": 66,
     "metadata": {},
     "output_type": "execute_result"
    }
   ],
   "source": [
    "ALTwoFermion.expand().args[0]"
   ]
  },
  {
   "cell_type": "code",
   "execution_count": 67,
   "metadata": {},
   "outputs": [],
   "source": [
    "Ubj,mnj, Cijs,Cijcs = symbols('{{U_{bj}}},m_{n_j}, C_{ij},{{C_{ij}^*}}')"
   ]
  },
  {
   "cell_type": "code",
   "execution_count": 68,
   "metadata": {},
   "outputs": [
    {
     "data": {
      "image/png": "[encoded data removed]",
      "text/latex": [
       "$\\displaystyle \\left\\{C_{ij}, m_{a}, m_{b}, m_{n_i}, m_{n_j}, {{C_{ij}^*}}, {{U_{ai}^*}}, {{U_{bj}}}\\right\\}$"
      ],
      "text/plain": [
       "{C_{ij}, mₐ, m_b, m_{n_i}, m_{n_j}, {{C_{ij}__*}}, {{U_{ai}__*}}, {{U_{bj}}}}"
      ]
     },
     "execution_count": 68,
     "metadata": {},
     "output_type": "execute_result"
    }
   ],
   "source": [
    "#{lfvhd.mi:m[a],lfvhd.mj:m[b]}\n",
    "ALTwoFermionS = ALTwoFermion.subs(cambios).subs(cambios2).subs(\n",
    "    {Uν[b,j]:Ubj,Uνc[a,i]:Ucai,mn[i]:mni,mn[j]:mnj,\n",
    "     C[i,j]:Cijs,Cc[i,j]:Cijcs}).subs(valores)\n",
    "ALTwoFermionS.atoms(Symbol)"
   ]
  },
  {
   "cell_type": "code",
   "execution_count": 69,
   "metadata": {},
   "outputs": [],
   "source": [
    "#valores.keys()"
   ]
  },
  {
   "cell_type": "code",
   "execution_count": 70,
   "metadata": {},
   "outputs": [],
   "source": [
    "#ALTwoFermion.subs(cambios).subs(cambios2).subs(\n",
    "#    {Uν[b,j]:Ubj,Uνc[a,i]:Ucai,mn[i]:mni,mn[j]:mnj,\n",
    "#C[i,j]:Cijs,Cc[i,j]:Cijcs}).subs(valores).atoms(Symbol)"
   ]
  },
  {
   "cell_type": "code",
   "execution_count": 71,
   "metadata": {},
   "outputs": [],
   "source": [
    "#dictALTwo = ALTwoFermionS.expand().collect([mni,mnj],evaluate=False)\n",
    "#list(dictALTwo.keys())"
   ]
  },
  {
   "cell_type": "code",
   "execution_count": 72,
   "metadata": {},
   "outputs": [],
   "source": [
    "from sympy import nfloat"
   ]
  },
  {
   "cell_type": "code",
   "execution_count": 73,
   "metadata": {},
   "outputs": [],
   "source": [
    "ALTwoFermionNum = lambdify([ma,mb,mni,mnj,Ubj,Ucai,Cijs,Cijcs],nfloat(ALTwoFermionS),\n",
    "                           modules=['numpy',{'polylog':sci_polylog}])"
   ]
  },
  {
   "cell_type": "code",
   "execution_count": 74,
   "metadata": {},
   "outputs": [],
   "source": [
    "from Unu_seesaw import Cij"
   ]
  },
  {
   "cell_type": "code",
   "execution_count": 75,
   "metadata": {},
   "outputs": [],
   "source": [
    "def ALTwoFermionnp(m6,a,b):\n",
    "    masas = mis(m6)\n",
    "    mtau = 1.77686\n",
    "    mmu = 0.10566\n",
    "    me = 0.000511\n",
    "    ml = {1:me,2:mmu,3:mtau}\n",
    "    al = 0\n",
    "    mm1 = masas[0]\n",
    "    mm6 = masas[-1]\n",
    "    for i in range(1,7):\n",
    "        for j in range(1,7):\n",
    "            r = ALTwoFermionNum(ml[a],ml[b],masas[i-1],masas[j-1],\n",
    "                                      Unu(mm1,mm6,b,j), np.conjugate(Unu(mm1,mm6,a,i)),\n",
    "                                      Cij(mm1,mm6,i,j),np.conjugate(Cij(mm1,mm6,i,j)))\n",
    "            r = np.nan_to_num(r)\n",
    "            al += r\n",
    "            #print(al)\n",
    "    return al"
   ]
  },
  {
   "cell_type": "code",
   "execution_count": 76,
   "metadata": {},
   "outputs": [
    {
     "name": "stderr",
     "output_type": "stream",
     "text": [
      "<string>:2: RuntimeWarning: divide by zero encountered in log\n",
      "<string>:2: RuntimeWarning: divide by zero encountered in true_divide\n",
      "<string>:2: RuntimeWarning: invalid value encountered in log\n",
      "<string>:2: RuntimeWarning: invalid value encountered in sqrt\n",
      "/home/moiseszm/miniconda3/lib/python3.7/site-packages/ipykernel_launcher.py:1: UserWarning: Data has no positive values, and therefore cannot be log-scaled.\n",
      "  \"\"\"Entry point for launching an IPython kernel.\n",
      "<string>:2: RuntimeWarning: divide by zero encountered in log\n",
      "<string>:2: RuntimeWarning: invalid value encountered in log\n",
      "<string>:2: RuntimeWarning: divide by zero encountered in true_divide\n",
      "<string>:2: RuntimeWarning: invalid value encountered in sqrt\n",
      "/home/moiseszm/miniconda3/lib/python3.7/site-packages/ipykernel_launcher.py:2: UserWarning: Data has no positive values, and therefore cannot be log-scaled.\n",
      "  \n",
      "/home/moiseszm/miniconda3/lib/python3.7/site-packages/ipykernel_launcher.py:2: UserWarning: Data has no positive values, and therefore cannot be log-scaled.\n",
      "  \n",
      "<string>:2: RuntimeWarning: divide by zero encountered in log\n",
      "<string>:2: RuntimeWarning: invalid value encountered in log\n",
      "<string>:2: RuntimeWarning: divide by zero encountered in true_divide\n",
      "<string>:2: RuntimeWarning: invalid value encountered in sqrt\n",
      "/home/moiseszm/miniconda3/lib/python3.7/site-packages/ipykernel_launcher.py:3: UserWarning: Data has no positive values, and therefore cannot be log-scaled.\n",
      "  This is separate from the ipykernel package so we can avoid doing imports until\n",
      "/home/moiseszm/miniconda3/lib/python3.7/site-packages/ipykernel_launcher.py:3: UserWarning: Data has no positive values, and therefore cannot be log-scaled.\n",
      "  This is separate from the ipykernel package so we can avoid doing imports until\n"
     ]
    },
    {
     "data": {
      "text/plain": [
       "[<matplotlib.lines.Line2D at 0x7f3e453dc1d0>]"
      ]
     },
     "execution_count": 76,
     "metadata": {},
     "output_type": "execute_result"
    },
    {
     "data": {
      "image/png": "[encoded data removed]",
      "text/plain": [
       "<Figure size 432x288 with 1 Axes>"
      ]
     },
     "metadata": {
      "needs_background": "light"
     },
     "output_type": "display_data"
    }
   ],
   "source": [
    "plt.semilogy(np.abs(m6np),np.abs(ALTwoFermionnp(m6np,2,3)),linestyle='-', marker='.')\n",
    "plt.semilogy(np.abs(m6np),np.abs(ALTwoFermionnp(m6np,1,3)),linestyle='-', marker='.')\n",
    "plt.semilogy(np.abs(m6np),np.abs(ALTwoFermionnp(m6np,1,2)),linestyle='-', marker='.')"
   ]
  },
  {
   "cell_type": "code",
   "execution_count": 77,
   "metadata": {},
   "outputs": [
    {
     "name": "stdout",
     "output_type": "stream",
     "text": [
      "oh no!\n"
     ]
    }
   ],
   "source": [
    "with np.errstate(all='raise'):\n",
    "    try:\n",
    "        np.abs(ALTwoFermionnp(m6np,2,3))\n",
    "    except FloatingPointError:\n",
    "        print('oh no!')"
   ]
  },
  {
   "cell_type": "code",
   "execution_count": 78,
   "metadata": {},
   "outputs": [],
   "source": [
    "#with np.errstate(divide=\"raise\"):\n",
    "#    print(np.abs(ALTwoFermionnp(m6np,2,3)))"
   ]
  },
  {
   "cell_type": "markdown",
   "metadata": {},
   "source": [
    "#### AR Two Fermion"
   ]
  },
  {
   "cell_type": "code",
   "execution_count": 79,
   "metadata": {},
   "outputs": [],
   "source": [
    "ARTwoFermionS = ARTwoFermion.subs(cambios).subs(cambios2).subs(\n",
    "    {Uν[b,j]:Ubj,Uνc[a,i]:Ucai,mn[i]:mni,mn[j]:mnj,\n",
    "     C[i,j]:Cijs,Cc[i,j]:Cijcs}).subs(valores)"
   ]
  },
  {
   "cell_type": "code",
   "execution_count": 80,
   "metadata": {},
   "outputs": [],
   "source": [
    "ARTwoFermionNum = lambdify([ma,mb,mni,mnj,Ubj,Ucai,Cijs,Cijcs],ARTwoFermionS,\n",
    "                           modules=['numpy',{'polylog':sci_polylog}])"
   ]
  },
  {
   "cell_type": "code",
   "execution_count": 81,
   "metadata": {},
   "outputs": [],
   "source": [
    "def ARTwoFermionnp(m6,a,b):\n",
    "    masas = mis(m6)\n",
    "    masas = mis(m6)\n",
    "    mtau = 1.77686\n",
    "    mmu = 0.10566\n",
    "    me = 0.000511\n",
    "    ml = {1:me,2:mmu,3:mtau}\n",
    "    ar = 0\n",
    "    mm1 = masas[0]\n",
    "    mm6 = masas[-1]\n",
    "    for i in range(1,7):\n",
    "        for j in range(1,7):\n",
    "            r = ARTwoFermionNum(ml[a],ml[b],masas[i-1],masas[j-1],\n",
    "                                      Unu(mm1,mm6,b,j), np.conjugate(Unu(mm1,mm6,a,i)),\n",
    "                                      Cij(mm1,mm6,i,j),np.conjugate(Cij(mm1,mm6,i,j)))\n",
    "            r = np.nan_to_num(r)\n",
    "            ar += r\n",
    "            #print(al)\n",
    "    return ar"
   ]
  },
  {
   "cell_type": "code",
   "execution_count": 82,
   "metadata": {},
   "outputs": [
    {
     "name": "stderr",
     "output_type": "stream",
     "text": [
      "<string>:2: RuntimeWarning: divide by zero encountered in log\n",
      "<string>:2: RuntimeWarning: divide by zero encountered in true_divide\n",
      "<string>:2: RuntimeWarning: invalid value encountered in log\n",
      "<string>:2: RuntimeWarning: invalid value encountered in sqrt\n",
      "/home/moiseszm/miniconda3/lib/python3.7/site-packages/ipykernel_launcher.py:9: UserWarning: Data has no positive values, and therefore cannot be log-scaled.\n",
      "  if __name__ == '__main__':\n",
      "<string>:2: RuntimeWarning: divide by zero encountered in log\n",
      "<string>:2: RuntimeWarning: divide by zero encountered in true_divide\n",
      "<string>:2: RuntimeWarning: invalid value encountered in log\n",
      "<string>:2: RuntimeWarning: invalid value encountered in sqrt\n",
      "/home/moiseszm/miniconda3/lib/python3.7/site-packages/ipykernel_launcher.py:10: UserWarning: Data has no positive values, and therefore cannot be log-scaled.\n",
      "  # Remove the CWD from sys.path while we load stuff.\n",
      "/home/moiseszm/miniconda3/lib/python3.7/site-packages/ipykernel_launcher.py:10: UserWarning: Data has no positive values, and therefore cannot be log-scaled.\n",
      "  # Remove the CWD from sys.path while we load stuff.\n",
      "<string>:2: RuntimeWarning: divide by zero encountered in log\n",
      "<string>:2: RuntimeWarning: divide by zero encountered in true_divide\n",
      "<string>:2: RuntimeWarning: invalid value encountered in log\n",
      "<string>:2: RuntimeWarning: invalid value encountered in sqrt\n",
      "/home/moiseszm/miniconda3/lib/python3.7/site-packages/ipykernel_launcher.py:11: UserWarning: Data has no positive values, and therefore cannot be log-scaled.\n",
      "  # This is added back by InteractiveShellApp.init_path()\n",
      "/home/moiseszm/miniconda3/lib/python3.7/site-packages/ipykernel_launcher.py:11: UserWarning: Data has no positive values, and therefore cannot be log-scaled.\n",
      "  # This is added back by InteractiveShellApp.init_path()\n"
     ]
    },
    {
     "data": {
      "text/plain": [
       "[<matplotlib.lines.Line2D at 0x7f3e50e71250>]"
      ]
     },
     "execution_count": 82,
     "metadata": {},
     "output_type": "execute_result"
    },
    {
     "data": {
      "image/png": "[encoded data removed]",
      "text/plain": [
       "<Figure size 432x288 with 1 Axes>"
      ]
     },
     "metadata": {
      "needs_background": "light"
     },
     "output_type": "display_data"
    }
   ],
   "source": [
    "#series1 = np.abs(ALTwoFermionnp(m6np,1,3)).astype(np.double)\n",
    "#s1mask = np.isfinite(series1)\n",
    "#series2 = np.abs(ARTwoFermionnp(m6np,1,3)).astype(np.double)\n",
    "#s2mask = np.isfinite(series2)\n",
    "#plt.semilogy(np.abs(m6np[s1mask]),series1[s1mask],linestyle='-', marker='.')\n",
    "#plt.semilogy(np.abs(m6np[s2mask]),series2[s2mask],linestyle='-', marker='.')\n",
    "\n",
    "#plt.semilogy(np.abs(m6np),np.abs(ARTwoFermionnp(m6np,1,3)))\n",
    "plt.semilogy(np.abs(m6np),np.abs(ARTwoFermionnp(m6np,2,3)),linestyle='-', marker='.')\n",
    "plt.semilogy(np.abs(m6np),np.abs(ARTwoFermionnp(m6np,1,3)),linestyle='-', marker='.')\n",
    "plt.semilogy(np.abs(m6np),np.abs(ARTwoFermionnp(m6np,1,2)),linestyle='-', marker='.')"
   ]
  },
  {
   "cell_type": "markdown",
   "metadata": {},
   "source": [
    "## Branchig ratio"
   ]
  },
  {
   "cell_type": "code",
   "execution_count": 83,
   "metadata": {},
   "outputs": [],
   "source": [
    "ALtot =lambda m6,a,b: ALOneFermionnp(m6,a,b) + ALTwoFermionnp(m6,a,b)\n",
    "ARtot =lambda m6,a,b: AROneFermionnp(m6,a,b) + ARTwoFermionnp(m6,a,b)"
   ]
  },
  {
   "cell_type": "code",
   "execution_count": 84,
   "metadata": {},
   "outputs": [
    {
     "name": "stderr",
     "output_type": "stream",
     "text": [
      "<string>:2: RuntimeWarning: invalid value encountered in sqrt\n",
      "<string>:2: RuntimeWarning: invalid value encountered in log\n",
      "<string>:2: RuntimeWarning: divide by zero encountered in log\n",
      "<string>:2: RuntimeWarning: invalid value encountered in log\n",
      "<string>:2: RuntimeWarning: divide by zero encountered in true_divide\n",
      "<string>:2: RuntimeWarning: invalid value encountered in sqrt\n",
      "<string>:2: RuntimeWarning: invalid value encountered in sqrt\n",
      "<string>:2: RuntimeWarning: invalid value encountered in log\n",
      "<string>:2: RuntimeWarning: divide by zero encountered in log\n",
      "<string>:2: RuntimeWarning: divide by zero encountered in true_divide\n",
      "<string>:2: RuntimeWarning: invalid value encountered in log\n",
      "<string>:2: RuntimeWarning: invalid value encountered in sqrt\n",
      "<string>:2: RuntimeWarning: invalid value encountered in sqrt\n",
      "<string>:2: RuntimeWarning: invalid value encountered in log\n",
      "<string>:2: RuntimeWarning: divide by zero encountered in log\n",
      "<string>:2: RuntimeWarning: invalid value encountered in log\n",
      "<string>:2: RuntimeWarning: divide by zero encountered in true_divide\n",
      "<string>:2: RuntimeWarning: invalid value encountered in sqrt\n",
      "<string>:2: RuntimeWarning: invalid value encountered in sqrt\n",
      "<string>:2: RuntimeWarning: invalid value encountered in log\n",
      "<string>:2: RuntimeWarning: divide by zero encountered in log\n",
      "<string>:2: RuntimeWarning: divide by zero encountered in true_divide\n",
      "<string>:2: RuntimeWarning: invalid value encountered in log\n",
      "<string>:2: RuntimeWarning: invalid value encountered in sqrt\n"
     ]
    },
    {
     "data": {
      "text/plain": [
       "<matplotlib.legend.Legend at 0x7f3e44bdb710>"
      ]
     },
     "execution_count": 84,
     "metadata": {},
     "output_type": "execute_result"
    },
    {
     "data": {
      "image/png": "[encoded data removed]",
      "text/plain": [
       "<Figure size 1080x576 with 1 Axes>"
      ]
     },
     "metadata": {
      "needs_background": "light"
     },
     "output_type": "display_data"
    }
   ],
   "source": [
    "#m6np = np.linspace(1e-3,1e4,5000)\n",
    "plt.figure(figsize=(15,8))\n",
    "plt.loglog(m6np,np.abs(ALtot(m6np,1,3))**2,label='$|A_L|^2$')\n",
    "plt.loglog(m6np,np.abs(ARtot(m6np,1,3))**2,label='$|A_R|^2$')\n",
    "plt.loglog(m6np,np.abs(ALtot(m6np,1,3))**2 + np.abs(ARtot(m6np,1,3))**2,\n",
    "             label='$|A_L|^2 + |A_R|^2$')\n",
    "plt.legend()"
   ]
  },
  {
   "cell_type": "code",
   "execution_count": 85,
   "metadata": {},
   "outputs": [
    {
     "name": "stderr",
     "output_type": "stream",
     "text": [
      "<string>:2: RuntimeWarning: invalid value encountered in sqrt\n",
      "<string>:2: RuntimeWarning: invalid value encountered in log\n",
      "<string>:2: RuntimeWarning: divide by zero encountered in log\n",
      "<string>:2: RuntimeWarning: divide by zero encountered in true_divide\n",
      "<string>:2: RuntimeWarning: invalid value encountered in log\n",
      "<string>:2: RuntimeWarning: invalid value encountered in sqrt\n",
      "<string>:2: RuntimeWarning: invalid value encountered in sqrt\n",
      "<string>:2: RuntimeWarning: invalid value encountered in log\n",
      "<string>:2: RuntimeWarning: divide by zero encountered in log\n",
      "<string>:2: RuntimeWarning: invalid value encountered in log\n",
      "<string>:2: RuntimeWarning: divide by zero encountered in true_divide\n",
      "<string>:2: RuntimeWarning: invalid value encountered in sqrt\n",
      "<string>:2: RuntimeWarning: invalid value encountered in sqrt\n",
      "<string>:2: RuntimeWarning: invalid value encountered in log\n",
      "<string>:2: RuntimeWarning: divide by zero encountered in log\n",
      "<string>:2: RuntimeWarning: invalid value encountered in log\n",
      "<string>:2: RuntimeWarning: divide by zero encountered in true_divide\n",
      "<string>:2: RuntimeWarning: invalid value encountered in sqrt\n"
     ]
    },
    {
     "data": {
      "text/plain": [
       "<matplotlib.legend.Legend at 0x7f3e44e69510>"
      ]
     },
     "execution_count": 85,
     "metadata": {},
     "output_type": "execute_result"
    },
    {
     "data": {
      "image/png": "[encoded data removed]",
      "text/plain": [
       "<Figure size 1080x576 with 1 Axes>"
      ]
     },
     "metadata": {
      "needs_background": "light"
     },
     "output_type": "display_data"
    }
   ],
   "source": [
    "#m6np = np.linspace(1e-3,1e4,5000)\n",
    "plt.figure(figsize=(15,8))\n",
    "plt.loglog(m6np,np.abs(ALtot(m6np,2,3))**2,'.',label='$|A_L|^2(2,3)$')\n",
    "plt.loglog(m6np,np.abs(ALtot(m6np,1,3))**2,'.',label='$|A_L|^2(1,3)$')\n",
    "plt.loglog(m6np,np.abs(ALtot(m6np,1,2))**2,'.',label='$|A_L|^2(1,2)$')\n",
    "plt.legend()"
   ]
  },
  {
   "cell_type": "code",
   "execution_count": 86,
   "metadata": {},
   "outputs": [],
   "source": [
    "from OneLoopLFVHD import BRhlilj,Γhlilj"
   ]
  },
  {
   "cell_type": "code",
   "execution_count": 87,
   "metadata": {},
   "outputs": [],
   "source": [
    "Γhlilj2 = lambda mh,AL,AR: mh/(8*np.pi)*(np.abs(AL)**2 + np.abs(AR)**2)"
   ]
  },
  {
   "cell_type": "markdown",
   "metadata": {},
   "source": [
    "Adding Higgs decays to heavy neutrinos"
   ]
  },
  {
   "cell_type": "code",
   "execution_count": 88,
   "metadata": {},
   "outputs": [
    {
     "data": {
      "image/png": "[encoded data removed]",
      "text/latex": [
       "$\\displaystyle \\left( - \\frac{i g \\left(C_{ij} m_{n_i} + m_{n_j} {{C_{ij}^*}}\\right)}{2 m_{W}}, \\  - \\frac{i g \\left(C_{ij} m_{n_j} + m_{n_i} {{C_{ij}^*}}\\right)}{2 m_{W}}\\right)$"
      ],
      "text/plain": [
       "⎛-ⅈ⋅g⋅(C_{ij}⋅m_{n_i} + m_{n_j}⋅{{C_{ij}__*}})   -ⅈ⋅g⋅(C_{ij}⋅m_{n_j} + m_{n_i\n",
       "⎜──────────────────────────────────────────────, ─────────────────────────────\n",
       "⎝                    2⋅m_W                                           2⋅m_W    \n",
       "\n",
       "}⋅{{C_{ij}__*}}) ⎞\n",
       "─────────────────⎟\n",
       "                 ⎠"
      ]
     },
     "execution_count": 88,
     "metadata": {},
     "output_type": "execute_result"
    }
   ],
   "source": [
    "ALN = -I*g/(2*mW)*(mni*Cijs + mnj*Cijcs)\n",
    "ARN = -I*g/(2*mW)*(mnj*Cijs + mni*Cijcs)\n",
    "ALN,ARN"
   ]
  },
  {
   "cell_type": "code",
   "execution_count": 89,
   "metadata": {},
   "outputs": [],
   "source": [
    "ALNnp = lambdify([mni,mnj,Cijs,Cijcs],ALN.subs(valores),'numpy')\n",
    "ARNnp = lambdify([mni,mnj,Cijs,Cijcs],ARN.subs(valores),'numpy')\n",
    "def ΓhNiNj(AL,AR,ma=125.18,mi=1,mj=60):\n",
    "    if np.real(mi+mj)/2<ma/2:\n",
    "        X =  Γhlilj(AL,AR,ma=ma,mi=mi,mj=mj)\n",
    "    else:\n",
    "        X = 0\n",
    "    return X\n",
    "ΓhNiNj = np.vectorize(ΓhNiNj)"
   ]
  },
  {
   "cell_type": "code",
   "execution_count": 90,
   "metadata": {},
   "outputs": [],
   "source": [
    "#m6=np.linspace(1,400,100)\n",
    "#ma=mh\n",
    "#mN = {4:m6/3,5:m6/2,6:m6}\n",
    "#sumaN = np.sum(np.nan_to_num(ΓhNiNj(ALNnp(mN[i],mN[j],Cij(m6,i,j),np.conjugate(Cij(m6,i,j))),\n",
    "#                          ARNnp(mN[i],mN[j],Cij(m6,i,j),np.conjugate(Cij(m6,i,j))),\n",
    "#                         ma=ma,mi=mN[i],mj=mN[j]))\n",
    "#                   for i in [4,5,6] for j in [4,5,6])\n",
    "#plt.semilogy(m6,sumaN)"
   ]
  },
  {
   "cell_type": "code",
   "execution_count": 91,
   "metadata": {},
   "outputs": [],
   "source": [
    "def BRhlilj(m6,ma=125.18,i=2,j=3):\n",
    "    mtau = 1.77686\n",
    "    mmu = 0.10566\n",
    "    me = 0.000511\n",
    "    ml = {1:me,2:mmu,3:mtau}\n",
    "    masas = mis(m6)\n",
    "    mm1 = masas[0]\n",
    "    mm6 = masas[-1]\n",
    "    X = lambda AL,AR,a,b:Γhlilj(AL,AR,ma=ma,mi=ml[a],mj=ml[b])#2(ma,AL,AR)\n",
    "    suma = sum(X(ALtot(m6,a,b),ARtot(m6,a,b),a,b) \n",
    "                              for a in [1,2,3] for b in [1,2,3] if a!=b)\n",
    "    mN = {4:m6/3,5:m6/2,6:m6}\n",
    "    sumaN = sum(np.nan_to_num(ΓhNiNj(ALNnp(mN[i],mN[j],Cij(mm1,mm6,i,j),np.conjugate(Cij(mm1,mm6,i,j))),\n",
    "                          ARNnp(mN[i],mN[j],Cij(mm1,mm6,i,j),np.conjugate(Cij(mm1,mm6,i,j))),\n",
    "                         ma=ma,mi=mN[i],mj=mN[j]))\n",
    "                   for i in [4,5,6] for j in [4,5,6])\n",
    "    return np.nan_to_num(Γhlilj(ALtot(m6,i,j),ARtot(m6,i,j),ma=ma,mi=ml[i],mj=ml[j]))/(suma + 4.07e-3)#+ sumaN "
   ]
  },
  {
   "cell_type": "code",
   "execution_count": 92,
   "metadata": {},
   "outputs": [
    {
     "name": "stderr",
     "output_type": "stream",
     "text": [
      "<string>:2: RuntimeWarning: invalid value encountered in sqrt\n",
      "<string>:2: RuntimeWarning: invalid value encountered in log\n",
      "<string>:2: RuntimeWarning: divide by zero encountered in log\n",
      "<string>:2: RuntimeWarning: invalid value encountered in log\n",
      "<string>:2: RuntimeWarning: divide by zero encountered in true_divide\n",
      "<string>:2: RuntimeWarning: invalid value encountered in sqrt\n",
      "<string>:2: RuntimeWarning: invalid value encountered in sqrt\n",
      "<string>:2: RuntimeWarning: invalid value encountered in log\n",
      "<string>:2: RuntimeWarning: divide by zero encountered in log\n",
      "<string>:2: RuntimeWarning: divide by zero encountered in true_divide\n",
      "<string>:2: RuntimeWarning: invalid value encountered in log\n",
      "<string>:2: RuntimeWarning: invalid value encountered in sqrt\n",
      "/home/moiseszm/miniconda3/lib/python3.7/site-packages/OneLoopLFVHD/LFVHDFeynGv3.py:902: RuntimeWarning: invalid value encountered in sqrt\n",
      "  r = 1/(8 *np.pi* ma)*np.sqrt((1-((mi**2+mj**2)/ma)**2)*(1-((mi**2-mj**2)/ma)**2))*((ma**2 - mi**2 - mj**2)*(np.abs(ML)**2 + np.abs(MR)**2)-4*mi*mj*np.real(ML*np.conj(MR)))\n"
     ]
    }
   ],
   "source": [
    "n = 1000\n",
    "#m6np = np.linspace(1,1e14,n)+ np.zeros(n)*1j\n",
    "#m6np1 = np.linspace(1e-3,1,n)\n",
    "mtau = 1.77686\n",
    "mmu = 0.10566\n",
    "me = 0.000511\n",
    "ml = {1:me,2:mmu,3:mtau}\n",
    "mh = 125.18\n",
    "X = lambda m6,a,b:BRhlilj(m6,ma=mh,i=a,j=b)\n",
    "X23 = X(m6np,2,3)\n",
    "X13 = X(m6np,1,3)\n",
    "X12 = X(m6np,1,2)"
   ]
  },
  {
   "cell_type": "code",
   "execution_count": 93,
   "metadata": {},
   "outputs": [
    {
     "data": {
      "image/png": "[encoded data removed]",
      "text/plain": [
       "<Figure size 1080x576 with 1 Axes>"
      ]
     },
     "metadata": {
      "needs_background": "light"
     },
     "output_type": "display_data"
    }
   ],
   "source": [
    "#cond = X<1e60\n",
    "plt.figure(figsize=(15,8))\n",
    "plt.loglog(m6np,X23,'r-',label='a=2,b=3',alpha=0.5)\n",
    "plt.loglog(m6np,X13,'b-',label='a=1,b=3',alpha=0.5)\n",
    "plt.loglog(m6np,X12,'g-',label='a=1,b=2',alpha=0.5)\n",
    "#plt.loglog(m6np,X(m6np1,2,3),'r')\n",
    "#plt.loglog(m6np,X(m6np1,1,3),'b')\n",
    "#plt.loglog(m6np,X(m6np1,1,2),'g')\n",
    "plt.legend()\n",
    "#plt.xticks([1,10**4,10**8,10**12,10**16])\n",
    "plt.yticks([1e-49,1e-39,1e-29,1e-19,1e-9]);"
   ]
  },
  {
   "cell_type": "code",
   "execution_count": 1,
   "metadata": {},
   "outputs": [],
   "source": [
    "from sympy import integrate,log,plot,solve,Add,lambdify,Symbol,symbols,nsolve\n",
    "import numpy as np\n",
    "import matplotlib.pyplot as plt\n",
    "%matplotlib inline"
   ]
  },
  {
   "cell_type": "code",
   "execution_count": 2,
   "metadata": {},
   "outputs": [
    {
     "data": {
      "text/latex": [
       "$\\displaystyle y \\left(\\log{\\left(- y \\right)} - \\log{\\left(1 - y \\right)}\\right) + \\log{\\left(1 - \\frac{1}{y} \\right)} - 1$"
      ],
      "text/plain": [
       "y*(log(-y) - log(1 - y)) + log(1 - 1/y) - 1"
      ]
     },
     "execution_count": 2,
     "metadata": {},
     "output_type": "execute_result"
    }
   ],
   "source": [
    "y,t = symbols('y,t')\n",
    "f0 = integrate(log(1-(t/y)),(t,0,1))\n",
    "f1 = 2*integrate(t*log(1-(t/y)),(t,0,1))\n",
    "f0.collect(y)"
   ]
  },
  {
   "cell_type": "code",
   "execution_count": 3,
   "metadata": {},
   "outputs": [
    {
     "data": {
      "text/latex": [
       "$\\displaystyle 0.977502119602598 + 1.1 i \\pi$"
      ],
      "text/plain": [
       "0.977502119602598 + 1.1*I*pi"
      ]
     },
     "execution_count": 3,
     "metadata": {},
     "output_type": "execute_result"
    }
   ],
   "source": [
    "f0.subs(y,0.1)"
   ]
  },
  {
   "cell_type": "code",
   "execution_count": 4,
   "metadata": {},
   "outputs": [
    {
     "data": {
      "text/latex": [
       "$\\displaystyle y^{2} \\left(\\log{\\left(- y \\right)} - \\log{\\left(1 - y \\right)}\\right) - y + \\log{\\left(1 - \\frac{1}{y} \\right)} - \\frac{1}{2}$"
      ],
      "text/plain": [
       "y**2*(log(-y) - log(1 - y)) - y + log(1 - 1/y) - 1/2"
      ]
     },
     "execution_count": 4,
     "metadata": {},
     "output_type": "execute_result"
    }
   ],
   "source": [
    "f1.collect(y)"
   ]
  },
  {
   "cell_type": "code",
   "execution_count": 5,
   "metadata": {},
   "outputs": [],
   "source": [
    "f0np = lambdify([y],f0,'numpy')\n",
    "f1np = lambdify([y],f1,'numpy')\n",
    "\n",
    "f0sp = lambdify([y],f0,'sympy')\n",
    "f1sp = lambdify([y],f1,'sympy')"
   ]
  },
  {
   "cell_type": "code",
   "execution_count": 6,
   "metadata": {},
   "outputs": [
    {
     "name": "stderr",
     "output_type": "stream",
     "text": [
      "/home/moiseszm/.local/lib/python3.7/site-packages/numpy/core/_asarray.py:83: ComplexWarning: Casting complex values to real discards the imaginary part\n",
      "  return array(a, dtype, copy=False, order=order)\n",
      "/home/moiseszm/.local/lib/python3.7/site-packages/numpy/core/_asarray.py:83: ComplexWarning: Casting complex values to real discards the imaginary part\n",
      "  return array(a, dtype, copy=False, order=order)\n"
     ]
    },
    {
     "data": {
      "text/plain": [
       "[<matplotlib.lines.Line2D at 0x7ff9d9eb4e90>]"
      ]
     },
     "execution_count": 6,
     "metadata": {},
     "output_type": "execute_result"
    },
    {
     "data": {
      "image/png": "[encoded data removed]",
      "text/plain": [
       "<Figure size 432x288 with 1 Axes>"
      ]
     },
     "metadata": {
      "needs_background": "light"
     },
     "output_type": "display_data"
    }
   ],
   "source": [
    "ynp = np.linspace(-10,20,300)+np.zeros(300)*1j\n",
    "plt.plot(ynp,f0np(ynp))\n",
    "plt.plot(ynp,f1np(ynp))"
   ]
  },
  {
   "cell_type": "code",
   "execution_count": 7,
   "metadata": {},
   "outputs": [],
   "source": [
    "M0,M1,M2,mh,mi,mj = symbols('M_0,M_1,M_2,m_h,m_i,m_j',real=True)\n",
    "ec1 = y**2*mh**2 - y*(mi**2 + M1**2-M0**2) + M1**2\n",
    "ec2 = y**2*mh**2 - y*(mj**2 + M2**2-M0**2) + M2**2\n",
    "y11,y12 = solve(ec1,y)\n",
    "y21,y22 = solve(ec2,y)"
   ]
  },
  {
   "cell_type": "code",
   "execution_count": 8,
   "metadata": {},
   "outputs": [
    {
     "data": {
      "text/plain": [
       "((-M_0**2 + M_1**2 + m_i**2 - sqrt(-(-M_0**2 + M_1**2 + 2*M_1*m_h + m_i**2)*(M_0**2 - M_1**2 + 2*M_1*m_h - m_i**2)))/(2*m_h**2),\n",
       " (-M_0**2 + M_1**2 + m_i**2 + sqrt(-(-M_0**2 + M_1**2 + 2*M_1*m_h + m_i**2)*(M_0**2 - M_1**2 + 2*M_1*m_h - m_i**2)))/(2*m_h**2))"
      ]
     },
     "execution_count": 8,
     "metadata": {},
     "output_type": "execute_result"
    }
   ],
   "source": [
    "y11,y12"
   ]
  },
  {
   "cell_type": "code",
   "execution_count": 9,
   "metadata": {},
   "outputs": [
    {
     "data": {
      "text/plain": [
       "((-M_0**2 + M_2**2 + m_j**2 - sqrt(-(-M_0**2 + M_2**2 + 2*M_2*m_h + m_j**2)*(M_0**2 - M_2**2 + 2*M_2*m_h - m_j**2)))/(2*m_h**2),\n",
       " (-M_0**2 + M_2**2 + m_j**2 + sqrt(-(-M_0**2 + M_2**2 + 2*M_2*m_h + m_j**2)*(M_0**2 - M_2**2 + 2*M_2*m_h - m_j**2)))/(2*m_h**2))"
      ]
     },
     "execution_count": 9,
     "metadata": {},
     "output_type": "execute_result"
    }
   ],
   "source": [
    "y21,y22"
   ]
  },
  {
   "cell_type": "code",
   "execution_count": 10,
   "metadata": {},
   "outputs": [],
   "source": [
    "y11sp = lambdify([mh,mi,M0,M1],y11,'sympy')\n",
    "y12sp = lambdify([mh,mi,M0,M1],y12,'sympy')\n",
    "y21sp = lambdify([mh,mj,M0,M2],y21,'sympy')\n",
    "y22sp = lambdify([mh,mj,M0,M2],y22,'sympy')"
   ]
  },
  {
   "cell_type": "code",
   "execution_count": 11,
   "metadata": {},
   "outputs": [],
   "source": [
    "f01sum = Add(*[f0sp(y1j(mh,mi,M0,M1)) for y1j in [y11sp,y12sp ]])\n",
    "#f01sum\n",
    "\n",
    "f02sum = Add(*[f0sp(y2j(mh,mj,M0,M2)) for y2j in [y21sp,y22sp ]])\n",
    "#f02sum\n",
    "\n",
    "f11sum = Add(*[f1sp(y1j(mh,mi,M0,M1)) for y1j in [y11sp,y12sp ]])\n",
    "#f11sum\n",
    "\n",
    "f12sum = Add(*[f1sp(y2j(mh,mj,M0,M2)) for y2j in [y21sp,y22sp ]])\n",
    "#f12sum"
   ]
  },
  {
   "cell_type": "code",
   "execution_count": 12,
   "metadata": {},
   "outputs": [
    {
     "ename": "TypeError",
     "evalue": "_lambdifygenerated() takes 5 positional arguments but 6 were given",
     "output_type": "error",
     "traceback": [
      "\u001b[0;31m---------------------------------------------------------------------------\u001b[0m",
      "\u001b[0;31mTypeError\u001b[0m                                 Traceback (most recent call last)",
      "\u001b[0;32m<ipython-input-12-e749a79e6fe7>\u001b[0m in \u001b[0;36m<module>\u001b[0;34m\u001b[0m\n\u001b[1;32m      7\u001b[0m \u001b[0mB1_0np\u001b[0m \u001b[0;34m=\u001b[0m \u001b[0mlambdify\u001b[0m\u001b[0;34m(\u001b[0m\u001b[0;34m[\u001b[0m\u001b[0mmh\u001b[0m\u001b[0;34m,\u001b[0m\u001b[0mmi\u001b[0m\u001b[0;34m,\u001b[0m\u001b[0mM0\u001b[0m\u001b[0;34m,\u001b[0m\u001b[0mM1\u001b[0m\u001b[0;34m]\u001b[0m\u001b[0;34m,\u001b[0m\u001b[0mB1_0\u001b[0m\u001b[0;34m(\u001b[0m\u001b[0mmh\u001b[0m\u001b[0;34m,\u001b[0m\u001b[0mmi\u001b[0m\u001b[0;34m,\u001b[0m\u001b[0mM0\u001b[0m\u001b[0;34m,\u001b[0m\u001b[0mM1\u001b[0m\u001b[0;34m)\u001b[0m\u001b[0;34m,\u001b[0m\u001b[0;34m'numpy'\u001b[0m\u001b[0;34m)\u001b[0m\u001b[0;34m\u001b[0m\u001b[0;34m\u001b[0m\u001b[0m\n\u001b[1;32m      8\u001b[0m \u001b[0mB2_0np\u001b[0m \u001b[0;34m=\u001b[0m \u001b[0mlambdify\u001b[0m\u001b[0;34m(\u001b[0m\u001b[0;34m[\u001b[0m\u001b[0mmh\u001b[0m\u001b[0;34m,\u001b[0m\u001b[0mmj\u001b[0m\u001b[0;34m,\u001b[0m\u001b[0mM0\u001b[0m\u001b[0;34m,\u001b[0m\u001b[0mM2\u001b[0m\u001b[0;34m]\u001b[0m\u001b[0;34m,\u001b[0m\u001b[0mB2_0\u001b[0m\u001b[0;34m(\u001b[0m\u001b[0mmh\u001b[0m\u001b[0;34m,\u001b[0m\u001b[0mmj\u001b[0m\u001b[0;34m,\u001b[0m\u001b[0mM0\u001b[0m\u001b[0;34m,\u001b[0m\u001b[0mM2\u001b[0m\u001b[0;34m)\u001b[0m\u001b[0;34m,\u001b[0m\u001b[0;34m'numpy'\u001b[0m\u001b[0;34m)\u001b[0m\u001b[0;34m\u001b[0m\u001b[0;34m\u001b[0m\u001b[0m\n\u001b[0;32m----> 9\u001b[0;31m \u001b[0mB1_1np\u001b[0m \u001b[0;34m=\u001b[0m \u001b[0mlambdify\u001b[0m\u001b[0;34m(\u001b[0m\u001b[0;34m[\u001b[0m\u001b[0mmh\u001b[0m\u001b[0;34m,\u001b[0m\u001b[0mmi\u001b[0m\u001b[0;34m,\u001b[0m\u001b[0mmj\u001b[0m\u001b[0;34m,\u001b[0m\u001b[0mM0\u001b[0m\u001b[0;34m,\u001b[0m\u001b[0mM1\u001b[0m\u001b[0;34m,\u001b[0m\u001b[0mM2\u001b[0m\u001b[0;34m]\u001b[0m\u001b[0;34m,\u001b[0m\u001b[0mB1_1\u001b[0m\u001b[0;34m(\u001b[0m\u001b[0mmh\u001b[0m\u001b[0;34m,\u001b[0m\u001b[0mmi\u001b[0m\u001b[0;34m,\u001b[0m\u001b[0mmj\u001b[0m\u001b[0;34m,\u001b[0m\u001b[0mM0\u001b[0m\u001b[0;34m,\u001b[0m\u001b[0mM1\u001b[0m\u001b[0;34m,\u001b[0m\u001b[0mM2\u001b[0m\u001b[0;34m)\u001b[0m\u001b[0;34m,\u001b[0m\u001b[0;34m'numpy'\u001b[0m\u001b[0;34m)\u001b[0m\u001b[0;34m\u001b[0m\u001b[0;34m\u001b[0m\u001b[0m\n\u001b[0m\u001b[1;32m     10\u001b[0m \u001b[0mB2_1np\u001b[0m \u001b[0;34m=\u001b[0m \u001b[0mlambdify\u001b[0m\u001b[0;34m(\u001b[0m\u001b[0;34m[\u001b[0m\u001b[0mmh\u001b[0m\u001b[0;34m,\u001b[0m\u001b[0mmi\u001b[0m\u001b[0;34m,\u001b[0m\u001b[0mmj\u001b[0m\u001b[0;34m,\u001b[0m\u001b[0mM0\u001b[0m\u001b[0;34m,\u001b[0m\u001b[0mM1\u001b[0m\u001b[0;34m,\u001b[0m\u001b[0mM2\u001b[0m\u001b[0;34m]\u001b[0m\u001b[0;34m,\u001b[0m\u001b[0mB2_1\u001b[0m\u001b[0;34m(\u001b[0m\u001b[0mmh\u001b[0m\u001b[0;34m,\u001b[0m\u001b[0mmi\u001b[0m\u001b[0;34m,\u001b[0m\u001b[0mmj\u001b[0m\u001b[0;34m,\u001b[0m\u001b[0mM0\u001b[0m\u001b[0;34m,\u001b[0m\u001b[0mM1\u001b[0m\u001b[0;34m,\u001b[0m\u001b[0mM2\u001b[0m\u001b[0;34m)\u001b[0m\u001b[0;34m,\u001b[0m\u001b[0;34m'numpy'\u001b[0m\u001b[0;34m)\u001b[0m\u001b[0;34m\u001b[0m\u001b[0;34m\u001b[0m\u001b[0m\n",
      "\u001b[0;31mTypeError\u001b[0m: _lambdifygenerated() takes 5 positional arguments but 6 were given"
     ]
    }
   ],
   "source": [
    "B1_0 = lambdify([mh,mi,M0,M1],-log(M1**2)-f01sum,'sympy')\n",
    "B2_0 = lambdify([mh,mj,M0,M2],-log(M2**2)-f02sum,'sympy')\n",
    "B1_1 = lambdify([mh,mi,mj,M0,M1],-((1/2)*(-log(M1**2))-f01sum+ (1/2)*f11sum),'sympy')\n",
    "B2_1 = lambdify([mh,mi,mj,M0,M2],(1/2)*(-log(M2**2))-f02sum+ (1/2)*f12sum,'sympy')\n",
    "\n",
    "\n",
    "B1_0np = lambdify([mh,mi,M0,M1],B1_0(mh,mi,M0,M1),'numpy')\n",
    "B2_0np = lambdify([mh,mj,M0,M2],B2_0(mh,mj,M0,M2),'numpy')\n",
    "B1_1np = lambdify([mh,mi,mj,M0,M1,M2],B1_1(mh,mi,mj,M0,M1,M2),'numpy')\n",
    "B2_1np = lambdify([mh,mi,mj,M0,M1,M2],B2_1(mh,mi,mj,M0,M1,M2),'numpy')"
   ]
  },
  {
   "cell_type": "code",
   "execution_count": null,
   "metadata": {},
   "outputs": [],
   "source": [
    "b1_0 = lambdify([M0,M1],-log(M1**2)-f01sum,'sympy')\n",
    "#b1_0(M0,M1)"
   ]
  },
  {
   "cell_type": "code",
   "execution_count": null,
   "metadata": {},
   "outputs": [],
   "source": [
    "(-log(M1**2)-f01sum).atoms(Symbol)"
   ]
  },
  {
   "cell_type": "code",
   "execution_count": null,
   "metadata": {},
   "outputs": [],
   "source": [
    "mtau = 1.77686\n",
    "mmu = 0.10566\n",
    "me = 0.000511https://www.sciencedirect.com/science/article/pii/S0550321317301785\n",
    "ml = {1:me,2:mmu,3:mtau}\n",
    "a = B1_0np(125.18,ml[1],mninp,80)\n",
    "b = lfvhd.B1_0(mni,mW).subs(lfvhd.cambiosDivFin(mni,mW,mW)).subs(\n",
    "    lfvhd.Δe,0).subs(lfvhd.cambios_aprox(mni,mW,mW)).subs({mW:80,lfvhd.ma:125.18})"
   ]
  },
  {
   "cell_type": "code",
   "execution_count": null,
   "metadata": {},
   "outputs": [],
   "source": [
    "bnp = lambdify([mni],b,'numpy')\n",
    "plt.loglog(mninp,np.abs(a),'b')\n",
    "plt.loglog(mninp,np.abs(bnp(mninp)),'r')\n",
    "plt.loglog(mninp,np.abs(bnp(mninp)-a),'g')"
   ]
  },
  {
   "cell_type": "code",
   "execution_count": null,
   "metadata": {},
   "outputs": [],
   "source": [
    "lfvhd.B1_0(mni,mW).subs(lfvhd.cambiosDivFin(mni,mW,mW)).subs(\n",
    "    lfvhd.Δe,0).subs(lfvhd.cambios_aprox(mni,mW,mW)),lfvhd.B2_0(mni,mW).subs(lfvhd.cambiosDivFin(mni,mW,mW)).subs(\n",
    "    lfvhd.Δe,0).subs(lfvhd.cambios_aprox(mni,mW,mW))"
   ]
  },
  {
   "cell_type": "code",
   "execution_count": 1,
   "metadata": {},
   "outputs": [],
   "source": [
    "from sympy import init_printing,symbols,log,sqrt,latex,lambdify,nsimplify,I,limit,oo,factor\n",
    "init_printing()"
   ]
  },
  {
   "cell_type": "code",
   "execution_count": 2,
   "metadata": {},
   "outputs": [
    {
     "data": {
      "image/png": "[encoded data removed]",
      "text/latex": [
       "$\\displaystyle 0.5 \\log{\\left(1 - \\frac{3.13400648 \\cdot 10^{22}}{1.56700324 \\cdot 10^{22} \\sqrt{1 - 1.5976993129893 \\cdot 10^{-11} m} \\sqrt{1.5976993129893 \\cdot 10^{-11} m + 1} + 1.56700324 \\cdot 10^{22}} \\right)}$"
      ],
      "text/plain": [
       "       ⎛                                           3.13400648e+22             \n",
       "0.5⋅log⎜1 - ──────────────────────────────────────────────────────────────────\n",
       "       ⎜                     ___________________________   ___________________\n",
       "       ⎝    1.56700324e+22⋅╲╱ 1 - 1.5976993129893e-11⋅m ⋅╲╱ 1.5976993129893e-1\n",
       "\n",
       "                         ⎞\n",
       "─────────────────────────⎟\n",
       "________                 ⎟\n",
       "1⋅m + 1  + 1.56700324e+22⎠"
      ]
     },
     "execution_count": 2,
     "metadata": {},
     "output_type": "execute_result"
    }
   ],
   "source": [
    "m = symbols('m')\n",
    "f = 0.5*log(1 - 3.13400648e+22/(1.56700324e+22*sqrt(1 - 1.5976993129893e-11*m)*sqrt(1.5976993129893e-11*m + 1) + 1.56700324e+22))\n",
    "f"
   ]
  },
  {
   "cell_type": "code",
   "execution_count": 3,
   "metadata": {},
   "outputs": [
    {
     "data": {
      "text/plain": [
       "'\\\\tilde{\\\\infty}'"
      ]
     },
     "execution_count": 3,
     "metadata": {},
     "output_type": "execute_result"
    }
   ],
   "source": [
    "latex(f.subs(m,1e-3))"
   ]
  },
  {
   "cell_type": "code",
   "execution_count": 4,
   "metadata": {},
   "outputs": [
    {
     "name": "stdout",
     "output_type": "stream",
     "text": [
      "-32.4607738174251 + 1.5707963267949*I\n"
     ]
    }
   ],
   "source": [
    "print(f.evalf(subs={m:1e-3}))"
   ]
  },
  {
   "cell_type": "code",
   "execution_count": 5,
   "metadata": {},
   "outputs": [],
   "source": [
    "from numpy import log as nplog\n",
    "def log_rewritted(x):\n",
    "    y = 1e30\n",
    "    return nplog(x*y)-nplog(y)"
   ]
  },
  {
   "cell_type": "code",
   "execution_count": 6,
   "metadata": {},
   "outputs": [
    {
     "name": "stderr",
     "output_type": "stream",
     "text": [
      "/home/moiseszm/miniconda3/lib/python3.7/site-packages/ipykernel_launcher.py:4: RuntimeWarning: divide by zero encountered in log\n",
      "  after removing the cwd from sys.path.\n"
     ]
    },
    {
     "data": {
      "image/png": "[encoded data removed]",
      "text/latex": [
       "$\\displaystyle -inf$"
      ],
      "text/plain": [
       "-inf"
      ]
     },
     "execution_count": 6,
     "metadata": {},
     "output_type": "execute_result"
    }
   ],
   "source": [
    "fnp = lambdify([m],f,modules=[{'log':log_rewritted}])\n",
    "fnp(1e-3)"
   ]
  },
  {
   "cell_type": "code",
   "execution_count": 7,
   "metadata": {},
   "outputs": [
    {
     "data": {
      "image/png": "[encoded data removed]",
      "text/latex": [
       "$\\displaystyle \\left( -69.07755278982137, \\  -69.0775527898214\\right)$"
      ],
      "text/plain": [
       "(-69.07755278982137, -69.0775527898214)"
      ]
     },
     "execution_count": 7,
     "metadata": {},
     "output_type": "execute_result"
    }
   ],
   "source": [
    "log_rewritted(1e-30),log(1e-30)"
   ]
  },
  {
   "cell_type": "code",
   "execution_count": 8,
   "metadata": {},
   "outputs": [
    {
     "name": "stdout",
     "output_type": "stream",
     "text": [
      "0.5*log(1 - 3.13400648e+22/(1.56700324e+22*sqrt(1 - 1.5976993129893e-11*m)*sqrt(1.5976993129893e-11*m + 1) + 1.56700324e+22))\n"
     ]
    }
   ],
   "source": [
    "print(f)#.subs(m,1e-3)"
   ]
  },
  {
   "cell_type": "code",
   "execution_count": 9,
   "metadata": {},
   "outputs": [
    {
     "data": {
      "image/png": "[encoded data removed]",
      "text/latex": [
       "$\\displaystyle 19.8159738788751 + 3.14159265358979 i$"
      ],
      "text/plain": [
       "19.8159738788751 + 3.14159265358979⋅ⅈ"
      ]
     },
     "execution_count": 9,
     "metadata": {},
     "output_type": "execute_result"
    }
   ],
   "source": [
    "a = 31340064800000000000000\n",
    "b = 15670032400000000000000\n",
    "c = 15976993129893/1000000000000000000000000\n",
    "m = 1e4\n",
    "f1 = log(b) + log(sqrt(1-c**2*m**2,) + 1 - a/b) + log(sqrt(1-c**2*m**2) + 1)\n",
    "f1.n()"
   ]
  },
  {
   "cell_type": "code",
   "execution_count": 10,
   "metadata": {},
   "outputs": [
    {
     "data": {
      "image/png": "[encoded data removed]",
      "text/latex": [
       "$\\displaystyle -31.9832103785707 + i \\pi$"
      ],
      "text/plain": [
       "-31.9832103785707 + ⅈ⋅π"
      ]
     },
     "execution_count": 10,
     "metadata": {},
     "output_type": "execute_result"
    }
   ],
   "source": [
    "log(sqrt(1-c**2*m**2) + 1 - a/b)"
   ]
  },
  {
   "cell_type": "code",
   "execution_count": 11,
   "metadata": {},
   "outputs": [
    {
     "data": {
      "image/png": "[encoded data removed]",
      "text/latex": [
       "$\\displaystyle 1.99999999999999$"
      ],
      "text/plain": [
       "1.99999999999999"
      ]
     },
     "execution_count": 11,
     "metadata": {},
     "output_type": "execute_result"
    }
   ],
   "source": [
    "sqrt(1-c**2*m**2) + 1"
   ]
  },
  {
   "cell_type": "code",
   "execution_count": 12,
   "metadata": {},
   "outputs": [
    {
     "data": {
      "image/png": "[encoded data removed]",
      "text/latex": [
       "$\\displaystyle 2.0$"
      ],
      "text/plain": [
       "2.0"
      ]
     },
     "execution_count": 12,
     "metadata": {},
     "output_type": "execute_result"
    }
   ],
   "source": [
    "a/b"
   ]
  },
  {
   "cell_type": "code",
   "execution_count": 13,
   "metadata": {},
   "outputs": [
    {
     "data": {
      "image/png": "[encoded data removed]",
      "text/latex": [
       "$\\displaystyle 2.5526430947264816e-22$"
      ],
      "text/plain": [
       "2.5526430947264816e-22"
      ]
     },
     "execution_count": 13,
     "metadata": {},
     "output_type": "execute_result"
    }
   ],
   "source": [
    "c**2"
   ]
  },
  {
   "cell_type": "code",
   "execution_count": 14,
   "metadata": {},
   "outputs": [
    {
     "name": "stdout",
     "output_type": "stream",
     "text": [
      "{m2, m_a, m1}\n"
     ]
    }
   ],
   "source": [
    "import OneLoopLFVHD as lfvhd"
   ]
  },
  {
   "cell_type": "code",
   "execution_count": 15,
   "metadata": {},
   "outputs": [
    {
     "data": {
      "image/png": "[encoded data removed]",
      "text/latex": [
       "$\\displaystyle \\operatorname{{{b^{(12)}_0}}}{\\left(m_{n_i},m_{n_j} \\right)}$"
      ],
      "text/plain": [
       "{{b_0}}__{(12)}(m_{n_i}, m_{n_j})"
      ]
     },
     "execution_count": 15,
     "metadata": {},
     "output_type": "execute_result"
    }
   ],
   "source": [
    "mW,mni,mnj = symbols('m_{W},m_{n_i}, m_{n_j}',positive=True)\n",
    "b12_0 = lfvhd.b12_0(mni,mnj)\n",
    "b12_0"
   ]
  },
  {
   "cell_type": "code",
   "execution_count": 18,
   "metadata": {},
   "outputs": [
    {
     "data": {
      "image/png": "[encoded data removed]",
      "text/latex": [
       "$\\displaystyle \\left( 0.999999999999999999999999999936, \\  -64.9202689013220921761422311981 + i \\pi, \\  -64.920268901322092176142231194 + 0.999999999999999999999999999936 i \\pi\\right)$"
      ],
      "text/plain": [
       "(0.999999999999999999999999999936, -64.9202689013220921761422311981 + ⅈ⋅π, -64\n",
       ".920268901322092176142231194 + 0.999999999999999999999999999936⋅ⅈ⋅π)"
      ]
     },
     "execution_count": 18,
     "metadata": {},
     "output_type": "execute_result"
    }
   ],
   "source": [
    "lfvhd.xk(2,m1,m1,mhn),log(1-1/lfvhd.xk(2,m1,m1,mhn)),lfvhd.xk(2,m1,m1,mhn)*log(1-1/lfvhd.xk(2,m1,m1,mhn))"
   ]
  },
  {
   "cell_type": "code",
   "execution_count": 23,
   "metadata": {},
   "outputs": [
    {
     "data": {
      "image/png": "[encoded data removed]",
      "text/latex": [
       "$\\displaystyle -32.4594950838969853630806562502 + 1.0 i \\pi$"
      ],
      "text/plain": [
       "-32.4594950838969853630806562502 + 1.0⋅ⅈ⋅π"
      ]
     },
     "execution_count": 23,
     "metadata": {},
     "output_type": "execute_result"
    }
   ],
   "source": [
    "m1 = 1e-12\n",
    "mhn = 125.18\n",
    "cambiosx = {lfvhd.xkf(1,m1,m1):lfvhd.xk(1,m1,m1,mhn),lfvhd.xkf(2,m1,m1):lfvhd.xk(2,m1,m1,mhn)}\n",
    "r = b12_0.subs(lfvhd.cambios_aprox(\n",
    "    mW,mni,mnj)).subs(mnj,mni).subs(mni,m1).subs(cambiosx).subs(lfvhd.ma,mhn)\n",
    "r.simplify()"
   ]
  },
  {
   "cell_type": "code",
   "execution_count": 20,
   "metadata": {},
   "outputs": [
    {
     "data": {
      "image/png": "[encoded data removed]",
      "text/latex": [
       "$\\displaystyle 1.0 \\operatorname{x_{k}}{\\left(1,1.0 \\cdot 10^{-12},1.0 \\cdot 10^{-12} \\right)} \\log{\\left(1 - \\frac{1}{\\operatorname{x_{k}}{\\left(1,1.0 \\cdot 10^{-12},1.0 \\cdot 10^{-12} \\right)}} \\right)} + 1.0 \\operatorname{x_{k}}{\\left(2,1.0 \\cdot 10^{-12},1.0 \\cdot 10^{-12} \\right)} \\log{\\left(1 - \\frac{1}{\\operatorname{x_{k}}{\\left(2,1.0 \\cdot 10^{-12},1.0 \\cdot 10^{-12} \\right)}} \\right)} + 1.0 \\log{\\left(m_{a} \\right)} + 27.6310211159285$"
      ],
      "text/plain": [
       "                               ⎛               1           ⎞                  \n",
       "1.0⋅xₖ(1, 1.0e-12, 1.0e-12)⋅log⎜1 - ───────────────────────⎟ + 1.0⋅xₖ(2, 1.0e-\n",
       "                               ⎝    xₖ(1, 1.0e-12, 1.0e-12)⎠                  \n",
       "\n",
       "                ⎛               1           ⎞                                 \n",
       "12, 1.0e-12)⋅log⎜1 - ───────────────────────⎟ + 1.0⋅log(mₐ) + 27.6310211159285\n",
       "                ⎝    xₖ(2, 1.0e-12, 1.0e-12)⎠                                 "
      ]
     },
     "execution_count": 20,
     "metadata": {},
     "output_type": "execute_result"
    }
   ],
   "source": [
    "m1 = 1e-12\n",
    "r.subs({mni:m1,mnj:m1}).simplify()#.subs({lfvhd.ma:125.18e9})"
   ]
  },
  {
   "cell_type": "code",
   "execution_count": null,
   "metadata": {},
   "outputs": [],
   "source": [
    "x1,x2 = lfvhd.xk(1,mni,mnj),lfvhd.xk(2,mni,mnj)"
   ]
  },
  {
   "cell_type": "code",
   "execution_count": null,
   "metadata": {},
   "outputs": [],
   "source": [
    "x1n = x1.evalf(subs={mni:m1,mnj:m1,lfvhd.ma:125.18})\n",
    "s1 = 1-(1/x1)\n",
    "s1n = 1-(1/x1n)\n",
    "display(s1.subs(mni,mnj))\n",
    "s1n#.evalf(subs={mni:m1,mnj:m1,lfvhd.ma:125.18})#.subs({lfvhd.ma:125.18})"
   ]
  },
  {
   "cell_type": "code",
   "execution_count": null,
   "metadata": {},
   "outputs": [],
   "source": [
    "x1n*log(s1n)"
   ]
  },
  {
   "cell_type": "code",
   "execution_count": null,
   "metadata": {},
   "outputs": [],
   "source": [
    "from sympy.printing.theanocode import theano_function"
   ]
  },
  {
   "cell_type": "code",
   "execution_count": null,
   "metadata": {},
   "outputs": [],
   "source": [
    "fth = theano_function([lfvhd.ma,mni,mnj],[r])"
   ]
  },
  {
   "cell_type": "code",
   "execution_count": null,
   "metadata": {},
   "outputs": [],
   "source": [
    "fth(125.18e9,1e9,1e9)"
   ]
  },
  {
   "cell_type": "code",
   "execution_count": null,
   "metadata": {},
   "outputs": [],
   "source": [
    "def reval(mi,mj):\n",
    "    return r.subs({lfvhd.ma:125.18e9}).evalf(subs={mni:mi,mnj:mj})"
   ]
  },
  {
   "cell_type": "code",
   "execution_count": 45,
   "metadata": {},
   "outputs": [],
   "source": [
    "import numpy as np\n",
    "m1 = 1e-3#eV 1e-12 #GeV\n",
    "\n",
    "#d21 = Nudata.squareDm21.central*1e-18# este último factor convierte eV^2 a GeV^2\n",
    "#d31 = Nudata.squareDm31.central*1e-18\n",
    "\n",
    "d21 = 7.5e-5#*1e-18\n",
    "d31 = 2.457e-3#*1e-18\n",
    "m2 = np.sqrt(m1**2 + d21)\n",
    "m3 = np.sqrt(m1**2 + d31)"
   ]
  },
  {
   "cell_type": "code",
   "execution_count": 46,
   "metadata": {},
   "outputs": [
    {
     "name": "stdout",
     "output_type": "stream",
     "text": [
      "-5.08156445788884 + 7.26519179409572e-17*I\n",
      "-5.08156445788884 + 7.26519179559897e-17*I\n",
      "-5.08156445788884 + 7.26519184335222e-17*I\n",
      "-5.08156445788884 + 7.46567590888165e-17*I\n",
      "-7.24693112812848 + 7.26519179409533e-17*I\n",
      "-7.24693112812848 + 7.26519179559858e-17*I\n",
      "-7.24693112812848 + 7.26519184335184e-17*I\n",
      "-7.24693112812848 + 7.46567590888126e-17*I\n",
      "-8.9851161061124 + 7.26519179409328e-17*I\n",
      "-8.9851161061124 + 7.26519179559652e-17*I\n",
      "-8.9851161061124 + 7.26519184334978e-17*I\n",
      "-8.9851161061124 + 7.4656759088792e-17*I\n",
      "-16.6074369132662 + 7.26519178906096e-17*I\n",
      "-16.6074369132662 + 7.2651917905642e-17*I\n",
      "-16.6074369132662 + 7.26519183831746e-17*I\n",
      "-16.6074369132662 + 7.46567590384688e-17*I\n"
     ]
    }
   ],
   "source": [
    "for mi in [m1,m2,m3,100]:\n",
    "    for mj in [m1,m2,m3,100]:\n",
    "        print(reval(mi,mj))"
   ]
  },
  {
   "cell_type": "code",
   "execution_count": 40,
   "metadata": {},
   "outputs": [
    {
     "data": {
      "image/png": "[encoded data removed]",
      "text/latex": [
       "$\\displaystyle \\frac{1}{x^{2}}$"
      ],
      "text/plain": [
       "1 \n",
       "──\n",
       " 2\n",
       "x "
      ]
     },
     "execution_count": 40,
     "metadata": {},
     "output_type": "execute_result"
    }
   ],
   "source": [
    "x = symbols('x')\n",
    "f = 1-(1/x)\n",
    "f.diff(x)"
   ]
  },
  {
   "cell_type": "code",
   "execution_count": 56,
   "metadata": {},
   "outputs": [],
   "source": [
    "from sympy import log,plot,integrate"
   ]
  },
  {
   "cell_type": "code",
   "execution_count": 43,
   "metadata": {},
   "outputs": [
    {
     "data": {
      "image/png": "[encoded data removed]",
      "text/plain": [
       "<Figure size 432x288 with 1 Axes>"
      ]
     },
     "metadata": {
      "needs_background": "light"
     },
     "output_type": "display_data"
    },
    {
     "data": {
      "text/plain": [
       "<sympy.plotting.plot.Plot at 0x7fc88c41f310>"
      ]
     },
     "execution_count": 43,
     "metadata": {},
     "output_type": "execute_result"
    }
   ],
   "source": [
    "plot(log(f))"
   ]
  },
  {
   "cell_type": "code",
   "execution_count": 54,
   "metadata": {},
   "outputs": [
    {
     "data": {
      "image/png": "[encoded data removed]",
      "text/latex": [
       "$\\displaystyle \\log{\\left(1 - \\frac{1}{x} \\right)}$"
      ],
      "text/plain": [
       "   ⎛    1⎞\n",
       "log⎜1 - ─⎟\n",
       "   ⎝    x⎠"
      ]
     },
     "metadata": {},
     "output_type": "display_data"
    },
    {
     "data": {
      "image/png": "[encoded data removed]",
      "text/latex": [
       "$\\displaystyle \\frac{1}{x^{2} \\left(1 - \\frac{1}{x}\\right)}$"
      ],
      "text/plain": [
       "    1     \n",
       "──────────\n",
       " 2 ⎛    1⎞\n",
       "x ⋅⎜1 - ─⎟\n",
       "   ⎝    x⎠"
      ]
     },
     "metadata": {},
     "output_type": "display_data"
    },
    {
     "data": {
      "image/png": "[encoded data removed]",
      "text/latex": [
       "$\\displaystyle - \\frac{2 + \\frac{1}{x \\left(1 - \\frac{1}{x}\\right)}}{x^{3} \\left(1 - \\frac{1}{x}\\right)}$"
      ],
      "text/plain": [
       " ⎛        1    ⎞ \n",
       "-⎜2 + ─────────⎟ \n",
       " ⎜      ⎛    1⎞⎟ \n",
       " ⎜    x⋅⎜1 - ─⎟⎟ \n",
       " ⎝      ⎝    x⎠⎠ \n",
       "─────────────────\n",
       "     3 ⎛    1⎞   \n",
       "    x ⋅⎜1 - ─⎟   \n",
       "       ⎝    x⎠   "
      ]
     },
     "metadata": {},
     "output_type": "display_data"
    },
    {
     "data": {
      "image/png": "[encoded data removed]",
      "text/latex": [
       "$\\displaystyle \\frac{2 \\left(3 + \\frac{3}{x \\left(1 - \\frac{1}{x}\\right)} + \\frac{1}{x^{2} \\left(1 - \\frac{1}{x}\\right)^{2}}\\right)}{x^{4} \\left(1 - \\frac{1}{x}\\right)}$"
      ],
      "text/plain": [
       "  ⎛        3            1     ⎞\n",
       "2⋅⎜3 + ───────── + ───────────⎟\n",
       "  ⎜      ⎛    1⎞             2⎟\n",
       "  ⎜    x⋅⎜1 - ─⎟    2 ⎛    1⎞ ⎟\n",
       "  ⎜      ⎝    x⎠   x ⋅⎜1 - ─⎟ ⎟\n",
       "  ⎝                   ⎝    x⎠ ⎠\n",
       "───────────────────────────────\n",
       "            4 ⎛    1⎞          \n",
       "           x ⋅⎜1 - ─⎟          \n",
       "              ⎝    x⎠          "
      ]
     },
     "metadata": {},
     "output_type": "display_data"
    },
    {
     "data": {
      "image/png": "[encoded data removed]",
      "text/latex": [
       "$\\displaystyle - \\frac{6 \\left(4 + \\frac{6}{x \\left(1 - \\frac{1}{x}\\right)} + \\frac{4}{x^{2} \\left(1 - \\frac{1}{x}\\right)^{2}} + \\frac{1}{x^{3} \\left(1 - \\frac{1}{x}\\right)^{3}}\\right)}{x^{5} \\left(1 - \\frac{1}{x}\\right)}$"
      ],
      "text/plain": [
       "   ⎛        6            4             1     ⎞ \n",
       "-6⋅⎜4 + ───────── + ─────────── + ───────────⎟ \n",
       "   ⎜      ⎛    1⎞             2             3⎟ \n",
       "   ⎜    x⋅⎜1 - ─⎟    2 ⎛    1⎞     3 ⎛    1⎞ ⎟ \n",
       "   ⎜      ⎝    x⎠   x ⋅⎜1 - ─⎟    x ⋅⎜1 - ─⎟ ⎟ \n",
       "   ⎝                   ⎝    x⎠       ⎝    x⎠ ⎠ \n",
       "───────────────────────────────────────────────\n",
       "                    5 ⎛    1⎞                  \n",
       "                   x ⋅⎜1 - ─⎟                  \n",
       "                      ⎝    x⎠                  "
      ]
     },
     "metadata": {},
     "output_type": "display_data"
    }
   ],
   "source": [
    "#plot(log(f).diff(x))\n",
    "for i in range(5):\n",
    "    display(log(f).diff(x,i))"
   ]
  },
  {
   "cell_type": "code",
   "execution_count": 58,
   "metadata": {},
   "outputs": [
    {
     "data": {
      "image/png": "[encoded data removed]",
      "text/latex": [
       "$\\displaystyle x \\log{\\left(1 - \\frac{1}{x} \\right)} - \\log{\\left(x - 1 \\right)}$"
      ],
      "text/plain": [
       "     ⎛    1⎞             \n",
       "x⋅log⎜1 - ─⎟ - log(x - 1)\n",
       "     ⎝    x⎠             "
      ]
     },
     "execution_count": 58,
     "metadata": {},
     "output_type": "execute_result"
    }
   ],
   "source": [
    "integrate(log(f),x)"
   ]
  },
  {
   "cell_type": "code",
   "execution_count": 20,
   "metadata": {},
   "outputs": [],
   "source": [
    "from sympy import solve"
   ]
  },
  {
   "cell_type": "code",
   "execution_count": 21,
   "metadata": {},
   "outputs": [
    {
     "name": "stdout",
     "output_type": "stream",
     "text": [
      "{m2, m1, ma}\n"
     ]
    }
   ],
   "source": [
    "_x,_m1,_m2, ma = symbols('x,m1,m2,ma')\n",
    "_funcion = _x**2 - ((ma**2 -_m1**2 + _m2**2)/ma**2)*_x + (_m2**2)/ma**2\n",
    "_sols = solve(_funcion,_x)\n",
    "\n",
    "from sympy import Symbol\n",
    "print(_sols[0].atoms(Symbol))\n",
    "def xk(i,M1,M2,mh=ma):\n",
    "    if i in [1,2]:\n",
    "        return _sols[i-1].evalf(subs={_m1:M1,_m2:M2,ma:mh})\n",
    "    else:\n",
    "        return 'i = a 1 o 2'"
   ]
  },
  {
   "cell_type": "code",
   "execution_count": 23,
   "metadata": {},
   "outputs": [
    {
     "data": {
      "image/png": "[encoded data removed]",
      "text/latex": [
       "$\\displaystyle 0.000256016389244827$"
      ],
      "text/plain": [
       "0.000256016389244827"
      ]
     },
     "execution_count": 23,
     "metadata": {},
     "output_type": "execute_result"
    }
   ],
   "source": [
    "xk(1,1,2,125)"
   ]
  },
  {
   "cell_type": "code",
   "execution_count": null,
   "metadata": {},
   "outputs": [],
   "source": []
  }
 ],
 "metadata": {
  "kernelspec": {
   "display_name": "Python 3",
   "language": "python",
   "name": "python3"
  },
  "language_info": {
   "codemirror_mode": {
    "name": "ipython",
    "version": 3
   },
   "file_extension": ".py",
   "mimetype": "text/x-python",
   "name": "python",
   "nbconvert_exporter": "python",
   "pygments_lexer": "ipython3",
   "version": "3.7.6"
  }
 },
 "nbformat": 4,
 "nbformat_minor": 4
}
