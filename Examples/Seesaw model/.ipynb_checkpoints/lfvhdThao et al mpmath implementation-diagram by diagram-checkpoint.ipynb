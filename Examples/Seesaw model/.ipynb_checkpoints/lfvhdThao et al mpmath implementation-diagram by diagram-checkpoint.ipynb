{
 "cells": [
  {
   "cell_type": "markdown",
   "metadata": {},
   "source": [
    "# LFV Higgs decays in SeeSaw model ( Thao et al results) First numeric results no compatibles con seesaw new discussions."
   ]
  },
  {
   "cell_type": "markdown",
   "metadata": {},
   "source": [
    "## In this notebook we use the mpmath implementations of PaVe functions"
   ]
  },
  {
   "cell_type": "code",
   "execution_count": 1,
   "metadata": {},
   "outputs": [
    {
     "name": "stdout",
     "output_type": "stream",
     "text": [
      "{m2, m_a, m1}\n"
     ]
    }
   ],
   "source": [
    "from sympy import init_printing, Symbol,lambdify, log, symbols, IndexedBase, conjugate, sqrt, pi,Add\n",
    "init_printing()\n",
    "import OneLoopLFVHD as lfvhd"
   ]
  },
  {
   "cell_type": "code",
   "execution_count": 62,
   "metadata": {},
   "outputs": [],
   "source": [
    "from seesaw_FF import TrianglesOneFermion, TrianglesTwoFermion, Bubbles\n",
    "from seesaw_FF import g, mW, Uν, Uνc, mn, m, C, Cc, a,b,i,j,h\n",
    "from seesaw_FF import j as jj"
   ]
  },
  {
   "cell_type": "code",
   "execution_count": 3,
   "metadata": {},
   "outputs": [],
   "source": [
    "import matplotlib.pyplot as plt\n",
    "%matplotlib inline"
   ]
  },
  {
   "cell_type": "code",
   "execution_count": 4,
   "metadata": {},
   "outputs": [],
   "source": [
    "from mpmath import *"
   ]
  },
  {
   "cell_type": "code",
   "execution_count": 5,
   "metadata": {},
   "outputs": [],
   "source": [
    "mp.dps = 80; mp.pretty = True"
   ]
  },
  {
   "cell_type": "markdown",
   "metadata": {},
   "source": [
    "## Numeric implementation of form factors"
   ]
  },
  {
   "cell_type": "markdown",
   "metadata": {},
   "source": [
    "**Neutrino benchmark** is given by "
   ]
  },
  {
   "cell_type": "code",
   "execution_count": 6,
   "metadata": {},
   "outputs": [],
   "source": [
    "from OneLoopLFVHD.neutrinos import NuOscObservables\n",
    "Nudata = NuOscObservables"
   ]
  },
  {
   "cell_type": "code",
   "execution_count": 7,
   "metadata": {},
   "outputs": [],
   "source": [
    "import numpy as np\n",
    "np.seterr(all='ignore')\n",
    "m1 = 1e-12  #GeV #symbols('m_{n_1}',positive=True) + 0*1j\n",
    "\n",
    "d21 = Nudata.squareDm21.central*1e-18# este último factor convierte eV^2 a GeV^2\n",
    "d31 = Nudata.squareDm31.central*1e-18\n",
    "\n",
    "#d21 = 7.5e-5*1e-18\n",
    "#d31 = 2.457e-3*1e-18\n",
    "m2 = np.sqrt(m1**2 + d21)\n",
    "m3 = np.sqrt(m1**2 + d31)\n",
    "\n",
    "m4 = lambda m6: m6/3\n",
    "m5 = lambda m6: m6/2"
   ]
  },
  {
   "cell_type": "markdown",
   "metadata": {},
   "source": [
    "### Form factor with one fermion in the loop."
   ]
  },
  {
   "cell_type": "markdown",
   "metadata": {},
   "source": [
    "#### AL one fermion "
   ]
  },
  {
   "cell_type": "code",
   "execution_count": 8,
   "metadata": {},
   "outputs": [],
   "source": [
    "Ubi, Ucai,mni = symbols('U_{bi}, {{U_{ai}^*}},m_{n_i}')"
   ]
  },
  {
   "cell_type": "code",
   "execution_count": 9,
   "metadata": {},
   "outputs": [],
   "source": [
    "from OneLoopLFVHD.data import ml"
   ]
  },
  {
   "cell_type": "code",
   "execution_count": 10,
   "metadata": {},
   "outputs": [],
   "source": [
    "mh,ma,mb = symbols('m_h,m_a,m_b',real=True)\n",
    "valores ={mW:80.379,mh:125.10,g:(2*80.379)/(246)}\n",
    "\n",
    "cambios_hab = lambda a,b:{lfvhd.ma:valores[mh],lfvhd.mi:ml[a],lfvhd.mj:ml[b]}"
   ]
  },
  {
   "cell_type": "code",
   "execution_count": 11,
   "metadata": {},
   "outputs": [],
   "source": [
    "UnuOne = {mn[i]:mni,Uν[b,i]:Ubi,Uνc[a,i]:Ucai}\n",
    "def sumOneS(a,b):\n",
    "    ALOne = 0\n",
    "    AROne = 0\n",
    "    for diag in TrianglesOneFermion:\n",
    "        ALOne += diag.AL().subs(lfvhd.D,4).subs(\n",
    "            cambios_hab(a,b)).subs(valores).subs(UnuOne)\n",
    "        AROne += diag.AR().subs(lfvhd.D,4).subs(\n",
    "            cambios_hab(a,b)).subs(valores).subs(UnuOne)\n",
    "    for diag in Bubbles:\n",
    "        ALOne += diag.AL().subs(lfvhd.D,4).subs(\n",
    "            cambios_hab(a,b)).subs(valores).subs(UnuOne)\n",
    "        AROne += diag.AR().subs(lfvhd.D,4).subs(\n",
    "            cambios_hab(a,b)).subs(valores).subs(UnuOne)\n",
    "    return ALOne.simplify(),AROne.simplify()"
   ]
  },
  {
   "cell_type": "code",
   "execution_count": 12,
   "metadata": {},
   "outputs": [],
   "source": [
    "ALOne23,AROne23 = sumOneS(2,3)\n",
    "ALOne32,AROne32 = sumOneS(3,2)\n",
    "\n",
    "ALOne13,AROne13 = sumOneS(1,3)\n",
    "ALOne31,AROne31 = sumOneS(3,1)\n",
    "\n",
    "ALOne12,AROne12 = sumOneS(1,2)\n",
    "ALOne21,AROne21 = sumOneS(2,1)"
   ]
  },
  {
   "cell_type": "code",
   "execution_count": 82,
   "metadata": {},
   "outputs": [],
   "source": [
    "def GIM_One(exp):\n",
    "    from sympy import Add\n",
    "    args = exp.expand().args\n",
    "    func = exp.expand().func\n",
    "    if isinstance(func,Add):\n",
    "        X = Add(*[t for t in args if t.has(mni)]).simplify()\n",
    "    else:\n",
    "        X = exp\n",
    "    #X1 = X.collect([mni],evaluate=False)\n",
    "    return X#mni**2*X1[mni**2]"
   ]
  },
  {
   "cell_type": "code",
   "execution_count": 14,
   "metadata": {},
   "outputs": [],
   "source": [
    "ALOne23 = GIM_One(ALOne23)\n",
    "AROne23 = GIM_One(AROne23)\n",
    "ALOne32 = GIM_One(ALOne32)\n",
    "AROne32 = GIM_One(AROne32)\n",
    "\n",
    "\n",
    "ALOne13 = GIM_One(ALOne13)\n",
    "AROne13 = GIM_One(AROne13)\n",
    "ALOne31 = GIM_One(ALOne31)\n",
    "AROne31 = GIM_One(AROne31)\n",
    "\n",
    "ALOne12 = GIM_One(ALOne12)\n",
    "AROne12 = GIM_One(AROne12)\n",
    "ALOne21 = GIM_One(ALOne21)\n",
    "AROne21 = GIM_One(AROne21)"
   ]
  },
  {
   "cell_type": "code",
   "execution_count": 15,
   "metadata": {},
   "outputs": [],
   "source": [
    "from OneLoopLFVHD.data import replaceBs, pave_functions"
   ]
  },
  {
   "cell_type": "code",
   "execution_count": 16,
   "metadata": {},
   "outputs": [],
   "source": [
    "from Unu_seesaw import Unu, Cij, Unusym, Cijsym"
   ]
  },
  {
   "cell_type": "code",
   "execution_count": 17,
   "metadata": {},
   "outputs": [],
   "source": [
    "terms23 = ALOne23.expand().collect([mni],evaluate=False)\n",
    "terms23_1 = terms23[1]\n",
    "terms23_mni2 = mni**2*terms23[mni**2]"
   ]
  },
  {
   "cell_type": "code",
   "execution_count": 18,
   "metadata": {},
   "outputs": [
    {
     "data": {
      "image/png": "[encoded data removed]",
      "text/latex": [
       "$\\displaystyle - \\frac{0.148094841837482 U_{bi} {{U_{ai}^*}} \\operatorname{C_{1}}{\\left(m_{n_i},80.379,80.379 \\right)}}{\\pi^{2}} - \\frac{0.179365401150858 U_{bi} {{U_{ai}^*}} \\operatorname{C_{2}}{\\left(m_{n_i},80.379,80.379 \\right)}}{\\pi^{2}} + \\frac{1.15045401026826 \\cdot 10^{-5} U_{bi} {{U_{ai}^*}} \\operatorname{{{B^{(1)}_{1}}}}{\\left(m_{n_i},80.379 \\right)}}{\\pi^{2}} + \\frac{1.15045401026826 \\cdot 10^{-5} U_{bi} {{U_{ai}^*}} \\operatorname{{{B^{(2)}_{1}}}}{\\left(m_{n_i},80.379 \\right)}}{\\pi^{2}}$"
      ],
      "text/plain": [
       "  0.148094841837482⋅U_{bi}⋅{{U_{ai}__*}}⋅C₁(m_{n_i}, 80.379, 80.379)   0.17936\n",
       "- ────────────────────────────────────────────────────────────────── - ───────\n",
       "                                   2                                          \n",
       "                                  π                                           \n",
       "\n",
       "5401150858⋅U_{bi}⋅{{U_{ai}__*}}⋅C₂(m_{n_i}, 80.379, 80.379)   1.15045401026826\n",
       "─────────────────────────────────────────────────────────── + ────────────────\n",
       "                          2                                                   \n",
       "                         π                                                    \n",
       "\n",
       "e-5⋅U_{bi}⋅{{U_{ai}__*}}⋅{{B_{1}}}__{(1)}(m_{n_i}, 80.379)   1.15045401026826e\n",
       "────────────────────────────────────────────────────────── + ─────────────────\n",
       "                     2                                                        \n",
       "                    π                                                         \n",
       "\n",
       "-5⋅U_{bi}⋅{{U_{ai}__*}}⋅{{B_{1}}}__{(2)}(m_{n_i}, 80.379)\n",
       "─────────────────────────────────────────────────────────\n",
       "                    2                                    \n",
       "                   π                                     "
      ]
     },
     "execution_count": 18,
     "metadata": {},
     "output_type": "execute_result"
    }
   ],
   "source": [
    "terms23_1"
   ]
  },
  {
   "cell_type": "code",
   "execution_count": 19,
   "metadata": {},
   "outputs": [],
   "source": [
    "term23_1_mp = lambdify([mni,Ubi,Ucai],replaceBs(terms23_1),\n",
    "                       modules=[pave_functions(valores[mh],2,3,lib='mpmath'),'mpmath'] )"
   ]
  },
  {
   "cell_type": "code",
   "execution_count": 59,
   "metadata": {},
   "outputs": [
    {
     "name": "stdout",
     "output_type": "stream",
     "text": [
      "****************************************************************************************************\n",
      "1e-10\n",
      "0.00000027306515174917983291784312763251818661872987882634358377419427897534625820567149\n",
      "****************************************************************************************************\n",
      "5.99484250318941e-08\n",
      "0.00000027306515174917982858302587182805851014531441028719821017416403738494080133185692\n",
      "****************************************************************************************************\n",
      "3.5938136638046256e-05\n",
      "0.00000027306515174808652204662640526465934356850151478881240510524436853758414840301367\n",
      "****************************************************************************************************\n",
      "0.021544346900318777\n",
      "0.00000027306492578328595255261944563921352579639224226837638117710517976695473064146481\n",
      "****************************************************************************************************\n",
      "12.915496650148826\n",
      "0.00000025195339648199284290308617049489167209496642554949743175314917836203988714390375\n",
      "****************************************************************************************************\n",
      "7742.636826811277\n",
      "0.0000017011168582237582090105071918087641309745294976214251831982122305948679793767452\n",
      "****************************************************************************************************\n",
      "4641588.833612754\n",
      "0.0000041908431518983855571208952381540021985244212419888217814438543219487793882684493\n",
      "****************************************************************************************************\n",
      "2782559402.2071147\n",
      "0.0000066815517692791995860593773259556941145296876101665925303767056143537174496873617\n",
      "****************************************************************************************************\n",
      "1668100537200.0557\n",
      "0.0000091724452879980514045241491866529885350175592436056077787639621937707688583457895\n",
      "****************************************************************************************************\n",
      "1000000000000000.0\n",
      "0.000011663405243441295017710063420155261899966327406295881485032444744944483772623838\n"
     ]
    }
   ],
   "source": [
    "mnp = np.logspace(-10,15,10)\n",
    "for q in mnp:\n",
    "    print('*'*100)\n",
    "    print(q)\n",
    "    print(abs(term23_1_mp(q,0.2,0.3)))"
   ]
  },
  {
   "cell_type": "code",
   "execution_count": 21,
   "metadata": {},
   "outputs": [],
   "source": [
    "from sympy import Function"
   ]
  },
  {
   "cell_type": "code",
   "execution_count": 22,
   "metadata": {},
   "outputs": [],
   "source": [
    "terms23_1_list = terms23_1.args"
   ]
  },
  {
   "cell_type": "code",
   "execution_count": 23,
   "metadata": {},
   "outputs": [
    {
     "data": {
      "text/plain": [
       "(0.00000030836880761957264306098192923328630671467721522375013960368638282082088663864805 - 1.1059696080162456470383630938779719020614056722807135972142390194148807527104542e-88j)"
      ]
     },
     "execution_count": 23,
     "metadata": {},
     "output_type": "execute_result"
    }
   ],
   "source": [
    "term23_1_list_f = []\n",
    "for term in terms23_1_list:\n",
    "    f = lambdify([mni,Ubi,Ucai],replaceBs(term),modules=[\n",
    "    pave_functions(valores[mh],2,3,lib='mpmath'),'mpmath'] )\n",
    "    term23_1_list_f.append(f)\n",
    "term23_1_list_f[0](0.1,0.2,0.3)"
   ]
  },
  {
   "cell_type": "code",
   "execution_count": 24,
   "metadata": {},
   "outputs": [
    {
     "name": "stdout",
     "output_type": "stream",
     "text": [
      "****************************************************************************************************\n"
     ]
    },
    {
     "data": {
      "image/png": "[encoded data removed]",
      "text/latex": [
       "$\\displaystyle \\frac{1.15045401026826 \\cdot 10^{-5} U_{bi} {{U_{ai}^*}} \\operatorname{{{B^{(1)}_{1}}}}{\\left(m_{n_i},80.379 \\right)}}{\\pi^{2}}$"
      ],
      "text/plain": [
       "1.15045401026826e-5⋅U_{bi}⋅{{U_{ai}__*}}⋅{{B_{1}}}__{(1)}(m_{n_i}, 80.379)\n",
       "──────────────────────────────────────────────────────────────────────────\n",
       "                                     2                                    \n",
       "                                    π                                     "
      ]
     },
     "metadata": {},
     "output_type": "display_data"
    },
    {
     "name": "stdout",
     "output_type": "stream",
     "text": [
      "0.00000030836880761957264306098192923328630671467721522375013960368638282082088663864805\n",
      "****************************************************************************************************\n"
     ]
    },
    {
     "data": {
      "image/png": "[encoded data removed]",
      "text/latex": [
       "$\\displaystyle \\frac{1.15045401026826 \\cdot 10^{-5} U_{bi} {{U_{ai}^*}} \\operatorname{{{B^{(2)}_{1}}}}{\\left(m_{n_i},80.379 \\right)}}{\\pi^{2}}$"
      ],
      "text/plain": [
       "1.15045401026826e-5⋅U_{bi}⋅{{U_{ai}__*}}⋅{{B_{1}}}__{(2)}(m_{n_i}, 80.379)\n",
       "──────────────────────────────────────────────────────────────────────────\n",
       "                                     2                                    \n",
       "                                    π                                     "
      ]
     },
     "metadata": {},
     "output_type": "display_data"
    },
    {
     "name": "stdout",
     "output_type": "stream",
     "text": [
      "0.00000030836386745361443876071797541670238632387032856157163049772049480394748805543622\n",
      "****************************************************************************************************\n"
     ]
    },
    {
     "data": {
      "image/png": "[encoded data removed]",
      "text/latex": [
       "$\\displaystyle - \\frac{0.179365401150858 U_{bi} {{U_{ai}^*}} \\operatorname{C_{2}}{\\left(m_{n_i},80.379,80.379 \\right)}}{\\pi^{2}}$"
      ],
      "text/plain": [
       "-0.179365401150858⋅U_{bi}⋅{{U_{ai}__*}}⋅C₂(m_{n_i}, 80.379, 80.379) \n",
       "────────────────────────────────────────────────────────────────────\n",
       "                                  2                                 \n",
       "                                 π                                  "
      ]
     },
     "metadata": {},
     "output_type": "display_data"
    },
    {
     "name": "stdout",
     "output_type": "stream",
     "text": [
      "0.0000015662871265324173205347675267052960190015129614810108175584016665611197461628886\n",
      "****************************************************************************************************\n"
     ]
    },
    {
     "data": {
      "image/png": "[encoded data removed]",
      "text/latex": [
       "$\\displaystyle - \\frac{0.148094841837482 U_{bi} {{U_{ai}^*}} \\operatorname{C_{1}}{\\left(m_{n_i},80.379,80.379 \\right)}}{\\pi^{2}}$"
      ],
      "text/plain": [
       "-0.148094841837482⋅U_{bi}⋅{{U_{ai}__*}}⋅C₁(m_{n_i}, 80.379, 80.379) \n",
       "────────────────────────────────────────────────────────────────────\n",
       "                                  2                                 \n",
       "                                 π                                  "
      ]
     },
     "metadata": {},
     "output_type": "display_data"
    },
    {
     "name": "stdout",
     "output_type": "stream",
     "text": [
      "0.0000012932242239274958174650401630346344757367319664888045079018950135672434073131011\n"
     ]
    }
   ],
   "source": [
    "for q in range(len(term23_1_list_f)):\n",
    "    print('*'*100)\n",
    "    display(terms23_1_list[q])\n",
    "    print(abs(term23_1_list_f[q](0.1,0.2,0.3)))"
   ]
  },
  {
   "cell_type": "code",
   "execution_count": 25,
   "metadata": {},
   "outputs": [
    {
     "name": "stdout",
     "output_type": "stream",
     "text": [
      "****************************************************************************************************\n"
     ]
    },
    {
     "data": {
      "image/png": "[encoded data removed]",
      "text/latex": [
       "$\\displaystyle \\frac{1.15045401026826 \\cdot 10^{-5} U_{bi} {{U_{ai}^*}} \\operatorname{{{B^{(1)}_{1}}}}{\\left(m_{n_i},80.379 \\right)}}{\\pi^{2}}$"
      ],
      "text/plain": [
       "1.15045401026826e-5⋅U_{bi}⋅{{U_{ai}__*}}⋅{{B_{1}}}__{(1)}(m_{n_i}, 80.379)\n",
       "──────────────────────────────────────────────────────────────────────────\n",
       "                                     2                                    \n",
       "                                    π                                     "
      ]
     },
     "metadata": {},
     "output_type": "display_data"
    },
    {
     "name": "stdout",
     "output_type": "stream",
     "text": [
      "****************************************************************************************************\n"
     ]
    },
    {
     "data": {
      "image/png": "[encoded data removed]",
      "text/latex": [
       "$\\displaystyle \\frac{1.15045401026826 \\cdot 10^{-5} U_{bi} {{U_{ai}^*}} \\operatorname{{{B^{(2)}_{1}}}}{\\left(m_{n_i},80.379 \\right)}}{\\pi^{2}}$"
      ],
      "text/plain": [
       "1.15045401026826e-5⋅U_{bi}⋅{{U_{ai}__*}}⋅{{B_{1}}}__{(2)}(m_{n_i}, 80.379)\n",
       "──────────────────────────────────────────────────────────────────────────\n",
       "                                     2                                    \n",
       "                                    π                                     "
      ]
     },
     "metadata": {},
     "output_type": "display_data"
    },
    {
     "name": "stdout",
     "output_type": "stream",
     "text": [
      "****************************************************************************************************\n"
     ]
    },
    {
     "data": {
      "image/png": "[encoded data removed]",
      "text/latex": [
       "$\\displaystyle - \\frac{0.179365401150858 U_{bi} {{U_{ai}^*}} \\operatorname{C_{2}}{\\left(m_{n_i},80.379,80.379 \\right)}}{\\pi^{2}}$"
      ],
      "text/plain": [
       "-0.179365401150858⋅U_{bi}⋅{{U_{ai}__*}}⋅C₂(m_{n_i}, 80.379, 80.379) \n",
       "────────────────────────────────────────────────────────────────────\n",
       "                                  2                                 \n",
       "                                 π                                  "
      ]
     },
     "metadata": {},
     "output_type": "display_data"
    },
    {
     "name": "stdout",
     "output_type": "stream",
     "text": [
      "****************************************************************************************************\n"
     ]
    },
    {
     "data": {
      "image/png": "[encoded data removed]",
      "text/latex": [
       "$\\displaystyle - \\frac{0.148094841837482 U_{bi} {{U_{ai}^*}} \\operatorname{C_{1}}{\\left(m_{n_i},80.379,80.379 \\right)}}{\\pi^{2}}$"
      ],
      "text/plain": [
       "-0.148094841837482⋅U_{bi}⋅{{U_{ai}__*}}⋅C₁(m_{n_i}, 80.379, 80.379) \n",
       "────────────────────────────────────────────────────────────────────\n",
       "                                  2                                 \n",
       "                                 π                                  "
      ]
     },
     "metadata": {},
     "output_type": "display_data"
    }
   ],
   "source": [
    "mnp = np.logspace(-2,4,200)\n",
    "Ys = []\n",
    "for q in range(len(term23_1_list_f)):\n",
    "    print('*'*100)\n",
    "    display(terms23_1_list[q])\n",
    "    Ys.append(np.array([abs(term23_1_list_f[q](m,0.2,0.3)) for m in mnp]))\n",
    "#print(Ys)"
   ]
  },
  {
   "cell_type": "code",
   "execution_count": 26,
   "metadata": {},
   "outputs": [],
   "source": [
    "from sympy import latex"
   ]
  },
  {
   "cell_type": "code",
   "execution_count": 27,
   "metadata": {},
   "outputs": [
    {
     "data": {
      "text/plain": [
       "<matplotlib.legend.Legend at 0x7fce04c9cf90>"
      ]
     },
     "execution_count": 27,
     "metadata": {},
     "output_type": "execute_result"
    },
    {
     "data": {
      "image/png": "[encoded data removed]",
      "text/plain": [
       "<Figure size 1152x576 with 1 Axes>"
      ]
     },
     "metadata": {
      "needs_background": "light"
     },
     "output_type": "display_data"
    }
   ],
   "source": [
    "plt.figure(figsize=(16,8))\n",
    "for q in range(len(Ys)):\n",
    "    plt.loglog(mnp,Ys[q],label=fr'${latex(list(terms23_1_list[q].atoms(Function))[0])}$')\n",
    "ytot = 0\n",
    "for y in Ys:\n",
    "    ytot +=y\n",
    "plt.loglog(mnp,ytot,label='term23_1')\n",
    "plt.vlines(80.379,1e-7,1e-4,colors='b')\n",
    "plt.xticks(fontsize=16)\n",
    "plt.yticks(fontsize=16)\n",
    "plt.xlim(1e-2,1e4)\n",
    "plt.legend()"
   ]
  },
  {
   "cell_type": "code",
   "execution_count": 28,
   "metadata": {},
   "outputs": [],
   "source": [
    "# a = 2, b = 3\n",
    "ALOnenp23 = lambdify([mni,Ubi,Ucai],replaceBs(ALOne23.collect([mni])),modules=[\n",
    "    pave_functions(valores[mh],2,3,lib='mpmath'),'mpmath'] )\n",
    "AROnenp23 = lambdify([mni,Ubi,Ucai],replaceBs(AROne23.collect([mni])),modules=[\n",
    "    pave_functions(valores[mh],2,3,lib='mpmath'),'mpmath'] )\n",
    "\n",
    "# a = 3, b = 2\n",
    "ALOnenp32 = lambdify([mni,Ubi,Ucai],replaceBs(ALOne32.collect([mni])),modules=[\n",
    "    pave_functions(valores[mh],3,2,lib='mpmath'),'mpmath'] )\n",
    "AROnenp32 = lambdify([mni,Ubi,Ucai],replaceBs(AROne32.collect([mni])),modules=[\n",
    "    pave_functions(valores[mh],3,2,lib='mpmath'),'mpmath'] )\n",
    "\n",
    "# a = 1, b = 3\n",
    "ALOnenp13 = lambdify([mni,Ubi,Ucai],replaceBs(ALOne13.collect([mni])),modules=[\n",
    "    pave_functions(valores[mh],1,3,lib='mpmath'),'mpmath'] )\n",
    "AROnenp13 = lambdify([mni,Ubi,Ucai],replaceBs(AROne13.collect([mni])),modules=[\n",
    "    pave_functions(valores[mh],1,3,lib='mpmath'),'mpmath'] )\n",
    "\n",
    "# a = 3, b = 1\n",
    "ALOnenp31 = lambdify([mni,Ubi,Ucai],replaceBs(ALOne31.collect([mni])),modules=[\n",
    "    pave_functions(valores[mh],3,1,lib='mpmath'),'mpmath'] )\n",
    "AROnenp31 = lambdify([mni,Ubi,Ucai],replaceBs(AROne31.collect([mni])),modules=[\n",
    "    pave_functions(valores[mh],3,1,lib='mpmath'),'mpmath'] )\n",
    "\n",
    "# a = 1, b = 2\n",
    "ALOnenp12 = lambdify([mni,Ubi,Ucai],replaceBs(ALOne12.collect([mni])),modules=[\n",
    "    pave_functions(valores[mh],1,2,lib='mpmath'),'mpmath'] )\n",
    "AROnenp12 = lambdify([mni,Ubi,Ucai],replaceBs(AROne12.collect([mni])),modules=[\n",
    "    pave_functions(valores[mh],1,2,lib='mpmath'),'mpmath'] )\n",
    "\n",
    "# a = 2, b = 1\n",
    "ALOnenp21 = lambdify([mni,Ubi,Ucai],replaceBs(ALOne21.collect([mni])),modules=[\n",
    "    pave_functions(valores[mh],2,1,lib='mpmath'),'mpmath'] )\n",
    "AROnenp21 = lambdify([mni,Ubi,Ucai],replaceBs(AROne21.collect([mni])),modules=[\n",
    "    pave_functions(valores[mh],2,1,lib='mpmath'),'mpmath'] )"
   ]
  },
  {
   "cell_type": "code",
   "execution_count": 29,
   "metadata": {},
   "outputs": [],
   "source": [
    "#ALOnenp23(1e-10,2.0,3.0),ALOnenp32(1e-10,2.0,3.0)"
   ]
  },
  {
   "cell_type": "code",
   "execution_count": 30,
   "metadata": {},
   "outputs": [],
   "source": [
    "from numba import jit,njit"
   ]
  },
  {
   "cell_type": "code",
   "execution_count": 31,
   "metadata": {},
   "outputs": [],
   "source": [
    "@jit(cache=True)\n",
    "def sumOneL(m6,ALab,a,b): \n",
    "    m1 = 1e-12  \n",
    "    #d21 = Nudata.squareDm21.central*1e-18# este último factor convierte eV^2 a GeV^2\n",
    "    #d31 = Nudata.squareDm31.central*1e-18\n",
    "\n",
    "    d21 = 7.5e-5*1e-18\n",
    "    d31 = 2.457e-3*1e-18\n",
    "    m2 = np.sqrt(m1**2 + d21)\n",
    "    m3 = np.sqrt(m1**2 + d31)\n",
    "    mnk = (m1,m2,m3,m6/3,m6/2,m6)\n",
    "    AL = 0 \n",
    "    for i in range(1,7):\n",
    "        AL += ALab(mnk[i-1],Unu(mnk[0],mnk[-1],b,i),np.conjugate(Unu(mnk[0],mnk[-1],a,i)))\n",
    "        #AL += L#np.nan_to_num(L)\n",
    "    return AL\n",
    "\n",
    "@jit(cache=True)\n",
    "def sumOneR(m6,ARab,a,b):\n",
    "    m1 = 1e-12  \n",
    "    #d21 = Nudata.squareDm21.central*1e-18# este último factor convierte eV^2 a GeV^2\n",
    "    #d31 = Nudata.squareDm31.central*1e-18\n",
    "\n",
    "    d21 = 7.5e-5*1e-18\n",
    "    d31 = 2.457e-3*1e-18\n",
    "    m2 = np.sqrt(m1**2 + d21)\n",
    "    m3 = np.sqrt(m1**2 + d31)\n",
    "    mnk = (m1,m2,m3,m6/3,m6/2,m6)\n",
    "    AR = 0  \n",
    "    mnk = (m1,m2,m3,m6/3,m6/2,m6)\n",
    "    for i in range(1,7):\n",
    "        AR += ARab(mnk[i-1],Unu(mnk[0],mnk[-1],b,i),np.conjugate(Unu(mnk[0],mnk[-1],a,i)))\n",
    "        #AR += R#np.nan_to_num(R)\n",
    "    return AR"
   ]
  },
  {
   "cell_type": "code",
   "execution_count": 111,
   "metadata": {},
   "outputs": [],
   "source": [
    "def numeric_sum_diagrams(a,b,quirality='L'):\n",
    "    FdiagOneFer = []\n",
    "    for Set in [TrianglesOneFermion,Bubbles]:\n",
    "        for dia in Set:\n",
    "            if quirality=='L':\n",
    "                x = GIM_One(dia.AL().subs(lfvhd.D,4).subs(cambios_hab(a,b)).subs(valores).subs(UnuOne))\n",
    "            elif quirality=='R':\n",
    "                x = GIM_One(dia.AL().subs(lfvhd.D,4).subs(cambios_hab(a,b)).subs(valores).subs(UnuOne))\n",
    "            else:\n",
    "                raise ValueError('quirality must be L or R')\n",
    "            f = lambdify([mni,Ubi,Ucai],replaceBs(x),\n",
    "                         modules=[pave_functions(valores[mh],a,b,lib='mpmath'),'mpmath'])\n",
    "            fsum = lambda m6:sumOneL(m6,f,a,b)\n",
    "            FdiagOneFer.append(fsum)\n",
    "    return lambda m6: sum(f(m6) for f in FdiagOneFer)"
   ]
  },
  {
   "cell_type": "code",
   "execution_count": 112,
   "metadata": {},
   "outputs": [],
   "source": [
    "ALOneTot23_det = numeric_sum_diagrams(2,3,quirality='L')"
   ]
  },
  {
   "cell_type": "code",
   "execution_count": 106,
   "metadata": {},
   "outputs": [
    {
     "data": {
      "text/plain": [
       "(0.0000000000010929720325605828832554929378796725196323234169003517585202586556113795475390386 - 1.2758430510550454638088246233708578802875078813455878770192497854422581308537484e-93j)"
      ]
     },
     "execution_count": 106,
     "metadata": {},
     "output_type": "execute_result"
    }
   ],
   "source": [
    "ALOneTot23_det(1)"
   ]
  },
  {
   "cell_type": "code",
   "execution_count": 32,
   "metadata": {},
   "outputs": [],
   "source": [
    "#%%time\n",
    "#sumOneL(1,ALOnenp23,2,3)"
   ]
  },
  {
   "cell_type": "code",
   "execution_count": 89,
   "metadata": {},
   "outputs": [
    {
     "data": {
      "text/plain": [
       "(0.00000083555195405617654636829422055778866409359636478744733256768408246734449012539494 - 0.0000021964954493235184799574609982921228631706375359549323459340421078010160720804478j)"
      ]
     },
     "execution_count": 89,
     "metadata": {},
     "output_type": "execute_result"
    }
   ],
   "source": [
    "sumOneL(1.0,ALOnenp23,2,3)\n",
    "sumOneR(1.0,AROnenp23,2,3)"
   ]
  },
  {
   "cell_type": "code",
   "execution_count": 34,
   "metadata": {},
   "outputs": [],
   "source": [
    "#sumOneL.inspect_types()"
   ]
  },
  {
   "cell_type": "code",
   "execution_count": 35,
   "metadata": {},
   "outputs": [],
   "source": [
    "#for k, v in sumOneL.inspect_llvm().items():\n",
    "#    print(k,v)"
   ]
  },
  {
   "cell_type": "code",
   "execution_count": 36,
   "metadata": {},
   "outputs": [],
   "source": [
    "# a = 2, b = 3\n",
    "ALOneTot23 = lambda m6:sumOneL(m6,ALOnenp23,2,3)\n",
    "AROneTot23 = lambda m6:sumOneR(m6,AROnenp23,2,3)\n",
    "\n",
    "\n",
    "# a = 3, b = 2\n",
    "ALOneTot32 = lambda m6:sumOneL(m6,ALOnenp32,3,2)\n",
    "AROneTot32 = lambda m6:sumOneR(m6,AROnenp32,3,2)\n",
    "\n",
    "# a = 1, b = 3\n",
    "ALOneTot13 = lambda m6:sumOneL(m6,ALOnenp13,1,3)\n",
    "AROneTot13 = lambda m6:sumOneR(m6,AROnenp13,1,3)\n",
    "\n",
    "# a = 3, b = 1\n",
    "ALOneTot31 = lambda m6:sumOneL(m6,ALOnenp31,3,1)\n",
    "AROneTot31 = lambda m6:sumOneR(m6,AROnenp31,3,1)\n",
    "\n",
    "# a = 1, b = 2\n",
    "ALOneTot12 = lambda m6:sumOneL(m6,ALOnenp12,1,2)\n",
    "AROneTot12 = lambda m6:sumOneR(m6,AROnenp12,1,2)\n",
    "\n",
    "# a = 2, b = 1\n",
    "ALOneTot21 = lambda m6:sumOneL(m6,ALOnenp21,2,1)\n",
    "AROneTot21 = lambda m6:sumOneR(m6,AROnenp21,2,1)"
   ]
  },
  {
   "cell_type": "code",
   "execution_count": null,
   "metadata": {},
   "outputs": [],
   "source": []
  },
  {
   "cell_type": "code",
   "execution_count": 37,
   "metadata": {},
   "outputs": [],
   "source": [
    "#a = %timeit -qo ALOneTot23(10)"
   ]
  },
  {
   "cell_type": "code",
   "execution_count": 103,
   "metadata": {},
   "outputs": [
    {
     "data": {
      "text/plain": [
       "(0.00000014002846365841230181772455909318449729775476672848482015518263061700361111718446,\n",
       " 0.0000000000010929720325605828832554929378796725196323234169003517585202586556113795475390386)"
      ]
     },
     "execution_count": 103,
     "metadata": {},
     "output_type": "execute_result"
    }
   ],
   "source": [
    "abs(ALOneTot23(1)),abs(ALOneTot23_det(1))"
   ]
  },
  {
   "cell_type": "code",
   "execution_count": 113,
   "metadata": {},
   "outputs": [],
   "source": [
    "#a = 2, b = 3\n",
    "ALOneTot23_det = numeric_sum_diagrams(2,3,quirality='L')\n",
    "AROneTot23_det = numeric_sum_diagrams(2,3,quirality='R')\n",
    "\n",
    "#a = 3, b = 2\n",
    "ALOneTot32_det = numeric_sum_diagrams(3,2,quirality='L')\n",
    "AROneTot32_det = numeric_sum_diagrams(3,2,quirality='R')\n",
    "\n",
    "#a = 1, b = 3\n",
    "ALOneTot13_det = numeric_sum_diagrams(1,3,quirality='L')\n",
    "AROneTot13_det = numeric_sum_diagrams(1,3,quirality='R')\n",
    "\n",
    "#a = 3, b = 1\n",
    "ALOneTot31_det = numeric_sum_diagrams(3,1,quirality='L')\n",
    "AROneTot31_det = numeric_sum_diagrams(3,1,quirality='R')\n",
    "\n",
    "#a = 1, b = 2\n",
    "ALOneTot12_det = numeric_sum_diagrams(1,2,quirality='L')\n",
    "AROneTot12_det = numeric_sum_diagrams(1,2,quirality='R')\n",
    "\n",
    "#a = 2, b = 1\n",
    "ALOneTot21_det = numeric_sum_diagrams(2,1,quirality='L')\n",
    "AROneTot21_det = numeric_sum_diagrams(2,1,quirality='R')"
   ]
  },
  {
   "cell_type": "code",
   "execution_count": 114,
   "metadata": {},
   "outputs": [],
   "source": [
    "n = 100\n",
    "m6np = np.logspace(-10,15,n)\n",
    "\n",
    "\n",
    "YLOne23 = np.array([np.abs(ALOneTot23(m6)) for m6 in m6np])\n",
    "YLOne32 = np.array([np.abs(AROneTot32(m6))for m6 in m6np])\n",
    "\n",
    "YLOne13 = np.array([np.abs(ALOneTot13(m6))for m6 in m6np])\n",
    "YLOne31 = np.array([np.abs(AROneTot31(m6))for m6 in m6np])\n",
    "\n",
    "YLOne12 = np.array([np.abs(ALOneTot12(m6))for m6 in m6np])\n",
    "YLOne21 = np.array([np.abs(AROneTot21(m6))for m6 in m6np])"
   ]
  },
  {
   "cell_type": "code",
   "execution_count": 115,
   "metadata": {},
   "outputs": [
    {
     "data": {
      "text/plain": [
       "<matplotlib.legend.Legend at 0x7fce03080310>"
      ]
     },
     "execution_count": 115,
     "metadata": {},
     "output_type": "execute_result"
    },
    {
     "data": {
      "image/png": "[encoded data removed]",
      "text/plain": [
       "<Figure size 1080x576 with 1 Axes>"
      ]
     },
     "metadata": {
      "needs_background": "light"
     },
     "output_type": "display_data"
    }
   ],
   "source": [
    "plt.figure(figsize=(15,8))\n",
    "plt.loglog(np.real(m6np),YLOne23,'-.',label='$A_L^{(1)}(2,3)$')\n",
    "plt.loglog(np.real(m6np),YLOne32,'--',label='$A_L^{(1)}(3,2)$')\n",
    "\n",
    "plt.loglog(np.real(m6np),YLOne13,'-.',label='$A_L^{(1)}(1,3)$')\n",
    "plt.loglog(np.real(m6np),YLOne31,'--',label='$A_L^{(1)}(3,1)$')\n",
    "\n",
    "plt.loglog(np.real(m6np),YLOne12,'-.',label='$A_L^{(1)}(1,2)$')\n",
    "plt.loglog(np.real(m6np),YLOne21,'--',label='$A_L^{(1)}(2,1)$')\n",
    "plt.legend()"
   ]
  },
  {
   "cell_type": "code",
   "execution_count": 116,
   "metadata": {},
   "outputs": [],
   "source": [
    "YLOne23_det = np.array([np.abs(ALOneTot23_det(m6)) for m6 in m6np])\n",
    "YLOne32_det = np.array([np.abs(AROneTot32_det(m6))for m6 in m6np])\n",
    "\n",
    "YLOne13_det = np.array([np.abs(ALOneTot13_det(m6))for m6 in m6np])\n",
    "YLOne31_det = np.array([np.abs(AROneTot31_det(m6))for m6 in m6np])\n",
    "\n",
    "YLOne12_det = np.array([np.abs(ALOneTot12_det(m6))for m6 in m6np])\n",
    "YLOne21_det = np.array([np.abs(AROneTot21_det(m6))for m6 in m6np])"
   ]
  },
  {
   "cell_type": "code",
   "execution_count": 117,
   "metadata": {},
   "outputs": [
    {
     "data": {
      "text/plain": [
       "<matplotlib.legend.Legend at 0x7fce0349d650>"
      ]
     },
     "execution_count": 117,
     "metadata": {},
     "output_type": "execute_result"
    },
    {
     "data": {
      "image/png": "[encoded data removed]",
      "text/plain": [
       "<Figure size 1080x576 with 1 Axes>"
      ]
     },
     "metadata": {
      "needs_background": "light"
     },
     "output_type": "display_data"
    }
   ],
   "source": [
    "plt.figure(figsize=(15,8))\n",
    "plt.loglog(np.real(m6np),YLOne23_det,'-.',label='$A_L^{(1)}(2,3)$')\n",
    "plt.loglog(np.real(m6np),YLOne32_det,'--',label='$A_L^{(1)}(3,2)$')\n",
    "\n",
    "plt.loglog(np.real(m6np),YLOne13_det,'-.',label='$A_L^{(1)}(1,3)$')\n",
    "plt.loglog(np.real(m6np),YLOne31_det,'--',label='$A_L^{(1)}(3,1)$')\n",
    "\n",
    "plt.loglog(np.real(m6np),YLOne12_det,'-.',label='$A_L^{(1)}(1,2)$')\n",
    "plt.loglog(np.real(m6np),YLOne21_det,'--',label='$A_L^{(1)}(2,1)$')\n",
    "plt.legend()"
   ]
  },
  {
   "cell_type": "markdown",
   "metadata": {},
   "source": [
    "### Form factor with two fermion in the loop."
   ]
  },
  {
   "cell_type": "code",
   "execution_count": 41,
   "metadata": {},
   "outputs": [
    {
     "data": {
      "image/png": "[encoded data removed]",
      "text/latex": [
       "$\\displaystyle \\left\\{ {C}_{i,j} : C_{ij}, \\  {{{C^*}}}_{i,j} : {{C_{ij}^*}}, \\  {{{U^\\nu}}}_{b,j} : U_{bj}, \\  {{{U^{\\nu *}}}}_{a,i} : {{U_{ai}^*}}, \\  {{{m_n}}}_{i} : m_{n_i}, \\  {{{m_n}}}_{j} : m_{n_j}\\right\\}$"
      ],
      "text/plain": [
       "{C[i, j]: C_{ij}, {{C^*}}[i, j]: {{C_{ij}__*}}, {{U^\\nu}}[b, j]: U_{bj}, {{U^{\n",
       "\\nu *}}}[a, i]: {{U_{ai}__*}}, {{m_n}}[i]: m_{n_i}, {{m_n}}[j]: m_{n_j}}"
      ]
     },
     "execution_count": 41,
     "metadata": {},
     "output_type": "execute_result"
    }
   ],
   "source": [
    "mnj = symbols('m_{n_j}',positive=True)\n",
    "Cijs, Cijcs, Ubj = symbols('C_{ij}, {{C_{ij}^*}},U_{bj}')\n",
    "UnuTwo = {mn[i]:mni,mn[jj]:mnj,C[i,jj]:Cijs, Cc[i,jj]:Cijcs, Uν[b,jj]:Ubj, Uνc[a,i]:Ucai}\n",
    "UnuTwo"
   ]
  },
  {
   "cell_type": "code",
   "execution_count": 42,
   "metadata": {},
   "outputs": [],
   "source": [
    "def sumTwoS(a,b):\n",
    "    ALTwo = 0\n",
    "    ARTwo = 0\n",
    "    UnuTwo = {mn[i]:mni,mn[jj]:mnj,C[i,jj]:Cijs, Cc[i,jj]:Cijcs}\n",
    "    for diag in TrianglesTwoFermion:\n",
    "        ALTwo += diag.AL().subs(lfvhd.D,4).subs(\n",
    "            cambios_hab(a,b)).subs(valores).subs(UnuTwo)\n",
    "        ARTwo += diag.AR().subs(lfvhd.D,4).subs(\n",
    "            cambios_hab(a,b)).subs(valores).subs(UnuTwo)\n",
    "    return ALTwo.simplify(),ARTwo.simplify()"
   ]
  },
  {
   "cell_type": "code",
   "execution_count": 43,
   "metadata": {},
   "outputs": [],
   "source": [
    "ALTwo23,ARTwo23 = sumTwoS(2,3)\n",
    "ALTwo32,ARTwo32 = sumTwoS(3,2)\n",
    "\n",
    "ALTwo13,ARTwo13 = sumTwoS(1,3)\n",
    "ALTwo31,ARTwo31 = sumTwoS(3,1)\n",
    "\n",
    "ALTwo12,ARTwo12 = sumTwoS(1,2)\n",
    "ALTwo21,ARTwo21 = sumTwoS(2,1)"
   ]
  },
  {
   "cell_type": "code",
   "execution_count": null,
   "metadata": {},
   "outputs": [],
   "source": []
  },
  {
   "cell_type": "code",
   "execution_count": 44,
   "metadata": {},
   "outputs": [],
   "source": [
    "# a = 2, b = 3\n",
    "ALTwonp23 = lambdify([mni,mnj,Ubj,Ucai,Cijs,Cijcs],replaceBs(ALTwo23.collect([mni,mnj]).subs(\n",
    "    {Uν[b,jj]:Ubj, Uνc[a,i]:Ucai})),modules=[\n",
    "    pave_functions(valores[mh],2,3,lib='mpmath'),'mpmath'] )\n",
    "ARTwonp23 = lambdify([mni,mnj,Ubj,Ucai,Cijs,Cijcs],replaceBs(ARTwo23.collect([mni,mnj]).subs(\n",
    "    {Uν[b,jj]:Ubj, Uνc[a,i]:Ucai})),modules=[\n",
    "    pave_functions(valores[mh],2,3,lib='mpmath'),'mpmath'] )\n",
    "\n",
    "# a = 3, b = 2\n",
    "ALTwonp32 = lambdify([mni,mnj,Ubj,Ucai,Cijs,Cijcs],replaceBs(ALTwo32.collect([mni,mnj]).subs(\n",
    "    {Uν[b,jj]:Ubj, Uνc[a,i]:Ucai})),modules=[\n",
    "    pave_functions(valores[mh],3,2,lib='mpmath'),'mpmath'] )\n",
    "ARTwonp32 = lambdify([mni,mnj,Ubj,Ucai,Cijs,Cijcs],replaceBs(ARTwo32.collect([mni,mnj]).subs(\n",
    "    {Uν[b,jj]:Ubj, Uνc[a,i]:Ucai})),modules=[\n",
    "    pave_functions(valores[mh],3,2,lib='mpmath'),'mpmath'] )\n",
    "\n",
    "# a = 1, b = 3\n",
    "ALTwonp13 = lambdify([mni,mnj,Ubj,Ucai,Cijs,Cijcs],replaceBs(ALTwo13.collect([mni,mnj]).subs(\n",
    "    {Uν[b,jj]:Ubj, Uνc[a,i]:Ucai})),modules=[\n",
    "    pave_functions(valores[mh],1,3,lib='mpmath'),'mpmath'] )\n",
    "ARTwonp13 = lambdify([mni,mnj,Ubj,Ucai,Cijs,Cijcs],replaceBs(ARTwo13.collect([mni,mnj]).subs(\n",
    "    {Uν[b,jj]:Ubj, Uνc[a,i]:Ucai})),modules=[\n",
    "    pave_functions(valores[mh],1,3,lib='mpmath'),'mpmath'] )\n",
    "\n",
    "# a = 3, b = 1\n",
    "ALTwonp31 = lambdify([mni,mnj,Ubj,Ucai,Cijs,Cijcs],replaceBs(ALTwo31.collect([mni,mnj]).subs(\n",
    "    {Uν[b,jj]:Ubj, Uνc[a,i]:Ucai})),modules=[\n",
    "    pave_functions(valores[mh],3,1,lib='mpmath'),'mpmath'] )\n",
    "ARTwonp31 = lambdify([mni,mnj,Ubj,Ucai,Cijs,Cijcs],replaceBs(ARTwo31.collect([mni,mnj]).subs(\n",
    "    {Uν[b,jj]:Ubj, Uνc[a,i]:Ucai})),modules=[\n",
    "    pave_functions(valores[mh],3,1,lib='mpmath'),'mpmath'] )\n",
    "\n",
    "# a = 1, b = 2\n",
    "ALTwonp12 = lambdify([mni,mnj,Ubj,Ucai,Cijs,Cijcs],replaceBs(ALTwo12.collect([mni,mnj]).subs(\n",
    "    {Uν[b,jj]:Ubj, Uνc[a,i]:Ucai})),modules=[\n",
    "    pave_functions(valores[mh],1,2,lib='mpmath'),'mpmath'] )\n",
    "ARTwonp12 = lambdify([mni,mnj,Ubj,Ucai,Cijs,Cijcs],replaceBs(ARTwo12.collect([mni,mnj]).subs(\n",
    "    {Uν[b,jj]:Ubj, Uνc[a,i]:Ucai})),modules=[\n",
    "    pave_functions(valores[mh],1,2,lib='mpmath'),'mpmath'] )\n",
    "\n",
    "# a = 2, b = 1\n",
    "ALTwonp21 = lambdify([mni,mnj,Ubj,Ucai,Cijs,Cijcs],replaceBs(ALTwo21.collect([mni,mnj]).subs(\n",
    "    {Uν[b,jj]:Ubj, Uνc[a,i]:Ucai})),modules=[\n",
    "    pave_functions(valores[mh],2,1,lib='mpmath'),'mpmath'] )\n",
    "ARTwonp21 = lambdify([mni,mnj,Ubj,Ucai,Cijs,Cijcs],replaceBs(ARTwo21.collect([mni,mnj]).subs(\n",
    "    {Uν[b,jj]:Ubj, Uνc[a,i]:Ucai})),modules=[\n",
    "    pave_functions(valores[mh],2,1,lib='mpmath'),'mpmath'] )"
   ]
  },
  {
   "cell_type": "code",
   "execution_count": 45,
   "metadata": {},
   "outputs": [],
   "source": [
    "@jit(cache=True)\n",
    "def sumTwoL(m6,ALab,a,b):\n",
    "    AL = 0  \n",
    "    mnk = (m1,m2,m3,m4(m6),m5(m6),m6)\n",
    "    for i in range(1,7):\n",
    "        for j in range(1,7):\n",
    "            L = ALab(mnk[i-1],mnk[j-i],Unu(mnk[0],mnk[-1],b,j),np.conjugate(Unu(mnk[0],mnk[-1],a,i)),\n",
    "                      Cij(mnk[0],mnk[-1],i,j),np.conjugate(Cij(mnk[0],mnk[-1],i,j)))\n",
    "            if mp.isnan(L):\n",
    "                print(mnk[i-1],mnk[j-i],Unu(mnk[0],mnk[-1],b,j),Cij(mnk[0],mnk[-1],i,j),L)\n",
    "            AL += L\n",
    "    return AL\n",
    "\n",
    "@jit(cache=True)\n",
    "def sumTwoR(m6,ARab,a,b):\n",
    "    AR = 0  \n",
    "    mnk = (m1,m2,m3,m4(m6),m5(m6),m6)\n",
    "    for i in range(1,7):\n",
    "        for j in range(1,7):\n",
    "            R = ARab(mnk[i-1],mnk[j-i],Unu(mnk[0],mnk[-1],b,j),np.conjugate(Unu(mnk[0],mnk[-1],a,i)),\n",
    "                      Cij(mnk[0],mnk[-1],i,j),np.conjugate(Cij(mnk[0],mnk[-1],i,j)))\n",
    "            if mp.isnan(R):\n",
    "                print(mnk[i-1],mnk[j-i],R)\n",
    "            AR += R#np.nan_to_num(R)\n",
    "    return AR"
   ]
  },
  {
   "cell_type": "code",
   "execution_count": 28,
   "metadata": {},
   "outputs": [],
   "source": [
    "#sumTwoL(1e15,ALTwonp23,2,3) "
   ]
  },
  {
   "cell_type": "code",
   "execution_count": 46,
   "metadata": {},
   "outputs": [],
   "source": [
    "# a = 2, b = 3\n",
    "ALTwoTot23 = lambda m6:sumTwoL(m6,ALTwonp23,2,3)\n",
    "ARTwoTot23 = lambda m6:sumTwoR(m6,ARTwonp23,2,3)\n",
    "\n",
    "# a = 3, b = 2\n",
    "ALTwoTot32 = lambda m6:sumTwoL(m6,ALTwonp32,3,2)\n",
    "ARTwoTot32 = lambda m6:sumTwoR(m6,ARTwonp32,3,2)\n",
    "\n",
    "# a = 1, b = 3\n",
    "ALTwoTot13 = lambda m6:sumTwoL(m6,ALTwonp13,1,3)\n",
    "ARTwoTot13 = lambda m6:sumTwoR(m6,ARTwonp13,1,3)\n",
    "\n",
    "# a = 3, b = 1\n",
    "ALTwoTot31 = lambda m6:sumTwoL(m6,ALTwonp31,3,1)\n",
    "ARTwoTot31 = lambda m6:sumTwoR(m6,ARTwonp31,3,1)\n",
    "\n",
    "# a = 1, b = 2\n",
    "ALTwoTot12 = lambda m6:sumTwoL(m6,ALTwonp12,1,2)\n",
    "ARTwoTot12 = lambda m6:sumTwoR(m6,ARTwonp12,1,2)\n",
    "\n",
    "# a = 2, b = 1\n",
    "ALTwoTot21 = lambda m6:sumTwoL(m6,ALTwonp21,2,1)\n",
    "ARTwoTot21 = lambda m6:sumTwoR(m6,ARTwonp21,2,1)"
   ]
  },
  {
   "cell_type": "code",
   "execution_count": null,
   "metadata": {},
   "outputs": [],
   "source": [
    "#for f in (ALTwoTot23,ALTwoTot32,ALTwoTot13,ALTwoTot31,ALTwoTot12,ALTwoTot21):\n",
    "#    print(ALTwoTot23(1e15))"
   ]
  },
  {
   "cell_type": "code",
   "execution_count": null,
   "metadata": {},
   "outputs": [],
   "source": [
    "#YLTwo23 = np.array([np.abs(ALTwoTot23(m6)) for m6 in m6np])\n",
    "#YLTwo32 = np.array([np.abs(ARTwoTot32(m6)) for m6 in m6np])\n",
    "\n",
    "#YLTwo13 = np.array([np.abs(ALTwoTot13(m6)) for m6 in m6np])\n",
    "#YLTwo31 = np.array([np.abs(ARTwoTot31(m6)) for m6 in m6np])\n",
    "\n",
    "#YLTwo12 = np.array([np.abs(ALTwoTot12(m6)) for m6 in m6np])\n",
    "#YLTwo21 = np.array([np.abs(ARTwoTot21(m6)) for m6 in m6np])"
   ]
  },
  {
   "cell_type": "code",
   "execution_count": null,
   "metadata": {},
   "outputs": [],
   "source": [
    "#plt.figure(figsize=(15,8))\n",
    "\n",
    "#plt.loglog(np.real(m6np),YLTwo23,label='$A_L^{(2)}(2,3)$')\n",
    "#plt.loglog(np.real(m6np),YLTwo32,label='$A_L^{(2)}(3,2)$')\n",
    "\n",
    "#plt.loglog(np.real(m6np),YLTwo13,label='$A_L^{(2)}(1,3)$')\n",
    "#plt.loglog(np.real(m6np),YLTwo31,label='$A_L^{(2)}(3,1)$')\n",
    "\n",
    "#plt.loglog(np.real(m6np),YLTwo12,label='$A_L^{(2)}(1,2)$')\n",
    "#plt.loglog(np.real(m6np),YLTwo21,label='$A_L^{(2)}(2,1)$')\n",
    "#plt.legend()"
   ]
  },
  {
   "cell_type": "markdown",
   "metadata": {},
   "source": [
    "## Branchig ratio"
   ]
  },
  {
   "cell_type": "code",
   "execution_count": 48,
   "metadata": {},
   "outputs": [],
   "source": [
    "#a = 2, b = 3\n",
    "factor = 1e-10\n",
    "ALtot23 =lambda m6: factor*ALOneTot23(m6) + ALTwoTot23(m6)\n",
    "ARtot23 =lambda m6: factor*AROneTot23(m6) + ARTwoTot23(m6)\n",
    "\n",
    "#a = 3, b = 2\n",
    "ALtot32 =lambda m6: factor*ALOneTot32(m6) + ALTwoTot32(m6)\n",
    "ARtot32 =lambda m6: factor*AROneTot32(m6) + ARTwoTot32(m6)\n",
    "\n",
    "#a = 1, b = 3\n",
    "ALtot13 =lambda m6: factor*ALOneTot13(m6) + ALTwoTot13(m6)\n",
    "ARtot13 =lambda m6: factor*AROneTot13(m6) + ARTwoTot13(m6)\n",
    "\n",
    "#a = 3, b = 1\n",
    "ALtot31 =lambda m6: factor*ALOneTot31(m6) + ALTwoTot31(m6)\n",
    "ARtot31 =lambda m6: factor*AROneTot31(m6) + ARTwoTot31(m6)\n",
    "\n",
    "#a = 1, b = 2\n",
    "ALtot12 =lambda m6: factor*ALOneTot12(m6) + ALTwoTot12(m6)\n",
    "ARtot12 =lambda m6: factor*AROneTot12(m6) + ARTwoTot12(m6)\n",
    "\n",
    "#a = 2, b = 1\n",
    "ALtot21 =lambda m6: factor*ALOneTot21(m6) + ALTwoTot21(m6)\n",
    "ARtot21 =lambda m6: factor*AROneTot21(m6) + ARTwoTot21(m6)"
   ]
  },
  {
   "cell_type": "code",
   "execution_count": 49,
   "metadata": {},
   "outputs": [],
   "source": [
    "from OneLoopLFVHD import Γhlilj"
   ]
  },
  {
   "cell_type": "code",
   "execution_count": 50,
   "metadata": {},
   "outputs": [],
   "source": [
    "n = 20\n",
    "m6np = np.logspace(-10,15,n)"
   ]
  },
  {
   "cell_type": "code",
   "execution_count": 51,
   "metadata": {},
   "outputs": [
    {
     "name": "stderr",
     "output_type": "stream",
     "text": [
      "<ipython-input-45-25adf42a0fbd>:1: NumbaWarning: \u001b[1m\n",
      "Compilation is falling back to object mode WITH looplifting enabled because Function \"sumTwoL\" failed type inference due to: \u001b[1mUntyped global name 'm4':\u001b[0m \u001b[1m\u001b[1mCannot determine Numba type of <class 'function'>\u001b[0m\n",
      "\u001b[1m\n",
      "File \"<ipython-input-45-25adf42a0fbd>\", line 4:\u001b[0m\n",
      "\u001b[1mdef sumTwoL(m6,ALab,a,b):\n",
      "    <source elided>\n",
      "    AL = 0  \n",
      "\u001b[1m    mnk = (m1,m2,m3,m4(m6),m5(m6),m6)\n",
      "\u001b[0m    \u001b[1m^\u001b[0m\u001b[0m\n",
      "\u001b[0m\u001b[0m\n",
      "  @jit(cache=True)\n",
      "<ipython-input-45-25adf42a0fbd>:1: NumbaWarning: \u001b[1m\n",
      "Compilation is falling back to object mode WITHOUT looplifting enabled because Function \"sumTwoL\" failed type inference due to: \u001b[1mUntyped global name 'm4':\u001b[0m \u001b[1m\u001b[1mCannot determine Numba type of <class 'function'>\u001b[0m\n",
      "\u001b[1m\n",
      "File \"<ipython-input-45-25adf42a0fbd>\", line 4:\u001b[0m\n",
      "\u001b[1mdef sumTwoL(m6,ALab,a,b):\n",
      "    <source elided>\n",
      "    AL = 0  \n",
      "\u001b[1m    mnk = (m1,m2,m3,m4(m6),m5(m6),m6)\n",
      "\u001b[0m    \u001b[1m^\u001b[0m\u001b[0m\n",
      "\u001b[0m\u001b[0m\n",
      "  @jit(cache=True)\n",
      "/home/moiseszm/miniconda3/lib/python3.7/site-packages/numba/core/object_mode_passes.py:152: NumbaWarning: \u001b[1mFunction \"sumTwoL\" was compiled in object mode without forceobj=True, but has lifted loops.\n",
      "\u001b[1m\n",
      "File \"<ipython-input-45-25adf42a0fbd>\", line 3:\u001b[0m\n",
      "\u001b[1mdef sumTwoL(m6,ALab,a,b):\n",
      "\u001b[1m    AL = 0  \n",
      "\u001b[0m    \u001b[1m^\u001b[0m\u001b[0m\n",
      "\u001b[0m\n",
      "  state.func_ir.loc))\n",
      "/home/moiseszm/miniconda3/lib/python3.7/site-packages/numba/core/object_mode_passes.py:162: NumbaDeprecationWarning: \u001b[1m\n",
      "Fall-back from the nopython compilation path to the object mode compilation path has been detected, this is deprecated behaviour.\n",
      "\n",
      "For more information visit https://numba.pydata.org/numba-doc/latest/reference/deprecation.html#deprecation-of-object-mode-fall-back-behaviour-when-using-jit\n",
      "\u001b[1m\n",
      "File \"<ipython-input-45-25adf42a0fbd>\", line 3:\u001b[0m\n",
      "\u001b[1mdef sumTwoL(m6,ALab,a,b):\n",
      "\u001b[1m    AL = 0  \n",
      "\u001b[0m    \u001b[1m^\u001b[0m\u001b[0m\n",
      "\u001b[0m\n",
      "  state.func_ir.loc))\n",
      "<ipython-input-45-25adf42a0fbd>:1: NumbaWarning: \u001b[1mCannot cache compiled function \"sumTwoL\" as it uses lifted code\u001b[0m\n",
      "  @jit(cache=True)\n",
      "<ipython-input-45-25adf42a0fbd>:1: NumbaWarning: \u001b[1m\n",
      "Compilation is falling back to object mode WITHOUT looplifting enabled because Function \"sumTwoL\" failed type inference due to: \u001b[1mUntyped global name 'Unu':\u001b[0m \u001b[1m\u001b[1mCannot determine Numba type of <class 'function'>\u001b[0m\n",
      "\u001b[1m\n",
      "File \"<ipython-input-45-25adf42a0fbd>\", line 7:\u001b[0m\n",
      "\u001b[1mdef sumTwoL(m6,ALab,a,b):\n",
      "    <source elided>\n",
      "        for j in range(1,7):\n",
      "\u001b[1m            L = ALab(mnk[i-1],mnk[j-i],Unu(mnk[0],mnk[-1],b,j),np.conjugate(Unu(mnk[0],mnk[-1],a,i)),\n",
      "\u001b[0m            \u001b[1m^\u001b[0m\u001b[0m\n",
      "\u001b[0m\u001b[0m\n",
      "  @jit(cache=True)\n",
      "/home/moiseszm/miniconda3/lib/python3.7/site-packages/numba/core/object_mode_passes.py:152: NumbaWarning: \u001b[1mFunction \"sumTwoL\" was compiled in object mode without forceobj=True.\n",
      "\u001b[1m\n",
      "File \"<ipython-input-45-25adf42a0fbd>\", line 5:\u001b[0m\n",
      "\u001b[1mdef sumTwoL(m6,ALab,a,b):\n",
      "    <source elided>\n",
      "    mnk = (m1,m2,m3,m4(m6),m5(m6),m6)\n",
      "\u001b[1m    for i in range(1,7):\n",
      "\u001b[0m    \u001b[1m^\u001b[0m\u001b[0m\n",
      "\u001b[0m\n",
      "  state.func_ir.loc))\n",
      "/home/moiseszm/miniconda3/lib/python3.7/site-packages/numba/core/object_mode_passes.py:162: NumbaDeprecationWarning: \u001b[1m\n",
      "Fall-back from the nopython compilation path to the object mode compilation path has been detected, this is deprecated behaviour.\n",
      "\n",
      "For more information visit https://numba.pydata.org/numba-doc/latest/reference/deprecation.html#deprecation-of-object-mode-fall-back-behaviour-when-using-jit\n",
      "\u001b[1m\n",
      "File \"<ipython-input-45-25adf42a0fbd>\", line 5:\u001b[0m\n",
      "\u001b[1mdef sumTwoL(m6,ALab,a,b):\n",
      "    <source elided>\n",
      "    mnk = (m1,m2,m3,m4(m6),m5(m6),m6)\n",
      "\u001b[1m    for i in range(1,7):\n",
      "\u001b[0m    \u001b[1m^\u001b[0m\u001b[0m\n",
      "\u001b[0m\n",
      "  state.func_ir.loc))\n",
      "/home/moiseszm/miniconda3/lib/python3.7/site-packages/OneLoopLFVHD/LFVHDFeynG_mpmath.py:166: NumbaWarning: \u001b[1m\n",
      "Compilation is falling back to object mode WITH looplifting enabled because Function \"C1\" failed type inference due to: \u001b[1m\u001b[1mnon-precise type pyobject\u001b[0m\n",
      "\u001b[0m\u001b[1mDuring: typing of argument at /home/moiseszm/miniconda3/lib/python3.7/site-packages/OneLoopLFVHD/LFVHDFeynG_mpmath.py (168)\u001b[0m\n",
      "\u001b[1m\n",
      "File \"../../../../../miniconda3/lib/python3.7/site-packages/OneLoopLFVHD/LFVHDFeynG_mpmath.py\", line 168:\u001b[0m\n",
      "\u001b[1mdef C1(ma,mi,M0,M1,M2):\n",
      "\u001b[1m    return ((1/ma**2)*(B1_0(ma,mi,M0,M1) - B12_0(ma,M1,M2) + (M2**2-M0**2)*C0(ma,M0,M1,M2)))\n",
      "\u001b[0m    \u001b[1m^\u001b[0m\u001b[0m\n",
      "\u001b[0m\n",
      "  @jit\n",
      "/home/moiseszm/miniconda3/lib/python3.7/site-packages/numba/core/object_mode_passes.py:152: NumbaWarning: \u001b[1mFunction \"C1\" was compiled in object mode without forceobj=True.\n",
      "\u001b[1m\n",
      "File \"../../../../../miniconda3/lib/python3.7/site-packages/OneLoopLFVHD/LFVHDFeynG_mpmath.py\", line 167:\u001b[0m\n",
      "\u001b[1m@jit\n",
      "\u001b[1mdef C1(ma,mi,M0,M1,M2):\n",
      "\u001b[0m\u001b[1m^\u001b[0m\u001b[0m\n",
      "\u001b[0m\n",
      "  state.func_ir.loc))\n",
      "/home/moiseszm/miniconda3/lib/python3.7/site-packages/numba/core/object_mode_passes.py:162: NumbaDeprecationWarning: \u001b[1m\n",
      "Fall-back from the nopython compilation path to the object mode compilation path has been detected, this is deprecated behaviour.\n",
      "\n",
      "For more information visit https://numba.pydata.org/numba-doc/latest/reference/deprecation.html#deprecation-of-object-mode-fall-back-behaviour-when-using-jit\n",
      "\u001b[1m\n",
      "File \"../../../../../miniconda3/lib/python3.7/site-packages/OneLoopLFVHD/LFVHDFeynG_mpmath.py\", line 167:\u001b[0m\n",
      "\u001b[1m@jit\n",
      "\u001b[1mdef C1(ma,mi,M0,M1,M2):\n",
      "\u001b[0m\u001b[1m^\u001b[0m\u001b[0m\n",
      "\u001b[0m\n",
      "  state.func_ir.loc))\n",
      "/home/moiseszm/miniconda3/lib/python3.7/site-packages/OneLoopLFVHD/LFVHDFeynG_mpmath.py:127: NumbaWarning: \u001b[1m\n",
      "Compilation is falling back to object mode WITH looplifting enabled because Function \"B1_0\" failed type inference due to: \u001b[1m\u001b[1mnon-precise type pyobject\u001b[0m\n",
      "\u001b[0m\u001b[1mDuring: typing of argument at /home/moiseszm/miniconda3/lib/python3.7/site-packages/OneLoopLFVHD/LFVHDFeynG_mpmath.py (129)\u001b[0m\n",
      "\u001b[1m\n",
      "File \"../../../../../miniconda3/lib/python3.7/site-packages/OneLoopLFVHD/LFVHDFeynG_mpmath.py\", line 129:\u001b[0m\n",
      "\u001b[1mdef B1_0(ma,mi,M0,M1):\n",
      "\u001b[1m    return b1_0np(ma,mi,M0,M1)\n",
      "\u001b[0m    \u001b[1m^\u001b[0m\u001b[0m\n",
      "\u001b[0m\n",
      "  @jit\n",
      "/home/moiseszm/miniconda3/lib/python3.7/site-packages/numba/core/object_mode_passes.py:152: NumbaWarning: \u001b[1mFunction \"B1_0\" was compiled in object mode without forceobj=True.\n",
      "\u001b[1m\n",
      "File \"../../../../../miniconda3/lib/python3.7/site-packages/OneLoopLFVHD/LFVHDFeynG_mpmath.py\", line 128:\u001b[0m\n",
      "\u001b[1m@jit\n",
      "\u001b[1mdef B1_0(ma,mi,M0,M1):\n",
      "\u001b[0m\u001b[1m^\u001b[0m\u001b[0m\n",
      "\u001b[0m\n",
      "  state.func_ir.loc))\n",
      "/home/moiseszm/miniconda3/lib/python3.7/site-packages/numba/core/object_mode_passes.py:162: NumbaDeprecationWarning: \u001b[1m\n",
      "Fall-back from the nopython compilation path to the object mode compilation path has been detected, this is deprecated behaviour.\n",
      "\n",
      "For more information visit https://numba.pydata.org/numba-doc/latest/reference/deprecation.html#deprecation-of-object-mode-fall-back-behaviour-when-using-jit\n",
      "\u001b[1m\n",
      "File \"../../../../../miniconda3/lib/python3.7/site-packages/OneLoopLFVHD/LFVHDFeynG_mpmath.py\", line 128:\u001b[0m\n",
      "\u001b[1m@jit\n",
      "\u001b[1mdef B1_0(ma,mi,M0,M1):\n",
      "\u001b[0m\u001b[1m^\u001b[0m\u001b[0m\n",
      "\u001b[0m\n",
      "  state.func_ir.loc))\n",
      "/home/moiseszm/miniconda3/lib/python3.7/site-packages/OneLoopLFVHD/LFVHDFeynG_mpmath.py:102: NumbaWarning: \u001b[1m\n",
      "Compilation is falling back to object mode WITH looplifting enabled because Function \"b1_0np\" failed type inference due to: \u001b[1mUntyped global name 'log':\u001b[0m \u001b[1m\u001b[1mCannot determine Numba type of <class 'method'>\u001b[0m\n",
      "\u001b[1m\n",
      "File \"../../../../../miniconda3/lib/python3.7/site-packages/OneLoopLFVHD/LFVHDFeynG_mpmath.py\", line 104:\u001b[0m\n",
      "\u001b[1mdef b1_0np(ma,mi,M0,M1):\n",
      "\u001b[1m    return -log(M1**2)-f01sum(ma,mi,M0,M1)\n",
      "\u001b[0m    \u001b[1m^\u001b[0m\u001b[0m\n",
      "\u001b[0m\u001b[0m\n",
      "  @jit\n",
      "/home/moiseszm/miniconda3/lib/python3.7/site-packages/numba/core/object_mode_passes.py:152: NumbaWarning: \u001b[1mFunction \"b1_0np\" was compiled in object mode without forceobj=True.\n",
      "\u001b[1m\n",
      "File \"../../../../../miniconda3/lib/python3.7/site-packages/OneLoopLFVHD/LFVHDFeynG_mpmath.py\", line 103:\u001b[0m\n",
      "\u001b[1m@jit\n",
      "\u001b[1mdef b1_0np(ma,mi,M0,M1):\n",
      "\u001b[0m\u001b[1m^\u001b[0m\u001b[0m\n",
      "\u001b[0m\n",
      "  state.func_ir.loc))\n",
      "/home/moiseszm/miniconda3/lib/python3.7/site-packages/numba/core/object_mode_passes.py:162: NumbaDeprecationWarning: \u001b[1m\n",
      "Fall-back from the nopython compilation path to the object mode compilation path has been detected, this is deprecated behaviour.\n",
      "\n",
      "For more information visit https://numba.pydata.org/numba-doc/latest/reference/deprecation.html#deprecation-of-object-mode-fall-back-behaviour-when-using-jit\n",
      "\u001b[1m\n",
      "File \"../../../../../miniconda3/lib/python3.7/site-packages/OneLoopLFVHD/LFVHDFeynG_mpmath.py\", line 103:\u001b[0m\n",
      "\u001b[1m@jit\n",
      "\u001b[1mdef b1_0np(ma,mi,M0,M1):\n",
      "\u001b[0m\u001b[1m^\u001b[0m\u001b[0m\n",
      "\u001b[0m\n",
      "  state.func_ir.loc))\n",
      "/home/moiseszm/miniconda3/lib/python3.7/site-packages/OneLoopLFVHD/LFVHDFeynG_mpmath.py:73: NumbaWarning: \u001b[1m\n",
      "Compilation is falling back to object mode WITH looplifting enabled because Function \"f01sum\" failed type inference due to: \u001b[1m\u001b[1mnon-precise type pyobject\u001b[0m\n",
      "\u001b[0m\u001b[1mDuring: typing of argument at /home/moiseszm/miniconda3/lib/python3.7/site-packages/OneLoopLFVHD/LFVHDFeynG_mpmath.py (75)\u001b[0m\n",
      "\u001b[1m\n",
      "File \"../../../../../miniconda3/lib/python3.7/site-packages/OneLoopLFVHD/LFVHDFeynG_mpmath.py\", line 75:\u001b[0m\n",
      "\u001b[1mdef f01sum(ma,mi,M0,M1):\n",
      "\u001b[1m    out = 0\n",
      "\u001b[0m    \u001b[1m^\u001b[0m\u001b[0m\n",
      "\u001b[0m\n",
      "  @jit\n",
      "/home/moiseszm/miniconda3/lib/python3.7/site-packages/OneLoopLFVHD/LFVHDFeynG_mpmath.py:73: NumbaWarning: \u001b[1m\n",
      "Compilation is falling back to object mode WITHOUT looplifting enabled because Function \"f01sum\" failed type inference due to: \u001b[1m\u001b[1mCannot determine Numba type of <class 'numba.core.dispatcher.LiftedLoop'>\u001b[0m\n",
      "\u001b[1m\n",
      "File \"../../../../../miniconda3/lib/python3.7/site-packages/OneLoopLFVHD/LFVHDFeynG_mpmath.py\", line 76:\u001b[0m\n",
      "\u001b[1mdef f01sum(ma,mi,M0,M1):\n",
      "    <source elided>\n",
      "    out = 0\n",
      "\u001b[1m    for yi1j in (y11np,y12np): \n",
      "\u001b[0m    \u001b[1m^\u001b[0m\u001b[0m\n",
      "\u001b[0m\u001b[0m\n",
      "  @jit\n",
      "/home/moiseszm/miniconda3/lib/python3.7/site-packages/numba/core/object_mode_passes.py:152: NumbaWarning: \u001b[1mFunction \"f01sum\" was compiled in object mode without forceobj=True, but has lifted loops.\n",
      "\u001b[1m\n",
      "File \"../../../../../miniconda3/lib/python3.7/site-packages/OneLoopLFVHD/LFVHDFeynG_mpmath.py\", line 75:\u001b[0m\n",
      "\u001b[1mdef f01sum(ma,mi,M0,M1):\n",
      "\u001b[1m    out = 0\n",
      "\u001b[0m    \u001b[1m^\u001b[0m\u001b[0m\n",
      "\u001b[0m\n",
      "  state.func_ir.loc))\n",
      "/home/moiseszm/miniconda3/lib/python3.7/site-packages/numba/core/object_mode_passes.py:162: NumbaDeprecationWarning: \u001b[1m\n",
      "Fall-back from the nopython compilation path to the object mode compilation path has been detected, this is deprecated behaviour.\n",
      "\n",
      "For more information visit https://numba.pydata.org/numba-doc/latest/reference/deprecation.html#deprecation-of-object-mode-fall-back-behaviour-when-using-jit\n",
      "\u001b[1m\n",
      "File \"../../../../../miniconda3/lib/python3.7/site-packages/OneLoopLFVHD/LFVHDFeynG_mpmath.py\", line 75:\u001b[0m\n",
      "\u001b[1mdef f01sum(ma,mi,M0,M1):\n",
      "\u001b[1m    out = 0\n",
      "\u001b[0m    \u001b[1m^\u001b[0m\u001b[0m\n",
      "\u001b[0m\n",
      "  state.func_ir.loc))\n",
      "/home/moiseszm/miniconda3/lib/python3.7/site-packages/OneLoopLFVHD/LFVHDFeynG_mpmath.py:73: NumbaWarning: \u001b[1m\n",
      "Compilation is falling back to object mode WITHOUT looplifting enabled because Function \"f01sum\" failed type inference due to: \u001b[1m\u001b[1mnon-precise type pyobject\u001b[0m\n",
      "\u001b[0m\u001b[1mDuring: typing of argument at /home/moiseszm/miniconda3/lib/python3.7/site-packages/OneLoopLFVHD/LFVHDFeynG_mpmath.py (76)\u001b[0m\n",
      "\u001b[1m\n",
      "File \"../../../../../miniconda3/lib/python3.7/site-packages/OneLoopLFVHD/LFVHDFeynG_mpmath.py\", line 76:\u001b[0m\n",
      "\u001b[1mdef f01sum(ma,mi,M0,M1):\n",
      "    <source elided>\n",
      "    out = 0\n",
      "\u001b[1m    for yi1j in (y11np,y12np): \n",
      "\u001b[0m    \u001b[1m^\u001b[0m\u001b[0m\n",
      "\u001b[0m\n",
      "  @jit\n",
      "/home/moiseszm/miniconda3/lib/python3.7/site-packages/numba/core/object_mode_passes.py:152: NumbaWarning: \u001b[1mFunction \"f01sum\" was compiled in object mode without forceobj=True.\n",
      "\u001b[1m\n",
      "File \"../../../../../miniconda3/lib/python3.7/site-packages/OneLoopLFVHD/LFVHDFeynG_mpmath.py\", line 76:\u001b[0m\n",
      "\u001b[1mdef f01sum(ma,mi,M0,M1):\n",
      "    <source elided>\n",
      "    out = 0\n",
      "\u001b[1m    for yi1j in (y11np,y12np): \n",
      "\u001b[0m    \u001b[1m^\u001b[0m\u001b[0m\n",
      "\u001b[0m\n",
      "  state.func_ir.loc))\n",
      "/home/moiseszm/miniconda3/lib/python3.7/site-packages/numba/core/object_mode_passes.py:162: NumbaDeprecationWarning: \u001b[1m\n",
      "Fall-back from the nopython compilation path to the object mode compilation path has been detected, this is deprecated behaviour.\n",
      "\n",
      "For more information visit https://numba.pydata.org/numba-doc/latest/reference/deprecation.html#deprecation-of-object-mode-fall-back-behaviour-when-using-jit\n",
      "\u001b[1m\n",
      "File \"../../../../../miniconda3/lib/python3.7/site-packages/OneLoopLFVHD/LFVHDFeynG_mpmath.py\", line 76:\u001b[0m\n",
      "\u001b[1mdef f01sum(ma,mi,M0,M1):\n",
      "    <source elided>\n",
      "    out = 0\n",
      "\u001b[1m    for yi1j in (y11np,y12np): \n",
      "\u001b[0m    \u001b[1m^\u001b[0m\u001b[0m\n",
      "\u001b[0m\n",
      "  state.func_ir.loc))\n",
      "/home/moiseszm/miniconda3/lib/python3.7/site-packages/OneLoopLFVHD/roots_mpmath.py:86: NumbaWarning: \u001b[1m\n",
      "Compilation is falling back to object mode WITH looplifting enabled because Function \"y11\" failed type inference due to: \u001b[1mUntyped global name 'mpf':\u001b[0m \u001b[1m\u001b[1mCannot determine Numba type of <class 'type'>\u001b[0m\n",
      "\u001b[1m\n",
      "File \"../../../../../miniconda3/lib/python3.7/site-packages/OneLoopLFVHD/roots_mpmath.py\", line 88:\u001b[0m\n",
      "\u001b[1mdef y11(ma,mi,M0,M1):\n",
      "\u001b[1m    ma = mpf(ma)\n",
      "\u001b[0m    \u001b[1m^\u001b[0m\u001b[0m\n",
      "\u001b[0m\u001b[0m\n",
      "  @jit()\n",
      "/home/moiseszm/miniconda3/lib/python3.7/site-packages/numba/core/object_mode_passes.py:152: NumbaWarning: \u001b[1mFunction \"y11\" was compiled in object mode without forceobj=True.\n",
      "\u001b[1m\n",
      "File \"../../../../../miniconda3/lib/python3.7/site-packages/OneLoopLFVHD/roots_mpmath.py\", line 87:\u001b[0m\n",
      "\u001b[1m@jit()\n",
      "\u001b[1mdef y11(ma,mi,M0,M1):\n",
      "\u001b[0m\u001b[1m^\u001b[0m\u001b[0m\n",
      "\u001b[0m\n",
      "  state.func_ir.loc))\n",
      "/home/moiseszm/miniconda3/lib/python3.7/site-packages/numba/core/object_mode_passes.py:162: NumbaDeprecationWarning: \u001b[1m\n",
      "Fall-back from the nopython compilation path to the object mode compilation path has been detected, this is deprecated behaviour.\n",
      "\n",
      "For more information visit https://numba.pydata.org/numba-doc/latest/reference/deprecation.html#deprecation-of-object-mode-fall-back-behaviour-when-using-jit\n",
      "\u001b[1m\n",
      "File \"../../../../../miniconda3/lib/python3.7/site-packages/OneLoopLFVHD/roots_mpmath.py\", line 87:\u001b[0m\n",
      "\u001b[1m@jit()\n",
      "\u001b[1mdef y11(ma,mi,M0,M1):\n",
      "\u001b[0m\u001b[1m^\u001b[0m\u001b[0m\n",
      "\u001b[0m\n",
      "  state.func_ir.loc))\n",
      "/home/moiseszm/miniconda3/lib/python3.7/site-packages/OneLoopLFVHD/roots_mpmath.py:46: NumbaWarning: \u001b[1m\n",
      "Compilation is falling back to object mode WITH looplifting enabled because Function \"rootx2_estable\" failed type inference due to: \u001b[1mUntyped global name 'sqrt':\u001b[0m \u001b[1m\u001b[1mCannot determine Numba type of <class 'function'>\u001b[0m\n",
      "\u001b[1m\n",
      "File \"../../../../../miniconda3/lib/python3.7/site-packages/OneLoopLFVHD/roots_mpmath.py\", line 58:\u001b[0m\n",
      "\u001b[1mdef rootx2_estable(a,b,c):\n",
      "    <source elided>\n",
      "    '''\n",
      "\u001b[1m    x1 = (-b - sqrt(b**2 - 4*a*c))/(2*a)\n",
      "\u001b[0m    \u001b[1m^\u001b[0m\u001b[0m\n",
      "\u001b[0m\u001b[0m\n",
      "  @jit()\n",
      "/home/moiseszm/miniconda3/lib/python3.7/site-packages/numba/core/object_mode_passes.py:152: NumbaWarning: \u001b[1mFunction \"rootx2_estable\" was compiled in object mode without forceobj=True.\n",
      "\u001b[1m\n",
      "File \"../../../../../miniconda3/lib/python3.7/site-packages/OneLoopLFVHD/roots_mpmath.py\", line 47:\u001b[0m\n",
      "\u001b[1m@jit()\n",
      "\u001b[1mdef rootx2_estable(a,b,c):\n",
      "\u001b[0m\u001b[1m^\u001b[0m\u001b[0m\n",
      "\u001b[0m\n",
      "  state.func_ir.loc))\n",
      "/home/moiseszm/miniconda3/lib/python3.7/site-packages/numba/core/object_mode_passes.py:162: NumbaDeprecationWarning: \u001b[1m\n",
      "Fall-back from the nopython compilation path to the object mode compilation path has been detected, this is deprecated behaviour.\n",
      "\n",
      "For more information visit https://numba.pydata.org/numba-doc/latest/reference/deprecation.html#deprecation-of-object-mode-fall-back-behaviour-when-using-jit\n",
      "\u001b[1m\n",
      "File \"../../../../../miniconda3/lib/python3.7/site-packages/OneLoopLFVHD/roots_mpmath.py\", line 47:\u001b[0m\n",
      "\u001b[1m@jit()\n",
      "\u001b[1mdef rootx2_estable(a,b,c):\n",
      "\u001b[0m\u001b[1m^\u001b[0m\u001b[0m\n",
      "\u001b[0m\n",
      "  state.func_ir.loc))\n",
      "/home/moiseszm/miniconda3/lib/python3.7/site-packages/OneLoopLFVHD/roots_mpmath.py:94: NumbaWarning: \u001b[1m\n",
      "Compilation is falling back to object mode WITH looplifting enabled because Function \"y12\" failed type inference due to: \u001b[1mUntyped global name 'mpf':\u001b[0m \u001b[1m\u001b[1mCannot determine Numba type of <class 'type'>\u001b[0m\n",
      "\u001b[1m\n",
      "File \"../../../../../miniconda3/lib/python3.7/site-packages/OneLoopLFVHD/roots_mpmath.py\", line 96:\u001b[0m\n",
      "\u001b[1mdef y12(ma,mi,M0,M1):\n",
      "\u001b[1m    ma = mpf(ma)\n",
      "\u001b[0m    \u001b[1m^\u001b[0m\u001b[0m\n",
      "\u001b[0m\u001b[0m\n",
      "  @jit()\n",
      "/home/moiseszm/miniconda3/lib/python3.7/site-packages/numba/core/object_mode_passes.py:152: NumbaWarning: \u001b[1mFunction \"y12\" was compiled in object mode without forceobj=True.\n",
      "\u001b[1m\n",
      "File \"../../../../../miniconda3/lib/python3.7/site-packages/OneLoopLFVHD/roots_mpmath.py\", line 95:\u001b[0m\n",
      "\u001b[1m@jit()\n",
      "\u001b[1mdef y12(ma,mi,M0,M1):\n",
      "\u001b[0m\u001b[1m^\u001b[0m\u001b[0m\n",
      "\u001b[0m\n",
      "  state.func_ir.loc))\n",
      "/home/moiseszm/miniconda3/lib/python3.7/site-packages/numba/core/object_mode_passes.py:162: NumbaDeprecationWarning: \u001b[1m\n",
      "Fall-back from the nopython compilation path to the object mode compilation path has been detected, this is deprecated behaviour.\n",
      "\n",
      "For more information visit https://numba.pydata.org/numba-doc/latest/reference/deprecation.html#deprecation-of-object-mode-fall-back-behaviour-when-using-jit\n",
      "\u001b[1m\n",
      "File \"../../../../../miniconda3/lib/python3.7/site-packages/OneLoopLFVHD/roots_mpmath.py\", line 95:\u001b[0m\n",
      "\u001b[1m@jit()\n",
      "\u001b[1mdef y12(ma,mi,M0,M1):\n",
      "\u001b[0m\u001b[1m^\u001b[0m\u001b[0m\n",
      "\u001b[0m\n",
      "  state.func_ir.loc))\n",
      "/home/moiseszm/miniconda3/lib/python3.7/site-packages/OneLoopLFVHD/roots_mpmath.py:66: NumbaWarning: \u001b[1m\n",
      "Compilation is falling back to object mode WITH looplifting enabled because Function \"x1\" failed type inference due to: \u001b[1mUntyped global name 'mpf':\u001b[0m \u001b[1m\u001b[1mCannot determine Numba type of <class 'type'>\u001b[0m\n",
      "\u001b[1m\n",
      "File \"../../../../../miniconda3/lib/python3.7/site-packages/OneLoopLFVHD/roots_mpmath.py\", line 68:\u001b[0m\n",
      "\u001b[1mdef x1(ma,M1,M2):\n",
      "\u001b[1m    ma = mpf(ma)\n",
      "\u001b[0m    \u001b[1m^\u001b[0m\u001b[0m\n",
      "\u001b[0m\u001b[0m\n",
      "  @jit()\n",
      "/home/moiseszm/miniconda3/lib/python3.7/site-packages/numba/core/object_mode_passes.py:152: NumbaWarning: \u001b[1mFunction \"x1\" was compiled in object mode without forceobj=True.\n",
      "\u001b[1m\n",
      "File \"../../../../../miniconda3/lib/python3.7/site-packages/OneLoopLFVHD/roots_mpmath.py\", line 67:\u001b[0m\n",
      "\u001b[1m@jit()\n",
      "\u001b[1mdef x1(ma,M1,M2):\n",
      "\u001b[0m\u001b[1m^\u001b[0m\u001b[0m\n",
      "\u001b[0m\n",
      "  state.func_ir.loc))\n",
      "/home/moiseszm/miniconda3/lib/python3.7/site-packages/numba/core/object_mode_passes.py:162: NumbaDeprecationWarning: \u001b[1m\n",
      "Fall-back from the nopython compilation path to the object mode compilation path has been detected, this is deprecated behaviour.\n",
      "\n",
      "For more information visit https://numba.pydata.org/numba-doc/latest/reference/deprecation.html#deprecation-of-object-mode-fall-back-behaviour-when-using-jit\n",
      "\u001b[1m\n",
      "File \"../../../../../miniconda3/lib/python3.7/site-packages/OneLoopLFVHD/roots_mpmath.py\", line 67:\u001b[0m\n",
      "\u001b[1m@jit()\n",
      "\u001b[1mdef x1(ma,M1,M2):\n",
      "\u001b[0m\u001b[1m^\u001b[0m\u001b[0m\n",
      "\u001b[0m\n",
      "  state.func_ir.loc))\n",
      "/home/moiseszm/miniconda3/lib/python3.7/site-packages/OneLoopLFVHD/roots_mpmath.py:75: NumbaWarning: \u001b[1m\n",
      "Compilation is falling back to object mode WITH looplifting enabled because Function \"x2\" failed type inference due to: \u001b[1mUntyped global name 'mpf':\u001b[0m \u001b[1m\u001b[1mCannot determine Numba type of <class 'type'>\u001b[0m\n",
      "\u001b[1m\n",
      "File \"../../../../../miniconda3/lib/python3.7/site-packages/OneLoopLFVHD/roots_mpmath.py\", line 77:\u001b[0m\n",
      "\u001b[1mdef x2(ma,M1,M2):\n",
      "\u001b[1m    ma = mpf(ma)\n",
      "\u001b[0m    \u001b[1m^\u001b[0m\u001b[0m\n",
      "\u001b[0m\u001b[0m\n",
      "  @jit()\n",
      "/home/moiseszm/miniconda3/lib/python3.7/site-packages/numba/core/object_mode_passes.py:152: NumbaWarning: \u001b[1mFunction \"x2\" was compiled in object mode without forceobj=True.\n",
      "\u001b[1m\n",
      "File \"../../../../../miniconda3/lib/python3.7/site-packages/OneLoopLFVHD/roots_mpmath.py\", line 76:\u001b[0m\n",
      "\u001b[1m@jit()\n",
      "\u001b[1mdef x2(ma,M1,M2):\n",
      "\u001b[0m\u001b[1m^\u001b[0m\u001b[0m\n",
      "\u001b[0m\n",
      "  state.func_ir.loc))\n",
      "/home/moiseszm/miniconda3/lib/python3.7/site-packages/numba/core/object_mode_passes.py:162: NumbaDeprecationWarning: \u001b[1m\n",
      "Fall-back from the nopython compilation path to the object mode compilation path has been detected, this is deprecated behaviour.\n",
      "\n",
      "For more information visit https://numba.pydata.org/numba-doc/latest/reference/deprecation.html#deprecation-of-object-mode-fall-back-behaviour-when-using-jit\n",
      "\u001b[1m\n",
      "File \"../../../../../miniconda3/lib/python3.7/site-packages/OneLoopLFVHD/roots_mpmath.py\", line 76:\u001b[0m\n",
      "\u001b[1m@jit()\n",
      "\u001b[1mdef x2(ma,M1,M2):\n",
      "\u001b[0m\u001b[1m^\u001b[0m\u001b[0m\n",
      "\u001b[0m\n",
      "  state.func_ir.loc))\n",
      "/home/moiseszm/miniconda3/lib/python3.7/site-packages/OneLoopLFVHD/LFVHDFeynG_mpmath.py:157: NumbaWarning: \u001b[1m\n",
      "Compilation is falling back to object mode WITH looplifting enabled because Function \"C0\" failed type inference due to: \u001b[1m\u001b[1mnon-precise type pyobject\u001b[0m\n",
      "\u001b[0m\u001b[1mDuring: typing of argument at /home/moiseszm/miniconda3/lib/python3.7/site-packages/OneLoopLFVHD/LFVHDFeynG_mpmath.py (159)\u001b[0m\n",
      "\u001b[1m\n",
      "File \"../../../../../miniconda3/lib/python3.7/site-packages/OneLoopLFVHD/LFVHDFeynG_mpmath.py\", line 159:\u001b[0m\n",
      "\u001b[1mdef C0(ma,M0,M1,M2):\n",
      "\u001b[1m    y0 = x0(ma,M0,M2)\n",
      "\u001b[0m    \u001b[1m^\u001b[0m\u001b[0m\n",
      "\u001b[0m\n",
      "  @jit\n",
      "/home/moiseszm/miniconda3/lib/python3.7/site-packages/numba/core/object_mode_passes.py:152: NumbaWarning: \u001b[1mFunction \"C0\" was compiled in object mode without forceobj=True.\n",
      "\u001b[1m\n",
      "File \"../../../../../miniconda3/lib/python3.7/site-packages/OneLoopLFVHD/LFVHDFeynG_mpmath.py\", line 158:\u001b[0m\n",
      "\u001b[1m@jit\n",
      "\u001b[1mdef C0(ma,M0,M1,M2):\n",
      "\u001b[0m\u001b[1m^\u001b[0m\u001b[0m\n",
      "\u001b[0m\n",
      "  state.func_ir.loc))\n",
      "/home/moiseszm/miniconda3/lib/python3.7/site-packages/numba/core/object_mode_passes.py:162: NumbaDeprecationWarning: \u001b[1m\n",
      "Fall-back from the nopython compilation path to the object mode compilation path has been detected, this is deprecated behaviour.\n",
      "\n",
      "For more information visit https://numba.pydata.org/numba-doc/latest/reference/deprecation.html#deprecation-of-object-mode-fall-back-behaviour-when-using-jit\n",
      "\u001b[1m\n",
      "File \"../../../../../miniconda3/lib/python3.7/site-packages/OneLoopLFVHD/LFVHDFeynG_mpmath.py\", line 158:\u001b[0m\n",
      "\u001b[1m@jit\n",
      "\u001b[1mdef C0(ma,M0,M1,M2):\n",
      "\u001b[0m\u001b[1m^\u001b[0m\u001b[0m\n",
      "\u001b[0m\n",
      "  state.func_ir.loc))\n",
      "/home/moiseszm/miniconda3/lib/python3.7/site-packages/OneLoopLFVHD/LFVHDFeynG_mpmath.py:30: NumbaWarning: \u001b[1m\n",
      "Compilation is falling back to object mode WITH looplifting enabled because Function \"x0\" failed type inference due to: \u001b[1m\u001b[1mnon-precise type pyobject\u001b[0m\n",
      "\u001b[0m\u001b[1mDuring: typing of argument at /home/moiseszm/miniconda3/lib/python3.7/site-packages/OneLoopLFVHD/LFVHDFeynG_mpmath.py (32)\u001b[0m\n",
      "\u001b[1m\n",
      "File \"../../../../../miniconda3/lib/python3.7/site-packages/OneLoopLFVHD/LFVHDFeynG_mpmath.py\", line 32:\u001b[0m\n",
      "\u001b[1mdef x0(ma,M0,M2):\n",
      "\u001b[1m    return (M2**2-M0**2)/ma**2\n",
      "\u001b[0m    \u001b[1m^\u001b[0m\u001b[0m\n",
      "\u001b[0m\n",
      "  @jit\n",
      "/home/moiseszm/miniconda3/lib/python3.7/site-packages/numba/core/object_mode_passes.py:152: NumbaWarning: \u001b[1mFunction \"x0\" was compiled in object mode without forceobj=True.\n",
      "\u001b[1m\n",
      "File \"../../../../../miniconda3/lib/python3.7/site-packages/OneLoopLFVHD/LFVHDFeynG_mpmath.py\", line 31:\u001b[0m\n",
      "\u001b[1m@jit\n",
      "\u001b[1mdef x0(ma,M0,M2):\n",
      "\u001b[0m\u001b[1m^\u001b[0m\u001b[0m\n",
      "\u001b[0m\n",
      "  state.func_ir.loc))\n",
      "/home/moiseszm/miniconda3/lib/python3.7/site-packages/numba/core/object_mode_passes.py:162: NumbaDeprecationWarning: \u001b[1m\n",
      "Fall-back from the nopython compilation path to the object mode compilation path has been detected, this is deprecated behaviour.\n",
      "\n",
      "For more information visit https://numba.pydata.org/numba-doc/latest/reference/deprecation.html#deprecation-of-object-mode-fall-back-behaviour-when-using-jit\n",
      "\u001b[1m\n",
      "File \"../../../../../miniconda3/lib/python3.7/site-packages/OneLoopLFVHD/LFVHDFeynG_mpmath.py\", line 31:\u001b[0m\n",
      "\u001b[1m@jit\n",
      "\u001b[1mdef x0(ma,M0,M2):\n",
      "\u001b[0m\u001b[1m^\u001b[0m\u001b[0m\n",
      "\u001b[0m\n",
      "  state.func_ir.loc))\n",
      "/home/moiseszm/miniconda3/lib/python3.7/site-packages/OneLoopLFVHD/LFVHDFeynG_mpmath.py:33: NumbaWarning: \u001b[1m\n",
      "Compilation is falling back to object mode WITH looplifting enabled because Function \"x3\" failed type inference due to: \u001b[1m\u001b[1mnon-precise type pyobject\u001b[0m\n",
      "\u001b[0m\u001b[1mDuring: typing of argument at /home/moiseszm/miniconda3/lib/python3.7/site-packages/OneLoopLFVHD/LFVHDFeynG_mpmath.py (35)\u001b[0m\n",
      "\u001b[1m\n",
      "File \"../../../../../miniconda3/lib/python3.7/site-packages/OneLoopLFVHD/LFVHDFeynG_mpmath.py\", line 35:\u001b[0m\n",
      "\u001b[1mdef x3(ma,M0,M1): \n",
      "\u001b[1m    return (-M0**2)/(M1**2-M0**2)#where(M1!=M0,(-M0**2)/(M1**2-M0**2),nan_to_num((-M0**2)/(M1**2-M0**2)))\n",
      "\u001b[0m    \u001b[1m^\u001b[0m\u001b[0m\n",
      "\u001b[0m\n",
      "  @jit\n",
      "/home/moiseszm/miniconda3/lib/python3.7/site-packages/numba/core/object_mode_passes.py:152: NumbaWarning: \u001b[1mFunction \"x3\" was compiled in object mode without forceobj=True.\n",
      "\u001b[1m\n",
      "File \"../../../../../miniconda3/lib/python3.7/site-packages/OneLoopLFVHD/LFVHDFeynG_mpmath.py\", line 34:\u001b[0m\n",
      "\u001b[1m@jit\n",
      "\u001b[1mdef x3(ma,M0,M1): \n",
      "\u001b[0m\u001b[1m^\u001b[0m\u001b[0m\n",
      "\u001b[0m\n",
      "  state.func_ir.loc))\n",
      "/home/moiseszm/miniconda3/lib/python3.7/site-packages/numba/core/object_mode_passes.py:162: NumbaDeprecationWarning: \u001b[1m\n",
      "Fall-back from the nopython compilation path to the object mode compilation path has been detected, this is deprecated behaviour.\n",
      "\n",
      "For more information visit https://numba.pydata.org/numba-doc/latest/reference/deprecation.html#deprecation-of-object-mode-fall-back-behaviour-when-using-jit\n",
      "\u001b[1m\n",
      "File \"../../../../../miniconda3/lib/python3.7/site-packages/OneLoopLFVHD/LFVHDFeynG_mpmath.py\", line 34:\u001b[0m\n",
      "\u001b[1m@jit\n",
      "\u001b[1mdef x3(ma,M0,M1): \n",
      "\u001b[0m\u001b[1m^\u001b[0m\u001b[0m\n",
      "\u001b[0m\n",
      "  state.func_ir.loc))\n",
      "/home/moiseszm/miniconda3/lib/python3.7/site-packages/OneLoopLFVHD/LFVHDFeynG_mpmath.py:170: NumbaWarning: \u001b[1m\n",
      "Compilation is falling back to object mode WITH looplifting enabled because Function \"C2\" failed type inference due to: \u001b[1m\u001b[1mnon-precise type pyobject\u001b[0m\n",
      "\u001b[0m\u001b[1mDuring: typing of argument at /home/moiseszm/miniconda3/lib/python3.7/site-packages/OneLoopLFVHD/LFVHDFeynG_mpmath.py (172)\u001b[0m\n",
      "\u001b[1m\n",
      "File \"../../../../../miniconda3/lib/python3.7/site-packages/OneLoopLFVHD/LFVHDFeynG_mpmath.py\", line 172:\u001b[0m\n",
      "\u001b[1mdef C2(ma,mj,M0,M1,M2):\n",
      "\u001b[1m    return ( (-1/ma**2)*(B2_0(ma,mj,M0,M2) - B12_0(ma,M1,M2) + (M1**2-M0**2)*C0(ma,M0,M1,M2)))\n",
      "\u001b[0m    \u001b[1m^\u001b[0m\u001b[0m\n",
      "\u001b[0m\n",
      "  @jit\n",
      "/home/moiseszm/miniconda3/lib/python3.7/site-packages/numba/core/object_mode_passes.py:152: NumbaWarning: \u001b[1mFunction \"C2\" was compiled in object mode without forceobj=True.\n",
      "\u001b[1m\n",
      "File \"../../../../../miniconda3/lib/python3.7/site-packages/OneLoopLFVHD/LFVHDFeynG_mpmath.py\", line 171:\u001b[0m\n",
      "\u001b[1m@jit\n",
      "\u001b[1mdef C2(ma,mj,M0,M1,M2):\n",
      "\u001b[0m\u001b[1m^\u001b[0m\u001b[0m\n",
      "\u001b[0m\n",
      "  state.func_ir.loc))\n",
      "/home/moiseszm/miniconda3/lib/python3.7/site-packages/numba/core/object_mode_passes.py:162: NumbaDeprecationWarning: \u001b[1m\n",
      "Fall-back from the nopython compilation path to the object mode compilation path has been detected, this is deprecated behaviour.\n",
      "\n",
      "For more information visit https://numba.pydata.org/numba-doc/latest/reference/deprecation.html#deprecation-of-object-mode-fall-back-behaviour-when-using-jit\n",
      "\u001b[1m\n",
      "File \"../../../../../miniconda3/lib/python3.7/site-packages/OneLoopLFVHD/LFVHDFeynG_mpmath.py\", line 171:\u001b[0m\n",
      "\u001b[1m@jit\n",
      "\u001b[1mdef C2(ma,mj,M0,M1,M2):\n",
      "\u001b[0m\u001b[1m^\u001b[0m\u001b[0m\n",
      "\u001b[0m\n",
      "  state.func_ir.loc))\n",
      "/home/moiseszm/miniconda3/lib/python3.7/site-packages/OneLoopLFVHD/LFVHDFeynG_mpmath.py:131: NumbaWarning: \u001b[1m\n",
      "Compilation is falling back to object mode WITH looplifting enabled because Function \"B2_0\" failed type inference due to: \u001b[1m\u001b[1mnon-precise type pyobject\u001b[0m\n",
      "\u001b[0m\u001b[1mDuring: typing of argument at /home/moiseszm/miniconda3/lib/python3.7/site-packages/OneLoopLFVHD/LFVHDFeynG_mpmath.py (133)\u001b[0m\n",
      "\u001b[1m\n",
      "File \"../../../../../miniconda3/lib/python3.7/site-packages/OneLoopLFVHD/LFVHDFeynG_mpmath.py\", line 133:\u001b[0m\n",
      "\u001b[1mdef B2_0(ma,mj,M0,M2):\n",
      "\u001b[1m    return b2_0np(ma,mj,M0,M2)\n",
      "\u001b[0m    \u001b[1m^\u001b[0m\u001b[0m\n",
      "\u001b[0m\n",
      "  @jit\n",
      "/home/moiseszm/miniconda3/lib/python3.7/site-packages/numba/core/object_mode_passes.py:152: NumbaWarning: \u001b[1mFunction \"B2_0\" was compiled in object mode without forceobj=True.\n",
      "\u001b[1m\n",
      "File \"../../../../../miniconda3/lib/python3.7/site-packages/OneLoopLFVHD/LFVHDFeynG_mpmath.py\", line 132:\u001b[0m\n",
      "\u001b[1m@jit\n",
      "\u001b[1mdef B2_0(ma,mj,M0,M2):\n",
      "\u001b[0m\u001b[1m^\u001b[0m\u001b[0m\n",
      "\u001b[0m\n",
      "  state.func_ir.loc))\n",
      "/home/moiseszm/miniconda3/lib/python3.7/site-packages/numba/core/object_mode_passes.py:162: NumbaDeprecationWarning: \u001b[1m\n",
      "Fall-back from the nopython compilation path to the object mode compilation path has been detected, this is deprecated behaviour.\n",
      "\n",
      "For more information visit https://numba.pydata.org/numba-doc/latest/reference/deprecation.html#deprecation-of-object-mode-fall-back-behaviour-when-using-jit\n",
      "\u001b[1m\n",
      "File \"../../../../../miniconda3/lib/python3.7/site-packages/OneLoopLFVHD/LFVHDFeynG_mpmath.py\", line 132:\u001b[0m\n",
      "\u001b[1m@jit\n",
      "\u001b[1mdef B2_0(ma,mj,M0,M2):\n",
      "\u001b[0m\u001b[1m^\u001b[0m\u001b[0m\n",
      "\u001b[0m\n",
      "  state.func_ir.loc))\n",
      "/home/moiseszm/miniconda3/lib/python3.7/site-packages/OneLoopLFVHD/LFVHDFeynG_mpmath.py:106: NumbaWarning: \u001b[1m\n",
      "Compilation is falling back to object mode WITH looplifting enabled because Function \"b2_0np\" failed type inference due to: \u001b[1mUntyped global name 'log':\u001b[0m \u001b[1m\u001b[1mCannot determine Numba type of <class 'method'>\u001b[0m\n",
      "\u001b[1m\n",
      "File \"../../../../../miniconda3/lib/python3.7/site-packages/OneLoopLFVHD/LFVHDFeynG_mpmath.py\", line 108:\u001b[0m\n",
      "\u001b[1mdef b2_0np(ma,mj,M0,M2):\n",
      "\u001b[1m    return -log(M2**2)-f02sum(ma,mj,M0,M2)\n",
      "\u001b[0m    \u001b[1m^\u001b[0m\u001b[0m\n",
      "\u001b[0m\u001b[0m\n",
      "  @jit\n",
      "/home/moiseszm/miniconda3/lib/python3.7/site-packages/numba/core/object_mode_passes.py:152: NumbaWarning: \u001b[1mFunction \"b2_0np\" was compiled in object mode without forceobj=True.\n",
      "\u001b[1m\n",
      "File \"../../../../../miniconda3/lib/python3.7/site-packages/OneLoopLFVHD/LFVHDFeynG_mpmath.py\", line 107:\u001b[0m\n",
      "\u001b[1m@jit\n",
      "\u001b[1mdef b2_0np(ma,mj,M0,M2):\n",
      "\u001b[0m\u001b[1m^\u001b[0m\u001b[0m\n",
      "\u001b[0m\n",
      "  state.func_ir.loc))\n",
      "/home/moiseszm/miniconda3/lib/python3.7/site-packages/numba/core/object_mode_passes.py:162: NumbaDeprecationWarning: \u001b[1m\n",
      "Fall-back from the nopython compilation path to the object mode compilation path has been detected, this is deprecated behaviour.\n",
      "\n",
      "For more information visit https://numba.pydata.org/numba-doc/latest/reference/deprecation.html#deprecation-of-object-mode-fall-back-behaviour-when-using-jit\n",
      "\u001b[1m\n",
      "File \"../../../../../miniconda3/lib/python3.7/site-packages/OneLoopLFVHD/LFVHDFeynG_mpmath.py\", line 107:\u001b[0m\n",
      "\u001b[1m@jit\n",
      "\u001b[1mdef b2_0np(ma,mj,M0,M2):\n",
      "\u001b[0m\u001b[1m^\u001b[0m\u001b[0m\n",
      "\u001b[0m\n",
      "  state.func_ir.loc))\n",
      "/home/moiseszm/miniconda3/lib/python3.7/site-packages/OneLoopLFVHD/LFVHDFeynG_mpmath.py:81: NumbaWarning: \u001b[1m\n",
      "Compilation is falling back to object mode WITH looplifting enabled because Function \"f02sum\" failed type inference due to: \u001b[1m\u001b[1mnon-precise type pyobject\u001b[0m\n",
      "\u001b[0m\u001b[1mDuring: typing of argument at /home/moiseszm/miniconda3/lib/python3.7/site-packages/OneLoopLFVHD/LFVHDFeynG_mpmath.py (83)\u001b[0m\n",
      "\u001b[1m\n",
      "File \"../../../../../miniconda3/lib/python3.7/site-packages/OneLoopLFVHD/LFVHDFeynG_mpmath.py\", line 83:\u001b[0m\n",
      "\u001b[1mdef f02sum(ma,mj,M0,M2):\n",
      "\u001b[1m    out = 0\n",
      "\u001b[0m    \u001b[1m^\u001b[0m\u001b[0m\n",
      "\u001b[0m\n",
      "  @jit\n",
      "/home/moiseszm/miniconda3/lib/python3.7/site-packages/OneLoopLFVHD/LFVHDFeynG_mpmath.py:81: NumbaWarning: \u001b[1m\n",
      "Compilation is falling back to object mode WITHOUT looplifting enabled because Function \"f02sum\" failed type inference due to: \u001b[1m\u001b[1mCannot determine Numba type of <class 'numba.core.dispatcher.LiftedLoop'>\u001b[0m\n",
      "\u001b[1m\n",
      "File \"../../../../../miniconda3/lib/python3.7/site-packages/OneLoopLFVHD/LFVHDFeynG_mpmath.py\", line 84:\u001b[0m\n",
      "\u001b[1mdef f02sum(ma,mj,M0,M2):\n",
      "    <source elided>\n",
      "    out = 0\n",
      "\u001b[1m    for yi2j in (y21np,y22np):\n",
      "\u001b[0m    \u001b[1m^\u001b[0m\u001b[0m\n",
      "\u001b[0m\u001b[0m\n",
      "  @jit\n",
      "/home/moiseszm/miniconda3/lib/python3.7/site-packages/numba/core/object_mode_passes.py:152: NumbaWarning: \u001b[1mFunction \"f02sum\" was compiled in object mode without forceobj=True, but has lifted loops.\n",
      "\u001b[1m\n",
      "File \"../../../../../miniconda3/lib/python3.7/site-packages/OneLoopLFVHD/LFVHDFeynG_mpmath.py\", line 83:\u001b[0m\n",
      "\u001b[1mdef f02sum(ma,mj,M0,M2):\n",
      "\u001b[1m    out = 0\n",
      "\u001b[0m    \u001b[1m^\u001b[0m\u001b[0m\n",
      "\u001b[0m\n",
      "  state.func_ir.loc))\n",
      "/home/moiseszm/miniconda3/lib/python3.7/site-packages/numba/core/object_mode_passes.py:162: NumbaDeprecationWarning: \u001b[1m\n",
      "Fall-back from the nopython compilation path to the object mode compilation path has been detected, this is deprecated behaviour.\n",
      "\n",
      "For more information visit https://numba.pydata.org/numba-doc/latest/reference/deprecation.html#deprecation-of-object-mode-fall-back-behaviour-when-using-jit\n",
      "\u001b[1m\n",
      "File \"../../../../../miniconda3/lib/python3.7/site-packages/OneLoopLFVHD/LFVHDFeynG_mpmath.py\", line 83:\u001b[0m\n",
      "\u001b[1mdef f02sum(ma,mj,M0,M2):\n",
      "\u001b[1m    out = 0\n",
      "\u001b[0m    \u001b[1m^\u001b[0m\u001b[0m\n",
      "\u001b[0m\n",
      "  state.func_ir.loc))\n",
      "/home/moiseszm/miniconda3/lib/python3.7/site-packages/OneLoopLFVHD/LFVHDFeynG_mpmath.py:81: NumbaWarning: \u001b[1m\n",
      "Compilation is falling back to object mode WITHOUT looplifting enabled because Function \"f02sum\" failed type inference due to: \u001b[1m\u001b[1mnon-precise type pyobject\u001b[0m\n",
      "\u001b[0m\u001b[1mDuring: typing of argument at /home/moiseszm/miniconda3/lib/python3.7/site-packages/OneLoopLFVHD/LFVHDFeynG_mpmath.py (84)\u001b[0m\n",
      "\u001b[1m\n",
      "File \"../../../../../miniconda3/lib/python3.7/site-packages/OneLoopLFVHD/LFVHDFeynG_mpmath.py\", line 84:\u001b[0m\n",
      "\u001b[1mdef f02sum(ma,mj,M0,M2):\n",
      "    <source elided>\n",
      "    out = 0\n",
      "\u001b[1m    for yi2j in (y21np,y22np):\n",
      "\u001b[0m    \u001b[1m^\u001b[0m\u001b[0m\n",
      "\u001b[0m\n",
      "  @jit\n",
      "/home/moiseszm/miniconda3/lib/python3.7/site-packages/numba/core/object_mode_passes.py:152: NumbaWarning: \u001b[1mFunction \"f02sum\" was compiled in object mode without forceobj=True.\n",
      "\u001b[1m\n",
      "File \"../../../../../miniconda3/lib/python3.7/site-packages/OneLoopLFVHD/LFVHDFeynG_mpmath.py\", line 84:\u001b[0m\n",
      "\u001b[1mdef f02sum(ma,mj,M0,M2):\n",
      "    <source elided>\n",
      "    out = 0\n",
      "\u001b[1m    for yi2j in (y21np,y22np):\n",
      "\u001b[0m    \u001b[1m^\u001b[0m\u001b[0m\n",
      "\u001b[0m\n",
      "  state.func_ir.loc))\n",
      "/home/moiseszm/miniconda3/lib/python3.7/site-packages/numba/core/object_mode_passes.py:162: NumbaDeprecationWarning: \u001b[1m\n",
      "Fall-back from the nopython compilation path to the object mode compilation path has been detected, this is deprecated behaviour.\n",
      "\n",
      "For more information visit https://numba.pydata.org/numba-doc/latest/reference/deprecation.html#deprecation-of-object-mode-fall-back-behaviour-when-using-jit\n",
      "\u001b[1m\n",
      "File \"../../../../../miniconda3/lib/python3.7/site-packages/OneLoopLFVHD/LFVHDFeynG_mpmath.py\", line 84:\u001b[0m\n",
      "\u001b[1mdef f02sum(ma,mj,M0,M2):\n",
      "    <source elided>\n",
      "    out = 0\n",
      "\u001b[1m    for yi2j in (y21np,y22np):\n",
      "\u001b[0m    \u001b[1m^\u001b[0m\u001b[0m\n",
      "\u001b[0m\n",
      "  state.func_ir.loc))\n",
      "/home/moiseszm/miniconda3/lib/python3.7/site-packages/OneLoopLFVHD/roots_mpmath.py:105: NumbaWarning: \u001b[1m\n",
      "Compilation is falling back to object mode WITH looplifting enabled because Function \"y21\" failed type inference due to: \u001b[1mUntyped global name 'mpf':\u001b[0m \u001b[1m\u001b[1mCannot determine Numba type of <class 'type'>\u001b[0m\n",
      "\u001b[1m\n",
      "File \"../../../../../miniconda3/lib/python3.7/site-packages/OneLoopLFVHD/roots_mpmath.py\", line 107:\u001b[0m\n",
      "\u001b[1mdef y21(ma,mj,M0,M2):\n",
      "\u001b[1m    ma = mpf(ma)\n",
      "\u001b[0m    \u001b[1m^\u001b[0m\u001b[0m\n",
      "\u001b[0m\u001b[0m\n",
      "  @jit()\n",
      "/home/moiseszm/miniconda3/lib/python3.7/site-packages/numba/core/object_mode_passes.py:152: NumbaWarning: \u001b[1mFunction \"y21\" was compiled in object mode without forceobj=True.\n",
      "\u001b[1m\n",
      "File \"../../../../../miniconda3/lib/python3.7/site-packages/OneLoopLFVHD/roots_mpmath.py\", line 106:\u001b[0m\n",
      "\u001b[1m@jit()\n",
      "\u001b[1mdef y21(ma,mj,M0,M2):\n",
      "\u001b[0m\u001b[1m^\u001b[0m\u001b[0m\n",
      "\u001b[0m\n",
      "  state.func_ir.loc))\n",
      "/home/moiseszm/miniconda3/lib/python3.7/site-packages/numba/core/object_mode_passes.py:162: NumbaDeprecationWarning: \u001b[1m\n",
      "Fall-back from the nopython compilation path to the object mode compilation path has been detected, this is deprecated behaviour.\n",
      "\n",
      "For more information visit https://numba.pydata.org/numba-doc/latest/reference/deprecation.html#deprecation-of-object-mode-fall-back-behaviour-when-using-jit\n",
      "\u001b[1m\n",
      "File \"../../../../../miniconda3/lib/python3.7/site-packages/OneLoopLFVHD/roots_mpmath.py\", line 106:\u001b[0m\n",
      "\u001b[1m@jit()\n",
      "\u001b[1mdef y21(ma,mj,M0,M2):\n",
      "\u001b[0m\u001b[1m^\u001b[0m\u001b[0m\n",
      "\u001b[0m\n",
      "  state.func_ir.loc))\n",
      "/home/moiseszm/miniconda3/lib/python3.7/site-packages/OneLoopLFVHD/roots_mpmath.py:113: NumbaWarning: \u001b[1m\n",
      "Compilation is falling back to object mode WITH looplifting enabled because Function \"y22\" failed type inference due to: \u001b[1mUntyped global name 'mpf':\u001b[0m \u001b[1m\u001b[1mCannot determine Numba type of <class 'type'>\u001b[0m\n",
      "\u001b[1m\n",
      "File \"../../../../../miniconda3/lib/python3.7/site-packages/OneLoopLFVHD/roots_mpmath.py\", line 115:\u001b[0m\n",
      "\u001b[1mdef y22(ma,mj,M0,M2):\n",
      "\u001b[1m    ma = mpf(ma)\n",
      "\u001b[0m    \u001b[1m^\u001b[0m\u001b[0m\n",
      "\u001b[0m\u001b[0m\n",
      "  @jit()\n",
      "/home/moiseszm/miniconda3/lib/python3.7/site-packages/numba/core/object_mode_passes.py:152: NumbaWarning: \u001b[1mFunction \"y22\" was compiled in object mode without forceobj=True.\n",
      "\u001b[1m\n",
      "File \"../../../../../miniconda3/lib/python3.7/site-packages/OneLoopLFVHD/roots_mpmath.py\", line 114:\u001b[0m\n",
      "\u001b[1m@jit()\n",
      "\u001b[1mdef y22(ma,mj,M0,M2):\n",
      "\u001b[0m\u001b[1m^\u001b[0m\u001b[0m\n",
      "\u001b[0m\n",
      "  state.func_ir.loc))\n",
      "/home/moiseszm/miniconda3/lib/python3.7/site-packages/numba/core/object_mode_passes.py:162: NumbaDeprecationWarning: \u001b[1m\n",
      "Fall-back from the nopython compilation path to the object mode compilation path has been detected, this is deprecated behaviour.\n",
      "\n",
      "For more information visit https://numba.pydata.org/numba-doc/latest/reference/deprecation.html#deprecation-of-object-mode-fall-back-behaviour-when-using-jit\n",
      "\u001b[1m\n",
      "File \"../../../../../miniconda3/lib/python3.7/site-packages/OneLoopLFVHD/roots_mpmath.py\", line 114:\u001b[0m\n",
      "\u001b[1m@jit()\n",
      "\u001b[1mdef y22(ma,mj,M0,M2):\n",
      "\u001b[0m\u001b[1m^\u001b[0m\u001b[0m\n",
      "\u001b[0m\n",
      "  state.func_ir.loc))\n",
      "<ipython-input-45-25adf42a0fbd>:14: NumbaWarning: \u001b[1m\n",
      "Compilation is falling back to object mode WITH looplifting enabled because Function \"sumTwoR\" failed type inference due to: \u001b[1mUntyped global name 'm4':\u001b[0m \u001b[1m\u001b[1mCannot determine Numba type of <class 'function'>\u001b[0m\n",
      "\u001b[1m\n",
      "File \"<ipython-input-45-25adf42a0fbd>\", line 17:\u001b[0m\n",
      "\u001b[1mdef sumTwoR(m6,ARab,a,b):\n",
      "    <source elided>\n",
      "    AR = 0  \n",
      "\u001b[1m    mnk = (m1,m2,m3,m4(m6),m5(m6),m6)\n",
      "\u001b[0m    \u001b[1m^\u001b[0m\u001b[0m\n",
      "\u001b[0m\u001b[0m\n",
      "  @jit(cache=True)\n",
      "<ipython-input-45-25adf42a0fbd>:14: NumbaWarning: \u001b[1m\n",
      "Compilation is falling back to object mode WITHOUT looplifting enabled because Function \"sumTwoR\" failed type inference due to: \u001b[1mUntyped global name 'm4':\u001b[0m \u001b[1m\u001b[1mCannot determine Numba type of <class 'function'>\u001b[0m\n",
      "\u001b[1m\n",
      "File \"<ipython-input-45-25adf42a0fbd>\", line 17:\u001b[0m\n",
      "\u001b[1mdef sumTwoR(m6,ARab,a,b):\n",
      "    <source elided>\n",
      "    AR = 0  \n",
      "\u001b[1m    mnk = (m1,m2,m3,m4(m6),m5(m6),m6)\n",
      "\u001b[0m    \u001b[1m^\u001b[0m\u001b[0m\n",
      "\u001b[0m\u001b[0m\n",
      "  @jit(cache=True)\n",
      "/home/moiseszm/miniconda3/lib/python3.7/site-packages/numba/core/object_mode_passes.py:152: NumbaWarning: \u001b[1mFunction \"sumTwoR\" was compiled in object mode without forceobj=True, but has lifted loops.\n",
      "\u001b[1m\n",
      "File \"<ipython-input-45-25adf42a0fbd>\", line 16:\u001b[0m\n",
      "\u001b[1mdef sumTwoR(m6,ARab,a,b):\n",
      "\u001b[1m    AR = 0  \n",
      "\u001b[0m    \u001b[1m^\u001b[0m\u001b[0m\n",
      "\u001b[0m\n",
      "  state.func_ir.loc))\n",
      "/home/moiseszm/miniconda3/lib/python3.7/site-packages/numba/core/object_mode_passes.py:162: NumbaDeprecationWarning: \u001b[1m\n",
      "Fall-back from the nopython compilation path to the object mode compilation path has been detected, this is deprecated behaviour.\n",
      "\n",
      "For more information visit https://numba.pydata.org/numba-doc/latest/reference/deprecation.html#deprecation-of-object-mode-fall-back-behaviour-when-using-jit\n",
      "\u001b[1m\n",
      "File \"<ipython-input-45-25adf42a0fbd>\", line 16:\u001b[0m\n",
      "\u001b[1mdef sumTwoR(m6,ARab,a,b):\n",
      "\u001b[1m    AR = 0  \n",
      "\u001b[0m    \u001b[1m^\u001b[0m\u001b[0m\n",
      "\u001b[0m\n",
      "  state.func_ir.loc))\n",
      "<ipython-input-45-25adf42a0fbd>:14: NumbaWarning: \u001b[1mCannot cache compiled function \"sumTwoR\" as it uses lifted code\u001b[0m\n",
      "  @jit(cache=True)\n",
      "<ipython-input-45-25adf42a0fbd>:14: NumbaWarning: \u001b[1m\n",
      "Compilation is falling back to object mode WITHOUT looplifting enabled because Function \"sumTwoR\" failed type inference due to: \u001b[1mUntyped global name 'Unu':\u001b[0m \u001b[1m\u001b[1mCannot determine Numba type of <class 'function'>\u001b[0m\n",
      "\u001b[1m\n",
      "File \"<ipython-input-45-25adf42a0fbd>\", line 20:\u001b[0m\n",
      "\u001b[1mdef sumTwoR(m6,ARab,a,b):\n",
      "    <source elided>\n",
      "        for j in range(1,7):\n",
      "\u001b[1m            R = ARab(mnk[i-1],mnk[j-i],Unu(mnk[0],mnk[-1],b,j),np.conjugate(Unu(mnk[0],mnk[-1],a,i)),\n",
      "\u001b[0m            \u001b[1m^\u001b[0m\u001b[0m\n",
      "\u001b[0m\u001b[0m\n",
      "  @jit(cache=True)\n",
      "/home/moiseszm/miniconda3/lib/python3.7/site-packages/numba/core/object_mode_passes.py:152: NumbaWarning: \u001b[1mFunction \"sumTwoR\" was compiled in object mode without forceobj=True.\n",
      "\u001b[1m\n",
      "File \"<ipython-input-45-25adf42a0fbd>\", line 18:\u001b[0m\n",
      "\u001b[1mdef sumTwoR(m6,ARab,a,b):\n",
      "    <source elided>\n",
      "    mnk = (m1,m2,m3,m4(m6),m5(m6),m6)\n",
      "\u001b[1m    for i in range(1,7):\n",
      "\u001b[0m    \u001b[1m^\u001b[0m\u001b[0m\n",
      "\u001b[0m\n",
      "  state.func_ir.loc))\n",
      "/home/moiseszm/miniconda3/lib/python3.7/site-packages/numba/core/object_mode_passes.py:162: NumbaDeprecationWarning: \u001b[1m\n",
      "Fall-back from the nopython compilation path to the object mode compilation path has been detected, this is deprecated behaviour.\n",
      "\n",
      "For more information visit https://numba.pydata.org/numba-doc/latest/reference/deprecation.html#deprecation-of-object-mode-fall-back-behaviour-when-using-jit\n",
      "\u001b[1m\n",
      "File \"<ipython-input-45-25adf42a0fbd>\", line 18:\u001b[0m\n",
      "\u001b[1mdef sumTwoR(m6,ARab,a,b):\n",
      "    <source elided>\n",
      "    mnk = (m1,m2,m3,m4(m6),m5(m6),m6)\n",
      "\u001b[1m    for i in range(1,7):\n",
      "\u001b[0m    \u001b[1m^\u001b[0m\u001b[0m\n",
      "\u001b[0m\n",
      "  state.func_ir.loc))\n"
     ]
    }
   ],
   "source": [
    "YW23 = np.array([Γhlilj(ALtot23(m6),ARtot23(m6),valores[mh],ml[2],ml[3]) for m6 in m6np])\n",
    "YW32 = np.array([Γhlilj(ALtot32(m6),ARtot32(m6),valores[mh],ml[3],ml[2]) for m6 in m6np])\n",
    "\n",
    "YW13 = np.array([Γhlilj(ALtot13(m6),ARtot13(m6),valores[mh],ml[1],ml[3]) for m6 in m6np])\n",
    "YW31 = np.array([Γhlilj(ALtot31(m6),ARtot31(m6),valores[mh],ml[3],ml[1]) for m6 in m6np])\n",
    "\n",
    "YW12 = np.array([Γhlilj(ALtot12(m6),ARtot12(m6),valores[mh],ml[1],ml[2]) for m6 in m6np])\n",
    "YW21 = np.array([Γhlilj(ALtot21(m6),ARtot21(m6),valores[mh],ml[2],ml[1]) for m6 in m6np])"
   ]
  },
  {
   "cell_type": "code",
   "execution_count": 52,
   "metadata": {},
   "outputs": [],
   "source": [
    "Wtot = YW23 + YW13 + YW12 + 0.0032 + YW32 + YW31 + YW21"
   ]
  },
  {
   "cell_type": "code",
   "execution_count": 53,
   "metadata": {},
   "outputs": [
    {
     "data": {
      "text/plain": [
       "<matplotlib.legend.Legend at 0x7fce04a2ded0>"
      ]
     },
     "execution_count": 53,
     "metadata": {},
     "output_type": "execute_result"
    },
    {
     "data": {
      "image/png": "[encoded data removed]",
      "text/plain": [
       "<Figure size 1080x576 with 1 Axes>"
      ]
     },
     "metadata": {
      "needs_background": "light"
     },
     "output_type": "display_data"
    }
   ],
   "source": [
    "plt.figure(figsize=(15,8))\n",
    "plt.loglog(np.real(m6np),(YW23 + YW32)/Wtot,label='a = 2,b = 3')\n",
    "plt.loglog(np.real(m6np),(YW13 + YW31)/Wtot,label='a = 1,b = 3')\n",
    "plt.loglog(np.real(m6np),(YW12 + YW21)/Wtot,label='a = 1,b = 2')\n",
    "plt.legend()"
   ]
  },
  {
   "cell_type": "code",
   "execution_count": 38,
   "metadata": {},
   "outputs": [],
   "source": [
    "import pandas as pd"
   ]
  },
  {
   "cell_type": "code",
   "execution_count": 46,
   "metadata": {},
   "outputs": [],
   "source": [
    "df = pd.DataFrame({'m6':m6np,'Whl2l3':YW23,'Whl3l2':YW32,'Whl1l3':YW13,'Whl3l1':YW31,\n",
    "                   'Whl1l2':YW12,'Whl2l1':YW21})"
   ]
  },
  {
   "cell_type": "code",
   "execution_count": 47,
   "metadata": {},
   "outputs": [],
   "source": [
    "df.to_csv('LFVHD.txt',sep='\\t')"
   ]
  },
  {
   "cell_type": "code",
   "execution_count": 48,
   "metadata": {},
   "outputs": [
    {
     "data": {
      "text/plain": [
       "[<matplotlib.lines.Line2D at 0x7f6160ba3d90>]"
      ]
     },
     "execution_count": 48,
     "metadata": {},
     "output_type": "execute_result"
    },
    {
     "data": {
      "image/png": "[encoded data removed]",
      "text/plain": [
       "<Figure size 432x288 with 1 Axes>"
      ]
     },
     "metadata": {
      "needs_background": "light"
     },
     "output_type": "display_data"
    }
   ],
   "source": [
    "#df.plot(x='m6',y='Whl1l2')\n",
    "plt.plot(np.array(list(map(mpf,df['m6']))))"
   ]
  },
  {
   "cell_type": "markdown",
   "metadata": {},
   "source": [
    "Adding Higgs decays to heavy neutrinos"
   ]
  },
  {
   "cell_type": "code",
   "execution_count": 120,
   "metadata": {},
   "outputs": [],
   "source": [
    "no_nan = lambda x: not mp.isnan(x) \n",
    "cond_nan = np.array(list(map(no_nan,BR23)))"
   ]
  }
 ],
 "metadata": {
  "kernelspec": {
   "display_name": "Python 3",
   "language": "python",
   "name": "python3"
  },
  "language_info": {
   "codemirror_mode": {
    "name": "ipython",
    "version": 3
   },
   "file_extension": ".py",
   "mimetype": "text/x-python",
   "name": "python",
   "nbconvert_exporter": "python",
   "pygments_lexer": "ipython3",
   "version": "3.7.6"
  }
 },
 "nbformat": 4,
 "nbformat_minor": 4
}
