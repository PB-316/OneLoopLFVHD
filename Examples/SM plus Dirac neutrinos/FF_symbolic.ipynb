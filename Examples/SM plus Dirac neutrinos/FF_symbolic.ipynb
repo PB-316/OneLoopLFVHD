{
 "cells": [
  {
   "cell_type": "markdown",
   "metadata": {},
   "source": [
    "# LFV Higgs decays in SM plus 3 right-handed Dirac neutrinos"
   ]
  },
  {
   "cell_type": "markdown",
   "metadata": {},
   "source": [
    "In this model the couplings that allows LFVHD are given by [Lepton flavor violating Higgs boson decays in seesaw models: New discussions](https://inspirehep.net/files/b569c392f2240d487f9731316b2d5ffc)\n",
    "\n",
    "| Vertex|coupling&nbsp;&nbsp;&nbsp;&nbsp;&nbsp;&nbsp;&nbsp;&nbsp;&nbsp;&nbsp;&nbsp;&nbsp;&nbsp;&nbsp;&nbsp;&nbsp;&nbsp;&nbsp;&nbsp;&nbsp;&nbsp;&nbsp;&nbsp;&nbsp;&nbsp;&nbsp;&nbsp;&nbsp;&nbsp;&nbsp;&nbsp;&nbsp;&nbsp;&nbsp;&nbsp;&nbsp;&nbsp;&nbsp;&nbsp;&nbsp;&nbsp;&nbsp;&nbsp;|Vertex|coupling&nbsp;&nbsp;&nbsp;&nbsp;&nbsp;&nbsp;&nbsp;&nbsp;&nbsp;&nbsp;&nbsp;&nbsp;&nbsp;&nbsp;&nbsp;&nbsp;&nbsp;&nbsp;&nbsp;&nbsp;&nbsp;&nbsp;&nbsp;&nbsp;&nbsp;&nbsp;&nbsp;&nbsp;&nbsp;&nbsp;&nbsp;&nbsp;&nbsp;&nbsp;&nbsp;&nbsp;&nbsp;&nbsp;&nbsp;&nbsp;&nbsp;&nbsp;&nbsp;|\n",
    "|-------------------------------------------------|------------------------------------------------------------------------------------------------------------------------------|------------------------------------------------------|---------------------------------------------------------------------------------------------------------------------------------|\n",
    "|$h W^{+\\mu} W^{-\\nu}$|$i g m_{W} g_{\\mu \\nu}$|$h G_{W}^{+} G_{W}^{-}$|$\\frac{-igm_h^2}{2 m_W}$|\n",
    "|$h G_{W}^{+} {W}^{-\\mu}$|$\\frac{ig}{2}(p_{+}- p_0)_{\\mu}$|$h G_{W}^{-} W^{+\\mu}$|$\\frac{i g}{2}\\left(p_{0}-p_{-}\\right)_{\\mu}$|\n",
    "|$\\bar{n}_{i} e_{a} W_{\\mu}^{+}$|$\\frac{i g}{\\sqrt{2}} U_{a i}^{\\nu} \\gamma^{\\mu} P_{L}$|$\\overline{e_{a}} n_{j} W_{\\mu}^{-}$|$\\frac{i g}{\\sqrt{2}} U_{a j}^{\\nu *} \\gamma^{\\mu} P_{L}$|\n",
    "|$\\bar{n}_{i} e_{a} G_{W}^{+}$|$-\\frac{i g}{\\sqrt{2} m_{W}} U_{a i}^{\\nu}\\left(m_{e_{a}} P_{R}-m_{n, i} P_{L}\\right)$|$\\overline{e_{a}} n_{j} G_{W}^{-}$|$-\\frac{i g}{\\sqrt{2} m_{W}} U_{a j}^{\\nu *}\\left(m_{e_{a}} P_{L}-m_{n, j} P_{R}\\right)$|\n",
    "|$h\\overline{n_i}n_i$|$\\frac{-ig m_{n_i}}{2 m_W}$|$h\\overline{e_a}e_a$|$\\frac{-ig m_{e_a}}{2 m_W}$|"
   ]
  },
  {
   "cell_type": "markdown",
   "metadata": {},
   "source": [
    "Because of these interactions 10 diagrams contributes to LFVHD in this model. All of them are summarized in the next table:\n",
    "\n",
    "|No. |Structure   | $P_0$ | $P_1$ | $P_2$ |\n",
    "|:------------:|:-------------:|:--------:|:---------:|:----------:|\n",
    "|no | SFF| $G_W$ | $\\overline{n}_i$ | $n_j$  |\n",
    "|no | VFF| $W$ |$\\overline{n}_i$ |  $n_j$  |\n",
    "|3 | FSS| $n_i$  |$G_W$ |  $G_W$  |\n",
    "|4 | FVS| $n_i$  |$W$ |  $G_W$ |\n",
    "|5 | FSV| $n_i$  |$G_W$ |  $W$  |\n",
    "|6 | FVV| $n_i$  |$W$ |  $W$ |\n",
    "|7 | FV |$n_i$ |$W$ | --- |\n",
    "|8 | FS|$n_i$  |$G_W$ |  ---  |\n",
    "|9 | VF |$n_i$  | ---  | $W$ |\n",
    "|10 | SF |$n_i$  | --- |  $G_W$  |\n"
   ]
  },
  {
   "cell_type": "markdown",
   "metadata": {},
   "source": [
    "We will follow 6 main steps to calculates the form factors to the 10 diagrams, as follows\n",
    " 1. Define the symbolic variables like $g$, masses, indexes, etc.\n",
    " 2. Create the vertexes representing each interaction.\n",
    " 3. Create the Diagrams.\n",
    " 4. Obtain form factors and the divergencies\n",
    " 5. Handle the divergencies."
   ]
  },
  {
   "cell_type": "markdown",
   "metadata": {},
   "source": [
    "## Define symbolic variables"
   ]
  },
  {
   "cell_type": "markdown",
   "metadata": {},
   "source": [
    "Importing sympy functions"
   ]
  },
  {
   "cell_type": "code",
   "execution_count": 1,
   "metadata": {},
   "outputs": [],
   "source": [
    "from sympy import symbols, init_printing, conjugate,I,pi,IndexedBase,sqrt,Add,simplify,factor,conjugate\n",
    "init_printing()"
   ]
  },
  {
   "cell_type": "markdown",
   "metadata": {},
   "source": [
    "**Defining symbolic variables**"
   ]
  },
  {
   "cell_type": "code",
   "execution_count": 2,
   "metadata": {},
   "outputs": [],
   "source": [
    "g = symbols('g',positive=True)\n",
    "mW,mG = symbols('m_W,m_G',positive=True)\n",
    "\n",
    "\n",
    "Uν = IndexedBase(r'{{U^\\nu}}')\n",
    "Uνc = IndexedBase(r'{{U^{\\nu *}}}')\n",
    "mn = IndexedBase(r'{{m_n}}')\n",
    "# C = IndexedBase(r'C')\n",
    "# Cc = IndexedBase(r'{{C^*}}')\n",
    "a,b,i = symbols('a,b,i',integer=True)"
   ]
  },
  {
   "cell_type": "markdown",
   "metadata": {},
   "source": [
    "**Assigning masses of initial and final particles**"
   ]
  },
  {
   "cell_type": "code",
   "execution_count": 3,
   "metadata": {},
   "outputs": [],
   "source": [
    "import OneLoopLFVHD as lfvhd"
   ]
  },
  {
   "cell_type": "code",
   "execution_count": 4,
   "metadata": {},
   "outputs": [
    {
     "data": {
      "image/png": "[encoded data removed]",
      "text/latex": [
       "$\\displaystyle \\left\\{ a : m_{i}, \\  b : m_{j}\\right\\}$"
      ],
      "text/plain": [
       "{a: mᵢ, b: m_j}"
      ]
     },
     "execution_count": 4,
     "metadata": {},
     "output_type": "execute_result"
    }
   ],
   "source": [
    "mh = lfvhd.ma\n",
    "me = {a:lfvhd.mi,b:lfvhd.mj}\n",
    "me"
   ]
  },
  {
   "cell_type": "markdown",
   "metadata": {},
   "source": [
    "## Defining vertexes"
   ]
  },
  {
   "cell_type": "code",
   "execution_count": 5,
   "metadata": {},
   "outputs": [],
   "source": [
    "vertexhWW = lfvhd.VertexHVV(I*g*mW)\n",
    "vertexhGG = lfvhd.VertexHSS((-I*g*mh**2)/(2*mW))\n",
    "\n",
    "vertexhWG = lfvhd.VertexHVpSm(I*g/2)\n",
    "vertexhGW = lfvhd.VertexHSpVm(I*g/2)\n",
    "\n",
    "vertexneWu =lambda i,a: lfvhd.VertexVFF(0,I*g/sqrt(2)*Uν[a,i])\n",
    "vertexenWd =lambda j,b: lfvhd.VertexVFF(0,I*g/sqrt(2)*Uνc[b,j])\n",
    "\n",
    "vertexneGu = lambda i,a: lfvhd.VertexSFF((-I*g)/(sqrt(2)*mW)*me[a]*Uν[a,i],\n",
    "                                         (I*g)/(sqrt(2)*mW)*mn[i]*Uν[a,i])\n",
    "\n",
    "vertexenGd = lambda j,b: lfvhd.VertexSFF((I*g)/(sqrt(2)*mW)*mn[j]*Uνc[b,j],\n",
    "                                         (-I*g)/(sqrt(2)*mW)*me[b]*Uνc[b,j])\n",
    "\n",
    "vertexhnn = lambda i,j: lfvhd.VertexHF0F0((-I*g)/(2*mW)*mn[i],(-I*g)/(2*mW)*mn[i])\n",
    "\n",
    "vertexhee = lambda a:lfvhd.VertexHF0F0((-I*g*me[a])/(2*mW),(-I*g*me[a])/(2*mW))"
   ]
  },
  {
   "cell_type": "markdown",
   "metadata": {},
   "source": [
    "## Create the diagrams"
   ]
  },
  {
   "cell_type": "markdown",
   "metadata": {},
   "source": [
    "We reproduce the form factor of LFVHD in the seesaw model given in [Lepton flavor violating Higgs boson decays in seesaw models: New discussions](https://inspirehep.net/files/b569c392f2240d487f9731316b2d5ffc)"
   ]
  },
  {
   "cell_type": "code",
   "execution_count": 6,
   "metadata": {},
   "outputs": [],
   "source": [
    "A = g**3/(64*pi**2*mW**3) # Favtor to simplify expressions\n",
    "m = IndexedBase('m')\n",
    "h,ea,eb = symbols('h,e_a,e_b');\n",
    "cambios = {lfvhd.ma:m[h],lfvhd.mi:m[a],lfvhd.mj:m[b]}"
   ]
  },
  {
   "cell_type": "markdown",
   "metadata": {},
   "source": [
    "### Triangles"
   ]
  },
  {
   "cell_type": "code",
   "execution_count": 7,
   "metadata": {},
   "outputs": [],
   "source": [
    "#triangleGninj = lfvhd.TriangleSFF(vertexhnn(i,j),vertexneGu(j,b),vertexenGd(i,a),[mW,mn[i],mn[j]])\n",
    "\n",
    "#triangleWninj = lfvhd.TriangleVFF(vertexhnn(i,j),vertexneWu(j,b),vertexenWd(i,a),[mW,mn[i],mn[j]])\n",
    "\n",
    "triangleniWW = lfvhd.TriangleFVV(vertexhWW,vertexenWd(i,b),vertexneWu(i,a),[mn[i],mW,mW])\n",
    "\n",
    "triangleniWG = lfvhd.TriangleFVS(vertexhWG,vertexenGd(i,b),vertexneWu(i,a),[mn[i],mW,mW])\n",
    "\n",
    "triangleniGW = lfvhd.TriangleFSV(vertexhGW,vertexenWd(i,b),vertexneGu(i,a),[mn[i],mW,mW])\n",
    "\n",
    "triangleniGG = lfvhd.TriangleFSS(vertexhGG,vertexenGd(i,b),vertexneGu(i,a),[mn[i],mW,mW])"
   ]
  },
  {
   "cell_type": "markdown",
   "metadata": {},
   "source": [
    "### Bubbles"
   ]
  },
  {
   "cell_type": "code",
   "execution_count": 8,
   "metadata": {},
   "outputs": [],
   "source": [
    "bubbleniW = lfvhd.BubbleFV(vertexhee(b),vertexenWd(i,b),vertexneWu(i,a),[mn[i],mW])\n",
    "\n",
    "bubbleWni = lfvhd.BubbleVF(vertexhee(a),vertexenWd(i,b),vertexneWu(i,a),[mn[i],mW])\n",
    "\n",
    "bubbleniG = lfvhd.BubbleFS(vertexhee(b),vertexenGd(i,b),vertexneGu(i,a),[mn[i],mW])\n",
    "\n",
    "bubbleGni = lfvhd.BubbleSF(vertexhee(a),vertexenGd(i,b),vertexneGu(i,a),[mn[i],mW])"
   ]
  },
  {
   "cell_type": "markdown",
   "metadata": {},
   "source": [
    "## Form factors and divergencies"
   ]
  },
  {
   "cell_type": "code",
   "execution_count": 9,
   "metadata": {},
   "outputs": [],
   "source": [
    "def showFF(AL,AR,contribution):\n",
    "    print(f'The form factor AL for contribution {contribution} is given by: \\n')\n",
    "    display(AL)\n",
    "    print('*'*100)\n",
    "    print('*'*100)\n",
    "    print(f'The form factor AR for contribution {contribution} is given by: \\n')\n",
    "    display(AR)"
   ]
  },
  {
   "cell_type": "markdown",
   "metadata": {},
   "source": [
    "### Triangle niWW"
   ]
  },
  {
   "cell_type": "markdown",
   "metadata": {},
   "source": [
    "**Left form factor**"
   ]
  },
  {
   "cell_type": "code",
   "execution_count": 10,
   "metadata": {},
   "outputs": [
    {
     "name": "stdout",
     "output_type": "stream",
     "text": [
      "The form factor AL for contribution niWW is given by: \n",
      "\n"
     ]
    },
    {
     "data": {
      "image/png": "[encoded data removed]",
      "text/latex": [
       "$\\displaystyle 4 m_{W}^{4} \\operatorname{C_{1}}{\\left({{{m_n}}}_{i},m_{W},m_{W} \\right)} {m}_{a} {{{U^\\nu}}}_{a,i} {{{U^{\\nu *}}}}_{b,i}$"
      ],
      "text/plain": [
       "     4                                                                  \n",
       "4⋅m_W ⋅C₁({{m_n}}[i], m_W, m_W)⋅m[a]⋅{{U^\\nu}}[a, i]⋅{{U^{\\nu *}}}[b, i]"
      ]
     },
     "metadata": {},
     "output_type": "display_data"
    },
    {
     "name": "stdout",
     "output_type": "stream",
     "text": [
      "****************************************************************************************************\n",
      "****************************************************************************************************\n",
      "The form factor AR for contribution niWW is given by: \n",
      "\n"
     ]
    },
    {
     "data": {
      "image/png": "[encoded data removed]",
      "text/latex": [
       "$\\displaystyle - 4 m_{W}^{4} \\operatorname{C_{2}}{\\left({{{m_n}}}_{i},m_{W},m_{W} \\right)} {m}_{b} {{{U^\\nu}}}_{a,i} {{{U^{\\nu *}}}}_{b,i}$"
      ],
      "text/plain": [
       "      4                                                                  \n",
       "-4⋅m_W ⋅C₂({{m_n}}[i], m_W, m_W)⋅m[b]⋅{{U^\\nu}}[a, i]⋅{{U^{\\nu *}}}[b, i]"
      ]
     },
     "metadata": {},
     "output_type": "display_data"
    }
   ],
   "source": [
    "AL3 = (-triangleniWW.AL().subs(lfvhd.D,4)/A).subs(cambios)\n",
    "AR3 = (-triangleniWW.AR().subs(lfvhd.D,4)/A).subs(cambios)\n",
    "\n",
    "showFF(AL3,AR3,'niWW')"
   ]
  },
  {
   "cell_type": "markdown",
   "metadata": {},
   "source": [
    "### Triangle niWG"
   ]
  },
  {
   "cell_type": "code",
   "execution_count": 11,
   "metadata": {},
   "outputs": [
    {
     "name": "stdout",
     "output_type": "stream",
     "text": [
      "The form factor AL for contribution niWG is given by: \n",
      "\n"
     ]
    },
    {
     "data": {
      "image/png": "[encoded data removed]",
      "text/latex": [
       "$\\displaystyle m_{W}^{2} \\left(- \\operatorname{C_{0}}{\\left({{{m_n}}}_{i},m_{W},m_{W} \\right)} + \\operatorname{C_{1}}{\\left({{{m_n}}}_{i},m_{W},m_{W} \\right)} - \\operatorname{C_{2}}{\\left({{{m_n}}}_{i},m_{W},m_{W} \\right)}\\right) {m}_{a} {m}_{b} {{{U^\\nu}}}_{a,i} {{{U^{\\nu *}}}}_{b,i} {{{m_n}}}_{i}$"
      ],
      "text/plain": [
       "   2                                                                          \n",
       "m_W ⋅(-C₀({{m_n}}[i], m_W, m_W) + C₁({{m_n}}[i], m_W, m_W) - C₂({{m_n}}[i], m_\n",
       "\n",
       "                                                                 \n",
       "W, m_W))⋅m[a]⋅m[b]⋅{{U^\\nu}}[a, i]⋅{{U^{\\nu *}}}[b, i]⋅{{m_n}}[i]"
      ]
     },
     "metadata": {},
     "output_type": "display_data"
    },
    {
     "name": "stdout",
     "output_type": "stream",
     "text": [
      "****************************************************************************************************\n",
      "****************************************************************************************************\n",
      "The form factor AR for contribution niWG is given by: \n",
      "\n"
     ]
    },
    {
     "data": {
      "image/png": "[encoded data removed]",
      "text/latex": [
       "$\\displaystyle m_{W}^{2} \\left(\\left(2 {m}_{b}^{2} + {{{m_n}}}_{i}^{2}\\right) \\operatorname{C_{0}}{\\left({{{m_n}}}_{i},m_{W},m_{W} \\right)} - \\left({m}_{a}^{2} + 2 {m}_{b}^{2} - 2 {m}_{h}^{2}\\right) \\operatorname{C_{1}}{\\left({{{m_n}}}_{i},m_{W},m_{W} \\right)} + 3 \\operatorname{C_{2}}{\\left({{{m_n}}}_{i},m_{W},m_{W} \\right)} {m}_{b}^{2} + \\operatorname{{{B^{(12)}_{0}}}}{\\left(m_{W},m_{W} \\right)}\\right) {{{U^\\nu}}}_{a,i} {{{U^{\\nu *}}}}_{b,i} {{{m_n}}}_{i}$"
      ],
      "text/plain": [
       "   2 ⎛⎛      2             2⎞                            ⎛    2         2     \n",
       "m_W ⋅⎝⎝2⋅m[b]  + {{m_n}}[i] ⎠⋅C₀({{m_n}}[i], m_W, m_W) - ⎝m[a]  + 2⋅m[b]  - 2⋅\n",
       "\n",
       "    2⎞                                                           2            \n",
       "m[h] ⎠⋅C₁({{m_n}}[i], m_W, m_W) + 3⋅C₂({{m_n}}[i], m_W, m_W)⋅m[b]  + {{B_{0}}}\n",
       "\n",
       "                  ⎞                                               \n",
       "__{(12)}(m_W, m_W)⎠⋅{{U^\\nu}}[a, i]⋅{{U^{\\nu *}}}[b, i]⋅{{m_n}}[i]"
      ]
     },
     "metadata": {},
     "output_type": "display_data"
    }
   ],
   "source": [
    "AL4 = (-triangleniWG.AL()/A).subs(lfvhd.D,4).expand().collect(triangleniWG.Cs,simplify).simplify(\n",
    ").subs(cambios)\n",
    "\n",
    "AR4 = (-triangleniWG.AR()/A).subs(lfvhd.D,4).expand().collect(triangleniWG.Cs,simplify).simplify(\n",
    ").subs(cambios)\n",
    "\n",
    "showFF(AL4,AR4,'niWG')"
   ]
  },
  {
   "cell_type": "markdown",
   "metadata": {},
   "source": [
    "### Triangle niGW"
   ]
  },
  {
   "cell_type": "code",
   "execution_count": 12,
   "metadata": {},
   "outputs": [
    {
     "name": "stdout",
     "output_type": "stream",
     "text": [
      "The form factor AL for contribution niGW is given by: \n",
      "\n"
     ]
    },
    {
     "data": {
      "image/png": "[encoded data removed]",
      "text/latex": [
       "$\\displaystyle m_{W}^{2} \\left(\\left(2 {m}_{a}^{2} + {{{m_n}}}_{i}^{2}\\right) \\operatorname{C_{0}}{\\left({{{m_n}}}_{i},m_{W},m_{W} \\right)} + \\left(2 {m}_{a}^{2} + {m}_{b}^{2} - 2 {m}_{h}^{2}\\right) \\operatorname{C_{2}}{\\left({{{m_n}}}_{i},m_{W},m_{W} \\right)} - 3 \\operatorname{C_{1}}{\\left({{{m_n}}}_{i},m_{W},m_{W} \\right)} {m}_{a}^{2} + \\operatorname{{{B^{(12)}_{0}}}}{\\left(m_{W},m_{W} \\right)}\\right) {{{U^\\nu}}}_{a,i} {{{U^{\\nu *}}}}_{b,i} {{{m_n}}}_{i}$"
      ],
      "text/plain": [
       "   2 ⎛⎛      2             2⎞                            ⎛      2       2     \n",
       "m_W ⋅⎝⎝2⋅m[a]  + {{m_n}}[i] ⎠⋅C₀({{m_n}}[i], m_W, m_W) + ⎝2⋅m[a]  + m[b]  - 2⋅\n",
       "\n",
       "    2⎞                                                           2            \n",
       "m[h] ⎠⋅C₂({{m_n}}[i], m_W, m_W) - 3⋅C₁({{m_n}}[i], m_W, m_W)⋅m[a]  + {{B_{0}}}\n",
       "\n",
       "                  ⎞                                               \n",
       "__{(12)}(m_W, m_W)⎠⋅{{U^\\nu}}[a, i]⋅{{U^{\\nu *}}}[b, i]⋅{{m_n}}[i]"
      ]
     },
     "metadata": {},
     "output_type": "display_data"
    },
    {
     "name": "stdout",
     "output_type": "stream",
     "text": [
      "****************************************************************************************************\n",
      "****************************************************************************************************\n",
      "The form factor AR for contribution niGW is given by: \n",
      "\n"
     ]
    },
    {
     "data": {
      "image/png": "[encoded data removed]",
      "text/latex": [
       "$\\displaystyle m_{W}^{2} \\left(- \\operatorname{C_{0}}{\\left({{{m_n}}}_{i},m_{W},m_{W} \\right)} + \\operatorname{C_{1}}{\\left({{{m_n}}}_{i},m_{W},m_{W} \\right)} - \\operatorname{C_{2}}{\\left({{{m_n}}}_{i},m_{W},m_{W} \\right)}\\right) {m}_{a} {m}_{b} {{{U^\\nu}}}_{a,i} {{{U^{\\nu *}}}}_{b,i} {{{m_n}}}_{i}$"
      ],
      "text/plain": [
       "   2                                                                          \n",
       "m_W ⋅(-C₀({{m_n}}[i], m_W, m_W) + C₁({{m_n}}[i], m_W, m_W) - C₂({{m_n}}[i], m_\n",
       "\n",
       "                                                                 \n",
       "W, m_W))⋅m[a]⋅m[b]⋅{{U^\\nu}}[a, i]⋅{{U^{\\nu *}}}[b, i]⋅{{m_n}}[i]"
      ]
     },
     "metadata": {},
     "output_type": "display_data"
    }
   ],
   "source": [
    "AL5 = (-triangleniGW.AL()/A).subs(lfvhd.D,4).expand().collect(triangleniGW.Cs,simplify).simplify(\n",
    ").subs(cambios)\n",
    "AR5 = (-triangleniGW.AR()/A).subs(lfvhd.D,4).expand().collect(triangleniGW.Cs,simplify).simplify(\n",
    ").subs(cambios)\n",
    "\n",
    "showFF(AL5,AR5,'niGW')"
   ]
  },
  {
   "cell_type": "markdown",
   "metadata": {},
   "source": [
    "### Triangle niGG"
   ]
  },
  {
   "cell_type": "code",
   "execution_count": 13,
   "metadata": {},
   "outputs": [
    {
     "name": "stdout",
     "output_type": "stream",
     "text": [
      "The form factor AL for contribution niGG is given by: \n",
      "\n"
     ]
    },
    {
     "data": {
      "image/png": "[encoded data removed]",
      "text/latex": [
       "$\\displaystyle \\left(- \\left(\\operatorname{C_{0}}{\\left({{{m_n}}}_{i},m_{W},m_{W} \\right)} + \\operatorname{C_{2}}{\\left({{{m_n}}}_{i},m_{W},m_{W} \\right)}\\right) {{{m_n}}}_{i}^{2} + \\operatorname{C_{1}}{\\left({{{m_n}}}_{i},m_{W},m_{W} \\right)} {m}_{a}^{2}\\right) {m}_{b} {m}_{h}^{2} {{{U^\\nu}}}_{a,i} {{{U^{\\nu *}}}}_{b,i}$"
      ],
      "text/plain": [
       "⎛                                                                  2          \n",
       "⎝- (C₀({{m_n}}[i], m_W, m_W) + C₂({{m_n}}[i], m_W, m_W))⋅{{m_n}}[i]  + C₁({{m_\n",
       "\n",
       "                      2⎞          2                                    \n",
       "n}}[i], m_W, m_W)⋅m[a] ⎠⋅m[b]⋅m[h] ⋅{{U^\\nu}}[a, i]⋅{{U^{\\nu *}}}[b, i]"
      ]
     },
     "metadata": {},
     "output_type": "display_data"
    },
    {
     "name": "stdout",
     "output_type": "stream",
     "text": [
      "****************************************************************************************************\n",
      "****************************************************************************************************\n",
      "The form factor AR for contribution niGG is given by: \n",
      "\n"
     ]
    },
    {
     "data": {
      "image/png": "[encoded data removed]",
      "text/latex": [
       "$\\displaystyle \\left(\\left(- \\operatorname{C_{0}}{\\left({{{m_n}}}_{i},m_{W},m_{W} \\right)} + \\operatorname{C_{1}}{\\left({{{m_n}}}_{i},m_{W},m_{W} \\right)}\\right) {{{m_n}}}_{i}^{2} - \\operatorname{C_{2}}{\\left({{{m_n}}}_{i},m_{W},m_{W} \\right)} {m}_{b}^{2}\\right) {m}_{a} {m}_{h}^{2} {{{U^\\nu}}}_{a,i} {{{U^{\\nu *}}}}_{b,i}$"
      ],
      "text/plain": [
       "⎛                                                                 2           \n",
       "⎝(-C₀({{m_n}}[i], m_W, m_W) + C₁({{m_n}}[i], m_W, m_W))⋅{{m_n}}[i]  - C₂({{m_n\n",
       "\n",
       "                     2⎞          2                                    \n",
       "}}[i], m_W, m_W)⋅m[b] ⎠⋅m[a]⋅m[h] ⋅{{U^\\nu}}[a, i]⋅{{U^{\\nu *}}}[b, i]"
      ]
     },
     "metadata": {},
     "output_type": "display_data"
    }
   ],
   "source": [
    "AL6 = (-triangleniGG.AL()/A).expand().collect([mn[i]],simplify\n",
    "                                      ).simplify().subs(cambios)\n",
    "AR6 = (-triangleniGG.AR()/A).expand().collect([mn[i]],simplify\n",
    "                                  ).simplify().subs(cambios)\n",
    "\n",
    "showFF(AL6,AR6,'niGG')"
   ]
  },
  {
   "cell_type": "markdown",
   "metadata": {},
   "source": [
    "### Bubbles niW and Wni"
   ]
  },
  {
   "cell_type": "markdown",
   "metadata": {},
   "source": [
    "**Left form factor**"
   ]
  },
  {
   "cell_type": "code",
   "execution_count": 14,
   "metadata": {},
   "outputs": [
    {
     "name": "stdout",
     "output_type": "stream",
     "text": [
      "The form factor AL for contribution niW is given by: \n",
      "\n"
     ]
    },
    {
     "data": {
      "image/png": "[encoded data removed]",
      "text/latex": [
       "$\\displaystyle \\frac{2 m_{W}^{2} \\operatorname{{{B^{(1)}_{1}}}}{\\left({{{m_n}}}_{i},m_{W} \\right)} {m}_{a} {m}_{b}^{2} {{{U^\\nu}}}_{a,i} {{{U^{\\nu *}}}}_{b,i}}{{m}_{a}^{2} - {m}_{b}^{2}}$"
      ],
      "text/plain": [
       "     2                                            2                           \n",
       "2⋅m_W ⋅{{B_{1}}}__{(1)}({{m_n}}[i], m_W)⋅m[a]⋅m[b] ⋅{{U^\\nu}}[a, i]⋅{{U^{\\nu *\n",
       "──────────────────────────────────────────────────────────────────────────────\n",
       "                                         2       2                            \n",
       "                                     m[a]  - m[b]                             \n",
       "\n",
       "         \n",
       "}}}[b, i]\n",
       "─────────\n",
       "         \n",
       "         "
      ]
     },
     "metadata": {},
     "output_type": "display_data"
    },
    {
     "name": "stdout",
     "output_type": "stream",
     "text": [
      "****************************************************************************************************\n",
      "****************************************************************************************************\n",
      "The form factor AR for contribution niW is given by: \n",
      "\n"
     ]
    },
    {
     "data": {
      "image/png": "[encoded data removed]",
      "text/latex": [
       "$\\displaystyle \\frac{2 m_{W}^{2} \\operatorname{{{B^{(1)}_{1}}}}{\\left({{{m_n}}}_{i},m_{W} \\right)} {m}_{a}^{2} {m}_{b} {{{U^\\nu}}}_{a,i} {{{U^{\\nu *}}}}_{b,i}}{{m}_{a}^{2} - {m}_{b}^{2}}$"
      ],
      "text/plain": [
       "     2                                       2                                \n",
       "2⋅m_W ⋅{{B_{1}}}__{(1)}({{m_n}}[i], m_W)⋅m[a] ⋅m[b]⋅{{U^\\nu}}[a, i]⋅{{U^{\\nu *\n",
       "──────────────────────────────────────────────────────────────────────────────\n",
       "                                         2       2                            \n",
       "                                     m[a]  - m[b]                             \n",
       "\n",
       "         \n",
       "}}}[b, i]\n",
       "─────────\n",
       "         \n",
       "         "
      ]
     },
     "metadata": {},
     "output_type": "display_data"
    }
   ],
   "source": [
    "AL7 = (-bubbleniW.AL()/A).subs(lfvhd.D,4).subs(cambios)\n",
    "\n",
    "AR7 = (-bubbleniW.AR()/A).subs(lfvhd.D,4).subs(cambios)\n",
    "\n",
    "showFF(AL7,AR7,'niW')"
   ]
  },
  {
   "cell_type": "code",
   "execution_count": 15,
   "metadata": {},
   "outputs": [
    {
     "name": "stdout",
     "output_type": "stream",
     "text": [
      "The form factor AL for contribution Wni is given by: \n",
      "\n"
     ]
    },
    {
     "data": {
      "image/png": "[encoded data removed]",
      "text/latex": [
       "$\\displaystyle \\frac{2 m_{W}^{2} \\operatorname{{{B^{(2)}_{1}}}}{\\left({{{m_n}}}_{i},m_{W} \\right)} {m}_{a} {m}_{b}^{2} {{{U^\\nu}}}_{a,i} {{{U^{\\nu *}}}}_{b,i}}{{m}_{a}^{2} - {m}_{b}^{2}}$"
      ],
      "text/plain": [
       "     2                                            2                           \n",
       "2⋅m_W ⋅{{B_{1}}}__{(2)}({{m_n}}[i], m_W)⋅m[a]⋅m[b] ⋅{{U^\\nu}}[a, i]⋅{{U^{\\nu *\n",
       "──────────────────────────────────────────────────────────────────────────────\n",
       "                                         2       2                            \n",
       "                                     m[a]  - m[b]                             \n",
       "\n",
       "         \n",
       "}}}[b, i]\n",
       "─────────\n",
       "         \n",
       "         "
      ]
     },
     "metadata": {},
     "output_type": "display_data"
    },
    {
     "name": "stdout",
     "output_type": "stream",
     "text": [
      "****************************************************************************************************\n",
      "****************************************************************************************************\n",
      "The form factor AR for contribution Wni is given by: \n",
      "\n"
     ]
    },
    {
     "data": {
      "image/png": "[encoded data removed]",
      "text/latex": [
       "$\\displaystyle \\frac{2 m_{W}^{2} \\operatorname{{{B^{(2)}_{1}}}}{\\left({{{m_n}}}_{i},m_{W} \\right)} {m}_{a}^{2} {m}_{b} {{{U^\\nu}}}_{a,i} {{{U^{\\nu *}}}}_{b,i}}{{m}_{a}^{2} - {m}_{b}^{2}}$"
      ],
      "text/plain": [
       "     2                                       2                                \n",
       "2⋅m_W ⋅{{B_{1}}}__{(2)}({{m_n}}[i], m_W)⋅m[a] ⋅m[b]⋅{{U^\\nu}}[a, i]⋅{{U^{\\nu *\n",
       "──────────────────────────────────────────────────────────────────────────────\n",
       "                                         2       2                            \n",
       "                                     m[a]  - m[b]                             \n",
       "\n",
       "         \n",
       "}}}[b, i]\n",
       "─────────\n",
       "         \n",
       "         "
      ]
     },
     "metadata": {},
     "output_type": "display_data"
    }
   ],
   "source": [
    "AL9 = (-bubbleWni.AL()/A).subs(lfvhd.D,4).subs(cambios).simplify()\n",
    "AR9 = (-bubbleWni.AR()/A).subs(lfvhd.D,4).subs(cambios).simplify()\n",
    "\n",
    "showFF(AL9,AR9, 'Wni')"
   ]
  },
  {
   "cell_type": "markdown",
   "metadata": {},
   "source": [
    "#### Adding bubble niW y Wni"
   ]
  },
  {
   "cell_type": "code",
   "execution_count": 16,
   "metadata": {},
   "outputs": [],
   "source": [
    "BniW_L =  (bubbleniW.AL() + bubbleWni.AL()).subs(lfvhd.D,4).simplify()\n",
    "BniW_R =  (bubbleniW.AR() + bubbleWni.AR()).subs(lfvhd.D,4).simplify()\n",
    "# BniW_L"
   ]
  },
  {
   "cell_type": "markdown",
   "metadata": {},
   "source": [
    "When we add the contributions niW and Wni, we can split up the PV function in terms of finite and divergent parts. However , all the divergencies cancel each other and does not appear in the thi total form factors."
   ]
  },
  {
   "cell_type": "code",
   "execution_count": 17,
   "metadata": {},
   "outputs": [
    {
     "data": {
      "image/png": "[encoded data removed]",
      "text/latex": [
       "$\\displaystyle - \\frac{g^{3} m_{i}^{2} m_{j} \\left(\\operatorname{{{b^{(1)}_1}}}{\\left({{{m_n}}}_{i},m_{W} \\right)} + \\operatorname{{{b^{(2)}_1}}}{\\left({{{m_n}}}_{i},m_{W} \\right)}\\right) {{{U^\\nu}}}_{a,i} {{{U^{\\nu *}}}}_{b,i}}{32 \\pi^{2} m_{W} \\left(m_{i}^{2} - m_{j}^{2}\\right)}$"
      ],
      "text/plain": [
       "  3   2                                                                       \n",
       "-g ⋅mᵢ ⋅m_j⋅({{b_1}}__{(1)}({{m_n}}[i], m_W) + {{b_1}}__{(2)}({{m_n}}[i], m_W)\n",
       "──────────────────────────────────────────────────────────────────────────────\n",
       "                                                   2     ⎛  2      2⎞         \n",
       "                                               32⋅π ⋅m_W⋅⎝mᵢ  - m_j ⎠         \n",
       "\n",
       "                                      \n",
       ")⋅{{U^\\nu}}[a, i]⋅{{U^{\\nu *}}}[b, i] \n",
       "──────────────────────────────────────\n",
       "                                      \n",
       "                                      "
      ]
     },
     "execution_count": 17,
     "metadata": {},
     "output_type": "execute_result"
    }
   ],
   "source": [
    "BniW_R.subs(lfvhd.cambiosDivFin(mn[i],mW,mW))"
   ]
  },
  {
   "cell_type": "code",
   "execution_count": 18,
   "metadata": {},
   "outputs": [
    {
     "data": {
      "image/png": "[encoded data removed]",
      "text/latex": [
       "$\\displaystyle - \\frac{g^{3} m_{i} m_{j}^{2} \\left(\\operatorname{{{b^{(1)}_1}}}{\\left({{{m_n}}}_{i},m_{W} \\right)} + \\operatorname{{{b^{(2)}_1}}}{\\left({{{m_n}}}_{i},m_{W} \\right)}\\right) {{{U^\\nu}}}_{a,i} {{{U^{\\nu *}}}}_{b,i}}{32 \\pi^{2} m_{W} \\left(m_{i}^{2} - m_{j}^{2}\\right)}$"
      ],
      "text/plain": [
       "  3       2                                                                   \n",
       "-g ⋅mᵢ⋅m_j ⋅({{b_1}}__{(1)}({{m_n}}[i], m_W) + {{b_1}}__{(2)}({{m_n}}[i], m_W)\n",
       "──────────────────────────────────────────────────────────────────────────────\n",
       "                                                   2     ⎛  2      2⎞         \n",
       "                                               32⋅π ⋅m_W⋅⎝mᵢ  - m_j ⎠         \n",
       "\n",
       "                                      \n",
       ")⋅{{U^\\nu}}[a, i]⋅{{U^{\\nu *}}}[b, i] \n",
       "──────────────────────────────────────\n",
       "                                      \n",
       "                                      "
      ]
     },
     "execution_count": 18,
     "metadata": {},
     "output_type": "execute_result"
    }
   ],
   "source": [
    "BniW_L.subs(lfvhd.cambiosDivFin(mn[i],mW,mW))"
   ]
  },
  {
   "cell_type": "markdown",
   "metadata": {},
   "source": [
    "### Bubbles niG and Gni"
   ]
  },
  {
   "cell_type": "code",
   "execution_count": 19,
   "metadata": {},
   "outputs": [
    {
     "name": "stdout",
     "output_type": "stream",
     "text": [
      "The form factor AL for contribution niG is given by: \n",
      "\n"
     ]
    },
    {
     "data": {
      "image/png": "[encoded data removed]",
      "text/latex": [
       "$\\displaystyle \\frac{\\left(- \\left({m}_{a}^{2} + {m}_{b}^{2}\\right) \\operatorname{{{B^{(1)}_{0}}}}{\\left({{{m_n}}}_{i},m_{W} \\right)} {{{m_n}}}_{i}^{2} + \\left({m}_{b}^{2} + {{{m_n}}}_{i}^{2}\\right) \\operatorname{{{B^{(1)}_{1}}}}{\\left({{{m_n}}}_{i},m_{W} \\right)} {m}_{a}^{2}\\right) {m}_{b} {{{U^\\nu}}}_{a,i} {{{U^{\\nu *}}}}_{b,i}}{{m}_{a}^{2} - {m}_{b}^{2}}$"
      ],
      "text/plain": [
       "⎛  ⎛    2       2⎞                                             2   ⎛    2     \n",
       "⎝- ⎝m[a]  + m[b] ⎠⋅{{B_{0}}}__{(1)}({{m_n}}[i], m_W)⋅{{m_n}}[i]  + ⎝m[b]  + {{\n",
       "──────────────────────────────────────────────────────────────────────────────\n",
       "                                                                              \n",
       "                                                                              \n",
       "\n",
       "        2⎞                                       2⎞                           \n",
       "m_n}}[i] ⎠⋅{{B_{1}}}__{(1)}({{m_n}}[i], m_W)⋅m[a] ⎠⋅m[b]⋅{{U^\\nu}}[a, i]⋅{{U^{\n",
       "──────────────────────────────────────────────────────────────────────────────\n",
       "    2       2                                                                 \n",
       "m[a]  - m[b]                                                                  \n",
       "\n",
       "              \n",
       "\\nu *}}}[b, i]\n",
       "──────────────\n",
       "              \n",
       "              "
      ]
     },
     "metadata": {},
     "output_type": "display_data"
    },
    {
     "name": "stdout",
     "output_type": "stream",
     "text": [
      "****************************************************************************************************\n",
      "****************************************************************************************************\n",
      "The form factor AR for contribution niG is given by: \n",
      "\n"
     ]
    },
    {
     "data": {
      "image/png": "[encoded data removed]",
      "text/latex": [
       "$\\displaystyle \\frac{\\left(\\left({m}_{a}^{2} + {{{m_n}}}_{i}^{2}\\right) \\operatorname{{{B^{(1)}_{1}}}}{\\left({{{m_n}}}_{i},m_{W} \\right)} - 2 \\operatorname{{{B^{(1)}_{0}}}}{\\left({{{m_n}}}_{i},m_{W} \\right)} {{{m_n}}}_{i}^{2}\\right) {m}_{a} {m}_{b}^{2} {{{U^\\nu}}}_{a,i} {{{U^{\\nu *}}}}_{b,i}}{{m}_{a}^{2} - {m}_{b}^{2}}$"
      ],
      "text/plain": [
       "⎛⎛    2             2⎞                                                        \n",
       "⎝⎝m[a]  + {{m_n}}[i] ⎠⋅{{B_{1}}}__{(1)}({{m_n}}[i], m_W) - 2⋅{{B_{0}}}__{(1)}(\n",
       "──────────────────────────────────────────────────────────────────────────────\n",
       "                                                                          2   \n",
       "                                                                      m[a]  - \n",
       "\n",
       "                           2⎞          2                                    \n",
       "{{m_n}}[i], m_W)⋅{{m_n}}[i] ⎠⋅m[a]⋅m[b] ⋅{{U^\\nu}}[a, i]⋅{{U^{\\nu *}}}[b, i]\n",
       "────────────────────────────────────────────────────────────────────────────\n",
       "    2                                                                       \n",
       "m[b]                                                                        "
      ]
     },
     "metadata": {},
     "output_type": "display_data"
    }
   ],
   "source": [
    "AL8 = (-bubbleniG.AL()/A).collect([\n",
    "    lfvhd.B1_0(mn[i],mW),lfvhd.B1_1(mn[i],mW)]).simplify().subs(cambios)\n",
    "\n",
    "AR8 = (-bubbleniG.AR()/A).collect([\n",
    "    lfvhd.B1_0(mn[i],mW),lfvhd.B1_1(mn[i],mW)]).simplify().subs(cambios)\n",
    "\n",
    "showFF(AL8, AR8, 'niG')"
   ]
  },
  {
   "cell_type": "code",
   "execution_count": 20,
   "metadata": {},
   "outputs": [
    {
     "name": "stdout",
     "output_type": "stream",
     "text": [
      "The form factor AL for contribution Gni is given by: \n",
      "\n"
     ]
    },
    {
     "data": {
      "image/png": "[encoded data removed]",
      "text/latex": [
       "$\\displaystyle \\frac{\\left(\\left({m}_{b}^{2} + {{{m_n}}}_{i}^{2}\\right) \\operatorname{{{B^{(2)}_{1}}}}{\\left({{{m_n}}}_{i},m_{W} \\right)} + 2 \\operatorname{{{B^{(2)}_{0}}}}{\\left({{{m_n}}}_{i},m_{W} \\right)} {{{m_n}}}_{i}^{2}\\right) {m}_{a}^{2} {m}_{b} {{{U^\\nu}}}_{a,i} {{{U^{\\nu *}}}}_{b,i}}{{m}_{a}^{2} - {m}_{b}^{2}}$"
      ],
      "text/plain": [
       "⎛⎛    2             2⎞                                                        \n",
       "⎝⎝m[b]  + {{m_n}}[i] ⎠⋅{{B_{1}}}__{(2)}({{m_n}}[i], m_W) + 2⋅{{B_{0}}}__{(2)}(\n",
       "──────────────────────────────────────────────────────────────────────────────\n",
       "                                                                          2   \n",
       "                                                                      m[a]  - \n",
       "\n",
       "                           2⎞     2                                         \n",
       "{{m_n}}[i], m_W)⋅{{m_n}}[i] ⎠⋅m[a] ⋅m[b]⋅{{U^\\nu}}[a, i]⋅{{U^{\\nu *}}}[b, i]\n",
       "────────────────────────────────────────────────────────────────────────────\n",
       "    2                                                                       \n",
       "m[b]                                                                        "
      ]
     },
     "metadata": {},
     "output_type": "display_data"
    },
    {
     "name": "stdout",
     "output_type": "stream",
     "text": [
      "****************************************************************************************************\n",
      "****************************************************************************************************\n",
      "The form factor AR for contribution Gni is given by: \n",
      "\n"
     ]
    },
    {
     "data": {
      "image/png": "[encoded data removed]",
      "text/latex": [
       "$\\displaystyle \\frac{\\left(\\left({m}_{a}^{2} + {m}_{b}^{2}\\right) \\operatorname{{{B^{(2)}_{0}}}}{\\left({{{m_n}}}_{i},m_{W} \\right)} {{{m_n}}}_{i}^{2} + \\left({m}_{a}^{2} + {{{m_n}}}_{i}^{2}\\right) \\operatorname{{{B^{(2)}_{1}}}}{\\left({{{m_n}}}_{i},m_{W} \\right)} {m}_{b}^{2}\\right) {m}_{a} {{{U^\\nu}}}_{a,i} {{{U^{\\nu *}}}}_{b,i}}{{m}_{a}^{2} - {m}_{b}^{2}}$"
      ],
      "text/plain": [
       "⎛⎛    2       2⎞                                             2   ⎛    2       \n",
       "⎝⎝m[a]  + m[b] ⎠⋅{{B_{0}}}__{(2)}({{m_n}}[i], m_W)⋅{{m_n}}[i]  + ⎝m[a]  + {{m_\n",
       "──────────────────────────────────────────────────────────────────────────────\n",
       "                                                                              \n",
       "                                                                             m\n",
       "\n",
       "      2⎞                                       2⎞                             \n",
       "n}}[i] ⎠⋅{{B_{1}}}__{(2)}({{m_n}}[i], m_W)⋅m[b] ⎠⋅m[a]⋅{{U^\\nu}}[a, i]⋅{{U^{\\n\n",
       "──────────────────────────────────────────────────────────────────────────────\n",
       "   2       2                                                                  \n",
       "[a]  - m[b]                                                                   \n",
       "\n",
       "            \n",
       "u *}}}[b, i]\n",
       "────────────\n",
       "            \n",
       "            "
      ]
     },
     "metadata": {},
     "output_type": "display_data"
    }
   ],
   "source": [
    "AL10 = (-bubbleGni.AL()/A).collect([\n",
    "      lfvhd.B2_0(mn[i],mW),lfvhd.B2_1(mn[i],mW)]).simplify().subs(cambios)\n",
    "\n",
    "AR10 = (-bubbleGni.AR()/A).collect([\n",
    "    lfvhd.B2_0(mn[i],mW),lfvhd.B2_1(mn[i],mW)]).simplify().subs(cambios)\n",
    "\n",
    "showFF(AL10, AR10, 'Gni')"
   ]
  },
  {
   "cell_type": "markdown",
   "metadata": {},
   "source": [
    "## Handle the divergencies"
   ]
  },
  {
   "cell_type": "markdown",
   "metadata": {},
   "source": [
    "In contrast to the case of bubbles niW and Wni when we add form factors of bubbles niG and Gni the divergencies continues as we show as follows:"
   ]
  },
  {
   "cell_type": "code",
   "execution_count": 21,
   "metadata": {},
   "outputs": [
    {
     "data": {
      "image/png": "[encoded data removed]",
      "text/latex": [
       "$\\displaystyle \\frac{\\Delta_\\epsilon g^{3} {m}_{a} {{{U^\\nu}}}_{a,i} {{{U^{\\nu *}}}}_{b,i} {{{m_n}}}_{i}^{2}}{64 \\pi^{2} m_{W}^{3}}$"
      ],
      "text/plain": [
       "                 3                                                    2\n",
       "\\Delta_\\epsilon⋅g ⋅m[a]⋅{{U^\\nu}}[a, i]⋅{{U^{\\nu *}}}[b, i]⋅{{m_n}}[i] \n",
       "───────────────────────────────────────────────────────────────────────\n",
       "                                   2    3                              \n",
       "                               64⋅π ⋅m_W                               "
      ]
     },
     "execution_count": 21,
     "metadata": {},
     "output_type": "execute_result"
    }
   ],
   "source": [
    "DivniG = ((AR8 + AR10).subs(lfvhd.cambiosDivFin(mn[i],mW,mW)).expand(\n",
    ").collect(lfvhd.Δe,evaluate=False)[lfvhd.Δe]*lfvhd.Δe).simplify()*A\n",
    "DivniG"
   ]
  },
  {
   "cell_type": "code",
   "execution_count": null,
   "metadata": {},
   "outputs": [],
   "source": []
  }
 ],
 "metadata": {
  "kernelspec": {
   "display_name": "Python 3",
   "language": "python",
   "name": "python3"
  },
  "language_info": {
   "codemirror_mode": {
    "name": "ipython",
    "version": 3
   },
   "file_extension": ".py",
   "mimetype": "text/x-python",
   "name": "python",
   "nbconvert_exporter": "python",
   "pygments_lexer": "ipython3",
   "version": "3.7.6"
  },
  "toc-autonumbering": true,
  "toc-showcode": false,
  "toc-showmarkdowntxt": false
 },
 "nbformat": 4,
 "nbformat_minor": 4
}
