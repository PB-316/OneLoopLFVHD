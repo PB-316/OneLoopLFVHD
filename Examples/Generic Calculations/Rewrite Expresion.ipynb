{
 "cells": [
  {
   "cell_type": "code",
   "execution_count": 85,
   "metadata": {},
   "outputs": [],
   "source": [
    "from sympy import symbols, init_printing, Matrix,simplify,I,eye\n",
    "init_printing()"
   ]
  },
  {
   "cell_type": "code",
   "execution_count": 86,
   "metadata": {},
   "outputs": [],
   "source": [
    "H1,H2,H3,H4,H5,H6,H7 = symbols('H_1,H_2,H_3,H_4,H_5,H_6,H_7')\n",
    "mi,mj,M1,M2 = symbols('m_i,m_j,M_1,M_2 ',positive=True)\n",
    "C0,C1,C2 = symbols('C_0,C_1,C_2')\n",
    "X1,X2,X3,X4 = symbols('X_1,X_2,X_3,X_4')\n",
    "cambiosH = {H7:M1*M2*C0,H4:mi*M2*X3,H5:mj*M1*X4,H2:mi*mj*X2,H1:X1,H6:-mi*M1*C1,H3:mj*M2*C2}\n",
    "cambiosX = {X2:C0 + C2 - C1,X3:C0 - C1,X4:C0 + C2}"
   ]
  },
  {
   "cell_type": "code",
   "execution_count": 87,
   "metadata": {},
   "outputs": [],
   "source": [
    "def I2(M):\n",
    "    if isinstance(M,Matrix):\n",
    "        return (M.trace()**2 - (M*M).trace())/2 "
   ]
  },
  {
   "cell_type": "code",
   "execution_count": 88,
   "metadata": {},
   "outputs": [
    {
     "data": {
      "image/png": "[encoded data removed]",
      "text/latex": [
       "$\\displaystyle \\left[\\begin{matrix}H_{7} & H_{4}\\\\H_{5} & H_{2}\\end{matrix}\\right]$"
      ],
      "text/plain": [
       "⎡H₇  H₄⎤\n",
       "⎢      ⎥\n",
       "⎣H₅  H₂⎦"
      ]
     },
     "execution_count": 88,
     "metadata": {},
     "output_type": "execute_result"
    }
   ],
   "source": [
    "Ht = Matrix([[H7,H4],[H5,H2]])\n",
    "Ht"
   ]
  },
  {
   "cell_type": "code",
   "execution_count": 89,
   "metadata": {},
   "outputs": [
    {
     "data": {
      "image/png": "[encoded data removed]",
      "text/latex": [
       "$\\displaystyle C_{1} C_{2} M_{1} M_{2} m_{i} m_{j}$"
      ],
      "text/plain": [
       "C₁⋅C₂⋅M₁⋅M₂⋅mᵢ⋅m_j"
      ]
     },
     "execution_count": 89,
     "metadata": {},
     "output_type": "execute_result"
    }
   ],
   "source": [
    "(Ht.subs(cambiosH)).det().simplify().subs(cambiosX).simplify()"
   ]
  },
  {
   "cell_type": "code",
   "execution_count": 90,
   "metadata": {},
   "outputs": [
    {
     "data": {
      "image/png": "[encoded data removed]",
      "text/latex": [
       "$\\displaystyle \\left[\\begin{matrix}\\frac{H_{2}}{H_{2} H_{7} - H_{4} H_{5}} & - \\frac{H_{4}}{H_{2} H_{7} - H_{4} H_{5}}\\\\- \\frac{H_{5}}{H_{2} H_{7} - H_{4} H_{5}} & \\frac{H_{7}}{H_{2} H_{7} - H_{4} H_{5}}\\end{matrix}\\right]$"
      ],
      "text/plain": [
       "⎡      H₂            -H₄     ⎤\n",
       "⎢─────────────  ─────────────⎥\n",
       "⎢H₂⋅H₇ - H₄⋅H₅  H₂⋅H₇ - H₄⋅H₅⎥\n",
       "⎢                            ⎥\n",
       "⎢     -H₅             H₇     ⎥\n",
       "⎢─────────────  ─────────────⎥\n",
       "⎣H₂⋅H₇ - H₄⋅H₅  H₂⋅H₇ - H₄⋅H₅⎦"
      ]
     },
     "execution_count": 90,
     "metadata": {},
     "output_type": "execute_result"
    }
   ],
   "source": [
    "Ht.inv()"
   ]
  },
  {
   "cell_type": "code",
   "execution_count": 94,
   "metadata": {},
   "outputs": [
    {
     "data": {
      "image/png": "[encoded data removed]",
      "text/latex": [
       "$\\displaystyle 2$"
      ],
      "text/plain": [
       "2"
      ]
     },
     "execution_count": 94,
     "metadata": {},
     "output_type": "execute_result"
    }
   ],
   "source": [
    "Ht.rank()"
   ]
  },
  {
   "cell_type": "code",
   "execution_count": 8,
   "metadata": {},
   "outputs": [
    {
     "data": {
      "image/png": "[encoded data removed]",
      "text/latex": [
       "$\\displaystyle \\left[\\begin{matrix}H_{1} & H_{6}\\\\H_{3} & 0\\end{matrix}\\right]$"
      ],
      "text/plain": [
       "⎡H₁  H₆⎤\n",
       "⎢      ⎥\n",
       "⎣H₃  0 ⎦"
      ]
     },
     "execution_count": 8,
     "metadata": {},
     "output_type": "execute_result"
    }
   ],
   "source": [
    "Hh = Matrix([[H1,H6],[H3,0]])\n",
    "Hh"
   ]
  },
  {
   "cell_type": "code",
   "execution_count": 9,
   "metadata": {},
   "outputs": [
    {
     "data": {
      "image/png": "[encoded data removed]",
      "text/latex": [
       "$\\displaystyle C_{1} C_{2} M_{1} M_{2} m_{i} m_{j}$"
      ],
      "text/plain": [
       "C₁⋅C₂⋅M₁⋅M₂⋅mᵢ⋅m_j"
      ]
     },
     "execution_count": 9,
     "metadata": {},
     "output_type": "execute_result"
    }
   ],
   "source": [
    "(Hh.subs(cambiosH)).det().simplify().subs(cambiosX).simplify()"
   ]
  },
  {
   "cell_type": "code",
   "execution_count": 10,
   "metadata": {},
   "outputs": [
    {
     "data": {
      "image/png": "[encoded data removed]",
      "text/latex": [
       "$\\displaystyle \\left[\\begin{matrix}0 & \\frac{1}{H_{3}}\\\\\\frac{1}{H_{6}} & - \\frac{H_{1}}{H_{3} H_{6}}\\end{matrix}\\right]$"
      ],
      "text/plain": [
       "⎡     1   ⎤\n",
       "⎢0    ──  ⎥\n",
       "⎢     H₃  ⎥\n",
       "⎢         ⎥\n",
       "⎢1    -H₁ ⎥\n",
       "⎢──  ─────⎥\n",
       "⎣H₆  H₃⋅H₆⎦"
      ]
     },
     "execution_count": 10,
     "metadata": {},
     "output_type": "execute_result"
    }
   ],
   "source": [
    "Hh.inv()"
   ]
  },
  {
   "cell_type": "code",
   "execution_count": 11,
   "metadata": {},
   "outputs": [
    {
     "data": {
      "image/png": "[encoded data removed]",
      "text/latex": [
       "$\\displaystyle \\left( \\left[\\begin{matrix}{{c^{(2)}_R}}\\\\{{c^{(2)}_L}}\\end{matrix}\\right], \\  \\left[\\begin{matrix}{{c^{(3)}_R}}\\\\{{c^{(3)}_L}}\\end{matrix}\\right]\\right)$"
      ],
      "text/plain": [
       "⎛⎡{{c_R}}__{(2)}⎤  ⎡{{c_R}}__{(3)}⎤⎞\n",
       "⎜⎢              ⎥, ⎢              ⎥⎟\n",
       "⎝⎣{{c_L}}__{(2)}⎦  ⎣{{c_L}}__{(3)}⎦⎠"
      ]
     },
     "execution_count": 11,
     "metadata": {},
     "output_type": "execute_result"
    }
   ],
   "source": [
    "c2R, c2L = symbols('{{c^{(2)}_R}}, {{c^{(2)}_L}}')\n",
    "c3R, c3L = symbols('{{c^{(3)}_R}}, {{c^{(3)}_L}}')\n",
    "c2 = Matrix([[c2R],[c2L]])\n",
    "c3 = Matrix([[c3R],[c3L]])\n",
    "c2,c3"
   ]
  },
  {
   "cell_type": "code",
   "execution_count": 12,
   "metadata": {},
   "outputs": [
    {
     "data": {
      "image/png": "[encoded data removed]",
      "text/latex": [
       "$\\displaystyle H_{2} {{c^{(2)}_L}} {{c^{(3)}_L}} + H_{4} {{c^{(2)}_R}} {{c^{(3)}_L}} + H_{5} {{c^{(2)}_L}} {{c^{(3)}_R}} + H_{7} {{c^{(2)}_R}} {{c^{(3)}_R}}$"
      ],
      "text/plain": [
       "H₂⋅{{c_L}}__{(2)}⋅{{c_L}}__{(3)} + H₄⋅{{c_R}}__{(2)}⋅{{c_L}}__{(3)} + H₅⋅{{c_L\n",
       "}}__{(2)}⋅{{c_R}}__{(3)} + H₇⋅{{c_R}}__{(2)}⋅{{c_R}}__{(3)}"
      ]
     },
     "metadata": {},
     "output_type": "display_data"
    },
    {
     "data": {
      "image/png": "[encoded data removed]",
      "text/latex": [
       "$\\displaystyle C_{0} \\left(M_{1} M_{2} {{c^{(2)}_R}} {{c^{(3)}_R}} + M_{1} m_{j} {{c^{(2)}_L}} {{c^{(3)}_R}} + M_{2} m_{i} {{c^{(2)}_R}} {{c^{(3)}_L}} + m_{i} m_{j} {{c^{(2)}_L}} {{c^{(3)}_L}}\\right) - C_{1} m_{i} {{c^{(3)}_L}} \\left(M_{2} {{c^{(2)}_R}} + m_{j} {{c^{(2)}_L}}\\right) + C_{2} m_{j} {{c^{(2)}_L}} \\left(M_{1} {{c^{(3)}_R}} + m_{i} {{c^{(3)}_L}}\\right)$"
      ],
      "text/plain": [
       "C₀⋅(M₁⋅M₂⋅{{c_R}}__{(2)}⋅{{c_R}}__{(3)} + M₁⋅m_j⋅{{c_L}}__{(2)}⋅{{c_R}}__{(3)}\n",
       " + M₂⋅mᵢ⋅{{c_R}}__{(2)}⋅{{c_L}}__{(3)} + mᵢ⋅m_j⋅{{c_L}}__{(2)}⋅{{c_L}}__{(3)})\n",
       " - C₁⋅mᵢ⋅{{c_L}}__{(3)}⋅(M₂⋅{{c_R}}__{(2)} + m_j⋅{{c_L}}__{(2)}) + C₂⋅m_j⋅{{c_\n",
       "L}}__{(2)}⋅(M₁⋅{{c_R}}__{(3)} + mᵢ⋅{{c_L}}__{(3)})"
      ]
     },
     "execution_count": 12,
     "metadata": {},
     "output_type": "execute_result"
    }
   ],
   "source": [
    "display((c2.T*Ht*c3)[0].expand())\n",
    "(c2.T*Ht*c3)[0].expand().subs(cambiosH).simplify().subs(cambiosX).expand().collect([C0,C1,C2],simplify)"
   ]
  },
  {
   "cell_type": "code",
   "execution_count": 13,
   "metadata": {},
   "outputs": [
    {
     "data": {
      "image/png": "[encoded data removed]",
      "text/latex": [
       "$\\displaystyle \\frac{H_{2} {{c^{(2)}_R}} {{c^{(3)}_R}}}{H_{2} H_{7} - H_{4} H_{5}} - \\frac{H_{4} {{c^{(2)}_R}} {{c^{(3)}_L}}}{H_{2} H_{7} - H_{4} H_{5}} - \\frac{H_{5} {{c^{(2)}_L}} {{c^{(3)}_R}}}{H_{2} H_{7} - H_{4} H_{5}} + \\frac{H_{7} {{c^{(2)}_L}} {{c^{(3)}_L}}}{H_{2} H_{7} - H_{4} H_{5}}$"
      ],
      "text/plain": [
       "H₂⋅{{c_R}}__{(2)}⋅{{c_R}}__{(3)}   H₄⋅{{c_R}}__{(2)}⋅{{c_L}}__{(3)}   H₅⋅{{c_L\n",
       "──────────────────────────────── - ──────────────────────────────── - ────────\n",
       "         H₂⋅H₇ - H₄⋅H₅                      H₂⋅H₇ - H₄⋅H₅                     \n",
       "\n",
       "}}__{(2)}⋅{{c_R}}__{(3)}   H₇⋅{{c_L}}__{(2)}⋅{{c_L}}__{(3)}\n",
       "──────────────────────── + ────────────────────────────────\n",
       " H₂⋅H₇ - H₄⋅H₅                      H₂⋅H₇ - H₄⋅H₅          "
      ]
     },
     "metadata": {},
     "output_type": "display_data"
    },
    {
     "data": {
      "image/png": "[encoded data removed]",
      "text/latex": [
       "$\\displaystyle \\frac{C_{0} {{c^{(2)}_L}} {{c^{(3)}_L}}}{C_{1} C_{2} m_{i} m_{j}} - \\frac{C_{0} {{c^{(2)}_L}} {{c^{(3)}_R}}}{C_{1} C_{2} M_{2} m_{i}} - \\frac{C_{0} {{c^{(2)}_R}} {{c^{(3)}_L}}}{C_{1} C_{2} M_{1} m_{j}} + \\frac{C_{0} {{c^{(2)}_R}} {{c^{(3)}_R}}}{C_{1} C_{2} M_{1} M_{2}} + \\frac{{{c^{(2)}_R}} {{c^{(3)}_L}}}{C_{2} M_{1} m_{j}} - \\frac{{{c^{(2)}_R}} {{c^{(3)}_R}}}{C_{2} M_{1} M_{2}} - \\frac{{{c^{(2)}_L}} {{c^{(3)}_R}}}{C_{1} M_{2} m_{i}} + \\frac{{{c^{(2)}_R}} {{c^{(3)}_R}}}{C_{1} M_{1} M_{2}}$"
      ],
      "text/plain": [
       "C₀⋅{{c_L}}__{(2)}⋅{{c_L}}__{(3)}   C₀⋅{{c_L}}__{(2)}⋅{{c_R}}__{(3)}   C₀⋅{{c_R\n",
       "──────────────────────────────── - ──────────────────────────────── - ────────\n",
       "          C₁⋅C₂⋅mᵢ⋅m_j                       C₁⋅C₂⋅M₂⋅mᵢ                      \n",
       "\n",
       "}}__{(2)}⋅{{c_L}}__{(3)}   C₀⋅{{c_R}}__{(2)}⋅{{c_R}}__{(3)}   {{c_R}}__{(2)}⋅{\n",
       "──────────────────────── + ──────────────────────────────── + ────────────────\n",
       "  C₁⋅C₂⋅M₁⋅m_j                       C₁⋅C₂⋅M₁⋅M₂                        C₂⋅M₁⋅\n",
       "\n",
       "{c_L}}__{(3)}   {{c_R}}__{(2)}⋅{{c_R}}__{(3)}   {{c_L}}__{(2)}⋅{{c_R}}__{(3)} \n",
       "───────────── - ───────────────────────────── - ───────────────────────────── \n",
       "m_j                        C₂⋅M₁⋅M₂                        C₁⋅M₂⋅mᵢ           \n",
       "\n",
       "  {{c_R}}__{(2)}⋅{{c_R}}__{(3)}\n",
       "+ ─────────────────────────────\n",
       "             C₁⋅M₁⋅M₂          "
      ]
     },
     "execution_count": 13,
     "metadata": {},
     "output_type": "execute_result"
    }
   ],
   "source": [
    "display((c2.T*Ht.inv()*c3)[0].expand())\n",
    "(c2.T*Ht.inv()*c3)[0].expand().factor().subs(cambiosH).factor().subs(cambiosX).expand()"
   ]
  },
  {
   "cell_type": "code",
   "execution_count": 14,
   "metadata": {},
   "outputs": [
    {
     "data": {
      "image/png": "[encoded data removed]",
      "text/latex": [
       "$\\displaystyle \\left[\\begin{matrix}\\frac{H_{2} H_{7}}{H_{2} H_{7} - H_{4} H_{5}} - \\frac{H_{4} H_{5}}{H_{2} H_{7} - H_{4} H_{5}} & 0\\\\0 & \\frac{H_{2} H_{7}}{H_{2} H_{7} - H_{4} H_{5}} - \\frac{H_{4} H_{5}}{H_{2} H_{7} - H_{4} H_{5}}\\end{matrix}\\right]$"
      ],
      "text/plain": [
       "⎡    H₂⋅H₇           H₄⋅H₅                                   ⎤\n",
       "⎢───────────── - ─────────────                0              ⎥\n",
       "⎢H₂⋅H₇ - H₄⋅H₅   H₂⋅H₇ - H₄⋅H₅                               ⎥\n",
       "⎢                                                            ⎥\n",
       "⎢                                   H₂⋅H₇           H₄⋅H₅    ⎥\n",
       "⎢              0                ───────────── - ─────────────⎥\n",
       "⎣                               H₂⋅H₇ - H₄⋅H₅   H₂⋅H₇ - H₄⋅H₅⎦"
      ]
     },
     "execution_count": 14,
     "metadata": {},
     "output_type": "execute_result"
    }
   ],
   "source": [
    "Ht.inv()*Ht#*Ht.inv()"
   ]
  },
  {
   "cell_type": "code",
   "execution_count": 15,
   "metadata": {},
   "outputs": [
    {
     "data": {
      "image/png": "[encoded data removed]",
      "text/latex": [
       "$\\displaystyle H_{1} {{c^{(2)}_R}} {{c^{(3)}_R}} + H_{3} {{c^{(2)}_L}} {{c^{(3)}_R}} + H_{6} {{c^{(2)}_R}} {{c^{(3)}_L}}$"
      ],
      "text/plain": [
       "H₁⋅{{c_R}}__{(2)}⋅{{c_R}}__{(3)} + H₃⋅{{c_L}}__{(2)}⋅{{c_R}}__{(3)} + H₆⋅{{c_R\n",
       "}}__{(2)}⋅{{c_L}}__{(3)}"
      ]
     },
     "execution_count": 15,
     "metadata": {},
     "output_type": "execute_result"
    }
   ],
   "source": [
    "(c2.T*Hh*c3)[0].expand()"
   ]
  },
  {
   "cell_type": "code",
   "execution_count": 16,
   "metadata": {},
   "outputs": [
    {
     "data": {
      "image/png": "[encoded data removed]",
      "text/latex": [
       "$\\displaystyle - \\frac{H_{1} {{c^{(2)}_L}} {{c^{(3)}_L}}}{H_{3} H_{6}} + \\frac{{{c^{(2)}_L}} {{c^{(3)}_R}}}{H_{6}} + \\frac{{{c^{(2)}_R}} {{c^{(3)}_L}}}{H_{3}}$"
      ],
      "text/plain": [
       "  H₁⋅{{c_L}}__{(2)}⋅{{c_L}}__{(3)}   {{c_L}}__{(2)}⋅{{c_R}}__{(3)}   {{c_R}}__\n",
       "- ──────────────────────────────── + ───────────────────────────── + ─────────\n",
       "               H₃⋅H₆                               H₆                         \n",
       "\n",
       "{(2)}⋅{{c_L}}__{(3)}\n",
       "────────────────────\n",
       "     H₃             "
      ]
     },
     "execution_count": 16,
     "metadata": {},
     "output_type": "execute_result"
    }
   ],
   "source": [
    "(c2.T*Hh.inv()*c3)[0].expand()"
   ]
  },
  {
   "cell_type": "markdown",
   "metadata": {},
   "source": [
    "# Contribuciones con un neutrino en el loop\n"
   ]
  },
  {
   "cell_type": "markdown",
   "metadata": {},
   "source": [
    "Analizem0 os que sucede con la notación para los factores de forma en términos de matrices. En el caso de todas las contribuciones de este tipo, los facotres de forma adquieren la siguiente estructura:\n",
    "$$A_R^{a} = c_R^{(2)}c_R^{(3)} H_{RR} + c_R^{(2)}c_L^{(3)} H_{RL} + c_L^{(2)}c_R^{(3)} H_{LR} + c_L^{(2)}c_L^{(3)} H_{LL}$$\n",
    "la cual puede ser rescrita de la siguiente manera\n",
    "\n",
    "$$A_R^{a} = {c^{(2)}}^{\\top}\\cdot H \\cdot c^{(3)}$$\n",
    "donde \n",
    "\n",
    "$$c^{(i)} = \n",
    "\\begin{pmatrix}\n",
    "c^{(i)}_R\\\\\n",
    "c^{(i)}_L\n",
    "\\end{pmatrix}\n",
    "$$\n",
    "y\n",
    "$$H = \n",
    "\\begin{pmatrix}\n",
    "H_{RR} & H_{RL}\\\\\n",
    "H_{LR} & H_{LL}\n",
    "\\end{pmatrix}\n",
    "$$"
   ]
  },
  {
   "cell_type": "code",
   "execution_count": 17,
   "metadata": {},
   "outputs": [
    {
     "data": {
      "image/png": "[encoded data removed]",
      "text/latex": [
       "$\\displaystyle \\left[\\begin{matrix}H_{RR} & H_{RL}\\\\H_{LR} & H_{LL}\\end{matrix}\\right]$"
      ],
      "text/plain": [
       "⎡H_{RR}  H_{RL}⎤\n",
       "⎢              ⎥\n",
       "⎣H_{LR}  H_{LL}⎦"
      ]
     },
     "execution_count": 17,
     "metadata": {},
     "output_type": "execute_result"
    }
   ],
   "source": [
    "HRR,HRL,HLR,HLL = symbols('H_{RR},H_{RL},H_{LR},H_{LL}')\n",
    "H = Matrix([[HRR,HRL],[HLR,HLL]])\n",
    "H"
   ]
  },
  {
   "cell_type": "code",
   "execution_count": 18,
   "metadata": {},
   "outputs": [
    {
     "data": {
      "image/png": "[encoded data removed]",
      "text/latex": [
       "$\\displaystyle H_{LL} {{c^{(2)}_L}} {{c^{(3)}_L}} + H_{LR} {{c^{(2)}_L}} {{c^{(3)}_R}} + H_{RL} {{c^{(2)}_R}} {{c^{(3)}_L}} + H_{RR} {{c^{(2)}_R}} {{c^{(3)}_R}}$"
      ],
      "text/plain": [
       "H_{LL}⋅{{c_L}}__{(2)}⋅{{c_L}}__{(3)} + H_{LR}⋅{{c_L}}__{(2)}⋅{{c_R}}__{(3)} + \n",
       "H_{RL}⋅{{c_R}}__{(2)}⋅{{c_L}}__{(3)} + H_{RR}⋅{{c_R}}__{(2)}⋅{{c_R}}__{(3)}"
      ]
     },
     "execution_count": 18,
     "metadata": {},
     "output_type": "execute_result"
    }
   ],
   "source": [
    "(c2.T*H*c3)[0].expand()"
   ]
  },
  {
   "cell_type": "code",
   "execution_count": 19,
   "metadata": {},
   "outputs": [
    {
     "data": {
      "image/png": "[encoded data removed]",
      "text/latex": [
       "$\\displaystyle \\left({{c^{(2)}_L}} \\left(H_{LL} {{c^{(3)}_L}} + H_{LR} {{c^{(3)}_R}}\\right) + {{c^{(2)}_R}} \\left(H_{RL} {{c^{(3)}_L}} + H_{RR} {{c^{(3)}_R}}\\right)\\right) \\left({{c^{(3)}_L}} \\left(H_{LL} {{c^{(3)}_L}} + H_{LR} {{c^{(3)}_R}}\\right) + {{c^{(3)}_R}} \\left(H_{RL} {{c^{(3)}_L}} + H_{RR} {{c^{(3)}_R}}\\right)\\right)$"
      ],
      "text/plain": [
       "({{c_L}}__{(2)}⋅(H_{LL}⋅{{c_L}}__{(3)} + H_{LR}⋅{{c_R}}__{(3)}) + {{c_R}}__{(2\n",
       ")}⋅(H_{RL}⋅{{c_L}}__{(3)} + H_{RR}⋅{{c_R}}__{(3)}))⋅({{c_L}}__{(3)}⋅(H_{LL}⋅{{\n",
       "c_L}}__{(3)} + H_{LR}⋅{{c_R}}__{(3)}) + {{c_R}}__{(3)}⋅(H_{RL}⋅{{c_L}}__{(3)} \n",
       "+ H_{RR}⋅{{c_R}}__{(3)}))"
      ]
     },
     "execution_count": 19,
     "metadata": {},
     "output_type": "execute_result"
    }
   ],
   "source": [
    "(c2.T*(H*(c3*c3.T)*H.T)*c3)[0].simplify()"
   ]
  },
  {
   "cell_type": "code",
   "execution_count": 20,
   "metadata": {},
   "outputs": [
    {
     "data": {
      "image/png": "[encoded data removed]",
      "text/latex": [
       "$\\displaystyle \\left( \\left[\\begin{matrix}1 & 0\\\\0 & 1\\end{matrix}\\right], \\  \\left[\\begin{matrix}0 & 1\\\\1 & 0\\end{matrix}\\right], \\  \\left[\\begin{matrix}0 & 1\\\\-1 & 0\\end{matrix}\\right], \\  \\left[\\begin{matrix}1 & 0\\\\0 & -1\\end{matrix}\\right]\\right)$"
      ],
      "text/plain": [
       "⎛⎡1  0⎤  ⎡0  1⎤  ⎡0   1⎤  ⎡1  0 ⎤⎞\n",
       "⎜⎢    ⎥, ⎢    ⎥, ⎢     ⎥, ⎢     ⎥⎟\n",
       "⎝⎣0  1⎦  ⎣1  0⎦  ⎣-1  0⎦  ⎣0  -1⎦⎠"
      ]
     },
     "execution_count": 20,
     "metadata": {},
     "output_type": "execute_result"
    }
   ],
   "source": [
    "s0 = Matrix([[1,0],[0,1]])\n",
    "s1 = Matrix([[0,1],[1,0]])\n",
    "s2 = Matrix([[0,-I],[I,0]])\n",
    "s3 = Matrix([[1,0],[0,-1]])\n",
    "s = s0,s1,I*s2,s3\n",
    "s"
   ]
  },
  {
   "cell_type": "code",
   "execution_count": 21,
   "metadata": {},
   "outputs": [
    {
     "data": {
      "image/png": "[encoded data removed]",
      "text/latex": [
       "$\\displaystyle \\left[ \\left[\\begin{matrix}H_{RR} & H_{RL}\\\\H_{LR} & H_{LL}\\end{matrix}\\right], \\  \\left[\\begin{matrix}H_{LL} & H_{LR}\\\\H_{RL} & H_{RR}\\end{matrix}\\right], \\  \\left[\\begin{matrix}- H_{LL} & H_{LR}\\\\H_{RL} & - H_{RR}\\end{matrix}\\right], \\  \\left[\\begin{matrix}H_{RR} & - H_{RL}\\\\- H_{LR} & H_{LL}\\end{matrix}\\right]\\right]$"
      ],
      "text/plain": [
       "⎡⎡H_{RR}  H_{RL}⎤  ⎡H_{LL}  H_{LR}⎤  ⎡-H_{LL}  H_{LR} ⎤  ⎡H_{RR}   -H_{RL}⎤⎤\n",
       "⎢⎢              ⎥, ⎢              ⎥, ⎢                ⎥, ⎢                ⎥⎥\n",
       "⎣⎣H_{LR}  H_{LL}⎦  ⎣H_{RL}  H_{RR}⎦  ⎣H_{RL}   -H_{RR}⎦  ⎣-H_{LR}  H_{LL} ⎦⎦"
      ]
     },
     "execution_count": 21,
     "metadata": {},
     "output_type": "execute_result"
    }
   ],
   "source": [
    "[a*H*a for a in s]"
   ]
  },
  {
   "cell_type": "code",
   "execution_count": 22,
   "metadata": {},
   "outputs": [
    {
     "data": {
      "image/png": "[encoded data removed]",
      "text/latex": [
       "$\\displaystyle \\left[\\begin{matrix}{{c^{(2)}_L}} & {{c^{(2)}_R}}\\end{matrix}\\right]$"
      ],
      "text/plain": [
       "[{{c_L}}__{(2)}  {{c_R}}__{(2)}]"
      ]
     },
     "execution_count": 22,
     "metadata": {},
     "output_type": "execute_result"
    }
   ],
   "source": [
    "c2.T*s1"
   ]
  },
  {
   "cell_type": "code",
   "execution_count": 25,
   "metadata": {},
   "outputs": [
    {
     "data": {
      "image/png": "[encoded data removed]",
      "text/latex": [
       "$\\displaystyle \\left[\\begin{matrix}-1 & 0\\\\0 & -1\\end{matrix}\\right]$"
      ],
      "text/plain": [
       "⎡-1  0 ⎤\n",
       "⎢      ⎥\n",
       "⎣0   -1⎦"
      ]
     },
     "execution_count": 25,
     "metadata": {},
     "output_type": "execute_result"
    }
   ],
   "source": [
    "I*s0*s1*s2*s3"
   ]
  },
  {
   "cell_type": "code",
   "execution_count": 32,
   "metadata": {},
   "outputs": [],
   "source": [
    "σ0,σ1,σ2,σ3 = symbols('sigma_0,sigma_1,sigma_2,sigma_3')\n",
    "ga0 = Matrix([[0,σ0],[σ0,0]])\n",
    "gai = lambda c: Matrix([[0,c],[-c,0]])"
   ]
  },
  {
   "cell_type": "code",
   "execution_count": 27,
   "metadata": {},
   "outputs": [
    {
     "data": {
      "image/png": "[encoded data removed]",
      "text/latex": [
       "$\\displaystyle \\left[\\begin{matrix}\\sigma_{0} \\sigma_{1} \\sigma_{2} \\sigma_{3} & 0\\\\0 & - \\sigma_{0} \\sigma_{1} \\sigma_{2} \\sigma_{3}\\end{matrix}\\right]$"
      ],
      "text/plain": [
       "⎡σ₀⋅σ₁⋅σ₂⋅σ₃       0      ⎤\n",
       "⎢                         ⎥\n",
       "⎣     0       -σ₀⋅σ₁⋅σ₂⋅σ₃⎦"
      ]
     },
     "execution_count": 27,
     "metadata": {},
     "output_type": "execute_result"
    }
   ],
   "source": [
    "ga0*gai(σ1)*gai(σ2)*gai(σ3)"
   ]
  },
  {
   "cell_type": "markdown",
   "metadata": {},
   "source": [
    "## Contribution FSS\n"
   ]
  },
  {
   "cell_type": "code",
   "execution_count": 30,
   "metadata": {},
   "outputs": [
    {
     "data": {
      "image/png": "[encoded data removed]",
      "text/latex": [
       "$\\displaystyle \\left( {{c^{(2)}_R}}, \\  {{c^{(2)}_L}}\\right)$"
      ],
      "text/plain": [
       "({{c_R}}__{(2)}, {{c_L}}__{(2)})"
      ]
     },
     "execution_count": 30,
     "metadata": {},
     "output_type": "execute_result"
    }
   ],
   "source": [
    "c2[0],c2[1]"
   ]
  },
  {
   "cell_type": "code",
   "execution_count": 76,
   "metadata": {},
   "outputs": [
    {
     "data": {
      "image/png": "[encoded data removed]",
      "text/latex": [
       "$\\displaystyle \\left[\\begin{matrix}{{c^{(2)}_L}} & 0\\\\0 & {{c^{(2)}_R}}\\end{matrix}\\right]$"
      ],
      "text/plain": [
       "⎡{{c_L}}__{(2)}        0       ⎤\n",
       "⎢                              ⎥\n",
       "⎣      0         {{c_R}}__{(2)}⎦"
      ]
     },
     "execution_count": 76,
     "metadata": {},
     "output_type": "execute_result"
    }
   ],
   "source": [
    "v = lambda c: Matrix([[c[1],0],[0,c[0]]])\n",
    "v3 = v(c3)\n",
    "v2 = v(c2)\n",
    "v2"
   ]
  },
  {
   "cell_type": "code",
   "execution_count": 77,
   "metadata": {},
   "outputs": [
    {
     "data": {
      "image/png": "[encoded data removed]",
      "text/latex": [
       "$\\displaystyle {\\overline{\\sigma}^{\\mu}}$"
      ],
      "text/plain": [
       "{\\overline{\\sigma}__{\\mu}}"
      ]
     },
     "execution_count": 77,
     "metadata": {},
     "output_type": "execute_result"
    }
   ],
   "source": [
    "σ = lambda s: symbols(fr'{{\\sigma^{{{s}}}}}',commutative=False)\n",
    "σb = lambda s: symbols(fr'{{\\overline{{\\sigma}}^{{{s}}}}}',commutative=False) \n",
    "σ(1)\n",
    "σb('\\mu')"
   ]
  },
  {
   "cell_type": "code",
   "execution_count": 78,
   "metadata": {},
   "outputs": [
    {
     "data": {
      "image/png": "[encoded data removed]",
      "text/latex": [
       "$\\displaystyle \\left[\\begin{matrix}0 & {\\sigma^{\\mu}}\\\\{\\overline{\\sigma}^{\\mu}} & 0\\end{matrix}\\right]$"
      ],
      "text/plain": [
       "⎡            0               {\\sigma__{\\mu}}⎤\n",
       "⎢                                           ⎥\n",
       "⎣{\\overline{\\sigma}__{\\mu}}         0       ⎦"
      ]
     },
     "execution_count": 78,
     "metadata": {},
     "output_type": "execute_result"
    }
   ],
   "source": [
    "ga = lambda s: Matrix([[0,σ(s)],[σb(s),0]])\n",
    "ga('\\mu')"
   ]
  },
  {
   "cell_type": "code",
   "execution_count": 79,
   "metadata": {},
   "outputs": [
    {
     "data": {
      "image/png": "[encoded data removed]",
      "text/latex": [
       "$\\displaystyle k_{\\mu}$"
      ],
      "text/plain": [
       "k_{\\mu}"
      ]
     },
     "execution_count": 79,
     "metadata": {},
     "output_type": "execute_result"
    }
   ],
   "source": [
    "FV = lambda p,mu: symbols(f'{p}_{{{mu}}}')\n",
    "FV('k','\\mu')"
   ]
  },
  {
   "cell_type": "code",
   "execution_count": 80,
   "metadata": {},
   "outputs": [
    {
     "data": {
      "text/plain": [
       "('μ', 'ν', 'α', 'β')"
      ]
     },
     "execution_count": 80,
     "metadata": {},
     "output_type": "execute_result"
    }
   ],
   "source": [
    "mu,nu,a,b = 'μ','ν','α','β'\n",
    "k,p1,p2 = 'k','p_1','p_2'\n",
    "M0 = symbols('M0',positive=True)\n",
    "mu,nu,a,b"
   ]
  },
  {
   "cell_type": "code",
   "execution_count": 81,
   "metadata": {},
   "outputs": [
    {
     "data": {
      "text/latex": [
       "$\\displaystyle \\left[\\begin{matrix}M_{0} {{c^{(2)}_L}} {{c^{(3)}_L}} & k_{μ} {{c^{(2)}_R}} {{c^{(3)}_L}} {\\sigma^{μ}}\\\\k_{μ} {{c^{(2)}_L}} {{c^{(3)}_R}} {\\overline{\\sigma}^{μ}} & M_{0} {{c^{(2)}_R}} {{c^{(3)}_R}}\\end{matrix}\\right]$"
      ],
      "text/plain": [
       "⎡              M₀⋅{{c_L}}__{(2)}⋅{{c_L}}__{(3)}                k_{μ}⋅{{c_R}}__\n",
       "⎢                                                                             \n",
       "⎣k_{μ}⋅{{c_L}}__{(2)}⋅{{c_R}}__{(3)}⋅{\\overline{\\sigma}__{μ}}          M₀⋅{{c_\n",
       "\n",
       "{(2)}⋅{{c_L}}__{(3)}⋅{\\sigma__{μ}}⎤\n",
       "                                  ⎥\n",
       "R}}__{(2)}⋅{{c_R}}__{(3)}         ⎦"
      ]
     },
     "execution_count": 81,
     "metadata": {},
     "output_type": "execute_result"
    }
   ],
   "source": [
    "MFSS = FV('k',mu)*v3*ga(mu)*v2 + M0*v3*v2 \n",
    "MFSS"
   ]
  },
  {
   "cell_type": "markdown",
   "metadata": {},
   "source": [
    "## Contribucion FSV"
   ]
  },
  {
   "cell_type": "code",
   "execution_count": 84,
   "metadata": {},
   "outputs": [
    {
     "data": {
      "text/latex": [
       "$\\displaystyle \\left[\\begin{matrix}k_{μ} {{c^{(2)}_L}} {{c^{(3)}_L}} {\\sigma^{μ}} {\\overline{\\sigma}^{α}} & M_{0} k_{μ} {{c^{(2)}_R}} {{c^{(3)}_L}} {\\sigma^{α}}\\\\M_{0} k_{μ} {{c^{(2)}_L}} {{c^{(3)}_R}} {\\overline{\\sigma}^{α}} & k_{μ} {{c^{(2)}_R}} {{c^{(3)}_R}} {\\overline{\\sigma}^{μ}} {\\sigma^{α}}\\end{matrix}\\right]$"
      ],
      "text/plain": [
       "⎡k_{μ}⋅{{c_L}}__{(2)}⋅{{c_L}}__{(3)}⋅{\\sigma__{μ}}⋅{\\overline{\\sigma}__{α}}   \n",
       "⎢                                                                             \n",
       "⎣     M₀⋅k_{μ}⋅{{c_L}}__{(2)}⋅{{c_R}}__{(3)}⋅{\\overline{\\sigma}__{α}}        k\n",
       "\n",
       "          M₀⋅k_{μ}⋅{{c_R}}__{(2)}⋅{{c_L}}__{(3)}⋅{\\sigma__{α}}           ⎤\n",
       "                                                                         ⎥\n",
       "_{μ}⋅{{c_R}}__{(2)}⋅{{c_R}}__{(3)}⋅{\\overline{\\sigma}__{μ}}⋅{\\sigma__{α}}⎦"
      ]
     },
     "execution_count": 84,
     "metadata": {},
     "output_type": "execute_result"
    }
   ],
   "source": [
    "M1 = FV('k',mu)*v3*(ga(mu) + M0*eye(2))*ga(a)*v2\n",
    "M1"
   ]
  },
  {
   "cell_type": "code",
   "execution_count": null,
   "metadata": {},
   "outputs": [],
   "source": []
  }
 ],
 "metadata": {
  "kernelspec": {
   "display_name": "Python 3",
   "language": "python",
   "name": "python3"
  },
  "language_info": {
   "codemirror_mode": {
    "name": "ipython",
    "version": 3
   },
   "file_extension": ".py",
   "mimetype": "text/x-python",
   "name": "python",
   "nbconvert_exporter": "python",
   "pygments_lexer": "ipython3",
   "version": "3.7.6"
  }
 },
 "nbformat": 4,
 "nbformat_minor": 4
}
