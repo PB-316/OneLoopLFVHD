{
 "cells": [
  {
   "cell_type": "markdown",
   "metadata": {},
   "source": [
    "# LFV Higgs decays in 2HDM with a seesaw type I"
   ]
  },
  {
   "cell_type": "markdown",
   "metadata": {},
   "source": [
    "In this model the couplings that allows LFVHD are given by \n",
    "\n",
    "| Vertex|coupling&nbsp;&nbsp;&nbsp;&nbsp;&nbsp;&nbsp;&nbsp;&nbsp;&nbsp;&nbsp;&nbsp;&nbsp;&nbsp;&nbsp;&nbsp;&nbsp;&nbsp;&nbsp;&nbsp;&nbsp;&nbsp;&nbsp;&nbsp;&nbsp;&nbsp;&nbsp;&nbsp;&nbsp;&nbsp;&nbsp;&nbsp;&nbsp;&nbsp;&nbsp;&nbsp;&nbsp;&nbsp;&nbsp;&nbsp;&nbsp;&nbsp;&nbsp;&nbsp;|Vertex|coupling&nbsp;&nbsp;&nbsp;&nbsp;&nbsp;&nbsp;&nbsp;&nbsp;&nbsp;&nbsp;&nbsp;&nbsp;&nbsp;&nbsp;&nbsp;&nbsp;&nbsp;&nbsp;&nbsp;&nbsp;&nbsp;&nbsp;&nbsp;&nbsp;&nbsp;&nbsp;&nbsp;&nbsp;&nbsp;&nbsp;&nbsp;&nbsp;&nbsp;&nbsp;&nbsp;&nbsp;&nbsp;&nbsp;&nbsp;&nbsp;&nbsp;&nbsp;&nbsp;|\n",
    "|-------------------------------------------------|------------------------------------------------------------------------------------------------------------------------------|------------------------------------------------------|---------------------------------------------------------------------------------------------------------------------------------|\n",
    "|$g_{\\phi W^+ W^-}$|$ig m_W \\Xi_\\phi$|$g_{\\phi G^+ G^-}$|$-i \\frac{g m_\\phi^2 \\Xi_\\phi}{2 m_W}$|\n",
    "|$g_{\\phi G^+ W^-}$|$-i \\frac{g \\Xi_\\phi}{2}(p_+ - p_0)_\\mu$|$g_{\\phi W^+ G^-}$|$-i \\frac{g \\Xi_\\phi}{2}(p_0 - p_-)_\\mu$|\n",
    "| $g_{\\phi H^{\\pm}G^{\\mp}}$|$i \\frac{g \\eta_\\phi(m_{H^{\\pm}}^2 - m_h^2)}{2 m_W}$|$g_{\\phi H^{\\pm}H^{\\mp}}$| $i \\frac{\\rho_\\phi g_\\phi - \\Delta_\\phi \\mathcal{G}_\\phi}{4 s_W m_W \\sin{2 \\beta}} + i \\frac{4 \\lambda_5 s_W m_W \\rho_\\phi}{e^2 \\sin{2 \\beta}}$|\n",
    "|$g_{\\phi l \\overline{l}}$|$-i \\xi_\\phi^{l}\\frac{m_l}{2 m_W s_W}$|$g_{\\phi n_i n_j}$|$\\frac{-i g \\Xi_\\phi}{2 m_W}\\left[C_{i j}\\left(P_{L} m_{n_{i}}+P_{R} m_{n_{j}}\\right) \\quad+C_{i j}^{*}\\left(P_{L} m_{n_{j}}+P_{R} m_{n_{i}}\\right)\\right]$|\n",
    "|$\\bar{n}_{i}e_{a} W_{\\mu}^{+}$|$\\frac{i g}{\\sqrt{2}} U_{a i}^{\\nu} \\gamma^{\\mu}P_{L}$|$\\overline{e_{a}}n_{j}W_{\\mu}^{-}$|$\\frac{i g}{\\sqrt{2}} U_{a j}^{\\nu *}\\gamma^{\\mu} P_{L}$|\n",
    "|$\\bar{n}_{i} e_{a} G_{W}^{+}$|$-\\frac{i g}{\\sqrt{2} m_{W}} U_{a i}^{\\nu}\\left(m_{e_{a}}P_{R}-m_{n, i} P_{L}\\right)$|$\\overline{e_{a}} n_{j} G_{W}^{-}$|$-\\frac{i g}{\\sqrt{2} m_{W}} U_{a j}^{\\nu*}\\left(m_{e_{a}} P_{L}-m_{n, j} P_{R}\\right)$|"
   ]
  },
  {
   "cell_type": "code",
   "execution_count": 1,
   "metadata": {},
   "outputs": [],
   "source": [
    "from sympy import symbols, init_printing, conjugate,I,pi,IndexedBase,sqrt,Add,simplify,factor,conjugate\n",
    "init_printing()"
   ]
  },
  {
   "cell_type": "markdown",
   "metadata": {},
   "source": [
    "**Assigning masses of initial and final particles**"
   ]
  },
  {
   "cell_type": "code",
   "execution_count": 2,
   "metadata": {},
   "outputs": [],
   "source": [
    "import OneLoopLFVHD as lfvhd"
   ]
  },
  {
   "cell_type": "markdown",
   "metadata": {},
   "source": [
    "**Defining symbolic variables**"
   ]
  },
  {
   "cell_type": "code",
   "execution_count": 3,
   "metadata": {},
   "outputs": [],
   "source": [
    "g = symbols('g',positive=True)\n",
    "mW,mG = symbols('m_W,m_G',positive=True)\n",
    "Ξϕ = symbols('\\Xi_{\\phi}', real=True)\n",
    "\n",
    "Uν = IndexedBase(r'{{U^\\nu}}')\n",
    "Uνc = IndexedBase(r'{{U^{\\nu *}}}')\n",
    "mn = IndexedBase(r'{{m_n}}')\n",
    "#me = IndexedBase(r'{{m_e}}')\n",
    "C = IndexedBase(r'C')\n",
    "Cc = IndexedBase(r'{{C^*}}')\n",
    "a,b,i,j = symbols('a,b,i,j',integer=True)"
   ]
  },
  {
   "cell_type": "code",
   "execution_count": 4,
   "metadata": {},
   "outputs": [
    {
     "data": {
      "image/png": "[encoded data removed]",
      "text/latex": [
       "$\\displaystyle \\left\\{ a : m_{i}, \\  b : m_{j}\\right\\}$"
      ],
      "text/plain": [
       "{a: mᵢ, b: m_j}"
      ]
     },
     "execution_count": 4,
     "metadata": {
      "filenames": {
       "image/png": "/home/moiseszm/OneLoopLFVHD/Examples/2HDM/_build/jupyter_execute/FF_symbolic_7_0.png"
      }
     },
     "output_type": "execute_result"
    }
   ],
   "source": [
    "mϕ = lfvhd.ma\n",
    "me = {a:lfvhd.mi,b:lfvhd.mj}\n",
    "me"
   ]
  },
  {
   "cell_type": "markdown",
   "metadata": {},
   "source": [
    "**Defining vertexes**"
   ]
  },
  {
   "cell_type": "code",
   "execution_count": 5,
   "metadata": {},
   "outputs": [],
   "source": [
    "vertexϕWW = lfvhd.VertexHVV(I*g*mW*Ξϕ)\n",
    "vertexϕGG = lfvhd.VertexHSS((-I*g*mϕ**2*Ξϕ)/(2*mW))\n",
    "\n",
    "vertexhWG = lfvhd.VertexHVpSm(I*g/2)\n",
    "vertexhGW = lfvhd.VertexHSpVm(I*g/2)\n",
    "\n",
    "vertexneWu =lambda i,a: lfvhd.VertexVFF(0,I*g/sqrt(2)*Uν[a,i])\n",
    "vertexenWd =lambda j,b: lfvhd.VertexVFF(0,I*g/sqrt(2)*Uνc[b,j])\n",
    "\n",
    "vertexneGu = lambda i,a: lfvhd.VertexSFF((-I*g)/(sqrt(2)*mW)*me[a]*Uν[a,i],\n",
    "                                         (I*g)/(sqrt(2)*mW)*mn[i]*Uν[a,i])\n",
    "\n",
    "vertexenGd = lambda j,b: lfvhd.VertexSFF((I*g)/(sqrt(2)*mW)*mn[j]*Uνc[b,j],\n",
    "                                         (-I*g)/(sqrt(2)*mW)*me[b]*Uνc[b,j])\n",
    "\n",
    "vertexhnn = lambda i,j: lfvhd.VertexHF0F0((-I*g)/(2*mW)*(mn[j]*C[i,j] + mn[i]*Cc[i,j]),\n",
    "                                          (-I*g)/(2*mW)*(mn[i]*C[i,j] + mn[j]*Cc[i,j]))\n",
    "\n",
    "vertexhee = lambda a:lfvhd.VertexHFF((-I*g*me[a])/(2*mW))"
   ]
  },
  {
   "cell_type": "markdown",
   "metadata": {},
   "source": [
    "## Form factors of SeeSaw model"
   ]
  },
  {
   "cell_type": "markdown",
   "metadata": {},
   "source": [
    "We are taking the diagrams of [Lepton flavor violating Higgs boson decays from massive seesaw neutrinos](https://arxiv.org/pdf/hep-ph/0407302.pdf), and we reproduce the form factor of [Lepton flavor violating Higgs boson decays in seesaw models: New discussions](https://inspirehep.net/files/b569c392f2240d487f9731316b2d5ffc)"
   ]
  },
  {
   "cell_type": "markdown",
   "metadata": {},
   "source": [
    "### Triangle Gninj\n",
    "The **left** form factor"
   ]
  },
  {
   "cell_type": "code",
   "execution_count": 6,
   "metadata": {},
   "outputs": [],
   "source": [
    "A = g**3/(64*pi**2*mW**3) # Favtor to simplify expressions\n",
    "m = IndexedBase('m')\n",
    "h,ea,eb = symbols('h,e_a,e_b');\n",
    "cambios = {lfvhd.ma:m[h],lfvhd.mi:m[a],lfvhd.mj:m[b]}\n",
    "cambios_cross = {lfvhd.ma:m[h],lfvhd.mi:m[b],lfvhd.mj:m[a]}"
   ]
  },
  {
   "cell_type": "code",
   "execution_count": 7,
   "metadata": {},
   "outputs": [
    {
     "data": {
      "image/png": "[encoded data removed]",
      "text/latex": [
       "$\\displaystyle - \\left(\\left(m_{W}^{2} \\operatorname{C_{0}}{\\left(m_{W},{{{m_n}}}_{i},{{{m_n}}}_{j} \\right)} - \\left({m}_{a}^{2} + {m}_{b}^{2} - {{{m_n}}}_{i}^{2} - {{{m_n}}}_{j}^{2}\\right) \\operatorname{C_{1}}{\\left(m_{W},{{{m_n}}}_{i},{{{m_n}}}_{j} \\right)} + \\operatorname{{{B^{(12)}_{0}}}}{\\left({{{m_n}}}_{i},{{{m_n}}}_{j} \\right)}\\right) {{{C^*}}}_{i,j} {{{m_n}}}_{i} {{{m_n}}}_{j} + \\left(m_{W}^{2} \\operatorname{C_{0}}{\\left(m_{W},{{{m_n}}}_{i},{{{m_n}}}_{j} \\right)} {{{m_n}}}_{j}^{2} - \\left({m}_{a}^{2} {{{m_n}}}_{j}^{2} + {m}_{b}^{2} {{{m_n}}}_{i}^{2} - 2 {{{m_n}}}_{i}^{2} {{{m_n}}}_{j}^{2}\\right) \\operatorname{C_{1}}{\\left(m_{W},{{{m_n}}}_{i},{{{m_n}}}_{j} \\right)} + \\operatorname{{{B^{(12)}_{0}}}}{\\left({{{m_n}}}_{i},{{{m_n}}}_{j} \\right)} {{{m_n}}}_{j}^{2}\\right) {C}_{i,j}\\right) {m}_{a} {{{U^\\nu}}}_{b,j} {{{U^{\\nu *}}}}_{a,i}$"
      ],
      "text/plain": [
       " ⎛⎛   2                                   ⎛    2       2             2        \n",
       "-⎝⎝m_W ⋅C₀(m_W, {{m_n}}[i], {{m_n}}[j]) - ⎝m[a]  + m[b]  - {{m_n}}[i]  - {{m_n\n",
       "\n",
       "     2⎞                                                                       \n",
       "}}[j] ⎠⋅C₁(m_W, {{m_n}}[i], {{m_n}}[j]) + {{B_{0}}}__{(12)}({{m_n}}[i], {{m_n}\n",
       "\n",
       "     ⎞                                       ⎛   2                            \n",
       "}[j])⎠⋅{{C^*}}[i, j]⋅{{m_n}}[i]⋅{{m_n}}[j] + ⎝m_W ⋅C₀(m_W, {{m_n}}[i], {{m_n}}\n",
       "\n",
       "               2   ⎛    2           2       2           2               2     \n",
       "[j])⋅{{m_n}}[j]  - ⎝m[a] ⋅{{m_n}}[j]  + m[b] ⋅{{m_n}}[i]  - 2⋅{{m_n}}[i] ⋅{{m_\n",
       "\n",
       "      2⎞                                                                      \n",
       "n}}[j] ⎠⋅C₁(m_W, {{m_n}}[i], {{m_n}}[j]) + {{B_{0}}}__{(12)}({{m_n}}[i], {{m_n\n",
       "\n",
       "                 2⎞        ⎞                                         \n",
       "}}[j])⋅{{m_n}}[j] ⎠⋅C[i, j]⎠⋅m[a]⋅{{U^\\nu}}[b, j]⋅{{U^{\\nu *}}}[a, i]"
      ]
     },
     "execution_count": 7,
     "metadata": {
      "filenames": {
       "image/png": "/home/moiseszm/OneLoopLFVHD/Examples/2HDM/_build/jupyter_execute/FF_symbolic_14_0.png"
      }
     },
     "output_type": "execute_result"
    }
   ],
   "source": [
    "triangleGninj = lfvhd.TriangleSFF(vertexhnn(i,j),vertexneGu(j,b),vertexenGd(i,a),[mW,mn[i],mn[j]])\n",
    "AL1 = (-triangleGninj.AL()/A).expand().collect([C[i,j],Cc[i,j]],simplify).collect(triangleGninj.Cs\n",
    "                                                            ).simplify().subs(cambios)\n",
    "AL1"
   ]
  },
  {
   "cell_type": "markdown",
   "metadata": {},
   "source": [
    "#### Divergent term"
   ]
  },
  {
   "cell_type": "code",
   "execution_count": 8,
   "metadata": {},
   "outputs": [
    {
     "data": {
      "image/png": "[encoded data removed]",
      "text/latex": [
       "$\\displaystyle - \\Delta_{\\epsilon} \\left({C}_{i,j} {{{m_n}}}_{j} + {{{C^*}}}_{i,j} {{{m_n}}}_{i}\\right) {m}_{a} {{{U^\\nu}}}_{b,j} {{{U^{\\nu *}}}}_{a,i} {{{m_n}}}_{j}$"
      ],
      "text/plain": [
       "-\\Delta_\\epsilon⋅(C[i, j]⋅{{m_n}}[j] + {{C^*}}[i, j]⋅{{m_n}}[i])⋅m[a]⋅{{U^\\nu}\n",
       "}[b, j]⋅{{U^{\\nu *}}}[a, i]⋅{{m_n}}[j]"
      ]
     },
     "execution_count": 8,
     "metadata": {
      "filenames": {
       "image/png": "/home/moiseszm/OneLoopLFVHD/Examples/2HDM/_build/jupyter_execute/FF_symbolic_16_0.png"
      }
     },
     "output_type": "execute_result"
    }
   ],
   "source": [
    "AL1.subs(lfvhd.cambiosDivFin(mW,mn[i],mn[j])).expand(\n",
    ").collect([lfvhd.Δe],evaluate=False)[lfvhd.Δe].simplify()*lfvhd.Δe"
   ]
  },
  {
   "cell_type": "markdown",
   "metadata": {},
   "source": [
    "The **right** form factor is given by"
   ]
  },
  {
   "cell_type": "code",
   "execution_count": 9,
   "metadata": {},
   "outputs": [
    {
     "data": {
      "image/png": "[encoded data removed]",
      "text/latex": [
       "$\\displaystyle - \\left(\\left(m_{W}^{2} \\operatorname{C_{0}}{\\left(m_{W},{{{m_n}}}_{i},{{{m_n}}}_{j} \\right)} + \\left({m}_{a}^{2} + {m}_{b}^{2} - {{{m_n}}}_{i}^{2} - {{{m_n}}}_{j}^{2}\\right) \\operatorname{C_{2}}{\\left(m_{W},{{{m_n}}}_{i},{{{m_n}}}_{j} \\right)} + \\operatorname{{{B^{(12)}_{0}}}}{\\left({{{m_n}}}_{i},{{{m_n}}}_{j} \\right)}\\right) {{{C^*}}}_{i,j} {{{m_n}}}_{i} {{{m_n}}}_{j} + \\left(m_{W}^{2} \\operatorname{C_{0}}{\\left(m_{W},{{{m_n}}}_{i},{{{m_n}}}_{j} \\right)} {{{m_n}}}_{i}^{2} + \\left({m}_{a}^{2} {{{m_n}}}_{j}^{2} + {m}_{b}^{2} {{{m_n}}}_{i}^{2} - 2 {{{m_n}}}_{i}^{2} {{{m_n}}}_{j}^{2}\\right) \\operatorname{C_{2}}{\\left(m_{W},{{{m_n}}}_{i},{{{m_n}}}_{j} \\right)} + \\operatorname{{{B^{(12)}_{0}}}}{\\left({{{m_n}}}_{i},{{{m_n}}}_{j} \\right)} {{{m_n}}}_{i}^{2}\\right) {C}_{i,j}\\right) {m}_{b} {{{U^\\nu}}}_{b,j} {{{U^{\\nu *}}}}_{a,i}$"
      ],
      "text/plain": [
       " ⎛⎛   2                                   ⎛    2       2             2        \n",
       "-⎝⎝m_W ⋅C₀(m_W, {{m_n}}[i], {{m_n}}[j]) + ⎝m[a]  + m[b]  - {{m_n}}[i]  - {{m_n\n",
       "\n",
       "     2⎞                                                                       \n",
       "}}[j] ⎠⋅C₂(m_W, {{m_n}}[i], {{m_n}}[j]) + {{B_{0}}}__{(12)}({{m_n}}[i], {{m_n}\n",
       "\n",
       "     ⎞                                       ⎛   2                            \n",
       "}[j])⎠⋅{{C^*}}[i, j]⋅{{m_n}}[i]⋅{{m_n}}[j] + ⎝m_W ⋅C₀(m_W, {{m_n}}[i], {{m_n}}\n",
       "\n",
       "               2   ⎛    2           2       2           2               2     \n",
       "[j])⋅{{m_n}}[i]  + ⎝m[a] ⋅{{m_n}}[j]  + m[b] ⋅{{m_n}}[i]  - 2⋅{{m_n}}[i] ⋅{{m_\n",
       "\n",
       "      2⎞                                                                      \n",
       "n}}[j] ⎠⋅C₂(m_W, {{m_n}}[i], {{m_n}}[j]) + {{B_{0}}}__{(12)}({{m_n}}[i], {{m_n\n",
       "\n",
       "                 2⎞        ⎞                                         \n",
       "}}[j])⋅{{m_n}}[i] ⎠⋅C[i, j]⎠⋅m[b]⋅{{U^\\nu}}[b, j]⋅{{U^{\\nu *}}}[a, i]"
      ]
     },
     "execution_count": 9,
     "metadata": {
      "filenames": {
       "image/png": "/home/moiseszm/OneLoopLFVHD/Examples/2HDM/_build/jupyter_execute/FF_symbolic_18_0.png"
      }
     },
     "output_type": "execute_result"
    }
   ],
   "source": [
    "AR1 = (-triangleGninj.AR()/A).expand().collect([C[i,j],Cc[i,j]],simplify).collect([lfvhd.C2(mW,mn[i],mn[j])]).simplify(\n",
    ").simplify().subs(cambios)\n",
    "AR1"
   ]
  },
  {
   "cell_type": "markdown",
   "metadata": {},
   "source": [
    "#### Divergent term"
   ]
  },
  {
   "cell_type": "code",
   "execution_count": 10,
   "metadata": {},
   "outputs": [
    {
     "data": {
      "image/png": "[encoded data removed]",
      "text/latex": [
       "$\\displaystyle - \\Delta_{\\epsilon} \\left({C}_{i,j} {{{m_n}}}_{i} + {{{C^*}}}_{i,j} {{{m_n}}}_{j}\\right) {m}_{b} {{{U^\\nu}}}_{b,j} {{{U^{\\nu *}}}}_{a,i} {{{m_n}}}_{i}$"
      ],
      "text/plain": [
       "-\\Delta_\\epsilon⋅(C[i, j]⋅{{m_n}}[i] + {{C^*}}[i, j]⋅{{m_n}}[j])⋅m[b]⋅{{U^\\nu}\n",
       "}[b, j]⋅{{U^{\\nu *}}}[a, i]⋅{{m_n}}[i]"
      ]
     },
     "execution_count": 10,
     "metadata": {
      "filenames": {
       "image/png": "/home/moiseszm/OneLoopLFVHD/Examples/2HDM/_build/jupyter_execute/FF_symbolic_20_0.png"
      }
     },
     "output_type": "execute_result"
    }
   ],
   "source": [
    "AR1.subs(lfvhd.cambiosDivFin(mW,mn[i],mn[j])).expand(\n",
    ").collect([lfvhd.Δe],evaluate=False)[lfvhd.Δe].simplify()*lfvhd.Δe"
   ]
  },
  {
   "cell_type": "markdown",
   "metadata": {},
   "source": [
    "### Triangle Wninj\n",
    "\n",
    "This is the diagram 2 of our reference "
   ]
  },
  {
   "cell_type": "code",
   "execution_count": 11,
   "metadata": {},
   "outputs": [],
   "source": [
    "triangleWninj = lfvhd.TriangleVFF(vertexhnn(i,j),vertexneWu(j,b),vertexenWd(i,a),[mW,mn[i],mn[j]])"
   ]
  },
  {
   "cell_type": "markdown",
   "metadata": {},
   "source": [
    "**Left form factor**"
   ]
  },
  {
   "cell_type": "code",
   "execution_count": 12,
   "metadata": {},
   "outputs": [
    {
     "data": {
      "image/png": "[encoded data removed]",
      "text/latex": [
       "$\\displaystyle 2 m_{W}^{2} \\left(\\left(\\operatorname{C_{0}}{\\left(m_{W},{{{m_n}}}_{i},{{{m_n}}}_{j} \\right)} - 2 \\operatorname{C_{1}}{\\left(m_{W},{{{m_n}}}_{i},{{{m_n}}}_{j} \\right)}\\right) {{{C^*}}}_{i,j} {{{m_n}}}_{i} {{{m_n}}}_{j} - \\left(- \\operatorname{C_{0}}{\\left(m_{W},{{{m_n}}}_{i},{{{m_n}}}_{j} \\right)} {{{m_n}}}_{j}^{2} + \\operatorname{C_{1}}{\\left(m_{W},{{{m_n}}}_{i},{{{m_n}}}_{j} \\right)} {{{m_n}}}_{i}^{2} + \\operatorname{C_{1}}{\\left(m_{W},{{{m_n}}}_{i},{{{m_n}}}_{j} \\right)} {{{m_n}}}_{j}^{2}\\right) {C}_{i,j}\\right) {m}_{a} {{{U^\\nu}}}_{b,j} {{{U^{\\nu *}}}}_{a,i}$"
      ],
      "text/plain": [
       "     2 ⎛                                                                      \n",
       "2⋅m_W ⋅⎝(C₀(m_W, {{m_n}}[i], {{m_n}}[j]) - 2⋅C₁(m_W, {{m_n}}[i], {{m_n}}[j]))⋅\n",
       "\n",
       "                                      ⎛                                       \n",
       "{{C^*}}[i, j]⋅{{m_n}}[i]⋅{{m_n}}[j] - ⎝- C₀(m_W, {{m_n}}[i], {{m_n}}[j])⋅{{m_n\n",
       "\n",
       "     2                                             2                          \n",
       "}}[j]  + C₁(m_W, {{m_n}}[i], {{m_n}}[j])⋅{{m_n}}[i]  + C₁(m_W, {{m_n}}[i], {{m\n",
       "\n",
       "                   2⎞        ⎞                                         \n",
       "_n}}[j])⋅{{m_n}}[j] ⎠⋅C[i, j]⎠⋅m[a]⋅{{U^\\nu}}[b, j]⋅{{U^{\\nu *}}}[a, i]"
      ]
     },
     "execution_count": 12,
     "metadata": {
      "filenames": {
       "image/png": "/home/moiseszm/OneLoopLFVHD/Examples/2HDM/_build/jupyter_execute/FF_symbolic_24_0.png"
      }
     },
     "output_type": "execute_result"
    }
   ],
   "source": [
    "AL2 = (-triangleWninj.AL().subs(lfvhd.D,4)/A).expand().collect([C[i,j],Cc[i,j]],simplify).subs(\n",
    "    cambios).simplify()\n",
    "AL2"
   ]
  },
  {
   "cell_type": "markdown",
   "metadata": {},
   "source": [
    "**Right form factor**"
   ]
  },
  {
   "cell_type": "code",
   "execution_count": 13,
   "metadata": {},
   "outputs": [
    {
     "data": {
      "image/png": "[encoded data removed]",
      "text/latex": [
       "$\\displaystyle 2 m_{W}^{2} \\left(\\left(\\operatorname{C_{0}}{\\left(m_{W},{{{m_n}}}_{i},{{{m_n}}}_{j} \\right)} + 2 \\operatorname{C_{2}}{\\left(m_{W},{{{m_n}}}_{i},{{{m_n}}}_{j} \\right)}\\right) {{{C^*}}}_{i,j} {{{m_n}}}_{i} {{{m_n}}}_{j} + \\left(\\operatorname{C_{0}}{\\left(m_{W},{{{m_n}}}_{i},{{{m_n}}}_{j} \\right)} {{{m_n}}}_{i}^{2} + \\operatorname{C_{2}}{\\left(m_{W},{{{m_n}}}_{i},{{{m_n}}}_{j} \\right)} {{{m_n}}}_{i}^{2} + \\operatorname{C_{2}}{\\left(m_{W},{{{m_n}}}_{i},{{{m_n}}}_{j} \\right)} {{{m_n}}}_{j}^{2}\\right) {C}_{i,j}\\right) {m}_{b} {{{U^\\nu}}}_{b,j} {{{U^{\\nu *}}}}_{a,i}$"
      ],
      "text/plain": [
       "     2 ⎛                                                                      \n",
       "2⋅m_W ⋅⎝(C₀(m_W, {{m_n}}[i], {{m_n}}[j]) + 2⋅C₂(m_W, {{m_n}}[i], {{m_n}}[j]))⋅\n",
       "\n",
       "                                      ⎛                                       \n",
       "{{C^*}}[i, j]⋅{{m_n}}[i]⋅{{m_n}}[j] + ⎝C₀(m_W, {{m_n}}[i], {{m_n}}[j])⋅{{m_n}}\n",
       "\n",
       "   2                                             2                            \n",
       "[i]  + C₂(m_W, {{m_n}}[i], {{m_n}}[j])⋅{{m_n}}[i]  + C₂(m_W, {{m_n}}[i], {{m_n\n",
       "\n",
       "                 2⎞        ⎞                                         \n",
       "}}[j])⋅{{m_n}}[j] ⎠⋅C[i, j]⎠⋅m[b]⋅{{U^\\nu}}[b, j]⋅{{U^{\\nu *}}}[a, i]"
      ]
     },
     "execution_count": 13,
     "metadata": {
      "filenames": {
       "image/png": "/home/moiseszm/OneLoopLFVHD/Examples/2HDM/_build/jupyter_execute/FF_symbolic_26_0.png"
      }
     },
     "output_type": "execute_result"
    }
   ],
   "source": [
    "AR2 = (-triangleWninj.AR().subs(lfvhd.D,4)/A).expand().collect([C[i,j],Cc[i,j]],simplify).subs(\n",
    "    cambios).simplify()\n",
    "AR2"
   ]
  },
  {
   "cell_type": "markdown",
   "metadata": {},
   "source": [
    "### Triangle niWW\n",
    "\n",
    "This is the diagram 3 of our reference "
   ]
  },
  {
   "cell_type": "code",
   "execution_count": 14,
   "metadata": {},
   "outputs": [
    {
     "ename": "NameError",
     "evalue": "name 'vertexhWW' is not defined",
     "output_type": "error",
     "traceback": [
      "\u001b[0;31m---------------------------------------------------------------------------\u001b[0m",
      "\u001b[0;31mNameError\u001b[0m                                 Traceback (most recent call last)",
      "\u001b[0;32m<ipython-input-14-542e6126500e>\u001b[0m in \u001b[0;36m<module>\u001b[0;34m\u001b[0m\n\u001b[0;32m----> 1\u001b[0;31m \u001b[0mtriangleniWW\u001b[0m \u001b[0;34m=\u001b[0m \u001b[0mlfvhd\u001b[0m\u001b[0;34m.\u001b[0m\u001b[0mTriangleFVV\u001b[0m\u001b[0;34m(\u001b[0m\u001b[0mvertexhWW\u001b[0m\u001b[0;34m,\u001b[0m\u001b[0mvertexneWu\u001b[0m\u001b[0;34m(\u001b[0m\u001b[0mi\u001b[0m\u001b[0;34m,\u001b[0m\u001b[0mb\u001b[0m\u001b[0;34m)\u001b[0m\u001b[0;34m,\u001b[0m\u001b[0mvertexenWd\u001b[0m\u001b[0;34m(\u001b[0m\u001b[0mi\u001b[0m\u001b[0;34m,\u001b[0m\u001b[0ma\u001b[0m\u001b[0;34m)\u001b[0m\u001b[0;34m,\u001b[0m\u001b[0;34m[\u001b[0m\u001b[0mmn\u001b[0m\u001b[0;34m[\u001b[0m\u001b[0mi\u001b[0m\u001b[0;34m]\u001b[0m\u001b[0;34m,\u001b[0m\u001b[0mmW\u001b[0m\u001b[0;34m,\u001b[0m\u001b[0mmW\u001b[0m\u001b[0;34m]\u001b[0m\u001b[0;34m)\u001b[0m\u001b[0;34m\u001b[0m\u001b[0;34m\u001b[0m\u001b[0m\n\u001b[0m",
      "\u001b[0;31mNameError\u001b[0m: name 'vertexhWW' is not defined"
     ]
    }
   ],
   "source": [
    "triangleniWW = lfvhd.TriangleFVV(vertexhWW,vertexneWu(i,b),vertexenWd(i,a),[mn[i],mW,mW])"
   ]
  },
  {
   "cell_type": "markdown",
   "metadata": {},
   "source": [
    "**Left form factor**"
   ]
  },
  {
   "cell_type": "code",
   "execution_count": null,
   "metadata": {},
   "outputs": [],
   "source": [
    "AL3 = (-triangleniWW.AL().subs(lfvhd.D,4)/A).subs(cambios)\n",
    "AL3"
   ]
  },
  {
   "cell_type": "markdown",
   "metadata": {},
   "source": [
    "**Right form factor**"
   ]
  },
  {
   "cell_type": "code",
   "execution_count": null,
   "metadata": {},
   "outputs": [],
   "source": [
    "(-triangleniWW.AR().subs(lfvhd.D,4)/A).subs(cambios)"
   ]
  },
  {
   "cell_type": "markdown",
   "metadata": {},
   "source": [
    "### Triangle niWG\n",
    "\n",
    "This is the diagram 4 of our reference"
   ]
  },
  {
   "cell_type": "code",
   "execution_count": null,
   "metadata": {},
   "outputs": [],
   "source": [
    "triangleniWG = lfvhd.TriangleFVS(vertexhWG,vertexneGu(i,b),vertexenWd(i,a),[mn[i],mW,mW])"
   ]
  },
  {
   "cell_type": "markdown",
   "metadata": {},
   "source": [
    "**Left form factor**"
   ]
  },
  {
   "cell_type": "code",
   "execution_count": null,
   "metadata": {},
   "outputs": [],
   "source": [
    "AL4 = (-triangleniWG.AL()/A).subs(lfvhd.D,4).expand().collect(\n",
    "    [lfvhd.C0(mn[i],mW,mW),lfvhd.C1(mn[i],mW,mW),lfvhd.C2(mn[i],mW,mW)],simplify).simplify(\n",
    ").subs(cambios)\n",
    "AL4"
   ]
  },
  {
   "cell_type": "markdown",
   "metadata": {},
   "source": [
    "**Right form factor**"
   ]
  },
  {
   "cell_type": "code",
   "execution_count": null,
   "metadata": {},
   "outputs": [],
   "source": [
    "(-triangleniWG.AR()/A).subs(lfvhd.D,4).expand().collect(\n",
    "    [lfvhd.C0(mn[i],mW,mW),lfvhd.C1(mn[i],mW,mW),lfvhd.C2(mn[i],mW,mW)],simplify).simplify(\n",
    ").subs(cambios)"
   ]
  },
  {
   "cell_type": "markdown",
   "metadata": {},
   "source": [
    "### Triangle niGW\n",
    "\n",
    "This is the diagram 5 of our reference"
   ]
  },
  {
   "cell_type": "code",
   "execution_count": null,
   "metadata": {},
   "outputs": [],
   "source": [
    "triangleniGW = lfvhd.TriangleFSV(vertexhGW,vertexneWu(i,b),vertexenGd(i,a),[mn[i],mW,mW])"
   ]
  },
  {
   "cell_type": "markdown",
   "metadata": {},
   "source": [
    "**Left form factor**"
   ]
  },
  {
   "cell_type": "code",
   "execution_count": null,
   "metadata": {},
   "outputs": [],
   "source": [
    "AL5 = (-triangleniGW.AL()/A).subs(lfvhd.D,4).expand().collect(\n",
    "    [lfvhd.C0(mn[i],mW,mW),lfvhd.C1(mn[i],mW,mW),lfvhd.C2(mn[i],mW,mW)],simplify).simplify(\n",
    ").subs(cambios)\n",
    "AL5"
   ]
  },
  {
   "cell_type": "markdown",
   "metadata": {},
   "source": [
    "**Right form factor**"
   ]
  },
  {
   "cell_type": "code",
   "execution_count": null,
   "metadata": {},
   "outputs": [],
   "source": [
    "(-triangleniGW.AR()/A).subs(lfvhd.D,4).expand().collect(\n",
    "    [lfvhd.C0(mn[i],mW,mW),lfvhd.C1(mn[i],mW,mW),lfvhd.C2(mn[i],mW,mW)],simplify).simplify(\n",
    ").subs(cambios)"
   ]
  },
  {
   "cell_type": "markdown",
   "metadata": {},
   "source": [
    "### Triangle niGG\n",
    "\n",
    "This is the diagram 6 of our reference"
   ]
  },
  {
   "cell_type": "code",
   "execution_count": null,
   "metadata": {},
   "outputs": [],
   "source": [
    "triangleniGG = lfvhd.TriangleFSS(vertexhGG,vertexneGu(i,b),vertexenGd(i,a),[mn[i],mW,mW])"
   ]
  },
  {
   "cell_type": "markdown",
   "metadata": {},
   "source": [
    "**Left form factor**"
   ]
  },
  {
   "cell_type": "code",
   "execution_count": null,
   "metadata": {},
   "outputs": [],
   "source": [
    "AL6 = (-triangleniGG.AL()/A).expand().collect([mn[i]],simplify\n",
    "                                      ).simplify().subs(cambios)\n",
    "AL6"
   ]
  },
  {
   "cell_type": "markdown",
   "metadata": {},
   "source": [
    "**Right form factor**"
   ]
  },
  {
   "cell_type": "code",
   "execution_count": null,
   "metadata": {},
   "outputs": [],
   "source": [
    "(-triangleniGG.AR()/A).expand().collect([mn[i]],simplify\n",
    "                                  ).simplify().subs(cambios)"
   ]
  },
  {
   "cell_type": "markdown",
   "metadata": {},
   "source": [
    "### Bubble niW\n",
    "\n",
    "This is the diagram 7 of our reference "
   ]
  },
  {
   "cell_type": "code",
   "execution_count": null,
   "metadata": {},
   "outputs": [],
   "source": [
    "bubbleniW = lfvhd.BubbleFV(vertexhee(b),vertexneWu(i,b),vertexenWd(i,a),[mn[i],mW])"
   ]
  },
  {
   "cell_type": "markdown",
   "metadata": {},
   "source": [
    "**Left form factor**"
   ]
  },
  {
   "cell_type": "code",
   "execution_count": null,
   "metadata": {},
   "outputs": [],
   "source": [
    "AL7 = (-bubbleniW.AL()/A).subs(lfvhd.D,4).subs(cambios)\n",
    "AL7"
   ]
  },
  {
   "cell_type": "markdown",
   "metadata": {},
   "source": [
    "**Right form factor**"
   ]
  },
  {
   "cell_type": "code",
   "execution_count": null,
   "metadata": {},
   "outputs": [],
   "source": [
    "(-bubbleniW.AR()/A).subs(lfvhd.D,4).subs(cambios)"
   ]
  },
  {
   "cell_type": "markdown",
   "metadata": {},
   "source": [
    "### Bubble Wni\n",
    "\n",
    "This is the diagram 9 of our reference "
   ]
  },
  {
   "cell_type": "code",
   "execution_count": null,
   "metadata": {},
   "outputs": [],
   "source": [
    "bubbleWni = lfvhd.BubbleVF(vertexhee(a),vertexneWu(i,b),vertexenWd(i,a),[mn[i],mW])"
   ]
  },
  {
   "cell_type": "markdown",
   "metadata": {},
   "source": [
    "**Left form factor**"
   ]
  },
  {
   "cell_type": "code",
   "execution_count": null,
   "metadata": {},
   "outputs": [],
   "source": [
    "AL9 = (-bubbleWni.AL()/A).subs(lfvhd.D,4).subs(cambios).simplify()\n",
    "AL9"
   ]
  },
  {
   "cell_type": "markdown",
   "metadata": {},
   "source": [
    "**Right form factor**"
   ]
  },
  {
   "cell_type": "code",
   "execution_count": null,
   "metadata": {},
   "outputs": [],
   "source": [
    "(-bubbleWni.AR()/A).subs(lfvhd.D,4).subs(cambios).simplify()"
   ]
  },
  {
   "cell_type": "markdown",
   "metadata": {},
   "source": [
    "**Adding bubble niW y Wni**"
   ]
  },
  {
   "cell_type": "code",
   "execution_count": null,
   "metadata": {},
   "outputs": [],
   "source": [
    "BniW_L =  (bubbleniW.AL() + bubbleWni.AL()).subs(lfvhd.D,4).simplify()\n",
    "BniW_L"
   ]
  },
  {
   "cell_type": "code",
   "execution_count": null,
   "metadata": {},
   "outputs": [],
   "source": [
    "BniW_R =  (bubbleniW.AR() + bubbleWni.AR()).subs(lfvhd.D,4).simplify()\n",
    "BniW_R.subs(lfvhd.cambiosDivFin(mn[i],mW,mW))"
   ]
  },
  {
   "cell_type": "code",
   "execution_count": null,
   "metadata": {},
   "outputs": [],
   "source": [
    "BniW_L.subs(lfvhd.cambiosDivFin(mn[i],mW,mW))"
   ]
  },
  {
   "cell_type": "markdown",
   "metadata": {},
   "source": [
    "### Bubble niG\n",
    "\n",
    "This is the diagram 8 of our reference"
   ]
  },
  {
   "cell_type": "code",
   "execution_count": null,
   "metadata": {},
   "outputs": [],
   "source": [
    "bubbleniG = lfvhd.BubbleFS(vertexhee(b),vertexneGu(i,b),vertexenGd(i,a),[mn[i],mW])"
   ]
  },
  {
   "cell_type": "markdown",
   "metadata": {},
   "source": [
    "**Left form factor**"
   ]
  },
  {
   "cell_type": "code",
   "execution_count": null,
   "metadata": {},
   "outputs": [],
   "source": [
    "AL8 = (-bubbleniG.AL()/A).collect([\n",
    "    lfvhd.B1_0(mn[i],mW),lfvhd.B1_1(mn[i],mW)]).simplify().subs(cambios)\n",
    "AL8"
   ]
  },
  {
   "cell_type": "markdown",
   "metadata": {},
   "source": [
    "**Right form factor**"
   ]
  },
  {
   "cell_type": "code",
   "execution_count": null,
   "metadata": {},
   "outputs": [],
   "source": [
    "AR8 = (-bubbleniG.AR()/A).collect([\n",
    "    lfvhd.B1_0(mn[i],mW),lfvhd.B1_1(mn[i],mW)]).simplify().subs(cambios)\n",
    "AR8"
   ]
  },
  {
   "cell_type": "markdown",
   "metadata": {},
   "source": [
    "### Bubble Gni\n",
    "\n",
    "This is the diagram 10 of our reference"
   ]
  },
  {
   "cell_type": "code",
   "execution_count": null,
   "metadata": {},
   "outputs": [],
   "source": [
    "bubbleGni = lfvhd.BubbleSF(vertexhee(a),vertexneGu(i,b),vertexenGd(i,a),[mn[i],mW])"
   ]
  },
  {
   "cell_type": "markdown",
   "metadata": {},
   "source": [
    "**Left form factor**"
   ]
  },
  {
   "cell_type": "code",
   "execution_count": null,
   "metadata": {},
   "outputs": [],
   "source": [
    "AL10 = (-bubbleGni.AL()/A).collect([\n",
    "      lfvhd.B2_0(mn[i],mW),lfvhd.B2_1(mn[i],mW)]).simplify().subs(cambios)\n",
    "AL10"
   ]
  },
  {
   "cell_type": "markdown",
   "metadata": {},
   "source": [
    "**Right form factor**"
   ]
  },
  {
   "cell_type": "code",
   "execution_count": null,
   "metadata": {},
   "outputs": [],
   "source": [
    "AR10 = (-bubbleGni.AR()/A).collect([\n",
    "    lfvhd.B2_0(mn[i],mW),lfvhd.B2_1(mn[i],mW)]).simplify().subs(cambios)\n",
    "AR10"
   ]
  },
  {
   "cell_type": "markdown",
   "metadata": {},
   "source": [
    "**Adding bubble niG y Gni**"
   ]
  },
  {
   "cell_type": "code",
   "execution_count": null,
   "metadata": {},
   "outputs": [],
   "source": [
    "DivniG = ((AL8 + AL10).subs(lfvhd.cambiosDivFin(mn[i],mW,mW)).expand(\n",
    ").collect(lfvhd.Δe,evaluate=False)[lfvhd.Δe]*lfvhd.Δe).simplify()*A\n",
    "DivniG"
   ]
  },
  {
   "cell_type": "code",
   "execution_count": null,
   "metadata": {},
   "outputs": [],
   "source": [
    "DivL1 = -triangleGninj.AL().subs(\n",
    "    lfvhd.cambiosDivFin(mW,mn[i],mn[j])).expand().collect(lfvhd.Δe,evaluate=False)[lfvhd.Δe]*lfvhd.Δe\n",
    "DivL1 = DivL1.expand().subs(C[i,j],0).subs(cambios).subs({Cc[i,j]:1,Uν[b,j]:Uν[b,i],mn[j]:mn[i]})\n",
    "DivL1"
   ]
  },
  {
   "cell_type": "code",
   "execution_count": null,
   "metadata": {},
   "outputs": [],
   "source": [
    "DivniG + DivL1"
   ]
  },
  {
   "cell_type": "markdown",
   "metadata": {},
   "source": [
    "## Adding all contributions"
   ]
  },
  {
   "cell_type": "code",
   "execution_count": null,
   "metadata": {},
   "outputs": [],
   "source": [
    "from sympy import Symbol,lambdify"
   ]
  },
  {
   "cell_type": "code",
   "execution_count": null,
   "metadata": {},
   "outputs": [],
   "source": [
    "TrianglesTwoFermion = [triangleGninj,triangleWninj]\n",
    "TrianglesOneFermion = [triangleniWW,\n",
    "         triangleniWG,triangleniGW,\n",
    "         triangleniGG]\n",
    "Bubbles = [bubbleniW,bubbleniG,bubbleWni,bubbleGni]"
   ]
  },
  {
   "cell_type": "code",
   "execution_count": null,
   "metadata": {},
   "outputs": [],
   "source": [
    "ALOneFermion = 0;AROneFermion = 0;\n",
    "for topology in [TrianglesOneFermion,Bubbles]:\n",
    "    for diag in topology:\n",
    "        masas = diag.masas\n",
    "        #display(masas)\n",
    "        if len(masas)==3:\n",
    "            splitting = lfvhd.cambiosDivFin(*masas)\n",
    "            aprroximation = lfvhd.cambios_aprox(*masas)\n",
    "        else:\n",
    "            splitting = lfvhd.cambiosDivFin(*masas,mW)\n",
    "            aprroximation = lfvhd.cambios_aprox(*masas,mW)\n",
    "        AL = diag.AL().subs(splitting).subs(lfvhd.D,4).subs(lfvhd.Δe,0)\n",
    "        AR = diag.AR().subs(splitting).subs(lfvhd.D,4).subs(lfvhd.Δe,0)\n",
    "        ALOneFermion += AL.subs(aprroximation)#.subs(cambios)\n",
    "        AROneFermion += AR.subs(aprroximation)#.subs(cambios)\n",
    "        display(ALOneFermion.atoms(Symbol))"
   ]
  },
  {
   "cell_type": "code",
   "execution_count": null,
   "metadata": {},
   "outputs": [],
   "source": [
    "list(ALOneFermion.expand().collect([mn[i]],evaluate=False).keys())"
   ]
  },
  {
   "cell_type": "markdown",
   "metadata": {},
   "source": [
    "### Form factor with two fermion in the loop."
   ]
  },
  {
   "cell_type": "code",
   "execution_count": null,
   "metadata": {},
   "outputs": [],
   "source": [
    "ALTwoFermion = 0;ARTwoFermion = 0;\n",
    "for diag in TrianglesTwoFermion:\n",
    "    masas = diag.masas\n",
    "    display(masas)\n",
    "    splitting = lfvhd.cambiosDivFin(*masas)\n",
    "    aprroximation = lfvhd.cambios_aprox(*masas)\n",
    "    AL = diag.AL().subs(splitting)\n",
    "    AR = diag.AR().subs(splitting)\n",
    "    ALTwoFermion += AL.subs(lfvhd.D,4).subs(\n",
    "    lfvhd.Δe,0).subs(aprroximation)\n",
    "    ARTwoFermion += AR.subs(lfvhd.D,4).subs(\n",
    "    lfvhd.Δe,0).subs(aprroximation)\n",
    "    "
   ]
  },
  {
   "cell_type": "markdown",
   "metadata": {},
   "source": [
    "#### AL TwoFermion"
   ]
  },
  {
   "cell_type": "code",
   "execution_count": null,
   "metadata": {},
   "outputs": [],
   "source": [
    "ALTwoFermion.expand().args[0]"
   ]
  },
  {
   "cell_type": "code",
   "execution_count": null,
   "metadata": {},
   "outputs": [],
   "source": []
  }
 ],
 "metadata": {
  "kernelspec": {
   "display_name": "Python 3",
   "language": "python",
   "name": "python3"
  },
  "language_info": {
   "codemirror_mode": {
    "name": "ipython",
    "version": 3
   },
   "file_extension": ".py",
   "mimetype": "text/x-python",
   "name": "python",
   "nbconvert_exporter": "python",
   "pygments_lexer": "ipython3",
   "version": "3.8.10"
  }
 },
 "nbformat": 4,
 "nbformat_minor": 4
}