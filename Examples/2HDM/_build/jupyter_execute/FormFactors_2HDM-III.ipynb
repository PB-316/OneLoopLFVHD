{
 "cells": [
  {
   "cell_type": "markdown",
   "id": "shaped-officer",
   "metadata": {},
   "source": [
    "# Form factors of LFVHD in the 2HDM-III"
   ]
  },
  {
   "cell_type": "markdown",
   "id": "collective-champion",
   "metadata": {},
   "source": [
    "In this notebook we analyze the LFVHD in the 2HDM-III. In this model the couplings of the neutral higgs bosons $h$, $H$ and $A$ are given by\n",
    "$$\n",
    "g_{hff'} = \\frac{1}{v}s_{\\beta- \\alpha} \\hat{M_f} + \\frac{1}{\\sqrt{2}}\\rho_f c_{\\beta- \\alpha}\n",
    "$$\n",
    "$$\n",
    "g_{Hff'} = \\frac{1}{v}c_{\\beta- \\alpha} \\hat{M_f} - \\frac{1}{\\sqrt{2}}\\rho_f s_{\\beta- \\alpha}\n",
    "$$\n",
    "$$\n",
    "g_{Aff'} = \\frac{i}{\\sqrt{2}}\\rho_f s_{f}\n",
    "$$\n",
    "\n",
    "where $f = u,d,e$, $s_f = 1$ for down-type quarks and charged leptons and $s_f= -1$ for up-type quarks."
   ]
  },
  {
   "cell_type": "markdown",
   "id": "hired-coordinate",
   "metadata": {},
   "source": [
    "Also, the neutral scalar couplings to a pair of gauge bosons are fully by the gauge symmetry. One has\n",
    "\n",
    "$$C_{hWW} = s_{\\beta- \\alpha} C_{hWW}^{SM}$$\n",
    "$$C_{HWW} = c_{\\beta- \\alpha} C_{hWW}^{SM}$$\n",
    "$$C_{hWW} = 0$$."
   ]
  },
  {
   "cell_type": "code",
   "execution_count": 1,
   "id": "partial-setting",
   "metadata": {},
   "outputs": [],
   "source": [
    "from sympy import symbols, init_printing, conjugate,I,IndexedBase,sqrt,collect,simplify\n",
    "from sympy import lambdify\n",
    "init_printing()"
   ]
  },
  {
   "cell_type": "code",
   "execution_count": 2,
   "id": "direct-compact",
   "metadata": {
    "Collapsed": "false"
   },
   "outputs": [],
   "source": [
    "import OneLoopLFVHD as lfvhd"
   ]
  },
  {
   "cell_type": "code",
   "execution_count": 3,
   "id": "rubber-diana",
   "metadata": {},
   "outputs": [
    {
     "data": {
      "image/png": "[encoded data removed]",
      "text/latex": [
       "$\\displaystyle \\left( m_{a}, \\  m_{i}, \\  m_{j}\\right)$"
      ],
      "text/plain": [
       "(mₐ, mᵢ, m_j)"
      ]
     },
     "execution_count": 3,
     "metadata": {
      "filenames": {
       "image/png": "/home/moiseszm/Escritorio/ProyectoLFVHD/LFVHD/Examples/2HDM/_build/jupyter_execute/FormFactors_2HDM-III_5_0.png"
      }
     },
     "output_type": "execute_result"
    }
   ],
   "source": [
    "ma,mi,mj = lfvhd.ma,lfvhd.mi,lfvhd.mj\n",
    "ma,mi,mj"
   ]
  },
  {
   "cell_type": "code",
   "execution_count": 4,
   "id": "quarterly-refrigerator",
   "metadata": {},
   "outputs": [],
   "source": [
    "from mpmath import mp"
   ]
  },
  {
   "cell_type": "code",
   "execution_count": 5,
   "id": "upset-bench",
   "metadata": {},
   "outputs": [],
   "source": [
    "mp.dps = 80; mp.pretty = True"
   ]
  },
  {
   "cell_type": "markdown",
   "id": "actual-trading",
   "metadata": {},
   "source": [
    "## python definitions of couplings"
   ]
  },
  {
   "cell_type": "code",
   "execution_count": 6,
   "id": "agricultural-mechanism",
   "metadata": {
    "Collapsed": "false"
   },
   "outputs": [],
   "source": [
    "g,v = symbols(r'g,v',real=True)\n",
    "Yh = IndexedBase(r'Yh')\n",
    "mW,mel,mem,mh = symbols(r'm_W, m_{e_l},m_{e_m},m_h',real=True)\n",
    "\n",
    "\n",
    "l,m,i,j = symbols('l,m,i,j',integer=True)"
   ]
  },
  {
   "cell_type": "code",
   "execution_count": 7,
   "id": "several-bullet",
   "metadata": {
    "Collapsed": "false"
   },
   "outputs": [],
   "source": [
    "# hGdGu = lfvhd.VertexHSS(-I*λ1*v)\n",
    "# Guljνl = lfvhd.VertexSFF(I*(sqrt(2)/v)*mj*U[l,j],0)\n",
    "# Gdliνl = lfvhd.VertexSFF(0,I*(sqrt(2)/v)*mi*conjugate(U[l,i]))\n",
    "\n",
    "# hGdWu = lfvhd.VertexHSpVm(-I*g/2)\n",
    "# Wuljνl = lfvhd.VertexVFF(0,-I*(g/sqrt(2))*U[l,j])\n",
    "# hWdGu = lfvhd.VertexHVpSm(-I*g/2)\n",
    "# Wdliνl = lfvhd.VertexVFF(0,-I*(g/sqrt(2))*conjugate(U[l,i]))\n",
    "# hWdWu = lfvhd.VertexHVV(I*g**2/2*v)\n",
    "# hljlj = lfvhd.VertexHFF((I*g*mj)/(2*sqrt(2)*mW))\n",
    "# hlili = lfvhd.VertexHFF((I*g*mi)/(2*sqrt(2)*mW))"
   ]
  },
  {
   "cell_type": "code",
   "execution_count": 8,
   "id": "acting-laugh",
   "metadata": {},
   "outputs": [],
   "source": [
    "hee = lambda l,m: lfvhd.VertexSFF(Yh[l,m],Yh[l,m])"
   ]
  },
  {
   "cell_type": "code",
   "execution_count": 9,
   "id": "tested-procedure",
   "metadata": {},
   "outputs": [
    {
     "data": {
      "image/png": "[encoded data removed]",
      "text/latex": [
       "$\\displaystyle \\frac{i \\left(m_{h}^{2} \\operatorname{C_{0}}{\\left(m_{h},m_{e_l},m_{e_m} \\right)} - m_{i}^{2} \\operatorname{C_{1}}{\\left(m_{h},m_{e_l},m_{e_m} \\right)} + m_{i} m_{j} \\left(\\operatorname{C_{0}}{\\left(m_{h},m_{e_l},m_{e_m} \\right)} - \\operatorname{C_{1}}{\\left(m_{h},m_{e_l},m_{e_m} \\right)} + \\operatorname{C_{2}}{\\left(m_{h},m_{e_l},m_{e_m} \\right)}\\right) - m_{i} m_{e_l} \\operatorname{C_{1}}{\\left(m_{h},m_{e_l},m_{e_m} \\right)} + m_{i} m_{e_m} \\left(\\operatorname{C_{0}}{\\left(m_{h},m_{e_l},m_{e_m} \\right)} - \\operatorname{C_{1}}{\\left(m_{h},m_{e_l},m_{e_m} \\right)}\\right) + m_{j}^{2} \\operatorname{C_{2}}{\\left(m_{h},m_{e_l},m_{e_m} \\right)} + m_{j} m_{e_l} \\left(\\operatorname{C_{0}}{\\left(m_{h},m_{e_l},m_{e_m} \\right)} + \\operatorname{C_{2}}{\\left(m_{h},m_{e_l},m_{e_m} \\right)}\\right) + m_{j} m_{e_m} \\operatorname{C_{2}}{\\left(m_{h},m_{e_l},m_{e_m} \\right)} + m_{e_l} m_{e_m} \\operatorname{C_{0}}{\\left(m_{h},m_{e_l},m_{e_m} \\right)} + \\operatorname{{{B^{(12)}_{0}}}}{\\left(m_{e_l},m_{e_m} \\right)}\\right) {Yh}_{l,i} {Yh}_{l,m} {Yh}_{m,j}}{16 \\pi^{2}}$"
      ],
      "text/plain": [
       "  ⎛  2                              2                                         \n",
       "ⅈ⋅⎝mₕ ⋅C₀(mₕ, m_{e_l}, m_{e_m}) - mᵢ ⋅C₁(mₕ, m_{e_l}, m_{e_m}) + mᵢ⋅m_j⋅(C₀(mₕ\n",
       "──────────────────────────────────────────────────────────────────────────────\n",
       "                                                                              \n",
       "                                                                              \n",
       "\n",
       "                                                                              \n",
       ", m_{e_l}, m_{e_m}) - C₁(mₕ, m_{e_l}, m_{e_m}) + C₂(mₕ, m_{e_l}, m_{e_m})) - m\n",
       "──────────────────────────────────────────────────────────────────────────────\n",
       "                                                                              \n",
       "                                                                              \n",
       "\n",
       "                                                                              \n",
       "ᵢ⋅m_{e_l}⋅C₁(mₕ, m_{e_l}, m_{e_m}) + mᵢ⋅m_{e_m}⋅(C₀(mₕ, m_{e_l}, m_{e_m}) - C₁\n",
       "──────────────────────────────────────────────────────────────────────────────\n",
       "                                                                              \n",
       "                                                                              \n",
       "\n",
       "                             2                                                \n",
       "(mₕ, m_{e_l}, m_{e_m})) + m_j ⋅C₂(mₕ, m_{e_l}, m_{e_m}) + m_j⋅m_{e_l}⋅(C₀(mₕ, \n",
       "──────────────────────────────────────────────────────────────────────────────\n",
       "                    2                                                         \n",
       "                16⋅π                                                          \n",
       "\n",
       "                                                                              \n",
       "m_{e_l}, m_{e_m}) + C₂(mₕ, m_{e_l}, m_{e_m})) + m_j⋅m_{e_m}⋅C₂(mₕ, m_{e_l}, m_\n",
       "──────────────────────────────────────────────────────────────────────────────\n",
       "                                                                              \n",
       "                                                                              \n",
       "\n",
       "                                                                              \n",
       "{e_m}) + m_{e_l}⋅m_{e_m}⋅C₀(mₕ, m_{e_l}, m_{e_m}) + {{B_{0}}}__{(12)}(m_{e_l},\n",
       "──────────────────────────────────────────────────────────────────────────────\n",
       "                                                                              \n",
       "                                                                              \n",
       "\n",
       "         ⎞                           \n",
       " m_{e_m})⎠⋅Yh[l, i]⋅Yh[l, m]⋅Yh[m, j]\n",
       "─────────────────────────────────────\n",
       "                                     \n",
       "                                     "
      ]
     },
     "execution_count": 9,
     "metadata": {
      "filenames": {
       "image/png": "/home/moiseszm/Escritorio/ProyectoLFVHD/LFVHD/Examples/2HDM/_build/jupyter_execute/FormFactors_2HDM-III_12_0.png"
      }
     },
     "output_type": "execute_result"
    }
   ],
   "source": [
    "Triangle_helem = lfvhd.TriangleSFF(hee(l,m),hee(m,j),hee(l,i),[mh,mel,mem])\n",
    "Triangle_helem.AL().simplify()"
   ]
  },
  {
   "cell_type": "code",
   "execution_count": 10,
   "id": "marked-portfolio",
   "metadata": {},
   "outputs": [
    {
     "data": {
      "image/png": "[encoded data removed]",
      "text/latex": [
       "$\\displaystyle \\frac{i \\Delta_\\epsilon {Yh}_{l,i} {Yh}_{l,m} {Yh}_{m,j}}{16 \\pi^{2}}$"
      ],
      "text/plain": [
       "ⅈ⋅\\Delta_\\epsilon⋅Yh[l, i]⋅Yh[l, m]⋅Yh[m, j]\n",
       "────────────────────────────────────────────\n",
       "                       2                    \n",
       "                   16⋅π                     "
      ]
     },
     "execution_count": 10,
     "metadata": {
      "filenames": {
       "image/png": "/home/moiseszm/Escritorio/ProyectoLFVHD/LFVHD/Examples/2HDM/_build/jupyter_execute/FormFactors_2HDM-III_13_0.png"
      }
     },
     "output_type": "execute_result"
    }
   ],
   "source": [
    "((Triangle_helem.AL()).subs(lfvhd.cambiosDivFin(mh,mel,mem)).expand(\n",
    ").collect(lfvhd.Δe,evaluate=False)[lfvhd.Δe]*lfvhd.Δe).simplify()"
   ]
  },
  {
   "cell_type": "code",
   "execution_count": 11,
   "id": "distinct-swiss",
   "metadata": {},
   "outputs": [
    {
     "data": {
      "image/png": "[encoded data removed]",
      "text/latex": [
       "$\\displaystyle \\frac{i \\left(m_{i} \\operatorname{{{B^{(1)}_{1}}}}{\\left(m_{e_l},m_{h} \\right)} + m_{e_l} \\operatorname{{{B^{(1)}_{0}}}}{\\left(m_{e_l},m_{h} \\right)}\\right) {Yh}_{j,j} {Yh}_{l,i} {Yh}_{l,j}}{16 \\pi^{2} \\left(m_{i} - m_{j}\\right)}$"
      ],
      "text/plain": [
       "ⅈ⋅(mᵢ⋅{{B_{1}}}__{(1)}(m_{e_l}, mₕ) + m_{e_l}⋅{{B_{0}}}__{(1)}(m_{e_l}, mₕ))⋅Y\n",
       "──────────────────────────────────────────────────────────────────────────────\n",
       "                                                2                             \n",
       "                                            16⋅π ⋅(mᵢ - m_j)                  \n",
       "\n",
       "h[j, j]⋅Yh[l, i]⋅Yh[l, j]\n",
       "─────────────────────────\n",
       "                         \n",
       "                         "
      ]
     },
     "execution_count": 11,
     "metadata": {
      "filenames": {
       "image/png": "/home/moiseszm/Escritorio/ProyectoLFVHD/LFVHD/Examples/2HDM/_build/jupyter_execute/FormFactors_2HDM-III_14_0.png"
      }
     },
     "output_type": "execute_result"
    }
   ],
   "source": [
    "bubble_elh = lfvhd.BubbleFS(hee(j,j),hee(l,j),hee(l,i),[mel,mh])\n",
    "AL_elh = bubble_elh.AL().simplify()\n",
    "AL_elh"
   ]
  },
  {
   "cell_type": "code",
   "execution_count": 12,
   "id": "closed-marathon",
   "metadata": {},
   "outputs": [
    {
     "data": {
      "image/png": "[encoded data removed]",
      "text/latex": [
       "$\\displaystyle \\frac{i \\left(m_{j} \\operatorname{{{B^{(2)}_{1}}}}{\\left(m_{e_l},m_{h} \\right)} - m_{e_l} \\operatorname{{{B^{(2)}_{0}}}}{\\left(m_{e_l},m_{h} \\right)}\\right) {Yh}_{i,i} {Yh}_{l,i} {Yh}_{l,j}}{16 \\pi^{2} \\left(m_{i} - m_{j}\\right)}$"
      ],
      "text/plain": [
       "ⅈ⋅(m_j⋅{{B_{1}}}__{(2)}(m_{e_l}, mₕ) - m_{e_l}⋅{{B_{0}}}__{(2)}(m_{e_l}, mₕ))⋅\n",
       "──────────────────────────────────────────────────────────────────────────────\n",
       "                                                2                             \n",
       "                                            16⋅π ⋅(mᵢ - m_j)                  \n",
       "\n",
       "Yh[i, i]⋅Yh[l, i]⋅Yh[l, j]\n",
       "──────────────────────────\n",
       "                          \n",
       "                          "
      ]
     },
     "execution_count": 12,
     "metadata": {
      "filenames": {
       "image/png": "/home/moiseszm/Escritorio/ProyectoLFVHD/LFVHD/Examples/2HDM/_build/jupyter_execute/FormFactors_2HDM-III_15_0.png"
      }
     },
     "output_type": "execute_result"
    }
   ],
   "source": [
    "bubble_hel = lfvhd.BubbleSF(hee(i,i),hee(l,j),hee(l,i),[mel,mh])\n",
    "AL_hel = bubble_hel.AL().simplify()\n",
    "AL_hel"
   ]
  },
  {
   "cell_type": "code",
   "execution_count": 13,
   "id": "basic-balance",
   "metadata": {},
   "outputs": [
    {
     "data": {
      "image/png": "[encoded data removed]",
      "text/latex": [
       "$\\displaystyle \\frac{i \\Delta_\\epsilon \\left(m_{i} {Yh}_{j,j} - m_{j} {Yh}_{i,i} + 2 m_{e_l} \\left(- {Yh}_{i,i} + {Yh}_{j,j}\\right)\\right) {Yh}_{l,i} {Yh}_{l,j}}{32 \\pi^{2} \\left(m_{i} - m_{j}\\right)}$"
      ],
      "text/plain": [
       "ⅈ⋅\\Delta_\\epsilon⋅(mᵢ⋅Yh[j, j] - m_j⋅Yh[i, i] + 2⋅m_{e_l}⋅(-Yh[i, i] + Yh[j, j\n",
       "──────────────────────────────────────────────────────────────────────────────\n",
       "                                              2                               \n",
       "                                          32⋅π ⋅(mᵢ - m_j)                    \n",
       "\n",
       "]))⋅Yh[l, i]⋅Yh[l, j]\n",
       "─────────────────────\n",
       "                     \n",
       "                     "
      ]
     },
     "execution_count": 13,
     "metadata": {
      "filenames": {
       "image/png": "/home/moiseszm/Escritorio/ProyectoLFVHD/LFVHD/Examples/2HDM/_build/jupyter_execute/FormFactors_2HDM-III_16_0.png"
      }
     },
     "output_type": "execute_result"
    }
   ],
   "source": [
    "((AL_elh + AL_hel).subs(lfvhd.cambiosDivFin(mel,mh,mh)).expand(\n",
    ").collect(lfvhd.Δe,evaluate=False)[lfvhd.Δe]*lfvhd.Δe).simplify()"
   ]
  },
  {
   "cell_type": "code",
   "execution_count": null,
   "id": "collectible-porter",
   "metadata": {},
   "outputs": [],
   "source": []
  }
 ],
 "metadata": {
  "kernelspec": {
   "display_name": "Python 3",
   "language": "python",
   "name": "python3"
  },
  "language_info": {
   "codemirror_mode": {
    "name": "ipython",
    "version": 3
   },
   "file_extension": ".py",
   "mimetype": "text/x-python",
   "name": "python",
   "nbconvert_exporter": "python",
   "pygments_lexer": "ipython3",
   "version": "3.7.6"
  }
 },
 "nbformat": 4,
 "nbformat_minor": 5
}