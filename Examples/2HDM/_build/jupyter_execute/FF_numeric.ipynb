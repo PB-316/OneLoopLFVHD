{
 "cells": [
  {
   "cell_type": "markdown",
   "metadata": {},
   "source": [
    "# LFV Higgs decays in SeeSaw model ( Thao et al results) "
   ]
  },
  {
   "cell_type": "markdown",
   "metadata": {},
   "source": [
    "## In this notebook we use the mpmath implementations of PaVe functions"
   ]
  },
  {
   "cell_type": "code",
   "execution_count": 1,
   "metadata": {},
   "outputs": [],
   "source": [
    "from sympy import init_printing, Symbol,lambdify, symbols, Matrix\n",
    "init_printing()\n",
    "import OneLoopLFVHD as lfvhd"
   ]
  },
  {
   "cell_type": "code",
   "execution_count": 2,
   "metadata": {},
   "outputs": [],
   "source": [
    "from seesaw_FF import TrianglesOneFermion, TrianglesTwoFermion, Bubbles,DiagramsOneFermionW, DiagramsOneFermionG\n",
    "from seesaw_FF import g, mW, Uν, Uνc, mn, m, C, Cc, a,b,i,h\n",
    "from seesaw_FF import j as jj"
   ]
  },
  {
   "cell_type": "code",
   "execution_count": 3,
   "metadata": {},
   "outputs": [],
   "source": [
    "import matplotlib.pyplot as plt\n",
    "%matplotlib inline"
   ]
  },
  {
   "cell_type": "code",
   "execution_count": 4,
   "metadata": {},
   "outputs": [],
   "source": [
    "from mpmath import *"
   ]
  },
  {
   "cell_type": "code",
   "execution_count": 5,
   "metadata": {},
   "outputs": [],
   "source": [
    "mp.dps = 80; mp.pretty = True"
   ]
  },
  {
   "cell_type": "code",
   "execution_count": 6,
   "metadata": {},
   "outputs": [],
   "source": [
    "import numpy as np"
   ]
  },
  {
   "cell_type": "code",
   "execution_count": 7,
   "metadata": {},
   "outputs": [],
   "source": [
    "import subprocess as s"
   ]
  },
  {
   "cell_type": "code",
   "execution_count": 8,
   "metadata": {},
   "outputs": [],
   "source": [
    "from multiprocessing import Pool\n",
    "from time import time"
   ]
  },
  {
   "cell_type": "code",
   "execution_count": 9,
   "metadata": {},
   "outputs": [],
   "source": [
    "def speedup_array(f,array,procs=4): \n",
    "    pool = Pool(procs,maxtasksperchild=100).map(f, array)\n",
    "    result = np.array(list(pool))\n",
    "    return result"
   ]
  },
  {
   "cell_type": "markdown",
   "metadata": {},
   "source": [
    "## Numeric implementation of form factors"
   ]
  },
  {
   "cell_type": "markdown",
   "metadata": {},
   "source": [
    "**Neutrino benchmark** is given by "
   ]
  },
  {
   "cell_type": "code",
   "execution_count": 10,
   "metadata": {},
   "outputs": [],
   "source": [
    "from OneLoopLFVHD.neutrinos import NuOscObservables\n",
    "Nudata = NuOscObservables"
   ]
  },
  {
   "cell_type": "code",
   "execution_count": 11,
   "metadata": {},
   "outputs": [],
   "source": [
    "m1 = mpf('1e-12')  #GeV \n",
    "\n",
    "#current values to Square mass differences\n",
    "d21 = mpf(str(Nudata.squareDm21.central))*mpf('1e-18')# factor to convert eV^2 to GeV^2\n",
    "d31 = mpf(str(Nudata.squareDm31.central))*mpf('1e-18')\n",
    "\n",
    "#d21 = 7.5e-5*1e-18\n",
    "#d31 = 2.457e-3*1e-18\n",
    "m2 = sqrt(m1**2 + d21)\n",
    "m3 = sqrt(m1**2 + d31)\n",
    "\n",
    "m4 = lambda m6: m6/3\n",
    "m5 = lambda m6: m6/2"
   ]
  },
  {
   "cell_type": "markdown",
   "metadata": {},
   "source": [
    "### Form factor with one fermion in the loop."
   ]
  },
  {
   "cell_type": "markdown",
   "metadata": {},
   "source": [
    "#### AL one fermion "
   ]
  },
  {
   "cell_type": "code",
   "execution_count": 12,
   "metadata": {},
   "outputs": [],
   "source": [
    "from OneLoopLFVHD.data import ml"
   ]
  },
  {
   "cell_type": "code",
   "execution_count": 13,
   "metadata": {},
   "outputs": [],
   "source": [
    "mh,ma,mb = symbols('m_h,m_a,m_b',real=True)\n",
    "valores ={mW:mpf('80.379'),mh:mpf('125.10'),g:(2*mpf('80.379'))/mpf('246')}\n",
    "\n",
    "cambios_hab = lambda a,b:{lfvhd.ma:valores[mh],lfvhd.mi:ml[a],lfvhd.mj:ml[b]}\n",
    "\n",
    "\n",
    "Ubi, Ucai,mni = symbols('U_{bi}, {{U_{ai}^*}},m_{n_i}')\n",
    "UnuOne = {mn[i]:mni,Uν[b,i]:Ubi,Uνc[a,i]:Ucai}\n",
    "\n",
    "from Unu_seesaw import diagonalizationMnu\n",
    "diagonalizationMnu1 = lambda m1,m6: diagonalizationMnu(\n",
    "    m1,m2,m3,m6/mpf('3.0'),m6/mpf('2.0'),m6)"
   ]
  },
  {
   "cell_type": "code",
   "execution_count": 14,
   "metadata": {},
   "outputs": [],
   "source": [
    "def GIM_One(exp):\n",
    "    from sympy import Add\n",
    "    args = exp.expand().args\n",
    "    func = exp.expand().func\n",
    "    if isinstance(func,Add):\n",
    "        X = Add(*[t for t in args if t.has(mni)]).simplify()\n",
    "    else:\n",
    "        X = exp\n",
    "    #X1 = X.collect([mni],evaluate=False)\n",
    "    return X#mni**2*X1[mni**2]"
   ]
  },
  {
   "cell_type": "code",
   "execution_count": 15,
   "metadata": {},
   "outputs": [],
   "source": [
    "def sumOne(m6,Aab,a,b): \n",
    "    mnk,Unu = diagonalizationMnu1(m1,m6)\n",
    "    AL = []\n",
    "    for k in range(1,7):\n",
    "        A = Aab(mnk[k-1],Unu[b-1,k-1],conj(Unu[a-1,k-1]))\n",
    "        #print('Ai = ',A)\n",
    "        AL.append(A)\n",
    "    return mp.fsum(AL)\n"
   ]
  },
  {
   "cell_type": "code",
   "execution_count": 16,
   "metadata": {},
   "outputs": [],
   "source": [
    "from OneLoopLFVHD.data import replaceBs, pave_functions"
   ]
  },
  {
   "cell_type": "code",
   "execution_count": 17,
   "metadata": {},
   "outputs": [],
   "source": [
    "def numeric_sum_diagramsOne(a,b,quirality='L'):\n",
    "    FdiagOneFer = []\n",
    "    for Set in [TrianglesOneFermion,Bubbles]:#TrianglesOneFermion,Bubbles\n",
    "        for dia in Set:\n",
    "            if quirality=='L':\n",
    "                x = dia.AL().subs(lfvhd.D,4).subs(lfvhd.B12_0(mW,mW),0).subs(cambios_hab(a,b)).subs(valores).subs(UnuOne)\n",
    "            elif quirality=='R':\n",
    "                x = dia.AR().subs(lfvhd.D,4).subs(lfvhd.B12_0(mW,mW),0).subs(cambios_hab(a,b)).subs(valores).subs(UnuOne)\n",
    "            else:\n",
    "                raise ValueError('quirality must be L or R')\n",
    "            f = lambdify([mni,Ubi,Ucai],replaceBs(x),\n",
    "                         modules=[pave_functions(valores[mh],a,b,lib='mpmath'),'mpmath'])\n",
    "            #print(f(1,2,3))\n",
    "            #fsum = lambda m6:sumOne(m6,f,a,b)\n",
    "            FdiagOneFer.append(f)\n",
    "    def suma(m6):\n",
    "        out = []\n",
    "        xs = []\n",
    "        for g in FdiagOneFer:\n",
    "            \n",
    "            x = sumOne(m6,g,a,b)\n",
    "            out.append(x)\n",
    "            xs.append(x)\n",
    "        return np.array(xs), mp.fsum(out)\n",
    "    return suma"
   ]
  },
  {
   "cell_type": "code",
   "execution_count": 18,
   "metadata": {},
   "outputs": [],
   "source": [
    "# #a = 2, b = 3\n",
    "# ALOneTot23 = numeric_sum_diagramsOne(2,3,quirality='L')\n",
    "# AROneTot23 = numeric_sum_diagramsOne(2,3,quirality='R')\n",
    "\n",
    "# #a = 3, b = 2\n",
    "# ALOneTot32 = numeric_sum_diagramsOne(3,2,quirality='L')\n",
    "# AROneTot32 = numeric_sum_diagramsOne(3,2,quirality='R')\n",
    "\n",
    "# #a = 1, b = 3\n",
    "# ALOneTot13 = numeric_sum_diagramsOne(1,3,quirality='L')\n",
    "# AROneTot13 = numeric_sum_diagramsOne(1,3,quirality='R')\n",
    "\n",
    "# #a = 3, b = 1\n",
    "# ALOneTot31 = numeric_sum_diagramsOne(3,1,quirality='L')\n",
    "# AROneTot31 = numeric_sum_diagramsOne(3,1,quirality='R')\n",
    "\n",
    "# #a = 1, b = 2\n",
    "# ALOneTot12 = numeric_sum_diagramsOne(1,2,quirality='L')\n",
    "# AROneTot12 = numeric_sum_diagramsOne(1,2,quirality='R')\n",
    "\n",
    "# #a = 2, b = 1\n",
    "# ALOneTot21 = numeric_sum_diagramsOne(2,1,quirality='L')\n",
    "# AROneTot21 = numeric_sum_diagramsOne(2,1,quirality='R')"
   ]
  },
  {
   "cell_type": "code",
   "execution_count": 19,
   "metadata": {},
   "outputs": [],
   "source": [
    "def ALOneTot23(m6):\n",
    "    return numeric_sum_diagramsOne(2,3,quirality='L')(m6)[1]\n",
    "def AROneTot23(m6):\n",
    "    return numeric_sum_diagramsOne(2,3,quirality='R')(m6)[1]\n",
    "\n",
    "def ALOneTot32(m6):\n",
    "    return numeric_sum_diagramsOne(3,2,quirality='L')(m6)[1]\n",
    "def AROneTot32(m6):\n",
    "    return numeric_sum_diagramsOne(3,2,quirality='R')(m6)[1]\n",
    "\n",
    "def ALOneTot13(m6):\n",
    "    return numeric_sum_diagramsOne(1,3,quirality='L')(m6)[1]\n",
    "def AROneTot13(m6):\n",
    "    return numeric_sum_diagramsOne(1,3,quirality='R')(m6)[1]\n",
    "\n",
    "def ALOneTot31(m6):\n",
    "    return numeric_sum_diagramsOne(3,1,quirality='L')(m6)[1]\n",
    "def AROneTot31(m6):\n",
    "    return numeric_sum_diagramsOne(3,1,quirality='R')(m6)[1]\n",
    "\n",
    "def ALOneTot12(m6):\n",
    "    return numeric_sum_diagramsOne(1,2,quirality='L')(m6)[1]\n",
    "def AROneTot12(m6):\n",
    "    return numeric_sum_diagramsOne(1,2,quirality='R')(m6)[1]\n",
    "\n",
    "def ALOneTot21(m6):\n",
    "    return numeric_sum_diagramsOne(2,1,quirality='L')(m6)[1]\n",
    "def AROneTot21(m6):\n",
    "    return numeric_sum_diagramsOne(2,1,quirality='R')(m6)[1]"
   ]
  },
  {
   "cell_type": "code",
   "execution_count": 20,
   "metadata": {},
   "outputs": [
    {
     "data": {
      "text/plain": [
       "(0.0000000000000000000079568223861327197519474034299577482007467631633651049374180342441932108807796716 + 0.0j)"
      ]
     },
     "execution_count": 20,
     "metadata": {},
     "output_type": "execute_result"
    }
   ],
   "source": [
    "ALOneTot23(1)"
   ]
  },
  {
   "cell_type": "code",
   "execution_count": 21,
   "metadata": {},
   "outputs": [],
   "source": [
    "n = 200\n",
    "expmp = linspace(-1,15,n)\n",
    "m6np = np.array([mpf('10.0')**k for k in expmp])#np.logspace(-1,15,n)"
   ]
  },
  {
   "cell_type": "code",
   "execution_count": 22,
   "metadata": {},
   "outputs": [
    {
     "name": "stderr",
     "output_type": "stream",
     "text": [
      "Process ForkPoolWorker-4:\n"
     ]
    },
    {
     "name": "stderr",
     "output_type": "stream",
     "text": [
      "Process ForkPoolWorker-1:\n"
     ]
    },
    {
     "name": "stderr",
     "output_type": "stream",
     "text": [
      "Process ForkPoolWorker-3:\n"
     ]
    },
    {
     "name": "stderr",
     "output_type": "stream",
     "text": [
      "Traceback (most recent call last):\n"
     ]
    },
    {
     "name": "stderr",
     "output_type": "stream",
     "text": [
      "Process ForkPoolWorker-2:\n"
     ]
    },
    {
     "name": "stderr",
     "output_type": "stream",
     "text": [
      "Traceback (most recent call last):\n"
     ]
    },
    {
     "name": "stderr",
     "output_type": "stream",
     "text": [
      "  File \"/home/moiseszm/miniconda3/lib/python3.8/multiprocessing/process.py\", line 315, in _bootstrap\n",
      "    self.run()\n"
     ]
    },
    {
     "name": "stderr",
     "output_type": "stream",
     "text": [
      "Traceback (most recent call last):\n"
     ]
    },
    {
     "name": "stderr",
     "output_type": "stream",
     "text": [
      "  File \"/home/moiseszm/miniconda3/lib/python3.8/multiprocessing/process.py\", line 108, in run\n",
      "    self._target(*self._args, **self._kwargs)\n"
     ]
    },
    {
     "name": "stderr",
     "output_type": "stream",
     "text": [
      "  File \"/home/moiseszm/miniconda3/lib/python3.8/multiprocessing/process.py\", line 315, in _bootstrap\n",
      "    self.run()\n"
     ]
    },
    {
     "name": "stderr",
     "output_type": "stream",
     "text": [
      "  File \"/home/moiseszm/miniconda3/lib/python3.8/multiprocessing/process.py\", line 315, in _bootstrap\n",
      "    self.run()\n"
     ]
    },
    {
     "name": "stderr",
     "output_type": "stream",
     "text": [
      "  File \"/home/moiseszm/miniconda3/lib/python3.8/multiprocessing/pool.py\", line 125, in worker\n",
      "    result = (True, func(*args, **kwds))\n"
     ]
    },
    {
     "name": "stderr",
     "output_type": "stream",
     "text": [
      "  File \"/home/moiseszm/miniconda3/lib/python3.8/multiprocessing/process.py\", line 108, in run\n",
      "    self._target(*self._args, **self._kwargs)\n"
     ]
    },
    {
     "name": "stderr",
     "output_type": "stream",
     "text": [
      "Traceback (most recent call last):\n"
     ]
    },
    {
     "name": "stderr",
     "output_type": "stream",
     "text": [
      "  File \"/home/moiseszm/miniconda3/lib/python3.8/multiprocessing/process.py\", line 108, in run\n",
      "    self._target(*self._args, **self._kwargs)\n"
     ]
    },
    {
     "name": "stderr",
     "output_type": "stream",
     "text": [
      "  File \"/home/moiseszm/miniconda3/lib/python3.8/multiprocessing/process.py\", line 315, in _bootstrap\n",
      "    self.run()\n"
     ]
    },
    {
     "name": "stderr",
     "output_type": "stream",
     "text": [
      "  File \"/home/moiseszm/miniconda3/lib/python3.8/multiprocessing/pool.py\", line 48, in mapstar\n",
      "    return list(map(*args))\n"
     ]
    },
    {
     "name": "stderr",
     "output_type": "stream",
     "text": [
      "  File \"/home/moiseszm/miniconda3/lib/python3.8/multiprocessing/process.py\", line 108, in run\n",
      "    self._target(*self._args, **self._kwargs)\n"
     ]
    },
    {
     "name": "stderr",
     "output_type": "stream",
     "text": [
      "  File \"<ipython-input-19-d396db124c5d>\", line 2, in ALOneTot23\n",
      "    return numeric_sum_diagramsOne(2,3,quirality='L')(m6)[1]\n"
     ]
    },
    {
     "name": "stderr",
     "output_type": "stream",
     "text": [
      "  File \"/home/moiseszm/miniconda3/lib/python3.8/multiprocessing/pool.py\", line 125, in worker\n",
      "    result = (True, func(*args, **kwds))\n"
     ]
    },
    {
     "name": "stderr",
     "output_type": "stream",
     "text": [
      "  File \"/home/moiseszm/miniconda3/lib/python3.8/multiprocessing/pool.py\", line 125, in worker\n",
      "    result = (True, func(*args, **kwds))\n"
     ]
    },
    {
     "name": "stderr",
     "output_type": "stream",
     "text": [
      "  File \"/home/moiseszm/miniconda3/lib/python3.8/multiprocessing/pool.py\", line 48, in mapstar\n",
      "    return list(map(*args))\n"
     ]
    },
    {
     "name": "stderr",
     "output_type": "stream",
     "text": [
      "  File \"/home/moiseszm/miniconda3/lib/python3.8/multiprocessing/pool.py\", line 125, in worker\n",
      "    result = (True, func(*args, **kwds))\n"
     ]
    },
    {
     "name": "stderr",
     "output_type": "stream",
     "text": [
      "  File \"/home/moiseszm/miniconda3/lib/python3.8/multiprocessing/pool.py\", line 48, in mapstar\n",
      "    return list(map(*args))\n"
     ]
    },
    {
     "name": "stderr",
     "output_type": "stream",
     "text": [
      "  File \"<ipython-input-17-af86e911b4f4>\", line 21, in suma\n",
      "    x = sumOne(m6,g,a,b)\n"
     ]
    },
    {
     "name": "stderr",
     "output_type": "stream",
     "text": [
      "  File \"<ipython-input-19-d396db124c5d>\", line 2, in ALOneTot23\n",
      "    return numeric_sum_diagramsOne(2,3,quirality='L')(m6)[1]\n"
     ]
    },
    {
     "name": "stderr",
     "output_type": "stream",
     "text": [
      "  File \"<ipython-input-17-af86e911b4f4>\", line 21, in suma\n",
      "    x = sumOne(m6,g,a,b)\n"
     ]
    },
    {
     "name": "stderr",
     "output_type": "stream",
     "text": [
      "  File \"<ipython-input-19-d396db124c5d>\", line 2, in ALOneTot23\n",
      "    return numeric_sum_diagramsOne(2,3,quirality='L')(m6)[1]\n"
     ]
    },
    {
     "name": "stderr",
     "output_type": "stream",
     "text": [
      "  File \"<ipython-input-15-86d824e0f061>\", line 5, in sumOne\n",
      "    A = Aab(mnk[k-1],Unu[b-1,k-1],conj(Unu[a-1,k-1]))\n"
     ]
    },
    {
     "name": "stderr",
     "output_type": "stream",
     "text": [
      "  File \"<ipython-input-17-af86e911b4f4>\", line 21, in suma\n",
      "    x = sumOne(m6,g,a,b)\n"
     ]
    },
    {
     "name": "stderr",
     "output_type": "stream",
     "text": [
      "  File \"<lambdifygenerated-46>\", line 2, in _lambdifygenerated\n",
      "    return (mpf((0, 471452970272491923652901502724114691325594482658112906308462200793412828096597021, -266, 268))*(mpf((0, 217079669670244466794474553585799994898102141967610879043391102347029018996398789, -285, 267))*Dummy_191*Dummy_192**2*Dummy_193*C_0(Dummy_192, mpf((0, 37229009363224953887804848816053301381351952389758091587710244579888197789313663, -258, 265)), mpf((0, 37229009363224953887804848816053301381351952389758091587710244579888197789313663, -258, 265))) - mpf((0, 217079669670244466794474553585799994898102141967610879043391102347029018996398789, -285, 267))*Dummy_191*Dummy_192**2*Dummy_193*C_1(Dummy_192, mpf((0, 37229009363224953887804848816053301381351952389758091587710244579888197789313663, -258, 265)), mpf((0, 37229009363224953887804848816053301381351952389758091587710244579888197789313663, -258, 265))) + mpf((0, 685370762322471788586342628032753731725807578954286511567004741796763415369556275, -285, 269))*Dummy_191*Dummy_193*C_2(Dummy_192, mpf((0, 37229009363224953887804848816053301381351952389758091587710244579888197789313663, -258, 265)), mpf((0, 37229009363224953887804848816053301381351952389758091587710244579888197789313663, -258, 265))))/pi**2)\n"
     ]
    },
    {
     "name": "stderr",
     "output_type": "stream",
     "text": [
      "  File \"<ipython-input-15-86d824e0f061>\", line 5, in sumOne\n",
      "    A = Aab(mnk[k-1],Unu[b-1,k-1],conj(Unu[a-1,k-1]))\n"
     ]
    },
    {
     "name": "stderr",
     "output_type": "stream",
     "text": [
      "  File \"/home/moiseszm/miniconda3/lib/python3.8/site-packages/OneLoopLFVHD/data.py\", line 69, in <lambda>\n",
      "    'C_2': lambda M0,M1,M2:C2(ma,mj,M0,M1,M2)\n"
     ]
    },
    {
     "name": "stderr",
     "output_type": "stream",
     "text": [
      "  File \"<lambdifygenerated-46>\", line 2, in _lambdifygenerated\n",
      "    return (mpf((0, 471452970272491923652901502724114691325594482658112906308462200793412828096597021, -266, 268))*(mpf((0, 217079669670244466794474553585799994898102141967610879043391102347029018996398789, -285, 267))*Dummy_191*Dummy_192**2*Dummy_193*C_0(Dummy_192, mpf((0, 37229009363224953887804848816053301381351952389758091587710244579888197789313663, -258, 265)), mpf((0, 37229009363224953887804848816053301381351952389758091587710244579888197789313663, -258, 265))) - mpf((0, 217079669670244466794474553585799994898102141967610879043391102347029018996398789, -285, 267))*Dummy_191*Dummy_192**2*Dummy_193*C_1(Dummy_192, mpf((0, 37229009363224953887804848816053301381351952389758091587710244579888197789313663, -258, 265)), mpf((0, 37229009363224953887804848816053301381351952389758091587710244579888197789313663, -258, 265))) + mpf((0, 685370762322471788586342628032753731725807578954286511567004741796763415369556275, -285, 269))*Dummy_191*Dummy_193*C_2(Dummy_192, mpf((0, 37229009363224953887804848816053301381351952389758091587710244579888197789313663, -258, 265)), mpf((0, 37229009363224953887804848816053301381351952389758091587710244579888197789313663, -258, 265))))/pi**2)\n"
     ]
    },
    {
     "name": "stderr",
     "output_type": "stream",
     "text": [
      "  File \"/home/moiseszm/miniconda3/lib/python3.8/site-packages/OneLoopLFVHD/LFVHDFeynG_mpmath2.py\", line 156, in C2\n",
      "    return ( (-1/ma**2)*(B2_0(mj,M0,M2) - B12_0(ma,M1,M2) + (M1**2-M0**2)*C0(ma,M0,M1,M2)))\n"
     ]
    },
    {
     "name": "stderr",
     "output_type": "stream",
     "text": [
      "  File \"/home/moiseszm/miniconda3/lib/python3.8/site-packages/OneLoopLFVHD/LFVHDFeynG_mpmath2.py\", line 147, in C0\n",
      "    return ((R0(y0,y1) + R0(y0,y2) - R0(y0,y3))/ma**2)#*(-1j*16)\n"
     ]
    },
    {
     "name": "stderr",
     "output_type": "stream",
     "text": [
      "  File \"/home/moiseszm/miniconda3/lib/python3.8/site-packages/OneLoopLFVHD/data.py\", line 69, in <lambda>\n",
      "    'C_2': lambda M0,M1,M2:C2(ma,mj,M0,M1,M2)\n"
     ]
    },
    {
     "name": "stderr",
     "output_type": "stream",
     "text": [
      "  File \"/home/moiseszm/miniconda3/lib/python3.8/site-packages/OneLoopLFVHD/LFVHDFeynG_mpmath2.py\", line 26, in R0\n",
      "    return Li2(x0/(x0-xi)) - Li2((x0-1.0)/(x0-xi))\n"
     ]
    },
    {
     "name": "stderr",
     "output_type": "stream",
     "text": [
      "  File \"/home/moiseszm/miniconda3/lib/python3.8/site-packages/OneLoopLFVHD/LFVHDFeynG_mpmath2.py\", line 156, in C2\n",
      "    return ( (-1/ma**2)*(B2_0(mj,M0,M2) - B12_0(ma,M1,M2) + (M1**2-M0**2)*C0(ma,M0,M1,M2)))\n"
     ]
    },
    {
     "name": "stderr",
     "output_type": "stream",
     "text": [
      "  File \"/home/moiseszm/miniconda3/lib/python3.8/multiprocessing/pool.py\", line 48, in mapstar\n",
      "    return list(map(*args))\n"
     ]
    },
    {
     "name": "stderr",
     "output_type": "stream",
     "text": [
      "  File \"/home/moiseszm/miniconda3/lib/python3.8/site-packages/OneLoopLFVHD/LFVHDFeynG_mpmath2.py\", line 145, in C0\n",
      "    y2 = x2(ma,M1,M2)\n"
     ]
    },
    {
     "name": "stderr",
     "output_type": "stream",
     "text": [
      "  File \"<ipython-input-15-86d824e0f061>\", line 5, in sumOne\n",
      "    A = Aab(mnk[k-1],Unu[b-1,k-1],conj(Unu[a-1,k-1]))\n"
     ]
    },
    {
     "name": "stderr",
     "output_type": "stream",
     "text": [
      "  File \"<ipython-input-19-d396db124c5d>\", line 2, in ALOneTot23\n",
      "    return numeric_sum_diagramsOne(2,3,quirality='L')(m6)[1]\n"
     ]
    },
    {
     "name": "stderr",
     "output_type": "stream",
     "text": [
      "  File \"<lambdifygenerated-52>\", line 2, in _lambdifygenerated\n",
      "    return (mpf((0, 619878139641339069611579921750220823000071532473370500582362446338301049370035625, -274, 269))*(-mpf((0, 545270211513268124889783441958531805934829752162956088957147919235995172434735571, -280, 269))*Dummy_209*Dummy_210**2*Dummy_211*(C_0(Dummy_210, mpf((0, 37229009363224953887804848816053301381351952389758091587710244579888197789313663, -258, 265)), mpf((0, 37229009363224953887804848816053301381351952389758091587710244579888197789313663, -258, 265))) + C_1(Dummy_210, mpf((0, 37229009363224953887804848816053301381351952389758091587710244579888197789313663, -258, 265)), mpf((0, 37229009363224953887804848816053301381351952389758091587710244579888197789313663, -258, 265)))) - mpf((0, 860772132886218123355963032791323628162323240449478054894441783451281977562336935, -279, 269))*Dummy_209*Dummy_211*(-2*C_1(Dummy_210, mpf((0, 37229009363224953887804848816053301381351952389758091587710244579888197789313663, -258, 265)), mpf((0, 37229009363224953887804848816053301381351952389758091587710244579888197789313663, -258, 265))) + C_2(Dummy_210, mpf((0, 37229009363224953887804848816053301381351952389758091587710244579888197789313663, -258, 265)), mpf((0, 37229009363224953887804848816053301381351952389758091587710244579888197789313663, -258, 265)))))/pi**2)\n"
     ]
    },
    {
     "name": "stderr",
     "output_type": "stream",
     "text": [
      "  File \"/home/moiseszm/miniconda3/lib/python3.8/site-packages/OneLoopLFVHD/LFVHDFeynG_mpmath2.py\", line 22, in Li2\n",
      "    return polylog(2,x0)\n"
     ]
    },
    {
     "name": "stderr",
     "output_type": "stream",
     "text": [
      "  File \"/home/moiseszm/miniconda3/lib/python3.8/site-packages/OneLoopLFVHD/roots_mpmath2.py\", line 82, in x2\n",
      "    return mp.polyroots([a,b,c],extraprec=100)[1]#rootx2_estable(a,b,c)[1]\n"
     ]
    },
    {
     "name": "stderr",
     "output_type": "stream",
     "text": [
      "  File \"/home/moiseszm/miniconda3/lib/python3.8/site-packages/OneLoopLFVHD/data.py\", line 69, in <lambda>\n",
      "    'C_2': lambda M0,M1,M2:C2(ma,mj,M0,M1,M2)\n"
     ]
    },
    {
     "name": "stderr",
     "output_type": "stream",
     "text": [
      "  File \"/home/moiseszm/miniconda3/lib/python3.8/site-packages/mpmath/ctx_mp_python.py\", line 1021, in f_wrapped\n",
      "    retval = f(ctx, *args, **kwargs)\n"
     ]
    },
    {
     "name": "stderr",
     "output_type": "stream",
     "text": [
      "  File \"/home/moiseszm/miniconda3/lib/python3.8/site-packages/mpmath/calculus/polynomials.py\", line 193, in polyroots\n",
      "    roots[i] = p - x\n"
     ]
    },
    {
     "name": "stderr",
     "output_type": "stream",
     "text": [
      "  File \"/home/moiseszm/miniconda3/lib/python3.8/site-packages/OneLoopLFVHD/LFVHDFeynG_mpmath2.py\", line 156, in C2\n",
      "    return ( (-1/ma**2)*(B2_0(mj,M0,M2) - B12_0(ma,M1,M2) + (M1**2-M0**2)*C0(ma,M0,M1,M2)))\n"
     ]
    },
    {
     "name": "stderr",
     "output_type": "stream",
     "text": [
      "  File \"<ipython-input-17-af86e911b4f4>\", line 21, in suma\n",
      "    x = sumOne(m6,g,a,b)\n"
     ]
    },
    {
     "name": "stderr",
     "output_type": "stream",
     "text": [
      "  File \"<ipython-input-15-86d824e0f061>\", line 5, in sumOne\n",
      "    A = Aab(mnk[k-1],Unu[b-1,k-1],conj(Unu[a-1,k-1]))\n"
     ]
    },
    {
     "name": "stderr",
     "output_type": "stream",
     "text": [
      "  File \"/home/moiseszm/miniconda3/lib/python3.8/site-packages/mpmath/ctx_mp_python.py\", line 487, in __sub__\n",
      "    v = new(cls)\n"
     ]
    },
    {
     "name": "stderr",
     "output_type": "stream",
     "text": [
      "  File \"<lambdifygenerated-46>\", line 2, in _lambdifygenerated\n",
      "    return (mpf((0, 471452970272491923652901502724114691325594482658112906308462200793412828096597021, -266, 268))*(mpf((0, 217079669670244466794474553585799994898102141967610879043391102347029018996398789, -285, 267))*Dummy_191*Dummy_192**2*Dummy_193*C_0(Dummy_192, mpf((0, 37229009363224953887804848816053301381351952389758091587710244579888197789313663, -258, 265)), mpf((0, 37229009363224953887804848816053301381351952389758091587710244579888197789313663, -258, 265))) - mpf((0, 217079669670244466794474553585799994898102141967610879043391102347029018996398789, -285, 267))*Dummy_191*Dummy_192**2*Dummy_193*C_1(Dummy_192, mpf((0, 37229009363224953887804848816053301381351952389758091587710244579888197789313663, -258, 265)), mpf((0, 37229009363224953887804848816053301381351952389758091587710244579888197789313663, -258, 265))) + mpf((0, 685370762322471788586342628032753731725807578954286511567004741796763415369556275, -285, 269))*Dummy_191*Dummy_193*C_2(Dummy_192, mpf((0, 37229009363224953887804848816053301381351952389758091587710244579888197789313663, -258, 265)), mpf((0, 37229009363224953887804848816053301381351952389758091587710244579888197789313663, -258, 265))))/pi**2)\n"
     ]
    },
    {
     "name": "stderr",
     "output_type": "stream",
     "text": [
      "  File \"/home/moiseszm/miniconda3/lib/python3.8/site-packages/OneLoopLFVHD/data.py\", line 68, in <lambda>\n",
      "    'C_1': lambda M0,M1,M2:C1(ma,mi,M0,M1,M2),\n"
     ]
    },
    {
     "name": "stderr",
     "output_type": "stream",
     "text": [
      "  File \"/home/moiseszm/miniconda3/lib/python3.8/site-packages/OneLoopLFVHD/LFVHDFeynG_mpmath2.py\", line 152, in C1\n",
      "    return ((1/ma**2)*(B1_0(mi,M0,M1) - B12_0(ma,M1,M2) + (M2**2-M0**2)*C0(ma,M0,M1,M2)))\n"
     ]
    },
    {
     "name": "stderr",
     "output_type": "stream",
     "text": [
      "  File \"/home/moiseszm/miniconda3/lib/python3.8/site-packages/mpmath/functions/zeta.py\", line 484, in polylog\n",
      "    return (-1)**(s+1)*polylog_series(ctx, s, 1/z) + polylog_continuation(ctx, s, z)\n"
     ]
    },
    {
     "name": "stderr",
     "output_type": "stream",
     "text": [
      "KeyboardInterrupt\n"
     ]
    },
    {
     "name": "stderr",
     "output_type": "stream",
     "text": [
      "  File \"/home/moiseszm/miniconda3/lib/python3.8/site-packages/OneLoopLFVHD/LFVHDFeynG_mpmath2.py\", line 26, in R0\n",
      "    return Li2(x0/(x0-xi)) - Li2((x0-1.0)/(x0-xi))\n"
     ]
    },
    {
     "name": "stderr",
     "output_type": "stream",
     "text": [
      "  File \"/home/moiseszm/miniconda3/lib/python3.8/site-packages/OneLoopLFVHD/LFVHDFeynG_mpmath2.py\", line 147, in C0\n",
      "    return ((R0(y0,y1) + R0(y0,y2) - R0(y0,y3))/ma**2)#*(-1j*16)\n"
     ]
    },
    {
     "name": "stderr",
     "output_type": "stream",
     "text": [
      "  File \"/home/moiseszm/miniconda3/lib/python3.8/site-packages/OneLoopLFVHD/LFVHDFeynG_mpmath2.py\", line 147, in C0\n",
      "    return ((R0(y0,y1) + R0(y0,y2) - R0(y0,y3))/ma**2)#*(-1j*16)\n"
     ]
    },
    {
     "name": "stderr",
     "output_type": "stream",
     "text": [
      "  File \"/home/moiseszm/miniconda3/lib/python3.8/site-packages/mpmath/functions/zeta.py\", line 394, in polylog_series\n",
      "    if abs(term) < tol:\n"
     ]
    },
    {
     "name": "stderr",
     "output_type": "stream",
     "text": [
      "  File \"/home/moiseszm/miniconda3/lib/python3.8/site-packages/mpmath/ctx_mp_python.py\", line 409, in __abs__\n",
      "    v._mpf_ = mpc_abs(s._mpc_, prec, rounding)\n"
     ]
    },
    {
     "name": "stderr",
     "output_type": "stream",
     "text": [
      "  File \"/home/moiseszm/miniconda3/lib/python3.8/site-packages/OneLoopLFVHD/LFVHDFeynG_mpmath2.py\", line 26, in R0\n",
      "    return Li2(x0/(x0-xi)) - Li2((x0-1.0)/(x0-xi))\n"
     ]
    },
    {
     "name": "stderr",
     "output_type": "stream",
     "text": [
      "  File \"/home/moiseszm/miniconda3/lib/python3.8/site-packages/mpmath/libmp/libmpc.py\", line 121, in mpc_abs\n",
      "    return mpf_hypot(a, b, prec, rnd)\n"
     ]
    },
    {
     "name": "stderr",
     "output_type": "stream",
     "text": [
      "  File \"/home/moiseszm/miniconda3/lib/python3.8/site-packages/OneLoopLFVHD/LFVHDFeynG_mpmath2.py\", line 22, in Li2\n",
      "    return polylog(2,x0)\n"
     ]
    },
    {
     "name": "stderr",
     "output_type": "stream",
     "text": [
      "  File \"/home/moiseszm/miniconda3/lib/python3.8/site-packages/mpmath/libmp/libmpf.py\", line 1401, in mpf_hypot\n",
      "    hypot2 = mpf_add(mpf_mul(x,x), mpf_mul(y,y), prec+4)\n"
     ]
    },
    {
     "name": "stderr",
     "output_type": "stream",
     "text": [
      "  File \"/home/moiseszm/miniconda3/lib/python3.8/site-packages/mpmath/ctx_mp_python.py\", line 1021, in f_wrapped\n",
      "    retval = f(ctx, *args, **kwargs)\n"
     ]
    },
    {
     "name": "stderr",
     "output_type": "stream",
     "text": [
      "  File \"/home/moiseszm/miniconda3/lib/python3.8/site-packages/mpmath/libmp/libmpf.py\", line 861, in gmpy_mpf_mul\n",
      "    return (sign, man, sexp+texp, bc)\n"
     ]
    },
    {
     "name": "stderr",
     "output_type": "stream",
     "text": [
      "  File \"/home/moiseszm/miniconda3/lib/python3.8/site-packages/mpmath/functions/zeta.py\", line 484, in polylog\n",
      "    return (-1)**(s+1)*polylog_series(ctx, s, 1/z) + polylog_continuation(ctx, s, z)\n"
     ]
    },
    {
     "name": "stderr",
     "output_type": "stream",
     "text": [
      "KeyboardInterrupt\n"
     ]
    },
    {
     "name": "stderr",
     "output_type": "stream",
     "text": [
      "  File \"/home/moiseszm/miniconda3/lib/python3.8/site-packages/mpmath/functions/zeta.py\", line 394, in polylog_series\n",
      "    if abs(term) < tol:\n"
     ]
    },
    {
     "name": "stderr",
     "output_type": "stream",
     "text": [
      "  File \"/home/moiseszm/miniconda3/lib/python3.8/site-packages/mpmath/libmp/libmpc.py\", line 121, in mpc_abs\n",
      "    return mpf_hypot(a, b, prec, rnd)\n"
     ]
    },
    {
     "name": "stderr",
     "output_type": "stream",
     "text": [
      "  File \"/home/moiseszm/miniconda3/lib/python3.8/site-packages/mpmath/ctx_mp_python.py\", line 409, in __abs__\n",
      "    v._mpf_ = mpc_abs(s._mpc_, prec, rounding)\n"
     ]
    },
    {
     "name": "stderr",
     "output_type": "stream",
     "text": [
      "  File \"/home/moiseszm/miniconda3/lib/python3.8/site-packages/OneLoopLFVHD/LFVHDFeynG_mpmath2.py\", line 22, in Li2\n",
      "    return polylog(2,x0)\n"
     ]
    },
    {
     "name": "stderr",
     "output_type": "stream",
     "text": [
      "  File \"/home/moiseszm/miniconda3/lib/python3.8/site-packages/mpmath/libmp/libmpf.py\", line 1402, in mpf_hypot\n",
      "    return mpf_sqrt(hypot2, prec, rnd)\n"
     ]
    },
    {
     "name": "stderr",
     "output_type": "stream",
     "text": [
      "  File \"/home/moiseszm/miniconda3/lib/python3.8/site-packages/mpmath/ctx_mp_python.py\", line 1021, in f_wrapped\n",
      "    retval = f(ctx, *args, **kwargs)\n"
     ]
    },
    {
     "name": "stderr",
     "output_type": "stream",
     "text": [
      "  File \"/home/moiseszm/miniconda3/lib/python3.8/site-packages/mpmath/libmp/libmpf.py\", line 1389, in mpf_sqrt\n",
      "    man, rem = sqrtrem(man<<shift)\n"
     ]
    },
    {
     "name": "stderr",
     "output_type": "stream",
     "text": [
      "  File \"/home/moiseszm/miniconda3/lib/python3.8/site-packages/mpmath/functions/zeta.py\", line 484, in polylog\n",
      "    return (-1)**(s+1)*polylog_series(ctx, s, 1/z) + polylog_continuation(ctx, s, z)\n"
     ]
    },
    {
     "name": "stderr",
     "output_type": "stream",
     "text": [
      "  File \"/home/moiseszm/miniconda3/lib/python3.8/site-packages/mpmath/functions/zeta.py\", line 396, in polylog_series\n",
      "    zk *= z\n"
     ]
    },
    {
     "name": "stderr",
     "output_type": "stream",
     "text": [
      "KeyboardInterrupt\n"
     ]
    },
    {
     "name": "stderr",
     "output_type": "stream",
     "text": [
      "  File \"/home/moiseszm/miniconda3/lib/python3.8/site-packages/mpmath/ctx_mp_python.py\", line 507, in __mul__\n",
      "    v._mpc_ = mpc_mul(s._mpc_, t._mpc_, prec, rounding)\n"
     ]
    },
    {
     "name": "stderr",
     "output_type": "stream",
     "text": [
      "  File \"/home/moiseszm/miniconda3/lib/python3.8/site-packages/mpmath/libmp/libmpc.py\", line 158, in mpc_mul\n",
      "    s = mpf_mul(b, c)\n"
     ]
    },
    {
     "name": "stderr",
     "output_type": "stream",
     "text": [
      "  File \"/home/moiseszm/miniconda3/lib/python3.8/site-packages/mpmath/libmp/libmpf.py\", line 855, in gmpy_mpf_mul\n",
      "    man = sman*tman\n"
     ]
    },
    {
     "name": "stderr",
     "output_type": "stream",
     "text": [
      "KeyboardInterrupt\n"
     ]
    },
    {
     "ename": "KeyboardInterrupt",
     "evalue": "",
     "output_type": "error",
     "traceback": [
      "\u001b[0;31m---------------------------------------------------------------------------\u001b[0m",
      "\u001b[0;31mKeyboardInterrupt\u001b[0m                         Traceback (most recent call last)",
      "\u001b[0;32m<timed exec>\u001b[0m in \u001b[0;36m<module>\u001b[0;34m\u001b[0m\n",
      "\u001b[0;32m<ipython-input-9-389a330d2e1b>\u001b[0m in \u001b[0;36mspeedup_array\u001b[0;34m(f, array, procs)\u001b[0m\n\u001b[1;32m      1\u001b[0m \u001b[0;32mdef\u001b[0m \u001b[0mspeedup_array\u001b[0m\u001b[0;34m(\u001b[0m\u001b[0mf\u001b[0m\u001b[0;34m,\u001b[0m\u001b[0marray\u001b[0m\u001b[0;34m,\u001b[0m\u001b[0mprocs\u001b[0m\u001b[0;34m=\u001b[0m\u001b[0;36m4\u001b[0m\u001b[0;34m)\u001b[0m\u001b[0;34m:\u001b[0m\u001b[0;34m\u001b[0m\u001b[0;34m\u001b[0m\u001b[0m\n\u001b[0;32m----> 2\u001b[0;31m     \u001b[0mpool\u001b[0m \u001b[0;34m=\u001b[0m \u001b[0mPool\u001b[0m\u001b[0;34m(\u001b[0m\u001b[0mprocs\u001b[0m\u001b[0;34m,\u001b[0m\u001b[0mmaxtasksperchild\u001b[0m\u001b[0;34m=\u001b[0m\u001b[0;36m100\u001b[0m\u001b[0;34m)\u001b[0m\u001b[0;34m.\u001b[0m\u001b[0mmap\u001b[0m\u001b[0;34m(\u001b[0m\u001b[0mf\u001b[0m\u001b[0;34m,\u001b[0m \u001b[0marray\u001b[0m\u001b[0;34m)\u001b[0m\u001b[0;34m\u001b[0m\u001b[0;34m\u001b[0m\u001b[0m\n\u001b[0m\u001b[1;32m      3\u001b[0m     \u001b[0mresult\u001b[0m \u001b[0;34m=\u001b[0m \u001b[0mnp\u001b[0m\u001b[0;34m.\u001b[0m\u001b[0marray\u001b[0m\u001b[0;34m(\u001b[0m\u001b[0mlist\u001b[0m\u001b[0;34m(\u001b[0m\u001b[0mpool\u001b[0m\u001b[0;34m)\u001b[0m\u001b[0;34m)\u001b[0m\u001b[0;34m\u001b[0m\u001b[0;34m\u001b[0m\u001b[0m\n\u001b[1;32m      4\u001b[0m     \u001b[0;32mreturn\u001b[0m \u001b[0mresult\u001b[0m\u001b[0;34m\u001b[0m\u001b[0;34m\u001b[0m\u001b[0m\n",
      "\u001b[0;32m~/miniconda3/lib/python3.8/multiprocessing/pool.py\u001b[0m in \u001b[0;36mmap\u001b[0;34m(self, func, iterable, chunksize)\u001b[0m\n\u001b[1;32m    362\u001b[0m         \u001b[0;32min\u001b[0m \u001b[0ma\u001b[0m \u001b[0mlist\u001b[0m \u001b[0mthat\u001b[0m \u001b[0;32mis\u001b[0m \u001b[0mreturned\u001b[0m\u001b[0;34m.\u001b[0m\u001b[0;34m\u001b[0m\u001b[0;34m\u001b[0m\u001b[0m\n\u001b[1;32m    363\u001b[0m         '''\n\u001b[0;32m--> 364\u001b[0;31m         \u001b[0;32mreturn\u001b[0m \u001b[0mself\u001b[0m\u001b[0;34m.\u001b[0m\u001b[0m_map_async\u001b[0m\u001b[0;34m(\u001b[0m\u001b[0mfunc\u001b[0m\u001b[0;34m,\u001b[0m \u001b[0miterable\u001b[0m\u001b[0;34m,\u001b[0m \u001b[0mmapstar\u001b[0m\u001b[0;34m,\u001b[0m \u001b[0mchunksize\u001b[0m\u001b[0;34m)\u001b[0m\u001b[0;34m.\u001b[0m\u001b[0mget\u001b[0m\u001b[0;34m(\u001b[0m\u001b[0;34m)\u001b[0m\u001b[0;34m\u001b[0m\u001b[0;34m\u001b[0m\u001b[0m\n\u001b[0m\u001b[1;32m    365\u001b[0m \u001b[0;34m\u001b[0m\u001b[0m\n\u001b[1;32m    366\u001b[0m     \u001b[0;32mdef\u001b[0m \u001b[0mstarmap\u001b[0m\u001b[0;34m(\u001b[0m\u001b[0mself\u001b[0m\u001b[0;34m,\u001b[0m \u001b[0mfunc\u001b[0m\u001b[0;34m,\u001b[0m \u001b[0miterable\u001b[0m\u001b[0;34m,\u001b[0m \u001b[0mchunksize\u001b[0m\u001b[0;34m=\u001b[0m\u001b[0;32mNone\u001b[0m\u001b[0;34m)\u001b[0m\u001b[0;34m:\u001b[0m\u001b[0;34m\u001b[0m\u001b[0;34m\u001b[0m\u001b[0m\n",
      "\u001b[0;32m~/miniconda3/lib/python3.8/multiprocessing/pool.py\u001b[0m in \u001b[0;36mget\u001b[0;34m(self, timeout)\u001b[0m\n\u001b[1;32m    763\u001b[0m \u001b[0;34m\u001b[0m\u001b[0m\n\u001b[1;32m    764\u001b[0m     \u001b[0;32mdef\u001b[0m \u001b[0mget\u001b[0m\u001b[0;34m(\u001b[0m\u001b[0mself\u001b[0m\u001b[0;34m,\u001b[0m \u001b[0mtimeout\u001b[0m\u001b[0;34m=\u001b[0m\u001b[0;32mNone\u001b[0m\u001b[0;34m)\u001b[0m\u001b[0;34m:\u001b[0m\u001b[0;34m\u001b[0m\u001b[0;34m\u001b[0m\u001b[0m\n\u001b[0;32m--> 765\u001b[0;31m         \u001b[0mself\u001b[0m\u001b[0;34m.\u001b[0m\u001b[0mwait\u001b[0m\u001b[0;34m(\u001b[0m\u001b[0mtimeout\u001b[0m\u001b[0;34m)\u001b[0m\u001b[0;34m\u001b[0m\u001b[0;34m\u001b[0m\u001b[0m\n\u001b[0m\u001b[1;32m    766\u001b[0m         \u001b[0;32mif\u001b[0m \u001b[0;32mnot\u001b[0m \u001b[0mself\u001b[0m\u001b[0;34m.\u001b[0m\u001b[0mready\u001b[0m\u001b[0;34m(\u001b[0m\u001b[0;34m)\u001b[0m\u001b[0;34m:\u001b[0m\u001b[0;34m\u001b[0m\u001b[0;34m\u001b[0m\u001b[0m\n\u001b[1;32m    767\u001b[0m             \u001b[0;32mraise\u001b[0m \u001b[0mTimeoutError\u001b[0m\u001b[0;34m\u001b[0m\u001b[0;34m\u001b[0m\u001b[0m\n",
      "\u001b[0;32m~/miniconda3/lib/python3.8/multiprocessing/pool.py\u001b[0m in \u001b[0;36mwait\u001b[0;34m(self, timeout)\u001b[0m\n\u001b[1;32m    760\u001b[0m \u001b[0;34m\u001b[0m\u001b[0m\n\u001b[1;32m    761\u001b[0m     \u001b[0;32mdef\u001b[0m \u001b[0mwait\u001b[0m\u001b[0;34m(\u001b[0m\u001b[0mself\u001b[0m\u001b[0;34m,\u001b[0m \u001b[0mtimeout\u001b[0m\u001b[0;34m=\u001b[0m\u001b[0;32mNone\u001b[0m\u001b[0;34m)\u001b[0m\u001b[0;34m:\u001b[0m\u001b[0;34m\u001b[0m\u001b[0;34m\u001b[0m\u001b[0m\n\u001b[0;32m--> 762\u001b[0;31m         \u001b[0mself\u001b[0m\u001b[0;34m.\u001b[0m\u001b[0m_event\u001b[0m\u001b[0;34m.\u001b[0m\u001b[0mwait\u001b[0m\u001b[0;34m(\u001b[0m\u001b[0mtimeout\u001b[0m\u001b[0;34m)\u001b[0m\u001b[0;34m\u001b[0m\u001b[0;34m\u001b[0m\u001b[0m\n\u001b[0m\u001b[1;32m    763\u001b[0m \u001b[0;34m\u001b[0m\u001b[0m\n\u001b[1;32m    764\u001b[0m     \u001b[0;32mdef\u001b[0m \u001b[0mget\u001b[0m\u001b[0;34m(\u001b[0m\u001b[0mself\u001b[0m\u001b[0;34m,\u001b[0m \u001b[0mtimeout\u001b[0m\u001b[0;34m=\u001b[0m\u001b[0;32mNone\u001b[0m\u001b[0;34m)\u001b[0m\u001b[0;34m:\u001b[0m\u001b[0;34m\u001b[0m\u001b[0;34m\u001b[0m\u001b[0m\n",
      "\u001b[0;32m~/miniconda3/lib/python3.8/threading.py\u001b[0m in \u001b[0;36mwait\u001b[0;34m(self, timeout)\u001b[0m\n\u001b[1;32m    556\u001b[0m             \u001b[0msignaled\u001b[0m \u001b[0;34m=\u001b[0m \u001b[0mself\u001b[0m\u001b[0;34m.\u001b[0m\u001b[0m_flag\u001b[0m\u001b[0;34m\u001b[0m\u001b[0;34m\u001b[0m\u001b[0m\n\u001b[1;32m    557\u001b[0m             \u001b[0;32mif\u001b[0m \u001b[0;32mnot\u001b[0m \u001b[0msignaled\u001b[0m\u001b[0;34m:\u001b[0m\u001b[0;34m\u001b[0m\u001b[0;34m\u001b[0m\u001b[0m\n\u001b[0;32m--> 558\u001b[0;31m                 \u001b[0msignaled\u001b[0m \u001b[0;34m=\u001b[0m \u001b[0mself\u001b[0m\u001b[0;34m.\u001b[0m\u001b[0m_cond\u001b[0m\u001b[0;34m.\u001b[0m\u001b[0mwait\u001b[0m\u001b[0;34m(\u001b[0m\u001b[0mtimeout\u001b[0m\u001b[0;34m)\u001b[0m\u001b[0;34m\u001b[0m\u001b[0;34m\u001b[0m\u001b[0m\n\u001b[0m\u001b[1;32m    559\u001b[0m             \u001b[0;32mreturn\u001b[0m \u001b[0msignaled\u001b[0m\u001b[0;34m\u001b[0m\u001b[0;34m\u001b[0m\u001b[0m\n\u001b[1;32m    560\u001b[0m \u001b[0;34m\u001b[0m\u001b[0m\n",
      "\u001b[0;32m~/miniconda3/lib/python3.8/threading.py\u001b[0m in \u001b[0;36mwait\u001b[0;34m(self, timeout)\u001b[0m\n\u001b[1;32m    300\u001b[0m         \u001b[0;32mtry\u001b[0m\u001b[0;34m:\u001b[0m    \u001b[0;31m# restore state no matter what (e.g., KeyboardInterrupt)\u001b[0m\u001b[0;34m\u001b[0m\u001b[0;34m\u001b[0m\u001b[0m\n\u001b[1;32m    301\u001b[0m             \u001b[0;32mif\u001b[0m \u001b[0mtimeout\u001b[0m \u001b[0;32mis\u001b[0m \u001b[0;32mNone\u001b[0m\u001b[0;34m:\u001b[0m\u001b[0;34m\u001b[0m\u001b[0;34m\u001b[0m\u001b[0m\n\u001b[0;32m--> 302\u001b[0;31m                 \u001b[0mwaiter\u001b[0m\u001b[0;34m.\u001b[0m\u001b[0macquire\u001b[0m\u001b[0;34m(\u001b[0m\u001b[0;34m)\u001b[0m\u001b[0;34m\u001b[0m\u001b[0;34m\u001b[0m\u001b[0m\n\u001b[0m\u001b[1;32m    303\u001b[0m                 \u001b[0mgotit\u001b[0m \u001b[0;34m=\u001b[0m \u001b[0;32mTrue\u001b[0m\u001b[0;34m\u001b[0m\u001b[0;34m\u001b[0m\u001b[0m\n\u001b[1;32m    304\u001b[0m             \u001b[0;32melse\u001b[0m\u001b[0;34m:\u001b[0m\u001b[0;34m\u001b[0m\u001b[0;34m\u001b[0m\u001b[0m\n",
      "\u001b[0;31mKeyboardInterrupt\u001b[0m: "
     ]
    }
   ],
   "source": [
    "%%time\n",
    "YLOne23 = speedup_array(ALOneTot23,m6np)\n",
    "#YLOne32 = speedup_array(ALOneTot32,m6np)\n",
    "\n",
    "YLOne13 = speedup_array(ALOneTot13,m6np)\n",
    "#YLOne31 = speedup_array(ALOneTot31,m6np)\n",
    "\n",
    "YLOne12 = speedup_array(ALOneTot12,m6np)\n",
    "#YLOne21 = speedup_array(ALOneTot21,m6np)"
   ]
  },
  {
   "cell_type": "code",
   "execution_count": 26,
   "metadata": {},
   "outputs": [
    {
     "data": {
      "text/plain": [
       "<matplotlib.legend.Legend at 0x7f05e1940110>"
      ]
     },
     "execution_count": 26,
     "metadata": {},
     "output_type": "execute_result"
    },
    {
     "data": {
      "image/png": "[encoded data removed]",
      "text/plain": [
       "<Figure size 1080x576 with 1 Axes>"
      ]
     },
     "metadata": {
      "filenames": {
       "image/png": "/home/moiseszm/OneLoopLFVHD/Examples/2HDM/_build/jupyter_execute/FF_numeric_28_1.png"
      },
      "needs_background": "light"
     },
     "output_type": "display_data"
    }
   ],
   "source": [
    "plt.figure(figsize=(15,8))\n",
    "plt.loglog(np.real(m6np),factor*abs(YLOne23)**2,'-.',label='$A_L^{(1)}(2,3)$')\n",
    "#plt.loglog(np.real(m6np),factor*abs(YLOne32)**2,'--',label='$A_L^{(1)}(3,2)$')\n",
    "\n",
    "plt.loglog(np.real(m6np),factor*abs(YLOne13)**2,'-.',label='$A_L^{(1)}(1,3)$')\n",
    "#plt.loglog(np.real(m6np),factor*abs(YLOne31)**2,'--',label='$A_L^{(1)}(3,1)$')\n",
    "\n",
    "plt.loglog(np.real(m6np),factor*abs(YLOne12)**2,'-.',label='$A_L^{(1)}(1,2)$')\n",
    "#plt.loglog(np.real(m6np),factor*abs(YLOne21)**2,'--',label='$A_L^{(1)}(2,1)$')\n",
    "plt.xticks(fontsize=15)\n",
    "plt.yticks(fontsize=15)\n",
    "\n",
    "plt.legend(fontsize=15)"
   ]
  },
  {
   "cell_type": "markdown",
   "metadata": {},
   "source": [
    "### Form factor with two fermion in the loop."
   ]
  },
  {
   "cell_type": "code",
   "execution_count": 27,
   "metadata": {},
   "outputs": [
    {
     "data": {
      "image/png": "[encoded data removed]",
      "text/latex": [
       "$\\displaystyle \\left\\{ {C}_{i,j} : C_{ij}, \\  {{{C^*}}}_{i,j} : {{C_{ij}^*}}, \\  {{{U^\\nu}}}_{b,j} : U_{bj}, \\  {{{U^{\\nu *}}}}_{a,i} : {{U_{ai}^*}}, \\  {{{m_n}}}_{i} : m_{n_i}, \\  {{{m_n}}}_{j} : m_{n_j}\\right\\}$"
      ],
      "text/plain": [
       "{C[i, j]: C_{ij}, {{C^*}}[i, j]: {{C_{ij}__*}}, {{U^\\nu}}[b, j]: U_{bj}, {{U^{\n",
       "\\nu *}}}[a, i]: {{U_{ai}__*}}, {{m_n}}[i]: m_{n_i}, {{m_n}}[j]: m_{n_j}}"
      ]
     },
     "execution_count": 27,
     "metadata": {
      "filenames": {
       "image/png": "/home/moiseszm/OneLoopLFVHD/Examples/2HDM/_build/jupyter_execute/FF_numeric_30_0.png"
      }
     },
     "output_type": "execute_result"
    }
   ],
   "source": [
    "mnj = symbols('m_{n_j}',positive=True)\n",
    "Cijs, Cijcs, Ubj = symbols('C_{ij}, {{C_{ij}^*}},U_{bj}')\n",
    "UnuTwo = {mn[i]:mni,mn[jj]:mnj,C[i,jj]:Cijs, Cc[i,jj]:Cijcs, Uν[b,jj]:Ubj, Uνc[a,i]:Ucai}\n",
    "UnuTwo"
   ]
  },
  {
   "cell_type": "code",
   "execution_count": 28,
   "metadata": {},
   "outputs": [],
   "source": [
    "fsL = lambda k,a,b:TrianglesTwoFermion[k].AL().subs(lfvhd.D,4).subs(cambios_hab(a,b)).subs(valores).subs(UnuTwo)\n",
    "fsR = lambda k,a,b:TrianglesTwoFermion[k].AR().subs(lfvhd.D,4).subs(cambios_hab(a,b)).subs(valores).subs(UnuTwo)"
   ]
  },
  {
   "cell_type": "code",
   "execution_count": 29,
   "metadata": {},
   "outputs": [],
   "source": [
    "fL = lambda k,a,b:lambdify([mni,mnj,Ubj,Ucai,Cijs,Cijcs],replaceBs(fsL(k,a,b)),\n",
    "                     modules=[pave_functions(valores[mh],a,b,lib='mpmath'),'mpmath'] )\n",
    "fR = lambda k,a,b:lambdify([mni,mnj,Ubj,Ucai,Cijs,Cijcs],replaceBs(fsR(k,a,b)),\n",
    "                     modules=[pave_functions(valores[mh],a,b,lib='mpmath'),'mpmath'] )"
   ]
  },
  {
   "cell_type": "code",
   "execution_count": 30,
   "metadata": {},
   "outputs": [
    {
     "data": {
      "text/plain": [
       "(-0.00000027247998590854213844099384583421238032773286440032857894900089991919247803179895 + 0.00000016352018180926886301424865222343006675260280399774946471613918548438945707843168j)"
      ]
     },
     "execution_count": 30,
     "metadata": {},
     "output_type": "execute_result"
    }
   ],
   "source": [
    "fL(0,2,3)(1,2,3,4,5,6)"
   ]
  },
  {
   "cell_type": "code",
   "execution_count": 31,
   "metadata": {},
   "outputs": [],
   "source": [
    "def sumatwo(mm6,k,a,b,quirality='L'):\n",
    "    xs = []\n",
    "    if quirality=='L':\n",
    "        g = fL(k,a,b)\n",
    "    elif quirality=='R':\n",
    "        g = fR(k,a,b)\n",
    "    else:\n",
    "        raise ValueError('quirality must be L or R')\n",
    "        \n",
    "    mnk,Unu = diagonalizationMnu1(m1,mm6)\n",
    "    Cij = lambda i,j: mp.fsum([Unu[c,i]*conj(Unu[c,j]) for c in range(3)])\n",
    "    for p in range(1,7):\n",
    "        for q in range(1,7):\n",
    "            x = g(mnk[p-1],mnk[q-1],Unu[b-1,q-1],conj(Unu[a-1,p-1]),Cij(p-1,q-1),conj(Cij(p-1,q-1)))\n",
    "            xs.append(x)\n",
    "            #print(f'i = {p} and j = {q}')\n",
    "            #print(f'|f| = {x}')\n",
    "    return mp.fsum(xs)"
   ]
  },
  {
   "cell_type": "code",
   "execution_count": 35,
   "metadata": {},
   "outputs": [],
   "source": [
    "def totaltwo(m6,a,b,quirality='L'):\n",
    "    return sumatwo(m6,0,a,b,quirality) + sumatwo(m6,1,a,b,quirality)"
   ]
  },
  {
   "cell_type": "code",
   "execution_count": 36,
   "metadata": {},
   "outputs": [],
   "source": [
    "ALTwoTot23 = lambda m6: totaltwo(m6,2,3,'L')\n",
    "ARTwoTot23 = lambda m6: totaltwo(m6,2,3,'R')\n",
    "\n",
    "ALTwoTot32 = lambda m6: totaltwo(m6,3,2,'L')\n",
    "ARTwoTot32 = lambda m6: totaltwo(m6,3,2,'R')\n",
    "\n",
    "ALTwoTot13 = lambda m6: totaltwo(m6,1,3,'L')\n",
    "ARTwoTot13 = lambda m6: totaltwo(m6,1,3,'R')\n",
    "\n",
    "ALTwoTot31 = lambda m6: totaltwo(m6,3,1,'L')\n",
    "ARTwoTot31 = lambda m6: totaltwo(m6,3,1,'R')\n",
    "\n",
    "ALTwoTot12 = lambda m6: totaltwo(m6,1,2,'L')\n",
    "ARTwoTot12 = lambda m6: totaltwo(m6,1,2,'R')\n",
    "\n",
    "ALTwoTot21 = lambda m6: totaltwo(m6,2,1,'L')\n",
    "ARTwoTot21 = lambda m6: totaltwo(m6,2,1,'R')"
   ]
  },
  {
   "cell_type": "code",
   "execution_count": 37,
   "metadata": {},
   "outputs": [
    {
     "data": {
      "text/plain": [
       "(0.00014030508912878032175609972422292510197134847998752268035889621834190915992304946,\n",
       " 0.00014030508912878032175609972422292510197134847998752268035889621834190915992304946)"
      ]
     },
     "execution_count": 37,
     "metadata": {},
     "output_type": "execute_result"
    }
   ],
   "source": [
    "abs(ALTwoTot23(m6np[-1])),abs(sumatwo(m6np[-1],0,2,3,'L')+ sumatwo(m6np[-1],1,2,3,'L'))"
   ]
  },
  {
   "cell_type": "markdown",
   "metadata": {},
   "source": [
    "## Total Form Factors"
   ]
  },
  {
   "cell_type": "code",
   "execution_count": 38,
   "metadata": {},
   "outputs": [],
   "source": [
    "#a = 2, b = 3\n",
    "def ALtot23(m6):\n",
    "    return  ALOneTot23(m6) + ALTwoTot23(m6)\n",
    "def ARtot23(m6):\n",
    "    return  AROneTot23(m6) + ARTwoTot23(m6)\n",
    "\n",
    "#a = 3, b = 2\n",
    "def ALtot32(m6):\n",
    "    return  ALOneTot32(m6) + ALTwoTot32(m6)\n",
    "def ARtot32(m6):\n",
    "    return  AROneTot32(m6) + ARTwoTot32(m6)\n",
    "\n",
    "#a = 1, b = 3\n",
    "def ALtot13(m6):\n",
    "    return  ALOneTot13(m6) + ALTwoTot13(m6)\n",
    "def ARtot13(m6):\n",
    "    return  AROneTot13(m6) + ARTwoTot13(m6)\n",
    "\n",
    "#a = 3, b = 1\n",
    "def ALtot31(m6):\n",
    "    return  ALOneTot31(m6) + ALTwoTot31(m6)\n",
    "def ARtot31(m6):\n",
    "    return  AROneTot31(m6) + ARTwoTot31(m6)\n",
    "\n",
    "#a = 1, b = 2\n",
    "def ALtot12(m6):\n",
    "    return  ALOneTot12(m6) + ALTwoTot12(m6)\n",
    "def ARtot12(m6):\n",
    "    return  AROneTot12(m6) + ARTwoTot12(m6)\n",
    "\n",
    "#a = 2, b = 1\n",
    "def ALtot21(m6):\n",
    "    return  ALOneTot21(m6) + ALTwoTot21(m6)\n",
    "def ARtot21(m6):\n",
    "    return  AROneTot21(m6) + ARTwoTot21(m6)"
   ]
  },
  {
   "cell_type": "markdown",
   "metadata": {},
   "source": [
    "## Width decay of $h \\to e_a e_b$"
   ]
  },
  {
   "cell_type": "code",
   "execution_count": 39,
   "metadata": {},
   "outputs": [],
   "source": [
    "from OneLoopLFVHD import Γhlilj"
   ]
  },
  {
   "cell_type": "code",
   "execution_count": 40,
   "metadata": {},
   "outputs": [],
   "source": [
    "def Γhl2l3(m6):\n",
    "    return Γhlilj(ALtot23(m6),ARtot23(m6),valores[mh],ml[2],ml[3])\n",
    "def Γhl3l2(m6):\n",
    "    return Γhlilj(ALtot32(m6),ARtot32(m6),valores[mh],ml[3],ml[2])\n",
    "\n",
    "def Γhl1l3(m6):\n",
    "    return Γhlilj(ALtot13(m6),ARtot13(m6),valores[mh],ml[1],ml[3])\n",
    "def Γhl3l1(m6):\n",
    "    return Γhlilj(ALtot31(m6),ARtot31(m6),valores[mh],ml[3],ml[1])\n",
    "\n",
    "def Γhl1l2(m6):\n",
    "    return Γhlilj(ALtot12(m6),ARtot12(m6),valores[mh],ml[1],ml[2])\n",
    "def Γhl2l1(m6):\n",
    "    return Γhlilj(ALtot21(m6),ARtot21(m6),valores[mh],ml[2],ml[1])"
   ]
  },
  {
   "cell_type": "code",
   "execution_count": 41,
   "metadata": {},
   "outputs": [],
   "source": [
    "n = 800\n",
    "expmp = linspace(-1,15,n)\n",
    "m6np = np.array([mpf('10.0')**k for k in expmp])#np.logspace(-1,15,n)"
   ]
  },
  {
   "cell_type": "code",
   "execution_count": 42,
   "metadata": {},
   "outputs": [
    {
     "name": "stdout",
     "output_type": "stream",
     "text": [
      "CPU times: user 451 ms, sys: 282 ms, total: 732 ms\n",
      "Wall time: 3min 35s\n"
     ]
    }
   ],
   "source": [
    "%%time\n",
    "YW23 = speedup_array(Γhl2l3,m6np)\n",
    "#YW32 = speedup_array(Γhl3l2,m6np)\n",
    "\n",
    "YW13 = speedup_array(Γhl1l3,m6np)\n",
    "#YW31 = speedup_array(Γhl3l1,m6np)\n",
    "\n",
    "YW12 = speedup_array(Γhl1l2,m6np)\n",
    "\n",
    "#YW21 = speedup_array(Γhl2l1,m6np)"
   ]
  },
  {
   "cell_type": "code",
   "execution_count": 43,
   "metadata": {},
   "outputs": [],
   "source": [
    "Wtot = YW23 + YW13 + YW12 + 0.0032# + YW32 + YW31 + YW21"
   ]
  },
  {
   "cell_type": "code",
   "execution_count": 44,
   "metadata": {},
   "outputs": [
    {
     "data": {
      "text/plain": [
       "<matplotlib.legend.Legend at 0x7f05e1fab210>"
      ]
     },
     "execution_count": 44,
     "metadata": {},
     "output_type": "execute_result"
    },
    {
     "data": {
      "image/png": "[encoded data removed]",
      "text/plain": [
       "<Figure size 1080x576 with 1 Axes>"
      ]
     },
     "metadata": {
      "filenames": {
       "image/png": "/home/moiseszm/OneLoopLFVHD/Examples/2HDM/_build/jupyter_execute/FF_numeric_46_1.png"
      },
      "needs_background": "light"
     },
     "output_type": "display_data"
    }
   ],
   "source": [
    "plt.figure(figsize=(15,8))\n",
    "plt.loglog(np.real(m6np),(YW23 #+ YW32\n",
    "                         )/Wtot,label=r'Br($h \\to \\mu \\tau$)')\n",
    "plt.loglog(np.real(m6np),(YW13 #+ YW31\n",
    "                         )/Wtot,label=r'Br($h \\to e \\tau$)')\n",
    "plt.loglog(np.real(m6np),(YW12 #+ YW21\n",
    "                         )/Wtot,label=r'Br($h \\to e \\mu$)')\n",
    "\n",
    "#xx = ((YW23 + YW32)/Wtot)[-1]\n",
    "plt.hlines(1e-10,0.1,1e15,linestyles='-.',label=r'$1.7\\times 10^{-2}$')\n",
    "plt.hlines(5e-43,0.1,1e15,linestyles='--',color='b',label=r'$1\\times 10^{-32}$')\n",
    "plt.vlines(125.1,5e-43,1e-10,linestyles='--',color='r',label=r'$m_W$')\n",
    "plt.xlim(1e-1,1e15)\n",
    "plt.yticks([1e-39,1e-29,1e-19,1e-9,1])\n",
    "plt.xticks([1,1e4,1e8,1e12,1e16])\n",
    "\n",
    "plt.legend(fontsize=15)"
   ]
  },
  {
   "cell_type": "code",
   "execution_count": 37,
   "metadata": {},
   "outputs": [],
   "source": [
    "import pandas as pd"
   ]
  },
  {
   "cell_type": "code",
   "execution_count": 38,
   "metadata": {},
   "outputs": [],
   "source": [
    "df = pd.DataFrame({'m6':m6np,\n",
    "                   'Whl2l3':YW23,\n",
    "                   #'Whl3l2':YW32,\n",
    "                   'Whl1l3':YW13,\n",
    "                   #'Whl3l1':YW31,\n",
    "                   'Whl1l2':YW12})\n",
    "                   #'Whl2l1':YW21})"
   ]
  },
  {
   "cell_type": "code",
   "execution_count": 39,
   "metadata": {},
   "outputs": [],
   "source": [
    "df.to_csv('LFVHD-3.txt',sep='\\t')"
   ]
  },
  {
   "cell_type": "code",
   "execution_count": 40,
   "metadata": {},
   "outputs": [
    {
     "data": {
      "text/plain": [
       "[<matplotlib.lines.Line2D at 0x7fc2b283d8d0>]"
      ]
     },
     "execution_count": 40,
     "metadata": {},
     "output_type": "execute_result"
    },
    {
     "data": {
      "image/png": "[encoded data removed]",
      "text/plain": [
       "<Figure size 432x288 with 1 Axes>"
      ]
     },
     "metadata": {
      "filenames": {
       "image/png": "/home/moiseszm/OneLoopLFVHD/Examples/2HDM/_build/jupyter_execute/FF_numeric_50_1.png"
      },
      "needs_background": "light"
     },
     "output_type": "display_data"
    }
   ],
   "source": [
    "plt.semilogy(np.array(list(map(mpf,df['Whl2l3']))))"
   ]
  },
  {
   "cell_type": "code",
   "execution_count": null,
   "metadata": {},
   "outputs": [],
   "source": []
  }
 ],
 "metadata": {
  "kernelspec": {
   "display_name": "Python 3",
   "language": "python",
   "name": "python3"
  },
  "language_info": {
   "codemirror_mode": {
    "name": "ipython",
    "version": 3
   },
   "file_extension": ".py",
   "mimetype": "text/x-python",
   "name": "python",
   "nbconvert_exporter": "python",
   "pygments_lexer": "ipython3",
   "version": "3.8.10"
  }
 },
 "nbformat": 4,
 "nbformat_minor": 4
}