{
 "cells": [
  {
   "cell_type": "code",
   "execution_count": 1,
   "metadata": {},
   "outputs": [],
   "source": [
    "import numpy.linalg as LA\n",
    "import numpy as np"
   ]
  },
  {
   "cell_type": "code",
   "execution_count": 2,
   "metadata": {},
   "outputs": [],
   "source": [
    "def A(M):\n",
    "    return np.array(\n",
    "    [\n",
    "        [\n",
    "            [m/3, 1, 1],\n",
    "            [1, m/2, 1],\n",
    "            [1, 1, m]\n",
    "            ]\n",
    "        for m in M ]\n",
    "    )"
   ]
  },
  {
   "cell_type": "code",
   "execution_count": 3,
   "metadata": {},
   "outputs": [],
   "source": [
    "m6 = np.logspace(-1,15,3)\n",
    "eigsystem = LA.eig(A(m6))"
   ]
  },
  {
   "cell_type": "code",
   "execution_count": 4,
   "metadata": {},
   "outputs": [
    {
     "data": {
      "text/plain": [
       "array([[[-5.71976942e-01, -7.53945515e-01, -3.23123100e-01],\n",
       "        [-5.75142584e-01,  6.49489090e-01, -4.97368003e-01],\n",
       "        [-5.84853303e-01,  9.86411750e-02,  8.05118956e-01]],\n",
       "\n",
       "       [[ 1.00000000e+00, -1.50000030e-07, -5.99999880e-07],\n",
       "        [-5.99999910e-07, -2.00000030e-07, -1.00000000e+00],\n",
       "        [-1.49999910e-07, -1.00000000e+00,  2.00000120e-07]],\n",
       "\n",
       "       [[ 1.00000000e+00, -1.50000000e-15, -6.00000000e-15],\n",
       "        [-6.00000000e-15, -1.66533454e-15, -1.00000000e+00],\n",
       "        [-1.50000000e-15, -1.00000000e+00,  2.27635684e-15]]])"
      ]
     },
     "execution_count": 4,
     "metadata": {},
     "output_type": "execute_result"
    }
   ],
   "source": [
    "mnu = eigsystem[0]\n",
    "U = eigsystem[1]\n",
    "U_dagger = np.array([np.conjugate(Ui.T) for Ui in U])\n",
    "U "
   ]
  },
  {
   "cell_type": "code",
   "execution_count": 5,
   "metadata": {},
   "outputs": [
    {
     "data": {
      "text/plain": [
       "array([[-5.84853303e-01,  9.86411750e-02,  8.05118956e-01],\n",
       "       [-1.49999910e-07, -1.00000000e+00,  2.00000120e-07],\n",
       "       [-1.50000000e-15, -1.00000000e+00,  2.27635684e-15]])"
      ]
     },
     "execution_count": 5,
     "metadata": {},
     "output_type": "execute_result"
    }
   ],
   "source": [
    "# U[0,3-1] # U3k\n",
    "U[:,3-1]"
   ]
  },
  {
   "cell_type": "code",
   "execution_count": 6,
   "metadata": {},
   "outputs": [
    {
     "data": {
      "text/plain": [
       "array([[[-5.71976942e-01, -5.75142584e-01, -5.84853303e-01],\n",
       "        [-7.53945515e-01,  6.49489090e-01,  9.86411750e-02],\n",
       "        [-3.23123100e-01, -4.97368003e-01,  8.05118956e-01]],\n",
       "\n",
       "       [[ 1.00000000e+00, -5.99999910e-07, -1.49999910e-07],\n",
       "        [-1.50000030e-07, -2.00000030e-07, -1.00000000e+00],\n",
       "        [-5.99999880e-07, -1.00000000e+00,  2.00000120e-07]],\n",
       "\n",
       "       [[ 1.00000000e+00, -6.00000000e-15, -1.50000000e-15],\n",
       "        [-1.50000000e-15, -1.66533454e-15, -1.00000000e+00],\n",
       "        [-6.00000000e-15, -1.00000000e+00,  2.27635684e-15]]])"
      ]
     },
     "execution_count": 6,
     "metadata": {},
     "output_type": "execute_result"
    }
   ],
   "source": [
    "U_dagger # Uk2"
   ]
  },
  {
   "cell_type": "code",
   "execution_count": 7,
   "metadata": {},
   "outputs": [
    {
     "data": {
      "text/plain": [
       "array([[-5.75142584e-01,  6.49489090e-01, -4.97368003e-01],\n",
       "       [-5.99999910e-07, -2.00000030e-07, -1.00000000e+00],\n",
       "       [-6.00000000e-15, -1.66533454e-15, -1.00000000e+00]])"
      ]
     },
     "execution_count": 7,
     "metadata": {},
     "output_type": "execute_result"
    }
   ],
   "source": [
    "#U_dagger[0,:,2-1] # Uk2\n",
    "U_dagger[:,:,2-1]"
   ]
  },
  {
   "cell_type": "code",
   "execution_count": 8,
   "metadata": {},
   "outputs": [
    {
     "data": {
      "text/plain": [
       "array([ 0.33637404,  0.06406637, -0.40044041])"
      ]
     },
     "execution_count": 8,
     "metadata": {},
     "output_type": "execute_result"
    }
   ],
   "source": [
    "U[0,3-1]*U_dagger[0,:,2-1]#*mnu[0]"
   ]
  },
  {
   "cell_type": "code",
   "execution_count": 9,
   "metadata": {},
   "outputs": [
    {
     "data": {
      "text/plain": [
       "array([[ 3.36374040e-01,  6.40663670e-02, -4.00440407e-01],\n",
       "       [ 8.99999325e-14,  2.00000030e-07, -2.00000120e-07],\n",
       "       [ 9.00000000e-30,  1.66533454e-15, -2.27635684e-15]])"
      ]
     },
     "execution_count": 9,
     "metadata": {},
     "output_type": "execute_result"
    }
   ],
   "source": [
    "UU = U[:,3-1]*U_dagger[:,:,2-1]\n",
    "UU"
   ]
  },
  {
   "cell_type": "code",
   "execution_count": 10,
   "metadata": {},
   "outputs": [
    {
     "data": {
      "text/plain": [
       "array([-5.55111512e-17, -1.31282854e-16, -6.11022302e-16])"
      ]
     },
     "execution_count": 10,
     "metadata": {},
     "output_type": "execute_result"
    }
   ],
   "source": [
    "np.array([uu.sum() for uu in UU])"
   ]
  },
  {
   "cell_type": "code",
   "execution_count": 11,
   "metadata": {},
   "outputs": [
    {
     "data": {
      "text/plain": [
       "-5.551115123125783e-17"
      ]
     },
     "execution_count": 11,
     "metadata": {},
     "output_type": "execute_result"
    }
   ],
   "source": [
    "UU[0,0]+UU[0,1]+UU[0,2]"
   ]
  },
  {
   "cell_type": "code",
   "execution_count": 12,
   "metadata": {},
   "outputs": [
    {
     "data": {
      "text/plain": [
       "array([[-4.00440407e-01,  6.40663670e-02,  3.36374040e-01],\n",
       "       [-2.00000120e-07,  8.99999325e-14,  2.00000030e-07],\n",
       "       [-2.27635684e-15,  9.00000000e-30,  1.66533454e-15]])"
      ]
     },
     "execution_count": 12,
     "metadata": {},
     "output_type": "execute_result"
    }
   ],
   "source": [
    "np.sort(U[:,3-1]*U_dagger[:,:,2-1])"
   ]
  },
  {
   "cell_type": "code",
   "execution_count": 13,
   "metadata": {},
   "outputs": [
    {
     "data": {
      "text/plain": [
       "array([-5.55111512e-17, -1.31282854e-16, -6.11022302e-16])"
      ]
     },
     "execution_count": 13,
     "metadata": {},
     "output_type": "execute_result"
    }
   ],
   "source": [
    "(U[:,3-1]*U_dagger[:,:,2-1]).sum(axis=1)"
   ]
  },
  {
   "cell_type": "code",
   "execution_count": 14,
   "metadata": {},
   "outputs": [
    {
     "data": {
      "text/plain": [
       "array([-5.55111512e-17, -1.31282854e-16, -6.11022302e-16])"
      ]
     },
     "execution_count": 14,
     "metadata": {},
     "output_type": "execute_result"
    }
   ],
   "source": [
    "np.sort(U[:,3-1]*U_dagger[:,:,2-1]).sum(axis=1)"
   ]
  },
  {
   "cell_type": "code",
   "execution_count": 15,
   "metadata": {},
   "outputs": [
    {
     "data": {
      "text/plain": [
       "0.9999999999999998"
      ]
     },
     "execution_count": 15,
     "metadata": {},
     "output_type": "execute_result"
    }
   ],
   "source": [
    "(U[0,3-1]*U_dagger[0,:,2-1]*mnu[0]).sum()"
   ]
  },
  {
   "cell_type": "code",
   "execution_count": 16,
   "metadata": {},
   "outputs": [
    {
     "data": {
      "text/plain": [
       "array([ 2.06137992, -0.95895358, -0.91909301])"
      ]
     },
     "execution_count": 16,
     "metadata": {},
     "output_type": "execute_result"
    }
   ],
   "source": [
    "mnu[0]"
   ]
  },
  {
   "cell_type": "code",
   "execution_count": 17,
   "metadata": {},
   "outputs": [
    {
     "data": {
      "text/plain": [
       "array([ 0.33637404,  0.06406637, -0.40044041])"
      ]
     },
     "execution_count": 17,
     "metadata": {},
     "output_type": "execute_result"
    }
   ],
   "source": [
    "(U[0,3-1]*U_dagger[0,:,2-1])"
   ]
  },
  {
   "cell_type": "code",
   "execution_count": 18,
   "metadata": {},
   "outputs": [
    {
     "data": {
      "text/plain": [
       "array([[1, 2, 3],\n",
       "       [4, 5, 6],\n",
       "       [7, 8, 9]])"
      ]
     },
     "execution_count": 18,
     "metadata": {},
     "output_type": "execute_result"
    }
   ],
   "source": [
    "x = np.arange(1,10)\n",
    "x.shape = (3,3)\n",
    "x"
   ]
  },
  {
   "cell_type": "code",
   "execution_count": 19,
   "metadata": {},
   "outputs": [
    {
     "data": {
      "text/plain": [
       "array([[ 1,  4,  9],\n",
       "       [16, 25, 36],\n",
       "       [49, 64, 81]])"
      ]
     },
     "execution_count": 19,
     "metadata": {},
     "output_type": "execute_result"
    }
   ],
   "source": [
    "x*x"
   ]
  },
  {
   "cell_type": "code",
   "execution_count": 20,
   "metadata": {},
   "outputs": [
    {
     "data": {
      "text/plain": [
       "array([[ 1,  4,  9],\n",
       "       [16, 25, 36],\n",
       "       [49, 64, 81]])"
      ]
     },
     "execution_count": 20,
     "metadata": {},
     "output_type": "execute_result"
    }
   ],
   "source": [
    "y = np.arange(1,)\n",
    "x*x"
   ]
  },
  {
   "cell_type": "code",
   "execution_count": 21,
   "metadata": {},
   "outputs": [],
   "source": [
    "from OneLoopLFVHD.LFVHDFeynG_numpy2 import C0"
   ]
  },
  {
   "cell_type": "code",
   "execution_count": 22,
   "metadata": {},
   "outputs": [
    {
     "data": {
      "text/plain": [
       "array([[-4.91138200e-05+0.j, -4.91721314e-05+0.j, -4.91736282e-05+0.j],\n",
       "       [-1.71919949e-12+0.j, -2.12994484e-13+0.j, -7.96525829e-13+0.j],\n",
       "       [ 0.00000000e+00+0.j,  0.00000000e+00+0.j,  0.00000000e+00+0.j]])"
      ]
     },
     "execution_count": 22,
     "metadata": {},
     "output_type": "execute_result"
    }
   ],
   "source": [
    "C0_np = C0(125.1,mnu,100,200)\n",
    "C0_np"
   ]
  },
  {
   "cell_type": "code",
   "execution_count": 23,
   "metadata": {},
   "outputs": [
    {
     "data": {
      "text/plain": [
       "array([[ 2.06137992e+00, -9.58953576e-01, -9.19093013e-01],\n",
       "       [ 3.33333333e+06,  1.00000000e+07,  5.00000000e+06],\n",
       "       [ 3.33333333e+14,  1.00000000e+15,  5.00000000e+14]])"
      ]
     },
     "execution_count": 23,
     "metadata": {},
     "output_type": "execute_result"
    }
   ],
   "source": [
    "mnu"
   ]
  },
  {
   "cell_type": "code",
   "execution_count": 24,
   "metadata": {},
   "outputs": [
    {
     "data": {
      "text/plain": [
       "array([[4.24928718e+00, 9.19591961e-01, 8.44731966e-01],\n",
       "       [1.11111111e+13, 1.00000000e+14, 2.50000000e+13],\n",
       "       [1.11111111e+29, 1.00000000e+30, 2.50000000e+29]])"
      ]
     },
     "execution_count": 24,
     "metadata": {},
     "output_type": "execute_result"
    }
   ],
   "source": [
    "mnu*mnu"
   ]
  },
  {
   "cell_type": "code",
   "execution_count": 25,
   "metadata": {},
   "outputs": [],
   "source": [
    "#C0(125.1,100,mnu,100)"
   ]
  },
  {
   "cell_type": "code",
   "execution_count": 26,
   "metadata": {},
   "outputs": [],
   "source": [
    "\n",
    "def sum_diagrams3(M,a,b):\n",
    "    Ma = A(M)\n",
    "    eigsystem = LA.eig(Ma)\n",
    "    mnu = eigsystem[0]\n",
    "    U = eigsystem[1]\n",
    "    U_dagger = np.array([np.conjugate(Ui.T) for Ui in U])\n",
    "    \n",
    "    output = (U[:,b-1]*U_dagger[:,:,a-1]*C0(125.1,mnu,100,200)).sum(axis=1)\n",
    "    return output\n"
   ]
  },
  {
   "cell_type": "code",
   "execution_count": 27,
   "metadata": {},
   "outputs": [],
   "source": [
    "m6 = np.logspace(-1,5,100)\n",
    "Y = sum_diagrams3(m6,1,3)"
   ]
  },
  {
   "cell_type": "code",
   "execution_count": 28,
   "metadata": {},
   "outputs": [],
   "source": [
    "import matplotlib.pyplot as plt\n",
    "%matplotlib inline"
   ]
  },
  {
   "cell_type": "code",
   "execution_count": 29,
   "metadata": {},
   "outputs": [
    {
     "data": {
      "text/plain": [
       "[<matplotlib.lines.Line2D at 0x7faa242ff110>]"
      ]
     },
     "execution_count": 29,
     "metadata": {},
     "output_type": "execute_result"
    },
    {
     "data": {
      "image/png": "[encoded data removed]",
      "text/plain": [
       "<Figure size 432x288 with 1 Axes>"
      ]
     },
     "metadata": {
      "needs_background": "light"
     },
     "output_type": "display_data"
    }
   ],
   "source": [
    "plt.loglog(m6,np.abs(Y))"
   ]
  },
  {
   "cell_type": "code",
   "execution_count": 30,
   "metadata": {},
   "outputs": [],
   "source": [
    "from OneLoopLFVHD.neutrinos import NuOscObservables\n",
    "Nudata = NuOscObservables"
   ]
  },
  {
   "cell_type": "code",
   "execution_count": 31,
   "metadata": {},
   "outputs": [],
   "source": [
    "m1 = 1e-12  #GeV \n",
    "\n",
    "#current values to Square mass differences\n",
    "d21 = Nudata.squareDm21.central*1e-18# factor to convert eV^2 to GeV^2\n",
    "d31 = Nudata.squareDm31.central*1e-18\n",
    "\n",
    "#d21 = 7.5e-5*1e-18\n",
    "#d31 = 2.457e-3*1e-18\n",
    "m2 = np.sqrt(m1**2 + d21)\n",
    "m3 = np.sqrt(m1**2 + d31)\n",
    "\n",
    "m4 = lambda m6: m6/3\n",
    "m5 = lambda m6: m6/2\n",
    "\n",
    "from Unu_seesaw_ISS import MD_NO_np, Mnu_np\n",
    "def Mnu_array(m6,mux): \n",
    "    Ma_list = []\n",
    "    for m in m6:\n",
    "        m4 = m/3\n",
    "        m5 = m/2\n",
    "        # M = MD_NO_np(m1,m2,m3,m4,m5,m)\n",
    "        # Ma =[\n",
    "        #         [0.0,0.0,0.0,M[0,0],M[0,1],M[0,2]],\n",
    "        #         [0.0,0.0,0.0,M[1,0],M[1,1],M[1,2]],\n",
    "        #         [0.0,0.0,0.0,M[2,0],M[2,1],M[2,2]],\n",
    "        #         [M[0,0],M[1,0],M[2,0],m4,0.0,0.0],\n",
    "        #         [M[0,1],M[1,1],M[2,1],0.0,m5,0.0],\n",
    "        #         [M[0,2],M[1,2],M[2,2],0.0,0.0,m]\n",
    "        #     ]\n",
    "        #Ma_list.append(Ma)\n",
    "        Ma_list.append(Mnu_np(m1,m2,m3,m4,m5,m,mux,mux,mux))\n",
    "    return np.array(Ma_list)"
   ]
  },
  {
   "cell_type": "code",
   "execution_count": 32,
   "metadata": {},
   "outputs": [
    {
     "data": {
      "text/plain": [
       "array([[0.00000000e+00   +0.j        , 0.00000000e+00   +0.j        ,\n",
       "        0.00000000e+00   +0.j        , 0.00000000e+00  +86.57284024j,\n",
       "        0.00000000e+00   +0.j        , 0.00000000e+00   +0.j        ,\n",
       "        0.00000000e+00   +0.j        , 0.00000000e+00   +0.j        ,\n",
       "        0.00000000e+00   +0.j        ],\n",
       "       [0.00000000e+00   +0.j        , 0.00000000e+00   +0.j        ,\n",
       "        0.00000000e+00   +0.j        , 0.00000000e+00   +0.j        ,\n",
       "        0.00000000e+00 +227.91682454j, 0.00000000e+00   +0.j        ,\n",
       "        0.00000000e+00   +0.j        , 0.00000000e+00   +0.j        ,\n",
       "        0.00000000e+00   +0.j        ],\n",
       "       [0.00000000e+00   +0.j        , 0.00000000e+00   +0.j        ,\n",
       "        0.00000000e+00   +0.j        , 0.00000000e+00   +0.j        ,\n",
       "        0.00000000e+00   +0.j        , 0.00000000e+00+1473.37008413j,\n",
       "        0.00000000e+00   +0.j        , 0.00000000e+00   +0.j        ,\n",
       "        0.00000000e+00   +0.j        ],\n",
       "       [0.00000000e+00  +86.57284024j, 0.00000000e+00   +0.j        ,\n",
       "        0.00000000e+00   +0.j        , 0.00000000e+00   +0.j        ,\n",
       "        0.00000000e+00   +0.j        , 0.00000000e+00   +0.j        ,\n",
       "        3.33333333e+04   +0.j        , 0.00000000e+00   +0.j        ,\n",
       "        0.00000000e+00   +0.j        ],\n",
       "       [0.00000000e+00   +0.j        , 0.00000000e+00 +227.91682454j,\n",
       "        0.00000000e+00   +0.j        , 0.00000000e+00   +0.j        ,\n",
       "        0.00000000e+00   +0.j        , 0.00000000e+00   +0.j        ,\n",
       "        0.00000000e+00   +0.j        , 5.00000000e+04   +0.j        ,\n",
       "        0.00000000e+00   +0.j        ],\n",
       "       [0.00000000e+00   +0.j        , 0.00000000e+00   +0.j        ,\n",
       "        0.00000000e+00+1473.37008413j, 0.00000000e+00   +0.j        ,\n",
       "        0.00000000e+00   +0.j        , 0.00000000e+00   +0.j        ,\n",
       "        0.00000000e+00   +0.j        , 0.00000000e+00   +0.j        ,\n",
       "        1.00000000e+05   +0.j        ],\n",
       "       [0.00000000e+00   +0.j        , 0.00000000e+00   +0.j        ,\n",
       "        0.00000000e+00   +0.j        , 3.33333333e+04   +0.j        ,\n",
       "        0.00000000e+00   +0.j        , 0.00000000e+00   +0.j        ,\n",
       "        1.00000000e-07   +0.j        , 0.00000000e+00   +0.j        ,\n",
       "        0.00000000e+00   +0.j        ],\n",
       "       [0.00000000e+00   +0.j        , 0.00000000e+00   +0.j        ,\n",
       "        0.00000000e+00   +0.j        , 0.00000000e+00   +0.j        ,\n",
       "        5.00000000e+04   +0.j        , 0.00000000e+00   +0.j        ,\n",
       "        0.00000000e+00   +0.j        , 1.00000000e-07   +0.j        ,\n",
       "        0.00000000e+00   +0.j        ],\n",
       "       [0.00000000e+00   +0.j        , 0.00000000e+00   +0.j        ,\n",
       "        0.00000000e+00   +0.j        , 0.00000000e+00   +0.j        ,\n",
       "        0.00000000e+00   +0.j        , 1.00000000e+05   +0.j        ,\n",
       "        0.00000000e+00   +0.j        , 0.00000000e+00   +0.j        ,\n",
       "        1.00000000e-07   +0.j        ]])"
      ]
     },
     "execution_count": 32,
     "metadata": {},
     "output_type": "execute_result"
    }
   ],
   "source": [
    "Mnu_array(m6,1e-7)[-1]"
   ]
  },
  {
   "cell_type": "code",
   "execution_count": 33,
   "metadata": {},
   "outputs": [],
   "source": [
    " k = 50\n",
    " mux = 1e-7\n",
    " eig = LA.eig(Mnu_array(m6,mux)[k],)"
   ]
  },
  {
   "cell_type": "code",
   "execution_count": 34,
   "metadata": {},
   "outputs": [
    {
     "data": {
      "text/plain": [
       "array([-3.57421201e+01+0.j,  3.57421202e+01+0.j, -6.74523924e-13+0.j,\n",
       "       -2.07789688e-12+0.j, -5.36128040e+01+0.j,  5.36128041e+01+0.j,\n",
       "       -2.17126317e-11+0.j, -1.07215083e+02+0.j,  1.07215083e+02+0.j])"
      ]
     },
     "execution_count": 34,
     "metadata": {},
     "output_type": "execute_result"
    }
   ],
   "source": [
    "mn = eig[0]\n",
    "mn"
   ]
  },
  {
   "cell_type": "code",
   "execution_count": 35,
   "metadata": {},
   "outputs": [
    {
     "data": {
      "text/plain": [
       "array([[ 0.00000000e+00+1.83648728e-03j,  0.00000000e+00+1.83648727e-03j,\n",
       "         9.99996627e-01+0.00000000e+00j,  6.52186764e-06-0.00000000e+00j,\n",
       "         0.00000000e+00-3.55838871e-21j,  0.00000000e+00+3.48934654e-21j,\n",
       "         0.00000000e+00+0.00000000e+00j, -0.00000000e+00-0.00000000e+00j,\n",
       "         0.00000000e+00+0.00000000e+00j],\n",
       "       [ 0.00000000e+00-2.81141457e-16j,  0.00000000e+00+2.81141457e-16j,\n",
       "         2.62995642e-05-0.00000000e+00j,  9.99989611e-01+0.00000000e+00j,\n",
       "         0.00000000e+00+3.22323065e-03j,  0.00000000e+00+3.22323064e-03j,\n",
       "         0.00000000e+00+0.00000000e+00j, -0.00000000e+00-0.00000000e+00j,\n",
       "         0.00000000e+00+0.00000000e+00j],\n",
       "       [ 0.00000000e+00+0.00000000e+00j,  0.00000000e+00+0.00000000e+00j,\n",
       "        -0.00000000e+00-0.00000000e+00j, -0.00000000e+00-0.00000000e+00j,\n",
       "         0.00000000e+00+0.00000000e+00j,  0.00000000e+00+0.00000000e+00j,\n",
       "         9.99891477e-01+0.00000000e+00j, -0.00000000e+00+1.04182998e-02j,\n",
       "         0.00000000e+00+1.04182998e-02j],\n",
       "       [-7.07104397e-01+0.00000000e+00j,  7.07104396e-01+0.00000000e+00j,\n",
       "        -0.00000000e+00+7.26650965e-12j, -0.00000000e+00+2.22938317e-16j,\n",
       "         1.74095396e-18+0.00000000e+00j,  1.74095495e-18+0.00000000e+00j,\n",
       "         0.00000000e+00+0.00000000e+00j, -0.00000000e+00-0.00000000e+00j,\n",
       "         0.00000000e+00+0.00000000e+00j],\n",
       "       [ 1.43423114e-27+0.00000000e+00j, -7.17109765e-27+0.00000000e+00j,\n",
       "        -0.00000000e+00+2.23609871e-16j, -0.00000000e+00+8.50232905e-12j,\n",
       "        -7.07099435e-01+0.00000000e+00j,  7.07099435e-01+0.00000000e+00j,\n",
       "         0.00000000e+00+0.00000000e+00j, -0.00000000e+00-0.00000000e+00j,\n",
       "         0.00000000e+00+0.00000000e+00j],\n",
       "       [ 0.00000000e+00+0.00000000e+00j,  0.00000000e+00+0.00000000e+00j,\n",
       "        -0.00000000e+00-0.00000000e+00j, -0.00000000e+00-0.00000000e+00j,\n",
       "         0.00000000e+00+0.00000000e+00j,  0.00000000e+00+0.00000000e+00j,\n",
       "         0.00000000e+00+1.37421671e-11j, -7.07030027e-01-0.00000000e+00j,\n",
       "         7.07030027e-01+0.00000000e+00j],\n",
       "       [ 7.07106781e-01+0.00000000e+00j,  7.07106782e-01+0.00000000e+00j,\n",
       "        -0.00000000e+00-2.59717645e-03j, -0.00000000e+00-1.69384981e-08j,\n",
       "        -1.53787301e-18+0.00000000e+00j,  1.53787384e-18+0.00000000e+00j,\n",
       "         0.00000000e+00+0.00000000e+00j, -0.00000000e+00-0.00000000e+00j,\n",
       "         0.00000000e+00+0.00000000e+00j],\n",
       "       [-7.68923455e-19+0.00000000e+00j,  3.84458615e-18+0.00000000e+00j,\n",
       "        -0.00000000e+00-1.19882263e-07j, -0.00000000e+00-4.55828913e-03j,\n",
       "         7.07106781e-01+0.00000000e+00j,  7.07106782e-01+0.00000000e+00j,\n",
       "         0.00000000e+00+0.00000000e+00j, -0.00000000e+00-0.00000000e+00j,\n",
       "         0.00000000e+00+0.00000000e+00j],\n",
       "       [-0.00000000e+00+0.00000000e+00j,  0.00000000e+00-0.00000000e+00j,\n",
       "        -0.00000000e+00-0.00000000e+00j, -0.00000000e+00-0.00000000e+00j,\n",
       "         0.00000000e+00-0.00000000e+00j, -0.00000000e+00+0.00000000e+00j,\n",
       "        -0.00000000e+00-1.47321019e-02j,  7.07106781e-01+0.00000000e+00j,\n",
       "         7.07106781e-01+0.00000000e+00j]])"
      ]
     },
     "execution_count": 35,
     "metadata": {},
     "output_type": "execute_result"
    }
   ],
   "source": [
    "U = eig[1]\n",
    "U"
   ]
  },
  {
   "cell_type": "code",
   "execution_count": 36,
   "metadata": {},
   "outputs": [],
   "source": [
    "D = U@Mnu_np(m1,m2,m3,m6[k]/3,m6[k]/2,m6[k],mux,mux,mux)@np.conjugate(U.T)"
   ]
  },
  {
   "cell_type": "code",
   "execution_count": 37,
   "metadata": {},
   "outputs": [
    {
     "name": "stdout",
     "output_type": "stream",
     "text": [
      "[[ 0.        -0.j          0.00492171+0.00000145j  0.00023308+0.j\n",
      "  -0.        -0.00000043j  0.00031736+1.11710476j  0.        -0.j\n",
      "   0.        +0.00000043j -0.00031736+1.11711559j  0.        +0.00000343j]\n",
      " [-0.00492171+0.00000145j  0.        +0.j         35.74339168+0.j\n",
      "  -0.000557  -0.06563927j  0.        +0.00002938j  0.        +0.12218061j\n",
      "  -0.000557  +0.06562626j -0.        +0.00002938j  0.        +0.89313447j]\n",
      " [ 0.00023308+0.j         35.74339168+0.j          0.0000001 +0.j\n",
      "   0.        -0.j          0.        +0.39495751j  0.        -0.j\n",
      "   0.        +0.00000061j  0.        +1.34779062j  0.        +0.j        ]\n",
      " [ 0.        -0.00000043j  0.000557  -0.06563927j  0.        +0.j\n",
      "   0.        +0.j         -0.        -0.12219219j  0.        +0.j\n",
      "   0.        +0.j          0.00029921+0.12219346j  0.        +0.j        ]\n",
      " [-0.00031736+1.11710476j -0.        +0.00002938j  0.        -0.39495751j\n",
      "   0.        -0.12219219j  0.        +0.j         80.41047687+0.j\n",
      "  -0.00290133-0.1221926j  -0.00000013-0.j         26.80640203+0.j        ]\n",
      " [ 0.        +0.j          0.        -0.12218061j  0.        +0.j\n",
      "   0.        +0.j         80.41047687+0.j          0.0000001 +0.j\n",
      "   0.        +0.j         26.80377079+0.j         -0.        +0.j        ]\n",
      " [-0.        +0.00000043j  0.000557  +0.06562626j  0.        -0.00000061j\n",
      "  -0.        +0.j          0.00290133-0.1221926j   0.        +0.j\n",
      "   0.        -0.j          0.00260215+0.12219387j  0.00000001+0.j        ]\n",
      " [ 0.00031736+1.11711559j  0.        +0.00002938j  0.        -1.34779062j\n",
      "  -0.00029921+0.12219346j  0.00000013-0.j         26.80377079+0.j\n",
      "  -0.00260215+0.12219387j  0.        +0.j         80.42244187+0.j        ]\n",
      " [ 0.        -0.00000343j  0.        -0.89313447j  0.        -0.j\n",
      "   0.        +0.j         26.80640203+0.j         -0.        +0.j\n",
      "   0.00000001+0.j         80.42244187+0.j          0.0000001 +0.j        ]]\n"
     ]
    }
   ],
   "source": [
    "with np.printoptions(precision=8, suppress=True):\n",
    "    print(D)"
   ]
  },
  {
   "cell_type": "code",
   "execution_count": 38,
   "metadata": {},
   "outputs": [
    {
     "name": "stdout",
     "output_type": "stream",
     "text": [
      "(1.1798694267849413e-34+6.017003087766716e-19j)\n"
     ]
    }
   ],
   "source": [
    "with np.printoptions(precision=3, suppress=True):\n",
    "    print(D[3,3])"
   ]
  },
  {
   "cell_type": "code",
   "execution_count": 39,
   "metadata": {},
   "outputs": [
    {
     "name": "stdout",
     "output_type": "stream",
     "text": [
      "[ -35.742+0.j   35.742+0.j   -0.   +0.j   -0.   +0.j  -53.613+0.j\n",
      "   53.613+0.j   -0.   +0.j -107.215+0.j  107.215+0.j]\n"
     ]
    }
   ],
   "source": [
    "with np.printoptions(precision=3, suppress=True):\n",
    "    print(mn)"
   ]
  },
  {
   "cell_type": "code",
   "execution_count": 40,
   "metadata": {},
   "outputs": [
    {
     "data": {
      "text/plain": [
       "array([[0.+0.09282922j, 0.+0.j        , 0.+0.j        ],\n",
       "       [0.+0.j        , 0.+0.24438774j, 0.+0.j        ],\n",
       "       [0.+0.j        , 0.+0.j        , 0.+1.57984645j]])"
      ]
     },
     "execution_count": 40,
     "metadata": {},
     "output_type": "execute_result"
    }
   ],
   "source": [
    "MD_NO_np(m1,m2,m3,m6[k]/3,m6[k]/2,m6[k],mux,mux,mux)"
   ]
  },
  {
   "cell_type": "code",
   "execution_count": 41,
   "metadata": {},
   "outputs": [],
   "source": [
    "mW = 80.379\n",
    "def sum_diagrams(M,mux,a,b):\n",
    "    Ma = Mnu_array(M,mux)\n",
    "    eigsystem = LA.eig(Ma)\n",
    "    mnu = eigsystem[0]\n",
    "    U = eigsystem[1]\n",
    "    U_dagger = np.array([np.conjugate(Ui.T) for Ui in U])\n",
    "    \n",
    "    output = (U[:,b-1]*U_dagger[:,:,a-1]*C0(125.1,mnu,mW,mW)).sum(axis=1)\n",
    "    return output"
   ]
  },
  {
   "cell_type": "code",
   "execution_count": 42,
   "metadata": {},
   "outputs": [
    {
     "data": {
      "text/plain": [
       "array([-2.03259228e-04+0.j, -2.03258318e-04+0.j, -2.03257144e-04+0.j,\n",
       "       -2.03255630e-04+0.j, -2.03253678e-04+0.j, -2.03251163e-04+0.j,\n",
       "       -2.03247926e-04+0.j, -2.03243761e-04+0.j, -2.03238407e-04+0.j,\n",
       "       -2.03231530e-04+0.j, -2.03222704e-04+0.j, -2.03211388e-04+0.j,\n",
       "       -2.03196892e-04+0.j, -2.03178342e-04+0.j, -2.03154630e-04+0.j,\n",
       "       -2.03124354e-04+0.j, -2.03085745e-04+0.j, -2.03036576e-04+0.j,\n",
       "       -2.02974046e-04+0.j, -2.02894647e-04+0.j, -2.02793996e-04+0.j,\n",
       "       -2.02666631e-04+0.j, -2.02505776e-04+0.j, -2.02303051e-04+0.j,\n",
       "       -2.02048142e-04+0.j, -2.01728415e-04+0.j, -2.01328484e-04+0.j,\n",
       "       -2.00829723e-04+0.j, -2.00209751e-04+0.j, -1.99441890e-04+0.j,\n",
       "       -1.98494647e-04+0.j, -1.97331244e-04+0.j, -1.95909286e-04+0.j,\n",
       "       -1.94180643e-04+0.j, -1.92091664e-04+0.j, -1.89583859e-04+0.j,\n",
       "       -1.86595205e-04+0.j, -1.83062228e-04+0.j, -1.78922990e-04+0.j,\n",
       "       -1.74121040e-04+0.j, -1.68610285e-04+0.j, -1.62360563e-04+0.j,\n",
       "       -1.55363482e-04+0.j, -1.47637889e-04+0.j, -1.39234119e-04+0.j,\n",
       "       -1.30236121e-04+0.j, -1.20760651e-04+0.j, -1.10953080e-04+0.j,\n",
       "       -1.00979853e-04+0.j, -9.10182825e-05+0.j, -8.12449095e-05+0.j,\n",
       "       -7.18239637e-05+0.j, -6.28974475e-05+0.j, -5.45780075e-05+0.j,\n",
       "       -4.69451879e-05+0.j, -4.00450462e-05+0.j, -3.38926050e-05+0.j,\n",
       "       -2.84763109e-05+0.j, -2.37635943e-05+0.j, -1.97067090e-05+0.j,\n",
       "       -1.62482317e-05+0.j, -1.33258206e-05+0.j, -1.08760421e-05+0.j,\n",
       "       -8.83723382e-06+0.j, -7.15147701e-06+0.j, -5.76581218e-06+0.j,\n",
       "       -4.63285290e-06+0.j, -3.71094903e-06+0.j, -2.96403427e-06+0.j,\n",
       "       -2.36126946e-06+0.j, -1.87656806e-06+0.j, -1.48806805e-06+0.j,\n",
       "       -1.17759522e-06+0.j, -9.30147344e-07+0.j, -7.33417098e-07+0.j,\n",
       "       -5.77363147e-07+0.j, -4.53832653e-07+0.j, -3.56234732e-07+0.j,\n",
       "       -2.79261841e-07+0.j, -2.18654780e-07+0.j, -1.71006361e-07+0.j,\n",
       "       -1.33598732e-07+0.j, -1.04269521e-07+0.j, -8.13023667e-08+0.j,\n",
       "       -6.33378621e-08+0.j, -4.93014534e-08+0.j, -3.83452987e-08+0.j,\n",
       "       -2.98015609e-08+0.j, -2.31450101e-08+0.j, -1.79631680e-08+0.j,\n",
       "       -1.39325382e-08+0.j, -1.07997282e-08+0.j, -8.36648889e-09+0.j,\n",
       "       -6.47788420e-09+0.j, -5.01295211e-09+0.j, -3.87734595e-09+0.j,\n",
       "       -2.99754487e-09+0.j, -2.31630582e-09+0.j, -1.78909556e-09+0.j,\n",
       "       -1.38129507e-09+0.j])"
      ]
     },
     "execution_count": 42,
     "metadata": {},
     "output_type": "execute_result"
    }
   ],
   "source": [
    "C0(125.1,m6,mW,mW)"
   ]
  },
  {
   "cell_type": "code",
   "execution_count": 43,
   "metadata": {},
   "outputs": [],
   "source": [
    "m6 = np.logspace(-1,5,100)\n",
    "Y = sum_diagrams(m6,1e-7,1,3)"
   ]
  },
  {
   "cell_type": "code",
   "execution_count": 44,
   "metadata": {},
   "outputs": [
    {
     "data": {
      "text/plain": [
       "array([ 0.00000000e+00+0.00000000e+00j,  0.00000000e+00+0.00000000e+00j,\n",
       "        0.00000000e+00+0.00000000e+00j,  0.00000000e+00+0.00000000e+00j,\n",
       "        0.00000000e+00+0.00000000e+00j,  0.00000000e+00+0.00000000e+00j,\n",
       "        0.00000000e+00+0.00000000e+00j, -1.22587685e-19+0.00000000e+00j,\n",
       "        0.00000000e+00+0.00000000e+00j,  0.00000000e+00+0.00000000e+00j,\n",
       "        0.00000000e+00+0.00000000e+00j,  0.00000000e+00+0.00000000e+00j,\n",
       "        0.00000000e+00+0.00000000e+00j, -1.89341605e-11-5.90185263e-18j,\n",
       "        0.00000000e+00+0.00000000e+00j, -3.42218037e-12-7.30040588e-18j,\n",
       "        2.78522306e-30+5.16149607e-18j,  0.00000000e+00+0.00000000e+00j,\n",
       "        0.00000000e+00+0.00000000e+00j,  7.44461351e-20+0.00000000e+00j,\n",
       "        0.00000000e+00+0.00000000e+00j,  0.00000000e+00+0.00000000e+00j,\n",
       "        0.00000000e+00+0.00000000e+00j, -1.07373362e-20+0.00000000e+00j,\n",
       "        0.00000000e+00+0.00000000e+00j,  0.00000000e+00+0.00000000e+00j,\n",
       "        0.00000000e+00+0.00000000e+00j,  0.00000000e+00+0.00000000e+00j,\n",
       "       -7.63645534e-21+0.00000000e+00j,  0.00000000e+00+0.00000000e+00j,\n",
       "        3.19816294e-27+4.22000289e-15j,  0.00000000e+00+0.00000000e+00j,\n",
       "       -1.04678661e-19+0.00000000e+00j,  0.00000000e+00+0.00000000e+00j,\n",
       "        0.00000000e+00+0.00000000e+00j,  0.00000000e+00+0.00000000e+00j,\n",
       "        0.00000000e+00+0.00000000e+00j, -1.01146109e-19+0.00000000e+00j,\n",
       "       -1.47739912e-21+0.00000000e+00j,  0.00000000e+00+0.00000000e+00j,\n",
       "        0.00000000e+00+0.00000000e+00j,  0.00000000e+00+0.00000000e+00j,\n",
       "       -2.45710313e-26-2.92552295e-14j,  0.00000000e+00+0.00000000e+00j,\n",
       "        0.00000000e+00+0.00000000e+00j,  0.00000000e+00+0.00000000e+00j,\n",
       "        0.00000000e+00+0.00000000e+00j,  0.00000000e+00+0.00000000e+00j,\n",
       "        0.00000000e+00+0.00000000e+00j,  0.00000000e+00+0.00000000e+00j,\n",
       "        0.00000000e+00+0.00000000e+00j,  0.00000000e+00+0.00000000e+00j,\n",
       "        0.00000000e+00+0.00000000e+00j,  0.00000000e+00+0.00000000e+00j,\n",
       "        9.31540275e-20+0.00000000e+00j,  0.00000000e+00+0.00000000e+00j,\n",
       "        0.00000000e+00+0.00000000e+00j,  0.00000000e+00+0.00000000e+00j,\n",
       "        1.06725015e-20+0.00000000e+00j,  0.00000000e+00+0.00000000e+00j,\n",
       "        0.00000000e+00+0.00000000e+00j,  0.00000000e+00+0.00000000e+00j,\n",
       "        0.00000000e+00+0.00000000e+00j,  0.00000000e+00+0.00000000e+00j,\n",
       "        0.00000000e+00+0.00000000e+00j,  0.00000000e+00+0.00000000e+00j,\n",
       "        0.00000000e+00+0.00000000e+00j,  0.00000000e+00+0.00000000e+00j,\n",
       "        0.00000000e+00+0.00000000e+00j,  0.00000000e+00+0.00000000e+00j,\n",
       "        0.00000000e+00+0.00000000e+00j,  0.00000000e+00+0.00000000e+00j,\n",
       "        0.00000000e+00+0.00000000e+00j,  0.00000000e+00+0.00000000e+00j,\n",
       "        1.03578411e-19+0.00000000e+00j,  0.00000000e+00+0.00000000e+00j,\n",
       "        0.00000000e+00+0.00000000e+00j,  0.00000000e+00+0.00000000e+00j,\n",
       "        0.00000000e+00+0.00000000e+00j, -5.16762992e-08+0.00000000e+00j,\n",
       "       -3.06455264e-19+0.00000000e+00j,  0.00000000e+00+0.00000000e+00j,\n",
       "        0.00000000e+00+0.00000000e+00j,  0.00000000e+00+0.00000000e+00j,\n",
       "        0.00000000e+00+0.00000000e+00j,  0.00000000e+00+0.00000000e+00j,\n",
       "        0.00000000e+00+0.00000000e+00j,  0.00000000e+00+0.00000000e+00j,\n",
       "        0.00000000e+00+0.00000000e+00j,  0.00000000e+00+0.00000000e+00j,\n",
       "        0.00000000e+00+0.00000000e+00j,  0.00000000e+00+0.00000000e+00j,\n",
       "       -6.33827627e-20+0.00000000e+00j,  0.00000000e+00+0.00000000e+00j,\n",
       "        0.00000000e+00+0.00000000e+00j,  0.00000000e+00+0.00000000e+00j,\n",
       "        0.00000000e+00+0.00000000e+00j,  0.00000000e+00+0.00000000e+00j,\n",
       "        0.00000000e+00+0.00000000e+00j,  0.00000000e+00+0.00000000e+00j])"
      ]
     },
     "execution_count": 44,
     "metadata": {},
     "output_type": "execute_result"
    }
   ],
   "source": [
    "Y"
   ]
  },
  {
   "cell_type": "code",
   "execution_count": 45,
   "metadata": {},
   "outputs": [
    {
     "data": {
      "text/plain": [
       "[<matplotlib.lines.Line2D at 0x7faa23ce4310>]"
      ]
     },
     "execution_count": 45,
     "metadata": {},
     "output_type": "execute_result"
    },
    {
     "data": {
      "image/png": "[encoded data removed]",
      "text/plain": [
       "<Figure size 432x288 with 1 Axes>"
      ]
     },
     "metadata": {
      "needs_background": "light"
     },
     "output_type": "display_data"
    }
   ],
   "source": [
    "plt.loglog(m6, np.abs(Y))"
   ]
  },
  {
   "cell_type": "code",
   "execution_count": 72,
   "metadata": {},
   "outputs": [],
   "source": [
    "coefficients = np.array([[1,2,3]])"
   ]
  },
  {
   "cell_type": "code",
   "execution_count": 73,
   "metadata": {},
   "outputs": [],
   "source": [
    "d = coefficients[:, 1:-1]**2 - 4.0 * coefficients[:, ::2].prod(axis=1, keepdims=True)\n",
    "roots = -0.5 * (coefficients[:, 1:-1] + [1, -1] * np.emath.sqrt(d)) / coefficients[:, :1]\n"
   ]
  },
  {
   "cell_type": "code",
   "execution_count": 74,
   "metadata": {},
   "outputs": [
    {
     "data": {
      "text/plain": [
       "array([[-1.-1.41421356j, -1.+1.41421356j]])"
      ]
     },
     "execution_count": 74,
     "metadata": {},
     "output_type": "execute_result"
    }
   ],
   "source": [
    "roots"
   ]
  },
  {
   "cell_type": "code",
   "execution_count": 75,
   "metadata": {},
   "outputs": [],
   "source": [
    "from sympy import symbols, init_printing, cos, sin\n",
    "init_printing()"
   ]
  },
  {
   "cell_type": "code",
   "execution_count": 76,
   "metadata": {},
   "outputs": [],
   "source": [
    "from sympy.utilities.autowrap import autowrap"
   ]
  },
  {
   "cell_type": "code",
   "execution_count": 77,
   "metadata": {},
   "outputs": [
    {
     "data": {
      "image/png": "[encoded data removed]",
      "text/latex": [
       "$\\displaystyle \\sin^{2}{\\left(x \\right)} - \\cos^{2}{\\left(y \\right)}$"
      ],
      "text/plain": [
       "   2         2   \n",
       "sin (x) - cos (y)"
      ]
     },
     "execution_count": 77,
     "metadata": {},
     "output_type": "execute_result"
    }
   ],
   "source": [
    "x, y = symbols('x, y')\n",
    "f = sin(x)**2 - cos(y)**2\n",
    "f"
   ]
  },
  {
   "cell_type": "code",
   "execution_count": 78,
   "metadata": {},
   "outputs": [],
   "source": [
    "fa = autowrap(f, backend='cython', args=(x,y))"
   ]
  },
  {
   "cell_type": "code",
   "execution_count": 79,
   "metadata": {},
   "outputs": [],
   "source": [
    "from functools import reduce"
   ]
  },
  {
   "cell_type": "code",
   "execution_count": 80,
   "metadata": {},
   "outputs": [],
   "source": [
    "numbers = [1,2,3,4,5,6,7,8,9,10]"
   ]
  },
  {
   "cell_type": "code",
   "execution_count": 81,
   "metadata": {},
   "outputs": [
    {
     "name": "stdout",
     "output_type": "stream",
     "text": [
      "CPU times: user 15 µs, sys: 1e+03 ns, total: 16 µs\n",
      "Wall time: 31.7 µs\n"
     ]
    },
    {
     "data": {
      "image/png": "[encoded data removed]",
      "text/latex": [
       "$\\displaystyle \\left[ 0.4161468365471423, \\  0.6536436208636119, \\  -0.960170286650366, \\  0.14550003380861343, \\  0.8390715290764524, \\  -0.8438539587324919, \\  -0.13673721820783358, \\  0.9576594803233847, \\  -0.6603167082440801, \\  -0.408082061813392\\right]$"
      ],
      "text/plain": [
       "[0.4161468365471423, 0.6536436208636119, -0.960170286650366, 0.145500033808613\n",
       "43, 0.8390715290764524, -0.8438539587324919, -0.13673721820783358, 0.957659480\n",
       "3233847, -0.6603167082440801, -0.408082061813392]"
      ]
     },
     "execution_count": 81,
     "metadata": {},
     "output_type": "execute_result"
    }
   ],
   "source": [
    "%%time\n",
    "list(map(fa,numbers,numbers))"
   ]
  },
  {
   "cell_type": "code",
   "execution_count": 82,
   "metadata": {},
   "outputs": [
    {
     "name": "stdout",
     "output_type": "stream",
     "text": [
      "CPU times: user 25 µs, sys: 2 µs, total: 27 µs\n",
      "Wall time: 36 µs\n"
     ]
    },
    {
     "data": {
      "image/png": "[encoded data removed]",
      "text/latex": [
       "$\\displaystyle 0.0028612669710411653$"
      ],
      "text/plain": [
       "0.0028612669710411653"
      ]
     },
     "execution_count": 82,
     "metadata": {},
     "output_type": "execute_result"
    }
   ],
   "source": [
    "%%time\n",
    "sum(fa(a,a) for a in numbers)"
   ]
  },
  {
   "cell_type": "code",
   "execution_count": 83,
   "metadata": {},
   "outputs": [
    {
     "data": {
      "image/png": "[encoded data removed]",
      "text/latex": [
       "$\\displaystyle 12$"
      ],
      "text/plain": [
       "12"
      ]
     },
     "execution_count": 83,
     "metadata": {},
     "output_type": "execute_result"
    }
   ],
   "source": [
    "sum(i + j for i in range(1,3) for j in range(1,3))"
   ]
  },
  {
   "cell_type": "code",
   "execution_count": null,
   "metadata": {},
   "outputs": [],
   "source": []
  }
 ],
 "metadata": {
  "kernelspec": {
   "display_name": "Python 3.7.6 ('base')",
   "language": "python",
   "name": "python3"
  },
  "language_info": {
   "codemirror_mode": {
    "name": "ipython",
    "version": 3
   },
   "file_extension": ".py",
   "mimetype": "text/x-python",
   "name": "python",
   "nbconvert_exporter": "python",
   "pygments_lexer": "ipython3",
   "version": "3.7.6"
  },
  "orig_nbformat": 4,
  "vscode": {
   "interpreter": {
    "hash": "b921add2b647b46a0162d3f3de9ecdc25418a02eed44d89fb52e720252ea5280"
   }
  }
 },
 "nbformat": 4,
 "nbformat_minor": 2
}
