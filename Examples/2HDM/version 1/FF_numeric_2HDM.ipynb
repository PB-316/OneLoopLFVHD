{
 "cells": [
  {
   "cell_type": "markdown",
   "metadata": {},
   "source": [
    "# LFV Higgs decays in the 2HDM with  SeeSaw type I"
   ]
  },
  {
   "cell_type": "code",
   "execution_count": 1,
   "metadata": {},
   "outputs": [],
   "source": [
    "from sympy import init_printing,lambdify,Symbol, symbols, Matrix\n",
    "init_printing()\n",
    "import OneLoopLFVHD as lfvhd"
   ]
  },
  {
   "cell_type": "code",
   "execution_count": 2,
   "metadata": {},
   "outputs": [],
   "source": [
    "from THDM_seesaw_FF import TrianglesOneFermion, TrianglesTwoFermion, Bubbles\n",
    "from THDM_seesaw_FF import g, mW, mG, mHpm, mϕ, Uν, Uνc, mn, m, C, Cc, a,b,i\n",
    "from THDM_seesaw_FF import j as jj\n",
    "from THDM_seesaw_FF import ξlϕ, ξnϕ, ξlA, ξnA,α, β, Ξϕ, Kϕ, Qϕ,ρϕ, Δϕ,ηϕ, λ5"
   ]
  },
  {
   "cell_type": "code",
   "execution_count": 3,
   "metadata": {},
   "outputs": [],
   "source": [
    "import matplotlib.pyplot as plt\n",
    "%matplotlib inline"
   ]
  },
  {
   "cell_type": "code",
   "execution_count": 4,
   "metadata": {},
   "outputs": [],
   "source": [
    "from mpmath import *"
   ]
  },
  {
   "cell_type": "code",
   "execution_count": 5,
   "metadata": {},
   "outputs": [],
   "source": [
    "mp.dps = 80; mp.pretty = True"
   ]
  },
  {
   "cell_type": "code",
   "execution_count": 6,
   "metadata": {},
   "outputs": [],
   "source": [
    "import numpy as np"
   ]
  },
  {
   "cell_type": "code",
   "execution_count": 7,
   "metadata": {},
   "outputs": [],
   "source": [
    "import subprocess as s"
   ]
  },
  {
   "cell_type": "code",
   "execution_count": 8,
   "metadata": {},
   "outputs": [],
   "source": [
    "from multiprocessing import Pool\n",
    "from time import time"
   ]
  },
  {
   "cell_type": "code",
   "execution_count": 9,
   "metadata": {},
   "outputs": [],
   "source": [
    "def speedup_array(f,array,procs=4): \n",
    "    pool = Pool(procs,maxtasksperchild=100).map(f, array)\n",
    "    result = np.array(list(pool))\n",
    "    return result"
   ]
  },
  {
   "cell_type": "markdown",
   "metadata": {},
   "source": [
    "## Numeric implementation of form factors"
   ]
  },
  {
   "cell_type": "markdown",
   "metadata": {},
   "source": [
    "**Neutrino benchmark** is given by "
   ]
  },
  {
   "cell_type": "code",
   "execution_count": 10,
   "metadata": {},
   "outputs": [],
   "source": [
    "from OneLoopLFVHD.neutrinos import NuOscObservables\n",
    "Nudata = NuOscObservables"
   ]
  },
  {
   "cell_type": "code",
   "execution_count": 11,
   "metadata": {},
   "outputs": [],
   "source": [
    "m1 = mpf('1e-12')  #GeV \n",
    "\n",
    "#current values to Square mass differences\n",
    "d21 = mpf(str(Nudata.squareDm21.central))*mpf('1e-18')# factor to convert eV^2 to GeV^2\n",
    "d31 = mpf(str(Nudata.squareDm31.central))*mpf('1e-18')\n",
    "\n",
    "#d21 = 7.5e-5*1e-18\n",
    "#d31 = 2.457e-3*1e-18\n",
    "m2 = sqrt(m1**2 + d21)\n",
    "m3 = sqrt(m1**2 + d31)\n",
    "\n",
    "m4 = lambda m6: m6/3\n",
    "m5 = lambda m6: m6/2"
   ]
  },
  {
   "cell_type": "markdown",
   "metadata": {},
   "source": [
    "## Setting 2HDM"
   ]
  },
  {
   "cell_type": "code",
   "execution_count": 12,
   "metadata": {},
   "outputs": [],
   "source": [
    "from sympy import cos as cos_sp\n",
    "from sympy import sin as sin_sp\n",
    "from sympy import cot as cot_sp\n",
    "from sympy import tan as tan_sp"
   ]
  },
  {
   "cell_type": "code",
   "execution_count": 13,
   "metadata": {},
   "outputs": [],
   "source": [
    "typeI_ξh = {ξlφ:cos_sp(α)/sin_sp(β),ξnφ:cos_sp(α)/sin_sp(β),ξlA:-cot_sp(β),ξnA:cot_sp(β)}\n",
    "typeI_ξH = {ξlφ:sin_sp(α)/sin_sp(β),ξnφ:sin_sp(α)/sin_sp(β),ξlA:-cot_sp(β),ξnA:cot_sp(β)}\n",
    "\n",
    "typeII_ξh = {ξlφ:-sin_sp(α)/cos_sp(β),ξnφ:cos_sp(α)/sin_sp(β),ξlA:tan_sp(β),ξnA:cot_sp(β)}\n",
    "typeII_ξH = {ξlφ:cos_sp(α)/cos_sp(β),ξnφ:sin_sp(α)/sin_sp(β),ξlA:tan_sp(β),ξnA:cot_sp(β)}\n",
    "\n",
    "lepton_ξh = {ξlφ:-sin_sp(α)/cos_sp(β),ξnφ:-sin_sp(α)/cos_sp(β),ξlA:tan_sp(β),ξnA:-tan_sp(β)}\n",
    "lepton_ξH = {ξlφ:cos_sp(α)/cos_sp(β),ξnφ:cos_sp(α)/cos_sp(β),ξlA:tan_sp(β),ξnA:-tan_sp(β)}\n",
    "\n",
    "\n",
    "\n",
    "mA,mH, mh = symbols('m_A,m_H, m_h ',positive=True)\n",
    "common_factor_h = {mϕ:mh, Ξϕ:sin_sp(β - α), ηϕ:cos_sp(β - α), Kϕ: 4*mA**2 - 3*mh**2- 2*mHpm**2, \n",
    "                   Qϕ:mh**2 - 2*mHpm**2 , ρϕ: cos_sp(α + β), Δϕ:cos_sp(α - 3*β)}\n",
    "\n",
    "common_factor_H = {mϕ:mH, Ξϕ:cos_sp(β - α), ηϕ:-sin_sp(β - α), Kϕ: 4*mA**2 - 3*mH**2- 2*mHpm**2, \n",
    "                   Qϕ:mH**2 - 2*mHpm**2 , ρϕ: sin_sp(α + β), Δϕ:sin_sp(α - 3*β)}"
   ]
  },
  {
   "cell_type": "code",
   "execution_count": 14,
   "metadata": {},
   "outputs": [
    {
     "data": {
      "image/png": "[encoded data removed]",
      "text/latex": [
       "$\\displaystyle \\left\\{ {{\\xi^{l}_{A}}} : - \\cot{\\left(\\beta \\right)}, \\  {{\\xi^{l}_{\\phi}}} : \\frac{\\cos{\\left(\\alpha \\right)}}{\\sin{\\left(\\beta \\right)}}, \\  {{\\xi^{n}_{A}}} : \\cot{\\left(\\beta \\right)}, \\  {{\\xi^{n}_{\\phi}}} : \\frac{\\cos{\\left(\\alpha \\right)}}{\\sin{\\left(\\beta \\right)}}\\right\\}$"
      ],
      "text/plain": [
       "⎧                                                    cos(\\alpha)              \n",
       "⎨{{\\xi_{A}}}__{l}: -cot(\\beta), {{\\xi_{\\phi}}}__{l}: ───────────, {{\\xi_{A}}}_\n",
       "⎩                                                     sin(\\beta)              \n",
       "\n",
       "                                       cos(\\alpha)⎫\n",
       "_{n}: cot(\\beta), {{\\xi_{\\phi}}}__{n}: ───────────⎬\n",
       "                                        sin(\\beta)⎭"
      ]
     },
     "execution_count": 14,
     "metadata": {},
     "output_type": "execute_result"
    }
   ],
   "source": [
    "typeI_ξh "
   ]
  },
  {
   "cell_type": "markdown",
   "metadata": {
    "tags": []
   },
   "source": [
    "### Form factor with one fermion in the loop."
   ]
  },
  {
   "cell_type": "markdown",
   "metadata": {},
   "source": [
    "#### AL one fermion "
   ]
  },
  {
   "cell_type": "code",
   "execution_count": 15,
   "metadata": {},
   "outputs": [],
   "source": [
    "from OneLoopLFVHD.data import ml"
   ]
  },
  {
   "cell_type": "code",
   "execution_count": 16,
   "metadata": {},
   "outputs": [],
   "source": [
    "ma,mb = symbols('m_a,m_b',positive=True)\n",
    "valores_h ={mW:mpf('80.379'),mh:mpf('125.10'),g:(2*mpf('80.379'))/mpf('246')}\n",
    "\n",
    "cambios_hab = lambda a,b:{lfvhd.ma:valores_h[mh],lfvhd.mi:ml[a],lfvhd.mj:ml[b]}\n",
    "\n",
    "\n",
    "Ubi, Ucai,mni = symbols('U_{bi}, {{U_{ai}^*}},m_{n_i}')\n",
    "UnuOne = {mn[i]:mni,Uν[b,i]:Ubi,Uνc[a,i]:Ucai}\n",
    "\n",
    "# from Unu_seesaw_2HDM import diagonalizationMnu\n",
    "# diagonalizationMnu1 = lambda m1,m6,tb,doblet: diagonalizationMnu(\n",
    "#     m1,m2,m3,m6/mpf('3.0'),m6/mpf('2.0'),m6,tb,doblet)\n",
    "\n",
    "from Unu_seesaw import diagonalizationMnu\n",
    "# def diagonalizationMnu1(m1,m6):\n",
    "#     mnk,U=diagonalizationMnu(m1,m2,m3,m6/mpf('3.0'),m6/mpf('2.0'),m6)\n",
    "#     mn3,mn2,mn1,mn4,mn5,mn6 = mnk[0],mnk[1],mnk[2],mnk[3],mnk[4],mnk[5]\n",
    "#     mn3 = -mn3\n",
    "#     mn2 = -mn2\n",
    "#     mn1 = -mn1\n",
    "#     R = matrix([[-mn1/mn3,0,0,0,0,0],\n",
    "#                [0,-1,0,0,0,0],\n",
    "#                [0,0,-mn3/mn1,0,0,0],\n",
    "#                [0,0,0,1,0,0],\n",
    "#                [0,0,0,0,1,0],\n",
    "#                [0,0,0,0,0,1]])\n",
    "#     Mni = matrix([[-mn3,0,0,0,0,0],\n",
    "#                  [0,-mn2,0,0,0,0],\n",
    "#                   [0,0,-mn1,0,0,0],\n",
    "#                  [0,0,0,mn4,0,0],\n",
    "#                  [0,0,0,0,mn5,0],\n",
    "#                  [0,0,0,0,0,mn6]])\n",
    "#     Mn = R*Mni\n",
    "#     Mnk = Mn[0,0],Mn[1,1],Mn[2,2],Mn[3,3],Mn[4,4],Mn[5,5]\n",
    "#     return Mnk,R*U\n",
    "\n",
    "diagonalizationMnu1 = lambda m1,m6: diagonalizationMnu(\n",
    "    m1,m2,m3,m6/mpf('3.0'),m6/mpf('2.0'),m6)"
   ]
  },
  {
   "cell_type": "code",
   "execution_count": 17,
   "metadata": {},
   "outputs": [],
   "source": [
    "# eig_sort(matrix([[1,1j],\n",
    "#                 [1j,2]]),)"
   ]
  },
  {
   "cell_type": "code",
   "execution_count": 18,
   "metadata": {},
   "outputs": [],
   "source": [
    "# for T in TrianglesOneFermion:\n",
    "#     display(T.AL().subs(common_factor_h).subs(typeI_ξh).subs(lfvhd.D,4).subs(\n",
    "#                     lfvhd.B12_0(mW,mW),0).subs(lfvhd.B12_0(mH,mW),0).subs(\n",
    "#                     lfvhd.B12_0(mW,mH),0).subs(cambios_hab(2,3)).subs(valores_h\n",
    "#                                                                      ).subs(UnuOne).atoms(Symbol))"
   ]
  },
  {
   "cell_type": "code",
   "execution_count": 19,
   "metadata": {},
   "outputs": [],
   "source": [
    "def GIM_One(exp):\n",
    "    from sympy import Add\n",
    "    args = exp.expand().args\n",
    "    func = exp.expand().func\n",
    "    if isinstance(func,Add):\n",
    "        X = Add(*[t for t in args if t.has(mni)]).simplify()\n",
    "    else:\n",
    "        X = exp\n",
    "    #X1 = X.collect([mni],evaluate=False)\n",
    "    return X#mni**2*X1[mni**2]"
   ]
  },
  {
   "cell_type": "code",
   "execution_count": 20,
   "metadata": {},
   "outputs": [],
   "source": [
    "def sumOne(m6,Aab,aa,bb,mHpm_val, mA_val, alpha, beta, l5): \n",
    "    mnk,UnuL,UnuR = diagonalizationMnu1(m1,m6)\n",
    "    Unu = UnuL\n",
    "    Unu_dagger = UnuR\n",
    "    AL = []\n",
    "    for k in range(1,7):\n",
    "        #print(mnk[k-1],Unu[b-1,k-1],conj(Unu[a-1,k-1]))\n",
    "        #A = Aab(mnk[k-1],Unu[b-1,k-1],conj(Unu[a-1,k-1]),mHpm, mA, alpha, beta,l5)\n",
    "        A = Aab(mnk[k-1],Unu[bb-1,k-1],Unu_dagger[k-1,aa-1],mHpm_val, mA_val, alpha, beta,l5)\n",
    "        #print('Ai = ',A)\n",
    "        AL.append(A)\n",
    "    return mp.fsum(AL)\n"
   ]
  },
  {
   "cell_type": "code",
   "execution_count": 21,
   "metadata": {},
   "outputs": [],
   "source": [
    "from OneLoopLFVHD.data import replaceBs, pave_functions"
   ]
  },
  {
   "cell_type": "code",
   "execution_count": 22,
   "metadata": {},
   "outputs": [],
   "source": [
    "# Aa = TrianglesOneFermion[0].AL().subs(common_factor_h).subs(typeI_ξh).subs(lfvhd.D,4).subs(\n",
    "#                     lfvhd.B12_0(mW,mW),0).subs(lfvhd.B12_0(mH,mW),0).subs(\n",
    "#                     lfvhd.B12_0(mW,mH),0).subs(cambios_hab(2,3)).subs(valores_h\n",
    "#                                                                      ).subs(UnuOne)\n",
    "# Aa.atoms(Symbol)"
   ]
  },
  {
   "cell_type": "code",
   "execution_count": 23,
   "metadata": {},
   "outputs": [],
   "source": [
    "# A = lambdify([mni,Ubi,Ucai, mHpm, mA, α, β,λ5],replaceBs(Aa),\n",
    "#                          modules=[pave_functions(valores_h[mh],2,3,lib='mpmath'),'mpmath'])\n",
    "\n",
    "# A(1,2,3,4,5,6,7,8)"
   ]
  },
  {
   "cell_type": "code",
   "execution_count": 24,
   "metadata": {},
   "outputs": [],
   "source": [
    "# mnk, UL,UR = diagonalizationMnu1(m1,mp.mpf('1000'))#0.003908\n",
    "# nprint(mnk)"
   ]
  },
  {
   "cell_type": "code",
   "execution_count": 25,
   "metadata": {},
   "outputs": [],
   "source": [
    "# nprint((m1,m2,m3))"
   ]
  },
  {
   "cell_type": "code",
   "execution_count": 26,
   "metadata": {},
   "outputs": [],
   "source": [
    "# nprint(sumOne(mp.mpf('100'),A,2,3,mp.mpf('200.0'),mp.mpf('500'),mp.pi/2, mp.pi/1000, mp.mpf('0.1'),2))"
   ]
  },
  {
   "cell_type": "code",
   "execution_count": 27,
   "metadata": {},
   "outputs": [],
   "source": [
    "mHpm_aux = symbols('mHpm',positive=True)\n",
    "def numeric_sum_diagramsOne(a,b,mHpm_n, mA_n, alpha, beta, l5,quirality='L',\n",
    "                            common_factor=common_factor_h,\n",
    "                            type_2HDM=typeI_ξh,\n",
    "                            valores=valores_h):\n",
    "    \n",
    "    FdiagOneFer = []\n",
    "    i = 0\n",
    "    #print('Inside numeric_sum_diagramsOne')\n",
    "    for Set in [TrianglesOneFermion,Bubbles]:#TrianglesOneFermion,Bubbles\n",
    "        for dia in Set:\n",
    "            if quirality=='L':\n",
    "                x = dia.AL().subs(common_factor).subs(type_2HDM).subs(lfvhd.D,4).subs(\n",
    "                    lfvhd.B12_0(mW,mW),0).subs(lfvhd.B12_0(mHpm,mW),0).subs(\n",
    "                    lfvhd.B12_0(mW,mHpm),0).subs(cambios_hab(a,b)).subs(valores).subs(UnuOne)\n",
    "            elif quirality=='R':\n",
    "                x = dia.AR().subs(common_factor).subs(type_2HDM).subs(lfvhd.D,4).subs(\n",
    "                    lfvhd.B12_0(mW,mW),0).subs(lfvhd.B12_0(mHpm,mW),0).subs(\n",
    "                    lfvhd.B12_0(mW,mHpm),0).subs(cambios_hab(a,b)).subs(valores).subs(UnuOne)\n",
    "            else:\n",
    "                raise ValueError('quirality must be L or R')\n",
    "\n",
    "            f = lambdify([mni,Ubi,Ucai, mHpm_aux, mA, α, β,λ5],replaceBs(x).subs(mHpm,mHpm_aux),\n",
    "                         modules=[pave_functions(valores_h[mh],a,b,lib='mpmath'),'mpmath'])\n",
    "            #print(f'diagram i = {i}')\n",
    "            #nprint(f(mpf('100'),0.1,0.2,mHpm_n, mA_n, alpha, beta, l5))\n",
    "            #fsum = lambda m6:sumOne(m6,f,a,b)\n",
    "            FdiagOneFer.append(f)\n",
    "            i+=1\n",
    "    def suma(m6):\n",
    "        out = []\n",
    "        xs = []\n",
    "        #print('suma sobre i')\n",
    "        for FF in FdiagOneFer:\n",
    "            x = sumOne(m6,FF,a,b,mHpm_n, mA_n, alpha, beta, l5)\n",
    "            #print(x)\n",
    "            #m6,Aab,a,b,mHpm, mA, alpha, beta, l5,doblet\n",
    "            out.append(x)\n",
    "            xs.append(x)\n",
    "        #print('suma sobre i terminada')\n",
    "        return np.array(xs), mp.fsum(out)\n",
    "    return suma"
   ]
  },
  {
   "cell_type": "code",
   "execution_count": 109,
   "metadata": {},
   "outputs": [],
   "source": [
    "mHpm_val = mp.mpf('1000.0')\n",
    "mA_val = mp.mpf('800.0')\n",
    "tb = mp.mpf('0.1')\n",
    "β_val = mp.atan(tb)\n",
    "α_val = β_val - mp.pi/2.0\n",
    "# Φ =2\n",
    "# nprint((mHpm_val,mA_val,tb,β,Φ))"
   ]
  },
  {
   "cell_type": "code",
   "execution_count": 29,
   "metadata": {},
   "outputs": [],
   "source": [
    "# nprint(numeric_sum_diagramsOne(2,3,mHpm_val, mA_val, mp.pi/2.0,β_val,mp.mpf('0.1'),Φ,quirality='L')(mp.mpf('1000'))[1])"
   ]
  },
  {
   "cell_type": "markdown",
   "metadata": {},
   "source": [
    "**cambiar modelo o scalar**"
   ]
  },
  {
   "cell_type": "code",
   "execution_count": 110,
   "metadata": {},
   "outputs": [],
   "source": [
    "def ALOneTot23(m6,mHpm_n=mHpm_val, mA_n=mA_val, alpha=α_val,beta=β_val, l5=mp.mpf('0.1')):\n",
    "    return numeric_sum_diagramsOne(2,3,mHpm_n, mA_n, alpha,beta, l5,quirality='L',\n",
    "                            common_factor=common_factor_h,\n",
    "                            type_2HDM=typeI_ξh,\n",
    "                            valores=valores_h)(m6)[1]\n",
    "\n",
    "def AROneTot23(m6,mHpm_n=mHpm_val, mA_n=mA_val, alpha=α_val,beta=β_val, l5=mp.mpf('0.1')):\n",
    "    return numeric_sum_diagramsOne(2,3,mHpm_n, mA_n, alpha,beta, l5,quirality='R',\n",
    "                            common_factor=common_factor_h,\n",
    "                            type_2HDM=typeI_ξh,\n",
    "                            valores=valores_h)(m6)[1]\n",
    "\n",
    "\n",
    "def ALOneTot13(m6,mHpm_n=mHpm_val, mA_n=mA_val, alpha=α_val,beta=β_val, l5=mp.mpf('0.1')):\n",
    "    return numeric_sum_diagramsOne(1,3,mHpm_n, mA_n, alpha,beta, l5,quirality='L',\n",
    "                            common_factor=common_factor_h,\n",
    "                            type_2HDM=typeI_ξh,\n",
    "                            valores=valores_h)(m6)[1]\n",
    "\n",
    "def AROneTot13(m6,mHpm_n=mHpm_val, mA_n=mA_val, alpha=α_val,beta=β_val, l5=mp.mpf('0.1')):\n",
    "    return numeric_sum_diagramsOne(1,3,mHpm_n, mA_n, alpha,beta, l5,quirality='R',\n",
    "                            common_factor=common_factor_h,\n",
    "                            type_2HDM=typeI_ξh,\n",
    "                            valores=valores_h)(m6)[1]\n",
    "\n",
    "\n",
    "def ALOneTot12(m6,mHpm_n=mHpm_val, mA_n=mA_val, alpha=α_val,beta=β_val, l5=mp.mpf('0.1')):\n",
    "    return numeric_sum_diagramsOne(1,2,mHpm_n, mA_n, alpha,beta, l5,quirality='L',\n",
    "                            common_factor=common_factor_h,\n",
    "                            type_2HDM=typeI_ξh,\n",
    "                            valores=valores_h)(m6)[1]\n",
    "\n",
    "def AROneTot12(m6,mHpm_n=mHpm_val, mA_n=mA_val, alpha=α_val,beta=β_val, l5=mp.mpf('0.1')):\n",
    "    return numeric_sum_diagramsOne(1,2,mHpm_n, mA_n, alpha,beta, l5,quirality='R',\n",
    "                            common_factor=common_factor_h,\n",
    "                            type_2HDM=typeI_ξh,\n",
    "                            valores=valores_h)(m6)[1]"
   ]
  },
  {
   "cell_type": "code",
   "execution_count": 62,
   "metadata": {},
   "outputs": [
    {
     "name": "stdout",
     "output_type": "stream",
     "text": [
      "(-1.13879e-22 + 4.07758e-103j)\n"
     ]
    }
   ],
   "source": [
    "nprint(ALOneTot12(mp.mpf('100')))"
   ]
  },
  {
   "cell_type": "code",
   "execution_count": 111,
   "metadata": {},
   "outputs": [],
   "source": [
    "n = 2\n",
    "expmp = linspace(-1,15,n)\n",
    "m6np = np.array([mpf('10.0')**k for k in expmp])#np.logspace(-1,15,n)"
   ]
  },
  {
   "cell_type": "code",
   "execution_count": null,
   "metadata": {},
   "outputs": [],
   "source": [
    "%%time\n",
    "YLOne23 = speedup_array(ALOneTot23,m6np)\n",
    "\n",
    "YLOne13 = speedup_array(ALOneTot13,m6np)\n",
    "\n",
    "YLOne12 = speedup_array(ALOneTot12,m6np)\n"
   ]
  },
  {
   "cell_type": "code",
   "execution_count": 93,
   "metadata": {},
   "outputs": [
    {
     "data": {
      "text/plain": [
       "<matplotlib.legend.Legend at 0x7fd966d00d10>"
      ]
     },
     "execution_count": 93,
     "metadata": {},
     "output_type": "execute_result"
    },
    {
     "data": {
      "image/png": "[encoded data removed]",
      "text/plain": [
       "<Figure size 1080x576 with 1 Axes>"
      ]
     },
     "metadata": {
      "needs_background": "light"
     },
     "output_type": "display_data"
    }
   ],
   "source": [
    "plt.figure(figsize=(15,8))\n",
    "plt.loglog(np.real(m6np),abs(YLOne23)**2,'-.',label='$A_L^{(1)}(2,3)$')\n",
    "#plt.loglog(np.real(m6np),abs(YLOne32)**2,'--',label='$A_L^{(1)}(3,2)$')\n",
    "\n",
    "plt.loglog(np.real(m6np),abs(YLOne13)**2,'-.',label='$A_L^{(1)}(1,3)$')\n",
    "#plt.loglog(np.real(m6np),abs(YLOne31)**2,'--',label='$A_L^{(1)}(3,1)$')\n",
    "\n",
    "plt.loglog(np.real(m6np),abs(YLOne12)**2,'-.',label='$A_L^{(1)}(1,2)$')\n",
    "#plt.loglog(np.real(m6np),abs(YLOne21)**2,'--',label='$A_L^{(1)}(2,1)$')\n",
    "plt.xticks(fontsize=15)\n",
    "plt.yticks(fontsize=15)\n",
    "\n",
    "plt.legend(fontsize=15)"
   ]
  },
  {
   "cell_type": "markdown",
   "metadata": {},
   "source": [
    "### Form factor with two fermion in the loop."
   ]
  },
  {
   "cell_type": "code",
   "execution_count": 112,
   "metadata": {},
   "outputs": [
    {
     "data": {
      "image/png": "[encoded data removed]",
      "text/latex": [
       "$\\displaystyle \\left\\{ {C}_{i,j} : C_{ij}, \\  {{{C^*}}}_{i,j} : {{C_{ij}^*}}, \\  {{{U^\\nu}}}_{b,j} : U_{bj}, \\  {{{U^{\\nu *}}}}_{a,i} : {{U_{ai}^*}}, \\  {{{m_n}}}_{i} : m_{n_i}, \\  {{{m_n}}}_{j} : m_{n_j}\\right\\}$"
      ],
      "text/plain": [
       "{C[i, j]: C_{ij}, {{C^*}}[i, j]: {{C_{ij}__*}}, {{U^\\nu}}[b, j]: U_{bj}, {{U^{\n",
       "\\nu *}}}[a, i]: {{U_{ai}__*}}, {{m_n}}[i]: m_{n_i}, {{m_n}}[j]: m_{n_j}}"
      ]
     },
     "execution_count": 112,
     "metadata": {},
     "output_type": "execute_result"
    }
   ],
   "source": [
    "mnj = symbols('m_{n_j}',positive=True)\n",
    "Cijs, Cijcs, Ubj = symbols('C_{ij}, {{C_{ij}^*}},U_{bj}')\n",
    "UnuTwo = {mn[i]:mni,mn[jj]:mnj,C[i,jj]:Cijs, Cc[i,jj]:Cijcs, Uν[b,jj]:Ubj, Uνc[a,i]:Ucai}\n",
    "UnuTwo"
   ]
  },
  {
   "cell_type": "code",
   "execution_count": 113,
   "metadata": {},
   "outputs": [],
   "source": [
    "#TrianglesTwoFermion[0].AL().subs(lfvhd.D,4).subs(cambios_hab(2,3)).subs(valores_h).subs(UnuTwo)"
   ]
  },
  {
   "cell_type": "markdown",
   "metadata": {},
   "source": [
    "**Cambiar modelo o scalar**"
   ]
  },
  {
   "cell_type": "code",
   "execution_count": 114,
   "metadata": {},
   "outputs": [],
   "source": [
    "def FFsymbolic(k,a,b,quirality='L',common_factor=common_factor_h,type_2HDM=typeI_ξh,valores=valores_h):\n",
    "    if quirality=='L':\n",
    "        FF = TrianglesTwoFermion[k].AL()\n",
    "    elif quirality=='R':\n",
    "        FF = TrianglesTwoFermion[k].AR()\n",
    "    else:\n",
    "        raise ValueError('quirality must be L or R')\n",
    "    return FF.subs(common_factor).subs(type_2HDM).subs(lfvhd.D,4).subs(cambios_hab(a,b)).subs(valores).subs(UnuTwo)\n",
    "#fsR = lambda k,a,b:TrianglesTwoFermion[k].AR().subs(lfvhd.D,4).subs(cambios_hab(a,b)).subs(valores_h).subs(UnuTwo)"
   ]
  },
  {
   "cell_type": "code",
   "execution_count": 33,
   "metadata": {},
   "outputs": [],
   "source": [
    "#FFsymbolic(2,2,3).atoms(Symbol)"
   ]
  },
  {
   "cell_type": "markdown",
   "metadata": {},
   "source": [
    "**Cambiar modelo o scalar**"
   ]
  },
  {
   "cell_type": "code",
   "execution_count": 115,
   "metadata": {},
   "outputs": [],
   "source": [
    "FFmpL = lambda k,a,b:lambdify([mni,mnj,Ubj,Ucai,Cijs,Cijcs,mHpm_aux,α,β],\n",
    "                              replaceBs(FFsymbolic(k,a,b,quirality='L'\n",
    "                            ,common_factor=common_factor_h,\n",
    "                            type_2HDM=typeI_ξh#########\n",
    "                            ,valores=valores_h).subs(mHpm,mHpm_aux)),\n",
    "                     modules=[pave_functions(valores_h[mh],a,b,lib='mpmath'),'mpmath'] )\n",
    "\n",
    "FFmpR = lambda k,a,b:lambdify([mni,mnj,Ubj,Ucai,Cijs,Cijcs,mHpm_aux,α,β],\n",
    "                              replaceBs(FFsymbolic(k,a,b,quirality='R'\n",
    "                            ,common_factor=common_factor_h,\n",
    "                            type_2HDM=typeI_ξh#########\n",
    "                            ,valores=valores_h).subs(mHpm,mHpm_aux)),\n",
    "                     modules=[pave_functions(valores_h[mh],a,b,lib='mpmath'),'mpmath'] )"
   ]
  },
  {
   "cell_type": "code",
   "execution_count": 35,
   "metadata": {},
   "outputs": [],
   "source": [
    "#nprint(FFmpL(0,2,3)(1,2,3,4,5,6,7,8,9))"
   ]
  },
  {
   "cell_type": "code",
   "execution_count": 116,
   "metadata": {},
   "outputs": [],
   "source": [
    "def sumatwo(mm6,k,a,b,mHpm_n,alpha,beta,quirality='L'):\n",
    "    xs = []\n",
    "    if quirality=='L':\n",
    "        g = FFmpL(k,a,b)\n",
    "    elif quirality=='R':\n",
    "        g = FFmpR(k,a,b)\n",
    "    else:\n",
    "        raise ValueError('quirality must be L or R')\n",
    "        \n",
    "    mnk,UnuL, UnuR = diagonalizationMnu1(m1,mm6)\n",
    "    Unu = UnuL\n",
    "    Unu_dagger = UnuR\n",
    "    #Cij = lambda i,j: mp.fsum([Unu[c,i]*conj(Unu[c,j]) for c in range(3)])\n",
    "    Cij = lambda i,j: mp.fsum([Unu[c,i]*Unu_dagger[j,c] for c in range(3)])\n",
    "    for p in range(1,7):\n",
    "        for q in range(1,7):\n",
    "            #x = g(mnk[p-1],mnk[q-1],Unu[b-1,q-1],conj(Unu[a-1,p-1]),Cij(p-1,q-1),conj(Cij(p-1,q-1)),mHpm_n,alpha,beta)\n",
    "            x = g(mnk[p-1],mnk[q-1],Unu[b-1,q-1],Unu_dagger[p-1,a-1],Cij(p-1,q-1),conj(Cij(p-1,q-1)),mHpm_n,alpha,beta)\n",
    "            xs.append(x)\n",
    "            #print(f'i = {p} and j = {q}')\n",
    "            #print(f'|f| = {x}')\n",
    "    return mp.fsum(xs)"
   ]
  },
  {
   "cell_type": "code",
   "execution_count": 117,
   "metadata": {},
   "outputs": [],
   "source": [
    "def totaltwo(m6,a,b,mHpm_n,alpha,beta,quirality='L'):\n",
    "    #print('Inside totaltwo')\n",
    "    #print('doble suma sobre i j')\n",
    "    out = (sumatwo(m6,0,a,b,mHpm_n,alpha,beta,quirality) + sumatwo(m6,1,a,b,mHpm_n,alpha,beta,quirality)\n",
    "           + sumatwo(m6,2,a,b,mHpm_n,alpha,beta,quirality))\n",
    "    #print('doble suma sobre i j terminada')\n",
    "    return out"
   ]
  },
  {
   "cell_type": "code",
   "execution_count": 118,
   "metadata": {},
   "outputs": [],
   "source": [
    "def ALTwoTot23(m6):\n",
    "    return totaltwo(m6,2,3,mHpm_n=mHpm_val,alpha=α_val,beta=β_val,quirality='L')\n",
    "def ARTwoTot23(m6): \n",
    "    return totaltwo(m6,2,3,mHpm_n=mHpm_val,alpha=α_val,beta=β_val,quirality='R')\n",
    "\n",
    "#def ALTwoTot32(m6): \n",
    "#return totaltwo(m6,3,2,mHpm_n=mHpm_val,alpha=α_val,beta=β_val,quirality='L')\n",
    "#def ARTwoTot32(m6): \n",
    "#return totaltwo(m6,3,2,mHpm_n=mHpm_val,alpha=α_val,beta=β_val,quirality='R')\n",
    "\n",
    "def ALTwoTot13(m6): \n",
    "    return totaltwo(m6,1,3,mHpm_n=mHpm_val,alpha=α_val,beta=β_val,quirality='L')\n",
    "def ARTwoTot13(m6): \n",
    "    return totaltwo(m6,1,3,mHpm_n=mHpm_val,alpha=α_val,beta=β_val,quirality='R')\n",
    "\n",
    "#def ALTwoTot31(m6): \n",
    "#return totaltwo(m6,3,1,mHpm_n=mHpm_val,alpha=α_val,beta=β_val,quirality='L')\n",
    "#def ARTwoTot31(m6): \n",
    "#return totaltwo(m6,3,1,mHpm_n=mHpm_val,alpha=α_val,beta=β_val,quirality='R')\n",
    "def ALTwoTot12(m6): \n",
    "    return totaltwo(m6,1,2,mHpm_n=mHpm_val,alpha=α_val,beta=β_val,quirality='L')\n",
    "def ARTwoTot12(m6): \n",
    "    return totaltwo(m6,1,2,mHpm_n=mHpm_val,alpha=α_val,beta=β_val,quirality='R')\n",
    "\n",
    "#def ALTwoTot21(m6): \n",
    "#return totaltwo(m6,2,1,mHpm_n=mHpm_val,alpha=α_val,beta=β_val,quirality='L')\n",
    "#def ARTwoTot21(m6): \n",
    "#return totaltwo(m6,2,1,mHpm_n=mHpm_val,alpha=α_val,beta=β_val,quirality='R')"
   ]
  },
  {
   "cell_type": "code",
   "execution_count": 90,
   "metadata": {},
   "outputs": [
    {
     "name": "stdout",
     "output_type": "stream",
     "text": [
      "5.35544e-27\n"
     ]
    }
   ],
   "source": [
    "nprint((abs(ALTwoTot12(m6np[0]))))"
   ]
  },
  {
   "cell_type": "markdown",
   "metadata": {},
   "source": [
    "## Total Form Factors"
   ]
  },
  {
   "cell_type": "code",
   "execution_count": 119,
   "metadata": {},
   "outputs": [],
   "source": [
    "#a = 2, b = 3\n",
    "def ALtot23(m6):\n",
    "    return  ALOneTot23(m6) + ALTwoTot23(m6)\n",
    "def ARtot23(m6):\n",
    "    return  AROneTot23(m6) + ARTwoTot23(m6)\n",
    "\n",
    "#a = 3, b = 2\n",
    "# def ALtot32(m6):\n",
    "#     return  ALOneTot32(m6) + ALTwoTot32(m6)\n",
    "# def ARtot32(m6):\n",
    "#     return  AROneTot32(m6) + ARTwoTot32(m6)\n",
    "\n",
    "#a = 1, b = 3\n",
    "def ALtot13(m6):\n",
    "    return  ALOneTot13(m6) + ALTwoTot13(m6)\n",
    "def ARtot13(m6):\n",
    "    return  AROneTot13(m6) + ARTwoTot13(m6)\n",
    "\n",
    "#a = 3, b = 1\n",
    "# def ALtot31(m6):\n",
    "#     return  ALOneTot31(m6) + ALTwoTot31(m6)\n",
    "# def ARtot31(m6):\n",
    "#     return  AROneTot31(m6) + ARTwoTot31(m6)\n",
    "\n",
    "#a = 1, b = 2\n",
    "def ALtot12(m6):\n",
    "    return  ALOneTot12(m6) + ALTwoTot12(m6)\n",
    "def ARtot12(m6):\n",
    "    return  AROneTot12(m6) + ARTwoTot12(m6)\n",
    "\n",
    "#a = 2, b = 1\n",
    "# def ALtot21(m6):\n",
    "#     return  ALOneTot21(m6) + ALTwoTot21(m6)\n",
    "# def ARtot21(m6):\n",
    "#     return  AROneTot21(m6) + ARTwoTot21(m6)"
   ]
  },
  {
   "cell_type": "code",
   "execution_count": 46,
   "metadata": {},
   "outputs": [
    {
     "name": "stdout",
     "output_type": "stream",
     "text": [
      "(-2.22834e-33 - 2.33866e-33j)\n",
      "(-4.45745e-31 - 4.84817e-31j)\n",
      "CPU times: user 1min 21s, sys: 44.4 ms, total: 1min 21s\n",
      "Wall time: 1min 21s\n"
     ]
    }
   ],
   "source": [
    "%%time\n",
    "nprint(ALtot12(m1))\n",
    "nprint(ARtot12(m1))"
   ]
  },
  {
   "cell_type": "markdown",
   "metadata": {},
   "source": [
    "## Width decay of $h \\to e_a e_b$"
   ]
  },
  {
   "cell_type": "code",
   "execution_count": 120,
   "metadata": {},
   "outputs": [],
   "source": [
    "from OneLoopLFVHD import Γhlilj \n",
    "# def Γhlilj(ML,MR,ma=mpf('125.18'),mi=ml[2],mj=ml[3]):\n",
    "#     r = 1/(8 *pi* ma)*sqrt((1-((mi**2+mj**2)/ma)**2)*(1-((mi**2-mj**2)/ma)**2))*((ma**2 - mi**2 - mj**2)*(abs(ML)**2 + abs(MR)**2)-4*mi*mj*re(ML*conj(MR)))\n",
    "#     return r"
   ]
  },
  {
   "cell_type": "code",
   "execution_count": 121,
   "metadata": {},
   "outputs": [],
   "source": [
    "def Γhl2l3(m6):\n",
    "    return Γhlilj(ALtot23(m6),ARtot23(m6),valores_h[mh],ml[2],ml[3])\n",
    "# def Γhl3l2(m6):\n",
    "#     return Γhlilj(ALtot32(m6),ARtot32(m6),valores_h[mh],ml[3],ml[2])\n",
    "\n",
    "def Γhl1l3(m6):\n",
    "    return Γhlilj(ALtot13(m6),ARtot13(m6),valores_h[mh],ml[1],ml[3])\n",
    "# def Γhl3l1(m6):\n",
    "#     return Γhlilj(ALtot31(m6),ARtot31(m6),valores_h[mh],ml[3],ml[1])\n",
    "\n",
    "def Γhl1l2(m6):\n",
    "    return Γhlilj(ALtot12(m6),ARtot12(m6),valores_h[mh],ml[1],ml[2])\n",
    "# def Γhl2l1(m6):\n",
    "#     return Γhlilj(ALtot21(m6),ARtot21(m6),valores_h[mh],ml[2],ml[1])"
   ]
  },
  {
   "cell_type": "code",
   "execution_count": 122,
   "metadata": {},
   "outputs": [],
   "source": [
    "n = 200#800\n",
    "expmp = linspace(-1,15,n)\n",
    "m6np = np.array([mpf('10.0')**k for k in expmp])#np.logspace(-1,15,n)"
   ]
  },
  {
   "cell_type": "code",
   "execution_count": 234,
   "metadata": {},
   "outputs": [],
   "source": [
    "#nprint(Γhl1l3(m6np[-1]))\n",
    "#nprint((ALtot12(mp.mpf('1e3')),ARtot12(mp.mpf('1e3')),valores_h[mh],ml[1],ml[2]))"
   ]
  },
  {
   "cell_type": "code",
   "execution_count": 123,
   "metadata": {},
   "outputs": [
    {
     "name": "stderr",
     "output_type": "stream",
     "text": [
      "Process ForkPoolWorker-31:\n",
      "Process ForkPoolWorker-32:\n",
      "Process ForkPoolWorker-29:\n",
      "Process ForkPoolWorker-30:\n",
      "Traceback (most recent call last):\n",
      "  File \"/opt/JupyterLab/resources/jlab_server/lib/python3.8/multiprocessing/process.py\", line 315, in _bootstrap\n",
      "    self.run()\n",
      "  File \"/opt/JupyterLab/resources/jlab_server/lib/python3.8/multiprocessing/process.py\", line 108, in run\n",
      "    self._target(*self._args, **self._kwargs)\n"
     ]
    },
    {
     "ename": "KeyboardInterrupt",
     "evalue": "",
     "output_type": "error",
     "traceback": [
      "\u001b[0;31m---------------------------------------------------------------------------\u001b[0m",
      "\u001b[0;31mKeyboardInterrupt\u001b[0m                         Traceback (most recent call last)",
      "\u001b[0;32m<timed exec>\u001b[0m in \u001b[0;36m<module>\u001b[0;34m\u001b[0m\n",
      "\u001b[0;32m/tmp/ipykernel_49079/1917723341.py\u001b[0m in \u001b[0;36mspeedup_array\u001b[0;34m(f, array, procs)\u001b[0m\n\u001b[1;32m      1\u001b[0m \u001b[0;32mdef\u001b[0m \u001b[0mspeedup_array\u001b[0m\u001b[0;34m(\u001b[0m\u001b[0mf\u001b[0m\u001b[0;34m,\u001b[0m\u001b[0marray\u001b[0m\u001b[0;34m,\u001b[0m\u001b[0mprocs\u001b[0m\u001b[0;34m=\u001b[0m\u001b[0;36m4\u001b[0m\u001b[0;34m)\u001b[0m\u001b[0;34m:\u001b[0m\u001b[0;34m\u001b[0m\u001b[0;34m\u001b[0m\u001b[0m\n\u001b[0;32m----> 2\u001b[0;31m     \u001b[0mpool\u001b[0m \u001b[0;34m=\u001b[0m \u001b[0mPool\u001b[0m\u001b[0;34m(\u001b[0m\u001b[0mprocs\u001b[0m\u001b[0;34m,\u001b[0m\u001b[0mmaxtasksperchild\u001b[0m\u001b[0;34m=\u001b[0m\u001b[0;36m100\u001b[0m\u001b[0;34m)\u001b[0m\u001b[0;34m.\u001b[0m\u001b[0mmap\u001b[0m\u001b[0;34m(\u001b[0m\u001b[0mf\u001b[0m\u001b[0;34m,\u001b[0m \u001b[0marray\u001b[0m\u001b[0;34m)\u001b[0m\u001b[0;34m\u001b[0m\u001b[0;34m\u001b[0m\u001b[0m\n\u001b[0m\u001b[1;32m      3\u001b[0m     \u001b[0mresult\u001b[0m \u001b[0;34m=\u001b[0m \u001b[0mnp\u001b[0m\u001b[0;34m.\u001b[0m\u001b[0marray\u001b[0m\u001b[0;34m(\u001b[0m\u001b[0mlist\u001b[0m\u001b[0;34m(\u001b[0m\u001b[0mpool\u001b[0m\u001b[0;34m)\u001b[0m\u001b[0;34m)\u001b[0m\u001b[0;34m\u001b[0m\u001b[0;34m\u001b[0m\u001b[0m\n\u001b[1;32m      4\u001b[0m     \u001b[0;32mreturn\u001b[0m \u001b[0mresult\u001b[0m\u001b[0;34m\u001b[0m\u001b[0;34m\u001b[0m\u001b[0m\n",
      "\u001b[0;32m/opt/JupyterLab/resources/jlab_server/lib/python3.8/multiprocessing/pool.py\u001b[0m in \u001b[0;36mmap\u001b[0;34m(self, func, iterable, chunksize)\u001b[0m\n\u001b[1;32m    362\u001b[0m         \u001b[0;32min\u001b[0m \u001b[0ma\u001b[0m \u001b[0mlist\u001b[0m \u001b[0mthat\u001b[0m \u001b[0;32mis\u001b[0m \u001b[0mreturned\u001b[0m\u001b[0;34m.\u001b[0m\u001b[0;34m\u001b[0m\u001b[0;34m\u001b[0m\u001b[0m\n\u001b[1;32m    363\u001b[0m         '''\n\u001b[0;32m--> 364\u001b[0;31m         \u001b[0;32mreturn\u001b[0m \u001b[0mself\u001b[0m\u001b[0;34m.\u001b[0m\u001b[0m_map_async\u001b[0m\u001b[0;34m(\u001b[0m\u001b[0mfunc\u001b[0m\u001b[0;34m,\u001b[0m \u001b[0miterable\u001b[0m\u001b[0;34m,\u001b[0m \u001b[0mmapstar\u001b[0m\u001b[0;34m,\u001b[0m \u001b[0mchunksize\u001b[0m\u001b[0;34m)\u001b[0m\u001b[0;34m.\u001b[0m\u001b[0mget\u001b[0m\u001b[0;34m(\u001b[0m\u001b[0;34m)\u001b[0m\u001b[0;34m\u001b[0m\u001b[0;34m\u001b[0m\u001b[0m\n\u001b[0m\u001b[1;32m    365\u001b[0m \u001b[0;34m\u001b[0m\u001b[0m\n\u001b[1;32m    366\u001b[0m     \u001b[0;32mdef\u001b[0m \u001b[0mstarmap\u001b[0m\u001b[0;34m(\u001b[0m\u001b[0mself\u001b[0m\u001b[0;34m,\u001b[0m \u001b[0mfunc\u001b[0m\u001b[0;34m,\u001b[0m \u001b[0miterable\u001b[0m\u001b[0;34m,\u001b[0m \u001b[0mchunksize\u001b[0m\u001b[0;34m=\u001b[0m\u001b[0;32mNone\u001b[0m\u001b[0;34m)\u001b[0m\u001b[0;34m:\u001b[0m\u001b[0;34m\u001b[0m\u001b[0;34m\u001b[0m\u001b[0m\n",
      "\u001b[0;32m/opt/JupyterLab/resources/jlab_server/lib/python3.8/multiprocessing/pool.py\u001b[0m in \u001b[0;36mget\u001b[0;34m(self, timeout)\u001b[0m\n\u001b[1;32m    763\u001b[0m \u001b[0;34m\u001b[0m\u001b[0m\n\u001b[1;32m    764\u001b[0m     \u001b[0;32mdef\u001b[0m \u001b[0mget\u001b[0m\u001b[0;34m(\u001b[0m\u001b[0mself\u001b[0m\u001b[0;34m,\u001b[0m \u001b[0mtimeout\u001b[0m\u001b[0;34m=\u001b[0m\u001b[0;32mNone\u001b[0m\u001b[0;34m)\u001b[0m\u001b[0;34m:\u001b[0m\u001b[0;34m\u001b[0m\u001b[0;34m\u001b[0m\u001b[0m\n\u001b[0;32m--> 765\u001b[0;31m         \u001b[0mself\u001b[0m\u001b[0;34m.\u001b[0m\u001b[0mwait\u001b[0m\u001b[0;34m(\u001b[0m\u001b[0mtimeout\u001b[0m\u001b[0;34m)\u001b[0m\u001b[0;34m\u001b[0m\u001b[0;34m\u001b[0m\u001b[0m\n\u001b[0m\u001b[1;32m    766\u001b[0m         \u001b[0;32mif\u001b[0m \u001b[0;32mnot\u001b[0m \u001b[0mself\u001b[0m\u001b[0;34m.\u001b[0m\u001b[0mready\u001b[0m\u001b[0;34m(\u001b[0m\u001b[0;34m)\u001b[0m\u001b[0;34m:\u001b[0m\u001b[0;34m\u001b[0m\u001b[0;34m\u001b[0m\u001b[0m\n\u001b[1;32m    767\u001b[0m             \u001b[0;32mraise\u001b[0m \u001b[0mTimeoutError\u001b[0m\u001b[0;34m\u001b[0m\u001b[0;34m\u001b[0m\u001b[0m\n",
      "\u001b[0;32m/opt/JupyterLab/resources/jlab_server/lib/python3.8/multiprocessing/pool.py\u001b[0m in \u001b[0;36mwait\u001b[0;34m(self, timeout)\u001b[0m\n\u001b[1;32m    760\u001b[0m \u001b[0;34m\u001b[0m\u001b[0m\n\u001b[1;32m    761\u001b[0m     \u001b[0;32mdef\u001b[0m \u001b[0mwait\u001b[0m\u001b[0;34m(\u001b[0m\u001b[0mself\u001b[0m\u001b[0;34m,\u001b[0m \u001b[0mtimeout\u001b[0m\u001b[0;34m=\u001b[0m\u001b[0;32mNone\u001b[0m\u001b[0;34m)\u001b[0m\u001b[0;34m:\u001b[0m\u001b[0;34m\u001b[0m\u001b[0;34m\u001b[0m\u001b[0m\n\u001b[0;32m--> 762\u001b[0;31m         \u001b[0mself\u001b[0m\u001b[0;34m.\u001b[0m\u001b[0m_event\u001b[0m\u001b[0;34m.\u001b[0m\u001b[0mwait\u001b[0m\u001b[0;34m(\u001b[0m\u001b[0mtimeout\u001b[0m\u001b[0;34m)\u001b[0m\u001b[0;34m\u001b[0m\u001b[0;34m\u001b[0m\u001b[0m\n\u001b[0m\u001b[1;32m    763\u001b[0m \u001b[0;34m\u001b[0m\u001b[0m\n\u001b[1;32m    764\u001b[0m     \u001b[0;32mdef\u001b[0m \u001b[0mget\u001b[0m\u001b[0;34m(\u001b[0m\u001b[0mself\u001b[0m\u001b[0;34m,\u001b[0m \u001b[0mtimeout\u001b[0m\u001b[0;34m=\u001b[0m\u001b[0;32mNone\u001b[0m\u001b[0;34m)\u001b[0m\u001b[0;34m:\u001b[0m\u001b[0;34m\u001b[0m\u001b[0;34m\u001b[0m\u001b[0m\n",
      "\u001b[0;32m/opt/JupyterLab/resources/jlab_server/lib/python3.8/threading.py\u001b[0m in \u001b[0;36mwait\u001b[0;34m(self, timeout)\u001b[0m\n\u001b[1;32m    556\u001b[0m             \u001b[0msignaled\u001b[0m \u001b[0;34m=\u001b[0m \u001b[0mself\u001b[0m\u001b[0;34m.\u001b[0m\u001b[0m_flag\u001b[0m\u001b[0;34m\u001b[0m\u001b[0;34m\u001b[0m\u001b[0m\n\u001b[1;32m    557\u001b[0m             \u001b[0;32mif\u001b[0m \u001b[0;32mnot\u001b[0m \u001b[0msignaled\u001b[0m\u001b[0;34m:\u001b[0m\u001b[0;34m\u001b[0m\u001b[0;34m\u001b[0m\u001b[0m\n\u001b[0;32m--> 558\u001b[0;31m                 \u001b[0msignaled\u001b[0m \u001b[0;34m=\u001b[0m \u001b[0mself\u001b[0m\u001b[0;34m.\u001b[0m\u001b[0m_cond\u001b[0m\u001b[0;34m.\u001b[0m\u001b[0mwait\u001b[0m\u001b[0;34m(\u001b[0m\u001b[0mtimeout\u001b[0m\u001b[0;34m)\u001b[0m\u001b[0;34m\u001b[0m\u001b[0;34m\u001b[0m\u001b[0m\n\u001b[0m\u001b[1;32m    559\u001b[0m             \u001b[0;32mreturn\u001b[0m \u001b[0msignaled\u001b[0m\u001b[0;34m\u001b[0m\u001b[0;34m\u001b[0m\u001b[0m\n\u001b[1;32m    560\u001b[0m \u001b[0;34m\u001b[0m\u001b[0m\n",
      "\u001b[0;32m/opt/JupyterLab/resources/jlab_server/lib/python3.8/threading.py\u001b[0m in \u001b[0;36mwait\u001b[0;34m(self, timeout)\u001b[0m\n\u001b[1;32m    300\u001b[0m         \u001b[0;32mtry\u001b[0m\u001b[0;34m:\u001b[0m    \u001b[0;31m# restore state no matter what (e.g., KeyboardInterrupt)\u001b[0m\u001b[0;34m\u001b[0m\u001b[0;34m\u001b[0m\u001b[0m\n\u001b[1;32m    301\u001b[0m             \u001b[0;32mif\u001b[0m \u001b[0mtimeout\u001b[0m \u001b[0;32mis\u001b[0m \u001b[0;32mNone\u001b[0m\u001b[0;34m:\u001b[0m\u001b[0;34m\u001b[0m\u001b[0;34m\u001b[0m\u001b[0m\n\u001b[0;32m--> 302\u001b[0;31m                 \u001b[0mwaiter\u001b[0m\u001b[0;34m.\u001b[0m\u001b[0macquire\u001b[0m\u001b[0;34m(\u001b[0m\u001b[0;34m)\u001b[0m\u001b[0;34m\u001b[0m\u001b[0;34m\u001b[0m\u001b[0m\n\u001b[0m\u001b[1;32m    303\u001b[0m                 \u001b[0mgotit\u001b[0m \u001b[0;34m=\u001b[0m \u001b[0;32mTrue\u001b[0m\u001b[0;34m\u001b[0m\u001b[0;34m\u001b[0m\u001b[0m\n\u001b[1;32m    304\u001b[0m             \u001b[0;32melse\u001b[0m\u001b[0;34m:\u001b[0m\u001b[0;34m\u001b[0m\u001b[0;34m\u001b[0m\u001b[0m\n",
      "\u001b[0;31mKeyboardInterrupt\u001b[0m: "
     ]
    },
    {
     "name": "stderr",
     "output_type": "stream",
     "text": [
      "  File \"/opt/JupyterLab/resources/jlab_server/lib/python3.8/multiprocessing/pool.py\", line 125, in worker\n",
      "    result = (True, func(*args, **kwds))\n",
      "  File \"/opt/JupyterLab/resources/jlab_server/lib/python3.8/multiprocessing/pool.py\", line 48, in mapstar\n",
      "    return list(map(*args))\n",
      "Traceback (most recent call last):\n",
      "  File \"/tmp/ipykernel_49079/3853730344.py\", line 2, in Γhl2l3\n",
      "    return Γhlilj(ALtot23(m6),ARtot23(m6),valores_h[mh],ml[2],ml[3])\n",
      "Traceback (most recent call last):\n",
      "Traceback (most recent call last):\n",
      "  File \"/tmp/ipykernel_49079/1983058545.py\", line 5, in ARtot23\n",
      "    return  AROneTot23(m6) + ARTwoTot23(m6)\n",
      "  File \"/opt/JupyterLab/resources/jlab_server/lib/python3.8/multiprocessing/process.py\", line 315, in _bootstrap\n",
      "    self.run()\n",
      "  File \"/opt/JupyterLab/resources/jlab_server/lib/python3.8/multiprocessing/process.py\", line 315, in _bootstrap\n",
      "    self.run()\n",
      "  File \"/tmp/ipykernel_49079/2383937876.py\", line 4, in ARTwoTot23\n",
      "    return totaltwo(m6,2,3,mHpm_n=mHpm_val,alpha=α_val,beta=β_val,quirality='R')\n",
      "  File \"/opt/JupyterLab/resources/jlab_server/lib/python3.8/multiprocessing/process.py\", line 108, in run\n",
      "    self._target(*self._args, **self._kwargs)\n",
      "  File \"/opt/JupyterLab/resources/jlab_server/lib/python3.8/multiprocessing/process.py\", line 108, in run\n",
      "    self._target(*self._args, **self._kwargs)\n",
      "  File \"/tmp/ipykernel_49079/3158439135.py\", line 4, in totaltwo\n",
      "    out = (sumatwo(m6,0,a,b,mHpm_n,alpha,beta,quirality) + sumatwo(m6,1,a,b,mHpm_n,alpha,beta,quirality)\n",
      "  File \"/opt/JupyterLab/resources/jlab_server/lib/python3.8/multiprocessing/process.py\", line 315, in _bootstrap\n",
      "    self.run()\n",
      "  File \"/opt/JupyterLab/resources/jlab_server/lib/python3.8/multiprocessing/pool.py\", line 125, in worker\n",
      "    result = (True, func(*args, **kwds))\n",
      "  File \"/opt/JupyterLab/resources/jlab_server/lib/python3.8/multiprocessing/process.py\", line 108, in run\n",
      "    self._target(*self._args, **self._kwargs)\n",
      "  File \"/tmp/ipykernel_49079/317659189.py\", line 18, in sumatwo\n",
      "    x = g(mnk[p-1],mnk[q-1],Unu[b-1,q-1],Unu_dagger[p-1,a-1],Cij(p-1,q-1),conj(Cij(p-1,q-1)),mHpm_n,alpha,beta)\n",
      "  File \"/opt/JupyterLab/resources/jlab_server/lib/python3.8/multiprocessing/pool.py\", line 125, in worker\n",
      "    result = (True, func(*args, **kwds))\n",
      "  File \"/opt/JupyterLab/resources/jlab_server/lib/python3.8/multiprocessing/pool.py\", line 48, in mapstar\n",
      "    return list(map(*args))\n",
      "  File \"/opt/JupyterLab/resources/jlab_server/lib/python3.8/multiprocessing/pool.py\", line 48, in mapstar\n",
      "    return list(map(*args))\n",
      "  File \"/opt/JupyterLab/resources/jlab_server/lib/python3.8/multiprocessing/pool.py\", line 125, in worker\n",
      "    result = (True, func(*args, **kwds))\n",
      "  File \"<lambdifygenerated-80>\", line 2, in _lambdifygenerated\n",
      "    return ((mpf(1)/mpf(16))*1j*(mpf((0, 59359008854951313888916597844053341664187749319656863253208237207601307875689803, -287, 266))*1j*Dummy_725*Dummy_727**2*Dummy_728*Dummy_731*(Dummy_726*Dummy_727 + Dummy_728*Dummy_732)*C_2(mpf((0, 37229009363224953887804848816053301381351952389758091587710244579888197789313663, -258, 265)), Dummy_728, Dummy_727)*cos(Dummy_730)/sin(Dummy_729) + mpf((0, 59359008854951313888916597844053341664187749319656863253208237207601307875689803, -287, 266))*1j*Dummy_725*Dummy_727*Dummy_728**2*Dummy_731*(Dummy_726*Dummy_728 + Dummy_727*Dummy_732)*(C_0(mpf((0, 37229009363224953887804848816053301381351952389758091587710244579888197789313663, -258, 265)), Dummy_728, Dummy_727) + C_2(mpf((0, 37229009363224953887804848816053301381351952389758091587710244579888197789313663, -258, 265)), Dummy_728, Dummy_727))*cos(Dummy_730)/sin(Dummy_729) - mpf((0, 59359008854951313888916597844053341664187749319656863253208237207601307875689803, -287, 266))*1j*Dummy_725*Dummy_727*Dummy_728**2*Dummy_731*(Dummy_726*Dummy_728 + Dummy_727*Dummy_732)*C_0(mpf((0, 37229009363224953887804848816053301381351952389758091587710244579888197789313663, -258, 265)), Dummy_728, Dummy_727)*cos(Dummy_730)/sin(Dummy_729) + mpf((0, 84823819268786138178897836001522528593658275646531200146323017523059915741537451, -294, 266))*1j*Dummy_725*Dummy_727*Dummy_731*(Dummy_726*Dummy_728 + Dummy_727*Dummy_732)*(C_0(mpf((0, 37229009363224953887804848816053301381351952389758091587710244579888197789313663, -258, 265)), Dummy_728, Dummy_727) - C_1(mpf((0, 37229009363224953887804848816053301381351952389758091587710244579888197789313663, -258, 265)), Dummy_728, Dummy_727))*cos(Dummy_730)/sin(Dummy_729) - mpf((0, 84823819268786138178897836001522528593658275646531200146323017523059915741537451, -294, 266))*1j*Dummy_725*Dummy_727*Dummy_731*(Dummy_726*Dummy_728 + Dummy_727*Dummy_732)*(C_0(mpf((0, 37229009363224953887804848816053301381351952389758091587710244579888197789313663, -258, 265)), Dummy_728, Dummy_727) - C_1(mpf((0, 37229009363224953887804848816053301381351952389758091587710244579888197789313663, -258, 265)), Dummy_728, Dummy_727) + C_2(mpf((0, 37229009363224953887804848816053301381351952389758091587710244579888197789313663, -258, 265)), Dummy_728, Dummy_727))*cos(Dummy_730)/sin(Dummy_729) - mpf((0, 59359008854951313888916597844053341664187749319656863253208237207601307875689803, -287, 266))*1j*Dummy_725*Dummy_728*Dummy_731*(Dummy_726*Dummy_727 + Dummy_728*Dummy_732)*(B12_0(Dummy_728, Dummy_727) + mpf((0, 374053817950832321068483242873193538966461072642045705466070218635854181263405365, -255, 268))*C_0(mpf((0, 37229009363224953887804848816053301381351952389758091587710244579888197789313663, -258, 265)), Dummy_728, Dummy_727) - mpf((0, 677750770994393830740618670644426499719653325651923620981943447088966067031984405, -275, 269))*C_1(mpf((0, 37229009363224953887804848816053301381351952389758091587710244579888197789313663, -258, 265)), Dummy_728, Dummy_727) + mpf((0, 748712810317548057526025955826051977200537387660840910789148549016766849521867079, -267, 269))*C_2(mpf((0, 37229009363224953887804848816053301381351952389758091587710244579888197789313663, -258, 265)), Dummy_728, Dummy_727))*cos(Dummy_730)/sin(Dummy_729) - mpf((0, 84823819268786138178897836001522528593658275646531200146323017523059915741537451, -294, 266))*1j*Dummy_725*Dummy_728*Dummy_731*(Dummy_726*Dummy_727 + Dummy_728*Dummy_732)*C_1(mpf((0, 37229009363224953887804848816053301381351952389758091587710244579888197789313663, -258, 265)), Dummy_728, Dummy_727)*cos(Dummy_730)/sin(Dummy_729))/pi**2)\n",
      "  File \"/tmp/ipykernel_49079/3853730344.py\", line 2, in Γhl2l3\n",
      "    return Γhlilj(ALtot23(m6),ARtot23(m6),valores_h[mh],ml[2],ml[3])\n",
      "  File \"/tmp/ipykernel_49079/3853730344.py\", line 2, in Γhl2l3\n",
      "    return Γhlilj(ALtot23(m6),ARtot23(m6),valores_h[mh],ml[2],ml[3])\n",
      "  File \"/tmp/ipykernel_49079/1983058545.py\", line 5, in ARtot23\n",
      "    return  AROneTot23(m6) + ARTwoTot23(m6)\n",
      "  File \"/tmp/ipykernel_49079/2383937876.py\", line 4, in ARTwoTot23\n",
      "    return totaltwo(m6,2,3,mHpm_n=mHpm_val,alpha=α_val,beta=β_val,quirality='R')\n",
      "  File \"/tmp/ipykernel_49079/1983058545.py\", line 5, in ARtot23\n",
      "    return  AROneTot23(m6) + ARTwoTot23(m6)\n",
      "  File \"/opt/JupyterLab/resources/jlab_server/lib/python3.8/site-packages/OneLoopLFVHD/data.py\", line 69, in <lambda>\n",
      "    'C_2': lambda M0,M1,M2:C2(ma,mj,M0,M1,M2)\n",
      "  File \"/tmp/ipykernel_49079/3158439135.py\", line 4, in totaltwo\n",
      "    out = (sumatwo(m6,0,a,b,mHpm_n,alpha,beta,quirality) + sumatwo(m6,1,a,b,mHpm_n,alpha,beta,quirality)\n",
      "  File \"/tmp/ipykernel_49079/317659189.py\", line 18, in sumatwo\n",
      "    x = g(mnk[p-1],mnk[q-1],Unu[b-1,q-1],Unu_dagger[p-1,a-1],Cij(p-1,q-1),conj(Cij(p-1,q-1)),mHpm_n,alpha,beta)\n",
      "  File \"/tmp/ipykernel_49079/2383937876.py\", line 4, in ARTwoTot23\n",
      "    return totaltwo(m6,2,3,mHpm_n=mHpm_val,alpha=α_val,beta=β_val,quirality='R')\n",
      "  File \"/opt/JupyterLab/resources/jlab_server/lib/python3.8/multiprocessing/pool.py\", line 48, in mapstar\n",
      "    return list(map(*args))\n",
      "  File \"/opt/JupyterLab/resources/jlab_server/lib/python3.8/site-packages/OneLoopLFVHD/LFVHDFeynG_mpmath2.py\", line 156, in C2\n",
      "    return ( (-1/ma**2)*(B2_0(mj,M0,M2) - B12_0(ma,M1,M2) + (M1**2-M0**2)*C0(ma,M0,M1,M2)))\n",
      "  File \"/tmp/ipykernel_49079/3853730344.py\", line 2, in Γhl2l3\n",
      "    return Γhlilj(ALtot23(m6),ARtot23(m6),valores_h[mh],ml[2],ml[3])\n",
      "  File \"/tmp/ipykernel_49079/3158439135.py\", line 4, in totaltwo\n",
      "    out = (sumatwo(m6,0,a,b,mHpm_n,alpha,beta,quirality) + sumatwo(m6,1,a,b,mHpm_n,alpha,beta,quirality)\n",
      "  File \"<lambdifygenerated-81>\", line 2, in _lambdifygenerated\n",
      "    return ((mpf(1)/mpf(16))*1j*(mpf((0, 187258649099630659484847874298943212380550745291527315351416904158846704479229073, -275, 267))*1j*Dummy_733*Dummy_735*Dummy_739*(Dummy_734*Dummy_736 + Dummy_735*Dummy_740)*C_2(mpf((0, 37229009363224953887804848816053301381351952389758091587710244579888197789313663, -258, 265)), Dummy_736, Dummy_735)*cos(Dummy_738)/sin(Dummy_737) + mpf((0, 187258649099630659484847874298943212380550745291527315351416904158846704479229073, -275, 267))*1j*Dummy_733*Dummy_736*Dummy_739*(Dummy_734*Dummy_735 + Dummy_736*Dummy_740)*(C_0(mpf((0, 37229009363224953887804848816053301381351952389758091587710244579888197789313663, -258, 265)), Dummy_736, Dummy_735) + C_2(mpf((0, 37229009363224953887804848816053301381351952389758091587710244579888197789313663, -258, 265)), Dummy_736, Dummy_735))*cos(Dummy_738)/sin(Dummy_737))/pi**2)\n",
      "  File \"/opt/JupyterLab/resources/jlab_server/lib/python3.8/site-packages/OneLoopLFVHD/LFVHDFeynG_mpmath2.py\", line 128, in B12_0\n",
      "    xi1,xi2 = x1(ma,M1,M2),x2(ma,M1,M2)\n",
      "  File \"/tmp/ipykernel_49079/317659189.py\", line 18, in sumatwo\n",
      "    x = g(mnk[p-1],mnk[q-1],Unu[b-1,q-1],Unu_dagger[p-1,a-1],Cij(p-1,q-1),conj(Cij(p-1,q-1)),mHpm_n,alpha,beta)\n",
      "  File \"/opt/JupyterLab/resources/jlab_server/lib/python3.8/site-packages/OneLoopLFVHD/roots_mpmath2.py\", line 82, in x2\n",
      "    return mp.polyroots([a,b,c],extraprec=100)[1]#rootx2_estable(a,b,c)[1]\n",
      "  File \"/tmp/ipykernel_49079/1983058545.py\", line 3, in ALtot23\n",
      "    return  ALOneTot23(m6) + ALTwoTot23(m6)\n",
      "  File \"/tmp/ipykernel_49079/2383937876.py\", line 2, in ALTwoTot23\n",
      "    return totaltwo(m6,2,3,mHpm_n=mHpm_val,alpha=α_val,beta=β_val,quirality='L')\n",
      "  File \"/opt/JupyterLab/resources/jlab_server/lib/python3.8/site-packages/OneLoopLFVHD/data.py\", line 69, in <lambda>\n",
      "    'C_2': lambda M0,M1,M2:C2(ma,mj,M0,M1,M2)\n",
      "  File \"/opt/JupyterLab/resources/jlab_server/lib/python3.8/site-packages/mpmath/calculus/polynomials.py\", line 186, in polyroots\n",
      "    x = f(p)\n",
      "  File \"<lambdifygenerated-81>\", line 2, in _lambdifygenerated\n",
      "    return ((mpf(1)/mpf(16))*1j*(mpf((0, 187258649099630659484847874298943212380550745291527315351416904158846704479229073, -275, 267))*1j*Dummy_733*Dummy_735*Dummy_739*(Dummy_734*Dummy_736 + Dummy_735*Dummy_740)*C_2(mpf((0, 37229009363224953887804848816053301381351952389758091587710244579888197789313663, -258, 265)), Dummy_736, Dummy_735)*cos(Dummy_738)/sin(Dummy_737) + mpf((0, 187258649099630659484847874298943212380550745291527315351416904158846704479229073, -275, 267))*1j*Dummy_733*Dummy_736*Dummy_739*(Dummy_734*Dummy_735 + Dummy_736*Dummy_740)*(C_0(mpf((0, 37229009363224953887804848816053301381351952389758091587710244579888197789313663, -258, 265)), Dummy_736, Dummy_735) + C_2(mpf((0, 37229009363224953887804848816053301381351952389758091587710244579888197789313663, -258, 265)), Dummy_736, Dummy_735))*cos(Dummy_738)/sin(Dummy_737))/pi**2)\n",
      "  File \"/opt/JupyterLab/resources/jlab_server/lib/python3.8/site-packages/OneLoopLFVHD/LFVHDFeynG_mpmath2.py\", line 156, in C2\n",
      "    return ( (-1/ma**2)*(B2_0(mj,M0,M2) - B12_0(ma,M1,M2) + (M1**2-M0**2)*C0(ma,M0,M1,M2)))\n",
      "  File \"/tmp/ipykernel_49079/3158439135.py\", line 5, in totaltwo\n",
      "    + sumatwo(m6,2,a,b,mHpm_n,alpha,beta,quirality))\n",
      "  File \"/opt/JupyterLab/resources/jlab_server/lib/python3.8/site-packages/mpmath/calculus/polynomials.py\", line 170, in <lambda>\n",
      "    f = lambda x: ctx.polyval(coeffs, x)\n",
      "  File \"/opt/JupyterLab/resources/jlab_server/lib/python3.8/site-packages/OneLoopLFVHD/data.py\", line 69, in <lambda>\n",
      "    'C_2': lambda M0,M1,M2:C2(ma,mj,M0,M1,M2)\n",
      "  File \"/opt/JupyterLab/resources/jlab_server/lib/python3.8/site-packages/mpmath/calculus/polynomials.py\", line 36, in polyval\n",
      "    q = ctx.zero\n",
      "  File \"/opt/JupyterLab/resources/jlab_server/lib/python3.8/site-packages/OneLoopLFVHD/LFVHDFeynG_mpmath2.py\", line 156, in C2\n",
      "    return ( (-1/ma**2)*(B2_0(mj,M0,M2) - B12_0(ma,M1,M2) + (M1**2-M0**2)*C0(ma,M0,M1,M2)))\n",
      "  File \"/tmp/ipykernel_49079/317659189.py\", line 18, in sumatwo\n",
      "    x = g(mnk[p-1],mnk[q-1],Unu[b-1,q-1],Unu_dagger[p-1,a-1],Cij(p-1,q-1),conj(Cij(p-1,q-1)),mHpm_n,alpha,beta)\n",
      "KeyboardInterrupt\n",
      "  File \"<lambdifygenerated-64>\", line 2, in _lambdifygenerated\n",
      "    return ((mpf(1)/mpf(16))*1j*(mpf((0, 451808092972216126011264111528169095072472750761856788903318066673491291569740569, -294, 268))*1j*Dummy_612*Dummy_614**2*Dummy_615*Dummy_618*(Dummy_613*Dummy_614 + Dummy_615*Dummy_619)*(C_0(mHpm, Dummy_615, Dummy_614) - C_1(mHpm, Dummy_615, Dummy_614))*cos(Dummy_617)*cot(Dummy_616)**2/sin(Dummy_616) + mpf((0, 451808092972216126011264111528169095072472750761856788903318066673491291569740569, -294, 268))*1j*Dummy_612*Dummy_614**2*Dummy_615*Dummy_618*(Dummy_613*Dummy_614 + Dummy_615*Dummy_619)*C_0(mHpm, Dummy_615, Dummy_614)*cos(Dummy_617)*cot(Dummy_616)**2/sin(Dummy_616) - mpf((0, 451808092972216126011264111528169095072472750761856788903318066673491291569740569, -294, 268))*1j*Dummy_612*Dummy_614*Dummy_615**2*Dummy_618*(Dummy_613*Dummy_615 + Dummy_614*Dummy_619)*C_1(mHpm, Dummy_615, Dummy_614)*cos(Dummy_617)*cot(Dummy_616)**2/sin(Dummy_616) + mpf((0, 451808092972216126011264111528169095072472750761856788903318066673491291569740569, -294, 268))*1j*Dummy_612*Dummy_614*Dummy_618*(Dummy_613*Dummy_615 + Dummy_614*Dummy_619)*(mHpm**2*C_0(mHpm, Dummy_615, Dummy_614) + B12_0(Dummy_615, Dummy_614) - mpf((0, 677750770994393830740618670644426499719653325651923620981943447088966067031984405, -275, 269))*C_1(mHpm, Dummy_615, Dummy_614) + mpf((0, 748712810317548057526025955826051977200537387660840910789148549016766849521867079, -267, 269))*C_2(mHpm, Dummy_615, Dummy_614))*cos(Dummy_617)*cot(Dummy_616)**2/sin(Dummy_616) + mpf((0, 713231362416881210886600458440589249275637155334542060817695991463298513555310595, -293, 269))*1j*Dummy_612*Dummy_614*Dummy_618*(Dummy_613*Dummy_615 + Dummy_614*Dummy_619)*C_2(mHpm, Dummy_615, Dummy_614)*cos(Dummy_617)*cot(Dummy_616)**2/sin(Dummy_616) + mpf((0, 713231362416881210886600458440589249275637155334542060817695991463298513555310595, -293, 269))*1j*Dummy_612*Dummy_615*Dummy_618*(Dummy_613*Dummy_614 + Dummy_615*Dummy_619)*(C_0(mHpm, Dummy_615, Dummy_614) + C_2(mHpm, Dummy_615, Dummy_614))*cos(Dummy_617)*cot(Dummy_616)**2/sin(Dummy_616) + mpf((0, 713231362416881210886600458440589249275637155334542060817695991463298513555310595, -293, 269))*1j*Dummy_612*Dummy_615*Dummy_618*(Dummy_613*Dummy_614 + Dummy_615*Dummy_619)*(C_0(mHpm, Dummy_615, Dummy_614) - C_1(mHpm, Dummy_615, Dummy_614) + C_2(mHpm, Dummy_615, Dummy_614))*cos(Dummy_617)*cot(Dummy_616)**2/sin(Dummy_616))/pi**2)\n",
      "  File \"/opt/JupyterLab/resources/jlab_server/lib/python3.8/site-packages/OneLoopLFVHD/LFVHDFeynG_mpmath2.py\", line 147, in C0\n",
      "    return ((R0(y0,y1) + R0(y0,y2) - R0(y0,y3))/ma**2)#*(-1j*16)\n",
      "  File \"/opt/JupyterLab/resources/jlab_server/lib/python3.8/site-packages/OneLoopLFVHD/data.py\", line 69, in <lambda>\n",
      "    'C_2': lambda M0,M1,M2:C2(ma,mj,M0,M1,M2)\n",
      "  File \"/opt/JupyterLab/resources/jlab_server/lib/python3.8/site-packages/OneLoopLFVHD/LFVHDFeynG_mpmath2.py\", line 156, in C2\n",
      "    return ( (-1/ma**2)*(B2_0(mj,M0,M2) - B12_0(ma,M1,M2) + (M1**2-M0**2)*C0(ma,M0,M1,M2)))\n",
      "  File \"/opt/JupyterLab/resources/jlab_server/lib/python3.8/site-packages/OneLoopLFVHD/LFVHDFeynG_mpmath2.py\", line 147, in C0\n",
      "    return ((R0(y0,y1) + R0(y0,y2) - R0(y0,y3))/ma**2)#*(-1j*16)\n",
      "  File \"/opt/JupyterLab/resources/jlab_server/lib/python3.8/site-packages/OneLoopLFVHD/LFVHDFeynG_mpmath2.py\", line 26, in R0\n",
      "    return Li2(x0/(x0-xi)) - Li2((x0-1.0)/(x0-xi))\n",
      "  File \"/opt/JupyterLab/resources/jlab_server/lib/python3.8/site-packages/OneLoopLFVHD/LFVHDFeynG_mpmath2.py\", line 26, in R0\n",
      "    return Li2(x0/(x0-xi)) - Li2((x0-1.0)/(x0-xi))\n",
      "  File \"/opt/JupyterLab/resources/jlab_server/lib/python3.8/site-packages/OneLoopLFVHD/LFVHDFeynG_mpmath2.py\", line 22, in Li2\n",
      "    return polylog(2,x0)\n",
      "  File \"/opt/JupyterLab/resources/jlab_server/lib/python3.8/site-packages/OneLoopLFVHD/LFVHDFeynG_mpmath2.py\", line 22, in Li2\n",
      "    return polylog(2,x0)\n",
      "  File \"/opt/JupyterLab/resources/jlab_server/lib/python3.8/site-packages/OneLoopLFVHD/LFVHDFeynG_mpmath2.py\", line 147, in C0\n",
      "    return ((R0(y0,y1) + R0(y0,y2) - R0(y0,y3))/ma**2)#*(-1j*16)\n",
      "  File \"/opt/JupyterLab/resources/jlab_server/lib/python3.8/site-packages/mpmath/ctx_mp_python.py\", line 1021, in f_wrapped\n",
      "    retval = f(ctx, *args, **kwargs)\n",
      "  File \"/opt/JupyterLab/resources/jlab_server/lib/python3.8/site-packages/mpmath/ctx_mp_python.py\", line 1021, in f_wrapped\n",
      "    retval = f(ctx, *args, **kwargs)\n",
      "  File \"/opt/JupyterLab/resources/jlab_server/lib/python3.8/site-packages/mpmath/functions/zeta.py\", line 486, in polylog\n",
      "    return polylog_unitcircle(ctx, int(s), z)\n",
      "  File \"/opt/JupyterLab/resources/jlab_server/lib/python3.8/site-packages/OneLoopLFVHD/LFVHDFeynG_mpmath2.py\", line 26, in R0\n",
      "    return Li2(x0/(x0-xi)) - Li2((x0-1.0)/(x0-xi))\n",
      "  File \"/opt/JupyterLab/resources/jlab_server/lib/python3.8/site-packages/mpmath/functions/zeta.py\", line 482, in polylog\n",
      "    return polylog_series(ctx, s, z)\n",
      "  File \"/opt/JupyterLab/resources/jlab_server/lib/python3.8/site-packages/mpmath/functions/zeta.py\", line 426, in polylog_unitcircle\n",
      "    l += ctx.ln(z)**(n-1)/ctx.fac(n-1)*(ctx.harmonic(n-1)-ctx.ln(-ctx.ln(z)))\n",
      "  File \"/opt/JupyterLab/resources/jlab_server/lib/python3.8/site-packages/mpmath/functions/zeta.py\", line 396, in polylog_series\n",
      "    zk *= z\n",
      "  File \"/opt/JupyterLab/resources/jlab_server/lib/python3.8/site-packages/OneLoopLFVHD/LFVHDFeynG_mpmath2.py\", line 22, in Li2\n",
      "    return polylog(2,x0)\n",
      "  File \"/opt/JupyterLab/resources/jlab_server/lib/python3.8/site-packages/mpmath/ctx_mp_python.py\", line 1021, in f_wrapped\n",
      "    retval = f(ctx, *args, **kwargs)\n",
      "  File \"/opt/JupyterLab/resources/jlab_server/lib/python3.8/site-packages/mpmath/ctx_mp_python.py\", line 998, in f\n",
      "    return ctx.make_mpf(mpf_f(x._mpf_, prec, rounding))\n",
      "  File \"/opt/JupyterLab/resources/jlab_server/lib/python3.8/site-packages/mpmath/ctx_mp_python.py\", line 507, in __mul__\n",
      "    v._mpc_ = mpc_mul(s._mpc_, t._mpc_, prec, rounding)\n",
      "  File \"/opt/JupyterLab/resources/jlab_server/lib/python3.8/site-packages/mpmath/functions/zeta.py\", line 482, in polylog\n",
      "    return polylog_series(ctx, s, z)\n",
      "  File \"/opt/JupyterLab/resources/jlab_server/lib/python3.8/site-packages/mpmath/libmp/libmpc.py\", line 155, in mpc_mul\n",
      "    p = mpf_mul(a, c)\n",
      "  File \"/opt/JupyterLab/resources/jlab_server/lib/python3.8/site-packages/mpmath/functions/zeta.py\", line 393, in polylog_series\n",
      "    l += term\n",
      "  File \"/opt/JupyterLab/resources/jlab_server/lib/python3.8/site-packages/mpmath/libmp/gammazeta.py\", line 648, in mpf_harmonic\n",
      "    a = mpf_psi0(mpf_add(fone, x, prec+5), prec)\n",
      "  File \"/opt/JupyterLab/resources/jlab_server/lib/python3.8/site-packages/mpmath/libmp/libmpf.py\", line 892, in python_mpf_mul\n",
      "    bc += int(man>>bc)\n",
      "  File \"/opt/JupyterLab/resources/jlab_server/lib/python3.8/site-packages/mpmath/libmp/gammazeta.py\", line 704, in mpf_psi0\n",
      "    bsign, bman, bexp, bbc = mpf_bernoulli(2*k, wp)\n",
      "  File \"/opt/JupyterLab/resources/jlab_server/lib/python3.8/site-packages/mpmath/libmp/gammazeta.py\", line 412, in mpf_bernoulli\n",
      "    if n & 1:\n",
      "KeyboardInterrupt\n",
      "KeyboardInterrupt\n",
      "  File \"/opt/JupyterLab/resources/jlab_server/lib/python3.8/site-packages/mpmath/ctx_mp_python.py\", line 474, in __add__\n",
      "    v._mpc_ = mpc_add(s._mpc_, t._mpc_, prec, rounding)\n",
      "  File \"/opt/JupyterLab/resources/jlab_server/lib/python3.8/site-packages/mpmath/libmp/libmpc.py\", line 90, in mpc_add\n",
      "    return mpf_add(a, c, prec, rnd), mpf_add(b, d, prec, rnd)\n",
      "  File \"/opt/JupyterLab/resources/jlab_server/lib/python3.8/site-packages/mpmath/libmp/libmpf.py\", line 741, in mpf_add\n",
      "    return normalize1(ssign, man, texp, bc, prec or bc, rnd)\n",
      "  File \"/opt/JupyterLab/resources/jlab_server/lib/python3.8/site-packages/mpmath/libmp/libmpf.py\", line 222, in _normalize1\n",
      "    man = t>>1\n",
      "KeyboardInterrupt\n"
     ]
    }
   ],
   "source": [
    "%%time\n",
    "YW23 = speedup_array(Γhl2l3,m6np)\n",
    "#YW32 = speedup_array(Γhl3l2,m6np)\n",
    "\n",
    "YW13 = speedup_array(Γhl1l3,m6np)\n",
    "#YW31 = speedup_array(Γhl3l1,m6np)\n",
    "\n",
    "YW12 = speedup_array(Γhl1l2,m6np)\n",
    "\n",
    "#YW21 = speedup_array(Γhl2l1,m6np)"
   ]
  },
  {
   "cell_type": "code",
   "execution_count": 91,
   "metadata": {},
   "outputs": [],
   "source": [
    "Wtot = YW23 + YW13 + YW12 + 0.0032# + YW32 + YW31 + YW21"
   ]
  },
  {
   "cell_type": "code",
   "execution_count": 104,
   "metadata": {},
   "outputs": [
    {
     "data": {
      "image/png": "[encoded data removed]",
      "text/plain": [
       "<Figure size 1080x576 with 1 Axes>"
      ]
     },
     "metadata": {
      "needs_background": "light"
     },
     "output_type": "display_data"
    }
   ],
   "source": [
    "plt.figure(figsize=(15,8))\n",
    "plt.loglog(np.real(m6np),(YW23 #+ YW32\n",
    "                         )/Wtot,label=r'Br($h \\to \\mu \\tau$)')\n",
    "plt.loglog(np.real(m6np),(YW13 #+ YW31\n",
    "                         )/Wtot,label=r'Br($h \\to e \\tau$)')\n",
    "plt.loglog(np.real(m6np),(YW12 #+ YW21\n",
    "                         )/Wtot,label=r'Br($h \\to e \\mu$)')\n",
    "\n",
    "#xx = ((YW23 + YW32)/Wtot)[-1]\n",
    "plt.hlines(1e-9,0.1,1e15,linestyles='-.',label=r'$1\\times 10^{-9}$')\n",
    "plt.hlines(1e-46,0.1,1e15,linestyles='--',color='b',label=r'$1\\times 10^{-46}$')\n",
    "\n",
    "plt.vlines(125.1,1e-46,1e-9,linestyles='--',color='r',label=r'$m_h$')\n",
    "#plt.vlines(800**2 + 1000**2 + 125.1**2,1e-59,1e-30,linestyles='--',color='r',label=r'$m_{H^{\\pm}}$')\n",
    "\n",
    "plt.xlim(1e3,1e15)\n",
    "plt.yticks([1e-49,1e-39,1e-29,1e-19,1e-9],fontsize=18)\n",
    "plt.xticks([1,1e4,1e8,1e12,1e16],fontsize=18)\n",
    "plt.title(r'$\\tan{\\beta}=1$, $m_A=1$ TeV, $m_{H^{\\pm}}=800$GeV',fontsize=18)\n",
    "plt.legend(fontsize=18,frameon=True,ncol=2,loc=4)\n",
    "plt.savefig('2HDM-tipoI-alignment-caso-1_ma800-mhpm1000.png',dpi=100)"
   ]
  },
  {
   "cell_type": "code",
   "execution_count": 105,
   "metadata": {},
   "outputs": [],
   "source": [
    "import pandas as pd"
   ]
  },
  {
   "cell_type": "code",
   "execution_count": 106,
   "metadata": {},
   "outputs": [],
   "source": [
    "df = pd.DataFrame({'m6':m6np,\n",
    "                   'Whl2l3':YW23,\n",
    "                   #'Whl3l2':YW32,\n",
    "                   'Whl1l3':YW13,\n",
    "                   #'Whl3l1':YW31,\n",
    "                   'Whl1l2':YW12})\n",
    "                   #'Whl2l1':YW21})"
   ]
  },
  {
   "cell_type": "code",
   "execution_count": null,
   "metadata": {},
   "outputs": [],
   "source": [
    "#type I alignment caso 1 mHpm >mA\n",
    "# mHpm_val = mp.mpf('1000.0')\n",
    "# mA_val = mp.mpf('800.0')\n",
    "# tb = mp.mpf('1.0')\n",
    "# β_val = mp.atan(tb)\n",
    "# α_val = β_val -mp.pi/2.0\n",
    "# Φ = 2\n",
    "\n",
    "#type I allignment caso 1 mA < mHpm\n",
    "# mHpm_val = mp.mpf('800.0')\n",
    "# mA_val = mp.mpf('1000.0')\n",
    "# tb = mp.mpf('1.0')\n",
    "# β_val = mp.atan(tb)\n",
    "# α_val = β_val -mp.pi/2.0\n",
    "# Φ = 2\n",
    "\n"
   ]
  },
  {
   "cell_type": "code",
   "execution_count": 107,
   "metadata": {},
   "outputs": [],
   "source": [
    "df.to_csv('TypeI_alignment_caso1_mA1000_mHpm800.txt',sep='\\t')"
   ]
  },
  {
   "cell_type": "code",
   "execution_count": 108,
   "metadata": {},
   "outputs": [
    {
     "data": {
      "text/plain": [
       "[<matplotlib.lines.Line2D at 0x7f57a6d51040>]"
      ]
     },
     "execution_count": 108,
     "metadata": {},
     "output_type": "execute_result"
    },
    {
     "data": {
      "image/png": "[encoded data removed]",
      "text/plain": [
       "<Figure size 432x288 with 1 Axes>"
      ]
     },
     "metadata": {
      "needs_background": "light"
     },
     "output_type": "display_data"
    }
   ],
   "source": [
    "plt.semilogy(np.array(list(map(mpf,df['Whl2l3']))))"
   ]
  },
  {
   "cell_type": "code",
   "execution_count": null,
   "metadata": {},
   "outputs": [],
   "source": []
  }
 ],
 "metadata": {
  "kernelspec": {
   "display_name": "Python 3 (ipykernel)",
   "language": "python",
   "name": "python3"
  },
  "language_info": {
   "codemirror_mode": {
    "name": "ipython",
    "version": 3
   },
   "file_extension": ".py",
   "mimetype": "text/x-python",
   "name": "python",
   "nbconvert_exporter": "python",
   "pygments_lexer": "ipython3",
   "version": "3.8.12"
  }
 },
 "nbformat": 4,
 "nbformat_minor": 4
}
