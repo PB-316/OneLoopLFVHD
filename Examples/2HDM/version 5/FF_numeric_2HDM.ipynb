{
 "cells": [
  {
   "cell_type": "markdown",
   "metadata": {},
   "source": [
    "# LFV Higgs decays in the 2HDM with  SeeSaw type I"
   ]
  },
  {
   "cell_type": "code",
   "execution_count": 1,
   "metadata": {},
   "outputs": [],
   "source": [
    "from sympy import init_printing,lambdify,Symbol, symbols, Matrix\n",
    "init_printing()\n",
    "import OneLoopLFVHD as lfvhd"
   ]
  },
  {
   "cell_type": "code",
   "execution_count": 2,
   "metadata": {},
   "outputs": [],
   "source": [
    "from FF_symbolic import TrianglesOneFermion, TrianglesTwoFermion, Bubbles\n",
    "from FF_symbolic import DiagramasWninj,DiagramasniWW,DiagramasniWH,DiagramasniHW\n",
    "from FF_symbolic import DiagramasHninj,DiagramasniHH\n",
    "from FF_symbolic import g, mW, mG, mHpm, mϕ, Uν, Uνc, mn, m, C, Cc, a,b,i\n",
    "from FF_symbolic import j as jj\n",
    "from FF_symbolic import ξlϕ, ξnϕ, ξlA, ξnA,α, β, Ξϕ, Kϕ, Qϕ,ρϕ, Δϕ,ηϕ, λ5"
   ]
  },
  {
   "cell_type": "code",
   "execution_count": 3,
   "metadata": {},
   "outputs": [],
   "source": [
    "import matplotlib.pyplot as plt\n",
    "%matplotlib inline"
   ]
  },
  {
   "cell_type": "code",
   "execution_count": 4,
   "metadata": {},
   "outputs": [],
   "source": [
    "from mpmath import *"
   ]
  },
  {
   "cell_type": "code",
   "execution_count": 5,
   "metadata": {},
   "outputs": [],
   "source": [
    "mp.dps = 80; mp.pretty = True"
   ]
  },
  {
   "cell_type": "code",
   "execution_count": 6,
   "metadata": {},
   "outputs": [],
   "source": [
    "import numpy as np"
   ]
  },
  {
   "cell_type": "code",
   "execution_count": 7,
   "metadata": {},
   "outputs": [],
   "source": [
    "import subprocess as s"
   ]
  },
  {
   "cell_type": "code",
   "execution_count": 8,
   "metadata": {},
   "outputs": [],
   "source": [
    "from multiprocessing import Pool\n",
    "from time import time"
   ]
  },
  {
   "cell_type": "code",
   "execution_count": 9,
   "metadata": {},
   "outputs": [],
   "source": [
    "def speedup_array(f,array,procs=4): \n",
    "    pool = Pool(procs,maxtasksperchild=100).map(f, array)\n",
    "    result = np.array(list(pool))\n",
    "    return result"
   ]
  },
  {
   "cell_type": "markdown",
   "metadata": {},
   "source": [
    "## Numeric implementation of form factors"
   ]
  },
  {
   "cell_type": "markdown",
   "metadata": {},
   "source": [
    "**Neutrino benchmark** is given by "
   ]
  },
  {
   "cell_type": "code",
   "execution_count": 10,
   "metadata": {},
   "outputs": [],
   "source": [
    "from OneLoopLFVHD.neutrinos import NuOscObservables\n",
    "Nudata = NuOscObservables"
   ]
  },
  {
   "cell_type": "code",
   "execution_count": 11,
   "metadata": {},
   "outputs": [],
   "source": [
    "m1 = mpf('1e-12')  #GeV \n",
    "\n",
    "#current values to Square mass differences\n",
    "d21 = mpf(str(Nudata.squareDm21.central))*mpf('1e-18')# factor to convert eV^2 to GeV^2\n",
    "d31 = mpf(str(Nudata.squareDm31.central))*mpf('1e-18')\n",
    "\n",
    "#d21 = 7.5e-5*1e-18\n",
    "#d31 = 2.457e-3*1e-18\n",
    "m2 = sqrt(m1**2 + d21)\n",
    "m3 = sqrt(m1**2 + d31)\n",
    "\n",
    "m4 = lambda m6: m6/3\n",
    "m5 = lambda m6: m6/2"
   ]
  },
  {
   "cell_type": "markdown",
   "metadata": {},
   "source": [
    "## Setting 2HDM"
   ]
  },
  {
   "cell_type": "markdown",
   "metadata": {
    "tags": []
   },
   "source": [
    "### Form factor with one fermion in the loop."
   ]
  },
  {
   "cell_type": "code",
   "execution_count": 12,
   "metadata": {},
   "outputs": [],
   "source": [
    "# for D in TrianglesOneFermion:\n",
    "#     display(D.AL().atoms(Symbol))"
   ]
  },
  {
   "cell_type": "markdown",
   "metadata": {},
   "source": [
    "#### AL one fermion "
   ]
  },
  {
   "cell_type": "code",
   "execution_count": 13,
   "metadata": {},
   "outputs": [],
   "source": [
    "from OneLoopLFVHD.data import ml"
   ]
  },
  {
   "cell_type": "code",
   "execution_count": 14,
   "metadata": {},
   "outputs": [],
   "source": [
    "ma,mb = symbols('m_a,m_b',positive=True)\n",
    "# valores_h ={mW:mpf('80.379'),mh:mpf('125.10'),g:(2*mpf('80.379'))/mpf('246')}\n",
    "# valores_H ={mW:mpf('80.379'),mh:mpf('125.10'),g:(2*mpf('80.379'))/mpf('246')}\n",
    "valoresSM ={mW:mpf('80.379'),g:(2*mpf('80.379'))/mpf('246')}\n",
    "\n",
    "# cambios_hab = lambda a,b:{lfvhd.ma:valores_h[mh],lfvhd.mi:ml[a],lfvhd.mj:ml[b]}\n",
    "cambios_lab = lambda mla,mlb:{lfvhd.mi:mla,lfvhd.mj:mlb}\n",
    "\n",
    "\n",
    "\n",
    "Ubi, Ucai,mni = symbols('U_{bi}, {{U_{ai}^*}},m_{n_i}')\n",
    "UnuOne = {mn[i]:mni,Uν[b,i]:Ubi,Uνc[a,i]:Ucai}\n",
    "\n",
    "# from Unu_seesaw_2HDM import diagonalizationMnu\n",
    "# diagonalizationMnu1 = lambda m1,m6,tb,doblet: diagonalizationMnu(\n",
    "#     m1,m2,m3,m6/mpf('3.0'),m6/mpf('2.0'),m6,tb,doblet)\n",
    "\n",
    "from Unu_seesaw import diagonalizationMnu\n",
    "\n",
    "diagonalizationMnu1 = lambda m1,m6: diagonalizationMnu(\n",
    "    m1,m2,m3,m6/mpf('3.0'),m6/mpf('2.0'),m6)"
   ]
  },
  {
   "cell_type": "code",
   "execution_count": 15,
   "metadata": {
    "tags": []
   },
   "outputs": [],
   "source": [
    "C0_sp, C1_sp, C2_sp, B120_sp, B10_sp,B11_sp,B20_sp,B21_sp = symbols(\n",
    "    'C0, C1, C2, B120, B10,B11,B20,B21'\n",
    "    )\n",
    "cambios_pave_sympy = lambda M0,M1,M2: {lfvhd.C0(M0,M1,M2):C0_sp,lfvhd.C1(M0,M1,M2):C1_sp,\n",
    "                                      lfvhd.C2(M0,M1,M2):C2_sp,lfvhd.B12_0(M1,M2):B120_sp,\n",
    "                                      lfvhd.B1_0(M0,M1):B10_sp,lfvhd.B1_1(M0,M1):B11_sp,\n",
    "                                      lfvhd.B2_0(M0,M2):B20_sp,lfvhd.B2_1(M0,M2):B21_sp}\n",
    "cambiosniWW = cambios_pave_sympy(mn[i],mW,mW)\n",
    "cambiosniWH = cambios_pave_sympy(mn[i],mW,mHpm)\n",
    "cambiosniHW = cambios_pave_sympy(mn[i],mHpm,mW)\n",
    "cambiosniHH = cambios_pave_sympy(mn[i],mHpm,mHpm)\n",
    "\n",
    "cambiosWninj = cambios_pave_sympy(mW,mn[i],mn[jj])\n",
    "cambiosHninj = cambios_pave_sympy(mHpm,mn[i],mn[jj])\n",
    "\n",
    "#cambiosniWW"
   ]
  },
  {
   "cell_type": "code",
   "execution_count": 16,
   "metadata": {},
   "outputs": [],
   "source": [
    "import OneLoopLFVHD.LFVHDFeynG_mpmath2 as lfvhd_mp# B1_0, B2_0, B1_1, B2_1, B12_0, C0, C1, C2"
   ]
  },
  {
   "cell_type": "markdown",
   "metadata": {},
   "source": [
    "### Diagrams with One Fermion"
   ]
  },
  {
   "cell_type": "markdown",
   "metadata": {},
   "source": [
    "#### Diagrams with $n_i WW$ numeric"
   ]
  },
  {
   "cell_type": "code",
   "execution_count": 65,
   "metadata": {},
   "outputs": [],
   "source": [
    "####################\n",
    "mW_val = valoresSM[mW]\n",
    "C0_mp_niWW = lambda ms,mni_: lfvhd_mp.C0(ms,mni_,mW_val,mW_val)\n",
    "C1_mp_niWW = lambda ms,mni_,mla: lfvhd_mp.C1(ms,mla,mni_,mW_val,mW_val)\n",
    "C2_mp_niWW = lambda ms,mni_,mlb: lfvhd_mp.C2(ms,mlb,mni_,mW_val,mW_val)\n",
    "B120_mp_niWW = lambda ms: lfvhd_mp.B12_0(ms,mW_val,mW_val)\n",
    "B10_mp_niWW = lambda mni_,mla: lfvhd_mp.B1_0(mla,mni_,mW_val)\n",
    "B11_mp_niWW = lambda mni_,mla: lfvhd_mp.B1_1(mla,mni_,mW_val)\n",
    "B20_mp_niWW = lambda mni_,mlb: lfvhd_mp.B2_0(mlb,mni_,mW_val)\n",
    "B21_mp_niWW = lambda mni_,mlb: lfvhd_mp.B2_1(mlb,mni_,mW_val)\n",
    "\n",
    "###################3\n",
    "FF_list_niWW = []\n",
    "for dia_niWW in DiagramasniWW:\n",
    "    A_sp_niWWL = lambda mla,mlb: dia_niWW.AL().subs(cambiosniWW).subs(lfvhd.D,4).subs(\n",
    "            lfvhd.B12_0(mW,mW),0).simplify().subs(\n",
    "        cambios_lab(mla,mlb)).subs(valoresSM).subs(UnuOne)\n",
    "    A_sp_niWWR = lambda mla,mlb: dia_niWW.AR().subs(cambiosniWW).subs(lfvhd.D,4).subs(\n",
    "            lfvhd.B12_0(mW,mW),0).simplify().subs(\n",
    "        cambios_lab(mla,mlb)).subs(valoresSM).subs(UnuOne)\n",
    "    \n",
    "    \n",
    "    #display(A_sp_niWWL(ml[1],ml[2]).atoms(Symbol))\n",
    "    A_lamb_niWWL = lambda mla,mlb: lambdify([lfvhd.ma,mni,Ubi,Ucai, Ξϕ,ξlϕ,\n",
    "                   C0_sp,C1_sp,C2_sp,B120_sp,B10_sp,B11_sp,B20_sp,B21_sp],\n",
    "                                           A_sp_niWWL(mla,mlb),'mpmath')\n",
    "    \n",
    "    A_lamb_niWWR = lambda mla,mlb: lambdify([lfvhd.ma,mni,Ubi,Ucai, Ξϕ,ξlϕ,\n",
    "                   C0_sp,C1_sp,C2_sp,B120_sp,B10_sp,B11_sp,B20_sp,B21_sp],\n",
    "                                           A_sp_niWWR(mla,mlb),'mpmath')\n",
    "    \n",
    "    \n",
    "    #.subs(typeI_ξh).subs(common_factor_h).subs(lfvhd.ma,mh).subs(mh,mpf('125.10'))\n",
    "    def FFniWWL(ms_val,mla,mlb,mni_,Ubi_,Ucai_,Xi_phi,xi_lphi):\n",
    "        return A_lamb_niWWL(mla,mlb)(ms_val,mni_,Ubi_,Ucai_,Xi_phi,xi_lphi,\n",
    "                C0_mp_niWW(ms_val,mni_),C1_mp_niWW(ms_val,mni_,mla),C2_mp_niWW(ms_val,mni_,mlb),\n",
    "                B120_mp_niWW(ms_val),B10_mp_niWW(mni_,mla),B11_mp_niWW(mni_,mla),\n",
    "                 B20_mp_niWW(mni_,mlb),B21_mp_niWW(mni_,mlb))\n",
    "    \n",
    "    def FFniWWR(ms_val,mla,mlb,mni_,Ubi_,Ucai_,Xi_phi,xi_lphi):\n",
    "        return A_lamb_niWWR(mla,mlb)(ms_val,mni_,Ubi_,Ucai_,Xi_phi,xi_lphi,\n",
    "                C0_mp_niWW(ms_val,mni_),C1_mp_niWW(ms_val,mni_,mla),C2_mp_niWW(ms_val,mni_,mlb),\n",
    "                B120_mp_niWW(ms_val),B10_mp_niWW(mni_,mla),B11_mp_niWW(mni_,mla),\n",
    "                 B20_mp_niWW(mni_,mlb),B21_mp_niWW(mni_,mlb))\n",
    "    \n",
    "    \n",
    "    FF_list_niWW.append({'L':FFniWWL,'R':FFniWWR})"
   ]
  },
  {
   "cell_type": "code",
   "execution_count": 66,
   "metadata": {},
   "outputs": [
    {
     "name": "stdout",
     "output_type": "stream",
     "text": [
      "CPU times: user 748 ms, sys: 20 µs, total: 748 ms\n",
      "Wall time: 748 ms\n"
     ]
    },
    {
     "data": {
      "text/plain": [
       "(-0.000071467763684591091970099230113171227717941258139891604327269425120638084533901643,\n",
       " -0.00007142927748439662077718032879884293845337609638931117236903147334185704219854227)"
      ]
     },
     "execution_count": 66,
     "metadata": {},
     "output_type": "execute_result"
    }
   ],
   "source": [
    "%%time\n",
    "(\n",
    "    FF_list_niWW[0]['L'](mpf('125.10'),2,3,4,5,6,7,8),\n",
    "    FF_list_niWW[0]['R'](mpf('125.10'),2,3,4,5,6,7,8)\n",
    ")"
   ]
  },
  {
   "cell_type": "markdown",
   "metadata": {},
   "source": [
    "#### Diagrams with $n_i HH$ numeric"
   ]
  },
  {
   "cell_type": "code",
   "execution_count": 67,
   "metadata": {},
   "outputs": [],
   "source": [
    "####################\n",
    "####################\n",
    "#ms = symbols('m_s',real=True)\n",
    "C0_mp_niHH = lambda ms,mni_,mHpm: lfvhd_mp.C0(ms,mni_,mHpm,mHpm)\n",
    "C1_mp_niHH = lambda ms,mni_,mla,mHpm: lfvhd_mp.C1(ms,mla,mni_,mHpm,mHpm)\n",
    "C2_mp_niHH = lambda ms,mni_,mlb,mHpm: lfvhd_mp.C2(ms,mlb,mni_,mHpm,mHpm)\n",
    "B10_mp_niHH = lambda mni_,mla,mHpm: lfvhd_mp.B1_0(mla,mni_,mHpm)\n",
    "B11_mp_niHH = lambda mni_,mla,mHpm: lfvhd_mp.B1_1(mla,mni_,mHpm)\n",
    "B20_mp_niHH = lambda mni_,mlb,mHpm: lfvhd_mp.B2_0(mlb,mni_,mHpm)\n",
    "B21_mp_niHH = lambda mni_,mlb,mHpm: lfvhd_mp.B2_1(mlb,mni_,mHpm)\n",
    "\n",
    "###################3\n",
    "FF_list_niHH = []\n",
    "for dia_niHH in DiagramasniHH:\n",
    "    A_sp_niHHL = lambda mla,mlb: dia_niHH.AL().subs(cambiosniHH).subs(lfvhd.D,4).simplify().subs(\n",
    "        cambios_lab(mla,mlb)).subs(valoresSM).subs(UnuOne)\n",
    "    A_sp_niHHR = lambda mla,mlb: dia_niHH.AR().subs(cambiosniHH).subs(lfvhd.D,4).simplify().subs(\n",
    "        cambios_lab(mla,mlb)).subs(valoresSM).subs(UnuOne)\n",
    "    \n",
    "    \n",
    "    #display(A_sp_niHHL(ml[1],ml[2]).atoms(Symbol))\n",
    "    A_lamb_niHHL = lambda mla,mlb: lambdify([lfvhd.ma,mni,Ubi,Ucai,mHpm,β,λ5,ξlϕ,ξlA,ξnA,Δφ,Kφ,Qφ,ρφ,\n",
    "                   C0_sp,C1_sp,C2_sp,B10_sp,B11_sp,B20_sp,B21_sp],\n",
    "                                           A_sp_niHHL(mla,mlb),'mpmath')\n",
    "    \n",
    "    A_lamb_niHHR = lambda mla,mlb: lambdify([lfvhd.ma,mni,Ubi,Ucai,mHpm,β,λ5,ξlϕ,ξlA,ξnA,Δφ,Kφ,Qφ,ρφ,\n",
    "                   C0_sp,C1_sp,C2_sp,B10_sp,B11_sp,B20_sp,B21_sp],\n",
    "                                           A_sp_niHHR(mla,mlb),'mpmath')\n",
    "    #.subs(typeI_ξh).subs(common_factor_h).subs(lfvhd.ma,mh).subs(mh,mpf('125.10'))\n",
    "    def FFniHHL(ms_val,mla,mlb,mni_,Ubi_,Ucai_,\n",
    "           mHpm,beta,l5,xi_lphi,xi_lA,xi_nA,Dphi,Kphi,Qphi,rhophi):\n",
    "        return A_lamb_niHHL(mla,mlb)(ms_val,mni_,Ubi_,Ucai_,\n",
    "                      mHpm,beta,l5,xi_lphi,xi_lA,xi_nA,Dphi,Kphi,Qphi,rhophi,\n",
    "                C0_mp_niHH(ms_val,mni_,mHpm),C1_mp_niHH(ms_val,mni_,mla,mHpm),\n",
    "                C2_mp_niHH(ms_val,mni_,mlb,mHpm),\n",
    "                B10_mp_niHH(mni_,mla,mHpm),B11_mp_niHH(mni_,mla,mHpm),\n",
    "                 B20_mp_niHH(mni_,mlb,mHpm),B21_mp_niHH(mni_,mlb,mHpm))\n",
    "    \n",
    "    def FFniHHR(ms_val,mla,mlb,mni_,Ubi_,Ucai_,\n",
    "           mHpm,beta,l5,xi_lphi,xi_lA,xi_nA,Dphi,Kphi,Qphi,rhophi):\n",
    "        return A_lamb_niHHR(mla,mlb)(ms_val,mni_,Ubi_,Ucai_,\n",
    "                      mHpm,beta,l5,xi_lphi,xi_lA,xi_nA,Dphi,Kphi,Qphi,rhophi,\n",
    "                C0_mp_niHH(ms_val,mni_,mHpm),C1_mp_niHH(ms_val,mni_,mla,mHpm),\n",
    "                C2_mp_niHH(ms_val,mni_,mlb,mHpm),\n",
    "                B10_mp_niHH(mni_,mla,mHpm),B11_mp_niHH(mni_,mla,mHpm),\n",
    "                 B20_mp_niHH(mni_,mlb,mHpm),B21_mp_niHH(mni_,mlb,mHpm))\n",
    "    \n",
    "    FF_list_niHH.append({'L':FFniHHL,'R':FFniHHR})"
   ]
  },
  {
   "cell_type": "code",
   "execution_count": 68,
   "metadata": {},
   "outputs": [
    {
     "data": {
      "text/plain": [
       "((-0.000000000000047500694437883334053559689281938324690014047870947545178873981810238639959485919 + 0.0j),\n",
       " (-0.00000000000004236342443704504832816313444557555323754466162073906839989234059953380424683953 + 0.0j))"
      ]
     },
     "execution_count": 68,
     "metadata": {},
     "output_type": "execute_result"
    }
   ],
   "source": [
    "(\n",
    "    FF_list_niHH[0]['L'](mpf('125.10'),.2,.3,.4,.5,.6,.7,.8,.9,.10,.11,.12,.13,.14,.15,.16),\n",
    "    FF_list_niHH[0]['R'](mpf('125.10'),.2,.3,.4,.5,.6,.7,.8,.9,.10,.11,.12,.13,.14,.15,.16)\n",
    ")"
   ]
  },
  {
   "cell_type": "markdown",
   "metadata": {},
   "source": [
    "#### Diagrams with $n_i WH$ numeric"
   ]
  },
  {
   "cell_type": "code",
   "execution_count": 69,
   "metadata": {},
   "outputs": [],
   "source": [
    "####################\n",
    "####################\n",
    "#ms = symbols('m_s',real=True)\n",
    "C0_mp_niWH = lambda ms,mni_,mHpm: lfvhd_mp.C0(ms,mni_,mW_val,mHpm)\n",
    "C1_mp_niWH = lambda ms,mni_,mla,mHpm: lfvhd_mp.C1(ms,mla,mni_,mW_val,mHpm)\n",
    "C2_mp_niWH = lambda ms,mni_,mlb,mHpm: lfvhd_mp.C2(ms,mlb,mni_,mW_val,mHpm)\n",
    "\n",
    "###################3\n",
    "\n",
    "FF_list_niWH = []\n",
    "for dia_niWH in DiagramasniWH:\n",
    "    A_sp_niWHL = lambda mla,mlb: dia_niWH.AL().subs(\n",
    "    lfvhd.B12_0(mW,mHpm),0).subs(cambiosniWH).subs(lfvhd.D,4).simplify().subs(\n",
    "        cambios_lab(mla,mlb)).subs(valoresSM).subs(UnuOne)\n",
    "    A_sp_niWHR = lambda mla,mlb: dia_niWH.AR().subs(\n",
    "    lfvhd.B12_0(mW,mHpm),0).subs(cambiosniWH).subs(lfvhd.D,4).simplify().subs(\n",
    "        cambios_lab(mla,mlb)).subs(valoresSM).subs(UnuOne)\n",
    "    \n",
    "    \n",
    "    #display(A_sp_niWHR(ml[1],ml[2]))\n",
    "    A_lamb_niWHL = lambda mla,mlb: lambdify([lfvhd.ma,mni,Ubi,Ucai,mHpm,ξlA,ξnA,ηφ,\n",
    "                   C0_sp,C1_sp,C2_sp], A_sp_niWHL(mla,mlb),'mpmath')\n",
    "    \n",
    "    A_lamb_niWHR = lambda mla,mlb: lambdify([lfvhd.ma,mni,Ubi,Ucai,mHpm,ξlA,ξnA,ηφ,\n",
    "                   C0_sp,C1_sp,C2_sp], A_sp_niWHR(mla,mlb),'mpmath')\n",
    "    \n",
    "    #.subs(typeI_ξh).subs(common_factor_h).subs(lfvhd.ma,mh).subs(mh,mpf('125.10'))\n",
    "    def FFniWHL(ms_val,mla,mlb,mni_,Ubi_,Ucai_,mHpm,xi_lA,xi_nA,etaphi):\n",
    "        return A_lamb_niWHL(mla,mlb)(ms_val,mni_,Ubi_,Ucai_,\n",
    "                mHpm,xi_lA,xi_nA,etaphi,\n",
    "                C0_mp_niWH(ms_val,mni_,mHpm),C1_mp_niWH(ms_val,mni_,mla,mHpm),\n",
    "                C2_mp_niWH(ms_val,mni_,mlb,mHpm))\n",
    "    \n",
    "    def FFniWHR(ms_val,mla,mlb,mni_,Ubi_,Ucai_,mHpm,xi_lA,xi_nA,etaphi):\n",
    "        return A_lamb_niWHR(mla,mlb)(ms_val,mni_,Ubi_,Ucai_,\n",
    "                mHpm,xi_lA,xi_nA,etaphi,\n",
    "                C0_mp_niWH(ms_val,mni_,mHpm),C1_mp_niWH(ms_val,mni_,mla,mHpm),\n",
    "                C2_mp_niWH(ms_val,mni_,mlb,mHpm))\n",
    "    \n",
    "    FF_list_niWH.append({'L':FFniWHL,'R':FFniWHR})"
   ]
  },
  {
   "cell_type": "code",
   "execution_count": 70,
   "metadata": {},
   "outputs": [
    {
     "data": {
      "text/plain": [
       "((0.00000000000073997220271423279851159399645139011688436697282719331194065898471723532721595323 - 0.000000000030972455173014969262919567427708660342087234820823663627042942735982246980222553j),\n",
       " (0.000000000002215994564486677475542967233956115779096358081128814300387225851793049368898589 + 0.000000000047450065059135104813611815740530587919320596989700102249485532444365352085725578j))"
      ]
     },
     "execution_count": 70,
     "metadata": {},
     "output_type": "execute_result"
    }
   ],
   "source": [
    "(\n",
    "    FF_list_niWH[0]['L'](mpf('125.10'),.2,.3,.4,.5,.6,.7,.8,.9,.10),\n",
    "    FF_list_niWH[0]['R'](mpf('125.10'),.2,.3,.4,.5,.6,.7,.8,.9,.10)\n",
    ")"
   ]
  },
  {
   "cell_type": "markdown",
   "metadata": {},
   "source": [
    "#### Diagrams with $n_i HW$ numeric"
   ]
  },
  {
   "cell_type": "code",
   "execution_count": 71,
   "metadata": {},
   "outputs": [],
   "source": [
    "####################\n",
    "####################\n",
    "#ms = symbols('m_s',real=True)\n",
    "C0_mp_niHW = lambda ms,mni_,mHpm: lfvhd_mp.C0(ms,mni_,mHpm,mW_val)\n",
    "C1_mp_niHW = lambda ms,mni_,mla,mHpm: lfvhd_mp.C1(ms,mla,mni_,mHpm,mW_val)\n",
    "C2_mp_niHW = lambda ms,mni_,mlb,mHpm: lfvhd_mp.C2(ms,mlb,mni_,mHpm,mW_val)\n",
    "\n",
    "###################3\n",
    "\n",
    "FF_list_niHW = []\n",
    "for dia_niHW in DiagramasniHW:\n",
    "    A_sp_niHWL = lambda mla,mlb: dia_niHW.AL().subs(\n",
    "    lfvhd.B12_0(mHpm,mW),0).subs(cambiosniHW).subs(lfvhd.D,4).simplify().subs(\n",
    "        cambios_lab(mla,mlb)).subs(valoresSM).subs(UnuOne)\n",
    "    A_sp_niHWR = lambda mla,mlb: dia_niHW.AR().subs(\n",
    "    lfvhd.B12_0(mHpm,mW),0).subs(cambiosniHW).subs(lfvhd.D,4).simplify().subs(\n",
    "        cambios_lab(mla,mlb)).subs(valoresSM).subs(UnuOne)\n",
    "    \n",
    "    #display(A_sp_niHWL(ml[1],ml[2]).atoms(Symbol))\n",
    "    A_lamb_niHWL = lambda mla,mlb: lambdify([lfvhd.ma,mni,Ubi,Ucai,mHpm,ξlA,ξnA,ηφ,\n",
    "                   C0_sp,C1_sp,C2_sp], A_sp_niHWL(mla,mlb),'mpmath')\n",
    "    \n",
    "    A_lamb_niHWR = lambda mla,mlb: lambdify([lfvhd.ma,mni,Ubi,Ucai,mHpm,ξlA,ξnA,ηφ,\n",
    "                   C0_sp,C1_sp,C2_sp], A_sp_niHWR(mla,mlb),'mpmath')\n",
    "    \n",
    "    #.subs(typeI_ξh).subs(common_factor_h).subs(lfvhd.ma,mh).subs(mh,mpf('125.10'))\n",
    "    def FFniHWL(ms_val,mla,mlb,mni_,Ubi_,Ucai_,mHpm,xi_lA,xi_nA,etaphi):\n",
    "        return A_lamb_niHWL(mla,mlb)(ms_val,mni_,Ubi_,Ucai_,\n",
    "                mHpm,xi_lA,xi_nA,etaphi,\n",
    "                C0_mp_niHW(ms_val,mni_,mHpm),C1_mp_niHW(ms_val,mni_,mla,mHpm),\n",
    "                C2_mp_niHW(ms_val,mni_,mlb,mHpm))\n",
    "    \n",
    "    def FFniHWR(ms_val,mla,mlb,mni_,Ubi_,Ucai_,mHpm,xi_lA,xi_nA,etaphi):\n",
    "        return A_lamb_niHWR(mla,mlb)(ms_val,mni_,Ubi_,Ucai_,\n",
    "                mHpm,xi_lA,xi_nA,etaphi,\n",
    "                C0_mp_niHW(ms_val,mni_,mHpm),C1_mp_niHW(ms_val,mni_,mla,mHpm),\n",
    "                C2_mp_niHW(ms_val,mni_,mlb,mHpm))\n",
    "    \n",
    "    FF_list_niHW.append({'L':FFniHWL,'R':FFniHWR})"
   ]
  },
  {
   "cell_type": "code",
   "execution_count": 72,
   "metadata": {},
   "outputs": [
    {
     "data": {
      "text/plain": [
       "((0.0000000000016186245566964131764966253216693156687465375910882841897290017110502929852561873 + 0.000000000027856042353106289568511996388749767739366220421936040626975005648797662117866264j),\n",
       " (0.000000000003010064408498334182875648248803695826056262911660553844910987404979832900835521 - 0.000000000040901945715217446334216080633777774287372376785366714049207291112121101703790412j))"
      ]
     },
     "execution_count": 72,
     "metadata": {},
     "output_type": "execute_result"
    }
   ],
   "source": [
    "(\n",
    "    FF_list_niHW[0]['L'](mpf('125.10'),.2,.3,.4,.5,.6,.7,.8,.9,.10),\n",
    "    FF_list_niHW[0]['R'](mpf('125.10'),.2,.3,.4,.5,.6,.7,.8,.9,.10)\n",
    ")"
   ]
  },
  {
   "cell_type": "code",
   "execution_count": 25,
   "metadata": {},
   "outputs": [],
   "source": [
    "# for FF_dict in FF_list_niWH:\n",
    "#     #display(FF_dict['L'])    \n",
    "#     print(FF_dict['L'](mpf('125.10'),2,3,4,5,6,7,8,9,10))"
   ]
  },
  {
   "cell_type": "code",
   "execution_count": 73,
   "metadata": {},
   "outputs": [],
   "source": [
    "# l_niWW = len(FF_list_niWW) #ms_val,mla,mlb,mni_,Ubi_,Ucai_,Xi_phi,xi_lphi\n",
    "# l_niWH = len(FF_list_niWH) #ms_val,mla,mlb,mni_,Ubi_,Ucai_,mHpm,xi_lA,xi_nA,etaphi\n",
    "# l_niHW = len(FF_list_niHW) #ms_val,mla,mlb,mni_,Ubi_,Ucai_,mHpm,xi_lA,xi_nA,etaphi\n",
    "# l_niHH = len(FF_list_niHH) #(ms_val,mla,mlb,mni_,Ubi_,Ucai_,mHpm,\n",
    "#                            #beta,l5,xi_lphi,xi_lA,xi_nA,Dphi,Kphi,Qphi,rhophi)\n",
    "\n",
    "def sum_diagramsOne(m6,aa,bb,ms_val,mHpm,beta,l5,\n",
    "                   xi_lphi,xi_lA,xi_nA,Xi_phi,Dphi,Kphi,Qphi,rhophi,etaphi,quirality='L'):\n",
    "    \n",
    "    mnk,UnuL,UnuR = diagonalizationMnu1(m1,m6)\n",
    "    Unu = UnuL\n",
    "    Unu_dagger = UnuR\n",
    "    mla = ml[aa]\n",
    "    mlb = ml[bb]\n",
    "    if quirality=='L':\n",
    "        pass\n",
    "    elif quirality=='R':\n",
    "        pass\n",
    "    else:\n",
    "        raise ValueError('quirality must be L or R')\n",
    "#     FFOne = 0\n",
    "#     for k in range(1,7):\n",
    "#         for FF_dict in FF_list_niWW:\n",
    "#             FFOne += FF_dict[quirality](ms_val,mla,mlb,\n",
    "#                                    mnk[k-1],Unu[bb-1,k-1],Unu_dagger[k-1,aa-1],\n",
    "#                                    Xi_phi,xi_lphi)\n",
    "        \n",
    "#         for FF_dict in FF_list_niHW:\n",
    "#             FFOne += FF_dict[quirality](ms_val,mla,mlb,\n",
    "#                                    mnk[k-1],Unu[bb-1,k-1],Unu_dagger[k-1,aa-1],\n",
    "#                                    mHpm,xi_lA,xi_nA,etaphi)\n",
    "        \n",
    "#         for FF_dict in FF_list_niWH:\n",
    "#             FFOne += FF_dict[quirality](ms_val,mla,mlb,\n",
    "#                                    mnk[k-1],Unu[bb-1,k-1],Unu_dagger[k-1,aa-1],\n",
    "#                                    mHpm,xi_lA,xi_nA,etaphi)\n",
    "            \n",
    "#         for FF_dict in FF_list_niHH:\n",
    "#             FFOne += FF_dict[quirality](ms_val,mla,mlb,\n",
    "#                                    mnk[k-1],Unu[bb-1,k-1],Unu_dagger[k-1,aa-1],\n",
    "#                                    mHpm,beta,l5,xi_lphi,xi_lA,xi_nA,Dphi,Kphi,Qphi,rhophi)\n",
    "    \n",
    "    FFOne_list = []\n",
    "    for k in range(1,7):\n",
    "        for FF_dict in FF_list_niWW:\n",
    "            FFOne_list.append(FF_dict[quirality](ms_val,mla,mlb,\n",
    "                                   mnk[k-1],Unu[bb-1,k-1],Unu_dagger[k-1,aa-1],\n",
    "                                   Xi_phi,xi_lphi))\n",
    "        \n",
    "        for FF_dict in FF_list_niHW:\n",
    "            FFOne_list.append(FF_dict[quirality](ms_val,mla,mlb,\n",
    "                                   mnk[k-1],Unu[bb-1,k-1],Unu_dagger[k-1,aa-1],\n",
    "                                   mHpm,xi_lA,xi_nA,etaphi))\n",
    "        \n",
    "        for FF_dict in FF_list_niWH:\n",
    "            FFOne_list.append(FF_dict[quirality](ms_val,mla,mlb,\n",
    "                                   mnk[k-1],Unu[bb-1,k-1],Unu_dagger[k-1,aa-1],\n",
    "                                   mHpm,xi_lA,xi_nA,etaphi))\n",
    "            \n",
    "        for FF_dict in FF_list_niHH:\n",
    "            FFOne_list.append(FF_dict[quirality](ms_val,mla,mlb,\n",
    "                                   mnk[k-1],Unu[bb-1,k-1],Unu_dagger[k-1,aa-1],\n",
    "                                   mHpm,beta,l5,xi_lphi,xi_lA,xi_nA,Dphi,Kphi,Qphi,rhophi))\n",
    "    FFOne = sum(FFOne_list)\n",
    "    return FFOne"
   ]
  },
  {
   "cell_type": "code",
   "execution_count": 41,
   "metadata": {},
   "outputs": [],
   "source": [
    "# %%time\n",
    "\n",
    "# sum_diagramsOne(mpf('1e-12'),1,2,mpf('125.10'),mpf('500'),6,7,\n",
    "#                    8,9,10,11,12,13,14,15,16,'L')"
   ]
  },
  {
   "cell_type": "code",
   "execution_count": 74,
   "metadata": {},
   "outputs": [],
   "source": [
    "from modelos_2HDM import typeI_h, typeII_h, Lepton_specific_h,Flipped_h"
   ]
  },
  {
   "cell_type": "code",
   "execution_count": 75,
   "metadata": {},
   "outputs": [],
   "source": [
    "def numeric_sum_diagramsOne(ms,a,b,mHpm, mA, alpha, beta, l5,\n",
    "                            type_2HDM=typeI_h,quirality='L'):\n",
    "    if quirality=='L':\n",
    "        pass\n",
    "    elif quirality=='R':\n",
    "        pass\n",
    "    else:\n",
    "        raise ValueError('quirality must be L or R')\n",
    "    Kphi =  4*mA**2 - 3*ms**2- 2*mHpm**2\n",
    "    Qphi = ms**2 - 2*mHpm**2\n",
    "    \n",
    "    Yuk_common = type_2HDM(alpha,beta)\n",
    "    xi_lphi, xi_nphi, xi_lA, xi_nA, Xi_phi, etaphi,rhophi,Dphi = Yuk_common\n",
    "    def FFOne(m6):\n",
    "        out = sum_diagramsOne(m6,a,b,ms,mHpm,beta,l5,\n",
    "                   xi_lphi,xi_lA,xi_nA,Xi_phi,Dphi,Kphi,Qphi,rhophi,etaphi,quirality)\n",
    "        return out\n",
    "    return FFOne"
   ]
  },
  {
   "cell_type": "code",
   "execution_count": 76,
   "metadata": {},
   "outputs": [
    {
     "name": "stdout",
     "output_type": "stream",
     "text": [
      "(3.80084e-33 + 3.9612e-33j)\n",
      "CPU times: user 38.9 s, sys: 3.92 ms, total: 38.9 s\n",
      "Wall time: 38.9 s\n"
     ]
    }
   ],
   "source": [
    "%%time\n",
    "nprint(numeric_sum_diagramsOne(mpf('500.1'),1,2,mpf('550'), mpf('600'), 0.1, 0.2, 0.1,\n",
    "                               type_2HDM=typeI_h,quirality='L')(mpf('1e-12')))"
   ]
  },
  {
   "cell_type": "markdown",
   "metadata": {},
   "source": [
    "**Elegir modelos**"
   ]
  },
  {
   "cell_type": "code",
   "execution_count": 39,
   "metadata": {},
   "outputs": [],
   "source": [
    "modelo = 'I'\n",
    "H_a = 'h'"
   ]
  },
  {
   "cell_type": "code",
   "execution_count": 27,
   "metadata": {},
   "outputs": [],
   "source": [
    "def ALOneTot23(ms,m6,mHpm, mA, alpha, beta, l5,H_a='h',type_2HDM='I'):\n",
    "    return numeric_sum_diagramsOne(ms,2,3,mHpm, mA, alpha, beta, l5,\n",
    "                                   H_a=H_a,type_2HDM=type_2HDM,quirality='L')(m6)\n",
    "def AROneTot23(ms,m6,mHpm, mA, alpha, beta, l5,H_a='h',type_2HDM='I'):\n",
    "    return numeric_sum_diagramsOne(ms,2,3,mHpm, mA, alpha, beta, l5,\n",
    "                                   H_a=H_a,type_2HDM=type_2HDM,quirality='R')(m6)\n",
    "\n",
    "\n",
    "def ALOneTot13(ms,m6,mHpm, mA, alpha, beta, l5,H_a='h',type_2HDM='I'):\n",
    "    return numeric_sum_diagramsOne(ms,1,3,mHpm, mA, alpha, beta, l5,\n",
    "                                   H_a=H_a,type_2HDM=type_2HDM,quirality='L')(m6)\n",
    "def AROneTot13(ms,m6,mHpm, mA, alpha, beta, l5,H_a='h',type_2HDM='I'):\n",
    "    return numeric_sum_diagramsOne(ms,1,3,mHpm, mA, alpha, beta, l5,\n",
    "                                   H_a=H_a,type_2HDM=type_2HDM,quirality='R')(m6)\n",
    "\n",
    "\n",
    "def ALOneTot12(ms,m6,mHpm, mA, alpha, beta, l5,H_a='h',type_2HDM='I'):\n",
    "    return numeric_sum_diagramsOne(ms,1,2,mHpm, mA, alpha, beta, l5,\n",
    "                                   H_a=H_a,type_2HDM=type_2HDM,quirality='L')(m6)\n",
    "def AROneTot12(ms,m6,mHpm, mA, alpha, beta, l5,H_a='h',type_2HDM='I'):\n",
    "    return numeric_sum_diagramsOne(ms,1,2,mHpm, mA, alpha, beta, l5,\n",
    "                                   H_a=H_a,type_2HDM=type_2HDM,quirality='R')(m6)\n"
   ]
  },
  {
   "cell_type": "code",
   "execution_count": 28,
   "metadata": {},
   "outputs": [
    {
     "name": "stdout",
     "output_type": "stream",
     "text": [
      "(-6.17795e-12 - 5.05853e-12j)\n",
      "CPU times: user 45.2 s, sys: 15.8 ms, total: 45.2 s\n",
      "Wall time: 45.2 s\n"
     ]
    }
   ],
   "source": [
    "%%time\n",
    "nprint(ALOneTot13(mpf('125.1'),mpf('1e-12'),mpf('500'), mpf('600'), 0.1, 0.2, 0.2,\n",
    "          H_a='h',type_2HDM='I'))"
   ]
  },
  {
   "cell_type": "code",
   "execution_count": 42,
   "metadata": {},
   "outputs": [],
   "source": [
    "n = 10\n",
    "expmp = linspace(-1,15,n)\n",
    "m6np = np.array([mpf('10.0')**k for k in expmp])#np.logspace(-1,15,n)"
   ]
  },
  {
   "cell_type": "code",
   "execution_count": 43,
   "metadata": {},
   "outputs": [],
   "source": [
    "def ALOneTot23_caso1(m6):\n",
    "    return ALOneTot23(mpf('125.1'),m6,mpf('500'), mpf('600'), 0.1, 0.2, mpf('1e-10'),\n",
    "                      H_a='h',type_2HDM='I')\n",
    "    \n",
    "def ALOneTot13_caso1(m6):\n",
    "    return ALOneTot13(mpf('125.1'),m6,mpf('500'), mpf('600'), 0.1, 0.2, mpf('1e-10'),\n",
    "                      H_a='h',type_2HDM='I')\n",
    "def ALOneTot12_caso1(m6):\n",
    "    return ALOneTot12(mpf('125.1'),m6,mpf('500'), mpf('600'), 0.1, 0.2, mpf('1e-10'),\n",
    "                      H_a='h',type_2HDM='I')"
   ]
  },
  {
   "cell_type": "code",
   "execution_count": 58,
   "metadata": {},
   "outputs": [
    {
     "name": "stdout",
     "output_type": "stream",
     "text": [
      "CPU times: user 1.28 s, sys: 809 ms, total: 2.09 s\n",
      "Wall time: 12min 4s\n"
     ]
    }
   ],
   "source": [
    "%%time\n",
    "YLOne23 = speedup_array(ALOneTot23_caso1,m6np)\n",
    "\n",
    "YLOne13 = speedup_array(ALOneTot13_caso1,m6np)\n",
    "\n",
    "YLOne12 = speedup_array(ALOneTot12_caso1,m6np)"
   ]
  },
  {
   "cell_type": "code",
   "execution_count": 59,
   "metadata": {},
   "outputs": [
    {
     "data": {
      "text/plain": [
       "<matplotlib.legend.Legend at 0x7f8d5a9c35d0>"
      ]
     },
     "execution_count": 59,
     "metadata": {},
     "output_type": "execute_result"
    },
    {
     "data": {
      "image/png": "[encoded data removed]",
      "text/plain": [
       "<Figure size 1080x576 with 1 Axes>"
      ]
     },
     "metadata": {
      "needs_background": "light"
     },
     "output_type": "display_data"
    }
   ],
   "source": [
    "plt.figure(figsize=(15,8))\n",
    "plt.loglog(np.real(m6np),abs(YLOne23)**2,'-.',label='$A_L^{(1)}(2,3)$')\n",
    "#plt.loglog(np.real(m6np),abs(YLOne32)**2,'--',label='$A_L^{(1)}(3,2)$')\n",
    "\n",
    "plt.loglog(np.real(m6np),abs(YLOne13)**2,'-.',label='$A_L^{(1)}(1,3)$')\n",
    "#plt.loglog(np.real(m6np),abs(YLOne31)**2,'--',label='$A_L^{(1)}(3,1)$')\n",
    "\n",
    "plt.loglog(np.real(m6np),abs(YLOne12)**2,'-.',label='$A_L^{(1)}(1,2)$')\n",
    "#plt.loglog(np.real(m6np),abs(YLOne21)**2,'--',label='$A_L^{(1)}(2,1)$')\n",
    "plt.xticks(fontsize=15)\n",
    "plt.yticks(fontsize=15)\n",
    "\n",
    "plt.legend(fontsize=15)"
   ]
  },
  {
   "cell_type": "markdown",
   "metadata": {
    "tags": []
   },
   "source": [
    "### Form factor with two fermion in the loop."
   ]
  },
  {
   "cell_type": "code",
   "execution_count": 29,
   "metadata": {},
   "outputs": [
    {
     "data": {
      "image/png": "[encoded data removed]",
      "text/latex": [
       "$\\displaystyle \\left\\{ {C}_{i,j} : C_{ij}, \\  {{{C^*}}}_{i,j} : {{C_{ij}^*}}, \\  {{{U^\\nu}}}_{b,j} : U_{bj}, \\  {{{U^{\\nu *}}}}_{a,i} : {{U_{ai}^*}}, \\  {{{m_n}}}_{i} : m_{n_i}, \\  {{{m_n}}}_{j} : m_{n_j}\\right\\}$"
      ],
      "text/plain": [
       "{C[i, j]: C_{ij}, {{C^*}}[i, j]: {{C_{ij}__*}}, {{U^\\nu}}[b, j]: U_{bj}, {{U^{\n",
       "\\nu *}}}[a, i]: {{U_{ai}__*}}, {{m_n}}[i]: m_{n_i}, {{m_n}}[j]: m_{n_j}}"
      ]
     },
     "execution_count": 29,
     "metadata": {},
     "output_type": "execute_result"
    }
   ],
   "source": [
    "mnj = symbols('m_{n_j}',positive=True)\n",
    "Cijs, Cijcs, Ubj = symbols('C_{ij}, {{C_{ij}^*}},U_{bj}')\n",
    "UnuTwo = {mn[i]:mni,mn[jj]:mnj,C[i,jj]:Cijs, Cc[i,jj]:Cijcs, Uν[b,jj]:Ubj, Uνc[a,i]:Ucai}\n",
    "UnuTwo"
   ]
  },
  {
   "cell_type": "code",
   "execution_count": 30,
   "metadata": {},
   "outputs": [],
   "source": [
    "C0_mp_Wninj = lambda ms,mni_,mnj_: lfvhd_mp.C0(ms,mW_val,mni_,mnj_)\n",
    "C1_mp_Wninj = lambda ms,mni_,mnj_,mla: lfvhd_mp.C1(ms,mla,mW_val,mni_,mnj_)\n",
    "C2_mp_Wninj = lambda ms,mni_,mnj_,mlb: lfvhd_mp.C2(ms,mlb,mW_val,mni_,mnj_)\n",
    "B120_mp_Wninj = lambda ms,mni_,mnj_: lfvhd_mp.B12_0(ms,mni_,mnj_)\n",
    "# B10_mp_Wninj = lambda mni_,mla: lfvhd_mp.B1_0(mla,mW_val,mni_)\n",
    "# B11_mp_Wninj = lambda mni_,mla: lfvhd_mp.B1_1(mla,mW_val,mni_)\n",
    "# B20_mp_Wninj = lambda mnj_,mlb: lfvhd_mp.B2_0(mlb,mW_val,mnj_)\n",
    "# B21_mp_Wninj = lambda mnj_,mlb: lfvhd_mp.B2_1(mlb,mW_val,mnj_)\n",
    "\n",
    "###################3\n",
    "FF_list_Wninj = []#.subs(lfvhd.D,4).subs(cambios_hab(a,b)).subs(valores).subs(UnuTwo)\n",
    "for dia_Wninj in DiagramasWninj:\n",
    "    A_sp_WninjL = lambda mla,mlb: dia_Wninj.AL().subs(cambiosWninj).subs(lfvhd.D,4\n",
    "                    ).simplify().subs(cambios_lab(mla,mlb)).subs(valoresSM).subs(UnuTwo)\n",
    "    A_sp_WninjR = lambda mla,mlb: dia_Wninj.AR().subs(cambiosWninj).subs(lfvhd.D,4\n",
    "                    ).simplify().subs(cambios_lab(mla,mlb)).subs(valoresSM).subs(UnuTwo)\n",
    "    \n",
    "    \n",
    "    #display(A_sp_WninjL(ml[1],ml[2]).atoms(Symbol))\n",
    "    A_lamb_WninjL = lambda mla,mlb: lambdify([lfvhd.ma,mni,mnj,Ubj,Ucai,Cijs,Cijcs,ξnϕ,\n",
    "                   C0_sp,C1_sp,B120_sp], A_sp_WninjL(mla,mlb),'mpmath')\n",
    "    \n",
    "    A_lamb_WninjR = lambda mla,mlb: lambdify([lfvhd.ma,mni,mnj,Ubj,Ucai,Cijs,Cijcs,ξnϕ,\n",
    "                   C0_sp,C2_sp,B120_sp], A_sp_WninjR(mla,mlb),'mpmath')\n",
    "    \n",
    "    \n",
    "    #.subs(typeI_ξh).subs(common_factor_h).subs(lfvhd.ma,mh).subs(mh,mpf('125.10'))\n",
    "    def FFWninjL(ms_val,mla,mlb,mni_,mnj_,Ubj_,Ucai_,Cijs_,Cijcs_,xi_nphi):\n",
    "        return A_lamb_WninjL(mla,mlb)(\n",
    "            ms_val,mni_,mnj_,Ubj_,Ucai_,Cijs_,Cijcs_,xi_nphi,\n",
    "            C0_mp_Wninj(ms_val,mni_,mnj_),C1_mp_Wninj(ms_val,mni_,mnj_,mla),\n",
    "            B120_mp_Wninj(ms_val,mni_,mnj_)\n",
    "        )\n",
    "    def FFWninjR(ms_val,mla,mlb,mni_,mnj_,Ubj_,Ucai_,Cijs_,Cijcs_,xi_nphi):\n",
    "        return A_lamb_WninjR(mla,mlb)(\n",
    "            ms_val,mni_,mnj_,Ubj_,Ucai_,Cijs_,Cijcs_,xi_nphi,\n",
    "            C0_mp_Wninj(ms_val,mni_,mnj_),\n",
    "            C2_mp_Wninj(ms_val,mni_,mnj_,mlb),B120_mp_Wninj(ms_val,mni_,mnj_)\n",
    "        )\n",
    "    \n",
    "    \n",
    "    \n",
    "    FF_list_Wninj.append({'L':FFWninjL,'R':FFWninjR})#"
   ]
  },
  {
   "cell_type": "code",
   "execution_count": 44,
   "metadata": {},
   "outputs": [
    {
     "name": "stdout",
     "output_type": "stream",
     "text": [
      "CPU times: user 1.11 s, sys: 8.08 ms, total: 1.11 s\n",
      "Wall time: 1.12 s\n"
     ]
    },
    {
     "data": {
      "text/plain": [
       "((0.0000000000017705687573692845226830342322575913284629938031043117383230022397465281147393444 - 0.000000000027896947980710833082089199285464130145801616380458756295392473804415769560146124j),\n",
       " (0.0000000000022906273006951853616847919270021939857193310932257760616450724898201590038145356 - 0.000000000039382506274601512958113572101742007705343883191515987986071884978427412632233882j))"
      ]
     },
     "execution_count": 44,
     "metadata": {},
     "output_type": "execute_result"
    }
   ],
   "source": [
    "%%time\n",
    "(\n",
    "    FF_list_Wninj[0]['L'](mpf('125.10'),.2,.3,.4,.5,.6,.7,.8,.9,.10),\n",
    "    FF_list_Wninj[0]['R'](mpf('125.10'),.2,.3,.4,.5,.6,.7,.8,.9,.10)\n",
    ")"
   ]
  },
  {
   "cell_type": "code",
   "execution_count": 31,
   "metadata": {},
   "outputs": [],
   "source": [
    "C0_mp_Hninj = lambda ms,mni_,mnj_,mHpm: lfvhd_mp.C0(ms,mHpm,mni_,mnj_)\n",
    "C1_mp_Hninj = lambda ms,mni_,mnj_,mla,mHpm: lfvhd_mp.C1(ms,mla,mHpm,mni_,mnj_)\n",
    "C2_mp_Hninj = lambda ms,mni_,mnj_,mlb,mHpm: lfvhd_mp.C2(ms,mlb,mHpm,mni_,mnj_)\n",
    "B120_mp_Hninj = lambda ms,mni_,mnj_: lfvhd_mp.B12_0(ms,mni_,mnj_)\n",
    "# B10_mp_Hninj = lambda mni_,mla,mHpm: lfvhd_mp.B1_0(mla,mHpm,mni_)\n",
    "# B11_mp_Hninj = lambda mni_,mla,mHpm: lfvhd_mp.B1_1(mla,mHpm,mni_)\n",
    "# B20_mp_Hninj = lambda mnj_,mlb,mHpm: lfvhd_mp.B2_0(mlb,mHpm,mnj_)\n",
    "# B21_mp_Hninj = lambda mnj_,mlb,mHpm: lfvhd_mp.B2_1(mlb,mHpm,mnj_)\n",
    "\n",
    "###################3\n",
    "FF_list_Hninj = []#.subs(lfvhd.D,4).subs(cambios_hab(a,b)).subs(valores).subs(UnuTwo)\n",
    "for dia_Hninj in DiagramasHninj:\n",
    "    A_sp_HninjL = lambda mla,mlb: dia_Hninj.AL().subs(cambiosHninj).subs(lfvhd.D,4\n",
    "                    ).simplify().subs(cambios_lab(mla,mlb)).subs(valoresSM).subs(UnuTwo)\n",
    "    A_sp_HninjR = lambda mla,mlb: dia_Hninj.AR().subs(cambiosHninj).subs(lfvhd.D,4\n",
    "                    ).simplify().subs(cambios_lab(mla,mlb)).subs(valoresSM).subs(UnuTwo)\n",
    "    \n",
    "    \n",
    "    #display(A_sp_HninjL(ml[1],ml[2]).atoms(Symbol))\n",
    "    A_lamb_HninjL = lambda mla,mlb: lambdify([lfvhd.ma,mni,mnj,Ubj,Ucai,Cijs,Cijcs,mHpm,\n",
    "                ξnϕ,ξnA,ξlA,C0_sp,C1_sp,C2_sp,B120_sp], A_sp_HninjL(mla,mlb),'mpmath')\n",
    "    \n",
    "    A_lamb_HninjR = lambda mla,mlb: lambdify([lfvhd.ma,mni,mnj,Ubj,Ucai,Cijs,Cijcs,mHpm,\n",
    "                ξnϕ,ξnA,ξlA,C0_sp,C1_sp,C2_sp,B120_sp], A_sp_HninjR(mla,mlb),'mpmath')\n",
    "    \n",
    "    \n",
    "    #.subs(typeI_ξh).subs(common_factor_h).subs(lfvhd.ma,mh).subs(mh,mpf('125.10'))\n",
    "    def FFHninjL(ms_val,mla,mlb,mni_,mnj_,Ubj_,Ucai_,Cijs_,Cijcs_,mHpm,\n",
    "                 xi_nphi,xi_nA,xi_lA):\n",
    "        return A_lamb_HninjL(mla,mlb)(\n",
    "            ms_val,mni_,mnj_,Ubj_,Ucai_,Cijs_,Cijcs_,mHpm,\n",
    "            xi_nphi,xi_nA,xi_lA,\n",
    "            C0_mp_Hninj(ms_val,mni_,mnj_,mHpm),C1_mp_Hninj(ms_val,mni_,mnj_,mla,mHpm),\n",
    "            C2_mp_Hninj(ms_val,mni_,mnj_,mlb,mHpm),B120_mp_Hninj(ms_val,mni_,mnj_)\n",
    "        )\n",
    "    def FFHninjR(ms_val,mla,mlb,mni_,mnj_,Ubj_,Ucai_,Cijs_,Cijcs_,mHpm,\n",
    "                 xi_nphi,xi_nA,xi_lA):\n",
    "        return A_lamb_HninjR(mla,mlb)(\n",
    "            ms_val,mni_,mnj_,Ubj_,Ucai_,Cijs_,Cijcs_,mHpm,\n",
    "            xi_nphi,xi_nA,xi_lA,\n",
    "            C0_mp_Hninj(ms_val,mni_,mnj_,mHpm),C1_mp_Hninj(ms_val,mni_,mnj_,mla,mHpm),\n",
    "            C2_mp_Hninj(ms_val,mni_,mnj_,mlb,mHpm),B120_mp_Hninj(ms_val,mni_,mnj_)\n",
    "        )\n",
    "    \n",
    "    FF_list_Hninj.append({'L':FFHninjL,'R':FFHninjR})#"
   ]
  },
  {
   "cell_type": "code",
   "execution_count": 54,
   "metadata": {},
   "outputs": [
    {
     "name": "stdout",
     "output_type": "stream",
     "text": [
      "CPU times: user 7.11 s, sys: 19.9 ms, total: 7.13 s\n",
      "Wall time: 7.13 s\n"
     ]
    },
    {
     "data": {
      "text/plain": [
       "((0.0000000000003567424273110642758754818137234537643188627944602530353340147113119297077800788 - 0.00000000000014647975419882433747957415124397106246415294901433072809760218424470669069469899j),\n",
       " (0.00000000000043373979285590803253763899246677015633638807064745524500178254147041359767655619 - 0.00000000000017807838430186369275684514226616192034594327132568622038835301673397475388937348j))"
      ]
     },
     "execution_count": 54,
     "metadata": {},
     "output_type": "execute_result"
    }
   ],
   "source": [
    "%%time\n",
    "(\n",
    "    FF_list_Hninj[0]['L'](mpf('125.10'),.2,.3,.4,.5,.6,.7,.8,.9,.10,.11,.12,.13),\n",
    "    FF_list_Hninj[0]['R'](mpf('125.10'),.2,.3,.4,.5,.6,.7,.8,.9,.10,.11,.12,.13)\n",
    ")"
   ]
  },
  {
   "cell_type": "markdown",
   "metadata": {},
   "source": [
    "**Cambiar modelo o scalar**"
   ]
  },
  {
   "cell_type": "code",
   "execution_count": 32,
   "metadata": {},
   "outputs": [],
   "source": [
    "# Wninj:   ms_val,mla,mlb,mni_,mnj_,Ubj_,Ucai_,Cijs_,Cijcs_,xi_nphi\n",
    "# Hninj:   ms_val,mla,mlb,mni_,mnj_,Ubj_,Ucai_,Cijs_,Cijcs_,mHpm,xi_nphi,xi_nA,xi_lA\n",
    "def sum_diagramsTwo(m6,a,b,ms_val,mHpm,xi_nphi,xi_nA,xi_lA,quirality='L'):\n",
    "    FFTwo = 0\n",
    "    mnk,UnuL,UnuR = diagonalizationMnu1(m1,m6)\n",
    "    Unu = UnuL\n",
    "    Unu_dagger = UnuR\n",
    "    Cij = lambda i,j: mp.fsum([Unu[c,i]*Unu_dagger[j,c] for c in range(3)])\n",
    "    \n",
    "    mla = ml[a]\n",
    "    mlb = ml[b]\n",
    "    if quirality=='L':\n",
    "        pass\n",
    "    elif quirality=='R':\n",
    "        pass\n",
    "    else:\n",
    "        raise ValueError('quirality must be L or R')\n",
    "        \n",
    "    for p in range(1,7):\n",
    "        for q in range(1,7):\n",
    "            for FF_dict in FF_list_Wninj:\n",
    "                FFTwo += FF_dict[quirality](ms_val,mla,mlb,\n",
    "                        mnk[p-1],mnk[q-1],Unu[b-1,q-1],Unu_dagger[p-1,a-1],\n",
    "                  Cij(p-1,q-1),conj(Cij(p-1,q-1)),xi_nphi)\n",
    "                \n",
    "            for FF_dict in FF_list_Hninj:\n",
    "                FFTwo += FF_dict[quirality](ms_val,mla,mlb,\n",
    "                                            mnk[p-1],mnk[q-1],\n",
    "                                            Unu[b-1,q-1],Unu_dagger[p-1,a-1],\n",
    "                                            Cij(p-1,q-1),conj(Cij(p-1,q-1)),\n",
    "                                            mHpm,xi_nphi,xi_nA,xi_lA)\n",
    "        \n",
    "    return FFTwo"
   ]
  },
  {
   "cell_type": "code",
   "execution_count": 63,
   "metadata": {},
   "outputs": [
    {
     "name": "stdout",
     "output_type": "stream",
     "text": [
      "CPU times: user 2min 41s, sys: 300 ms, total: 2min 42s\n",
      "Wall time: 2min 42s\n"
     ]
    },
    {
     "data": {
      "text/plain": [
       "(-8.13532710660670173660903551608e-34 + 6.90218697696807622602304726228e-33j)"
      ]
     },
     "execution_count": 63,
     "metadata": {},
     "output_type": "execute_result"
    }
   ],
   "source": [
    "# %%time\n",
    "# sum_diagramsTwo(mpf('1e-12'),1,2,mpf('125.1'),mpf('500.0'),6,7,8,quirality='L')"
   ]
  },
  {
   "cell_type": "code",
   "execution_count": 33,
   "metadata": {},
   "outputs": [],
   "source": [
    "def numeric_sum_diagramsTwo(ms,a,b,mHpm, alpha, beta,\n",
    "                            H_a='h',type_2HDM='I',quirality='L'):\n",
    "    if quirality=='L':\n",
    "        pass\n",
    "    elif quirality=='R':\n",
    "        pass\n",
    "    else:\n",
    "        raise ValueError('quirality must be L or R')\n",
    "    \n",
    "    type_2HDM = type_2HDM.upper()\n",
    "    if type_2HDM == 'I':\n",
    "        Yuk_common = typeI(alpha,beta,H_a)\n",
    "    elif type_2HDM == 'II':\n",
    "        Yuk_common = typeII(alpha,beta,H_a)\n",
    "    elif type_2HDM == 'Lepton-specific'.upper():\n",
    "        Yuk_common = Lepton_specific(alpha,beta,H_a)\n",
    "    elif type_2HDM == 'Flipped'.upper():\n",
    "        Yuk_common = Flipped(alpha,beta,H_a)\n",
    "    else:\n",
    "        raise ValueError('The possible values for type_2HDM are \"I\", \"II\", \"Lepton-specific\" and \"Flipped\"')\n",
    "    \n",
    "    xi_lphi, xi_nphi, xi_lA, xi_nA, Xi_phi, etaphi,rhophi,Dphi = Yuk_common\n",
    "    def FFTwo(m6):\n",
    "        out = sum_diagramsTwo(m6,a,b,ms,mHpm,xi_nphi,xi_nA,xi_lA,quirality)\n",
    "        return out\n",
    "    return FFTwo"
   ]
  },
  {
   "cell_type": "code",
   "execution_count": 68,
   "metadata": {},
   "outputs": [
    {
     "data": {
      "text/plain": [
       "(-2.8749850191227412847496033399e-34 + 2.51286401087166647909273022273e-33j)"
      ]
     },
     "execution_count": 68,
     "metadata": {},
     "output_type": "execute_result"
    }
   ],
   "source": [
    "# numeric_sum_diagramsTwo(mpf('125.1'),1,2,mpf('500.0'), 0.1, 0.2,\n",
    "#                             H_a='h',type_2HDM='I',quirality='L')(mpf('1e-12'))"
   ]
  },
  {
   "cell_type": "code",
   "execution_count": 34,
   "metadata": {},
   "outputs": [],
   "source": [
    "def ALTwoTot23(ms,m6,mHpm,alpha,beta,H_a='h',type_2HDM='I'):\n",
    "    return numeric_sum_diagramsTwo(ms,2,3,mHpm, alpha, beta,\n",
    "                                   H_a=H_a,type_2HDM=type_2HDM,quirality='L')(m6)\n",
    "def ARTwoTot23(ms,m6,mHpm,alpha,beta,H_a='h',type_2HDM='I'):\n",
    "    return numeric_sum_diagramsTwo(ms,2,3,mHpm, alpha, beta,\n",
    "                                   H_a=H_a,type_2HDM=type_2HDM,quirality='R')(m6)\n",
    "\n",
    "def ALTwoTot13(ms,m6,mHpm,alpha,beta,H_a='h',type_2HDM='I'):\n",
    "    return numeric_sum_diagramsTwo(ms,1,3,mHpm, alpha, beta,\n",
    "                                   H_a=H_a,type_2HDM=type_2HDM,quirality='L')(m6)\n",
    "def ARTwoTot13(ms,m6,mHpm,alpha,beta,H_a='h',type_2HDM='I'):\n",
    "    return numeric_sum_diagramsTwo(ms,1,3,mHpm, alpha, beta,\n",
    "                                   H_a=H_a,type_2HDM=type_2HDM,quirality='R')(m6)\n",
    "\n",
    "def ALTwoTot12(ms,m6,mHpm,alpha,beta,H_a='h',type_2HDM='I'):\n",
    "    return numeric_sum_diagramsTwo(ms,1,2,mHpm, alpha, beta,\n",
    "                                   H_a=H_a,type_2HDM=type_2HDM,quirality='L')(m6)\n",
    "def ARTwoTot12(ms,m6,mHpm,alpha,beta,H_a='h',type_2HDM='I'):\n",
    "    return numeric_sum_diagramsTwo(ms,1,2,mHpm, alpha, beta,\n",
    "                                   H_a=H_a,type_2HDM=type_2HDM,quirality='R')(m6)"
   ]
  },
  {
   "cell_type": "code",
   "execution_count": 35,
   "metadata": {},
   "outputs": [
    {
     "name": "stdout",
     "output_type": "stream",
     "text": [
      "(-2.13556e-31 + 1.44312e-31j)\n",
      "CPU times: user 2min 37s, sys: 63.4 ms, total: 2min 37s\n",
      "Wall time: 2min 37s\n"
     ]
    }
   ],
   "source": [
    "%%time\n",
    "nprint(ALTwoTot23(mpf('125.1'),mpf('1e-12'),mpf('500'),0.1,0.2))"
   ]
  },
  {
   "cell_type": "code",
   "execution_count": 50,
   "metadata": {},
   "outputs": [],
   "source": [
    "# def ALTwoTot23(m6,mHpm_n,alpha,beta):\n",
    "#     return totaltwo(m6,2,3,mHpm_n,alpha,beta,quirality='L')\n",
    "# def ARTwoTot23(m6,mHpm_n,alpha,beta): \n",
    "#     return totaltwo(m6,2,3,mHpm_n,alpha,beta,quirality='R')\n",
    "\n",
    "# def ALTwoTot13(m6,mHpm_n,alpha,beta): \n",
    "#     return totaltwo(m6,1,3,mHpm_n,alpha,beta,quirality='L')\n",
    "# def ARTwoTot13(m6,mHpm_n,alpha,beta): \n",
    "#     return totaltwo(m6,1,3,mHpm_n,alpha,beta,quirality='R')\n",
    "\n",
    "# def ALTwoTot12(m6,mHpm_n,alpha,beta): \n",
    "#     return totaltwo(m6,1,2,mHpm_n,alpha,beta,quirality='L')\n",
    "# def ARTwoTot12(m6,mHpm_n,alpha,beta): \n",
    "#     return totaltwo(m6,1,2,mHpm_n,alpha,beta,quirality='R')"
   ]
  },
  {
   "cell_type": "code",
   "execution_count": 73,
   "metadata": {},
   "outputs": [],
   "source": [
    "# nprint((abs(ALTwoTot23(mp.mpf('1000.0'),mHpm_val,α_val,β_val))))\n",
    "# nprint((abs(ALTwoTot13(mp.mpf('1000.0'),mHpm_val,α_val,β_val))))\n",
    "# nprint((abs(ALTwoTot12(mp.mpf('1000.0'),mHpm_val,α_val,β_val))))"
   ]
  },
  {
   "cell_type": "markdown",
   "metadata": {},
   "source": [
    "## Total Form Factors"
   ]
  },
  {
   "cell_type": "code",
   "execution_count": 36,
   "metadata": {},
   "outputs": [],
   "source": [
    "#a = 2, b = 3\n",
    "def ALtot23(ms,m6,mHpm, mA, alpha, beta, l5,H_a='h',type_2HDM='I'):\n",
    "    ALOne = ALOneTot23(ms,m6,mHpm, mA, alpha, beta, l5,H_a=H_a,type_2HDM=type_2HDM)\n",
    "    ALTwo = ALTwoTot23(ms,m6,mHpm,alpha,beta,H_a=H_a,type_2HDM=type_2HDM)\n",
    "    return  ALOne + ALTwo\n",
    "\n",
    "def ARtot23(ms,m6,mHpm, mA, alpha, beta, l5,H_a='h',type_2HDM='I'):\n",
    "    AROne = AROneTot23(ms,m6,mHpm, mA, alpha, beta, l5,H_a=H_a,type_2HDM=type_2HDM)\n",
    "    ARTwo = ARTwoTot23(ms,m6,mHpm,alpha,beta,H_a=H_a,type_2HDM=type_2HDM)\n",
    "    return  AROne + ARTwo\n",
    "\n",
    "#a = 1, b = 3\n",
    "def ALtot13(ms,m6,mHpm, mA, alpha, beta, l5,H_a='h',type_2HDM='I'):\n",
    "    ALOne = ALOneTot13(ms,m6,mHpm, mA, alpha, beta, l5,H_a=H_a,type_2HDM=type_2HDM)\n",
    "    ALTwo = ALTwoTot13(ms,m6,mHpm,alpha,beta,H_a=H_a,type_2HDM=type_2HDM)\n",
    "    return  ALOne + ALTwo\n",
    "\n",
    "def ARtot13(ms,m6,mHpm, mA, alpha, beta, l5,H_a='h',type_2HDM='I'):\n",
    "    AROne = AROneTot13(ms,m6,mHpm, mA, alpha, beta, l5,H_a=H_a,type_2HDM=type_2HDM)\n",
    "    ARTwo = ARTwoTot13(ms,m6,mHpm,alpha,beta,H_a=H_a,type_2HDM=type_2HDM)\n",
    "    return  AROne + ARTwo\n",
    "\n",
    "#a = 1, b = 2\n",
    "def ALtot12(ms,m6,mHpm, mA, alpha, beta, l5,H_a='h',type_2HDM='I'):\n",
    "    ALOne = ALOneTot12(ms,m6,mHpm, mA, alpha, beta, l5,H_a=H_a,type_2HDM=type_2HDM)\n",
    "    ALTwo = ALTwoTot12(ms,m6,mHpm,alpha,beta,H_a=H_a,type_2HDM=type_2HDM)\n",
    "    return  ALOne + ALTwo\n",
    "\n",
    "def ARtot12(ms,m6,mHpm, mA, alpha, beta, l5,H_a='h',type_2HDM='I'):\n",
    "    AROne = AROneTot12(ms,m6,mHpm, mA, alpha, beta, l5,H_a=H_a,type_2HDM=type_2HDM)\n",
    "    ARTwo = ARTwoTot12(ms,m6,mHpm,alpha,beta,H_a=H_a,type_2HDM=type_2HDM)\n",
    "    return  AROne + ARTwo\n"
   ]
  },
  {
   "cell_type": "code",
   "execution_count": 37,
   "metadata": {},
   "outputs": [
    {
     "name": "stdout",
     "output_type": "stream",
     "text": [
      "CPU times: user 3min 21s, sys: 35.9 ms, total: 3min 21s\n",
      "Wall time: 3min 21s\n"
     ]
    },
    {
     "data": {
      "text/plain": [
       "(-0.0000000015623480676113146994667296318302542351510090950749148953279253972544954388091854 + 0.00000000027557007983568038314489859630696092503399750064526353749584391765189557678418066j)"
      ]
     },
     "execution_count": 37,
     "metadata": {},
     "output_type": "execute_result"
    }
   ],
   "source": [
    "%%time\n",
    "ALtot23(mpf('125.1'),mpf('1e-12'),mpf('500'), mpf('600'), 0.1, 0.2, 0.2,\n",
    "          H_a='h',type_2HDM='Flipped')"
   ]
  },
  {
   "cell_type": "code",
   "execution_count": 142,
   "metadata": {},
   "outputs": [],
   "source": [
    "# def ALtot23_caso1(tb):\n",
    "#     return ALtot23(m6_val,mHpm_n=mHpm_val, mA_n=mA_val,alpha=alphaf(tb),beta=betaf(tb),l5=l5_val)\n",
    "# def ARtot23_caso1(tb):\n",
    "#     return ARtot23(m6_val,mHpm_n=mHpm_val, mA_n=mA_val,alpha=alphaf(tb),beta=betaf(tb),l5=l5_val)\n",
    "\n",
    "\n",
    "# def ALtot13_caso1(tb):\n",
    "#     return ALtot13(m6_val,mHpm_n=mHpm_val, mA_n=mA_val,alpha=alphaf(tb),beta=betaf(tb),l5=l5_val)\n",
    "# def ARtot13_caso1(tb):\n",
    "#     return ARtot13(m6_val,mHpm_n=mHpm_val, mA_n=mA_val,alpha=alphaf(tb),beta=betaf(tb),l5=l5_val)\n",
    "\n",
    "\n",
    "# def ALtot12_caso1(tb):\n",
    "#     return ALtot12(m6_val,mHpm_n=mHpm_val, mA_n=mA_val,alpha=alphaf(tb),beta=betaf(tb),l5=l5_val)\n",
    "# def ARtot12_caso1(tb):\n",
    "#     return ARtot12(m6_val,mHpm_n=mHpm_val, mA_n=mA_val,alpha=alphaf(tb),beta=betaf(tb),l5=l5_val)"
   ]
  },
  {
   "cell_type": "markdown",
   "metadata": {},
   "source": [
    "## Width decay of $h \\to e_a e_b$"
   ]
  },
  {
   "cell_type": "code",
   "execution_count": 38,
   "metadata": {},
   "outputs": [],
   "source": [
    "from OneLoopLFVHD import Γhlilj \n",
    "# def Γhlilj(ML,MR,ma=mpf('125.18'),mi=ml[2],mj=ml[3]):\n",
    "#     r = 1/(8 *pi* ma)*sqrt((1-((mi**2+mj**2)/ma)**2)*(1-((mi**2-mj**2)/ma)**2))*((ma**2 - mi**2 - mj**2)*(abs(ML)**2 + abs(MR)**2)-4*mi*mj*re(ML*conj(MR)))\n",
    "#     return r"
   ]
  },
  {
   "cell_type": "code",
   "execution_count": 144,
   "metadata": {},
   "outputs": [],
   "source": [
    "# def Γhlilj(ML,MR,ma=125.18,mi=1.777,mj=0.1507):\n",
    "#     sqrt_term = np.sqrt((1-((mi**2+mj**2)/ma)**2)*(1-((mi**2-mj**2)/ma)**2))\n",
    "#     #print('sqrt term = ',sqrt_term)\n",
    "#     maij = ma**2 - mi**2 - mj**2\n",
    "#     print('maij = ',maij)\n",
    "#     A = maij*(np.abs(ML)**2 + np.abs(MR)**2)\n",
    "#     B = 4*mi*mj*np.real(ML*np.conj(MR))\n",
    "#     print('A = ',A)\n",
    "#     print('B = ',B)\n",
    "#     r = 1/(8*np.pi* ma)*sqrt_term*(A-B)\n",
    "#     return r"
   ]
  },
  {
   "cell_type": "code",
   "execution_count": 92,
   "metadata": {},
   "outputs": [],
   "source": [
    "# import sympy as sp\n",
    "# ma,mi,mj = sp.symbols('m_a, m_i, m_j',positive=True)\n",
    "# ML, MR = sp.symbols('M_L, MR')"
   ]
  },
  {
   "cell_type": "code",
   "execution_count": 59,
   "metadata": {},
   "outputs": [],
   "source": [
    "# r = 1/(8*sp.pi* ma)*sp.sqrt((1-((mi**2+mj**2)/ma)**2)*(1-((mi**2-mj**2)/ma)**2))*((ma**2 - mi**2 - mj**2)*(abs(ML)**2 + abs(MR)**2)-4*mi*mj*sp.re(ML*sp.conjugate(MR)))\n",
    "# r"
   ]
  },
  {
   "cell_type": "code",
   "execution_count": 39,
   "metadata": {},
   "outputs": [],
   "source": [
    "def betaf(tb):\n",
    "    return mp.atan(tb)\n",
    "def alphaf(tb,x0=mp.mpf('0.01')):\n",
    "    return mp.atan(tb) - mp.acos(x0)"
   ]
  },
  {
   "cell_type": "code",
   "execution_count": 40,
   "metadata": {},
   "outputs": [],
   "source": [
    "mHpm_val = mp.mpf('1500.0') \n",
    "mA_val = mp.mpf('1300.0') \n",
    "l5_val = mp.mpf('1') \n",
    "m6_val = mp.mpf('1e15')\n",
    "mh_val = mpf('125.1')\n",
    "# Φ =2"
   ]
  },
  {
   "cell_type": "code",
   "execution_count": 41,
   "metadata": {},
   "outputs": [],
   "source": [
    "def Γhl2l3_2HDM(tb,H_a='h',type_2HDM='I'):\n",
    "    AL = ALtot23(ms=mh_val,m6=m6_val,mHpm=mHpm_val, mA=mA_val,\n",
    "                 alpha=alphaf(tb), beta=betaf(tb), l5=l5_val,H_a=H_a,type_2HDM=type_2HDM)\n",
    "    AR = ARtot23(ms=mh_val,m6=m6_val,mHpm=mHpm_val, mA=mA_val,\n",
    "                 alpha=alphaf(tb), beta=betaf(tb), l5=l5_val,H_a=H_a,type_2HDM=type_2HDM)\n",
    "    return Γhlilj(AL,AR,ma=mh_val,mi=ml[2],mj=ml[3])\n",
    "\n",
    "def Γhl1l3_2HDM(tb,H_a='h',type_2HDM='I'):\n",
    "    AL = ALtot13(ms=mh_val,m6=m6_val,mHpm=mHpm_val, mA=mA_val,\n",
    "                 alpha=alphaf(tb), beta=betaf(tb), l5=l5_val,H_a=H_a,type_2HDM=type_2HDM)\n",
    "    AR = ARtot13(ms=mh_val,m6=m6_val,mHpm=mHpm_val, mA=mA_val,\n",
    "                 alpha=alphaf(tb), beta=betaf(tb), l5=l5_val,H_a=H_a,type_2HDM=type_2HDM)\n",
    "    return Γhlilj(AL,AR,ma=mh_val,mi=ml[1],mj=ml[3])\n",
    "\n",
    "def Γhl1l2_2HDM(tb,H_a='h',type_2HDM='I'):\n",
    "    AL = ALtot12(ms=mh_val,m6=m6_val,mHpm=mHpm_val, mA=mA_val,\n",
    "                 alpha=alphaf(tb), beta=betaf(tb), l5=l5_val,H_a=H_a,type_2HDM=type_2HDM)\n",
    "    AR = ARtot12(ms=mh_val,m6=m6_val,mHpm=mHpm_val, mA=mA_val,\n",
    "                 alpha=alphaf(tb), beta=betaf(tb), l5=l5_val,H_a=H_a,type_2HDM=type_2HDM)\n",
    "    return Γhlilj(AL,AR,ma=mh_val,mi=ml[1],mj=ml[2])"
   ]
  },
  {
   "cell_type": "code",
   "execution_count": 73,
   "metadata": {},
   "outputs": [
    {
     "name": "stdout",
     "output_type": "stream",
     "text": [
      "1.72619e-14\n",
      "1.05285e-11\n",
      "CPU times: user 12min 58s, sys: 224 ms, total: 12min 58s\n",
      "Wall time: 12min 58s\n"
     ]
    }
   ],
   "source": [
    "%%time\n",
    "nprint(Γhl1l2_2HDM(1.0,H_a='h',type_2HDM='I'))\n",
    "nprint(Γhl1l2_2HDM(1.0,H_a='H',type_2HDM='I'))"
   ]
  },
  {
   "cell_type": "markdown",
   "metadata": {},
   "source": [
    "### Aproximation"
   ]
  },
  {
   "cell_type": "code",
   "execution_count": 75,
   "metadata": {},
   "outputs": [],
   "source": [
    "def Γhlilj(ML,MR,ma=125.18):\n",
    "    maij = ma**2# - mi**2 - mj**2\n",
    "    # print('maij = ',maij)\n",
    "    A = maij*(np.abs(ML)**2 + np.abs(MR)**2)\n",
    "    #B = 4*mi*mj*np.real(ML*np.conj(MR))\n",
    "    #print('A = ')\n",
    "    #nprint(A)\n",
    "    #print('B = ',B)\n",
    "    r = 1/(8*np.pi* ma)*(A)\n",
    "    return r"
   ]
  },
  {
   "cell_type": "code",
   "execution_count": 84,
   "metadata": {},
   "outputs": [],
   "source": [
    "def Γhl2l3_2HDM_approx(tb,H_a='h',type_2HDM='I'):\n",
    "    AL = ALtot23(ms=mh_val,m6=m6_val,mHpm=mHpm_val, mA=mA_val,\n",
    "                 alpha=alphaf(tb), beta=betaf(tb), l5=l5_val,H_a=H_a,type_2HDM=type_2HDM)\n",
    "    AR = ARtot23(ms=mh_val,m6=m6_val,mHpm=mHpm_val, mA=mA_val,\n",
    "                 alpha=alphaf(tb), beta=betaf(tb), l5=l5_val,H_a=H_a,type_2HDM=type_2HDM)\n",
    "    return Γhlilj(AL,AR,ma=mh_val)\n",
    "\n",
    "def Γhl1l3_2HDM_approx(tb,H_a='h',type_2HDM='I'):\n",
    "    AL = ALtot13(ms=mh_val,m6=m6_val,mHpm=mHpm_val, mA=mA_val,\n",
    "                 alpha=alphaf(tb), beta=betaf(tb), l5=l5_val,H_a=H_a,type_2HDM=type_2HDM)\n",
    "    AR = ARtot13(ms=mh_val,m6=m6_val,mHpm=mHpm_val, mA=mA_val,\n",
    "                 alpha=alphaf(tb), beta=betaf(tb), l5=l5_val,H_a=H_a,type_2HDM=type_2HDM)\n",
    "    return Γhlilj(AL,AR,ma=mh_val)\n",
    "\n",
    "def Γhl1l2_2HDM_approx(tb,H_a='h',type_2HDM='I'):\n",
    "    AL = ALtot12(ms=mh_val,m6=m6_val,mHpm=mHpm_val, mA=mA_val,\n",
    "                 alpha=alphaf(tb), beta=betaf(tb), l5=l5_val,H_a=H_a,type_2HDM=type_2HDM)\n",
    "    AR = ARtot12(ms=mh_val,m6=m6_val,mHpm=mHpm_val, mA=mA_val,\n",
    "                 alpha=alphaf(tb), beta=betaf(tb), l5=l5_val,H_a=H_a,type_2HDM=type_2HDM)\n",
    "    return Γhlilj(AL,AR,ma=mh_val)"
   ]
  },
  {
   "cell_type": "code",
   "execution_count": 77,
   "metadata": {},
   "outputs": [
    {
     "name": "stdout",
     "output_type": "stream",
     "text": [
      "A = \n",
      "5.42733e-11\n",
      "1.72619e-14\n",
      "A = \n",
      "3.31027e-8\n",
      "1.05285e-11\n",
      "CPU times: user 13min 19s, sys: 644 ms, total: 13min 20s\n",
      "Wall time: 13min 20s\n"
     ]
    }
   ],
   "source": [
    "%%time\n",
    "nprint(Γhl1l2_2HDM_approx(1.0,H_a='h',type_2HDM='I'))\n",
    "nprint(Γhl1l2_2HDM_approx(1.0,H_a='H',type_2HDM='I'))"
   ]
  },
  {
   "cell_type": "code",
   "execution_count": 78,
   "metadata": {},
   "outputs": [],
   "source": [
    "n = 5\n",
    "# tbmp = linspace(0.1,100,n)\n",
    "expmp = linspace(-1,2,n)\n",
    "tbmp = np.array([mpf('10.0')**k for k in expmp])#np.logspace(-1,15,n)"
   ]
  },
  {
   "cell_type": "code",
   "execution_count": 82,
   "metadata": {},
   "outputs": [
    {
     "name": "stdout",
     "output_type": "stream",
     "text": [
      "A = \n",
      "7.13302e-11\n",
      "A = \n",
      "1.8105e-5\n",
      "A = \n",
      "7.6666e-11\n",
      "A = \n",
      "1.50884e-8\n"
     ]
    },
    {
     "name": "stderr",
     "output_type": "stream",
     "text": [
      "Process ForkPoolWorker-5:\n",
      "Process ForkPoolWorker-6:\n",
      "Process ForkPoolWorker-8:\n",
      "Traceback (most recent call last):\n",
      "Traceback (most recent call last):\n",
      "  File \"/home/moiseszm/miniconda3/lib/python3.7/multiprocessing/process.py\", line 297, in _bootstrap\n",
      "    self.run()\n",
      "Traceback (most recent call last):\n",
      "  File \"/home/moiseszm/miniconda3/lib/python3.7/multiprocessing/process.py\", line 99, in run\n",
      "    self._target(*self._args, **self._kwargs)\n",
      "  File \"/home/moiseszm/miniconda3/lib/python3.7/multiprocessing/process.py\", line 297, in _bootstrap\n",
      "    self.run()\n",
      "  File \"/home/moiseszm/miniconda3/lib/python3.7/multiprocessing/process.py\", line 297, in _bootstrap\n",
      "    self.run()\n",
      "  File \"/home/moiseszm/miniconda3/lib/python3.7/multiprocessing/process.py\", line 99, in run\n",
      "    self._target(*self._args, **self._kwargs)\n",
      "  File \"/home/moiseszm/miniconda3/lib/python3.7/multiprocessing/pool.py\", line 110, in worker\n",
      "    task = get()\n",
      "  File \"/home/moiseszm/miniconda3/lib/python3.7/multiprocessing/queues.py\", line 351, in get\n",
      "    with self._rlock:\n",
      "  File \"/home/moiseszm/miniconda3/lib/python3.7/multiprocessing/synchronize.py\", line 95, in __enter__\n",
      "    return self._semlock.__enter__()\n",
      "  File \"/home/moiseszm/miniconda3/lib/python3.7/multiprocessing/pool.py\", line 110, in worker\n",
      "    task = get()\n",
      "  File \"/home/moiseszm/miniconda3/lib/python3.7/multiprocessing/process.py\", line 99, in run\n",
      "    self._target(*self._args, **self._kwargs)\n",
      "  File \"/home/moiseszm/miniconda3/lib/python3.7/multiprocessing/pool.py\", line 110, in worker\n",
      "    task = get()\n",
      "  File \"/home/moiseszm/miniconda3/lib/python3.7/multiprocessing/queues.py\", line 352, in get\n",
      "    res = self._reader.recv_bytes()\n"
     ]
    },
    {
     "ename": "KeyboardInterrupt",
     "evalue": "",
     "output_type": "error",
     "traceback": [
      "\u001b[0;31m---------------------------------------------------------------------------\u001b[0m",
      "\u001b[0;31mKeyboardInterrupt\u001b[0m                         Traceback (most recent call last)",
      "\u001b[0;32m<timed exec>\u001b[0m in \u001b[0;36m<module>\u001b[0;34m\u001b[0m\n",
      "\u001b[0;32m/tmp/ipykernel_16579/1917723341.py\u001b[0m in \u001b[0;36mspeedup_array\u001b[0;34m(f, array, procs)\u001b[0m\n\u001b[1;32m      1\u001b[0m \u001b[0;32mdef\u001b[0m \u001b[0mspeedup_array\u001b[0m\u001b[0;34m(\u001b[0m\u001b[0mf\u001b[0m\u001b[0;34m,\u001b[0m\u001b[0marray\u001b[0m\u001b[0;34m,\u001b[0m\u001b[0mprocs\u001b[0m\u001b[0;34m=\u001b[0m\u001b[0;36m4\u001b[0m\u001b[0;34m)\u001b[0m\u001b[0;34m:\u001b[0m\u001b[0;34m\u001b[0m\u001b[0;34m\u001b[0m\u001b[0m\n\u001b[0;32m----> 2\u001b[0;31m     \u001b[0mpool\u001b[0m \u001b[0;34m=\u001b[0m \u001b[0mPool\u001b[0m\u001b[0;34m(\u001b[0m\u001b[0mprocs\u001b[0m\u001b[0;34m,\u001b[0m\u001b[0mmaxtasksperchild\u001b[0m\u001b[0;34m=\u001b[0m\u001b[0;36m100\u001b[0m\u001b[0;34m)\u001b[0m\u001b[0;34m.\u001b[0m\u001b[0mmap\u001b[0m\u001b[0;34m(\u001b[0m\u001b[0mf\u001b[0m\u001b[0;34m,\u001b[0m \u001b[0marray\u001b[0m\u001b[0;34m)\u001b[0m\u001b[0;34m\u001b[0m\u001b[0;34m\u001b[0m\u001b[0m\n\u001b[0m\u001b[1;32m      3\u001b[0m     \u001b[0mresult\u001b[0m \u001b[0;34m=\u001b[0m \u001b[0mnp\u001b[0m\u001b[0;34m.\u001b[0m\u001b[0marray\u001b[0m\u001b[0;34m(\u001b[0m\u001b[0mlist\u001b[0m\u001b[0;34m(\u001b[0m\u001b[0mpool\u001b[0m\u001b[0;34m)\u001b[0m\u001b[0;34m)\u001b[0m\u001b[0;34m\u001b[0m\u001b[0;34m\u001b[0m\u001b[0m\n\u001b[1;32m      4\u001b[0m     \u001b[0;32mreturn\u001b[0m \u001b[0mresult\u001b[0m\u001b[0;34m\u001b[0m\u001b[0;34m\u001b[0m\u001b[0m\n",
      "\u001b[0;32m~/miniconda3/lib/python3.7/multiprocessing/pool.py\u001b[0m in \u001b[0;36mmap\u001b[0;34m(self, func, iterable, chunksize)\u001b[0m\n\u001b[1;32m    266\u001b[0m         \u001b[0;32min\u001b[0m \u001b[0ma\u001b[0m \u001b[0mlist\u001b[0m \u001b[0mthat\u001b[0m \u001b[0;32mis\u001b[0m \u001b[0mreturned\u001b[0m\u001b[0;34m.\u001b[0m\u001b[0;34m\u001b[0m\u001b[0;34m\u001b[0m\u001b[0m\n\u001b[1;32m    267\u001b[0m         '''\n\u001b[0;32m--> 268\u001b[0;31m         \u001b[0;32mreturn\u001b[0m \u001b[0mself\u001b[0m\u001b[0;34m.\u001b[0m\u001b[0m_map_async\u001b[0m\u001b[0;34m(\u001b[0m\u001b[0mfunc\u001b[0m\u001b[0;34m,\u001b[0m \u001b[0miterable\u001b[0m\u001b[0;34m,\u001b[0m \u001b[0mmapstar\u001b[0m\u001b[0;34m,\u001b[0m \u001b[0mchunksize\u001b[0m\u001b[0;34m)\u001b[0m\u001b[0;34m.\u001b[0m\u001b[0mget\u001b[0m\u001b[0;34m(\u001b[0m\u001b[0;34m)\u001b[0m\u001b[0;34m\u001b[0m\u001b[0;34m\u001b[0m\u001b[0m\n\u001b[0m\u001b[1;32m    269\u001b[0m \u001b[0;34m\u001b[0m\u001b[0m\n\u001b[1;32m    270\u001b[0m     \u001b[0;32mdef\u001b[0m \u001b[0mstarmap\u001b[0m\u001b[0;34m(\u001b[0m\u001b[0mself\u001b[0m\u001b[0;34m,\u001b[0m \u001b[0mfunc\u001b[0m\u001b[0;34m,\u001b[0m \u001b[0miterable\u001b[0m\u001b[0;34m,\u001b[0m \u001b[0mchunksize\u001b[0m\u001b[0;34m=\u001b[0m\u001b[0;32mNone\u001b[0m\u001b[0;34m)\u001b[0m\u001b[0;34m:\u001b[0m\u001b[0;34m\u001b[0m\u001b[0;34m\u001b[0m\u001b[0m\n",
      "\u001b[0;32m~/miniconda3/lib/python3.7/multiprocessing/pool.py\u001b[0m in \u001b[0;36mget\u001b[0;34m(self, timeout)\u001b[0m\n\u001b[1;32m    649\u001b[0m \u001b[0;34m\u001b[0m\u001b[0m\n\u001b[1;32m    650\u001b[0m     \u001b[0;32mdef\u001b[0m \u001b[0mget\u001b[0m\u001b[0;34m(\u001b[0m\u001b[0mself\u001b[0m\u001b[0;34m,\u001b[0m \u001b[0mtimeout\u001b[0m\u001b[0;34m=\u001b[0m\u001b[0;32mNone\u001b[0m\u001b[0;34m)\u001b[0m\u001b[0;34m:\u001b[0m\u001b[0;34m\u001b[0m\u001b[0;34m\u001b[0m\u001b[0m\n\u001b[0;32m--> 651\u001b[0;31m         \u001b[0mself\u001b[0m\u001b[0;34m.\u001b[0m\u001b[0mwait\u001b[0m\u001b[0;34m(\u001b[0m\u001b[0mtimeout\u001b[0m\u001b[0;34m)\u001b[0m\u001b[0;34m\u001b[0m\u001b[0;34m\u001b[0m\u001b[0m\n\u001b[0m\u001b[1;32m    652\u001b[0m         \u001b[0;32mif\u001b[0m \u001b[0;32mnot\u001b[0m \u001b[0mself\u001b[0m\u001b[0;34m.\u001b[0m\u001b[0mready\u001b[0m\u001b[0;34m(\u001b[0m\u001b[0;34m)\u001b[0m\u001b[0;34m:\u001b[0m\u001b[0;34m\u001b[0m\u001b[0;34m\u001b[0m\u001b[0m\n\u001b[1;32m    653\u001b[0m             \u001b[0;32mraise\u001b[0m \u001b[0mTimeoutError\u001b[0m\u001b[0;34m\u001b[0m\u001b[0;34m\u001b[0m\u001b[0m\n",
      "\u001b[0;32m~/miniconda3/lib/python3.7/multiprocessing/pool.py\u001b[0m in \u001b[0;36mwait\u001b[0;34m(self, timeout)\u001b[0m\n\u001b[1;32m    646\u001b[0m \u001b[0;34m\u001b[0m\u001b[0m\n\u001b[1;32m    647\u001b[0m     \u001b[0;32mdef\u001b[0m \u001b[0mwait\u001b[0m\u001b[0;34m(\u001b[0m\u001b[0mself\u001b[0m\u001b[0;34m,\u001b[0m \u001b[0mtimeout\u001b[0m\u001b[0;34m=\u001b[0m\u001b[0;32mNone\u001b[0m\u001b[0;34m)\u001b[0m\u001b[0;34m:\u001b[0m\u001b[0;34m\u001b[0m\u001b[0;34m\u001b[0m\u001b[0m\n\u001b[0;32m--> 648\u001b[0;31m         \u001b[0mself\u001b[0m\u001b[0;34m.\u001b[0m\u001b[0m_event\u001b[0m\u001b[0;34m.\u001b[0m\u001b[0mwait\u001b[0m\u001b[0;34m(\u001b[0m\u001b[0mtimeout\u001b[0m\u001b[0;34m)\u001b[0m\u001b[0;34m\u001b[0m\u001b[0;34m\u001b[0m\u001b[0m\n\u001b[0m\u001b[1;32m    649\u001b[0m \u001b[0;34m\u001b[0m\u001b[0m\n\u001b[1;32m    650\u001b[0m     \u001b[0;32mdef\u001b[0m \u001b[0mget\u001b[0m\u001b[0;34m(\u001b[0m\u001b[0mself\u001b[0m\u001b[0;34m,\u001b[0m \u001b[0mtimeout\u001b[0m\u001b[0;34m=\u001b[0m\u001b[0;32mNone\u001b[0m\u001b[0;34m)\u001b[0m\u001b[0;34m:\u001b[0m\u001b[0;34m\u001b[0m\u001b[0;34m\u001b[0m\u001b[0m\n",
      "\u001b[0;32m~/miniconda3/lib/python3.7/threading.py\u001b[0m in \u001b[0;36mwait\u001b[0;34m(self, timeout)\u001b[0m\n\u001b[1;32m    550\u001b[0m             \u001b[0msignaled\u001b[0m \u001b[0;34m=\u001b[0m \u001b[0mself\u001b[0m\u001b[0;34m.\u001b[0m\u001b[0m_flag\u001b[0m\u001b[0;34m\u001b[0m\u001b[0;34m\u001b[0m\u001b[0m\n\u001b[1;32m    551\u001b[0m             \u001b[0;32mif\u001b[0m \u001b[0;32mnot\u001b[0m \u001b[0msignaled\u001b[0m\u001b[0;34m:\u001b[0m\u001b[0;34m\u001b[0m\u001b[0;34m\u001b[0m\u001b[0m\n\u001b[0;32m--> 552\u001b[0;31m                 \u001b[0msignaled\u001b[0m \u001b[0;34m=\u001b[0m \u001b[0mself\u001b[0m\u001b[0;34m.\u001b[0m\u001b[0m_cond\u001b[0m\u001b[0;34m.\u001b[0m\u001b[0mwait\u001b[0m\u001b[0;34m(\u001b[0m\u001b[0mtimeout\u001b[0m\u001b[0;34m)\u001b[0m\u001b[0;34m\u001b[0m\u001b[0;34m\u001b[0m\u001b[0m\n\u001b[0m\u001b[1;32m    553\u001b[0m             \u001b[0;32mreturn\u001b[0m \u001b[0msignaled\u001b[0m\u001b[0;34m\u001b[0m\u001b[0;34m\u001b[0m\u001b[0m\n\u001b[1;32m    554\u001b[0m \u001b[0;34m\u001b[0m\u001b[0m\n",
      "\u001b[0;32m~/miniconda3/lib/python3.7/threading.py\u001b[0m in \u001b[0;36mwait\u001b[0;34m(self, timeout)\u001b[0m\n\u001b[1;32m    294\u001b[0m         \u001b[0;32mtry\u001b[0m\u001b[0;34m:\u001b[0m    \u001b[0;31m# restore state no matter what (e.g., KeyboardInterrupt)\u001b[0m\u001b[0;34m\u001b[0m\u001b[0;34m\u001b[0m\u001b[0m\n\u001b[1;32m    295\u001b[0m             \u001b[0;32mif\u001b[0m \u001b[0mtimeout\u001b[0m \u001b[0;32mis\u001b[0m \u001b[0;32mNone\u001b[0m\u001b[0;34m:\u001b[0m\u001b[0;34m\u001b[0m\u001b[0;34m\u001b[0m\u001b[0m\n\u001b[0;32m--> 296\u001b[0;31m                 \u001b[0mwaiter\u001b[0m\u001b[0;34m.\u001b[0m\u001b[0macquire\u001b[0m\u001b[0;34m(\u001b[0m\u001b[0;34m)\u001b[0m\u001b[0;34m\u001b[0m\u001b[0;34m\u001b[0m\u001b[0m\n\u001b[0m\u001b[1;32m    297\u001b[0m                 \u001b[0mgotit\u001b[0m \u001b[0;34m=\u001b[0m \u001b[0;32mTrue\u001b[0m\u001b[0;34m\u001b[0m\u001b[0;34m\u001b[0m\u001b[0m\n\u001b[1;32m    298\u001b[0m             \u001b[0;32melse\u001b[0m\u001b[0;34m:\u001b[0m\u001b[0;34m\u001b[0m\u001b[0;34m\u001b[0m\u001b[0m\n",
      "\u001b[0;31mKeyboardInterrupt\u001b[0m: "
     ]
    },
    {
     "name": "stderr",
     "output_type": "stream",
     "text": [
      "KeyboardInterrupt\n",
      "  File \"/home/moiseszm/miniconda3/lib/python3.7/multiprocessing/queues.py\", line 351, in get\n",
      "    with self._rlock:\n",
      "  File \"/home/moiseszm/miniconda3/lib/python3.7/multiprocessing/synchronize.py\", line 95, in __enter__\n",
      "    return self._semlock.__enter__()\n",
      "  File \"/home/moiseszm/miniconda3/lib/python3.7/multiprocessing/connection.py\", line 216, in recv_bytes\n",
      "    buf = self._recv_bytes(maxlength)\n",
      "  File \"/home/moiseszm/miniconda3/lib/python3.7/multiprocessing/connection.py\", line 407, in _recv_bytes\n",
      "    buf = self._recv(4)\n",
      "  File \"/home/moiseszm/miniconda3/lib/python3.7/multiprocessing/connection.py\", line 379, in _recv\n",
      "    chunk = read(handle, remaining)\n",
      "KeyboardInterrupt\n",
      "KeyboardInterrupt\n"
     ]
    },
    {
     "name": "stdout",
     "output_type": "stream",
     "text": [
      "A = \n",
      "7.72726e-11\n"
     ]
    }
   ],
   "source": [
    "%%time\n",
    "YW23 = speedup_array(Γhl2l3_2HDM_approx,tbmp)\n",
    "\n",
    "YW13 = speedup_array(Γhl1l3_2HDM_approx,tbmp)\n",
    "\n",
    "YW12 = speedup_array(Γhl1l2_2HDM_approx,tbmp)\n"
   ]
  },
  {
   "cell_type": "code",
   "execution_count": 83,
   "metadata": {},
   "outputs": [
    {
     "ename": "NameError",
     "evalue": "name 'YW23' is not defined",
     "output_type": "error",
     "traceback": [
      "\u001b[0;31m---------------------------------------------------------------------------\u001b[0m",
      "\u001b[0;31mNameError\u001b[0m                                 Traceback (most recent call last)",
      "\u001b[0;32m/tmp/ipykernel_16579/147617218.py\u001b[0m in \u001b[0;36m<module>\u001b[0;34m\u001b[0m\n\u001b[0;32m----> 1\u001b[0;31m \u001b[0mWtot\u001b[0m \u001b[0;34m=\u001b[0m \u001b[0mYW23\u001b[0m \u001b[0;34m+\u001b[0m \u001b[0mYW13\u001b[0m \u001b[0;34m+\u001b[0m \u001b[0mYW12\u001b[0m \u001b[0;34m+\u001b[0m \u001b[0;36m0.0032\u001b[0m\u001b[0;31m# + YW32 + YW31 + YW21\u001b[0m\u001b[0;34m\u001b[0m\u001b[0;34m\u001b[0m\u001b[0m\n\u001b[0m",
      "\u001b[0;31mNameError\u001b[0m: name 'YW23' is not defined"
     ]
    }
   ],
   "source": [
    "Wtot = YW23 + YW13 + YW12 + 0.0032# + YW32 + YW31 + YW21"
   ]
  },
  {
   "cell_type": "code",
   "execution_count": null,
   "metadata": {},
   "outputs": [],
   "source": [
    "plt.figure(figsize=(15,8))\n",
    "plt.loglog(np.real(tbmp),(YW23)/Wtot,label=r'Br($h \\to \\mu \\tau$)')\n",
    "plt.loglog(np.real(tbmp),(YW13)/Wtot,label=r'Br($h \\to e \\tau$)')\n",
    "plt.loglog(np.real(tbmp),(YW12)/Wtot,label=r'Br($h \\to e \\mu$)')\n",
    "\n",
    "# Horizontal lines\n",
    "plt.hlines(1e-9,0.1,1e2,linestyles='-.',label=r'$1\\times 10^{-9}$')\n",
    "plt.hlines(1e-46,0.1,1e2,linestyles='--',color='b',label=r'$1\\times 10^{-46}$')\n",
    "\n",
    "# Vertical lines\n",
    "plt.vlines(1,1e-46,1e-9,linestyles='--',color='r',label=r'$\\tan{\\beta}=1$')\n",
    "\n",
    "#Axis\n",
    "#plt.yticks([1e-49,1e-39,1e-29,1e-19,1e-9],fontsize=18)\n",
    "#plt.xticks([0.1,1,10,100],fontsize=18)\n",
    "plt.xlabel(r'$\\tan{\\beta}$',fontsize=18)\n",
    "plt.ylabel(r'$\\mathcal{BR}(h \\to e_a e_b)$',fontsize=18)\n",
    "\n",
    "\n",
    "plt.title(r'$m_A=800$ GeV, $m_{H^{\\pm}}=1000$ GeV, $m_{n_6}={10^{10}}$ GeV,$\\lambda_5=0.1$',fontsize=18)\n",
    "plt.legend(fontsize=18,frameon=True,ncol=2,loc=4)\n",
    "#plt.savefig('2HDM-lepton-specific-Cba0.95-caso5.png',dpi=100)"
   ]
  },
  {
   "cell_type": "code",
   "execution_count": 66,
   "metadata": {},
   "outputs": [],
   "source": [
    "import pandas as pd"
   ]
  },
  {
   "cell_type": "code",
   "execution_count": 67,
   "metadata": {},
   "outputs": [],
   "source": [
    "df = pd.DataFrame({'tb':tbmp,\n",
    "                   'Whl2l3':YW23,\n",
    "                   #'Whl3l2':YW32,\n",
    "                   'Whl1l3':YW13,\n",
    "                   #'Whl3l1':YW31,\n",
    "                   'Whl1l2':YW12})\n",
    "                   #'Whl2l1':YW21})"
   ]
  },
  {
   "cell_type": "markdown",
   "metadata": {
    "tags": []
   },
   "source": [
    "## Casos 2HDM type I"
   ]
  },
  {
   "cell_type": "code",
   "execution_count": null,
   "metadata": {},
   "outputs": [],
   "source": [
    "#type I cos(beta - alpha)=0.95 1 mHpm >mA caso 1\n",
    "# mHpm_val = mp.mpf('1000.0')\n",
    "# mA_val = mp.mpf('800.0')\n",
    "# l5_val = mp.mpf('0.1')\n",
    "# m6_val = mp.mpf('1e10') <--------\n",
    "# Φ = 2\n",
    "\n",
    "#type I cos(beta - alpha)=0.95 1 mHpm >mA caso 2\n",
    "# mHpm_val = mp.mpf('1000.0')\n",
    "# mA_val = mp.mpf('800.0')\n",
    "# l5_val = mp.mpf('0.1')\n",
    "# m6_val = mp.mpf('1e15') <--------\n",
    "# Φ = 2\n",
    "\n",
    "#type I cos(beta - alpha)=0.95 1 mHpm >mA caso 3\n",
    "# mHpm_val = mp.mpf('1000.0')\n",
    "# mA_val = mp.mpf('800.0')\n",
    "# l5_val = mp.mpf('1') <--------\n",
    "# m6_val = mp.mpf('1e15')\n",
    "# Φ = 2\n",
    "\n",
    "#type I cos(beta - alpha)=0.95 1 mHpm >mA caso 4\n",
    "# mHpm_val = mp.mpf('1500.0') <--------\n",
    "# mA_val = mp.mpf('1300.0') <--------\n",
    "# l5_val = mp.mpf('1') <--------\n",
    "# m6_val = mp.mpf('1e15')\n",
    "# Φ =2"
   ]
  },
  {
   "cell_type": "markdown",
   "metadata": {},
   "source": [
    "## Casos 2HDM Lepton-Specific"
   ]
  },
  {
   "cell_type": "code",
   "execution_count": null,
   "metadata": {},
   "outputs": [],
   "source": [
    "# Lepton-specific cos(beta - alpha)=0.95 mHpm >mA caso 1\n",
    "# mHpm_val = mp.mpf('1000.0')\n",
    "# mA_val = mp.mpf('800.0')\n",
    "# l5_val = mp.mpf('0.1')\n",
    "# m6_val = mp.mpf('1e10') <--------\n",
    "# Φ = 1\n",
    "\n",
    "# Lepton-specific cos(beta - alpha)=0.95 mHpm >mA caso 2\n",
    "# mHpm_val = mp.mpf('1000.0')\n",
    "# mA_val = mp.mpf('800.0')\n",
    "# l5_val = mp.mpf('0.1')\n",
    "# m6_val = mp.mpf('1e15') \n",
    "# Φ = 1\n",
    "\n",
    "# Lepton-specific cos(beta - alpha)=0.95 1 mHpm >mA caso 3\n",
    "# mHpm_val = mp.mpf('1000.0')\n",
    "# mA_val = mp.mpf('800.0')\n",
    "# l5_val = mp.mpf('1') <--------\n",
    "# m6_val = mp.mpf('1e15')\n",
    "# Φ = 2\n",
    "\n",
    "# Lepton-specific cos(beta - alpha)=0.95 1 mHpm >mA caso 4\n",
    "# mHpm_val = mp.mpf('1500.0') <--------\n",
    "# mA_val = mp.mpf('1300.0') <--------\n",
    "# l5_val = mp.mpf('1') <--------\n",
    "# m6_val = mp.mpf('1e15')\n",
    "# Φ =2"
   ]
  },
  {
   "cell_type": "code",
   "execution_count": 68,
   "metadata": {},
   "outputs": [],
   "source": [
    "df.to_csv('Lepton_specific_Cab095_caso5_mA800_mHpm1000.txt',sep='\\t')"
   ]
  },
  {
   "cell_type": "code",
   "execution_count": 69,
   "metadata": {},
   "outputs": [
    {
     "data": {
      "text/plain": [
       "[<matplotlib.lines.Line2D at 0x7f1351f3f4c0>]"
      ]
     },
     "execution_count": 69,
     "metadata": {},
     "output_type": "execute_result"
    },
    {
     "data": {
      "image/png": "[encoded data removed]",
      "text/plain": [
       "<Figure size 432x288 with 1 Axes>"
      ]
     },
     "metadata": {
      "needs_background": "light"
     },
     "output_type": "display_data"
    }
   ],
   "source": [
    "plt.loglog(np.array(list(map(mpf,df['tb']))),np.array(list(map(mpf,df['Whl2l3']))))"
   ]
  },
  {
   "cell_type": "code",
   "execution_count": null,
   "metadata": {},
   "outputs": [],
   "source": []
  }
 ],
 "metadata": {
  "kernelspec": {
   "display_name": "Python 3 (ipykernel)",
   "language": "python",
   "name": "python3"
  },
  "language_info": {
   "codemirror_mode": {
    "name": "ipython",
    "version": 3
   },
   "file_extension": ".py",
   "mimetype": "text/x-python",
   "name": "python",
   "nbconvert_exporter": "python",
   "pygments_lexer": "ipython3",
   "version": "3.7.6"
  }
 },
 "nbformat": 4,
 "nbformat_minor": 4
}
