{
 "cells": [
  {
   "cell_type": "markdown",
   "metadata": {},
   "source": [
    "# LFV Higgs decays in the 2HDM with  SeeSaw type I"
   ]
  },
  {
   "cell_type": "code",
   "execution_count": 1,
   "metadata": {},
   "outputs": [],
   "source": [
    "from sympy import init_printing,lambdify,Symbol, symbols, Matrix\n",
    "init_printing()\n",
    "import OneLoopLFVHD as lfvhd"
   ]
  },
  {
   "cell_type": "code",
   "execution_count": 2,
   "metadata": {},
   "outputs": [],
   "source": [
    "from THDM_seesaw_FF import TrianglesOneFermion, TrianglesTwoFermion, Bubbles\n",
    "from THDM_seesaw_FF import g, mW, mG, mHpm, mϕ, Uν, Uνc, mn, m, C, Cc, a,b,i\n",
    "from THDM_seesaw_FF import j as jj\n",
    "from THDM_seesaw_FF import ξlϕ, ξnϕ, ξlA, ξnA,α, β, Ξϕ, Kϕ, Qϕ,ρϕ, Δϕ,ηϕ, λ5"
   ]
  },
  {
   "cell_type": "code",
   "execution_count": 3,
   "metadata": {},
   "outputs": [],
   "source": [
    "import matplotlib.pyplot as plt\n",
    "%matplotlib inline"
   ]
  },
  {
   "cell_type": "code",
   "execution_count": 4,
   "metadata": {},
   "outputs": [],
   "source": [
    "from mpmath import *"
   ]
  },
  {
   "cell_type": "code",
   "execution_count": 74,
   "metadata": {},
   "outputs": [],
   "source": [
    "mp.dps = 80; mp.pretty = True"
   ]
  },
  {
   "cell_type": "code",
   "execution_count": 6,
   "metadata": {},
   "outputs": [],
   "source": [
    "import numpy as np"
   ]
  },
  {
   "cell_type": "code",
   "execution_count": 7,
   "metadata": {},
   "outputs": [],
   "source": [
    "import subprocess as s"
   ]
  },
  {
   "cell_type": "code",
   "execution_count": 8,
   "metadata": {},
   "outputs": [],
   "source": [
    "from multiprocessing import Pool\n",
    "from time import time"
   ]
  },
  {
   "cell_type": "code",
   "execution_count": 9,
   "metadata": {},
   "outputs": [],
   "source": [
    "def speedup_array(f,array,procs=4): \n",
    "    pool = Pool(procs,maxtasksperchild=100).map(f, array)\n",
    "    result = np.array(list(pool))\n",
    "    return result"
   ]
  },
  {
   "cell_type": "markdown",
   "metadata": {},
   "source": [
    "## Numeric implementation of form factors"
   ]
  },
  {
   "cell_type": "markdown",
   "metadata": {},
   "source": [
    "**Neutrino benchmark** is given by "
   ]
  },
  {
   "cell_type": "code",
   "execution_count": 10,
   "metadata": {},
   "outputs": [],
   "source": [
    "from OneLoopLFVHD.neutrinos import NuOscObservables\n",
    "Nudata = NuOscObservables"
   ]
  },
  {
   "cell_type": "code",
   "execution_count": 11,
   "metadata": {},
   "outputs": [],
   "source": [
    "m1 = mpf('1e-12')  #GeV \n",
    "\n",
    "#current values to Square mass differences\n",
    "d21 = mpf(str(Nudata.squareDm21.central))*mpf('1e-18')# factor to convert eV^2 to GeV^2\n",
    "d31 = mpf(str(Nudata.squareDm31.central))*mpf('1e-18')\n",
    "\n",
    "#d21 = 7.5e-5*1e-18\n",
    "#d31 = 2.457e-3*1e-18\n",
    "m2 = sqrt(m1**2 + d21)\n",
    "m3 = sqrt(m1**2 + d31)\n",
    "\n",
    "m4 = lambda m6: m6/3\n",
    "m5 = lambda m6: m6/2"
   ]
  },
  {
   "cell_type": "markdown",
   "metadata": {},
   "source": [
    "## Setting 2HDM"
   ]
  },
  {
   "cell_type": "code",
   "execution_count": 12,
   "metadata": {},
   "outputs": [],
   "source": [
    "from sympy import cos as cos_sp\n",
    "from sympy import sin as sin_sp\n",
    "from sympy import cot as cot_sp\n",
    "from sympy import tan as tan_sp"
   ]
  },
  {
   "cell_type": "code",
   "execution_count": 13,
   "metadata": {},
   "outputs": [],
   "source": [
    "typeI_ξh = {ξlφ:cos_sp(α)/sin_sp(β),ξnφ:cos_sp(α)/sin_sp(β),ξlA:-cot_sp(β),ξnA:-cot_sp(β)}\n",
    "typeI_ξH = {ξlφ:sin_sp(α)/sin_sp(β),ξnφ:sin_sp(α)/sin_sp(β),ξlA:-cot_sp(β),ξnA:-cot_sp(β)}\n",
    "\n",
    "typeII_ξh = {ξlφ:-sin_sp(α)/cos_sp(β),ξnφ:cos_sp(α)/sin_sp(β),ξlA:tan_sp(β),ξnA:-cot_sp(β)}\n",
    "typeII_ξH = {ξlφ:cos_sp(α)/cos_sp(β),ξnφ:sin_sp(α)/sin_sp(β),ξlA:tan_sp(β),ξnA:-cot_sp(β)}\n",
    "\n",
    "lepton_ξh = {ξlφ:-sin_sp(α)/cos_sp(β),ξnφ:-sin_sp(α)/cos_sp(β),ξlA:tan_sp(β),ξnA:tan_sp(β)}\n",
    "lepton_ξH = {ξlφ:cos_sp(α)/cos_sp(β),ξnφ:cos_sp(α)/cos_sp(β),ξlA:tan_sp(β),ξnA:tan_sp(β)}\n",
    "\n",
    "flipped_ξh = {ξlφ:cos_sp(α)/sin_sp(β),ξnφ:-sin_sp(α)/cos_sp(β),ξlA:-cot_sp(β),ξnA:tan_sp(β)}\n",
    "flipped_ξH = {ξlφ:sin_sp(α)/sin_sp(β),ξnφ:cos_sp(α)/cos_sp(β),ξlA:-cot_sp(β),ξnA:tan_sp(β)}\n",
    "\n",
    "\n",
    "mA,mH, mh = symbols('m_A,m_H, m_h ',positive=True)\n",
    "common_factor_h = {mϕ:mh, Ξϕ:sin_sp(β - α), ηϕ:cos_sp(β - α), Kϕ: 4*mA**2 - 3*mh**2- 2*mHpm**2, \n",
    "                   Qϕ:mh**2 - 2*mHpm**2 , ρϕ: cos_sp(α + β), Δϕ:cos_sp(α - 3*β)}\n",
    "\n",
    "common_factor_H = {mϕ:mH, Ξϕ:cos_sp(β - α), ηϕ:-sin_sp(β - α), Kϕ: 4*mA**2 - 3*mH**2- 2*mHpm**2, \n",
    "                   Qϕ:mH**2 - 2*mHpm**2 , ρϕ: sin_sp(α + β), Δϕ:sin_sp(α - 3*β)}"
   ]
  },
  {
   "cell_type": "code",
   "execution_count": 14,
   "metadata": {},
   "outputs": [
    {
     "data": {
      "image/png": "[encoded data removed]",
      "text/latex": [
       "$\\displaystyle \\left\\{ {{\\xi^{l}_{A}}} : - \\cot{\\left(\\beta \\right)}, \\  {{\\xi^{l}_{\\phi}}} : \\frac{\\cos{\\left(\\alpha \\right)}}{\\sin{\\left(\\beta \\right)}}, \\  {{\\xi^{n}_{A}}} : \\cot{\\left(\\beta \\right)}, \\  {{\\xi^{n}_{\\phi}}} : \\frac{\\cos{\\left(\\alpha \\right)}}{\\sin{\\left(\\beta \\right)}}\\right\\}$"
      ],
      "text/plain": [
       "⎧                                                    cos(\\alpha)              \n",
       "⎨{{\\xi_{A}}}__{l}: -cot(\\beta), {{\\xi_{\\phi}}}__{l}: ───────────, {{\\xi_{A}}}_\n",
       "⎩                                                     sin(\\beta)              \n",
       "\n",
       "                                       cos(\\alpha)⎫\n",
       "_{n}: cot(\\beta), {{\\xi_{\\phi}}}__{n}: ───────────⎬\n",
       "                                        sin(\\beta)⎭"
      ]
     },
     "execution_count": 14,
     "metadata": {},
     "output_type": "execute_result"
    }
   ],
   "source": [
    "typeI_ξh "
   ]
  },
  {
   "cell_type": "markdown",
   "metadata": {
    "tags": []
   },
   "source": [
    "### Form factor with one fermion in the loop."
   ]
  },
  {
   "cell_type": "code",
   "execution_count": 15,
   "metadata": {},
   "outputs": [],
   "source": [
    "# for D in TrianglesOneFermion:\n",
    "#     display(D.AL().atoms(Symbol))"
   ]
  },
  {
   "cell_type": "markdown",
   "metadata": {},
   "source": [
    "#### AL one fermion "
   ]
  },
  {
   "cell_type": "code",
   "execution_count": 16,
   "metadata": {},
   "outputs": [],
   "source": [
    "from OneLoopLFVHD.data import ml"
   ]
  },
  {
   "cell_type": "code",
   "execution_count": 17,
   "metadata": {},
   "outputs": [],
   "source": [
    "ma,mb = symbols('m_a,m_b',positive=True)\n",
    "valores_h ={mW:mpf('80.379'),mh:mpf('125.10'),g:(2*mpf('80.379'))/mpf('246')}\n",
    "\n",
    "cambios_hab = lambda a,b:{lfvhd.ma:valores_h[mh],lfvhd.mi:ml[a],lfvhd.mj:ml[b]}\n",
    "\n",
    "\n",
    "Ubi, Ucai,mni = symbols('U_{bi}, {{U_{ai}^*}},m_{n_i}')\n",
    "UnuOne = {mn[i]:mni,Uν[b,i]:Ubi,Uνc[a,i]:Ucai}\n",
    "\n",
    "# from Unu_seesaw_2HDM import diagonalizationMnu\n",
    "# diagonalizationMnu1 = lambda m1,m6,tb,doblet: diagonalizationMnu(\n",
    "#     m1,m2,m3,m6/mpf('3.0'),m6/mpf('2.0'),m6,tb,doblet)\n",
    "\n",
    "from Unu_seesaw import diagonalizationMnu\n",
    "\n",
    "diagonalizationMnu1 = lambda m1,m6: diagonalizationMnu(\n",
    "    m1,m2,m3,m6/mpf('3.0'),m6/mpf('2.0'),m6)"
   ]
  },
  {
   "cell_type": "code",
   "execution_count": 18,
   "metadata": {},
   "outputs": [],
   "source": [
    "def GIM_One(exp):\n",
    "    from sympy import Add\n",
    "    args = exp.expand().args\n",
    "    func = exp.expand().func\n",
    "    if isinstance(func,Add):\n",
    "        X = Add(*[t for t in args if t.has(mni)]).simplify()\n",
    "    else:\n",
    "        X = exp\n",
    "    #X1 = X.collect([mni],evaluate=False)\n",
    "    return X#mni**2*X1[mni**2]"
   ]
  },
  {
   "cell_type": "code",
   "execution_count": 19,
   "metadata": {},
   "outputs": [],
   "source": [
    "def sumOne(m6,Aab,aa,bb,mHpm_val, mA_val, alpha, beta, l5): \n",
    "    mnk,UnuL,UnuR = diagonalizationMnu1(m1,m6)\n",
    "    Unu = UnuL\n",
    "    Unu_dagger = UnuR\n",
    "    AL = []\n",
    "    for k in range(1,7):\n",
    "        #print(mnk[k-1],Unu[b-1,k-1],conj(Unu[a-1,k-1]))\n",
    "        #A = Aab(mnk[k-1],Unu[b-1,k-1],conj(Unu[a-1,k-1]),mHpm, mA, alpha, beta,l5)\n",
    "        A = Aab(mnk[k-1],Unu[bb-1,k-1],Unu_dagger[k-1,aa-1],mHpm_val, mA_val, alpha, beta,l5)\n",
    "        #print('Ai = ',A)\n",
    "        AL.append(A)\n",
    "    return mp.fsum(AL)\n"
   ]
  },
  {
   "cell_type": "code",
   "execution_count": 20,
   "metadata": {},
   "outputs": [],
   "source": [
    "from OneLoopLFVHD.data import replaceBs, pave_functions"
   ]
  },
  {
   "cell_type": "code",
   "execution_count": 127,
   "metadata": {},
   "outputs": [],
   "source": [
    "mHpm_aux = symbols('mHpm',positive=True)\n",
    "def numeric_sum_diagramsOne(a,b,mHpm_n, mA_n, alpha, beta, l5,quirality='L',\n",
    "                            common_factor=common_factor_h,\n",
    "                            type_2HDM=typeI_ξh,\n",
    "                            valores=valores_h):\n",
    "    \n",
    "    FdiagOneFer = []\n",
    "    i = 0\n",
    "    #print('Lambdify in numeric_sum_diagramsOne')\n",
    "    #[TrianglesOneFermion[4],TrianglesOneFermion[5],TrianglesOneFermion[6],TrianglesOneFermion[7]]\n",
    "    for Set in [TrianglesOneFermion,Bubbles]:#TrianglesOneFermion,Bubbles\n",
    "        for dia in Set:\n",
    "            if quirality=='L':\n",
    "                x = dia.AL().subs(common_factor).subs(type_2HDM).subs(lfvhd.D,4).subs(\n",
    "                    lfvhd.B12_0(mW,mW),0).subs(lfvhd.B12_0(mHpm,mW),0).subs(\n",
    "                    lfvhd.B12_0(mW,mHpm),0).subs(cambios_hab(a,b)).subs(valores).subs(UnuOne)\n",
    "            elif quirality=='R':\n",
    "                x = dia.AR().subs(common_factor).subs(type_2HDM).subs(lfvhd.D,4).subs(\n",
    "                    lfvhd.B12_0(mW,mW),0).subs(lfvhd.B12_0(mHpm,mW),0).subs(\n",
    "                    lfvhd.B12_0(mW,mHpm),0).subs(cambios_hab(a,b)).subs(valores).subs(UnuOne)\n",
    "            else:\n",
    "                raise ValueError('quirality must be L or R')\n",
    "            \n",
    "            #display(x)\n",
    "            f = lambdify([mni,Ubi,Ucai, mHpm_aux, mA, α, β,λ5],replaceBs(x).subs(mHpm,mHpm_aux),\n",
    "                         modules=[pave_functions(valores_h[mh],a,b,lib='mpmath'),'mpmath'])\n",
    "            #print(f'diagram i = {i}')\n",
    "            #nprint(f(mpf('100'),0.1,0.2,mHpm_n, mA_n, alpha, beta, l5))\n",
    "            #fsum = lambda m6:sumOne(m6,f,a,b)\n",
    "            FdiagOneFer.append(f)\n",
    "            i+=1\n",
    "    def suma(m6):\n",
    "        out = []\n",
    "        xs = []\n",
    "        #print('suma sobre i')\n",
    "        for FF in FdiagOneFer:\n",
    "            x = sumOne(m6,FF,a,b,mHpm_n, mA_n, alpha, beta, l5)\n",
    "            #print(x)\n",
    "            #m6,Aab,a,b,mHpm, mA, alpha, beta, l5,doblet\n",
    "            out.append(x)\n",
    "            xs.append(x)\n",
    "        #print('suma sobre i terminada')\n",
    "        return np.array(xs), mp.fsum(out)\n",
    "    return suma"
   ]
  },
  {
   "cell_type": "code",
   "execution_count": 135,
   "metadata": {},
   "outputs": [],
   "source": [
    "mHpm_val = mp.mpf('1000.0')\n",
    "mA_val = mp.mpf('800.0')\n",
    "tbb = mp.mpf('0.1')\n",
    "β_val = mp.atan(tbb)\n",
    "x0 = mp.mpf('0.95')\n",
    "α_val =  β_val - mp.acos(x0)\n",
    "l5_val = mp.mpf('0.1')\n",
    "r23 = numeric_sum_diagramsOne(2,3,mHpm_val, mA_val, α_val,\n",
    "                               β_val,l5_val,quirality='L')(mp.mpf('1000'))#[0]\n",
    "r13 = numeric_sum_diagramsOne(1,3,mHpm_val, mA_val, α_val,\n",
    "                               β_val,l5_val,quirality='L')(mp.mpf('1000'))#[0]\n",
    "r12 = numeric_sum_diagramsOne(1,2,mHpm_val, mA_val, α_val,\n",
    "                               β_val,l5_val,quirality='L')(mp.mpf('1000'))#[0]"
   ]
  },
  {
   "cell_type": "code",
   "execution_count": 136,
   "metadata": {},
   "outputs": [
    {
     "name": "stdout",
     "output_type": "stream",
     "text": [
      "------------------------------\n",
      "23\n",
      "(1.57293e-24 + 0.0j)\n",
      "13\n",
      "(1.3934e-25 + 0.0j)\n",
      "12\n",
      "(4.65906e-26 + 0.0j)\n",
      "------------------------------\n",
      "------------------------------\n",
      "23\n",
      "(-3.11967e-24 + 0.0j)\n",
      "13\n",
      "(-2.71899e-25 + 0.0j)\n",
      "12\n",
      "(-7.09012e-26 + 0.0j)\n",
      "------------------------------\n",
      "------------------------------\n",
      "23\n",
      "(4.04164e-24 + 0.0j)\n",
      "13\n",
      "(3.50655e-25 + 0.0j)\n",
      "12\n",
      "(8.414e-26 + 0.0j)\n",
      "------------------------------\n",
      "------------------------------\n",
      "23\n",
      "(3.42412e-24 + 0.0j)\n",
      "13\n",
      "(2.99794e-25 + 0.0j)\n",
      "12\n",
      "(8.43777e-26 + 0.0j)\n",
      "------------------------------\n",
      "------------------------------\n",
      "23\n",
      "(6.7424e-24 + 1.1128e-25j)\n",
      "13\n",
      "(6.06542e-25 + 9.93931e-27j)\n",
      "12\n",
      "(2.44349e-25 + 1.3047e-29j)\n",
      "------------------------------\n",
      "------------------------------\n",
      "23\n",
      "(-9.64475e-25 + 9.51518e-21j)\n",
      "13\n",
      "(-9.56728e-26 + 7.84415e-22j)\n",
      "12\n",
      "(-7.72538e-26 - 6.65488e-26j)\n",
      "------------------------------\n",
      "------------------------------\n",
      "23\n",
      "(3.04941e-22 + 5.49613e-26j)\n",
      "13\n",
      "(2.75341e-23 + 4.87698e-27j)\n",
      "12\n",
      "(1.15412e-23 + 5.45644e-30j)\n",
      "------------------------------\n",
      "------------------------------\n",
      "23\n",
      "(-1.0518e-21 - 1.40475e-18j)\n",
      "13\n",
      "(-9.37413e-23 - 1.15805e-19j)\n",
      "12\n",
      "(-3.38876e-23 + 9.82476e-24j)\n",
      "------------------------------\n",
      "------------------------------\n",
      "23\n",
      "(-6.56209e-20 + 0.0j)\n",
      "13\n",
      "(-5.73402e-21 + 0.0j)\n",
      "12\n",
      "(-1.56274e-21 + 0.0j)\n",
      "------------------------------\n",
      "------------------------------\n",
      "23\n",
      "(5.39526e-23 + 0.0j)\n",
      "13\n",
      "(4.67381e-24 + 0.0j)\n",
      "12\n",
      "(1.16487e-24 + 0.0j)\n",
      "------------------------------\n",
      "------------------------------\n",
      "23\n",
      "(5.10942e-20 + 0.0j)\n",
      "13\n",
      "(4.35436e-21 + 0.0j)\n",
      "12\n",
      "(7.56945e-22 + 0.0j)\n",
      "------------------------------\n",
      "------------------------------\n",
      "23\n",
      "(-5.3959e-23 + 0.0j)\n",
      "13\n",
      "(-4.67438e-24 + 0.0j)\n",
      "12\n",
      "(-1.16488e-24 + 0.0j)\n",
      "------------------------------\n",
      "------------------------------\n",
      "23\n",
      "(-1.75714e-20 + 0.0j)\n",
      "13\n",
      "(-1.48745e-21 + 0.0j)\n",
      "12\n",
      "(-2.59102e-22 + 0.0j)\n",
      "------------------------------\n",
      "------------------------------\n",
      "23\n",
      "(-8.56479e-18 + 0.0j)\n",
      "13\n",
      "(-7.30731e-19 + 0.0j)\n",
      "12\n",
      "(-1.30843e-19 + 0.0j)\n",
      "------------------------------\n",
      "------------------------------\n",
      "23\n",
      "(5.14303e-18 + 0.0j)\n",
      "13\n",
      "(4.37786e-19 + 0.0j)\n",
      "12\n",
      "(7.85221e-20 + 0.0j)\n",
      "------------------------------\n",
      "------------------------------\n",
      "Total 23\n",
      "3.72571e-18\n",
      "Total 13\n",
      "3.17448e-19\n",
      "Total 12\n",
      "5.34078e-20\n",
      "------------------------------\n"
     ]
    }
   ],
   "source": [
    "for e23, e13, e12 in zip(r23[0],r13[0],r12[0]):\n",
    "    print('-'*30)\n",
    "    print('23')\n",
    "    nprint(e23)\n",
    "    print('13')\n",
    "    nprint(e13)\n",
    "    print('12')\n",
    "    nprint(e12)\n",
    "    print('-'*30)\n",
    "\n",
    "print('-'*30)\n",
    "print('Total 23')\n",
    "nprint(abs(r23[1]))\n",
    "print('Total 13')\n",
    "nprint(abs(r13[1]))\n",
    "print('Total 12')\n",
    "nprint(abs(r12[1]))\n",
    "print('-'*30)"
   ]
  },
  {
   "cell_type": "code",
   "execution_count": 164,
   "metadata": {},
   "outputs": [],
   "source": [
    "mab = lambda a, b: ml[a]**2 - ml[b]**2\n",
    "ALniH = lambda a, b: (ml[a]*ml[b]**2)/mab(a,b)\n",
    "ARniH = lambda a, b: ml[b]/mab(a,b)\n",
    "ALHni = lambda a, b: -ml[a]/mab(a,b)\n",
    "ARHni = lambda a, b:  -ml[a]**2*ml[b]/mab(a,b)"
   ]
  },
  {
   "cell_type": "code",
   "execution_count": 165,
   "metadata": {},
   "outputs": [
    {
     "name": "stdout",
     "output_type": "stream",
     "text": [
      "-0.106035\n",
      "0.0335848\n",
      "-0.0724502\n"
     ]
    }
   ],
   "source": [
    "nprint(ALniH(2,3))\n",
    "nprint(ALHni(2,3))\n",
    "nprint(ALniH(2,3) + ALHni(2,3))"
   ]
  },
  {
   "cell_type": "code",
   "execution_count": 166,
   "metadata": {},
   "outputs": [
    {
     "name": "stdout",
     "output_type": "stream",
     "text": [
      "-0.564788\n",
      "0.00630531\n",
      "-0.558482\n"
     ]
    }
   ],
   "source": [
    "nprint(ARniH(2,3))\n",
    "nprint(ARHni(2,3))\n",
    "nprint(ARniH(2,3) + ARHni(2,3))"
   ]
  },
  {
   "cell_type": "code",
   "execution_count": 168,
   "metadata": {},
   "outputs": [
    {
     "name": "stdout",
     "output_type": "stream",
     "text": [
      "-0.000511\n",
      "0.000161851\n",
      "-0.000349149\n"
     ]
    }
   ],
   "source": [
    "nprint(ALniH(1,3))\n",
    "nprint(ALHni(1,3))\n",
    "nprint(ALniH(1,3) + ALHni(1,3))"
   ]
  },
  {
   "cell_type": "code",
   "execution_count": 169,
   "metadata": {},
   "outputs": [
    {
     "name": "stdout",
     "output_type": "stream",
     "text": [
      "-0.562791\n",
      "1.46956e-7\n",
      "-0.56279\n"
     ]
    }
   ],
   "source": [
    "nprint(ARniH(1,3))\n",
    "nprint(ARHni(1,3))\n",
    "nprint(ARniH(1,3) + ARHni(1,3))"
   ]
  },
  {
   "cell_type": "markdown",
   "metadata": {},
   "source": [
    "**Elegir modelos**"
   ]
  },
  {
   "cell_type": "code",
   "execution_count": 54,
   "metadata": {},
   "outputs": [],
   "source": [
    "modelo = typeI_ξh"
   ]
  },
  {
   "cell_type": "code",
   "execution_count": 66,
   "metadata": {},
   "outputs": [],
   "source": [
    "def ALOneTot23(m6,mHpm_n, mA_n, alpha, beta, l5):\n",
    "    return numeric_sum_diagramsOne(2,3,mHpm_n, mA_n, alpha,beta, l5,quirality='L',\n",
    "                            common_factor=common_factor_h,\n",
    "                            type_2HDM=modelo,\n",
    "                            valores=valores_h)(m6)[1]\n",
    "\n",
    "def AROneTot23(m6,mHpm_n, mA_n, alpha, beta, l5):\n",
    "    return numeric_sum_diagramsOne(2,3,mHpm_n, mA_n, alpha,beta, l5,quirality='R',\n",
    "                            common_factor=common_factor_h,\n",
    "                            type_2HDM=modelo,\n",
    "                            valores=valores_h)(m6)[1]\n",
    "\n",
    "\n",
    "def ALOneTot13(m6,mHpm_n, mA_n, alpha, beta, l5):\n",
    "    return numeric_sum_diagramsOne(1,3,mHpm_n, mA_n, alpha,beta, l5,quirality='L',\n",
    "                            common_factor=common_factor_h,\n",
    "                            type_2HDM=modelo,\n",
    "                            valores=valores_h)(m6)[1]\n",
    "\n",
    "def AROneTot13(m6,mHpm_n, mA_n, alpha, beta, l5):\n",
    "    return numeric_sum_diagramsOne(1,3,mHpm_n, mA_n, alpha,beta, l5,quirality='R',\n",
    "                            common_factor=common_factor_h,\n",
    "                            type_2HDM=modelo,\n",
    "                            valores=valores_h)(m6)[1]\n",
    "\n",
    "\n",
    "def ALOneTot12(m6,mHpm_n, mA_n, alpha, beta, l5):\n",
    "    return numeric_sum_diagramsOne(1,2,mHpm_n, mA_n, alpha,beta, l5,quirality='L',\n",
    "                            common_factor=common_factor_h,\n",
    "                            type_2HDM=modelo,\n",
    "                            valores=valores_h)(m6)[1]\n",
    "\n",
    "def AROneTot12(m6,mHpm_n, mA_n, alpha, beta, l5):\n",
    "    return numeric_sum_diagramsOne(1,2,mHpm_n, mA_n, alpha,beta, l5,quirality='R',\n",
    "                            common_factor=common_factor_h,\n",
    "                            type_2HDM=modelo,\n",
    "                            valores=valores_h)(m6)[1]"
   ]
  },
  {
   "cell_type": "code",
   "execution_count": 25,
   "metadata": {},
   "outputs": [],
   "source": [
    "# nprint(ALOneTot12(mp.mpf('100'),1,2,3,4,5))"
   ]
  },
  {
   "cell_type": "code",
   "execution_count": 26,
   "metadata": {},
   "outputs": [],
   "source": [
    "n = 2\n",
    "expmp = linspace(-1,15,n)\n",
    "m6np = np.array([mpf('10.0')**k for k in expmp])#np.logspace(-1,15,n)"
   ]
  },
  {
   "cell_type": "code",
   "execution_count": null,
   "metadata": {},
   "outputs": [],
   "source": [
    "%%time\n",
    "YLOne23 = speedup_array(ALOneTot23,m6np)\n",
    "\n",
    "YLOne13 = speedup_array(ALOneTot13,m6np)\n",
    "\n",
    "YLOne12 = speedup_array(ALOneTot12,m6np)\n"
   ]
  },
  {
   "cell_type": "code",
   "execution_count": 93,
   "metadata": {},
   "outputs": [
    {
     "data": {
      "text/plain": [
       "<matplotlib.legend.Legend at 0x7fd966d00d10>"
      ]
     },
     "execution_count": 93,
     "metadata": {},
     "output_type": "execute_result"
    },
    {
     "data": {
      "image/png": "[encoded data removed]",
      "text/plain": [
       "<Figure size 1080x576 with 1 Axes>"
      ]
     },
     "metadata": {
      "needs_background": "light"
     },
     "output_type": "display_data"
    }
   ],
   "source": [
    "plt.figure(figsize=(15,8))\n",
    "plt.loglog(np.real(m6np),abs(YLOne23)**2,'-.',label='$A_L^{(1)}(2,3)$')\n",
    "#plt.loglog(np.real(m6np),abs(YLOne32)**2,'--',label='$A_L^{(1)}(3,2)$')\n",
    "\n",
    "plt.loglog(np.real(m6np),abs(YLOne13)**2,'-.',label='$A_L^{(1)}(1,3)$')\n",
    "#plt.loglog(np.real(m6np),abs(YLOne31)**2,'--',label='$A_L^{(1)}(3,1)$')\n",
    "\n",
    "plt.loglog(np.real(m6np),abs(YLOne12)**2,'-.',label='$A_L^{(1)}(1,2)$')\n",
    "#plt.loglog(np.real(m6np),abs(YLOne21)**2,'--',label='$A_L^{(1)}(2,1)$')\n",
    "plt.xticks(fontsize=15)\n",
    "plt.yticks(fontsize=15)\n",
    "\n",
    "plt.legend(fontsize=15)"
   ]
  },
  {
   "cell_type": "markdown",
   "metadata": {
    "tags": []
   },
   "source": [
    "### Form factor with two fermion in the loop."
   ]
  },
  {
   "cell_type": "code",
   "execution_count": 44,
   "metadata": {},
   "outputs": [
    {
     "data": {
      "image/png": "[encoded data removed]",
      "text/latex": [
       "$\\displaystyle \\left\\{ {C}_{i,j} : C_{ij}, \\  {{{C^*}}}_{i,j} : {{C_{ij}^*}}, \\  {{{U^\\nu}}}_{b,j} : U_{bj}, \\  {{{U^{\\nu *}}}}_{a,i} : {{U_{ai}^*}}, \\  {{{m_n}}}_{i} : m_{n_i}, \\  {{{m_n}}}_{j} : m_{n_j}\\right\\}$"
      ],
      "text/plain": [
       "{C[i, j]: C_{ij}, {{C^*}}[i, j]: {{C_{ij}__*}}, {{U^\\nu}}[b, j]: U_{bj}, {{U^{\n",
       "\\nu *}}}[a, i]: {{U_{ai}__*}}, {{m_n}}[i]: m_{n_i}, {{m_n}}[j]: m_{n_j}}"
      ]
     },
     "execution_count": 44,
     "metadata": {},
     "output_type": "execute_result"
    }
   ],
   "source": [
    "mnj = symbols('m_{n_j}',positive=True)\n",
    "Cijs, Cijcs, Ubj = symbols('C_{ij}, {{C_{ij}^*}},U_{bj}')\n",
    "UnuTwo = {mn[i]:mni,mn[jj]:mnj,C[i,jj]:Cijs, Cc[i,jj]:Cijcs, Uν[b,jj]:Ubj, Uνc[a,i]:Ucai}\n",
    "UnuTwo"
   ]
  },
  {
   "cell_type": "code",
   "execution_count": 154,
   "metadata": {},
   "outputs": [],
   "source": [
    "#TrianglesTwoFermion[0].AL().subs(lfvhd.D,4).subs(cambios_hab(2,3)).subs(valores_h).subs(UnuTwo)"
   ]
  },
  {
   "cell_type": "code",
   "execution_count": 46,
   "metadata": {},
   "outputs": [],
   "source": [
    "def FFsymbolic(k,a,b,quirality='L',common_factor=common_factor_h,type_2HDM=typeI_ξh,valores=valores_h):\n",
    "    if quirality=='L':\n",
    "        FF = TrianglesTwoFermion[k].AL()\n",
    "    elif quirality=='R':\n",
    "        FF = TrianglesTwoFermion[k].AR()\n",
    "    else:\n",
    "        raise ValueError('quirality must be L or R')\n",
    "    return FF.subs(common_factor).subs(type_2HDM).subs(lfvhd.D,4).subs(cambios_hab(a,b)).subs(valores).subs(UnuTwo)\n",
    "#fsR = lambda k,a,b:TrianglesTwoFermion[k].AR().subs(lfvhd.D,4).subs(cambios_hab(a,b)).subs(valores_h).subs(UnuTwo)"
   ]
  },
  {
   "cell_type": "code",
   "execution_count": 33,
   "metadata": {},
   "outputs": [],
   "source": [
    "#FFsymbolic(2,2,3).atoms(Symbol)"
   ]
  },
  {
   "cell_type": "markdown",
   "metadata": {},
   "source": [
    "**Cambiar modelo o scalar**"
   ]
  },
  {
   "cell_type": "code",
   "execution_count": 47,
   "metadata": {},
   "outputs": [],
   "source": [
    "FFmpL = lambda k,a,b:lambdify([mni,mnj,Ubj,Ucai,Cijs,Cijcs,mHpm_aux,α,β],\n",
    "                              replaceBs(FFsymbolic(k,a,b,quirality='L'\n",
    "                            ,common_factor=common_factor_h,\n",
    "                            type_2HDM=modelo#########\n",
    "                            ,valores=valores_h).subs(mHpm,mHpm_aux)),\n",
    "                     modules=[pave_functions(valores_h[mh],a,b,lib='mpmath'),'mpmath'] )\n",
    "\n",
    "FFmpR = lambda k,a,b:lambdify([mni,mnj,Ubj,Ucai,Cijs,Cijcs,mHpm_aux,α,β],\n",
    "                              replaceBs(FFsymbolic(k,a,b,quirality='R'\n",
    "                            ,common_factor=common_factor_h,\n",
    "                            type_2HDM=modelo#########\n",
    "                            ,valores=valores_h).subs(mHpm,mHpm_aux)),\n",
    "                     modules=[pave_functions(valores_h[mh],a,b,lib='mpmath'),'mpmath'] )"
   ]
  },
  {
   "cell_type": "code",
   "execution_count": 35,
   "metadata": {},
   "outputs": [],
   "source": [
    "#nprint(FFmpL(0,2,3)(1,2,3,4,5,6,7,8,9))"
   ]
  },
  {
   "cell_type": "code",
   "execution_count": 48,
   "metadata": {},
   "outputs": [],
   "source": [
    "def sumatwo(mm6,k,a,b,mHpm_n,alpha,beta,quirality='L'):\n",
    "    xs = []\n",
    "    if quirality=='L':\n",
    "        g = FFmpL(k,a,b)\n",
    "    elif quirality=='R':\n",
    "        g = FFmpR(k,a,b)\n",
    "    else:\n",
    "        raise ValueError('quirality must be L or R')\n",
    "        \n",
    "    mnk,UnuL, UnuR = diagonalizationMnu1(m1,mm6)\n",
    "    Unu = UnuL\n",
    "    Unu_dagger = UnuR\n",
    "    #Cij = lambda i,j: mp.fsum([Unu[c,i]*conj(Unu[c,j]) for c in range(3)])\n",
    "    Cij = lambda i,j: mp.fsum([Unu[c,i]*Unu_dagger[j,c] for c in range(3)])\n",
    "    for p in range(1,7):\n",
    "        for q in range(1,7):\n",
    "            #x = g(mnk[p-1],mnk[q-1],Unu[b-1,q-1],conj(Unu[a-1,p-1]),Cij(p-1,q-1),conj(Cij(p-1,q-1)),mHpm_n,alpha,beta)\n",
    "            x = g(mnk[p-1],mnk[q-1],Unu[b-1,q-1],Unu_dagger[p-1,a-1],Cij(p-1,q-1),conj(Cij(p-1,q-1)),mHpm_n,alpha,beta)\n",
    "            xs.append(x)\n",
    "            #print(f'i = {p} and j = {q}')\n",
    "            #print(f'|f| = {x}')\n",
    "    return mp.fsum(xs)"
   ]
  },
  {
   "cell_type": "code",
   "execution_count": 49,
   "metadata": {},
   "outputs": [],
   "source": [
    "def totaltwo(m6,a,b,mHpm_n,alpha,beta,quirality='L'):\n",
    "    #print('Inside totaltwo')\n",
    "    #print('doble suma sobre i j')\n",
    "    out = (sumatwo(m6,0,a,b,mHpm_n,alpha,beta,quirality) + sumatwo(m6,1,a,b,mHpm_n,alpha,beta,quirality)\n",
    "           + sumatwo(m6,2,a,b,mHpm_n,alpha,beta,quirality))\n",
    "    #print('doble suma sobre i j terminada')\n",
    "    return out"
   ]
  },
  {
   "cell_type": "code",
   "execution_count": 137,
   "metadata": {},
   "outputs": [
    {
     "name": "stdout",
     "output_type": "stream",
     "text": [
      "------------------------------\n",
      "23\n",
      "(-3.35709e-20 - 9.28041e-30j)\n",
      "13\n",
      "(-2.8712e-21 - 3.20565e-32j)\n",
      "12\n",
      "(-4.9938e-22 + 2.29888e-32j)\n",
      "------------------------------\n",
      "23\n",
      "(-5.77936e-23 + 2.13066e-29j)\n",
      "13\n",
      "(-5.04247e-24 + 4.86149e-32j)\n",
      "12\n",
      "(-1.33902e-24 - 5.46517e-32j)\n",
      "------------------------------\n",
      "23\n",
      "(3.42195e-18 - 2.09173e-23j)\n",
      "13\n",
      "(2.9296e-19 - 3.70155e-24j)\n",
      "12\n",
      "(5.23194e-20 - 3.36932e-26j)\n",
      "------------------------------\n",
      "Total 23\n",
      "3.38832e-18\n",
      "Total 13\n",
      "2.90084e-19\n",
      "Total 12\n",
      "5.18187e-20\n",
      "------------------------------\n"
     ]
    }
   ],
   "source": [
    "for k in range(3):\n",
    "    \n",
    "    print('-'*30)\n",
    "    print('23')\n",
    "    nprint(sumatwo(mp.mpf('1000.0'),k,2,3,mHpm_val,α_val,β_val,quirality='L'))\n",
    "    print('13')\n",
    "    nprint(sumatwo(mp.mpf('1000.0'),k,1,3,mHpm_val,α_val,β_val,quirality='L'))\n",
    "    print('12')\n",
    "    nprint(sumatwo(mp.mpf('1000.0'),k,1,2,mHpm_val,α_val,β_val,quirality='L'))\n",
    "\n",
    "print('-'*30)\n",
    "print('Total 23')\n",
    "nprint(abs(totaltwo(mp.mpf('1000.0'),2,3,mHpm_val,α_val,β_val,quirality='L')))\n",
    "print('Total 13')\n",
    "nprint(abs(totaltwo(mp.mpf('1000.0'),1,3,mHpm_val,α_val,β_val,quirality='L')))\n",
    "print('Total 12')\n",
    "nprint(abs(totaltwo(mp.mpf('1000.0'),1,2,mHpm_val,α_val,β_val,quirality='L')))\n",
    "print('-'*30)"
   ]
  },
  {
   "cell_type": "code",
   "execution_count": 50,
   "metadata": {},
   "outputs": [],
   "source": [
    "def ALTwoTot23(m6,mHpm_n,alpha,beta):\n",
    "    return totaltwo(m6,2,3,mHpm_n,alpha,beta,quirality='L')\n",
    "def ARTwoTot23(m6,mHpm_n,alpha,beta): \n",
    "    return totaltwo(m6,2,3,mHpm_n,alpha,beta,quirality='R')\n",
    "\n",
    "#def ALTwoTot32(m6,mHpm_n,alpha,beta): \n",
    "#return totaltwo(m6,3,2,mHpm_n,alpha,beta,quirality='L')\n",
    "#def ARTwoTot32(m6,mHpm_n,alpha,beta): \n",
    "#return totaltwo(m6,3,2,mHpm_n,alpha,beta,quirality='R')\n",
    "\n",
    "def ALTwoTot13(m6,mHpm_n,alpha,beta): \n",
    "    return totaltwo(m6,1,3,mHpm_n,alpha,beta,quirality='L')\n",
    "def ARTwoTot13(m6,mHpm_n,alpha,beta): \n",
    "    return totaltwo(m6,1,3,mHpm_n,alpha,beta,quirality='R')\n",
    "\n",
    "#def ALTwoTot31(m6,mHpm_n,alpha,beta): \n",
    "#return totaltwo(m6,3,1,mHpm_n,alpha,beta,quirality='L')\n",
    "#def ARTwoTot31(m6,mHpm_n,alpha,beta): \n",
    "#return totaltwo(m6,3,1,mHpm_n,alpha,beta,quirality='R')\n",
    "def ALTwoTot12(m6,mHpm_n,alpha,beta): \n",
    "    return totaltwo(m6,1,2,mHpm_n,alpha,beta,quirality='L')\n",
    "def ARTwoTot12(m6,mHpm_n,alpha,beta): \n",
    "    return totaltwo(m6,1,2,mHpm_n,alpha,beta,quirality='R')\n",
    "\n",
    "#def ALTwoTot21(m6,mHpm_n,alpha,beta): \n",
    "#return totaltwo(m6,2,1,mHpm_n,alpha,beta,quirality='L')\n",
    "#def ARTwoTot21(m6,mHpm_n,alpha,beta): \n",
    "#return totaltwo(m6,2,1,mHpm_n,alpha,beta,quirality='R')"
   ]
  },
  {
   "cell_type": "code",
   "execution_count": 138,
   "metadata": {},
   "outputs": [
    {
     "name": "stdout",
     "output_type": "stream",
     "text": [
      "3.38832e-18\n",
      "2.90084e-19\n",
      "5.18187e-20\n"
     ]
    }
   ],
   "source": [
    "nprint((abs(ALTwoTot23(mp.mpf('1000.0'),mHpm_val,α_val,β_val))))\n",
    "nprint((abs(ALTwoTot13(mp.mpf('1000.0'),mHpm_val,α_val,β_val))))\n",
    "nprint((abs(ALTwoTot12(mp.mpf('1000.0'),mHpm_val,α_val,β_val))))"
   ]
  },
  {
   "cell_type": "markdown",
   "metadata": {},
   "source": [
    "## Total Form Factors"
   ]
  },
  {
   "cell_type": "code",
   "execution_count": 139,
   "metadata": {},
   "outputs": [],
   "source": [
    "#a = 2, b = 3\n",
    "def ALtot23(m6,mHpm_n, mA_n, alpha, beta, l5):\n",
    "    ALOne = ALOneTot23(m6,mHpm_n, mA_n, alpha, beta, l5)\n",
    "    ALTwo = ALTwoTot23(m6,mHpm_n,alpha,beta)\n",
    "    print('ALOne23 =')\n",
    "    nprint(ALOne)\n",
    "    print('ALTwo23 =')\n",
    "    nprint(ALTwo)\n",
    "    return  ALOne + ALTwo\n",
    "def ARtot23(m6,mHpm_n, mA_n, alpha, beta, l5):\n",
    "    AROne = AROneTot23(m6,mHpm_n, mA_n, alpha, beta, l5)\n",
    "    ARTwo = ARTwoTot23(m6,mHpm_n,alpha,beta)\n",
    "    print('AROne23 =')\n",
    "    nprint(AROne)\n",
    "    print('ARTwo23 =')\n",
    "    nprint(ARTwo)\n",
    "    return  AROne + ARTwo\n",
    "\n",
    "#a = 3, b = 2\n",
    "# def ALtot32(m6,mHpm_n, mA_n, alpha, beta, l5):\n",
    "#     return  ALOneTot32(m6,mHpm_n, mA_n, alpha, beta, l5) + ALTwoTot32(m6,mHpm_n,alpha,beta)\n",
    "# def ARtot32(m6,mHpm_n, mA_n, alpha, beta, l5):\n",
    "#     return  AROneTot32(m6,mHpm_n, mA_n, alpha, beta, l5) + ARTwoTot32(m6,mHpm_n,alpha,beta)\n",
    "\n",
    "#a = 1, b = 3\n",
    "def ALtot13(m6,mHpm_n, mA_n, alpha, beta, l5):\n",
    "    ALOne = ALOneTot13(m6,mHpm_n, mA_n, alpha, beta, l5)\n",
    "    ALTwo = ALTwoTot13(m6,mHpm_n,alpha,beta)\n",
    "    print('ALOne13 =')\n",
    "    nprint(ALOne)\n",
    "    print('ALTwo13 =')\n",
    "    nprint(ALTwo)\n",
    "    return  ALOne + ALTwo\n",
    "def ARtot13(m6,mHpm_n, mA_n, alpha, beta, l5):\n",
    "    AROne = AROneTot13(m6,mHpm_n, mA_n, alpha, beta, l5)\n",
    "    ARTwo = ARTwoTot13(m6,mHpm_n,alpha,beta)\n",
    "    print('AROne13 =')\n",
    "    nprint(AROne)\n",
    "    print('ARTwo13 =')\n",
    "    nprint(ARTwo)\n",
    "    return  AROne + ARTwo\n",
    "\n",
    "#a = 3, b = 1\n",
    "# def ALtot31(m6,mHpm_n, mA_n, alpha, beta, l5):\n",
    "#     return  ALOneTot31(m6,mHpm_n, mA_n, alpha, beta, l5) + ALTwoTot31(m6,mHpm_n,alpha,beta)\n",
    "# def ARtot31(m6,mHpm_n, mA_n, alpha, beta, l5):\n",
    "#     return  AROneTot31(m6,mHpm_n, mA_n, alpha, beta, l5) + ARTwoTot31(m6,mHpm_n,alpha,beta)\n",
    "\n",
    "#a = 1, b = 2\n",
    "def ALtot12(m6,mHpm_n, mA_n, alpha, beta, l5):\n",
    "    ALOne = ALOneTot12(m6,mHpm_n, mA_n, alpha, beta, l5)\n",
    "    ALTwo = ALTwoTot12(m6,mHpm_n,alpha,beta)\n",
    "    print('ALOne12 =')\n",
    "    nprint(ALOne)\n",
    "    print('ALTwo12 =')\n",
    "    nprint(ALTwo)\n",
    "    return  ALOne + ALTwo\n",
    "def ARtot12(m6,mHpm_n, mA_n, alpha, beta, l5):\n",
    "    AROne = AROneTot12(m6,mHpm_n, mA_n, alpha, beta, l5)\n",
    "    ARTwo = ARTwoTot12(m6,mHpm_n,alpha,beta)\n",
    "    print('AROne12 =')\n",
    "    nprint(AROne)\n",
    "    print('ARTwo12 =')\n",
    "    nprint(ARTwo)\n",
    "    return  AROne + ARTwo\n",
    "\n",
    "#a = 2, b = 1\n",
    "# def ALtot21(m6,mHpm_n, mA_n, alpha, beta, l5):\n",
    "#     return  ALOneTot21(m6,mHpm_n, mA_n, alpha, beta, l5) + ALTwoTot21(m6,mHpm_n,alpha,beta)\n",
    "# def ARtot21(m6,mHpm_n, mA_n, alpha, beta, l5):\n",
    "#     return  AROneTot21(m6,mHpm_n, mA_n, alpha, beta, l5) + ARTwoTot21(m6,mHpm_n,alpha,beta)"
   ]
  },
  {
   "cell_type": "code",
   "execution_count": 140,
   "metadata": {},
   "outputs": [
    {
     "name": "stdout",
     "output_type": "stream",
     "text": [
      "AL13 = \n",
      "ALOne13 =\n",
      "(-9.44008e-12 - 7.85373e-13j)\n",
      "ALTwo13 =\n",
      "(9.44008e-12 - 1.09815e-16j)\n",
      "7.85483e-13\n",
      "AR13 = \n",
      "AROne13 =\n",
      "(-3.28253e-8 - 2.73092e-9j)\n",
      "ARTwo13 =\n",
      "(3.28253e-8 - 4.24284e-14j)\n",
      "2.73096e-9\n",
      "----------------------------------------------------------------------------------------------\n",
      "AL12 = \n",
      "ALOne12 =\n",
      "(-1.71822e-12 - 1.45674e-13j)\n",
      "ALTwo12 =\n",
      "(1.71822e-12 - 4.89298e-18j)\n",
      "1.45678e-13\n",
      "AR12 = \n",
      "AROne12 =\n",
      "(-3.55278e-10 - 3.01211e-11j)\n",
      "ARTwo12 =\n",
      "(3.55278e-10 - 4.50298e-16j)\n",
      "3.01215e-11\n",
      "CPU times: user 1min 23s, sys: 20 ms, total: 1min 23s\n",
      "Wall time: 1min 23s\n"
     ]
    }
   ],
   "source": [
    "%%time\n",
    "# print('AL23 = ')\n",
    "# nprint(abs(ALtot23(mp.mpf('1e10'),mHpm_val,mA_val,α_val,β_val,l5_val)))\n",
    "# print('AR23 = ')\n",
    "# nprint(abs(ARtot23(mp.mpf('1e10'),mHpm_val,mA_val,α_val,β_val,l5_val)))\n",
    "print('AL13 = ')\n",
    "nprint(abs(ALtot13(mp.mpf('1e10'),mHpm_val,mA_val,α_val,β_val,l5_val)))\n",
    "print('AR13 = ')\n",
    "nprint(abs(ARtot13(mp.mpf('1e10'),mHpm_val,mA_val,α_val,β_val,l5_val)))\n",
    "print('-'*94)\n",
    "print('AL12 = ')\n",
    "nprint(abs(ALtot12(mp.mpf('1e10'),mHpm_val,mA_val,α_val,β_val,l5_val)))\n",
    "print('AR12 = ')\n",
    "nprint(abs(ARtot12(mp.mpf('1e10'),mHpm_val,mA_val,α_val,β_val,l5_val)))"
   ]
  },
  {
   "cell_type": "code",
   "execution_count": 76,
   "metadata": {},
   "outputs": [],
   "source": [
    "def betaf(tb):\n",
    "    return mp.atan(tb)\n",
    "def alphaf(tb,x0=mp.mpf('0.95')):\n",
    "    return mp.atan(tb) - mp.acos(x0)"
   ]
  },
  {
   "cell_type": "code",
   "execution_count": 141,
   "metadata": {},
   "outputs": [],
   "source": [
    "mHpm_val = mp.mpf('1500.0') \n",
    "mA_val = mp.mpf('1300.0') \n",
    "l5_val = mp.mpf('1') \n",
    "m6_val = mp.mpf('1e15')\n",
    "# Φ =2"
   ]
  },
  {
   "cell_type": "code",
   "execution_count": 142,
   "metadata": {},
   "outputs": [],
   "source": [
    "def ALtot23_caso1(tb):\n",
    "    return ALtot23(m6_val,mHpm_n=mHpm_val, mA_n=mA_val,alpha=alphaf(tb),beta=betaf(tb),l5=l5_val)\n",
    "def ARtot23_caso1(tb):\n",
    "    return ARtot23(m6_val,mHpm_n=mHpm_val, mA_n=mA_val,alpha=alphaf(tb),beta=betaf(tb),l5=l5_val)\n",
    "\n",
    "\n",
    "def ALtot13_caso1(tb):\n",
    "    return ALtot13(m6_val,mHpm_n=mHpm_val, mA_n=mA_val,alpha=alphaf(tb),beta=betaf(tb),l5=l5_val)\n",
    "def ARtot13_caso1(tb):\n",
    "    return ARtot13(m6_val,mHpm_n=mHpm_val, mA_n=mA_val,alpha=alphaf(tb),beta=betaf(tb),l5=l5_val)\n",
    "\n",
    "\n",
    "def ALtot12_caso1(tb):\n",
    "    return ALtot12(m6_val,mHpm_n=mHpm_val, mA_n=mA_val,alpha=alphaf(tb),beta=betaf(tb),l5=l5_val)\n",
    "def ARtot12_caso1(tb):\n",
    "    return ARtot12(m6_val,mHpm_n=mHpm_val, mA_n=mA_val,alpha=alphaf(tb),beta=betaf(tb),l5=l5_val)"
   ]
  },
  {
   "cell_type": "markdown",
   "metadata": {},
   "source": [
    "## Width decay of $h \\to e_a e_b$"
   ]
  },
  {
   "cell_type": "code",
   "execution_count": 143,
   "metadata": {},
   "outputs": [],
   "source": [
    "from OneLoopLFVHD import Γhlilj \n",
    "# def Γhlilj(ML,MR,ma=mpf('125.18'),mi=ml[2],mj=ml[3]):\n",
    "#     r = 1/(8 *pi* ma)*sqrt((1-((mi**2+mj**2)/ma)**2)*(1-((mi**2-mj**2)/ma)**2))*((ma**2 - mi**2 - mj**2)*(abs(ML)**2 + abs(MR)**2)-4*mi*mj*re(ML*conj(MR)))\n",
    "#     return r"
   ]
  },
  {
   "cell_type": "code",
   "execution_count": 144,
   "metadata": {},
   "outputs": [],
   "source": [
    "def Γhlilj(ML,MR,ma=125.18,mi=1.777,mj=0.1507):\n",
    "    sqrt_term = np.sqrt((1-((mi**2+mj**2)/ma)**2)*(1-((mi**2-mj**2)/ma)**2))\n",
    "    #print('sqrt term = ',sqrt_term)\n",
    "    maij = ma**2 - mi**2 - mj**2\n",
    "    print('maij = ',maij)\n",
    "    A = maij*(np.abs(ML)**2 + np.abs(MR)**2)\n",
    "    B = 4*mi*mj*np.real(ML*np.conj(MR))\n",
    "    print('A = ',A)\n",
    "    print('B = ',B)\n",
    "    r = 1/(8*np.pi* ma)*sqrt_term*(A-B)\n",
    "    return r"
   ]
  },
  {
   "cell_type": "code",
   "execution_count": 92,
   "metadata": {},
   "outputs": [],
   "source": [
    "import sympy as sp\n",
    "ma,mi,mj = sp.symbols('m_a, m_i, m_j',positive=True)\n",
    "ML, MR = sp.symbols('M_L, MR')"
   ]
  },
  {
   "cell_type": "code",
   "execution_count": 94,
   "metadata": {},
   "outputs": [
    {
     "data": {
      "image/png": "[encoded data removed]",
      "text/latex": [
       "$\\displaystyle \\frac{\\sqrt{\\left(1 - \\frac{\\left(m_{i}^{2} - m_{j}^{2}\\right)^{2}}{m_{a}^{2}}\\right) \\left(1 - \\frac{\\left(m_{i}^{2} + m_{j}^{2}\\right)^{2}}{m_{a}^{2}}\\right)} \\left(- 4 m_{i} m_{j} \\operatorname{re}{\\left(M_{L} \\overline{MR}\\right)} + \\left(\\left|{MR}\\right|^{2} + \\left|{M_{L}}\\right|^{2}\\right) \\left(m_{a}^{2} - m_{i}^{2} - m_{j}^{2}\\right)\\right)}{8 \\pi m_{a}}$"
      ],
      "text/plain": [
       "       _________________________________________                              \n",
       "      ╱ ⎛                2⎞ ⎛                2⎞                               \n",
       "     ╱  ⎜    ⎛  2      2⎞ ⎟ ⎜    ⎛  2      2⎞ ⎟                               \n",
       "    ╱   ⎜    ⎝mᵢ  - m_j ⎠ ⎟ ⎜    ⎝mᵢ  + m_j ⎠ ⎟  ⎛             ⎛    __⎞   ⎛   \n",
       "   ╱    ⎜1 - ─────────────⎟⋅⎜1 - ─────────────⎟ ⋅⎝- 4⋅mᵢ⋅m_j⋅re⎝M_L⋅MR⎠ + ⎝│MR\n",
       "  ╱     ⎜           2     ⎟ ⎜           2     ⎟                               \n",
       "╲╱      ⎝         mₐ      ⎠ ⎝         mₐ      ⎠                               \n",
       "──────────────────────────────────────────────────────────────────────────────\n",
       "                                                    8⋅π⋅mₐ                    \n",
       "\n",
       "                                \n",
       "                                \n",
       "                                \n",
       " 2        2⎞ ⎛  2     2      2⎞⎞\n",
       "│  + │M_L│ ⎠⋅⎝mₐ  - mᵢ  - m_j ⎠⎠\n",
       "                                \n",
       "                                \n",
       "────────────────────────────────\n",
       "                                "
      ]
     },
     "execution_count": 94,
     "metadata": {},
     "output_type": "execute_result"
    }
   ],
   "source": [
    "r = 1/(8*sp.pi* ma)*sp.sqrt((1-((mi**2+mj**2)/ma)**2)*(1-((mi**2-mj**2)/ma)**2))*((ma**2 - mi**2 - mj**2)*(abs(ML)**2 + abs(MR)**2)-4*mi*mj*sp.re(ML*sp.conjugate(MR)))\n",
    "r"
   ]
  },
  {
   "cell_type": "code",
   "execution_count": 145,
   "metadata": {},
   "outputs": [],
   "source": [
    "def Γhl2l3(tb):\n",
    "    return Γhlilj(ALtot23_caso1(tb),ARtot23_caso1(tb),\n",
    "                  ma=valores_h[mh],mi=ml[2],mj=ml[3])\n",
    "\n",
    "\n",
    "def Γhl1l3(tb):\n",
    "    return Γhlilj(ALtot13_caso1(tb),ARtot13_caso1(tb),\n",
    "                  ma=valores_h[mh],mi=ml[1],mj=ml[3])\n",
    "\n",
    "\n",
    "def Γhl1l2(tb):\n",
    "    return Γhlilj(ALtot12_caso1(tb),ARtot12_caso1(tb),\n",
    "                  ma=valores_h[mh],mi=ml[1],mj=ml[2])"
   ]
  },
  {
   "cell_type": "markdown",
   "metadata": {},
   "source": [
    "### Aproximation"
   ]
  },
  {
   "cell_type": "code",
   "execution_count": 149,
   "metadata": {},
   "outputs": [],
   "source": [
    "def Γhlilj(ML,MR,ma=125.18):\n",
    "    maij = ma**2# - mi**2 - mj**2\n",
    "    # print('maij = ',maij)\n",
    "    A = maij*(np.abs(ML)**2 + np.abs(MR)**2)\n",
    "    #B = 4*mi*mj*np.real(ML*np.conj(MR))\n",
    "    print('A = ')\n",
    "    nprint(A)\n",
    "    #print('B = ',B)\n",
    "    r = 1/(8*np.pi* ma)*(A)\n",
    "    return r"
   ]
  },
  {
   "cell_type": "code",
   "execution_count": 152,
   "metadata": {},
   "outputs": [],
   "source": [
    "def Γhl2l3(tb):\n",
    "    AL = ALtot23_caso1(tb)\n",
    "    AR = ARtot23_caso1(tb)\n",
    "    print('|AL|^2 = ')\n",
    "    nprint(abs(AL)**2)\n",
    "    print('|AR|^2 = ')\n",
    "    nprint(abs(AR)**2)\n",
    "    return Γhlilj(AL,AR,ma=valores_h[mh])\n",
    "\n",
    "\n",
    "def Γhl1l3(tb):\n",
    "    AL = ALtot13_caso1(tb)\n",
    "    AR = ARtot13_caso1(tb)\n",
    "    print('|AL|^2 = ')\n",
    "    nprint(abs(AL)**2)\n",
    "    print('|AR|^2 = ')\n",
    "    nprint(abs(AR)**2)\n",
    "    return Γhlilj(AL,AR,ma=valores_h[mh])\n",
    "\n",
    "\n",
    "def Γhl1l2(tb):\n",
    "    AL = ALtot12_caso1(tb)\n",
    "    AR = ARtot12_caso1(tb)\n",
    "    print('|AL|^2 = ')\n",
    "    nprint(abs(AL)**2)\n",
    "    print('|AR|^2 = ')\n",
    "    nprint(abs(AR)**2)\n",
    "    return Γhlilj(AL,AR,ma=valores_h[mh])"
   ]
  },
  {
   "cell_type": "code",
   "execution_count": 153,
   "metadata": {},
   "outputs": [
    {
     "name": "stdout",
     "output_type": "stream",
     "text": [
      "ALOne23 =\n",
      "(-2.47717e-25 - 2.08689e-7j)\n",
      "ALTwo23 =\n",
      "(-6.04422e-12 - 2.87068e-8j)\n",
      "AROne23 =\n",
      "(-1.47092e-26 - 3.50947e-6j)\n",
      "ARTwo23 =\n",
      "(-1.23719e-9 - 5.36401e-8j)\n",
      "|AL|^2 = \n",
      "5.63566e-14\n",
      "|AR|^2 = \n",
      "1.26957e-11\n",
      "A = \n",
      "1.9957e-7\n",
      "6.34745e-11\n",
      "ALOne13 =\n",
      "(3.87412e-17 - 1.78929e-8j)\n",
      "ALTwo13 =\n",
      "(-2.81088e-19 - 2.79736e-9j)\n",
      "AROne13 =\n",
      "(1.11414e-20 - 6.22174e-5j)\n",
      "ARTwo13 =\n",
      "(-5.72932e-11 - 1.08079e-6j)\n",
      "|AL|^2 = \n",
      "4.28085e-16\n",
      "|AR|^2 = \n",
      "4.00667e-9\n",
      "A = \n",
      "6.27044e-5\n",
      "1.99435e-8\n",
      "ALOne12 =\n",
      "(1.0006e-18 - 3.31883e-9j)\n",
      "ALTwo12 =\n",
      "(1.96039e-20 - 1.2464e-10j)\n",
      "AROne12 =\n",
      "(4.83918e-21 - 6.86237e-7j)\n",
      "ARTwo12 =\n",
      "(1.69435e-14 - 1.14706e-8j)\n",
      "|AL|^2 = \n",
      "1.18575e-17\n",
      "|AR|^2 = \n",
      "4.86796e-13\n",
      "A = \n",
      "7.61856e-9\n",
      "2.42312e-12\n",
      "CPU times: user 2min 13s, sys: 40 ms, total: 2min 13s\n",
      "Wall time: 2min 13s\n"
     ]
    }
   ],
   "source": [
    "%%time\n",
    "tb = mp.mpf('1.0')\n",
    "nprint(Γhl2l3(tb))\n",
    "nprint(Γhl1l3(tb))\n",
    "nprint(Γhl1l2(tb))"
   ]
  },
  {
   "cell_type": "code",
   "execution_count": 96,
   "metadata": {},
   "outputs": [],
   "source": [
    "# n = 200#800\n",
    "# expmp = linspace(-1,15,n)\n",
    "# m6np = np.array([mpf('10.0')**k for k in expmp])#np.logspace(-1,15,n)"
   ]
  },
  {
   "cell_type": "code",
   "execution_count": 84,
   "metadata": {},
   "outputs": [],
   "source": [
    "n = 20#800\n",
    "# tbmp = linspace(0.1,100,n)\n",
    "expmp = linspace(-1,2,n)\n",
    "tbmp = np.array([mpf('10.0')**k for k in expmp])#np.logspace(-1,15,n)"
   ]
  },
  {
   "cell_type": "code",
   "execution_count": 85,
   "metadata": {},
   "outputs": [
    {
     "name": "stdout",
     "output_type": "stream",
     "text": [
      "CPU times: user 160 ms, sys: 117 ms, total: 276 ms\n",
      "Wall time: 23min 54s\n"
     ]
    }
   ],
   "source": [
    "%%time\n",
    "YW23 = speedup_array(Γhl2l3,tbmp)\n",
    "\n",
    "YW13 = speedup_array(Γhl1l3,tbmp)\n",
    "\n",
    "YW12 = speedup_array(Γhl1l2,tbmp)\n"
   ]
  },
  {
   "cell_type": "code",
   "execution_count": 86,
   "metadata": {},
   "outputs": [],
   "source": [
    "Wtot = YW23 + YW13 + YW12 + 0.0032# + YW32 + YW31 + YW21"
   ]
  },
  {
   "cell_type": "code",
   "execution_count": 87,
   "metadata": {},
   "outputs": [
    {
     "data": {
      "text/plain": [
       "<matplotlib.legend.Legend at 0x7f13514f94f0>"
      ]
     },
     "execution_count": 87,
     "metadata": {},
     "output_type": "execute_result"
    },
    {
     "data": {
      "image/png": "[encoded data removed]",
      "text/plain": [
       "<Figure size 1080x576 with 1 Axes>"
      ]
     },
     "metadata": {
      "needs_background": "light"
     },
     "output_type": "display_data"
    }
   ],
   "source": [
    "plt.figure(figsize=(15,8))\n",
    "plt.loglog(np.real(tbmp),(YW23)/Wtot,label=r'Br($h \\to \\mu \\tau$)')\n",
    "plt.loglog(np.real(tbmp),(YW13)/Wtot,label=r'Br($h \\to e \\tau$)')\n",
    "plt.loglog(np.real(tbmp),(YW12)/Wtot,label=r'Br($h \\to e \\mu$)')\n",
    "\n",
    "# Horizontal lines\n",
    "plt.hlines(1e-9,0.1,1e2,linestyles='-.',label=r'$1\\times 10^{-9}$')\n",
    "plt.hlines(1e-46,0.1,1e2,linestyles='--',color='b',label=r'$1\\times 10^{-46}$')\n",
    "\n",
    "# Vertical lines\n",
    "plt.vlines(1,1e-46,1e-9,linestyles='--',color='r',label=r'$\\tan{\\beta}=1$')\n",
    "\n",
    "#Axis\n",
    "#plt.yticks([1e-49,1e-39,1e-29,1e-19,1e-9],fontsize=18)\n",
    "#plt.xticks([0.1,1,10,100],fontsize=18)\n",
    "plt.xlabel(r'$\\tan{\\beta}$',fontsize=18)\n",
    "plt.ylabel(r'$\\mathcal{BR}(h \\to e_a e_b)$',fontsize=18)\n",
    "\n",
    "\n",
    "plt.title(r'$m_A=800$ GeV, $m_{H^{\\pm}}=1000$ GeV, $m_{n_6}={10^{10}}$ GeV,$\\lambda_5=0.1$',fontsize=18)\n",
    "plt.legend(fontsize=18,frameon=True,ncol=2,loc=4)\n",
    "#plt.savefig('2HDM-lepton-specific-Cba0.95-caso5.png',dpi=100)"
   ]
  },
  {
   "cell_type": "code",
   "execution_count": 66,
   "metadata": {},
   "outputs": [],
   "source": [
    "import pandas as pd"
   ]
  },
  {
   "cell_type": "code",
   "execution_count": 67,
   "metadata": {},
   "outputs": [],
   "source": [
    "df = pd.DataFrame({'tb':tbmp,\n",
    "                   'Whl2l3':YW23,\n",
    "                   #'Whl3l2':YW32,\n",
    "                   'Whl1l3':YW13,\n",
    "                   #'Whl3l1':YW31,\n",
    "                   'Whl1l2':YW12})\n",
    "                   #'Whl2l1':YW21})"
   ]
  },
  {
   "cell_type": "markdown",
   "metadata": {
    "tags": []
   },
   "source": [
    "## Casos 2HDM type I"
   ]
  },
  {
   "cell_type": "code",
   "execution_count": null,
   "metadata": {},
   "outputs": [],
   "source": [
    "#type I cos(beta - alpha)=0.95 1 mHpm >mA caso 1\n",
    "# mHpm_val = mp.mpf('1000.0')\n",
    "# mA_val = mp.mpf('800.0')\n",
    "# l5_val = mp.mpf('0.1')\n",
    "# m6_val = mp.mpf('1e10') <--------\n",
    "# Φ = 2\n",
    "\n",
    "#type I cos(beta - alpha)=0.95 1 mHpm >mA caso 2\n",
    "# mHpm_val = mp.mpf('1000.0')\n",
    "# mA_val = mp.mpf('800.0')\n",
    "# l5_val = mp.mpf('0.1')\n",
    "# m6_val = mp.mpf('1e15') <--------\n",
    "# Φ = 2\n",
    "\n",
    "#type I cos(beta - alpha)=0.95 1 mHpm >mA caso 3\n",
    "# mHpm_val = mp.mpf('1000.0')\n",
    "# mA_val = mp.mpf('800.0')\n",
    "# l5_val = mp.mpf('1') <--------\n",
    "# m6_val = mp.mpf('1e15')\n",
    "# Φ = 2\n",
    "\n",
    "#type I cos(beta - alpha)=0.95 1 mHpm >mA caso 4\n",
    "# mHpm_val = mp.mpf('1500.0') <--------\n",
    "# mA_val = mp.mpf('1300.0') <--------\n",
    "# l5_val = mp.mpf('1') <--------\n",
    "# m6_val = mp.mpf('1e15')\n",
    "# Φ =2"
   ]
  },
  {
   "cell_type": "markdown",
   "metadata": {},
   "source": [
    "## Casos 2HDM Lepton-Specific"
   ]
  },
  {
   "cell_type": "code",
   "execution_count": null,
   "metadata": {},
   "outputs": [],
   "source": [
    "# Lepton-specific cos(beta - alpha)=0.95 mHpm >mA caso 1\n",
    "# mHpm_val = mp.mpf('1000.0')\n",
    "# mA_val = mp.mpf('800.0')\n",
    "# l5_val = mp.mpf('0.1')\n",
    "# m6_val = mp.mpf('1e10') <--------\n",
    "# Φ = 1\n",
    "\n",
    "# Lepton-specific cos(beta - alpha)=0.95 mHpm >mA caso 2\n",
    "# mHpm_val = mp.mpf('1000.0')\n",
    "# mA_val = mp.mpf('800.0')\n",
    "# l5_val = mp.mpf('0.1')\n",
    "# m6_val = mp.mpf('1e15') \n",
    "# Φ = 1\n",
    "\n",
    "# Lepton-specific cos(beta - alpha)=0.95 1 mHpm >mA caso 3\n",
    "# mHpm_val = mp.mpf('1000.0')\n",
    "# mA_val = mp.mpf('800.0')\n",
    "# l5_val = mp.mpf('1') <--------\n",
    "# m6_val = mp.mpf('1e15')\n",
    "# Φ = 2\n",
    "\n",
    "# Lepton-specific cos(beta - alpha)=0.95 1 mHpm >mA caso 4\n",
    "# mHpm_val = mp.mpf('1500.0') <--------\n",
    "# mA_val = mp.mpf('1300.0') <--------\n",
    "# l5_val = mp.mpf('1') <--------\n",
    "# m6_val = mp.mpf('1e15')\n",
    "# Φ =2"
   ]
  },
  {
   "cell_type": "code",
   "execution_count": 68,
   "metadata": {},
   "outputs": [],
   "source": [
    "df.to_csv('Lepton_specific_Cab095_caso5_mA800_mHpm1000.txt',sep='\\t')"
   ]
  },
  {
   "cell_type": "code",
   "execution_count": 69,
   "metadata": {},
   "outputs": [
    {
     "data": {
      "text/plain": [
       "[<matplotlib.lines.Line2D at 0x7f1351f3f4c0>]"
      ]
     },
     "execution_count": 69,
     "metadata": {},
     "output_type": "execute_result"
    },
    {
     "data": {
      "image/png": "[encoded data removed]",
      "text/plain": [
       "<Figure size 432x288 with 1 Axes>"
      ]
     },
     "metadata": {
      "needs_background": "light"
     },
     "output_type": "display_data"
    }
   ],
   "source": [
    "plt.loglog(np.array(list(map(mpf,df['tb']))),np.array(list(map(mpf,df['Whl2l3']))))"
   ]
  },
  {
   "cell_type": "code",
   "execution_count": null,
   "metadata": {},
   "outputs": [],
   "source": []
  }
 ],
 "metadata": {
  "kernelspec": {
   "display_name": "Python 3 (ipykernel)",
   "language": "python",
   "name": "python3"
  },
  "language_info": {
   "codemirror_mode": {
    "name": "ipython",
    "version": 3
   },
   "file_extension": ".py",
   "mimetype": "text/x-python",
   "name": "python",
   "nbconvert_exporter": "python",
   "pygments_lexer": "ipython3",
   "version": "3.8.12"
  }
 },
 "nbformat": 4,
 "nbformat_minor": 4
}
