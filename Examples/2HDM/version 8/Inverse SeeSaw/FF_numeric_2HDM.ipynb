{
 "cells": [
  {
   "cell_type": "markdown",
   "metadata": {},
   "source": [
    "# LFV Higgs decays in the 2HDM with  SeeSaw type I"
   ]
  },
  {
   "cell_type": "code",
   "execution_count": 1,
   "metadata": {},
   "outputs": [],
   "source": [
    "from sympy import init_printing,lambdify,Symbol, symbols, Matrix\n",
    "from sympy import atan as atan_sp\n",
    "init_printing()\n",
    "import OneLoopLFVHD as lfvhd"
   ]
  },
  {
   "cell_type": "code",
   "execution_count": 2,
   "metadata": {},
   "outputs": [],
   "source": [
    "from FF_symbolic import TrianglesOneFermion, TrianglesTwoFermion, Bubbles\n",
    "from FF_symbolic import DiagramasWninj,DiagramasniWW,DiagramasniWH,DiagramasniHW\n",
    "from FF_symbolic import DiagramasHninj,DiagramasniHH\n",
    "from FF_symbolic import g, mW, mG, mHpm, mϕ, Uν, Uνc, mn, m, C, Cc, a,b,i\n",
    "from FF_symbolic import j as jj\n",
    "from FF_symbolic import ξlϕ, ξnϕ, ξlA, ξnA,α, β, Ξϕ, Kϕ, Qϕ,ρϕ, Δϕ,ηϕ, λ5"
   ]
  },
  {
   "cell_type": "code",
   "execution_count": 3,
   "metadata": {},
   "outputs": [],
   "source": [
    "import matplotlib.pyplot as plt\n",
    "%matplotlib inline"
   ]
  },
  {
   "cell_type": "code",
   "execution_count": 4,
   "metadata": {},
   "outputs": [],
   "source": [
    "from mpmath import *"
   ]
  },
  {
   "cell_type": "code",
   "execution_count": 5,
   "metadata": {},
   "outputs": [],
   "source": [
    "mp.dps = 80; mp.pretty = True"
   ]
  },
  {
   "cell_type": "code",
   "execution_count": 6,
   "metadata": {},
   "outputs": [],
   "source": [
    "import numpy as np"
   ]
  },
  {
   "cell_type": "code",
   "execution_count": 7,
   "metadata": {},
   "outputs": [],
   "source": [
    "from multiprocessing import Pool, cpu_count\n",
    "from time import time"
   ]
  },
  {
   "cell_type": "code",
   "execution_count": 8,
   "metadata": {},
   "outputs": [
    {
     "data": {
      "image/png": "[encoded data removed]",
      "text/latex": [
       "$\\displaystyle 4$"
      ],
      "text/plain": [
       "4"
      ]
     },
     "execution_count": 8,
     "metadata": {},
     "output_type": "execute_result"
    }
   ],
   "source": [
    "cpu_count()"
   ]
  },
  {
   "cell_type": "code",
   "execution_count": 9,
   "metadata": {},
   "outputs": [],
   "source": [
    "def speedup_array(f,array,procs=cpu_count()): \n",
    "    pool = Pool(procs,maxtasksperchild=100).map(f, array)\n",
    "    result = np.array(list(pool))\n",
    "    pool.close()\n",
    "    return result"
   ]
  },
  {
   "cell_type": "markdown",
   "metadata": {},
   "source": [
    "## Numeric implementation of form factors"
   ]
  },
  {
   "cell_type": "markdown",
   "metadata": {},
   "source": [
    "**Neutrino benchmark** is given by "
   ]
  },
  {
   "cell_type": "code",
   "execution_count": 10,
   "metadata": {},
   "outputs": [],
   "source": [
    "from OneLoopLFVHD.neutrinos import NuOscObservables\n",
    "Nudata = NuOscObservables"
   ]
  },
  {
   "cell_type": "code",
   "execution_count": 11,
   "metadata": {},
   "outputs": [],
   "source": [
    "m1 = mpf('1e-12')  #GeV \n",
    "\n",
    "#current values to Square mass differences\n",
    "d21 = mpf(str(Nudata.squareDm21.central))*mpf('1e-18')# factor to convert eV^2 to GeV^2\n",
    "d31 = mpf(str(Nudata.squareDm31.central))*mpf('1e-18')\n",
    "\n",
    "#d21 = 7.5e-5*1e-18\n",
    "#d31 = 2.457e-3*1e-18\n",
    "m2 = sqrt(m1**2 + d21)\n",
    "m3 = sqrt(m1**2 + d31)\n",
    "\n",
    "m4 = lambda m6: m6/3\n",
    "m5 = lambda m6: m6/2"
   ]
  },
  {
   "cell_type": "markdown",
   "metadata": {},
   "source": [
    "## Setting 2HDM"
   ]
  },
  {
   "cell_type": "markdown",
   "metadata": {
    "tags": []
   },
   "source": [
    "### Form factor with one fermion in the loop."
   ]
  },
  {
   "cell_type": "markdown",
   "metadata": {},
   "source": [
    "#### AL one fermion "
   ]
  },
  {
   "cell_type": "code",
   "execution_count": 12,
   "metadata": {},
   "outputs": [],
   "source": [
    "from OneLoopLFVHD.data import ml"
   ]
  },
  {
   "cell_type": "code",
   "execution_count": 13,
   "metadata": {},
   "outputs": [],
   "source": [
    "ma,mb = symbols('m_a,m_b',positive=True)\n",
    "valoresSM ={mW:mpf('80.379'),g:(2*mpf('80.379'))/mpf('246')}\n",
    "\n",
    "# cambios_hab = lambda a,b:{lfvhd.ma:valores_h[mh],lfvhd.mi:ml[a],lfvhd.mj:ml[b]}\n",
    "cambios_lab = lambda mla,mlb:{lfvhd.mi:mla,lfvhd.mj:mlb}\n",
    "\n",
    "\n",
    "\n",
    "Ubi, Ucai,mni = symbols('U_{bi}, {{U_{ai}^*}},m_{n_i}')\n",
    "UnuOne = {mn[i]:mni,Uν[b,i]:Ubi,Uνc[a,i]:Ucai}\n",
    "\n",
    "from Unu_seesaw_ISS import diagonalizationMnu_ISS as diagonalizationMnu\n",
    "###### \n",
    "# Caso degenerado\n",
    "######\n",
    "diagonalizationMnu1 = lambda m1, m6, mux: diagonalizationMnu(\n",
    "    m1, m2, m3, m6, m6, m6, mux, mux, mux)"
   ]
  },
  {
   "cell_type": "code",
   "execution_count": 14,
   "metadata": {
    "tags": []
   },
   "outputs": [],
   "source": [
    "C0_sp, C1_sp, C2_sp, B120_sp, B10_sp,B11_sp,B20_sp,B21_sp = symbols('C0, C1, C2, B120, B10,B11,B20,B21')\n",
    "cambios_pave_sympy = lambda M0,M1,M2: {lfvhd.C0(M0,M1,M2):C0_sp,lfvhd.C1(M0,M1,M2):C1_sp,\n",
    "                                      lfvhd.C2(M0,M1,M2):C2_sp,lfvhd.B12_0(M1,M2):B120_sp,\n",
    "                                      lfvhd.B1_0(M0,M1):B10_sp,lfvhd.B1_1(M0,M1):B11_sp,\n",
    "                                      lfvhd.B2_0(M0,M2):B20_sp,lfvhd.B2_1(M0,M2):B21_sp}\n",
    "cambiosniWW = cambios_pave_sympy(mn[i],mW,mW)\n",
    "cambiosniWH = cambios_pave_sympy(mn[i],mW,mHpm)\n",
    "cambiosniHW = cambios_pave_sympy(mn[i],mHpm,mW)\n",
    "cambiosniHH = cambios_pave_sympy(mn[i],mHpm,mHpm)\n",
    "\n",
    "cambiosWninj = cambios_pave_sympy(mW,mn[i],mn[jj])\n",
    "cambiosHninj = cambios_pave_sympy(mHpm,mn[i],mn[jj])\n",
    "\n",
    "#cambiosniWW"
   ]
  },
  {
   "cell_type": "code",
   "execution_count": 15,
   "metadata": {},
   "outputs": [],
   "source": [
    "import OneLoopLFVHD.LFVHDFeynG_mpmath2 as lfvhd_mp# B1_0, B2_0, B1_1, B2_1, B12_0, C0, C1, C2"
   ]
  },
  {
   "cell_type": "markdown",
   "metadata": {},
   "source": [
    "### Diagrams with One Fermion"
   ]
  },
  {
   "cell_type": "code",
   "execution_count": 16,
   "metadata": {},
   "outputs": [],
   "source": [
    "from modelos_2HDM import coeff_typeI_h as coeff_h\n",
    "from modelos_2HDM import tb, cab"
   ]
  },
  {
   "cell_type": "code",
   "execution_count": 17,
   "metadata": {},
   "outputs": [],
   "source": [
    "mA = symbols('m_A',positive=True)\n",
    "Kphi =  4*mA**2 - 3*mϕ**2- 2*mHpm**2\n",
    "Qphi = mϕ**2 - 2*mHpm**2\n",
    "\n",
    "cambios_coeff_h = {\n",
    "    ξlϕ:coeff_h.xi_lphi, ξnϕ:coeff_h.xi_nphi, ξlA:coeff_h.xi_lA, \n",
    "    ξnA:coeff_h.xi_nA, Ξϕ:coeff_h.Xi_phi, ρϕ:coeff_h.rhophi, \n",
    "    Δϕ:coeff_h.Dphi,ηϕ:coeff_h.etaphi, Kφ:Kphi, Qφ:Qphi, β: atan_sp(tb)\n",
    "    }"
   ]
  },
  {
   "cell_type": "code",
   "execution_count": 18,
   "metadata": {},
   "outputs": [
    {
     "data": {
      "image/png": "[encoded data removed]",
      "text/latex": [
       "$\\displaystyle - \\frac{0.14813090788222722579201186866122081803804355711611845446235545044326112505622379 C_{1} U_{bi} {{U_{ai}^*}} \\sqrt{1 - c_{\\alpha\\beta}^{2}}}{\\pi^{2}}$"
      ],
      "text/plain": [
       "                                                                              \n",
       "                                                                              \n",
       "-0.148130907882227225792011868661220818038043557116118454462355450443261125056\n",
       "──────────────────────────────────────────────────────────────────────────────\n",
       "                                                                   2          \n",
       "                                                                  π           \n",
       "\n",
       "                                 ______________________ \n",
       "                                ╱                    2  \n",
       "22379⋅C₁⋅U_{bi}⋅{{U_{ai}__*}}⋅╲╱  1 - c_{\\alpha\\beta}   \n",
       "────────────────────────────────────────────────────────\n",
       "                                                        \n",
       "                                                        "
      ]
     },
     "execution_count": 18,
     "metadata": {},
     "output_type": "execute_result"
    }
   ],
   "source": [
    "DiagramasniWW[0].AL().subs(cambiosniWW).subs(lfvhd.D,4).subs(\n",
    "            lfvhd.B12_0(mW,mW),0).simplify().subs(\n",
    "        cambios_lab(ml[2],ml[3])).subs(valoresSM).subs(UnuOne).subs(cambios_coeff_h)"
   ]
  },
  {
   "cell_type": "code",
   "execution_count": 19,
   "metadata": {},
   "outputs": [],
   "source": [
    "def FF_simplified(A,mla,mlb,cambiosXYZ):\n",
    "    return A.subs(cambiosXYZ).subs(lfvhd.D,4).subs(\n",
    "            lfvhd.B12_0(mW,mW),0).simplify().subs(\n",
    "        cambios_lab(mla,mlb)).subs(valoresSM).subs(UnuOne).subs(cambios_coeff_h)\n",
    "# dia_niHH.AL().subs(cambiosniHH).subs(lfvhd.D,4).simplify().subs(\n",
    "        # cambios_lab(mla,mlb)).subs(valoresSM).subs(UnuOne)"
   ]
  },
  {
   "cell_type": "code",
   "execution_count": 20,
   "metadata": {},
   "outputs": [
    {
     "data": {
      "image/png": "[encoded data removed]",
      "text/latex": [
       "$\\displaystyle - \\frac{0.00000000089033550744044221046850050482850020431305721699543925848825167240364406041286629 U_{bi} {{U_{ai}^*}} \\sqrt{t_{\\beta}^{2} + 1} \\left(2 B_{10} m_{n_i}^{2} - B_{11} m_{n_i}^{2} - 0.0111640356 B_{11}\\right) \\cos{\\left(\\operatorname{acos}{\\left(c_{\\alpha\\beta} \\right)} - \\operatorname{atan}{\\left(t_{\\beta} \\right)} \\right)}}{\\pi^{2} t_{\\beta}}$"
      ],
      "text/plain": [
       "                                                                              \n",
       "                                                                              \n",
       "-0.000000000890335507440442210468500504828500204313057216995439258488251672403\n",
       "──────────────────────────────────────────────────────────────────────────────\n",
       "                                                                              \n",
       "                                                                              \n",
       "\n",
       "                                       ________________                       \n",
       "                                      ╱          2      ⎛             2       \n",
       "64406041286629⋅U_{bi}⋅{{U_{ai}__*}}⋅╲╱  t_{\\beta}  + 1 ⋅⎝2⋅B₁₀⋅m_{n_i}  - B₁₁⋅\n",
       "──────────────────────────────────────────────────────────────────────────────\n",
       "                                2                                             \n",
       "                               π ⋅t_{\\beta}                                   \n",
       "\n",
       "                                                                          \n",
       "       2                   ⎞                                              \n",
       "m_{n_i}  - 0.0111640356⋅B₁₁⎠⋅cos(acos(c_{\\alpha\\beta}) - atan(t_{\\beta})) \n",
       "──────────────────────────────────────────────────────────────────────────\n",
       "                                                                          \n",
       "                                                                          "
      ]
     },
     "execution_count": 20,
     "metadata": {},
     "output_type": "execute_result"
    }
   ],
   "source": [
    "FF_simplified(DiagramasniWW[5].AL(),ml[2],ml[3],cambiosniWW)"
   ]
  },
  {
   "cell_type": "markdown",
   "metadata": {},
   "source": [
    "#### Diagrams with $n_i WW$ numeric"
   ]
  },
  {
   "cell_type": "code",
   "execution_count": 21,
   "metadata": {},
   "outputs": [],
   "source": [
    "####################\n",
    "mW_val = valoresSM[mW]\n",
    "C0_mp_niWW = lambda ms,mni_: lfvhd_mp.C0(ms,mni_,mW_val,mW_val)\n",
    "C1_mp_niWW = lambda ms,mni_,mla: lfvhd_mp.C1(ms,mla,mni_,mW_val,mW_val)\n",
    "C2_mp_niWW = lambda ms,mni_,mlb: lfvhd_mp.C2(ms,mlb,mni_,mW_val,mW_val)\n",
    "B120_mp_niWW = lambda ms: lfvhd_mp.B12_0(ms,mW_val,mW_val)\n",
    "B10_mp_niWW = lambda mni_,mla: lfvhd_mp.B1_0(mla,mni_,mW_val)\n",
    "B11_mp_niWW = lambda mni_,mla: lfvhd_mp.B1_1(mla,mni_,mW_val)\n",
    "B20_mp_niWW = lambda mni_,mlb: lfvhd_mp.B2_0(mlb,mni_,mW_val)\n",
    "B21_mp_niWW = lambda mni_,mlb: lfvhd_mp.B2_1(mlb,mni_,mW_val)\n",
    "\n",
    "FF_list_niWW = []\n",
    "for dia_niWW in DiagramasniWW:\n",
    "    A_sp_niWWL = lambda mla,mlb: FF_simplified(dia_niWW.AL(),mla,mlb,cambiosniWW)\n",
    "    A_sp_niWWR = lambda mla,mlb: FF_simplified(dia_niWW.AR(),mla,mlb,cambiosniWW)\n",
    "\n",
    "\n",
    "    #display(A_sp_niWWL(ml[1],ml[2]).atoms(Symbol))\n",
    "    A_lamb_niWWL = lambda mla,mlb: lambdify([lfvhd.ma,mni,Ubi,Ucai, tb,cab,\n",
    "                   C0_sp,C1_sp,C2_sp,B120_sp,B10_sp,B11_sp,B20_sp,B21_sp],\n",
    "                                           A_sp_niWWL(mla,mlb),'mpmath')\n",
    "\n",
    "    A_lamb_niWWR = lambda mla,mlb: lambdify([lfvhd.ma,mni,Ubi,Ucai, tb,cab,\n",
    "                   C0_sp,C1_sp,C2_sp,B120_sp,B10_sp,B11_sp,B20_sp,B21_sp],\n",
    "                                           A_sp_niWWR(mla,mlb),'mpmath')\n",
    "    #print(A_lamb_niWWL(ml[2],ml[3])(1,2,3,4,5,6,7,8,9,10,11,12,13,14))\n",
    "\n",
    "\n",
    "    def FFniWWL(ms,mla,mlb,mni_,Ubi_,Ucai_,tanb,Cab):\n",
    "        return  A_lamb_niWWL(mla,mlb)(ms,mni_,Ubi_,Ucai_,tanb,Cab,\n",
    "                C0_mp_niWW(ms,mni_),C1_mp_niWW(ms,mni_,mla),C2_mp_niWW(ms,mni_,mlb),\n",
    "                B120_mp_niWW(ms),B10_mp_niWW(mni_,mla),B11_mp_niWW(mni_,mla),B20_mp_niWW(mni_,mlb),B21_mp_niWW(mni_,mlb))\n",
    "\n",
    "    def FFniWWR(ms,mla,mlb,mni_,Ubi_,Ucai_,tanb, Cab):\n",
    "        return A_lamb_niWWR(mla,mlb)(ms,mni_,Ubi_,Ucai_,tanb, Cab,\n",
    "                C0_mp_niWW(ms,mni_),C1_mp_niWW(ms,mni_,mla),C2_mp_niWW(ms,mni_,mlb),\n",
    "                B120_mp_niWW(ms),B10_mp_niWW(mni_,mla),B11_mp_niWW(mni_,mla),B20_mp_niWW(mni_,mlb),B21_mp_niWW(mni_,mlb))\n",
    "\n",
    "    FF_list_niWW.append({'L':FFniWWL,'R':FFniWWR})\n",
    "    "
   ]
  },
  {
   "cell_type": "code",
   "execution_count": 22,
   "metadata": {},
   "outputs": [
    {
     "name": "stdout",
     "output_type": "stream",
     "text": [
      "CPU times: user 1.54 s, sys: 8.67 ms, total: 1.55 s\n",
      "Wall time: 1.55 s\n"
     ]
    },
    {
     "data": {
      "text/plain": [
       "((-0.000010209680526370155995728461444738746816848751162841657761038489302948297790557378 - 0.000070907223550260456426385979832249432700133849987714798781535892706958620500578438j),\n",
       " (-0.000010204182497770945825311475542691848350482299484187310338433067620265291742648896 - 0.000070869039207277050253880864321324086006603405086810059836475510730754626728054162j))"
      ]
     },
     "execution_count": 22,
     "metadata": {},
     "output_type": "execute_result"
    }
   ],
   "source": [
    "%%time\n",
    "(\n",
    "    FF_list_niWW[3]['L'](mpf('125.10'),2,3,4,5,6,7,8),\n",
    "    FF_list_niWW[3]['R'](mpf('125.10'),2,3,4,5,6,7,8)\n",
    ")"
   ]
  },
  {
   "cell_type": "markdown",
   "metadata": {},
   "source": [
    "#### Diagrams with $n_i HH$ numeric"
   ]
  },
  {
   "cell_type": "code",
   "execution_count": 23,
   "metadata": {},
   "outputs": [],
   "source": [
    "####################\n",
    "####################\n",
    "#ms = symbols('m_s',real=True)\n",
    "C0_mp_niHH = lambda ms,mni_,mHpm: lfvhd_mp.C0(ms,mni_,mHpm,mHpm)\n",
    "C1_mp_niHH = lambda ms,mni_,mla,mHpm: lfvhd_mp.C1(ms,mla,mni_,mHpm,mHpm)\n",
    "C2_mp_niHH = lambda ms,mni_,mlb,mHpm: lfvhd_mp.C2(ms,mlb,mni_,mHpm,mHpm)\n",
    "B10_mp_niHH = lambda mni_,mla,mHpm: lfvhd_mp.B1_0(mla,mni_,mHpm)\n",
    "B11_mp_niHH = lambda mni_,mla,mHpm: lfvhd_mp.B1_1(mla,mni_,mHpm)\n",
    "B20_mp_niHH = lambda mni_,mlb,mHpm: lfvhd_mp.B2_0(mlb,mni_,mHpm)\n",
    "B21_mp_niHH = lambda mni_,mlb,mHpm: lfvhd_mp.B2_1(mlb,mni_,mHpm)\n",
    "\n",
    "###################3\n",
    "FF_list_niHH = []\n",
    "for dia_niHH in DiagramasniHH:\n",
    "    A_sp_niHHL = lambda mla,mlb: FF_simplified(dia_niHH.AL(), mla, mlb, cambiosniHH)\n",
    "    A_sp_niHHR = lambda mla,mlb: FF_simplified(dia_niHH.AR(), mla, mlb, cambiosniHH)\n",
    "    \n",
    "    \n",
    "    #display(A_sp_niHHL(ml[1],ml[2]).atoms(Symbol))\n",
    "    A_lamb_niHHL = lambda mla,mlb: lambdify([lfvhd.ma, mni, Ubi, Ucai, mHpm, tb, cab, λ5,\n",
    "                   C0_sp,C1_sp,C2_sp,B10_sp,B11_sp,B20_sp,B21_sp],\n",
    "                                           A_sp_niHHL(mla,mlb),'mpmath')\n",
    "    \n",
    "    A_lamb_niHHR = lambda mla,mlb: lambdify([lfvhd.ma, mni, Ubi, Ucai, mHpm, tb, cab, λ5,\n",
    "                   C0_sp,C1_sp,C2_sp,B10_sp,B11_sp,B20_sp,B21_sp],\n",
    "                                           A_sp_niHHR(mla,mlb),'mpmath')\n",
    "    #.subs(typeI_ξh).subs(common_factor_h).subs(lfvhd.ma,mh).subs(mh,mpf('125.10'))\n",
    "    def FFniHHL(ms_val,mla,mlb,mni_,Ubi_,Ucai_,mHpm, tanb, Cab,l5):\n",
    "        return A_lamb_niHHL(mla,mlb)(ms_val,mni_,Ubi_,Ucai_,mHpm, tanb, Cab,l5,\n",
    "                C0_mp_niHH(ms_val,mni_,mHpm),C1_mp_niHH(ms_val,mni_,mla,mHpm),\n",
    "                C2_mp_niHH(ms_val,mni_,mlb,mHpm),\n",
    "                B10_mp_niHH(mni_,mla,mHpm),B11_mp_niHH(mni_,mla,mHpm),\n",
    "                 B20_mp_niHH(mni_,mlb,mHpm),B21_mp_niHH(mni_,mlb,mHpm))\n",
    "    \n",
    "    def FFniHHR(ms_val,mla,mlb,mni_,Ubi_,Ucai_,mHpm, tanb, Cab,l5):\n",
    "        return A_lamb_niHHR(mla,mlb)(ms_val,mni_,Ubi_,Ucai_,mHpm, tanb, Cab,l5,\n",
    "                C0_mp_niHH(ms_val,mni_,mHpm),C1_mp_niHH(ms_val,mni_,mla,mHpm),\n",
    "                C2_mp_niHH(ms_val,mni_,mlb,mHpm),\n",
    "                B10_mp_niHH(mni_,mla,mHpm),B11_mp_niHH(mni_,mla,mHpm),\n",
    "                 B20_mp_niHH(mni_,mlb,mHpm),B21_mp_niHH(mni_,mlb,mHpm))\n",
    "    \n",
    "    FF_list_niHH.append({'L':FFniHHL,'R':FFniHHR})"
   ]
  },
  {
   "cell_type": "code",
   "execution_count": 24,
   "metadata": {},
   "outputs": [
    {
     "data": {
      "text/plain": [
       "((-0.000000000086462365637142228358843343348268976592897453002603526433818136560810731826460865 + 0.0j),\n",
       " (-0.000000000077727097898518870633826151506403744429720402967307143882478583960327654903973705 + 0.0j))"
      ]
     },
     "execution_count": 24,
     "metadata": {},
     "output_type": "execute_result"
    }
   ],
   "source": [
    "(\n",
    "    FF_list_niHH[0]['L'](mpf('125.10'),.2,.3,.4,.5,.6,.7,.8,.9,.10),\n",
    "    FF_list_niHH[0]['R'](mpf('125.10'),.2,.3,.4,.5,.6,.7,.8,.9,.10)\n",
    ")"
   ]
  },
  {
   "cell_type": "markdown",
   "metadata": {},
   "source": [
    "#### Diagrams with $n_i WH$ numeric"
   ]
  },
  {
   "cell_type": "code",
   "execution_count": 25,
   "metadata": {},
   "outputs": [],
   "source": [
    "####################\n",
    "####################\n",
    "#ms = symbols('m_s',real=True)\n",
    "C0_mp_niWH = lambda ms,mni_,mHpm: lfvhd_mp.C0(ms,mni_,mW_val,mHpm)\n",
    "C1_mp_niWH = lambda ms,mni_,mla,mHpm: lfvhd_mp.C1(ms,mla,mni_,mW_val,mHpm)\n",
    "C2_mp_niWH = lambda ms,mni_,mlb,mHpm: lfvhd_mp.C2(ms,mlb,mni_,mW_val,mHpm)\n",
    "\n",
    "###################3\n",
    "\n",
    "FF_list_niWH = []\n",
    "for dia_niWH in DiagramasniWH:\n",
    "    A_sp_niWHL = lambda mla,mlb: FF_simplified(dia_niWH.AL(), mla, mlb, cambiosniWH)#.subs(lfvhd.B12_0(mW,mHpm),0)\n",
    "    A_sp_niWHR = lambda mla,mlb: FF_simplified(dia_niWH.AR(), mla, mlb, cambiosniWH)#.subs(lfvhd.B12_0(mW,mHpm),0)\n",
    "    \n",
    "    \n",
    "    #display(A_sp_niWHR(ml[1],ml[2]))\n",
    "    A_lamb_niWHL = lambda mla,mlb: lambdify([lfvhd.ma,mni,Ubi,Ucai,mHpm,tb,cab,\n",
    "                   C0_sp,C1_sp,C2_sp], A_sp_niWHL(mla,mlb),'mpmath')\n",
    "    \n",
    "    A_lamb_niWHR = lambda mla,mlb: lambdify([lfvhd.ma,mni,Ubi,Ucai,mHpm,tb,cab,\n",
    "                   C0_sp,C1_sp,C2_sp], A_sp_niWHR(mla,mlb),'mpmath')\n",
    "    \n",
    "    #.subs(typeI_ξh).subs(common_factor_h).subs(lfvhd.ma,mh).subs(mh,mpf('125.10'))\n",
    "    def FFniWHL(ms_val,mla,mlb,mni_,Ubi_,Ucai_,mHpm,tanb, Cab):\n",
    "        return A_lamb_niWHL(mla,mlb)(ms_val,mni_,Ubi_,Ucai_,\n",
    "                mHpm, tanb, Cab,\n",
    "                C0_mp_niWH(ms_val,mni_,mHpm),C1_mp_niWH(ms_val,mni_,mla,mHpm),\n",
    "                C2_mp_niWH(ms_val,mni_,mlb,mHpm))\n",
    "    \n",
    "    def FFniWHR(ms_val,mla,mlb,mni_,Ubi_,Ucai_,mHpm,tanb, Cab):\n",
    "        return A_lamb_niWHR(mla,mlb)(ms_val,mni_,Ubi_,Ucai_,\n",
    "                mHpm, tanb, Cab,\n",
    "                C0_mp_niWH(ms_val,mni_,mHpm),C1_mp_niWH(ms_val,mni_,mla,mHpm),\n",
    "                C2_mp_niWH(ms_val,mni_,mlb,mHpm))\n",
    "    \n",
    "    FF_list_niWH.append({'L':FFniWHL,'R':FFniWHR})"
   ]
  },
  {
   "cell_type": "code",
   "execution_count": 26,
   "metadata": {},
   "outputs": [
    {
     "data": {
      "text/plain": [
       "((-0.0000000000056999859411060370359693022778041448384692132359595924635905064985045987940842752 + 0.00000000039419525981377908993327348584930086375272275960494849117040459082731306963691113j),\n",
       " (-0.000000000020513423784628372299222735974887564686863706842138333749905758464799639645651171 - 0.00000000064614782944081128158255602252183326425192356467976847868567624445338467911679435j))"
      ]
     },
     "execution_count": 26,
     "metadata": {},
     "output_type": "execute_result"
    }
   ],
   "source": [
    "(\n",
    "    FF_list_niWH[0]['L'](mpf('125.10'),.2,.3,.4,.5,.6,.7,.8,.9),\n",
    "    FF_list_niWH[0]['R'](mpf('125.10'),.2,.3,.4,.5,.6,.7,.8,.9)\n",
    ")"
   ]
  },
  {
   "cell_type": "markdown",
   "metadata": {},
   "source": [
    "#### Diagrams with $n_i HW$ numeric"
   ]
  },
  {
   "cell_type": "code",
   "execution_count": 27,
   "metadata": {},
   "outputs": [],
   "source": [
    "####################\n",
    "####################\n",
    "#ms = symbols('m_s',real=True)\n",
    "C0_mp_niHW = lambda ms,mni_,mHpm: lfvhd_mp.C0(ms,mni_,mHpm,mW_val)\n",
    "C1_mp_niHW = lambda ms,mni_,mla,mHpm: lfvhd_mp.C1(ms,mla,mni_,mHpm,mW_val)\n",
    "C2_mp_niHW = lambda ms,mni_,mlb,mHpm: lfvhd_mp.C2(ms,mlb,mni_,mHpm,mW_val)\n",
    "\n",
    "###################3\n",
    "\n",
    "FF_list_niHW = []\n",
    "for dia_niHW in DiagramasniHW:\n",
    "    A_sp_niHWL = lambda mla,mlb: FF_simplified(dia_niHW.AL(), mla, mlb, cambiosniHW)#.subs(lfvhd.B12_0(mHpm,mW),0)\n",
    "    A_sp_niHWR = lambda mla,mlb: FF_simplified(dia_niHW.AR(), mla, mlb, cambiosniHW)#.subs(lfvhd.B12_0(mHpm,mW),0)\n",
    "    \n",
    "    #display(A_sp_niHWL(ml[1],ml[2]).atoms(Symbol))\n",
    "    A_lamb_niHWL = lambda mla,mlb: lambdify([lfvhd.ma,mni,Ubi,Ucai,mHpm,tb, cab,\n",
    "                   C0_sp,C1_sp,C2_sp], A_sp_niHWL(mla,mlb),'mpmath')\n",
    "    \n",
    "    A_lamb_niHWR = lambda mla,mlb: lambdify([lfvhd.ma,mni,Ubi,Ucai,mHpm,tb, cab,\n",
    "                   C0_sp,C1_sp,C2_sp], A_sp_niHWR(mla,mlb),'mpmath')\n",
    "    \n",
    "    #.subs(typeI_ξh).subs(common_factor_h).subs(lfvhd.ma,mh).subs(mh,mpf('125.10'))\n",
    "\n",
    "    def FFniHWL(ms_val,mla,mlb,mni_,Ubi_,Ucai_,mHpm, tanb, Cab):\n",
    "        return A_lamb_niHWL(mla,mlb)(ms_val,mni_,Ubi_,Ucai_,\n",
    "                mHpm, tanb, Cab,\n",
    "                C0_mp_niHW(ms_val,mni_,mHpm),C1_mp_niHW(ms_val,mni_,mla,mHpm),\n",
    "                C2_mp_niHW(ms_val,mni_,mlb,mHpm))\n",
    "    \n",
    "    def FFniHWR(ms_val,mla,mlb,mni_,Ubi_,Ucai_,mHpm, tanb, Cab):\n",
    "        return A_lamb_niHWR(mla,mlb)(ms_val,mni_,Ubi_,Ucai_,\n",
    "                mHpm, tanb, Cab,\n",
    "                C0_mp_niHW(ms_val,mni_,mHpm),C1_mp_niHW(ms_val,mni_,mla,mHpm),\n",
    "                C2_mp_niHW(ms_val,mni_,mlb,mHpm))\n",
    "    \n",
    "    FF_list_niHW.append({'L':FFniHWL,'R':FFniHWR})"
   ]
  },
  {
   "cell_type": "code",
   "execution_count": 28,
   "metadata": {},
   "outputs": [
    {
     "data": {
      "text/plain": [
       "((-0.000000000015695135535962197441811970931350272839708204050737996210542525503640090068022299 - 0.00000000038221126676088603905264877076433025452276839383382847447303315208866111030463089j),\n",
       " (-0.000000000035270214342035471216884703103464453921989965281954703600497331924175644314654686 + 0.00000000051444576438344172465054330319576909521438396071861980747988692434415158852774916j))"
      ]
     },
     "execution_count": 28,
     "metadata": {},
     "output_type": "execute_result"
    }
   ],
   "source": [
    "(\n",
    "    FF_list_niHW[0]['L'](mpf('125.10'),.2,.3,.4,.5,.6,.7,.8,.9),\n",
    "    FF_list_niHW[0]['R'](mpf('125.10'),.2,.3,.4,.5,.6,.7,.8,.9)\n",
    ")"
   ]
  },
  {
   "cell_type": "code",
   "execution_count": 26,
   "metadata": {},
   "outputs": [],
   "source": [
    "# for FF_dict in FF_list_niWH:\n",
    "#     #display(FF_dict['L'])    \n",
    "#     print(FF_dict['L'](mpf('125.10'),2,3,4,5,6,7,8,9,10))"
   ]
  },
  {
   "cell_type": "markdown",
   "metadata": {},
   "source": [
    "### Diagrams with two fermions"
   ]
  },
  {
   "cell_type": "code",
   "execution_count": 29,
   "metadata": {},
   "outputs": [],
   "source": [
    "## Internal funtions TwoFermion\n",
    "\n",
    "mnj = symbols('m_{n_j}',positive=True)\n",
    "Cijs, Cijcs, Ubj = symbols('C_{ij}, {{C_{ij}^*}},U_{bj}')\n",
    "UnuTwo = {mn[i]:mni,mn[jj]:mnj,C[i,jj]:Cijs, Cc[i,jj]:Cijcs, Uν[b,jj]:Ubj, Uνc[a,i]:Ucai}"
   ]
  },
  {
   "cell_type": "code",
   "execution_count": 30,
   "metadata": {},
   "outputs": [
    {
     "data": {
      "image/png": "[encoded data removed]",
      "text/latex": [
       "$\\displaystyle \\left\\{ K_{\\phi} : 4 m_{A}^{2} - 3 m_{a}^{2} - 2 \\left({{m_{H^{\\pm}}}}\\right)^{2}, \\  Q_\\phi : m_{a}^{2} - 2 \\left({{m_{H^{\\pm}}}}\\right)^{2}, \\  \\Delta_\\phi : \\cos{\\left(\\operatorname{acos}{\\left(c_{\\alpha\\beta} \\right)} + 2 \\operatorname{atan}{\\left(t_{\\beta} \\right)} \\right)}, \\  \\Xi_{\\phi} : \\sqrt{1 - c_{\\alpha\\beta}^{2}}, \\  \\beta : \\operatorname{atan}{\\left(t_{\\beta} \\right)}, \\  \\eta_{\\phi} : c_{\\alpha\\beta}, \\  \\rho_{\\phi} : \\cos{\\left(\\operatorname{acos}{\\left(c_{\\alpha\\beta} \\right)} - 2 \\operatorname{atan}{\\left(t_{\\beta} \\right)} \\right)}, \\  {{\\xi^{l}_{A}}} : - \\frac{1}{t_{\\beta}}, \\  {{\\xi^{l}_{\\phi}}} : \\frac{\\sqrt{t_{\\beta}^{2} + 1} \\cos{\\left(\\operatorname{acos}{\\left(c_{\\alpha\\beta} \\right)} - \\operatorname{atan}{\\left(t_{\\beta} \\right)} \\right)}}{t_{\\beta}}, \\  {{\\xi^{n}_{A}}} : - \\frac{1}{t_{\\beta}}, \\  {{\\xi^{n}_{\\phi}}} : \\frac{\\sqrt{t_{\\beta}^{2} + 1} \\cos{\\left(\\operatorname{acos}{\\left(c_{\\alpha\\beta} \\right)} - \\operatorname{atan}{\\left(t_{\\beta} \\right)} \\right)}}{t_{\\beta}}\\right\\}$"
      ],
      "text/plain": [
       "⎧                                                                             \n",
       "⎪                                                                             \n",
       "⎨               2       2                     2            2                  \n",
       "⎪K_{\\phi}: 4⋅m_A  - 3⋅mₐ  - 2⋅{{m_{H__{\\pm}}}} , Q_\\phi: mₐ  - 2⋅{{m_{H__{\\pm}\n",
       "⎩                                                                             \n",
       "\n",
       "                                                                              \n",
       "                                                                              \n",
       "   2                                                                          \n",
       "}}} , \\Delta_\\phi: cos(acos(c_{\\alpha\\beta}) + 2⋅atan(t_{\\beta})), \\Xi_{\\phi}:\n",
       "                                                                              \n",
       "\n",
       "                                                                              \n",
       "    ______________________                                                    \n",
       "   ╱                    2                                                     \n",
       " ╲╱  1 - c_{\\alpha\\beta}  , \\beta: atan(t_{\\beta}), \\eta_{\\phi}: c_{\\alpha\\bet\n",
       "                                                                              \n",
       "\n",
       "                                                                              \n",
       "                                                                              \n",
       "                                                                              \n",
       "a}, \\rho_{\\phi}: cos(acos(c_{\\alpha\\beta}) - 2⋅atan(t_{\\beta})), {{\\xi_{A}}}__\n",
       "                                                                              \n",
       "\n",
       "                                        ________________                      \n",
       "                                       ╱          2                           \n",
       "        -1                           ╲╱  t_{\\beta}  + 1 ⋅cos(acos(c_{\\alpha\\be\n",
       "{l}: ─────────, {{\\xi_{\\phi}}}__{l}: ─────────────────────────────────────────\n",
       "     t_{\\beta}                                                  t_{\\beta}     \n",
       "\n",
       "                                                                              \n",
       "                                                                             ╱\n",
       "ta}) - atan(t_{\\beta}))                       -1                           ╲╱ \n",
       "───────────────────────, {{\\xi_{A}}}__{n}: ─────────, {{\\xi_{\\phi}}}__{n}: ───\n",
       "                                           t_{\\beta}                          \n",
       "\n",
       "________________                                             ⎫\n",
       "          2                                                  ⎪\n",
       " t_{\\beta}  + 1 ⋅cos(acos(c_{\\alpha\\beta}) - atan(t_{\\beta}))⎬\n",
       "─────────────────────────────────────────────────────────────⎪\n",
       "                        t_{\\beta}                            ⎭"
      ]
     },
     "execution_count": 30,
     "metadata": {},
     "output_type": "execute_result"
    }
   ],
   "source": [
    "cambios_coeff_h"
   ]
  },
  {
   "cell_type": "code",
   "execution_count": 31,
   "metadata": {},
   "outputs": [],
   "source": [
    "def FF_simplified2(A, mla, mlb, cambiosXYZ):\n",
    "    return A.subs(cambiosXYZ).subs(lfvhd.D,4\n",
    "                    ).simplify().subs(cambios_lab(mla,mlb)).subs(valoresSM).subs(UnuTwo).subs(cambios_coeff_h)"
   ]
  },
  {
   "cell_type": "markdown",
   "metadata": {},
   "source": [
    "#### Diagrams with $W n_i n_j$ numeric"
   ]
  },
  {
   "cell_type": "code",
   "execution_count": 32,
   "metadata": {},
   "outputs": [],
   "source": [
    "C0_mp_Wninj = lambda ms,mni_,mnj_: lfvhd_mp.C0(ms,mW_val,mni_,mnj_)\n",
    "C1_mp_Wninj = lambda ms,mni_,mnj_,mla: lfvhd_mp.C1(ms,mla,mW_val,mni_,mnj_)\n",
    "C2_mp_Wninj = lambda ms,mni_,mnj_,mlb: lfvhd_mp.C2(ms,mlb,mW_val,mni_,mnj_)\n",
    "B120_mp_Wninj = lambda ms,mni_,mnj_: lfvhd_mp.B12_0(ms,mni_,mnj_)\n",
    "\n",
    "FF_list_Wninj = []#.subs(lfvhd.D,4).subs(cambios_hab(a,b)).subs(valores).subs(UnuTwo)\n",
    "for dia_Wninj in DiagramasWninj:\n",
    "    A_sp_WninjL = lambda mla,mlb: FF_simplified2(dia_Wninj.AL(), mla, mlb, cambiosWninj)\n",
    "    A_sp_WninjR = lambda mla,mlb: FF_simplified2(dia_Wninj.AR(), mla, mlb, cambiosWninj)\n",
    "    \n",
    "    \n",
    "    #display(A_sp_WninjL(ml[1],ml[2]).atoms(Symbol))\n",
    "    A_lamb_WninjL = lambda mla,mlb: lambdify([lfvhd.ma,mni,mnj,Ubj,Ucai,Cijs,Cijcs, tb, cab,\n",
    "                   C0_sp,C1_sp,B120_sp], A_sp_WninjL(mla,mlb),'mpmath')\n",
    "    \n",
    "    A_lamb_WninjR = lambda mla,mlb: lambdify([lfvhd.ma,mni,mnj,Ubj,Ucai,Cijs,Cijcs, tb, cab,\n",
    "                   C0_sp,C2_sp,B120_sp], A_sp_WninjR(mla,mlb),'mpmath')\n",
    "    \n",
    "    \n",
    "    #.subs(typeI_ξh).subs(common_factor_h).subs(lfvhd.ma,mh).subs(mh,mpf('125.10'))\n",
    "    def FFWninjL(ms_val,mla,mlb,mni_,mnj_,Ubj_,Ucai_,Cijs_,Cijcs_,tanb, Cab):\n",
    "        return A_lamb_WninjL(mla,mlb)(\n",
    "            ms_val,mni_,mnj_,Ubj_,Ucai_,Cijs_,Cijcs_, tanb, Cab,\n",
    "            C0_mp_Wninj(ms_val,mni_,mnj_),C1_mp_Wninj(ms_val,mni_,mnj_,mla),\n",
    "            B120_mp_Wninj(ms_val,mni_,mnj_)\n",
    "        )\n",
    "    def FFWninjR(ms_val,mla,mlb,mni_,mnj_,Ubj_,Ucai_,Cijs_,Cijcs_,tanb, Cab):\n",
    "        return A_lamb_WninjR(mla,mlb)(\n",
    "            ms_val,mni_,mnj_,Ubj_,Ucai_,Cijs_,Cijcs_, tanb, Cab,\n",
    "            C0_mp_Wninj(ms_val,mni_,mnj_),\n",
    "            C2_mp_Wninj(ms_val,mni_,mnj_,mlb),B120_mp_Wninj(ms_val,mni_,mnj_)\n",
    "        )\n",
    "    \n",
    "    FF_list_Wninj.append({'L':FFWninjL,'R':FFWninjR})#\n",
    "    "
   ]
  },
  {
   "cell_type": "code",
   "execution_count": 33,
   "metadata": {},
   "outputs": [
    {
     "name": "stdout",
     "output_type": "stream",
     "text": [
      "CPU times: user 2.15 s, sys: 32.1 ms, total: 2.18 s\n",
      "Wall time: 2.32 s\n"
     ]
    },
    {
     "data": {
      "text/plain": [
       "((0.000000000037074498483347929955514511255162095067722717692331269666592103111326146385651681 - 0.0000000005841430056280976764445000862136327204539990201997351586828182255201368456618295j),\n",
       " (0.000000000047964168593892446779933519135957757821565316885046158610394247178402460118395672 - 0.00000000082464273870818467579759381024094874154219406270697581996392227783042146348236184j))"
      ]
     },
     "execution_count": 33,
     "metadata": {},
     "output_type": "execute_result"
    }
   ],
   "source": [
    "%%time\n",
    "(\n",
    "    FF_list_Wninj[0]['L'](mpf('125.10'),.2,.3,.4,.5,.6,.7,.8,.9,.10,.11),\n",
    "    FF_list_Wninj[0]['R'](mpf('125.10'),.2,.3,.4,.5,.6,.7,.8,.9,.10,.11)\n",
    ")"
   ]
  },
  {
   "cell_type": "markdown",
   "metadata": {},
   "source": [
    "#### Diagrams with $H n_i n_j$ numeric"
   ]
  },
  {
   "cell_type": "code",
   "execution_count": 34,
   "metadata": {},
   "outputs": [],
   "source": [
    "C0_mp_Hninj = lambda ms,mni_,mnj_,mHpm: lfvhd_mp.C0(ms,mHpm,mni_,mnj_)\n",
    "C1_mp_Hninj = lambda ms,mni_,mnj_,mla,mHpm: lfvhd_mp.C1(ms,mla,mHpm,mni_,mnj_)\n",
    "C2_mp_Hninj = lambda ms,mni_,mnj_,mlb,mHpm: lfvhd_mp.C2(ms,mlb,mHpm,mni_,mnj_)\n",
    "B120_mp_Hninj = lambda ms,mni_,mnj_: lfvhd_mp.B12_0(ms,mni_,mnj_)\n",
    "\n",
    "#FF_dicts1 = []#.subs(lfvhd.D,4).subs(cambios_hab(a,b)).subs(valores).subs(UnuTwo)\n",
    "FF_list_Hninj = []\n",
    "for dia_Hninj in DiagramasHninj:\n",
    "    A_sp_HninjL = lambda mla,mlb: FF_simplified2(dia_Hninj.AL(), mla, mlb, cambiosHninj)\n",
    "    A_sp_HninjR = lambda mla,mlb: FF_simplified2(dia_Hninj.AR(), mla, mlb, cambiosHninj)\n",
    "    \n",
    "    \n",
    "    #display(A_sp_HninjL(ml[1],ml[2]).atoms(Symbol))\n",
    "    A_lamb_HninjL = lambda mla,mlb: lambdify(\n",
    "        [\n",
    "            lfvhd.ma,mni,mnj,Ubj,Ucai,Cijs,Cijcs,mHpm,\n",
    "            tb, cab,C0_sp,C1_sp,C2_sp,B120_sp\n",
    "            ], A_sp_HninjL(mla,mlb),'mpmath')\n",
    "    \n",
    "    A_lamb_HninjR = lambda mla,mlb: lambdify(\n",
    "        [\n",
    "            lfvhd.ma,mni,mnj,Ubj,Ucai,Cijs,Cijcs,mHpm,\n",
    "            tb, cab,C0_sp,C1_sp,C2_sp,B120_sp\n",
    "            ], A_sp_HninjR(mla,mlb),'mpmath')\n",
    "    \n",
    "    #FF_dicts1.append({'L':A_lamb_HninjL,'R':A_lamb_HninjR})\n",
    "    \n",
    "    #for dictFF in FF_dicts1:\n",
    "    def FFHninjL(ms_val,mla,mlb,mni_,mnj_,Ubj_,Ucai_,Cijs_,Cijcs_,mHpm,\n",
    "                tanb, Cab):\n",
    "        return A_lamb_HninjL(mla,mlb)(\n",
    "            ms_val,mni_,mnj_,Ubj_,Ucai_,Cijs_,Cijcs_,mHpm,\n",
    "            tanb, Cab,\n",
    "            C0_mp_Hninj(ms_val,mni_,mnj_,mHpm),C1_mp_Hninj(ms_val,mni_,mnj_,mla,mHpm),\n",
    "            C2_mp_Hninj(ms_val,mni_,mnj_,mlb,mHpm),B120_mp_Hninj(ms_val,mni_,mnj_)\n",
    "        )\n",
    "    def FFHninjR(ms_val,mla,mlb,mni_,mnj_,Ubj_,Ucai_,Cijs_,Cijcs_,mHpm,\n",
    "                tanb, Cab):\n",
    "        return A_lamb_HninjR(mla,mlb)(\n",
    "            ms_val,mni_,mnj_,Ubj_,Ucai_,Cijs_,Cijcs_,mHpm,\n",
    "            tanb, Cab,\n",
    "            C0_mp_Hninj(ms_val,mni_,mnj_,mHpm),C1_mp_Hninj(ms_val,mni_,mnj_,mla,mHpm),\n",
    "            C2_mp_Hninj(ms_val,mni_,mnj_,mlb,mHpm),B120_mp_Hninj(ms_val,mni_,mnj_)\n",
    "        )\n",
    "    FF_list_Hninj.append({'L':FFHninjL,'R':FFHninjR})"
   ]
  },
  {
   "cell_type": "code",
   "execution_count": 35,
   "metadata": {},
   "outputs": [
    {
     "name": "stdout",
     "output_type": "stream",
     "text": [
      "CPU times: user 14.3 s, sys: 108 ms, total: 14.4 s\n",
      "Wall time: 15.3 s\n"
     ]
    },
    {
     "data": {
      "text/plain": [
       "((0.00000003579986468339378689290383688902106592165908790344646834754180428587740714247083 - 0.0000000146997771804335009048635414333467736762954045439665420026051960516665057345855j),\n",
       " (0.000000043526708622543978164033885826628556489166013675632298018863968754945441369605853 - 0.000000017870854788801981753705238381622184534933017847301040669487478024276078977088197j))"
      ]
     },
     "execution_count": 35,
     "metadata": {},
     "output_type": "execute_result"
    }
   ],
   "source": [
    "%%time\n",
    "(\n",
    "    FF_list_Hninj[0]['L'](mpf('125.10'),.2,.3,.4,.5,.6,.7,.8,.9,.10,.11,.12),\n",
    "    FF_list_Hninj[0]['R'](mpf('125.10'),.2,.3,.4,.5,.6,.7,.8,.9,.10,.11,.12)\n",
    ")"
   ]
  },
  {
   "cell_type": "code",
   "execution_count": 50,
   "metadata": {},
   "outputs": [],
   "source": [
    "m6 = mpf('1e5')\n",
    "mux0 = mpf('1e-7')\n",
    "mnk,UnuL,UnuR = diagonalizationMnu1(m1, m6, mux0)"
   ]
  },
  {
   "cell_type": "code",
   "execution_count": 33,
   "metadata": {},
   "outputs": [],
   "source": [
    "# l_niWW = len(FF_list_niWW) #ms_val,mla,mlb,mni_,Ubi_,Ucai_,Xi_phi,xi_lphi\n",
    "# l_niWH = len(FF_list_niWH) #ms_val,mla,mlb,mni_,Ubi_,Ucai_,mHpm,xi_lA,xi_nA,etaphi\n",
    "# l_niHW = len(FF_list_niHW) #ms_val,mla,mlb,mni_,Ubi_,Ucai_,mHpm,xi_lA,xi_nA,etaphi\n",
    "# l_niHH = len(FF_list_niHH) #(ms_val,mla,mlb,mni_,Ubi_,Ucai_,mHpm,\n",
    "#                            #beta,l5,xi_lphi,xi_lA,xi_nA,Dphi,Kphi,Qphi,rhophi)\n",
    "\n",
    "\n",
    "def sum_diagrams(aa,bb,ms_val,mHpm, tanb, Cab,l5,quirality='L'):\n",
    "    \n",
    "    # mnk,UnuL,UnuR = diagonalizationMnu1(m1,m6)\n",
    "    Unu = UnuL\n",
    "    Unu_dagger = UnuR\n",
    "    mla = ml[aa]\n",
    "    mlb = ml[bb]\n",
    "    if quirality=='L':\n",
    "        pass\n",
    "    elif quirality=='R':\n",
    "        pass\n",
    "    else:\n",
    "    \n",
    "        raise ValueError('quirality must be L or R')\n",
    "    \n",
    "    FFOne = 0\n",
    "    for k in range(1,7):\n",
    "        for FF_dict in FF_list_niWW:\n",
    "            FFOne += FF_dict[quirality](ms_val,mla,mlb,\n",
    "            mnk[k-1],Unu[bb-1,k-1],Unu_dagger[k-1,aa-1],\n",
    "            tanb, Cab)\n",
    "        \n",
    "        for FF_dict in FF_list_niHW:\n",
    "            FFOne += FF_dict[quirality](ms_val,mla,mlb,\n",
    "            mnk[k-1],Unu[bb-1,k-1],Unu_dagger[k-1,aa-1],\n",
    "            mHpm, tanb, Cab)\n",
    "        \n",
    "        for FF_dict in FF_list_niWH:\n",
    "            FFOne += FF_dict[quirality](ms_val,mla,mlb,\n",
    "            mnk[k-1],Unu[bb-1,k-1],Unu_dagger[k-1,aa-1],\n",
    "            mHpm, tanb, Cab)\n",
    "            \n",
    "        for FF_dict in FF_list_niHH:\n",
    "            FFOne += FF_dict[quirality](ms_val,mla,mlb,\n",
    "            mnk[k-1],Unu[bb-1,k-1],Unu_dagger[k-1,aa-1],\n",
    "            mHpm,tanb, Cab,l5)\n",
    "    \n",
    "    FFTwo = 0\n",
    "    Cij = lambda i,j: mp.fsum([Unu[c,i]*Unu_dagger[j,c] for c in range(3)])\n",
    "\n",
    "    for p in range(1,7):\n",
    "        for q in range(1,7):\n",
    "            for FF_dict in FF_list_Wninj:\n",
    "                FFTwo += FF_dict[quirality](ms_val,mla,mlb,\n",
    "                mnk[p-1],mnk[q-1],Unu[bb-1,q-1],Unu_dagger[p-1,aa-1],\n",
    "                Cij(p-1,q-1),conj(Cij(p-1,q-1)), tanb, Cab)\n",
    "            \n",
    "            for FF_dict in FF_list_Hninj:\n",
    "                FFTwo += FF_dict[quirality](ms_val,mla,mlb,\n",
    "                mnk[p-1],mnk[q-1],\n",
    "                Unu[bb-1,q-1],Unu_dagger[p-1,aa-1],\n",
    "                Cij(p-1,q-1),conj(Cij(p-1,q-1)),\n",
    "                mHpm, tanb, Cab)\n",
    "    FFtotal = FFTwo + FFOne\n",
    "    return FFtotal"
   ]
  },
  {
   "cell_type": "code",
   "execution_count": 34,
   "metadata": {},
   "outputs": [],
   "source": [
    "# l_niWW = len(FF_list_niWW) #ms_val,mla,mlb,mni_,Ubi_,Ucai_,Xi_phi,xi_lphi\n",
    "# l_niWH = len(FF_list_niWH) #ms_val,mla,mlb,mni_,Ubi_,Ucai_,FFTwo = sum_Wninj + sum_HninjmHpm,xi_lA,xi_nA,etaphi\n",
    "# l_niHW = len(FF_list_niHW) #ms_val,mla,mlb,mni_,Ubi_,Ucai_,mHpm,xi_lA,xi_nA,etaphi\n",
    "# l_niHH = len(FF_list_niHH) #(ms_val,mla,mlb,mni_,Ubi_,Ucai_,mHpm,\n",
    "#                            #beta,l5,xi_lphi,xi_lA,xi_nA,Dphi,Kphi,Qphi,rhophi)\n",
    "\n",
    "def sum_diagrams2(aa,bb,ms_val,mHpm, tanb, Cab,l5,quirality='L'):\n",
    "    \n",
    "    # mnk,UnuL,UnuR = diagonalizationMnu1(m1,m6)\n",
    "    Unu = UnuL\n",
    "    Unu_dagger = UnuR\n",
    "    mla = ml[aa]\n",
    "    mlb = ml[bb]\n",
    "    if quirality=='L':\n",
    "        pass\n",
    "    elif quirality=='R':\n",
    "        pass\n",
    "    else:\n",
    "        raise ValueError('quirality must be L or R')\n",
    "    \n",
    "    sum_niWW = sum(FF_dict[quirality](ms_val,mla,mlb,\n",
    "            mnk[k-1],Unu[bb-1,k-1],Unu_dagger[k-1,aa-1],\n",
    "            tanb, Cab)\n",
    "            for FF_dict in FF_list_niWW for k in range(1,7))\n",
    "        \n",
    "    sum_niHW = sum(FF_dict[quirality](ms_val,mla,mlb,\n",
    "            mnk[k-1],Unu[bb-1,k-1],Unu_dagger[k-1,aa-1],\n",
    "            mHpm,tanb, Cab) \n",
    "            for FF_dict in FF_list_niHW for k in range(1,7))\n",
    "        \n",
    "    sum_niWH = sum(FF_dict[quirality](ms_val,mla,mlb,\n",
    "            mnk[k-1],Unu[bb-1,k-1],Unu_dagger[k-1,aa-1],\n",
    "            mHpm,tanb, Cab)\n",
    "            for FF_dict in FF_list_niWH for k in range(1,7))\n",
    "            \n",
    "    sum_niHH = sum(FF_dict[quirality](ms_val,mla,mlb,\n",
    "            mnk[k-1],Unu[bb-1,k-1],Unu_dagger[k-1,aa-1],\n",
    "            mHpm, tanb, Cab,l5)\n",
    "            for FF_dict in FF_list_niHH for k in range(1,7))\n",
    "\n",
    "    FFOne = sum_niHH + sum_niWH + sum_niHW + sum_niWW\n",
    "    Cij = lambda i,j: mp.fsum([Unu[c,i]*Unu_dagger[j,c] for c in range(3)])\n",
    "\n",
    "    sum_Wninj = sum(FF_dict[quirality](ms_val,mla,mlb,\n",
    "    mnk[p-1],mnk[q-1],Unu[bb-1,q-1],Unu_dagger[p-1,aa-1],\n",
    "    Cij(p-1,q-1),conj(Cij(p-1,q-1)), tanb, Cab)\n",
    "    for FF_dict in FF_list_Wninj for p in range(1,7) for q in range(1,7))\n",
    "            \n",
    "    sum_Hninj = sum(FF_dict[quirality](ms_val,mla,mlb,\n",
    "                mnk[p-1],mnk[q-1],\n",
    "                Unu[bb-1,q-1],Unu_dagger[p-1,aa-1],\n",
    "                Cij(p-1,q-1),conj(Cij(p-1,q-1)),\n",
    "                mHpm, tanb, Cab)\n",
    "                for FF_dict in FF_list_Hninj for p in range(1,7) for q in range(1,7))\n",
    "    FFTwo = sum_Wninj + sum_Hninj\n",
    "    FFtotal = FFTwo + FFOne\n",
    "    return FFtotal"
   ]
  },
  {
   "cell_type": "code",
   "execution_count": 40,
   "metadata": {},
   "outputs": [],
   "source": [
    "Cij = lambda i,j: mp.fsum([UnuL[c,i]*UnuR[j,c] for c in range(3)])"
   ]
  },
  {
   "cell_type": "code",
   "execution_count": 51,
   "metadata": {},
   "outputs": [],
   "source": [
    "def sum_diagrams3(aa,bb,ms_val,mHpm, tanb, Cab,l5,quirality='L'):\n",
    "    \n",
    "    # mnk,UnuL,UnuR = diagonalizationMnu1(m1,m6)\n",
    "    Unu = UnuL\n",
    "    Unu_dagger = UnuR\n",
    "    mla = ml[aa]\n",
    "    mlb = ml[bb]\n",
    "    if quirality=='L':\n",
    "        pass\n",
    "    elif quirality=='R':\n",
    "        pass\n",
    "    else:\n",
    "        raise ValueError('quirality must be L or R')\n",
    "    \n",
    "    # sum_niWW = fsum(FF_dict[quirality](ms_val,mla,mlb,\n",
    "    #         mnk[k-1],Unu[bb-1,k-1],Unu_dagger[k-1,aa-1],\n",
    "    #         tanb, Cab)\n",
    "    #         for FF_dict in FF_list_niWW for k in range(1,7))\n",
    "        \n",
    "    # sum_niHW = fsum(FF_dict[quirality](ms_val,mla,mlb,\n",
    "    #         mnk[k-1],Unu[bb-1,k-1],Unu_dagger[k-1,aa-1],\n",
    "    #         mHpm,tanb, Cab) \n",
    "    #         for FF_dict in FF_list_niHW for k in range(1,7))\n",
    "        \n",
    "    # sum_niWH = fsum(FF_dict[quirality](ms_val,mla,mlb,\n",
    "    #         mnk[k-1],Unu[bb-1,k-1],Unu_dagger[k-1,aa-1],\n",
    "    #         mHpm,tanb, Cab)\n",
    "    #         for FF_dict in FF_list_niWH for k in range(1,7))\n",
    "            \n",
    "    # sum_niHH = fsum(FF_dict[quirality](ms_val,mla,mlb,\n",
    "    #         mnk[k-1],Unu[bb-1,k-1],Unu_dagger[k-1,aa-1],\n",
    "    #         mHpm, tanb, Cab,l5)\n",
    "    #         for FF_dict in FF_list_niHH for k in range(1,7))\n",
    "\n",
    "    #FFOne = sum_niWW + sum_niWH + sum_niHW + sum_niHH\n",
    "    # Cij = lambda i,j: mp.fsum([Unu[c,i]*Unu_dagger[j,c] for c in range(3)])\n",
    "\n",
    "    sum_Wninj = fsum(\n",
    "        FF_dict[quirality](ms_val,mla,mlb,\n",
    "        mnk[p-1],mnk[q-1],Unu[bb-1,q-1],Unu_dagger[p-1,aa-1],\n",
    "        Cij(p-1,q-1),conj(Cij(p-1,q-1)),tanb, Cab)\n",
    "    for FF_dict in [FF_list_Wninj[0]] for p in range(1,7) for q in range(1,7)\n",
    "    if not (p < 4 and q < 4))\n",
    "            \n",
    "    sum_Hninj = fsum(FF_dict[quirality](ms_val,mla,mlb,\n",
    "                mnk[p-1],mnk[q-1],\n",
    "                Unu[bb-1,q-1],Unu_dagger[p-1,aa-1],\n",
    "                Cij(p-1,q-1),conj(Cij(p-1,q-1)),\n",
    "                mHpm,tanb, Cab)\n",
    "                for FF_dict in FF_list_Hninj for p in range(1,7) for q in range(1,7)\n",
    "                if not (p < 4 and q < 4))\n",
    "    FFTwo = sum_Wninj + sum_Hninj\n",
    "    #FFtotal = FFTwo + FFOne\n",
    "    return FFTwo # FFtotal"
   ]
  },
  {
   "cell_type": "code",
   "execution_count": 38,
   "metadata": {},
   "outputs": [],
   "source": [
    "mh = mpf('125.10')\n",
    "mHval = mpf('1500')"
   ]
  },
  {
   "cell_type": "code",
   "execution_count": 99,
   "metadata": {},
   "outputs": [
    {
     "name": "stdout",
     "output_type": "stream",
     "text": [
      "CPU times: user 4min 31s, sys: 264 ms, total: 4min 31s\n",
      "Wall time: 4min 32s\n"
     ]
    },
    {
     "data": {
      "text/plain": [
       "(-0.0000000000000000000000021473375561634432274914859465979557012451848557443238383176538481925516242858126 - 0.000000000000000000000010586516038582761152788324254733892554009765327962649083055740118641187695768723j)"
      ]
     },
     "execution_count": 99,
     "metadata": {},
     "output_type": "execute_result"
    }
   ],
   "source": [
    "%%time\n",
    "\n",
    "suma1 = sum_diagrams(1,2,mh,mHval,5,6,7,'L')\n",
    "suma1"
   ]
  },
  {
   "cell_type": "code",
   "execution_count": 100,
   "metadata": {},
   "outputs": [
    {
     "name": "stdout",
     "output_type": "stream",
     "text": [
      "CPU times: user 4min 15s, sys: 192 ms, total: 4min 15s\n",
      "Wall time: 4min 15s\n"
     ]
    },
    {
     "data": {
      "text/plain": [
       "(-0.0000000000000000000000021473375561634432274914859465979557012451848557443238383176538481917838726990895 - 0.000000000000000000000010586516038582761152788324254733892554009765327962649083055740118586476111044705j)"
      ]
     },
     "execution_count": 100,
     "metadata": {},
     "output_type": "execute_result"
    }
   ],
   "source": [
    "%%time\n",
    "\n",
    "suma2 = sum_diagrams2(1,2,mh,mHval,5,6,7,'L')\n",
    "suma2"
   ]
  },
  {
   "cell_type": "code",
   "execution_count": 42,
   "metadata": {},
   "outputs": [
    {
     "ename": "NameError",
     "evalue": "name 'suma3n' is not defined",
     "output_type": "error",
     "traceback": [
      "\u001b[0;31m---------------------------------------------------------------------------\u001b[0m",
      "\u001b[0;31mNameError\u001b[0m                                 Traceback (most recent call last)",
      "\u001b[0;32m<timed exec>\u001b[0m in \u001b[0;36m<module>\u001b[0;34m\u001b[0m\n",
      "\u001b[0;31mNameError\u001b[0m: name 'suma3n' is not defined"
     ]
    }
   ],
   "source": [
    "%%time\n",
    "\n",
    "suma3 = sum_diagrams3(1,2,mh,mHval,5,6,7,'L')\n",
    "suma3"
   ]
  },
  {
   "cell_type": "code",
   "execution_count": 43,
   "metadata": {},
   "outputs": [
    {
     "data": {
      "text/plain": [
       "(1359880347.3364678997296379275924950462937209708033044404400751617177201039218382 + 6704300525.2598012823214373982947616072875893589858837769607152582847965506630134j)"
      ]
     },
     "execution_count": 43,
     "metadata": {},
     "output_type": "execute_result"
    }
   ],
   "source": [
    "suma3"
   ]
  },
  {
   "cell_type": "code",
   "execution_count": 125,
   "metadata": {},
   "outputs": [
    {
     "data": {
      "text/plain": [
       "1.0000000527860455979605830443615151622966579188005173788023812074805180904492952"
      ]
     },
     "execution_count": 125,
     "metadata": {},
     "output_type": "execute_result"
    }
   ],
   "source": [
    "abs(suma3/suma1)"
   ]
  },
  {
   "cell_type": "code",
   "execution_count": 103,
   "metadata": {},
   "outputs": [],
   "source": [
    "# from modelos_2HDM import typeI_h, typeII_h, Lepton_specific_h,Flipped_h, alphaf, betaf"
   ]
  },
  {
   "cell_type": "code",
   "execution_count": 52,
   "metadata": {},
   "outputs": [],
   "source": [
    "\n",
    "def numeric_sum_diagrams(ms,a,b,mHpm, mA, Cab, l5,quirality='L'):\n",
    "    if quirality=='L':\n",
    "        pass\n",
    "    elif quirality=='R':\n",
    "        pass\n",
    "    else:\n",
    "        raise ValueError('quirality must be L or R')\n",
    "    \n",
    "    def FFOne(tanb):\n",
    "        out = sum_diagrams3(a,b,ms,mHpm,tanb, Cab,l5,quirality)\n",
    "        return out\n",
    "    return FFOne"
   ]
  },
  {
   "cell_type": "code",
   "execution_count": 39,
   "metadata": {},
   "outputs": [
    {
     "name": "stdout",
     "output_type": "stream",
     "text": [
      "(-2.10289e-23 - 1.62858e-67j)\n",
      "CPU times: user 2min 21s, sys: 74.3 ms, total: 2min 21s\n",
      "Wall time: 2min 21s\n"
     ]
    }
   ],
   "source": [
    "%%time\n",
    "nprint(numeric_sum_diagrams(mpf('500.1'),1,2,mpf('550'), mpf('600'), 0.01,0.1,quirality='L')(1))"
   ]
  },
  {
   "cell_type": "markdown",
   "metadata": {},
   "source": [
    "## Total Form Factors"
   ]
  },
  {
   "cell_type": "code",
   "execution_count": 53,
   "metadata": {},
   "outputs": [],
   "source": [
    "\n",
    "def ALtot23(ms,mHpm, mA, tb, cab, l5):\n",
    "    return numeric_sum_diagrams(ms,2,3,mHpm, mA, cab, l5, quirality='L')(tb)\n",
    "def ARtot23(ms,mHpm, mA, tb, cab, l5):\n",
    "    return numeric_sum_diagrams(ms,2,3,mHpm, mA, cab, l5, quirality='R')(tb)\n",
    "\n",
    "\n",
    "def ALtot13(ms,mHpm, mA, tb, cab, l5):\n",
    "    return numeric_sum_diagrams(ms,1,3,mHpm, mA, cab, l5, quirality='L')(tb)\n",
    "def ARtot13(ms,mHpm, mA, tb, cab, l5):\n",
    "    return numeric_sum_diagrams(ms,1,3,mHpm, mA, cab, l5, quirality='R')(tb)\n",
    "\n",
    "\n",
    "def ALtot12(ms,mHpm, mA, tb, cab, l5):\n",
    "    return numeric_sum_diagrams(ms,1,2,mHpm, mA, cab, l5, quirality='L')(tb)\n",
    "def ARtot12(ms,mHpm, mA, tb, cab, l5):\n",
    "    return numeric_sum_diagrams(ms,1,2,mHpm, mA, cab, l5, quirality='R')(tb)\n"
   ]
  },
  {
   "cell_type": "code",
   "execution_count": 114,
   "metadata": {},
   "outputs": [
    {
     "name": "stdout",
     "output_type": "stream",
     "text": [
      "(-6.54432e-58 - 3.66843e-11j)\n",
      "CPU times: user 2min 17s, sys: 48 ms, total: 2min 17s\n",
      "Wall time: 2min 17s\n"
     ]
    }
   ],
   "source": [
    "%%time\n",
    "nprint(ALtot23(mpf('125.1'),mpf('500'), mpf('600'), 0.1, 0.2, 0.2))"
   ]
  },
  {
   "cell_type": "markdown",
   "metadata": {},
   "source": [
    "## Width decay of $h \\to e_a e_b$"
   ]
  },
  {
   "cell_type": "code",
   "execution_count": 54,
   "metadata": {},
   "outputs": [],
   "source": [
    "from OneLoopLFVHD import Γhlilj "
   ]
  },
  {
   "cell_type": "code",
   "execution_count": 55,
   "metadata": {},
   "outputs": [],
   "source": [
    "mHpm_val = mp.mpf('1500.0') \n",
    "mA_val = mp.mpf('1300.0') \n",
    "l5_val = mp.mpf('1') \n",
    "# m6_val = mp.mpf('1e15')\n",
    "cab_val = mpf('0.0')\n",
    "mh_val = mpf('125.1')\n",
    "# Φ =2"
   ]
  },
  {
   "cell_type": "code",
   "execution_count": 56,
   "metadata": {},
   "outputs": [],
   "source": [
    "def Γhl2l3_2HDM(tb):\n",
    "    AL = ALtot23(ms=mh_val,mHpm=mHpm_val, mA=mA_val,\n",
    "                 tb=tb, cab=cab_val, l5=l5_val)\n",
    "    AR = ARtot23(ms=mh_val,mHpm=mHpm_val, mA=mA_val,\n",
    "                 tb=tb, cab=cab_val, l5=l5_val)\n",
    "    return Γhlilj(AL,AR,ma=mh_val,mi=ml[2],mj=ml[3])\n",
    "    # mla = ml[aa]\n",
    "    # mlb = ml[bb]\n",
    "def Γhl1l3_2HDM(tb):\n",
    "    AL = ALtot13(ms=mh_val,mHpm=mHpm_val, mA=mA_val,\n",
    "                 tb=tb, cab=cab_val, l5=l5_val)\n",
    "    AR = ARtot13(ms=mh_val,mHpm=mHpm_val, mA=mA_val,\n",
    "                 tb=tb, cab=cab_val, l5=l5_val)\n",
    "    return Γhlilj(AL,AR,ma=mh_val,mi=ml[1],mj=ml[3])\n",
    "\n",
    "def Γhl1l2_2HDM(tb):\n",
    "    AL = ALtot12(ms=mh_val,mHpm=mHpm_val, mA=mA_val,\n",
    "                 tb=tb, cab=cab_val, l5=l5_val)\n",
    "    AR = ARtot12(ms=mh_val,mHpm=mHpm_val, mA=mA_val,\n",
    "                 tb=tb, cab=cab_val, l5=l5_val)\n",
    "    return Γhlilj(AL,AR,ma=mh_val,mi=ml[1],mj=ml[2])"
   ]
  },
  {
   "cell_type": "code",
   "execution_count": 73,
   "metadata": {},
   "outputs": [
    {
     "name": "stdout",
     "output_type": "stream",
     "text": [
      "2.05318e-29\n",
      "CPU times: user 5min 9s, sys: 600 ms, total: 5min 10s\n",
      "Wall time: 5min 10s\n"
     ]
    }
   ],
   "source": [
    "%%time \n",
    "nprint(Γhl1l2_2HDM(0.1))"
   ]
  },
  {
   "cell_type": "code",
   "execution_count": 57,
   "metadata": {},
   "outputs": [],
   "source": [
    "def speedup_array(f,array,procs=4): \n",
    "    pool = Pool(procs,maxtasksperchild=100).map(f, array) \n",
    "    result = np.array(list(pool))\n",
    "    #pool.close()\n",
    "    return result"
   ]
  },
  {
   "cell_type": "code",
   "execution_count": 58,
   "metadata": {},
   "outputs": [],
   "source": [
    "n = 5\n",
    "# tbmp = linspace(0.1,100,n)\n",
    "expmp = linspace(-1,2,n)\n",
    "tbmp = np.array([mpf('10.0')**k for k in expmp])#np.logspace(-1,15,n)"
   ]
  },
  {
   "cell_type": "code",
   "execution_count": 59,
   "metadata": {},
   "outputs": [
    {
     "name": "stdout",
     "output_type": "stream",
     "text": [
      "CPU times: user 2.78 s, sys: 1.08 s, total: 3.86 s\n",
      "Wall time: 44min 21s\n"
     ]
    }
   ],
   "source": [
    "%%time\n",
    "YW23 = speedup_array(Γhl2l3_2HDM,tbmp)\n",
    "\n",
    "YW13 = speedup_array(Γhl1l3_2HDM,tbmp)\n",
    "\n",
    "YW12 = speedup_array(Γhl1l2_2HDM,tbmp)"
   ]
  },
  {
   "cell_type": "code",
   "execution_count": 62,
   "metadata": {},
   "outputs": [],
   "source": [
    "Wtot = YW23 + YW13 + YW12 + 0.0032"
   ]
  },
  {
   "cell_type": "code",
   "execution_count": 63,
   "metadata": {},
   "outputs": [
    {
     "data": {
      "text/plain": [
       "<matplotlib.legend.Legend at 0x7f2d3cb8dd90>"
      ]
     },
     "execution_count": 63,
     "metadata": {},
     "output_type": "execute_result"
    },
    {
     "data": {
      "image/png": "[encoded data removed]",
      "text/plain": [
       "<Figure size 1500x800 with 1 Axes>"
      ]
     },
     "metadata": {},
     "output_type": "display_data"
    }
   ],
   "source": [
    "plt.figure(figsize=(15,8))\n",
    "plt.loglog(np.real(tbmp),(YW23)/Wtot,label=r'Br($h \\to \\mu \\tau$)')\n",
    "plt.loglog(np.real(tbmp),(YW13)/Wtot,label=r'Br($h \\to e \\tau$)')\n",
    "plt.loglog(np.real(tbmp),(YW12)/Wtot,label=r'Br($h \\to e \\mu$)')\n",
    "\n",
    "# Horizontal lines\n",
    "plt.hlines(1e-9,0.1,1e2,linestyles='-.',label=r'$1\\times 10^{-9}$')\n",
    "plt.hlines(1e-46,0.1,1e2,linestyles='--',color='b',label=r'$1\\times 10^{-46}$')\n",
    "\n",
    "# Vertical lines\n",
    "plt.vlines(1,1e-46,1e-9,linestyles='--',color='r',label=r'$\\tan{\\beta}=1$')\n",
    "\n",
    "#Axis\n",
    "#plt.yticks([1e-49,1e-39,1e-29,1e-19,1e-9],fontsize=18)\n",
    "#plt.xticks([0.1,1,10,100],fontsize=18)\n",
    "plt.xlabel(r'$\\tan{\\beta}$',fontsize=18)\n",
    "plt.ylabel(r'$\\mathcal{BR}(h \\to e_a e_b)$',fontsize=18)\n",
    "\n",
    "\n",
    "plt.title(r'$m_A=800$ GeV, $m_{H^{\\pm}}=1000$ GeV, $m_{n_6}={10^{10}}$ GeV,$\\lambda_5=0.1$',fontsize=18)\n",
    "plt.legend(fontsize=18,frameon=True,ncol=2,loc=4)\n",
    "#plt.savefig('2HDM-lepton-specific-Cba0.95-caso5.png',dpi=100)"
   ]
  },
  {
   "cell_type": "code",
   "execution_count": 66,
   "metadata": {},
   "outputs": [],
   "source": [
    "import pandas as pd"
   ]
  },
  {
   "cell_type": "code",
   "execution_count": 67,
   "metadata": {},
   "outputs": [],
   "source": [
    "df = pd.DataFrame({'tb':tbmp,\n",
    "                   'Whl2l3':YW23,\n",
    "                   #'Whl3l2':YW32,\n",
    "                   'Whl1l3':YW13,\n",
    "                   #'Whl3l1':YW31,\n",
    "                   'Whl1l2':YW12})\n",
    "                   #'Whl2l1':YW21})"
   ]
  },
  {
   "cell_type": "code",
   "execution_count": 68,
   "metadata": {},
   "outputs": [],
   "source": [
    "df.to_csv('Lepton_specific_Cab095_caso5_mA800_mHpm1000.txt',sep='\\t')"
   ]
  },
  {
   "cell_type": "code",
   "execution_count": 69,
   "metadata": {},
   "outputs": [
    {
     "data": {
      "text/plain": [
       "[<matplotlib.lines.Line2D at 0x7f1351f3f4c0>]"
      ]
     },
     "execution_count": 69,
     "metadata": {},
     "output_type": "execute_result"
    },
    {
     "data": {
      "image/png": "[encoded data removed]",
      "text/plain": [
       "<Figure size 432x288 with 1 Axes>"
      ]
     },
     "metadata": {
      "needs_background": "light"
     },
     "output_type": "display_data"
    }
   ],
   "source": [
    "plt.loglog(np.array(list(map(mpf,df['tb']))),np.array(list(map(mpf,df['Whl2l3']))))"
   ]
  },
  {
   "cell_type": "code",
   "execution_count": null,
   "metadata": {},
   "outputs": [],
   "source": []
  }
 ],
 "metadata": {
  "kernelspec": {
   "display_name": "Python 3.7.6 ('base')",
   "language": "python",
   "name": "python3"
  },
  "language_info": {
   "codemirror_mode": {
    "name": "ipython",
    "version": 3
   },
   "file_extension": ".py",
   "mimetype": "text/x-python",
   "name": "python",
   "nbconvert_exporter": "python",
   "pygments_lexer": "ipython3",
   "version": "3.7.6"
  },
  "vscode": {
   "interpreter": {
    "hash": "b921add2b647b46a0162d3f3de9ecdc25418a02eed44d89fb52e720252ea5280"
   }
  }
 },
 "nbformat": 4,
 "nbformat_minor": 4
}
