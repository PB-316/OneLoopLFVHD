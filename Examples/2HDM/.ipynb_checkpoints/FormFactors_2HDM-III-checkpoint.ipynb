{
 "cells": [
  {
   "cell_type": "markdown",
   "id": "willing-theater",
   "metadata": {},
   "source": [
    "# Form factors of LFVHD in the 2HDM-III"
   ]
  },
  {
   "cell_type": "markdown",
   "id": "dedicated-burns",
   "metadata": {},
   "source": [
    "In this notebook we analyze the LFVHD in the 2HDM-III. In this model the couplings of the neutral higgs bosons $h$, $H$ and $A$ are given by\n",
    "$$\n",
    "g_{hff'} = \\frac{1}{v}s_{\\beta- \\alpha} \\hat{M_f} + \\frac{1}{\\sqrt{2}}\\rho_f c_{\\beta- \\alpha}\n",
    "$$\n",
    "$$\n",
    "g_{Hff'} = \\frac{1}{v}c_{\\beta- \\alpha} \\hat{M_f} - \\frac{1}{\\sqrt{2}}\\rho_f s_{\\beta- \\alpha}\n",
    "$$\n",
    "$$\n",
    "g_{Aff'} = \\frac{i}{\\sqrt{2}}\\rho_f s_{f}\n",
    "$$\n",
    "\n",
    "where $f = u,d,e$, $s_f = 1$ for down-type quarks and charged leptons and $s_f= -1$ for up-type quarks."
   ]
  },
  {
   "cell_type": "markdown",
   "id": "powerful-syria",
   "metadata": {},
   "source": [
    "Also, the neutral scalar couplings to a pair of gauge bosons are fully by the gauge symmetry. One has\n",
    "\n",
    "$$C_{hWW} = s_{\\beta- \\alpha} C_{hWW}^{SM}$$\n",
    "$$C_{HWW} = c_{\\beta- \\alpha} C_{hWW}^{SM}$$\n",
    "$$C_{hWW} = 0$$."
   ]
  },
  {
   "cell_type": "code",
   "execution_count": 1,
   "id": "hidden-decade",
   "metadata": {},
   "outputs": [],
   "source": [
    "from sympy import symbols, init_printing, conjugate,I,IndexedBase,sqrt,collect,simplify\n",
    "from sympy import lambdify\n",
    "init_printing()"
   ]
  },
  {
   "cell_type": "code",
   "execution_count": 2,
   "id": "fantastic-plymouth",
   "metadata": {
    "Collapsed": "false"
   },
   "outputs": [],
   "source": [
    "import OneLoopLFVHD as lfvhd"
   ]
  },
  {
   "cell_type": "code",
   "execution_count": 3,
   "id": "incorrect-medium",
   "metadata": {},
   "outputs": [
    {
     "data": {
      "image/png": "[encoded data removed]",
      "text/latex": [
       "$\\displaystyle \\left( m_{a}, \\  m_{i}, \\  m_{j}\\right)$"
      ],
      "text/plain": [
       "(mₐ, mᵢ, m_j)"
      ]
     },
     "execution_count": 3,
     "metadata": {},
     "output_type": "execute_result"
    }
   ],
   "source": [
    "ma,mi,mj = lfvhd.ma,lfvhd.mi,lfvhd.mj\n",
    "ma,mi,mj"
   ]
  },
  {
   "cell_type": "code",
   "execution_count": 4,
   "id": "unique-beatles",
   "metadata": {},
   "outputs": [],
   "source": [
    "from mpmath import mp"
   ]
  },
  {
   "cell_type": "code",
   "execution_count": 5,
   "id": "delayed-arrangement",
   "metadata": {},
   "outputs": [],
   "source": [
    "mp.dps = 80; mp.pretty = True"
   ]
  },
  {
   "cell_type": "markdown",
   "id": "english-answer",
   "metadata": {},
   "source": [
    "## python definitions of couplings"
   ]
  },
  {
   "cell_type": "code",
   "execution_count": 6,
   "id": "cutting-timothy",
   "metadata": {
    "Collapsed": "false"
   },
   "outputs": [],
   "source": [
    "g,v = symbols(r'g,v',real=True)\n",
    "Y = IndexedBase(r'Y')\n",
    "mW = symbols(r'm_W',real=True)\n",
    "\n",
    "l,b,i,j = symbols('l,b,i,j',integer=True)"
   ]
  },
  {
   "cell_type": "code",
   "execution_count": 6,
   "id": "spare-alloy",
   "metadata": {
    "Collapsed": "false"
   },
   "outputs": [],
   "source": [
    "# hGdGu = lfvhd.VertexHSS(-I*λ1*v)\n",
    "# Guljνl = lfvhd.VertexSFF(I*(sqrt(2)/v)*mj*U[l,j],0)\n",
    "# Gdliνl = lfvhd.VertexSFF(0,I*(sqrt(2)/v)*mi*conjugate(U[l,i]))\n",
    "\n",
    "# hGdWu = lfvhd.VertexHSpVm(-I*g/2)\n",
    "# Wuljνl = lfvhd.VertexVFF(0,-I*(g/sqrt(2))*U[l,j])\n",
    "# hWdGu = lfvhd.VertexHVpSm(-I*g/2)\n",
    "# Wdliνl = lfvhd.VertexVFF(0,-I*(g/sqrt(2))*conjugate(U[l,i]))\n",
    "# hWdWu = lfvhd.VertexHVV(I*g**2/2*v)\n",
    "# hljlj = lfvhd.VertexHFF((I*g*mj)/(2*sqrt(2)*mW))\n",
    "# hlili = lfvhd.VertexHFF((I*g*mi)/(2*sqrt(2)*mW))"
   ]
  },
  {
   "cell_type": "code",
   "execution_count": null,
   "id": "aerial-extra",
   "metadata": {},
   "outputs": [],
   "source": []
  }
 ],
 "metadata": {
  "kernelspec": {
   "display_name": "Python 3",
   "language": "python",
   "name": "python3"
  },
  "language_info": {
   "codemirror_mode": {
    "name": "ipython",
    "version": 3
   },
   "file_extension": ".py",
   "mimetype": "text/x-python",
   "name": "python",
   "nbconvert_exporter": "python",
   "pygments_lexer": "ipython3",
   "version": "3.7.6"
  }
 },
 "nbformat": 4,
 "nbformat_minor": 5
}
