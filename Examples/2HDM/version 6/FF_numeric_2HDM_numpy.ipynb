{
 "cells": [
  {
   "cell_type": "markdown",
   "metadata": {},
   "source": [
    "# LFV Higgs decays in the 2HDM with  SeeSaw type I"
   ]
  },
  {
   "cell_type": "code",
   "execution_count": 1,
   "metadata": {},
   "outputs": [],
   "source": [
    "from sympy import init_printing,lambdify,Symbol, symbols, Matrix\n",
    "init_printing()\n",
    "import OneLoopLFVHD as lfvhd"
   ]
  },
  {
   "cell_type": "code",
   "execution_count": 2,
   "metadata": {},
   "outputs": [],
   "source": [
    "from FF_symbolic import TrianglesOneFermion, TrianglesTwoFermion, Bubbles\n",
    "from FF_symbolic import DiagramasWninj,DiagramasniWW,DiagramasniWH,DiagramasniHW\n",
    "from FF_symbolic import DiagramasHninj,DiagramasniHH\n",
    "from FF_symbolic import g, mW, mG, mHpm, mϕ, Uν, Uνc, mn, m, C, Cc, a,b,i\n",
    "from FF_symbolic import j as jj\n",
    "from FF_symbolic import ξlϕ, ξnϕ, ξlA, ξnA,α, β, Ξϕ, Kϕ, Qϕ,ρϕ, Δϕ,ηϕ, λ5"
   ]
  },
  {
   "cell_type": "code",
   "execution_count": 3,
   "metadata": {},
   "outputs": [],
   "source": [
    "import matplotlib.pyplot as plt\n",
    "%matplotlib inline"
   ]
  },
  {
   "cell_type": "code",
   "execution_count": 4,
   "metadata": {},
   "outputs": [],
   "source": [
    "import numpy as np"
   ]
  },
  {
   "cell_type": "code",
   "execution_count": 5,
   "metadata": {},
   "outputs": [],
   "source": [
    "from multiprocessing import Pool, cpu_count\n",
    "from time import time"
   ]
  },
  {
   "cell_type": "code",
   "execution_count": 6,
   "metadata": {},
   "outputs": [],
   "source": [
    "def speedup_array(f,array,procs=4): \n",
    "    pool = Pool(procs,maxtasksperchild=100).map(f, array)\n",
    "    result = np.array(list(pool))\n",
    "    pool.close()\n",
    "    return result"
   ]
  },
  {
   "cell_type": "markdown",
   "metadata": {},
   "source": [
    "## Numeric implementation of form factors"
   ]
  },
  {
   "cell_type": "markdown",
   "metadata": {},
   "source": [
    "**Neutrino benchmark** is given by "
   ]
  },
  {
   "cell_type": "code",
   "execution_count": 7,
   "metadata": {},
   "outputs": [],
   "source": [
    "from OneLoopLFVHD.neutrinos import NuOscObservables\n",
    "Nudata = NuOscObservables"
   ]
  },
  {
   "cell_type": "code",
   "execution_count": 8,
   "metadata": {},
   "outputs": [],
   "source": [
    "m1 = 1e-12  #GeV \n",
    "\n",
    "#current values to Square mass differences\n",
    "d21 = Nudata.squareDm21.central*1e-18# factor to convert eV^2 to GeV^2\n",
    "d31 = Nudata.squareDm31.central*1e-18\n",
    "\n",
    "#d21 = 7.5e-5*1e-18\n",
    "#d31 = 2.457e-3*1e-18\n",
    "m2 = np.sqrt(m1**2 + d21)\n",
    "m3 = np.sqrt(m1**2 + d31)\n",
    "\n",
    "m4 = lambda m6: m6/3\n",
    "m5 = lambda m6: m6/2"
   ]
  },
  {
   "cell_type": "markdown",
   "metadata": {},
   "source": [
    "## Setting 2HDM"
   ]
  },
  {
   "cell_type": "markdown",
   "metadata": {
    "tags": []
   },
   "source": [
    "### Form factor with one fermion in the loop."
   ]
  },
  {
   "cell_type": "code",
   "execution_count": 9,
   "metadata": {},
   "outputs": [],
   "source": [
    "# for D in TrianglesOneFermion:\n",
    "#     display(D.AL().atoms(Symbol))"
   ]
  },
  {
   "cell_type": "markdown",
   "metadata": {},
   "source": [
    "#### AL one fermion "
   ]
  },
  {
   "cell_type": "code",
   "execution_count": 10,
   "metadata": {},
   "outputs": [],
   "source": [
    "from OneLoopLFVHD.data import ml_np"
   ]
  },
  {
   "cell_type": "code",
   "execution_count": 11,
   "metadata": {},
   "outputs": [
    {
     "name": "stdout",
     "output_type": "stream",
     "text": [
      "(array([0.85901288+0.j, 3.14098712+0.j, 1.89442596+0.j, 4.10557404+0.j,\n",
      "       4.46191546+0.j, 0.53808454+0.j]), array([[ 0.88614151+0.j        ,  0.        +0.46341474j,\n",
      "         0.        +0.j        ,  0.        +0.j        ,\n",
      "        -0.        +0.j        ,  0.        +0.j        ],\n",
      "       [-0.        +0.j        ,  0.        +0.j        ,\n",
      "         0.        +0.j        ,  0.        +0.j        ,\n",
      "         0.        +0.32805016j,  0.9446603 +0.j        ],\n",
      "       [-0.        +0.j        ,  0.        +0.j        ,\n",
      "         0.82720151+0.j        ,  0.        +0.56190538j,\n",
      "        -0.        +0.j        ,  0.        +0.j        ],\n",
      "       [-0.        -0.46341474j,  0.88614151+0.j        ,\n",
      "         0.        +0.j        ,  0.        +0.j        ,\n",
      "        -0.        +0.j        ,  0.        +0.j        ],\n",
      "       [-0.        +0.j        ,  0.        +0.j        ,\n",
      "         0.        +0.j        ,  0.        +0.j        ,\n",
      "         0.9446603 +0.j        , -0.        -0.32805016j],\n",
      "       [-0.        +0.j        ,  0.        +0.j        ,\n",
      "         0.        -0.56190538j,  0.82720151+0.j        ,\n",
      "        -0.        +0.j        ,  0.        +0.j        ]]))\n"
     ]
    }
   ],
   "source": [
    "ma,mb = symbols('m_a,m_b',positive=True)\n",
    "# valores_h ={mW:mpf('80.379'),mh:mpf('125.10'),g:(2*mpf('80.379'))/mpf('246')}\n",
    "# valores_H ={mW:mpf('80.379'),mh:mpf('125.10'),g:(2*mpf('80.379'))/mpf('246')}\n",
    "valoresSM ={mW:80.379,g:(2*80.379)/246.0}\n",
    "\n",
    "# cambios_hab = lambda a,b:{lfvhd.ma:valores_h[mh],lfvhd.mi:ml[a],lfvhd.mj:ml[b]}\n",
    "cambios_lab = lambda mla,mlb:{lfvhd.mi:mla,lfvhd.mj:mlb}\n",
    "\n",
    "\n",
    "\n",
    "Ubi, Ucai,mni = symbols('U_{bi}, {{U_{ai}^*}},m_{n_i}')\n",
    "UnuOne = {mn[i]:mni,Uν[b,i]:Ubi,Uνc[a,i]:Ucai}\n",
    "\n",
    "# from Unu_seesaw_2HDM import diagonalizationMnu\n",
    "# diagonalizationMnu1 = lambda m1,m6,tb,doblet: diagonalizationMnu(\n",
    "#     m1,m2,m3,m6/mpf('3.0'),m6/mpf('2.0'),m6,tb,doblet)\n",
    "\n",
    "from Unu_seesaw import diagonalizationMnu_np\n",
    "\n",
    "diagonalizationMnu1 = lambda m1,m6: diagonalizationMnu_np(\n",
    "    m1,m2,m3,m6/3.0,m6/2.0,m6)"
   ]
  },
  {
   "cell_type": "code",
   "execution_count": 12,
   "metadata": {},
   "outputs": [
    {
     "data": {
      "text/plain": [
       "(array([0.85901288+0.j, 3.14098712+0.j, 1.89442596+0.j, 4.10557404+0.j,\n",
       "        4.46191546+0.j, 0.53808454+0.j]),\n",
       " array([[ 0.88614151+0.j        ,  0.        +0.46341474j,\n",
       "          0.        +0.j        ,  0.        +0.j        ,\n",
       "         -0.        +0.j        ,  0.        +0.j        ],\n",
       "        [-0.        +0.j        ,  0.        +0.j        ,\n",
       "          0.        +0.j        ,  0.        +0.j        ,\n",
       "          0.        +0.32805016j,  0.9446603 +0.j        ],\n",
       "        [-0.        +0.j        ,  0.        +0.j        ,\n",
       "          0.82720151+0.j        ,  0.        +0.56190538j,\n",
       "         -0.        +0.j        ,  0.        +0.j        ],\n",
       "        [-0.        -0.46341474j,  0.88614151+0.j        ,\n",
       "          0.        +0.j        ,  0.        +0.j        ,\n",
       "         -0.        +0.j        ,  0.        +0.j        ],\n",
       "        [-0.        +0.j        ,  0.        +0.j        ,\n",
       "          0.        +0.j        ,  0.        +0.j        ,\n",
       "          0.9446603 +0.j        , -0.        -0.32805016j],\n",
       "        [-0.        +0.j        ,  0.        +0.j        ,\n",
       "          0.        -0.56190538j,  0.82720151+0.j        ,\n",
       "         -0.        +0.j        ,  0.        +0.j        ]]))"
      ]
     },
     "execution_count": 12,
     "metadata": {},
     "output_type": "execute_result"
    }
   ],
   "source": [
    "diagonalizationMnu1(m1,100)"
   ]
  },
  {
   "cell_type": "code",
   "execution_count": 13,
   "metadata": {
    "tags": []
   },
   "outputs": [],
   "source": [
    "C0_sp, C1_sp, C2_sp, B120_sp, B10_sp,B11_sp,B20_sp,B21_sp = symbols('C0, C1, C2, B120, B10,B11,B20,B21')\n",
    "cambios_pave_sympy = lambda M0,M1,M2: {lfvhd.C0(M0,M1,M2):C0_sp,lfvhd.C1(M0,M1,M2):C1_sp,\n",
    "                                      lfvhd.C2(M0,M1,M2):C2_sp,lfvhd.B12_0(M1,M2):B120_sp,\n",
    "                                      lfvhd.B1_0(M0,M1):B10_sp,lfvhd.B1_1(M0,M1):B11_sp,\n",
    "                                      lfvhd.B2_0(M0,M2):B20_sp,lfvhd.B2_1(M0,M2):B21_sp}\n",
    "cambiosniWW = cambios_pave_sympy(mn[i],mW,mW)\n",
    "cambiosniWH = cambios_pave_sympy(mn[i],mW,mHpm)\n",
    "cambiosniHW = cambios_pave_sympy(mn[i],mHpm,mW)\n",
    "cambiosniHH = cambios_pave_sympy(mn[i],mHpm,mHpm)\n",
    "\n",
    "cambiosWninj = cambios_pave_sympy(mW,mn[i],mn[jj])\n",
    "cambiosHninj = cambios_pave_sympy(mHpm,mn[i],mn[jj])\n",
    "\n",
    "#cambiosniWW"
   ]
  },
  {
   "cell_type": "code",
   "execution_count": 14,
   "metadata": {},
   "outputs": [],
   "source": [
    "import OneLoopLFVHD.LFVHDFeynG_numpy as lfvhd_np# B1_0, B2_0, B1_1, B2_1, B12_0, C0, C1, C2"
   ]
  },
  {
   "cell_type": "markdown",
   "metadata": {},
   "source": [
    "### Diagrams with One Fermion"
   ]
  },
  {
   "cell_type": "markdown",
   "metadata": {},
   "source": [
    "#### Diagrams with $n_i WW$ numeric"
   ]
  },
  {
   "cell_type": "code",
   "execution_count": 15,
   "metadata": {},
   "outputs": [],
   "source": [
    "####################\n",
    "mW_val = valoresSM[mW]\n",
    "C0_mp_niWW = lambda ms,mni_: lfvhd_np.C0(ms,mni_,mW_val,mW_val)\n",
    "C1_mp_niWW = lambda ms,mni_,mla: lfvhd_np.C1(ms,mla,mni_,mW_val,mW_val)\n",
    "C2_mp_niWW = lambda ms,mni_,mlb: lfvhd_np.C2(ms,mlb,mni_,mW_val,mW_val)\n",
    "B120_mp_niWW = lambda ms: lfvhd_np.B12_0(ms,mW_val,mW_val)\n",
    "B10_mp_niWW = lambda mni_,mla: lfvhd_np.B1_0(mla,mni_,mW_val)#ma,mi,M0,M1\n",
    "B11_mp_niWW = lambda mni_,mla: lfvhd_np.B1_1(mla,mni_,mW_val)\n",
    "B20_mp_niWW = lambda mni_,mlb: lfvhd_np.B2_0(mlb,mni_,mW_val)\n",
    "B21_mp_niWW = lambda mni_,mlb: lfvhd_np.B2_1(mlb,mni_,mW_val)\n",
    "\n",
    "\n",
    "FF_list_niWW = []\n",
    "for dia_niWW in DiagramasniWW:\n",
    "    A_sp_niWWL = lambda mla,mlb: dia_niWW.AL().subs(cambiosniWW).subs(lfvhd.D,4).subs(\n",
    "            lfvhd.B12_0(mW,mW),0).simplify().subs(\n",
    "        cambios_lab(mla,mlb)).subs(valoresSM).subs(UnuOne)\n",
    "    A_sp_niWWR = lambda mla,mlb: dia_niWW.AR().subs(cambiosniWW).subs(lfvhd.D,4).subs(\n",
    "            lfvhd.B12_0(mW,mW),0).simplify().subs(\n",
    "        cambios_lab(mla,mlb)).subs(valoresSM).subs(UnuOne)\n",
    "\n",
    "\n",
    "    #display(A_sp_niWWL(ml[1],ml[2]).atoms(Symbol))\n",
    "    A_lamb_niWWL = lambda mla,mlb: lambdify([lfvhd.ma,mni,Ubi,Ucai, Ξϕ,ξlϕ,\n",
    "                   C0_sp,C1_sp,C2_sp,B120_sp,B10_sp,B11_sp,B20_sp,B21_sp],\n",
    "                                           A_sp_niWWL(mla,mlb),'numpy')\n",
    "\n",
    "    A_lamb_niWWR = lambda mla,mlb: lambdify([lfvhd.ma,mni,Ubi,Ucai, Ξϕ,ξlϕ,\n",
    "                   C0_sp,C1_sp,C2_sp,B120_sp,B10_sp,B11_sp,B20_sp,B21_sp],\n",
    "                                           A_sp_niWWR(mla,mlb),'numpy')\n",
    "    #print(A_lamb_niWWL(ml[2],ml[3])(1,2,3,4,5,6,7,8,9,10,11,12,13,14))\n",
    "\n",
    "\n",
    "    def FFniWWL(ms,mla,mlb,mni_,Ubi_,Ucai_,Xi_phi,xi_lphi):\n",
    "        return  np.vectorize(\n",
    "            A_lamb_niWWL(mla,mlb)(ms,mni_,Ubi_,Ucai_,Xi_phi,xi_lphi,\n",
    "                C0_mp_niWW(ms,mni_),C1_mp_niWW(ms,mni_,mla),C2_mp_niWW(ms,mni_,mlb),\n",
    "                B120_mp_niWW(ms),B10_mp_niWW(mni_,mla),B11_mp_niWW(mni_,mla),\n",
    "                B20_mp_niWW(mni_,mlb),B21_mp_niWW(mni_,mlb))\n",
    "                )\n",
    "\n",
    "    def FFniWWR(ms,mla,mlb,mni_,Ubi_,Ucai_,Xi_phi,xi_lphi):\n",
    "        return np.vectorize(\n",
    "            A_lamb_niWWR(mla,mlb)(ms,mni_,Ubi_,Ucai_,Xi_phi,xi_lphi,\n",
    "                C0_mp_niWW(ms,mni_),C1_mp_niWW(ms,mni_,mla),C2_mp_niWW(ms,mni_,mlb),\n",
    "                B120_mp_niWW(ms),B10_mp_niWW(mni_,mla),B11_mp_niWW(mni_,mla),\n",
    "                B20_mp_niWW(mni_,mlb),B21_mp_niWW(mni_,mlb))\n",
    "                )\n",
    "\n",
    "    FF_list_niWW.append({'L':FFniWWL,'R':FFniWWR})\n",
    "    "
   ]
  },
  {
   "cell_type": "code",
   "execution_count": 16,
   "metadata": {},
   "outputs": [
    {
     "name": "stdout",
     "output_type": "stream",
     "text": [
      "CPU times: user 1.19 s, sys: 0 ns, total: 1.19 s\n",
      "Wall time: 1.2 s\n"
     ]
    },
    {
     "data": {
      "text/plain": [
       "(<numpy.vectorize at 0x7fe2b47e22d0>, <numpy.vectorize at 0x7fe2b3d76c50>)"
      ]
     },
     "execution_count": 16,
     "metadata": {},
     "output_type": "execute_result"
    }
   ],
   "source": [
    "%%time\n",
    "(\n",
    "    FF_list_niWW[0]['L'](125.10,2,3,4,5,6,7,8),\n",
    "    FF_list_niWW[0]['R'](125.10,2,3,4,5,6,7,8)\n",
    ")"
   ]
  },
  {
   "cell_type": "code",
   "execution_count": 17,
   "metadata": {},
   "outputs": [],
   "source": [
    "# def y11(mi,M0,M1):\n",
    "#     a = mi**2\n",
    "#     b = - (mi**2 + M0**2-M1**2)\n",
    "#     c = M0**2\n",
    "#     return np.roots([a,b,c])[0]\n",
    "# #lfvhd_np.B1_0(mla,mni_,mW_val)\n",
    "# y11 = np.vectorize(y11)\n",
    "# y11(ml_np[2],m,mW_val)"
   ]
  },
  {
   "cell_type": "code",
   "execution_count": 18,
   "metadata": {},
   "outputs": [
    {
     "name": "stdout",
     "output_type": "stream",
     "text": [
      "[-0.00020306+0.j -0.00020287+0.j -0.00020263+0.j -0.00020234+0.j\n",
      " -0.00020201+0.j -0.00020165+0.j -0.00020126+0.j -0.00020084+0.j\n",
      " -0.00020039+0.j -0.00019992+0.j -0.00019943+0.j -0.00019891+0.j\n",
      " -0.00019837+0.j -0.00019782+0.j -0.00019725+0.j -0.00019666+0.j\n",
      " -0.00019606+0.j -0.00019545+0.j -0.00019482+0.j -0.00019418+0.j]\n",
      "[-16.5483691 +0.j -15.77416923+0.j -15.21842296+0.j -14.7849672 +0.j\n",
      " -14.42985568+0.j -14.12928459+0.j -13.86889694+0.j -13.63936131+0.j\n",
      " -13.43426848+0.j -13.24902502+0.j -13.08022569+0.j -12.92527555+0.j\n",
      " -12.78215137+0.j -12.64924487+0.j -12.52525631+0.j -12.40912014+0.j\n",
      " -12.29995179+0.j -12.19700879+0.j -12.09966178+0.j -12.00737261+0.j]\n"
     ]
    }
   ],
   "source": [
    "# m = np.linspace(1,10,20)\n",
    "# print(C0_mp_niWW(125.1,m))\n",
    "# #print(C1_mp_niWW(125.1,m,ml_np[1]))\n",
    "# #print(C2_mp_niWW(125.1,m,ml_np[2]))\n",
    "# print(B10_mp_niWW(m,ml_np[2]))"
   ]
  },
  {
   "cell_type": "markdown",
   "metadata": {},
   "source": [
    "#### Diagrams with $n_i HH$ numeric"
   ]
  },
  {
   "cell_type": "code",
   "execution_count": 19,
   "metadata": {},
   "outputs": [],
   "source": [
    "####################\n",
    "####################\n",
    "#ms = symbols('m_s',real=True)\n",
    "C0_mp_niHH = lambda ms,mni_,mHpm: lfvhd_np.C0(ms,mni_,mHpm,mHpm)\n",
    "C1_mp_niHH = lambda ms,mni_,mla,mHpm: lfvhd_np.C1(ms,mla,mni_,mHpm,mHpm)\n",
    "C2_mp_niHH = lambda ms,mni_,mlb,mHpm: lfvhd_np.C2(ms,mlb,mni_,mHpm,mHpm)\n",
    "B10_mp_niHH = lambda mni_,mla,mHpm: lfvhd_np.B1_0(mla,mni_,mHpm)\n",
    "B11_mp_niHH = lambda mni_,mla,mHpm: lfvhd_np.B1_1(mla,mni_,mHpm)\n",
    "B20_mp_niHH = lambda mni_,mlb,mHpm: lfvhd_np.B2_0(mlb,mni_,mHpm)\n",
    "B21_mp_niHH = lambda mni_,mlb,mHpm: lfvhd_np.B2_1(mlb,mni_,mHpm)\n",
    "\n",
    "###################3\n",
    "FF_list_niHH = []\n",
    "for dia_niHH in DiagramasniHH:\n",
    "    A_sp_niHHL = lambda mla,mlb: dia_niHH.AL().subs(cambiosniHH).subs(lfvhd.D,4).simplify().subs(\n",
    "        cambios_lab(mla,mlb)).subs(valoresSM).subs(UnuOne)\n",
    "    A_sp_niHHR = lambda mla,mlb: dia_niHH.AR().subs(cambiosniHH).subs(lfvhd.D,4).simplify().subs(\n",
    "        cambios_lab(mla,mlb)).subs(valoresSM).subs(UnuOne)\n",
    "    \n",
    "    \n",
    "    #display(A_sp_niHHL(ml[1],ml[2]).atoms(Symbol))\n",
    "    A_lamb_niHHL = lambda mla,mlb: lambdify([lfvhd.ma,mni,Ubi,Ucai,mHpm,β,λ5,ξlϕ,ξlA,ξnA,Δφ,Kφ,Qφ,ρφ,\n",
    "                   C0_sp,C1_sp,C2_sp,B10_sp,B11_sp,B20_sp,B21_sp],\n",
    "                                           A_sp_niHHL(mla,mlb),'numpy')\n",
    "    \n",
    "    A_lamb_niHHR = lambda mla,mlb: lambdify([lfvhd.ma,mni,Ubi,Ucai,mHpm,β,λ5,ξlϕ,ξlA,ξnA,Δφ,Kφ,Qφ,ρφ,\n",
    "                   C0_sp,C1_sp,C2_sp,B10_sp,B11_sp,B20_sp,B21_sp],\n",
    "                                           A_sp_niHHR(mla,mlb),'numpy')\n",
    "    #.subs(typeI_ξh).subs(common_factor_h).subs(lfvhd.ma,mh).subs(mh,mpf('125.10'))\n",
    "    def FFniHHL(ms_val,mla,mlb,mni_,Ubi_,Ucai_,\n",
    "           mHpm,beta,l5,xi_lphi,xi_lA,xi_nA,Dphi,Kphi,Qphi,rhophi):\n",
    "        return A_lamb_niHHL(mla,mlb)(ms_val,mni_,Ubi_,Ucai_,\n",
    "                      mHpm,beta,l5,xi_lphi,xi_lA,xi_nA,Dphi,Kphi,Qphi,rhophi,\n",
    "                C0_mp_niHH(ms_val,mni_,mHpm),C1_mp_niHH(ms_val,mni_,mla,mHpm),\n",
    "                C2_mp_niHH(ms_val,mni_,mlb,mHpm),\n",
    "                B10_mp_niHH(mni_,mla,mHpm),B11_mp_niHH(mni_,mla,mHpm),\n",
    "                 B20_mp_niHH(mni_,mlb,mHpm),B21_mp_niHH(mni_,mlb,mHpm))\n",
    "    \n",
    "    def FFniHHR(ms_val,mla,mlb,mni_,Ubi_,Ucai_,\n",
    "           mHpm,beta,l5,xi_lphi,xi_lA,xi_nA,Dphi,Kphi,Qphi,rhophi):\n",
    "        return A_lamb_niHHR(mla,mlb)(ms_val,mni_,Ubi_,Ucai_,\n",
    "                      mHpm,beta,l5,xi_lphi,xi_lA,xi_nA,Dphi,Kphi,Qphi,rhophi,\n",
    "                C0_mp_niHH(ms_val,mni_,mHpm),C1_mp_niHH(ms_val,mni_,mla,mHpm),\n",
    "                C2_mp_niHH(ms_val,mni_,mlb,mHpm),\n",
    "                B10_mp_niHH(mni_,mla,mHpm),B11_mp_niHH(mni_,mla,mHpm),\n",
    "                 B20_mp_niHH(mni_,mlb,mHpm),B21_mp_niHH(mni_,mlb,mHpm))\n",
    "    \n",
    "    FF_list_niHH.append({'L':FFniHHL,'R':FFniHHR})"
   ]
  },
  {
   "cell_type": "code",
   "execution_count": 20,
   "metadata": {},
   "outputs": [
    {
     "data": {
      "text/plain": [
       "((8.148602463221688637e-16-0j), (3.4224143673571278732e-16-0j))"
      ]
     },
     "execution_count": 20,
     "metadata": {},
     "output_type": "execute_result"
    }
   ],
   "source": [
    "(\n",
    "    FF_list_niHH[0]['L'](125.10,.2,.3,.4,.5,.6,.7,.8,.9,.10,.11,.12,.13,.14,.15,.16),\n",
    "    FF_list_niHH[0]['R'](125.10,.2,.3,.4,.5,.6,.7,.8,.9,.10,.11,.12,.13,.14,.15,.16)\n",
    ")"
   ]
  },
  {
   "cell_type": "markdown",
   "metadata": {},
   "source": [
    "#### Diagrams with $n_i WH$ numeric"
   ]
  },
  {
   "cell_type": "code",
   "execution_count": 21,
   "metadata": {},
   "outputs": [],
   "source": [
    "####################\n",
    "####################\n",
    "#ms = symbols('m_s',real=True)\n",
    "C0_mp_niWH = lambda ms,mni_,mHpm: lfvhd_np.C0(ms,mni_,mW_val,mHpm)\n",
    "C1_mp_niWH = lambda ms,mni_,mla,mHpm: lfvhd_np.C1(ms,mla,mni_,mW_val,mHpm)\n",
    "C2_mp_niWH = lambda ms,mni_,mlb,mHpm: lfvhd_np.C2(ms,mlb,mni_,mW_val,mHpm)\n",
    "\n",
    "###################3\n",
    "\n",
    "FF_list_niWH = []\n",
    "for dia_niWH in DiagramasniWH:\n",
    "    A_sp_niWHL = lambda mla,mlb: dia_niWH.AL().subs(\n",
    "    lfvhd.B12_0(mW,mHpm),0).subs(cambiosniWH).subs(lfvhd.D,4).simplify().subs(\n",
    "        cambios_lab(mla,mlb)).subs(valoresSM).subs(UnuOne)\n",
    "    A_sp_niWHR = lambda mla,mlb: dia_niWH.AR().subs(\n",
    "    lfvhd.B12_0(mW,mHpm),0).subs(cambiosniWH).subs(lfvhd.D,4).simplify().subs(\n",
    "        cambios_lab(mla,mlb)).subs(valoresSM).subs(UnuOne)\n",
    "    \n",
    "    \n",
    "    #display(A_sp_niWHR(ml[1],ml[2]))\n",
    "    A_lamb_niWHL = lambda mla,mlb: lambdify([lfvhd.ma,mni,Ubi,Ucai,mHpm,ξlA,ξnA,ηφ,\n",
    "                   C0_sp,C1_sp,C2_sp], A_sp_niWHL(mla,mlb),'numpy')\n",
    "    \n",
    "    A_lamb_niWHR = lambda mla,mlb: lambdify([lfvhd.ma,mni,Ubi,Ucai,mHpm,ξlA,ξnA,ηφ,\n",
    "                   C0_sp,C1_sp,C2_sp], A_sp_niWHR(mla,mlb),'numpy')\n",
    "    \n",
    "    #.subs(typeI_ξh).subs(common_factor_h).subs(lfvhd.ma,mh).subs(mh,mpf('125.10'))\n",
    "    def FFniWHL(ms_val,mla,mlb,mni_,Ubi_,Ucai_,mHpm,xi_lA,xi_nA,etaphi):\n",
    "        return A_lamb_niWHL(mla,mlb)(ms_val,mni_,Ubi_,Ucai_,\n",
    "                mHpm,xi_lA,xi_nA,etaphi,\n",
    "                C0_mp_niWH(ms_val,mni_,mHpm),C1_mp_niWH(ms_val,mni_,mla,mHpm),\n",
    "                C2_mp_niWH(ms_val,mni_,mlb,mHpm))\n",
    "    \n",
    "    def FFniWHR(ms_val,mla,mlb,mni_,Ubi_,Ucai_,mHpm,xi_lA,xi_nA,etaphi):\n",
    "        return A_lamb_niWHR(mla,mlb)(ms_val,mni_,Ubi_,Ucai_,\n",
    "                mHpm,xi_lA,xi_nA,etaphi,\n",
    "                C0_mp_niWH(ms_val,mni_,mHpm),C1_mp_niWH(ms_val,mni_,mla,mHpm),\n",
    "                C2_mp_niWH(ms_val,mni_,mlb,mHpm))\n",
    "    \n",
    "    FF_list_niWH.append({'L':FFniWHL,'R':FFniWHR})"
   ]
  },
  {
   "cell_type": "code",
   "execution_count": 22,
   "metadata": {},
   "outputs": [
    {
     "data": {
      "text/plain": [
       "((-9.296425521197594116e-12-3.0972455173014964932e-11j),\n",
       " (-2.6072694000050667895e-12+4.74500650591350361e-11j))"
      ]
     },
     "execution_count": 22,
     "metadata": {},
     "output_type": "execute_result"
    }
   ],
   "source": [
    "(\n",
    "    FF_list_niWH[0]['L'](125.10,.2,.3,.4,.5,.6,.7,.8,.9,.10),\n",
    "    FF_list_niWH[0]['R'](125.10,.2,.3,.4,.5,.6,.7,.8,.9,.10)\n",
    ")"
   ]
  },
  {
   "cell_type": "markdown",
   "metadata": {},
   "source": [
    "#### Diagrams with $n_i HW$ numeric"
   ]
  },
  {
   "cell_type": "code",
   "execution_count": 23,
   "metadata": {},
   "outputs": [],
   "source": [
    "####################\n",
    "####################\n",
    "#ms = symbols('m_s',real=True)\n",
    "C0_mp_niHW = lambda ms,mni_,mHpm: lfvhd_np.C0(ms,mni_,mHpm,mW_val)\n",
    "C1_mp_niHW = lambda ms,mni_,mla,mHpm: lfvhd_np.C1(ms,mla,mni_,mHpm,mW_val)\n",
    "C2_mp_niHW = lambda ms,mni_,mlb,mHpm: lfvhd_np.C2(ms,mlb,mni_,mHpm,mW_val)\n",
    "\n",
    "###################3\n",
    "\n",
    "FF_list_niHW = []\n",
    "for dia_niHW in DiagramasniHW:\n",
    "    A_sp_niHWL = lambda mla,mlb: dia_niHW.AL().subs(\n",
    "    lfvhd.B12_0(mHpm,mW),0).subs(cambiosniHW).subs(lfvhd.D,4).simplify().subs(\n",
    "        cambios_lab(mla,mlb)).subs(valoresSM).subs(UnuOne)\n",
    "    A_sp_niHWR = lambda mla,mlb: dia_niHW.AR().subs(\n",
    "    lfvhd.B12_0(mHpm,mW),0).subs(cambiosniHW).subs(lfvhd.D,4).simplify().subs(\n",
    "        cambios_lab(mla,mlb)).subs(valoresSM).subs(UnuOne)\n",
    "    \n",
    "    #display(A_sp_niHWL(ml[1],ml[2]).atoms(Symbol))\n",
    "    A_lamb_niHWL = lambda mla,mlb: lambdify([lfvhd.ma,mni,Ubi,Ucai,mHpm,ξlA,ξnA,ηφ,\n",
    "                   C0_sp,C1_sp,C2_sp], A_sp_niHWL(mla,mlb),'numpy')\n",
    "    \n",
    "    A_lamb_niHWR = lambda mla,mlb: lambdify([lfvhd.ma,mni,Ubi,Ucai,mHpm,ξlA,ξnA,ηφ,\n",
    "                   C0_sp,C1_sp,C2_sp], A_sp_niHWR(mla,mlb),'numpy')\n",
    "    \n",
    "    #.subs(typeI_ξh).subs(common_factor_h).subs(lfvhd.ma,mh).subs(mh,mpf('125.10'))\n",
    "\n",
    "    def FFniHWL(ms_val,mla,mlb,mni_,Ubi_,Ucai_,mHpm,xi_lA,xi_nA,etaphi):\n",
    "        return A_lamb_niHWL(mla,mlb)(ms_val,mni_,Ubi_,Ucai_,\n",
    "                mHpm,xi_lA,xi_nA,etaphi,\n",
    "                C0_mp_niHW(ms_val,mni_,mHpm),C1_mp_niHW(ms_val,mni_,mla,mHpm),\n",
    "                C2_mp_niHW(ms_val,mni_,mlb,mHpm))\n",
    "    \n",
    "    def FFniHWR(ms_val,mla,mlb,mni_,Ubi_,Ucai_,mHpm,xi_lA,xi_nA,etaphi):\n",
    "        return A_lamb_niHWR(mla,mlb)(ms_val,mni_,Ubi_,Ucai_,\n",
    "                mHpm,xi_lA,xi_nA,etaphi,\n",
    "                C0_mp_niHW(ms_val,mni_,mHpm),C1_mp_niHW(ms_val,mni_,mla,mHpm),\n",
    "                C2_mp_niHW(ms_val,mni_,mlb,mHpm))\n",
    "    \n",
    "    FF_list_niHW.append({'L':FFniHWL,'R':FFniHWR})"
   ]
  },
  {
   "cell_type": "code",
   "execution_count": 24,
   "metadata": {},
   "outputs": [
    {
     "data": {
      "text/plain": [
       "((3.7851938708254689102e-12+2.7856042353101740315e-11j),\n",
       " (-1.0529604583167945295e-11-4.0901945715211660438e-11j))"
      ]
     },
     "execution_count": 24,
     "metadata": {},
     "output_type": "execute_result"
    }
   ],
   "source": [
    "(\n",
    "    FF_list_niHW[0]['L'](125.10,.2,.3,.4,.5,.6,.7,.8,.9,.10),\n",
    "    FF_list_niHW[0]['R'](125.10,.2,.3,.4,.5,.6,.7,.8,.9,.10)\n",
    ")"
   ]
  },
  {
   "cell_type": "code",
   "execution_count": 25,
   "metadata": {},
   "outputs": [],
   "source": [
    "# for FF_dict in FF_list_niWH:\n",
    "#     #display(FF_dict['L'])    \n",
    "#     print(FF_dict['L'](mpf('125.10'),2,3,4,5,6,7,8,9,10))"
   ]
  },
  {
   "cell_type": "markdown",
   "metadata": {},
   "source": [
    "### Diagrams with two fermions"
   ]
  },
  {
   "cell_type": "code",
   "execution_count": 26,
   "metadata": {},
   "outputs": [],
   "source": [
    "## Internal funtions TwoFermion\n",
    "\n",
    "mnj = symbols('m_{n_j}',positive=True)\n",
    "Cijs, Cijcs, Ubj = symbols('C_{ij}, {{C_{ij}^*}},U_{bj}')\n",
    "UnuTwo = {mn[i]:mni,mn[jj]:mnj,C[i,jj]:Cijs, Cc[i,jj]:Cijcs, Uν[b,jj]:Ubj, Uνc[a,i]:Ucai}"
   ]
  },
  {
   "cell_type": "markdown",
   "metadata": {},
   "source": [
    "#### Diagrams with $W n_i n_j$ numeric"
   ]
  },
  {
   "cell_type": "code",
   "execution_count": 27,
   "metadata": {},
   "outputs": [],
   "source": [
    "C0_mp_Wninj = lambda ms,mni_,mnj_: lfvhd_np.C0(ms,mW_val,mni_,mnj_)\n",
    "C1_mp_Wninj = lambda ms,mni_,mnj_,mla: lfvhd_np.C1(ms,mla,mW_val,mni_,mnj_)\n",
    "C2_mp_Wninj = lambda ms,mni_,mnj_,mlb: lfvhd_np.C2(ms,mlb,mW_val,mni_,mnj_)\n",
    "B120_mp_Wninj = lambda ms,mni_,mnj_: lfvhd_np.B12_0(ms,mni_,mnj_)\n",
    "\n",
    "FF_list_Wninj = []#.subs(lfvhd.D,4).subs(cambios_hab(a,b)).subs(valores).subs(UnuTwo)\n",
    "for dia_Wninj in DiagramasWninj:\n",
    "    A_sp_WninjL = lambda mla,mlb: dia_Wninj.AL().subs(cambiosWninj).subs(lfvhd.D,4\n",
    "                    ).simplify().subs(cambios_lab(mla,mlb)).subs(valoresSM).subs(UnuTwo)\n",
    "    A_sp_WninjR = lambda mla,mlb: dia_Wninj.AR().subs(cambiosWninj).subs(lfvhd.D,4\n",
    "                    ).simplify().subs(cambios_lab(mla,mlb)).subs(valoresSM).subs(UnuTwo)\n",
    "    \n",
    "    \n",
    "    #display(A_sp_WninjL(ml[1],ml[2]).atoms(Symbol))\n",
    "    A_lamb_WninjL = lambda mla,mlb: lambdify([lfvhd.ma,mni,mnj,Ubj,Ucai,Cijs,Cijcs,ξnϕ,\n",
    "                   C0_sp,C1_sp,B120_sp], A_sp_WninjL(mla,mlb),'numpy')\n",
    "    \n",
    "    A_lamb_WninjR = lambda mla,mlb: lambdify([lfvhd.ma,mni,mnj,Ubj,Ucai,Cijs,Cijcs,ξnϕ,\n",
    "                   C0_sp,C2_sp,B120_sp], A_sp_WninjR(mla,mlb),'numpy')\n",
    "    \n",
    "    \n",
    "    #.subs(typeI_ξh).subs(common_factor_h).subs(lfvhd.ma,mh).subs(mh,mpf('125.10'))\n",
    "    def FFWninjL(ms_val,mla,mlb,mni_,mnj_,Ubj_,Ucai_,Cijs_,Cijcs_,xi_nphi):\n",
    "        return A_lamb_WninjL(mla,mlb)(\n",
    "            ms_val,mni_,mnj_,Ubj_,Ucai_,Cijs_,Cijcs_,xi_nphi,\n",
    "            C0_mp_Wninj(ms_val,mni_,mnj_),C1_mp_Wninj(ms_val,mni_,mnj_,mla),\n",
    "            B120_mp_Wninj(ms_val,mni_,mnj_)\n",
    "        )\n",
    "    def FFWninjR(ms_val,mla,mlb,mni_,mnj_,Ubj_,Ucai_,Cijs_,Cijcs_,xi_nphi):\n",
    "        return A_lamb_WninjR(mla,mlb)(\n",
    "            ms_val,mni_,mnj_,Ubj_,Ucai_,Cijs_,Cijcs_,xi_nphi,\n",
    "            C0_mp_Wninj(ms_val,mni_,mnj_),\n",
    "            C2_mp_Wninj(ms_val,mni_,mnj_,mlb),B120_mp_Wninj(ms_val,mni_,mnj_)\n",
    "        )\n",
    "    \n",
    "    FF_list_Wninj.append({'L':FFWninjL,'R':FFWninjR})#\n",
    "    "
   ]
  },
  {
   "cell_type": "code",
   "execution_count": 28,
   "metadata": {},
   "outputs": [
    {
     "name": "stdout",
     "output_type": "stream",
     "text": [
      "CPU times: user 1.7 s, sys: 0 ns, total: 1.7 s\n",
      "Wall time: 1.73 s\n"
     ]
    },
    {
     "data": {
      "text/plain": [
       "((3.706093348250451763e-11-2.7896947980710773253e-11j),\n",
       " (5.2508616276331088044e-11-3.9382506274601554223e-11j))"
      ]
     },
     "execution_count": 28,
     "metadata": {},
     "output_type": "execute_result"
    }
   ],
   "source": [
    "%%time\n",
    "(\n",
    "    FF_list_Wninj[0]['L'](125.10,.2,.3,.4,.5,.6,.7,.8,.9,.10),\n",
    "    FF_list_Wninj[0]['R'](125.10,.2,.3,.4,.5,.6,.7,.8,.9,.10)\n",
    ")"
   ]
  },
  {
   "cell_type": "markdown",
   "metadata": {},
   "source": [
    "#### Diagrams with $H n_i n_j$ numeric"
   ]
  },
  {
   "cell_type": "code",
   "execution_count": 29,
   "metadata": {},
   "outputs": [],
   "source": [
    "C0_mp_Hninj = lambda ms,mni_,mnj_,mHpm: lfvhd_np.C0(ms,mHpm,mni_,mnj_)\n",
    "C1_mp_Hninj = lambda ms,mni_,mnj_,mla,mHpm: lfvhd_np.C1(ms,mla,mHpm,mni_,mnj_)\n",
    "C2_mp_Hninj = lambda ms,mni_,mnj_,mlb,mHpm: lfvhd_np.C2(ms,mlb,mHpm,mni_,mnj_)\n",
    "B120_mp_Hninj = lambda ms,mni_,mnj_: lfvhd_np.B12_0(ms,mni_,mnj_)\n",
    "\n",
    "FF_list_Hninj = []#.subs(lfvhd.D,4).subs(cambios_hab(a,b)).subs(valores).subs(UnuTwo)\n",
    "for dia_Hninj in DiagramasHninj:\n",
    "    A_sp_HninjL = lambda mla,mlb: dia_Hninj.AL().subs(cambiosHninj).subs(lfvhd.D,4\n",
    "                    ).simplify().subs(cambios_lab(mla,mlb)).subs(valoresSM).subs(UnuTwo)\n",
    "    A_sp_HninjR = lambda mla,mlb: dia_Hninj.AR().subs(cambiosHninj).subs(lfvhd.D,4\n",
    "                    ).simplify().subs(cambios_lab(mla,mlb)).subs(valoresSM).subs(UnuTwo)\n",
    "    \n",
    "    \n",
    "    #display(A_sp_HninjL(ml[1],ml[2]).atoms(Symbol))\n",
    "    A_lamb_HninjL = lambda mla,mlb: lambdify([lfvhd.ma,mni,mnj,Ubj,Ucai,Cijs,Cijcs,mHpm,\n",
    "                ξnϕ,ξnA,ξlA,C0_sp,C1_sp,C2_sp,B120_sp], A_sp_HninjL(mla,mlb),'numpy')\n",
    "    \n",
    "    A_lamb_HninjR = lambda mla,mlb: lambdify([lfvhd.ma,mni,mnj,Ubj,Ucai,Cijs,Cijcs,mHpm,\n",
    "                ξnϕ,ξnA,ξlA,C0_sp,C1_sp,C2_sp,B120_sp], A_sp_HninjR(mla,mlb),'numpy')\n",
    "    \n",
    "    \n",
    "    #.subs(typeI_ξh).subs(common_factor_h).subs(lfvhd.ma,mh).subs(mh,mpf('125.10'))\n",
    "    def FFHninjL(ms_val,mla,mlb,mni_,mnj_,Ubj_,Ucai_,Cijs_,Cijcs_,mHpm,\n",
    "                 xi_nphi,xi_nA,xi_lA):\n",
    "        return A_lamb_HninjL(mla,mlb)(\n",
    "            ms_val,mni_,mnj_,Ubj_,Ucai_,Cijs_,Cijcs_,mHpm,\n",
    "            xi_nphi,xi_nA,xi_lA,\n",
    "            C0_mp_Hninj(ms_val,mni_,mnj_,mHpm),C1_mp_Hninj(ms_val,mni_,mnj_,mla,mHpm),\n",
    "            C2_mp_Hninj(ms_val,mni_,mnj_,mlb,mHpm),B120_mp_Hninj(ms_val,mni_,mnj_)\n",
    "        )\n",
    "    def FFHninjR(ms_val,mla,mlb,mni_,mnj_,Ubj_,Ucai_,Cijs_,Cijcs_,mHpm,\n",
    "                 xi_nphi,xi_nA,xi_lA):\n",
    "        return A_lamb_HninjR(mla,mlb)(\n",
    "            ms_val,mni_,mnj_,Ubj_,Ucai_,Cijs_,Cijcs_,mHpm,\n",
    "            xi_nphi,xi_nA,xi_lA,\n",
    "            C0_mp_Hninj(ms_val,mni_,mnj_,mHpm),C1_mp_Hninj(ms_val,mni_,mnj_,mla,mHpm),\n",
    "            C2_mp_Hninj(ms_val,mni_,mnj_,mlb,mHpm),B120_mp_Hninj(ms_val,mni_,mnj_)\n",
    "        )\n",
    "    \n",
    "    FF_list_Hninj.append({'L':FFHninjL,'R':FFHninjR})#"
   ]
  },
  {
   "cell_type": "code",
   "execution_count": 30,
   "metadata": {},
   "outputs": [
    {
     "name": "stdout",
     "output_type": "stream",
     "text": [
      "CPU times: user 10.8 s, sys: 31.9 ms, total: 10.9 s\n",
      "Wall time: 11 s\n"
     ]
    },
    {
     "data": {
      "text/plain": [
       "((2.6759362213534006802e-13-1.4647975419882435007e-13j),\n",
       " (3.253540956126227327e-13-1.7807838430186335865e-13j))"
      ]
     },
     "execution_count": 30,
     "metadata": {},
     "output_type": "execute_result"
    }
   ],
   "source": [
    "%%time\n",
    "(\n",
    "    FF_list_Hninj[0]['L'](125.10,.2,.3,.4,.5,.6,.7,.8,.9,.10,.11,.12,.13),\n",
    "    FF_list_Hninj[0]['R'](125.10,.2,.3,.4,.5,.6,.7,.8,.9,.10,.11,.12,.13)\n",
    ")"
   ]
  },
  {
   "cell_type": "code",
   "execution_count": 31,
   "metadata": {},
   "outputs": [],
   "source": [
    "# l_niWW = len(FF_list_niWW) #ms_val,mla,mlb,mni_,Ubi_,Ucai_,Xi_phi,xi_lphi\n",
    "# l_niWH = len(FF_list_niWH) #ms_val,mla,mlb,mni_,Ubi_,Ucai_,mHpm,xi_lA,xi_nA,etaphi\n",
    "# l_niHW = len(FF_list_niHW) #ms_val,mla,mlb,mni_,Ubi_,Ucai_,mHpm,xi_lA,xi_nA,etaphi\n",
    "# l_niHH = len(FF_list_niHH) #(ms_val,mla,mlb,mni_,Ubi_,Ucai_,mHpm,\n",
    "#                            #beta,l5,xi_lphi,xi_lA,xi_nA,Dphi,Kphi,Qphi,rhophi)\n",
    "\n",
    "def sum_diagrams(m6,aa,bb,ms_val,mHpm,beta,l5,\n",
    "                   xi_lphi,xi_lA,xi_nphi,xi_nA,Xi_phi,Dphi,Kphi,Qphi,rhophi,etaphi,quirality='L'):\n",
    "    \n",
    "    mnk,UnuL = diagonalizationMnu1(m1,m6)\n",
    "    Unu = UnuL\n",
    "    Unu_dagger = np.conjugate(UnuL.T)\n",
    "    mla = ml_np[aa]\n",
    "    mlb = ml_np[bb]\n",
    "    if quirality=='L':\n",
    "        pass\n",
    "    elif quirality=='R':\n",
    "        pass\n",
    "    else:\n",
    "        raise ValueError('quirality must be L or R')\n",
    "    \n",
    "    FFOne = 0\n",
    "    for k in range(1,7):\n",
    "        for FF_dict in FF_list_niWW:\n",
    "            FFOne += FF_dict[quirality](ms_val,mla,mlb,\n",
    "            mnk[k-1],Unu[bb-1,k-1],Unu_dagger[k-1,aa-1],\n",
    "            Xi_phi,xi_lphi)\n",
    "        \n",
    "        for FF_dict in FF_list_niHW:\n",
    "            FFOne += FF_dict[quirality](ms_val,mla,mlb,\n",
    "            mnk[k-1],Unu[bb-1,k-1],Unu_dagger[k-1,aa-1],\n",
    "            mHpm,xi_lA,xi_nA,etaphi)\n",
    "        \n",
    "        for FF_dict in FF_list_niWH:\n",
    "            FFOne += FF_dict[quirality](ms_val,mla,mlb,\n",
    "            mnk[k-1],Unu[bb-1,k-1],Unu_dagger[k-1,aa-1],\n",
    "            mHpm,xi_lA,xi_nA,etaphi)\n",
    "            \n",
    "        for FF_dict in FF_list_niHH:\n",
    "            FFOne += FF_dict[quirality](ms_val,mla,mlb,\n",
    "            mnk[k-1],Unu[bb-1,k-1],Unu_dagger[k-1,aa-1],\n",
    "            mHpm,beta,l5,xi_lphi,xi_lA,xi_nA,Dphi,Kphi,Qphi,rhophi)\n",
    "                                \n",
    "        \n",
    "    FFTwo = 0\n",
    "    Cij = lambda i,j: np.sum([Unu[c,i]*Unu_dagger[j,c] for c in range(3)])\n",
    "\n",
    "    for p in range(1,7):\n",
    "        for q in range(1,7):\n",
    "            for FF_dict in FF_list_Wninj:\n",
    "                FFTwo += FF_dict[quirality](ms_val,mla,mlb,\n",
    "                mnk[p-1],mnk[q-1],Unu[bb-1,q-1],Unu_dagger[p-1,aa-1],\n",
    "                Cij(p-1,q-1),np.conjugate(Cij(p-1,q-1)),xi_nphi)\n",
    "            \n",
    "            for FF_dict in FF_list_Hninj:\n",
    "                FFTwo += FF_dict[quirality](ms_val,mla,mlb,\n",
    "                mnk[p-1],mnk[q-1],\n",
    "                Unu[bb-1,q-1],Unu_dagger[p-1,aa-1],\n",
    "                Cij(p-1,q-1),np.conjugate(Cij(p-1,q-1)),\n",
    "                mHpm,xi_nphi,xi_nA,xi_lA)\n",
    "    \n",
    "    FFtotal = FFTwo + FFOne\n",
    "    return FFtotal"
   ]
  },
  {
   "cell_type": "markdown",
   "metadata": {},
   "source": []
  },
  {
   "cell_type": "code",
   "execution_count": 40,
   "metadata": {},
   "outputs": [],
   "source": [
    "def sum_diagrams(m6,aa,bb,ms_val,mHpm,beta,l5,\n",
    "                   xi_lphi,xi_lA,xi_nphi,xi_nA,Xi_phi,Dphi,Kphi,Qphi,rhophi,etaphi,quirality='L'):\n",
    "    \n",
    "    mnk,UnuL = diagonalizationMnu1(m1,m6)\n",
    "    Unu = UnuL\n",
    "    Unu_dagger = np.conjugate(UnuL.T)\n",
    "    mla = ml_np[aa]\n",
    "    mlb = ml_np[bb]\n",
    "    if quirality=='L':\n",
    "        pass\n",
    "    elif quirality=='R':\n",
    "        pass\n",
    "    else:\n",
    "        raise ValueError('quirality must be L or R')\n",
    "    \n",
    "    # FFOne = []\n",
    "    # for k in range(1,7):\n",
    "    #     for FF_dict in FF_list_niWW:\n",
    "    #         FFOne.append(\n",
    "    #             FF_dict[quirality](ms_val,mla,mlb,\n",
    "    #             mnk[k-1],Unu[bb-1,k-1],Unu_dagger[k-1,aa-1],\n",
    "    #             Xi_phi,xi_lphi)\n",
    "    #             )\n",
    "    Unu_bb1 = Unu[bb-1,:]\n",
    "    Unudagger_aa1 = Unu_dagger[aa-1,:]\n",
    "    #print(Unu_bb1)\n",
    "\n",
    "    FF = 0\n",
    "    for FF_dict in FF_list_niWW:\n",
    "        FF += np.sum(\n",
    "            FF_dict[quirality](ms_val,mla,mlb,\n",
    "                mnk,Unu_bb1,Unudagger_aa1,\n",
    "                Xi_phi,xi_lphi)\n",
    "                )\n",
    "        print(FF)\n",
    "    # FFOne = [\n",
    "    #     FF_dict[quirality](ms_val,mla,mlb,\n",
    "    #             mnk[k-1],Unu[bb-1,k-1],Unu_dagger[k-1,aa-1],\n",
    "    #             Xi_phi,xi_lphi)\n",
    "    #             for k in np.arange(1,7) for FF_dict in FF_list_niWW]\n",
    "        \n",
    "        # for FF_dict in FF_list_niHW:\n",
    "        #     FFOne.append(\n",
    "        #         FF_dict[quirality](ms_val,mla,mlb,\n",
    "        #         mnk[k-1],Unu[bb-1,k-1],Unu_dagger[k-1,aa-1],\n",
    "        #         mHpm,xi_lA,xi_nA,etaphi)\n",
    "        #     )\n",
    "\n",
    "    FFOne += [\n",
    "        FF_dict[quirality](ms_val,mla,mlb,\n",
    "                mnk[k-1],Unu[bb-1,k-1],Unu_dagger[k-1,aa-1],\n",
    "                mHpm,xi_lA,xi_nA,etaphi)\n",
    "                for k in np.arange(1,7) for FF_dict in FF_list_niHW\n",
    "    ]\n",
    "        \n",
    "        # for FF_dict in FF_list_niWH:\n",
    "        #     FFOne.append(\n",
    "        #         FF_dict[quirality](ms_val,mla,mlb,\n",
    "        #         mnk[k-1],Unu[bb-1,k-1],Unu_dagger[k-1,aa-1],\n",
    "        #         mHpm,xi_lA,xi_nA,etaphi)\n",
    "        #     )\n",
    "\n",
    "    FFOne += [\n",
    "        FF_dict[quirality](ms_val,mla,mlb,\n",
    "                mnk[k-1],Unu[bb-1,k-1],Unu_dagger[k-1,aa-1],\n",
    "                mHpm,xi_lA,xi_nA,etaphi)\n",
    "                for k in np.arange(1,7) for FF_dict in FF_list_niWH\n",
    "    ]\n",
    "            \n",
    "        # for FF_dict in FF_list_niHH:\n",
    "        #     FFOne.append(\n",
    "        #         FF_dict[quirality](ms_val,mla,mlb,\n",
    "        #         mnk[k-1],Unu[bb-1,k-1],Unu_dagger[k-1,aa-1],\n",
    "        #         mHpm,beta,l5,xi_lphi,xi_lA,xi_nA,Dphi,Kphi,Qphi,rhophi)\n",
    "        #     )\n",
    "\n",
    "    FFOne += [\n",
    "        FF_dict[quirality](ms_val,mla,mlb,\n",
    "                mnk[k-1],Unu[bb-1,k-1],Unu_dagger[k-1,aa-1],\n",
    "                mHpm,beta,l5,xi_lphi,xi_lA,xi_nA,Dphi,Kphi,Qphi,rhophi)\n",
    "                for k in np.arange(1,7) for FF_dict in FF_list_niHH\n",
    "    ]\n",
    "                                \n",
    "        \n",
    "    \n",
    "    Cij = lambda i,j: np.sum([Unu[c,i]*Unu_dagger[j,c] for c in range(3)])\n",
    "\n",
    "    # for p in range(1,7):\n",
    "    #     for q in range(1,7):\n",
    "    #         for FF_dict in FF_list_Wninj:\n",
    "    #             FF.append(\n",
    "    #                 FF_dict[quirality](ms_val,mla,mlb,\n",
    "    #                 mnk[p-1],mnk[q-1],Unu[bb-1,q-1],Unu_dagger[p-1,aa-1],\n",
    "    #                 Cij(p-1,q-1),np.conjugate(Cij(p-1,q-1)),xi_nphi)\n",
    "    #             )\n",
    "    FFOne += [\n",
    "        FF_dict[quirality](ms_val,mla,mlb,\n",
    "                    mnk[p-1],mnk[q-1],Unu[bb-1,q-1],Unu_dagger[p-1,aa-1],\n",
    "                    Cij(p-1,q-1),np.conjugate(Cij(p-1,q-1)),xi_nphi)\n",
    "                    for p in np.arange(1,7) for q in np.arange(1,7) for FF_dict in FF_list_Wninj\n",
    "    ]\n",
    "            \n",
    "            # for FF_dict in FF_list_Hninj:\n",
    "            #     FF.append(\n",
    "            #         FF_dict[quirality](ms_val,mla,mlb,\n",
    "            #         mnk[p-1],mnk[q-1],Unu[bb-1,q-1],Unu_dagger[p-1,aa-1],\n",
    "            #         Cij(p-1,q-1),np.conjugate(Cij(p-1,q-1)),\n",
    "            #         mHpm,xi_nphi,xi_nA,xi_lA)\n",
    "            #     )\n",
    "\n",
    "    FFOne += [\n",
    "        FF_dict[quirality](ms_val,mla,mlb,\n",
    "                    mnk[p-1],mnk[q-1],Unu[bb-1,q-1],Unu_dagger[p-1,aa-1],\n",
    "                    Cij(p-1,q-1),np.conjugate(Cij(p-1,q-1)),\n",
    "                    mHpm,xi_nphi,xi_nA,xi_lA)\n",
    "                    for p in np.arange(1,7) for q in np.arange(1,7) for FF_dict in FF_list_Hninj\n",
    "    ]\n",
    "    #FF = FFOne + FFOne1 + FFOne2 + FFOne3 + FFOne4 + FFOne5\n",
    "    FFtotal = np.sum(np.array(FFOne))\n",
    "    return FFtotal"
   ]
  },
  {
   "cell_type": "code",
   "execution_count": 41,
   "metadata": {},
   "outputs": [
    {
     "ename": "TypeError",
     "evalue": "unsupported operand type(s) for +=: 'int' and 'vectorize'",
     "output_type": "error",
     "traceback": [
      "\u001b[0;31m---------------------------------------------------------------------------\u001b[0m",
      "\u001b[0;31mTypeError\u001b[0m                                 Traceback (most recent call last)",
      "\u001b[0;32m<timed eval>\u001b[0m in \u001b[0;36m<module>\u001b[0;34m\u001b[0m\n",
      "\u001b[0;32m/tmp/ipykernel_180569/3564613044.py\u001b[0m in \u001b[0;36msum_diagrams\u001b[0;34m(m6, aa, bb, ms_val, mHpm, beta, l5, xi_lphi, xi_lA, xi_nphi, xi_nA, Xi_phi, Dphi, Kphi, Qphi, rhophi, etaphi, quirality)\u001b[0m\n\u001b[1;32m     31\u001b[0m             FF_dict[quirality](ms_val,mla,mlb,\n\u001b[1;32m     32\u001b[0m                 \u001b[0mmnk\u001b[0m\u001b[0;34m,\u001b[0m\u001b[0mUnu_bb1\u001b[0m\u001b[0;34m,\u001b[0m\u001b[0mUnudagger_aa1\u001b[0m\u001b[0;34m,\u001b[0m\u001b[0;34m\u001b[0m\u001b[0;34m\u001b[0m\u001b[0m\n\u001b[0;32m---> 33\u001b[0;31m                 Xi_phi,xi_lphi)\n\u001b[0m\u001b[1;32m     34\u001b[0m                 )\n\u001b[1;32m     35\u001b[0m         \u001b[0mprint\u001b[0m\u001b[0;34m(\u001b[0m\u001b[0mFF\u001b[0m\u001b[0;34m)\u001b[0m\u001b[0;34m\u001b[0m\u001b[0;34m\u001b[0m\u001b[0m\n",
      "\u001b[0;31mTypeError\u001b[0m: unsupported operand type(s) for +=: 'int' and 'vectorize'"
     ]
    }
   ],
   "source": [
    "%%time\n",
    "\n",
    "sum_diagrams(1e-12,1,2,125.10,500,6,7,8,9,10,11,12,13,14,15,16,17,'L')"
   ]
  },
  {
   "cell_type": "code",
   "execution_count": 71,
   "metadata": {},
   "outputs": [
    {
     "data": {
      "text/plain": [
       "array([1, 2, 3, 4, 5, 6])"
      ]
     },
     "execution_count": 71,
     "metadata": {},
     "output_type": "execute_result"
    }
   ],
   "source": [
    "np.arange(1,7)"
   ]
  },
  {
   "cell_type": "code",
   "execution_count": 42,
   "metadata": {},
   "outputs": [],
   "source": [
    "from modelos_2HDM import typeI_h, typeII_h, Lepton_specific_h,Flipped_h"
   ]
  },
  {
   "cell_type": "code",
   "execution_count": 43,
   "metadata": {},
   "outputs": [],
   "source": [
    "def numeric_sum_diagrams(ms,a,b,mHpm, mA, alpha, beta, l5,\n",
    "                            type_2HDM=typeI_h,quirality='L'):\n",
    "    if quirality=='L':\n",
    "        pass\n",
    "    elif quirality=='R':\n",
    "        pass\n",
    "    else:\n",
    "        raise ValueError('quirality must be L or R')\n",
    "    Kphi =  4*mA**2 - 3*ms**2- 2*mHpm**2\n",
    "    Qphi = ms**2 - 2*mHpm**2\n",
    "    \n",
    "    Yuk_common = type_2HDM(alpha,beta)\n",
    "    xi_lphi, xi_nphi, xi_lA, xi_nA, Xi_phi, etaphi,rhophi,Dphi = Yuk_common\n",
    "    def FFOne(m6):\n",
    "        out = sum_diagrams(m6,a,b,ms,mHpm,beta,l5,\n",
    "                   xi_lphi,xi_lA,xi_nphi,xi_nA,Xi_phi,Dphi,Kphi,Qphi,rhophi,etaphi,quirality)\n",
    "        return out\n",
    "    return FFOne"
   ]
  },
  {
   "cell_type": "code",
   "execution_count": 44,
   "metadata": {},
   "outputs": [
    {
     "name": "stdout",
     "output_type": "stream",
     "text": [
      "(0.0 + 0.0j)\n",
      "CPU times: user 6min 29s, sys: 500 ms, total: 6min 29s\n",
      "Wall time: 6min 32s\n"
     ]
    }
   ],
   "source": [
    "%%time\n",
    "print(numeric_sum_diagrams(500.1,1,2,550, 600, 0.1, 0.2, 0.1,\n",
    "                               type_2HDM=typeI_h,quirality='L')(1e-12))"
   ]
  },
  {
   "cell_type": "markdown",
   "metadata": {},
   "source": [
    "## Total Form Factors"
   ]
  },
  {
   "cell_type": "code",
   "execution_count": 45,
   "metadata": {},
   "outputs": [],
   "source": [
    "\n",
    "def ALtot23(ms,m6,mHpm, mA, alpha, beta, l5,type_2HDM=typeI_h):\n",
    "    return numeric_sum_diagrams(ms,2,3,mHpm, mA, alpha, beta, l5,\n",
    "                                   type_2HDM=type_2HDM,quirality='L')(m6)\n",
    "def ARtot23(ms,m6,mHpm, mA, alpha, beta, l5,type_2HDM=typeI_h):\n",
    "    return numeric_sum_diagrams(ms,2,3,mHpm, mA, alpha, beta, l5,\n",
    "                                   type_2HDM=type_2HDM,quirality='R')(m6)\n",
    "\n",
    "\n",
    "def ALtot13(ms,m6,mHpm, mA, alpha, beta, l5,type_2HDM=typeI_h):\n",
    "    return numeric_sum_diagrams(ms,1,3,mHpm, mA, alpha, beta, l5,\n",
    "                                   type_2HDM=type_2HDM,quirality='L')(m6)\n",
    "def ARtot13(ms,m6,mHpm, mA, alpha, beta, l5,type_2HDM=typeI_h):\n",
    "    return numeric_sum_diagrams(ms,1,3,mHpm, mA, alpha, beta, l5,\n",
    "                                   type_2HDM=type_2HDM,quirality='R')(m6)\n",
    "\n",
    "\n",
    "def ALtot12(ms,m6,mHpm, mA, alpha, beta, l5,type_2HDM=typeI_h):\n",
    "    return numeric_sum_diagrams(ms,1,2,mHpm, mA, alpha, beta, l5,\n",
    "                                   type_2HDM=type_2HDM,quirality='L')(m6)\n",
    "def ARtot12(ms,m6,mHpm, mA, alpha, beta, l5,type_2HDM=typeI_h):\n",
    "    return numeric_sum_diagrams(ms,1,2,mHpm, mA, alpha, beta, l5,\n",
    "                                   type_2HDM=type_2HDM,quirality='R')(m6)\n"
   ]
  },
  {
   "cell_type": "code",
   "execution_count": 46,
   "metadata": {},
   "outputs": [
    {
     "name": "stdout",
     "output_type": "stream",
     "text": [
      "(0.0 + 0.0j)\n",
      "CPU times: user 3min 51s, sys: 136 ms, total: 3min 52s\n",
      "Wall time: 3min 53s\n"
     ]
    }
   ],
   "source": [
    "%%time\n",
    "print(ALtot23(125.1,1e-12,500,600, 0.1, 0.2, 0.2,\n",
    "type_2HDM=typeI_h))"
   ]
  },
  {
   "cell_type": "markdown",
   "metadata": {},
   "source": [
    "## Width decay of $h \\to e_a e_b$"
   ]
  },
  {
   "cell_type": "code",
   "execution_count": 47,
   "metadata": {},
   "outputs": [],
   "source": [
    "from OneLoopLFVHD import Γhlilj \n",
    "# def Γhlilj(ML,MR,ma=mpf('125.18'),mi=ml[2],mj=ml[3]):\n",
    "#     r = 1/(8 *pi* ma)*sqrt((1-((mi**2+mj**2)/ma)**2)*(1-((mi**2-mj**2)/ma)**2))*((ma**2 - mi**2 - mj**2)*(abs(ML)**2 + abs(MR)**2)-4*mi*mj*re(ML*conj(MR)))\n",
    "#     return r"
   ]
  },
  {
   "cell_type": "code",
   "execution_count": 48,
   "metadata": {},
   "outputs": [],
   "source": [
    "def betaf(tb):\n",
    "    return np.arctan(tb)\n",
    "def alphaf(tb,x0=0.01):\n",
    "    return np.arctan(tb) - np.arccos(x0)"
   ]
  },
  {
   "cell_type": "code",
   "execution_count": 50,
   "metadata": {},
   "outputs": [],
   "source": [
    "mHpm_val = 1500.0 \n",
    "mA_val = 1300.0\n",
    "l5_val = 1\n",
    "m6_val = 1e15\n",
    "mh_val = 125.1\n",
    "# Φ =2"
   ]
  },
  {
   "cell_type": "code",
   "execution_count": 51,
   "metadata": {},
   "outputs": [],
   "source": [
    "def Γhl2l3_2HDM(tb,type_2HDM=typeI_h):\n",
    "    AL = ALtot23(ms=mh_val,m6=m6_val,mHpm=mHpm_val, mA=mA_val,\n",
    "                 alpha=alphaf(tb), beta=betaf(tb), l5=l5_val,type_2HDM=type_2HDM)\n",
    "    AR = ARtot23(ms=mh_val,m6=m6_val,mHpm=mHpm_val, mA=mA_val,\n",
    "                 alpha=alphaf(tb), beta=betaf(tb), l5=l5_val,type_2HDM=type_2HDM)\n",
    "    return Γhlilj(AL,AR,ma=mh_val,mi=ml_np[2],mj=ml_np[3])\n",
    "\n",
    "def Γhl1l3_2HDM(tb,type_2HDM=typeI_h):\n",
    "    AL = ALtot13(ms=mh_val,m6=m6_val,mHpm=mHpm_val, mA=mA_val,\n",
    "                 alpha=alphaf(tb), beta=betaf(tb), l5=l5_val,type_2HDM=type_2HDM)\n",
    "    AR = ARtot13(ms=mh_val,m6=m6_val,mHpm=mHpm_val, mA=mA_val,\n",
    "                 alpha=alphaf(tb), beta=betaf(tb), l5=l5_val,type_2HDM=type_2HDM)\n",
    "    return Γhlilj(AL,AR,ma=mh_val,mi=ml_np[1],mj=ml_np[3])\n",
    "\n",
    "def Γhl1l2_2HDM(tb,type_2HDM=typeI_h):\n",
    "    AL = ALtot12(ms=mh_val,m6=m6_val,mHpm=mHpm_val, mA=mA_val,\n",
    "                 alpha=alphaf(tb), beta=betaf(tb), l5=l5_val,type_2HDM=type_2HDM)\n",
    "    AR = ARtot12(ms=mh_val,m6=m6_val,mHpm=mHpm_val, mA=mA_val,\n",
    "                 alpha=alphaf(tb), beta=betaf(tb), l5=l5_val,type_2HDM=type_2HDM)\n",
    "    return Γhlilj(AL,AR,ma=mh_val,mi=ml_np[1],mj=ml_np[2])"
   ]
  },
  {
   "cell_type": "code",
   "execution_count": 52,
   "metadata": {},
   "outputs": [
    {
     "name": "stdout",
     "output_type": "stream",
     "text": [
      "0.0\n",
      "0.0\n",
      "CPU times: user 16min 23s, sys: 1.01 s, total: 16min 24s\n",
      "Wall time: 16min 34s\n"
     ]
    }
   ],
   "source": [
    "%%time\n",
    "print(Γhl1l2_2HDM(0.1,type_2HDM=typeI_h))\n",
    "print(Γhl1l2_2HDM(0.1,type_2HDM=typeI_h))"
   ]
  },
  {
   "cell_type": "code",
   "execution_count": 53,
   "metadata": {},
   "outputs": [],
   "source": [
    "def speedup_array(f,array,procs=4): \n",
    "    pool = Pool(procs,maxtasksperchild=100).map(f, array)\n",
    "    result = np.array(list(pool))\n",
    "    pool.close()\n",
    "    return result"
   ]
  },
  {
   "cell_type": "code",
   "execution_count": 54,
   "metadata": {},
   "outputs": [],
   "source": [
    "n = 5\n",
    "# tbmp = linspace(0.1,100,n)\n",
    "# expmp = linspace(-1,2,n)\n",
    "# tbmp = np.array([mpf('10.0')**k for k in expmp])#np.logspace(-1,15,n)\n",
    "tbmp = np.logspace(-1,2,n)"
   ]
  },
  {
   "cell_type": "code",
   "execution_count": 66,
   "metadata": {},
   "outputs": [
    {
     "ename": "TypeError",
     "evalue": "Γhlilj() got an unexpected keyword argument 'mi'",
     "output_type": "error",
     "traceback": [
      "\u001b[0;31m---------------------------------------------------------------------------\u001b[0m",
      "\u001b[0;31mRemoteTraceback\u001b[0m                           Traceback (most recent call last)",
      "\u001b[0;31mRemoteTraceback\u001b[0m: \n\"\"\"\nTraceback (most recent call last):\n  File \"/home/moiseszm/miniconda3/lib/python3.7/multiprocessing/pool.py\", line 121, in worker\n    result = (True, func(*args, **kwds))\n  File \"/home/moiseszm/miniconda3/lib/python3.7/multiprocessing/pool.py\", line 44, in mapstar\n    return list(map(*args))\n  File \"/tmp/ipykernel_128253/2030672425.py\", line 6, in Γhl2l3_2HDM\n    return Γhlilj(AL,AR,ma=mh_val,mi=ml[2],mj=ml[3])\nTypeError: Γhlilj() got an unexpected keyword argument 'mi'\n\"\"\"",
      "\nThe above exception was the direct cause of the following exception:\n",
      "\u001b[0;31mTypeError\u001b[0m                                 Traceback (most recent call last)",
      "\u001b[0;32m<timed exec>\u001b[0m in \u001b[0;36m<module>\u001b[0;34m\u001b[0m\n",
      "\u001b[0;32m/tmp/ipykernel_128253/885864338.py\u001b[0m in \u001b[0;36mspeedup_array\u001b[0;34m(f, array, procs)\u001b[0m\n\u001b[1;32m      1\u001b[0m \u001b[0;32mdef\u001b[0m \u001b[0mspeedup_array\u001b[0m\u001b[0;34m(\u001b[0m\u001b[0mf\u001b[0m\u001b[0;34m,\u001b[0m\u001b[0marray\u001b[0m\u001b[0;34m,\u001b[0m\u001b[0mprocs\u001b[0m\u001b[0;34m=\u001b[0m\u001b[0;36m4\u001b[0m\u001b[0;34m)\u001b[0m\u001b[0;34m:\u001b[0m\u001b[0;34m\u001b[0m\u001b[0;34m\u001b[0m\u001b[0m\n\u001b[0;32m----> 2\u001b[0;31m     \u001b[0mpool\u001b[0m \u001b[0;34m=\u001b[0m \u001b[0mPool\u001b[0m\u001b[0;34m(\u001b[0m\u001b[0mprocs\u001b[0m\u001b[0;34m,\u001b[0m\u001b[0mmaxtasksperchild\u001b[0m\u001b[0;34m=\u001b[0m\u001b[0;36m100\u001b[0m\u001b[0;34m)\u001b[0m\u001b[0;34m.\u001b[0m\u001b[0mmap\u001b[0m\u001b[0;34m(\u001b[0m\u001b[0mf\u001b[0m\u001b[0;34m,\u001b[0m \u001b[0marray\u001b[0m\u001b[0;34m)\u001b[0m\u001b[0;34m\u001b[0m\u001b[0;34m\u001b[0m\u001b[0m\n\u001b[0m\u001b[1;32m      3\u001b[0m     \u001b[0mresult\u001b[0m \u001b[0;34m=\u001b[0m \u001b[0mnp\u001b[0m\u001b[0;34m.\u001b[0m\u001b[0marray\u001b[0m\u001b[0;34m(\u001b[0m\u001b[0mlist\u001b[0m\u001b[0;34m(\u001b[0m\u001b[0mpool\u001b[0m\u001b[0;34m)\u001b[0m\u001b[0;34m)\u001b[0m\u001b[0;34m\u001b[0m\u001b[0;34m\u001b[0m\u001b[0m\n\u001b[1;32m      4\u001b[0m     \u001b[0mpool\u001b[0m\u001b[0;34m.\u001b[0m\u001b[0mclose\u001b[0m\u001b[0;34m(\u001b[0m\u001b[0;34m)\u001b[0m\u001b[0;34m\u001b[0m\u001b[0;34m\u001b[0m\u001b[0m\n\u001b[1;32m      5\u001b[0m     \u001b[0;32mreturn\u001b[0m \u001b[0mresult\u001b[0m\u001b[0;34m\u001b[0m\u001b[0;34m\u001b[0m\u001b[0m\n",
      "\u001b[0;32m~/miniconda3/lib/python3.7/multiprocessing/pool.py\u001b[0m in \u001b[0;36mmap\u001b[0;34m(self, func, iterable, chunksize)\u001b[0m\n\u001b[1;32m    266\u001b[0m         \u001b[0;32min\u001b[0m \u001b[0ma\u001b[0m \u001b[0mlist\u001b[0m \u001b[0mthat\u001b[0m \u001b[0;32mis\u001b[0m \u001b[0mreturned\u001b[0m\u001b[0;34m.\u001b[0m\u001b[0;34m\u001b[0m\u001b[0;34m\u001b[0m\u001b[0m\n\u001b[1;32m    267\u001b[0m         '''\n\u001b[0;32m--> 268\u001b[0;31m         \u001b[0;32mreturn\u001b[0m \u001b[0mself\u001b[0m\u001b[0;34m.\u001b[0m\u001b[0m_map_async\u001b[0m\u001b[0;34m(\u001b[0m\u001b[0mfunc\u001b[0m\u001b[0;34m,\u001b[0m \u001b[0miterable\u001b[0m\u001b[0;34m,\u001b[0m \u001b[0mmapstar\u001b[0m\u001b[0;34m,\u001b[0m \u001b[0mchunksize\u001b[0m\u001b[0;34m)\u001b[0m\u001b[0;34m.\u001b[0m\u001b[0mget\u001b[0m\u001b[0;34m(\u001b[0m\u001b[0;34m)\u001b[0m\u001b[0;34m\u001b[0m\u001b[0;34m\u001b[0m\u001b[0m\n\u001b[0m\u001b[1;32m    269\u001b[0m \u001b[0;34m\u001b[0m\u001b[0m\n\u001b[1;32m    270\u001b[0m     \u001b[0;32mdef\u001b[0m \u001b[0mstarmap\u001b[0m\u001b[0;34m(\u001b[0m\u001b[0mself\u001b[0m\u001b[0;34m,\u001b[0m \u001b[0mfunc\u001b[0m\u001b[0;34m,\u001b[0m \u001b[0miterable\u001b[0m\u001b[0;34m,\u001b[0m \u001b[0mchunksize\u001b[0m\u001b[0;34m=\u001b[0m\u001b[0;32mNone\u001b[0m\u001b[0;34m)\u001b[0m\u001b[0;34m:\u001b[0m\u001b[0;34m\u001b[0m\u001b[0;34m\u001b[0m\u001b[0m\n",
      "\u001b[0;32m~/miniconda3/lib/python3.7/multiprocessing/pool.py\u001b[0m in \u001b[0;36mget\u001b[0;34m(self, timeout)\u001b[0m\n\u001b[1;32m    655\u001b[0m             \u001b[0;32mreturn\u001b[0m \u001b[0mself\u001b[0m\u001b[0;34m.\u001b[0m\u001b[0m_value\u001b[0m\u001b[0;34m\u001b[0m\u001b[0;34m\u001b[0m\u001b[0m\n\u001b[1;32m    656\u001b[0m         \u001b[0;32melse\u001b[0m\u001b[0;34m:\u001b[0m\u001b[0;34m\u001b[0m\u001b[0;34m\u001b[0m\u001b[0m\n\u001b[0;32m--> 657\u001b[0;31m             \u001b[0;32mraise\u001b[0m \u001b[0mself\u001b[0m\u001b[0;34m.\u001b[0m\u001b[0m_value\u001b[0m\u001b[0;34m\u001b[0m\u001b[0;34m\u001b[0m\u001b[0m\n\u001b[0m\u001b[1;32m    658\u001b[0m \u001b[0;34m\u001b[0m\u001b[0m\n\u001b[1;32m    659\u001b[0m     \u001b[0;32mdef\u001b[0m \u001b[0m_set\u001b[0m\u001b[0;34m(\u001b[0m\u001b[0mself\u001b[0m\u001b[0;34m,\u001b[0m \u001b[0mi\u001b[0m\u001b[0;34m,\u001b[0m \u001b[0mobj\u001b[0m\u001b[0;34m)\u001b[0m\u001b[0;34m:\u001b[0m\u001b[0;34m\u001b[0m\u001b[0;34m\u001b[0m\u001b[0m\n",
      "\u001b[0;31mTypeError\u001b[0m: Γhlilj() got an unexpected keyword argument 'mi'"
     ]
    }
   ],
   "source": [
    "%%time\n",
    "YW23 = speedup_array(Γhl2l3_2HDM,tbmp)\n",
    "\n",
    "YW13 = speedup_array(Γhl1l3_2HDM,tbmp)\n",
    "\n",
    "YW12 = speedup_array(Γhl1l2_2HDM,tbmp)\n"
   ]
  },
  {
   "cell_type": "markdown",
   "metadata": {},
   "source": [
    "### Aproximation"
   ]
  },
  {
   "cell_type": "code",
   "execution_count": 59,
   "metadata": {},
   "outputs": [],
   "source": [
    "def Γhlilj(ML,MR,ma=125.18):\n",
    "    maij = ma**2# - mi**2 - mj**2\n",
    "    # print('maij = ',maij)\n",
    "    A = maij*(np.abs(ML)**2 + np.abs(MR)**2)\n",
    "    #B = 4*mi*mj*np.real(ML*np.conj(MR))\n",
    "    #print('A = ')\n",
    "    #nprint(A)\n",
    "    #print('B = ',B)\n",
    "    r = 1/(8*np.pi* ma)*(A)\n",
    "    return r"
   ]
  },
  {
   "cell_type": "code",
   "execution_count": 60,
   "metadata": {},
   "outputs": [],
   "source": [
    "def Γhl2l3_2HDM_approx(tb,H_a='h',type_2HDM='I'):\n",
    "    AL = ALtot23(ms=mh_val,m6=m6_val,mHpm=mHpm_val, mA=mA_val,\n",
    "                 alpha=alphaf(tb), beta=betaf(tb), l5=l5_val,H_a=H_a,type_2HDM=type_2HDM)\n",
    "    AR = ARtot23(ms=mh_val,m6=m6_val,mHpm=mHpm_val, mA=mA_val,\n",
    "                 alpha=alphaf(tb), beta=betaf(tb), l5=l5_val,H_a=H_a,type_2HDM=type_2HDM)\n",
    "    return Γhlilj(AL,AR,ma=mh_val)\n",
    "\n",
    "def Γhl1l3_2HDM_approx(tb,H_a='h',type_2HDM='I'):\n",
    "    AL = ALtot13(ms=mh_val,m6=m6_val,mHpm=mHpm_val, mA=mA_val,\n",
    "                 alpha=alphaf(tb), beta=betaf(tb), l5=l5_val,H_a=H_a,type_2HDM=type_2HDM)\n",
    "    AR = ARtot13(ms=mh_val,m6=m6_val,mHpm=mHpm_val, mA=mA_val,\n",
    "                 alpha=alphaf(tb), beta=betaf(tb), l5=l5_val,H_a=H_a,type_2HDM=type_2HDM)\n",
    "    return Γhlilj(AL,AR,ma=mh_val)\n",
    "\n",
    "def Γhl1l2_2HDM_approx(tb,H_a='h',type_2HDM='I'):\n",
    "    AL = ALtot12(ms=mh_val,m6=m6_val,mHpm=mHpm_val, mA=mA_val,\n",
    "                 alpha=alphaf(tb), beta=betaf(tb), l5=l5_val,H_a=H_a,type_2HDM=type_2HDM)\n",
    "    AR = ARtot12(ms=mh_val,m6=m6_val,mHpm=mHpm_val, mA=mA_val,\n",
    "                 alpha=alphaf(tb), beta=betaf(tb), l5=l5_val,H_a=H_a,type_2HDM=type_2HDM)\n",
    "    return Γhlilj(AL,AR,ma=mh_val)"
   ]
  },
  {
   "cell_type": "code",
   "execution_count": 77,
   "metadata": {},
   "outputs": [
    {
     "name": "stdout",
     "output_type": "stream",
     "text": [
      "A = \n",
      "5.42733e-11\n",
      "1.72619e-14\n",
      "A = \n",
      "3.31027e-8\n",
      "1.05285e-11\n",
      "CPU times: user 13min 19s, sys: 644 ms, total: 13min 20s\n",
      "Wall time: 13min 20s\n"
     ]
    }
   ],
   "source": [
    "%%time\n",
    "nprint(Γhl1l2_2HDM_approx(1.0,H_a='h',type_2HDM='I'))\n",
    "nprint(Γhl1l2_2HDM_approx(1.0,H_a='H',type_2HDM='I'))"
   ]
  },
  {
   "cell_type": "code",
   "execution_count": 61,
   "metadata": {},
   "outputs": [],
   "source": [
    "n = 3\n",
    "# tbmp = linspace(0.1,100,n)\n",
    "expmp = linspace(-1,2,n)\n",
    "tbmp = np.array([mpf('10.0')**k for k in expmp])#np.logspace(-1,15,n)"
   ]
  },
  {
   "cell_type": "code",
   "execution_count": 62,
   "metadata": {},
   "outputs": [
    {
     "ename": "TypeError",
     "evalue": "ALtot23() got an unexpected keyword argument 'H_a'",
     "output_type": "error",
     "traceback": [
      "\u001b[0;31m---------------------------------------------------------------------------\u001b[0m",
      "\u001b[0;31mRemoteTraceback\u001b[0m                           Traceback (most recent call last)",
      "\u001b[0;31mRemoteTraceback\u001b[0m: \n\"\"\"\nTraceback (most recent call last):\n  File \"/home/moiseszm/miniconda3/lib/python3.7/multiprocessing/pool.py\", line 121, in worker\n    result = (True, func(*args, **kwds))\n  File \"/home/moiseszm/miniconda3/lib/python3.7/multiprocessing/pool.py\", line 44, in mapstar\n    return list(map(*args))\n  File \"/tmp/ipykernel_128253/3884490469.py\", line 3, in Γhl2l3_2HDM_approx\n    alpha=alphaf(tb), beta=betaf(tb), l5=l5_val,H_a=H_a,type_2HDM=type_2HDM)\nTypeError: ALtot23() got an unexpected keyword argument 'H_a'\n\"\"\"",
      "\nThe above exception was the direct cause of the following exception:\n",
      "\u001b[0;31mTypeError\u001b[0m                                 Traceback (most recent call last)",
      "\u001b[0;32m<timed exec>\u001b[0m in \u001b[0;36m<module>\u001b[0;34m\u001b[0m\n",
      "\u001b[0;32m/tmp/ipykernel_128253/885864338.py\u001b[0m in \u001b[0;36mspeedup_array\u001b[0;34m(f, array, procs)\u001b[0m\n\u001b[1;32m      1\u001b[0m \u001b[0;32mdef\u001b[0m \u001b[0mspeedup_array\u001b[0m\u001b[0;34m(\u001b[0m\u001b[0mf\u001b[0m\u001b[0;34m,\u001b[0m\u001b[0marray\u001b[0m\u001b[0;34m,\u001b[0m\u001b[0mprocs\u001b[0m\u001b[0;34m=\u001b[0m\u001b[0;36m4\u001b[0m\u001b[0;34m)\u001b[0m\u001b[0;34m:\u001b[0m\u001b[0;34m\u001b[0m\u001b[0;34m\u001b[0m\u001b[0m\n\u001b[0;32m----> 2\u001b[0;31m     \u001b[0mpool\u001b[0m \u001b[0;34m=\u001b[0m \u001b[0mPool\u001b[0m\u001b[0;34m(\u001b[0m\u001b[0mprocs\u001b[0m\u001b[0;34m,\u001b[0m\u001b[0mmaxtasksperchild\u001b[0m\u001b[0;34m=\u001b[0m\u001b[0;36m100\u001b[0m\u001b[0;34m)\u001b[0m\u001b[0;34m.\u001b[0m\u001b[0mmap\u001b[0m\u001b[0;34m(\u001b[0m\u001b[0mf\u001b[0m\u001b[0;34m,\u001b[0m \u001b[0marray\u001b[0m\u001b[0;34m)\u001b[0m\u001b[0;34m\u001b[0m\u001b[0;34m\u001b[0m\u001b[0m\n\u001b[0m\u001b[1;32m      3\u001b[0m     \u001b[0mresult\u001b[0m \u001b[0;34m=\u001b[0m \u001b[0mnp\u001b[0m\u001b[0;34m.\u001b[0m\u001b[0marray\u001b[0m\u001b[0;34m(\u001b[0m\u001b[0mlist\u001b[0m\u001b[0;34m(\u001b[0m\u001b[0mpool\u001b[0m\u001b[0;34m)\u001b[0m\u001b[0;34m)\u001b[0m\u001b[0;34m\u001b[0m\u001b[0;34m\u001b[0m\u001b[0m\n\u001b[1;32m      4\u001b[0m     \u001b[0mpool\u001b[0m\u001b[0;34m.\u001b[0m\u001b[0mclose\u001b[0m\u001b[0;34m(\u001b[0m\u001b[0;34m)\u001b[0m\u001b[0;34m\u001b[0m\u001b[0;34m\u001b[0m\u001b[0m\n\u001b[1;32m      5\u001b[0m     \u001b[0;32mreturn\u001b[0m \u001b[0mresult\u001b[0m\u001b[0;34m\u001b[0m\u001b[0;34m\u001b[0m\u001b[0m\n",
      "\u001b[0;32m~/miniconda3/lib/python3.7/multiprocessing/pool.py\u001b[0m in \u001b[0;36mmap\u001b[0;34m(self, func, iterable, chunksize)\u001b[0m\n\u001b[1;32m    266\u001b[0m         \u001b[0;32min\u001b[0m \u001b[0ma\u001b[0m \u001b[0mlist\u001b[0m \u001b[0mthat\u001b[0m \u001b[0;32mis\u001b[0m \u001b[0mreturned\u001b[0m\u001b[0;34m.\u001b[0m\u001b[0;34m\u001b[0m\u001b[0;34m\u001b[0m\u001b[0m\n\u001b[1;32m    267\u001b[0m         '''\n\u001b[0;32m--> 268\u001b[0;31m         \u001b[0;32mreturn\u001b[0m \u001b[0mself\u001b[0m\u001b[0;34m.\u001b[0m\u001b[0m_map_async\u001b[0m\u001b[0;34m(\u001b[0m\u001b[0mfunc\u001b[0m\u001b[0;34m,\u001b[0m \u001b[0miterable\u001b[0m\u001b[0;34m,\u001b[0m \u001b[0mmapstar\u001b[0m\u001b[0;34m,\u001b[0m \u001b[0mchunksize\u001b[0m\u001b[0;34m)\u001b[0m\u001b[0;34m.\u001b[0m\u001b[0mget\u001b[0m\u001b[0;34m(\u001b[0m\u001b[0;34m)\u001b[0m\u001b[0;34m\u001b[0m\u001b[0;34m\u001b[0m\u001b[0m\n\u001b[0m\u001b[1;32m    269\u001b[0m \u001b[0;34m\u001b[0m\u001b[0m\n\u001b[1;32m    270\u001b[0m     \u001b[0;32mdef\u001b[0m \u001b[0mstarmap\u001b[0m\u001b[0;34m(\u001b[0m\u001b[0mself\u001b[0m\u001b[0;34m,\u001b[0m \u001b[0mfunc\u001b[0m\u001b[0;34m,\u001b[0m \u001b[0miterable\u001b[0m\u001b[0;34m,\u001b[0m \u001b[0mchunksize\u001b[0m\u001b[0;34m=\u001b[0m\u001b[0;32mNone\u001b[0m\u001b[0;34m)\u001b[0m\u001b[0;34m:\u001b[0m\u001b[0;34m\u001b[0m\u001b[0;34m\u001b[0m\u001b[0m\n",
      "\u001b[0;32m~/miniconda3/lib/python3.7/multiprocessing/pool.py\u001b[0m in \u001b[0;36mget\u001b[0;34m(self, timeout)\u001b[0m\n\u001b[1;32m    655\u001b[0m             \u001b[0;32mreturn\u001b[0m \u001b[0mself\u001b[0m\u001b[0;34m.\u001b[0m\u001b[0m_value\u001b[0m\u001b[0;34m\u001b[0m\u001b[0;34m\u001b[0m\u001b[0m\n\u001b[1;32m    656\u001b[0m         \u001b[0;32melse\u001b[0m\u001b[0;34m:\u001b[0m\u001b[0;34m\u001b[0m\u001b[0;34m\u001b[0m\u001b[0m\n\u001b[0;32m--> 657\u001b[0;31m             \u001b[0;32mraise\u001b[0m \u001b[0mself\u001b[0m\u001b[0;34m.\u001b[0m\u001b[0m_value\u001b[0m\u001b[0;34m\u001b[0m\u001b[0;34m\u001b[0m\u001b[0m\n\u001b[0m\u001b[1;32m    658\u001b[0m \u001b[0;34m\u001b[0m\u001b[0m\n\u001b[1;32m    659\u001b[0m     \u001b[0;32mdef\u001b[0m \u001b[0m_set\u001b[0m\u001b[0;34m(\u001b[0m\u001b[0mself\u001b[0m\u001b[0;34m,\u001b[0m \u001b[0mi\u001b[0m\u001b[0;34m,\u001b[0m \u001b[0mobj\u001b[0m\u001b[0;34m)\u001b[0m\u001b[0;34m:\u001b[0m\u001b[0;34m\u001b[0m\u001b[0;34m\u001b[0m\u001b[0m\n",
      "\u001b[0;31mTypeError\u001b[0m: ALtot23() got an unexpected keyword argument 'H_a'"
     ]
    }
   ],
   "source": [
    "%%time\n",
    "YW23 = speedup_array(Γhl2l3_2HDM_approx,tbmp)\n",
    "\n",
    "YW13 = speedup_array(Γhl1l3_2HDM_approx,tbmp)\n",
    "\n",
    "YW12 = speedup_array(Γhl1l2_2HDM_approx,tbmp)\n"
   ]
  },
  {
   "cell_type": "code",
   "execution_count": 83,
   "metadata": {},
   "outputs": [
    {
     "ename": "NameError",
     "evalue": "name 'YW23' is not defined",
     "output_type": "error",
     "traceback": [
      "\u001b[0;31m---------------------------------------------------------------------------\u001b[0m",
      "\u001b[0;31mNameError\u001b[0m                                 Traceback (most recent call last)",
      "\u001b[0;32m/tmp/ipykernel_16579/147617218.py\u001b[0m in \u001b[0;36m<module>\u001b[0;34m\u001b[0m\n\u001b[0;32m----> 1\u001b[0;31m \u001b[0mWtot\u001b[0m \u001b[0;34m=\u001b[0m \u001b[0mYW23\u001b[0m \u001b[0;34m+\u001b[0m \u001b[0mYW13\u001b[0m \u001b[0;34m+\u001b[0m \u001b[0mYW12\u001b[0m \u001b[0;34m+\u001b[0m \u001b[0;36m0.0032\u001b[0m\u001b[0;31m# + YW32 + YW31 + YW21\u001b[0m\u001b[0;34m\u001b[0m\u001b[0;34m\u001b[0m\u001b[0m\n\u001b[0m",
      "\u001b[0;31mNameError\u001b[0m: name 'YW23' is not defined"
     ]
    }
   ],
   "source": [
    "Wtot = YW23 + YW13 + YW12 + 0.0032# + YW32 + YW31 + YW21"
   ]
  },
  {
   "cell_type": "code",
   "execution_count": null,
   "metadata": {},
   "outputs": [],
   "source": [
    "plt.figure(figsize=(15,8))\n",
    "plt.loglog(np.real(tbmp),(YW23)/Wtot,label=r'Br($h \\to \\mu \\tau$)')\n",
    "plt.loglog(np.real(tbmp),(YW13)/Wtot,label=r'Br($h \\to e \\tau$)')\n",
    "plt.loglog(np.real(tbmp),(YW12)/Wtot,label=r'Br($h \\to e \\mu$)')\n",
    "\n",
    "# Horizontal lines\n",
    "plt.hlines(1e-9,0.1,1e2,linestyles='-.',label=r'$1\\times 10^{-9}$')\n",
    "plt.hlines(1e-46,0.1,1e2,linestyles='--',color='b',label=r'$1\\times 10^{-46}$')\n",
    "\n",
    "# Vertical lines\n",
    "plt.vlines(1,1e-46,1e-9,linestyles='--',color='r',label=r'$\\tan{\\beta}=1$')\n",
    "\n",
    "#Axis\n",
    "#plt.yticks([1e-49,1e-39,1e-29,1e-19,1e-9],fontsize=18)\n",
    "#plt.xticks([0.1,1,10,100],fontsize=18)\n",
    "plt.xlabel(r'$\\tan{\\beta}$',fontsize=18)\n",
    "plt.ylabel(r'$\\mathcal{BR}(h \\to e_a e_b)$',fontsize=18)\n",
    "\n",
    "\n",
    "plt.title(r'$m_A=800$ GeV, $m_{H^{\\pm}}=1000$ GeV, $m_{n_6}={10^{10}}$ GeV,$\\lambda_5=0.1$',fontsize=18)\n",
    "plt.legend(fontsize=18,frameon=True,ncol=2,loc=4)\n",
    "#plt.savefig('2HDM-lepton-specific-Cba0.95-caso5.png',dpi=100)"
   ]
  },
  {
   "cell_type": "code",
   "execution_count": 66,
   "metadata": {},
   "outputs": [],
   "source": [
    "import pandas as pd"
   ]
  },
  {
   "cell_type": "code",
   "execution_count": 67,
   "metadata": {},
   "outputs": [],
   "source": [
    "df = pd.DataFrame({'tb':tbmp,\n",
    "                   'Whl2l3':YW23,\n",
    "                   #'Whl3l2':YW32,\n",
    "                   'Whl1l3':YW13,\n",
    "                   #'Whl3l1':YW31,\n",
    "                   'Whl1l2':YW12})\n",
    "                   #'Whl2l1':YW21})"
   ]
  },
  {
   "cell_type": "markdown",
   "metadata": {
    "tags": []
   },
   "source": [
    "## Casos 2HDM type I"
   ]
  },
  {
   "cell_type": "code",
   "execution_count": null,
   "metadata": {},
   "outputs": [],
   "source": [
    "#type I cos(beta - alpha)=0.95 1 mHpm >mA caso 1\n",
    "# mHpm_val = mp.mpf('1000.0')\n",
    "# mA_val = mp.mpf('800.0')\n",
    "# l5_val = mp.mpf('0.1')\n",
    "# m6_val = mp.mpf('1e10') <--------\n",
    "# Φ = 2\n",
    "\n",
    "#type I cos(beta - alpha)=0.95 1 mHpm >mA caso 2\n",
    "# mHpm_val = mp.mpf('1000.0')\n",
    "# mA_val = mp.mpf('800.0')\n",
    "# l5_val = mp.mpf('0.1')\n",
    "# m6_val = mp.mpf('1e15') <--------\n",
    "# Φ = 2\n",
    "\n",
    "#type I cos(beta - alpha)=0.95 1 mHpm >mA caso 3\n",
    "# mHpm_val = mp.mpf('1000.0')\n",
    "# mA_val = mp.mpf('800.0')\n",
    "# l5_val = mp.mpf('1') <--------\n",
    "# m6_val = mp.mpf('1e15')\n",
    "# Φ = 2\n",
    "\n",
    "#type I cos(beta - alpha)=0.95 1 mHpm >mA caso 4\n",
    "# mHpm_val = mp.mpf('1500.0') <--------\n",
    "# mA_val = mp.mpf('1300.0') <--------\n",
    "# l5_val = mp.mpf('1') <--------\n",
    "# m6_val = mp.mpf('1e15')\n",
    "# Φ =2"
   ]
  },
  {
   "cell_type": "markdown",
   "metadata": {},
   "source": [
    "## Casos 2HDM Lepton-Specific"
   ]
  },
  {
   "cell_type": "code",
   "execution_count": null,
   "metadata": {},
   "outputs": [],
   "source": [
    "# Lepton-specific cos(beta - alpha)=0.95 mHpm >mA caso 1\n",
    "# mHpm_val = mp.mpf('1000.0')\n",
    "# mA_val = mp.mpf('800.0')\n",
    "# l5_val = mp.mpf('0.1')\n",
    "# m6_val = mp.mpf('1e10') <--------\n",
    "# Φ = 1\n",
    "\n",
    "# Lepton-specific cos(beta - alpha)=0.95 mHpm >mA caso 2\n",
    "# mHpm_val = mp.mpf('1000.0')\n",
    "# mA_val = mp.mpf('800.0')\n",
    "# l5_val = mp.mpf('0.1')\n",
    "# m6_val = mp.mpf('1e15') \n",
    "# Φ = 1\n",
    "\n",
    "# Lepton-specific cos(beta - alpha)=0.95 1 mHpm >mA caso 3\n",
    "# mHpm_val = mp.mpf('1000.0')\n",
    "# mA_val = mp.mpf('800.0')\n",
    "# l5_val = mp.mpf('1') <--------\n",
    "# m6_val = mp.mpf('1e15')\n",
    "# Φ = 2\n",
    "\n",
    "# Lepton-specific cos(beta - alpha)=0.95 1 mHpm >mA caso 4\n",
    "# mHpm_val = mp.mpf('1500.0') <--------\n",
    "# mA_val = mp.mpf('1300.0') <--------\n",
    "# l5_val = mp.mpf('1') <--------\n",
    "# m6_val = mp.mpf('1e15')\n",
    "# Φ =2"
   ]
  },
  {
   "cell_type": "code",
   "execution_count": 68,
   "metadata": {},
   "outputs": [],
   "source": [
    "df.to_csv('Lepton_specific_Cab095_caso5_mA800_mHpm1000.txt',sep='\\t')"
   ]
  },
  {
   "cell_type": "code",
   "execution_count": 69,
   "metadata": {},
   "outputs": [
    {
     "data": {
      "text/plain": [
       "[<matplotlib.lines.Line2D at 0x7f1351f3f4c0>]"
      ]
     },
     "execution_count": 69,
     "metadata": {},
     "output_type": "execute_result"
    },
    {
     "data": {
      "image/png": "[encoded data removed]",
      "text/plain": [
       "<Figure size 432x288 with 1 Axes>"
      ]
     },
     "metadata": {
      "needs_background": "light"
     },
     "output_type": "display_data"
    }
   ],
   "source": [
    "plt.loglog(np.array(list(map(mpf,df['tb']))),np.array(list(map(mpf,df['Whl2l3']))))"
   ]
  },
  {
   "cell_type": "code",
   "execution_count": null,
   "metadata": {},
   "outputs": [],
   "source": []
  }
 ],
 "metadata": {
  "kernelspec": {
   "display_name": "Python 3 (ipykernel)",
   "language": "python",
   "name": "python3"
  },
  "language_info": {
   "codemirror_mode": {
    "name": "ipython",
    "version": 3
   },
   "file_extension": ".py",
   "mimetype": "text/x-python",
   "name": "python",
   "nbconvert_exporter": "python",
   "pygments_lexer": "ipython3",
   "version": "3.7.6"
  }
 },
 "nbformat": 4,
 "nbformat_minor": 4
}
